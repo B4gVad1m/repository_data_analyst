{
 "cells": [
  {
   "cell_type": "markdown",
   "metadata": {
    "toc": true
   },
   "source": [
    "<h1>Содержание<span class=\"tocSkip\"></span></h1>\n",
    "<div class=\"toc\"><ul class=\"toc-item\"><li><span><a href=\"#Изучение-данных-из-файла\" data-toc-modified-id=\"Изучение-данных-из-файла-1\"><span class=\"toc-item-num\">1&nbsp;&nbsp;</span>Изучение данных из файла</a></span><ul class=\"toc-item\"><li><span><a href=\"#Вывод\" data-toc-modified-id=\"Вывод-1.1\"><span class=\"toc-item-num\">1.1&nbsp;&nbsp;</span>Вывод</a></span></li></ul></li><li><span><a href=\"#Предобработка-данных\" data-toc-modified-id=\"Предобработка-данных-2\"><span class=\"toc-item-num\">2&nbsp;&nbsp;</span>Предобработка данных</a></span></li><li><span><a href=\"#Расчёты-и-добавление-результатов-в-таблицу\" data-toc-modified-id=\"Расчёты-и-добавление-результатов-в-таблицу-3\"><span class=\"toc-item-num\">3&nbsp;&nbsp;</span>Расчёты и добавление результатов в таблицу</a></span></li><li><span><a href=\"#Исследовательский-анализ-данных\" data-toc-modified-id=\"Исследовательский-анализ-данных-4\"><span class=\"toc-item-num\">4&nbsp;&nbsp;</span>Исследовательский анализ данных</a></span></li><li><span><a href=\"#Общий-вывод\" data-toc-modified-id=\"Общий-вывод-5\"><span class=\"toc-item-num\">5&nbsp;&nbsp;</span>Общий вывод</a></span></li></ul></div>"
   ]
  },
  {
   "cell_type": "markdown",
   "metadata": {},
   "source": [
    "# Исследование объявлений о продаже квартир\n",
    "\n",
    "В вашем распоряжении данные сервиса Яндекc Недвижимость — архив объявлений о продаже квартир в Санкт-Петербурге и соседних населённых пунктах за несколько лет. Нужно научиться определять рыночную стоимость объектов недвижимости. Ваша задача — установить параметры. Это позволит построить автоматизированную систему: она отследит аномалии и мошенническую деятельность\n",
    "\n",
    "По каждой квартире на продажу доступны два вида данных. Первые вписаны пользователем, вторые получены автоматически на основе картографических данных. Например, расстояние до центра, аэропорта, ближайшего парка и водоёма"
   ]
  },
  {
   "cell_type": "markdown",
   "metadata": {},
   "source": [
    "## Изучение данных из файла"
   ]
  },
  {
   "cell_type": "code",
   "execution_count": 1,
   "metadata": {},
   "outputs": [],
   "source": [
    "# импортировал библиотеки\n",
    "import pandas as pd\n",
    "import matplotlib.pyplot as plt\n",
    "import seaborn as sns"
   ]
  },
  {
   "cell_type": "code",
   "execution_count": 2,
   "metadata": {},
   "outputs": [
    {
     "data": {
      "text/html": [
       "<div>\n",
       "<style scoped>\n",
       "    .dataframe tbody tr th:only-of-type {\n",
       "        vertical-align: middle;\n",
       "    }\n",
       "\n",
       "    .dataframe tbody tr th {\n",
       "        vertical-align: top;\n",
       "    }\n",
       "\n",
       "    .dataframe thead th {\n",
       "        text-align: right;\n",
       "    }\n",
       "</style>\n",
       "<table border=\"1\" class=\"dataframe\">\n",
       "  <thead>\n",
       "    <tr style=\"text-align: right;\">\n",
       "      <th></th>\n",
       "      <th>total_images</th>\n",
       "      <th>last_price</th>\n",
       "      <th>total_area</th>\n",
       "      <th>first_day_exposition</th>\n",
       "      <th>rooms</th>\n",
       "      <th>ceiling_height</th>\n",
       "      <th>floors_total</th>\n",
       "      <th>living_area</th>\n",
       "      <th>floor</th>\n",
       "      <th>is_apartment</th>\n",
       "      <th>...</th>\n",
       "      <th>kitchen_area</th>\n",
       "      <th>balcony</th>\n",
       "      <th>locality_name</th>\n",
       "      <th>airports_nearest</th>\n",
       "      <th>cityCenters_nearest</th>\n",
       "      <th>parks_around3000</th>\n",
       "      <th>parks_nearest</th>\n",
       "      <th>ponds_around3000</th>\n",
       "      <th>ponds_nearest</th>\n",
       "      <th>days_exposition</th>\n",
       "    </tr>\n",
       "  </thead>\n",
       "  <tbody>\n",
       "    <tr>\n",
       "      <th>0</th>\n",
       "      <td>20</td>\n",
       "      <td>13000000.0</td>\n",
       "      <td>108.0</td>\n",
       "      <td>2019-03-07T00:00:00</td>\n",
       "      <td>3</td>\n",
       "      <td>2.70</td>\n",
       "      <td>16.0</td>\n",
       "      <td>51.0</td>\n",
       "      <td>8</td>\n",
       "      <td>NaN</td>\n",
       "      <td>...</td>\n",
       "      <td>25.0</td>\n",
       "      <td>NaN</td>\n",
       "      <td>Санкт-Петербург</td>\n",
       "      <td>18863.0</td>\n",
       "      <td>16028.0</td>\n",
       "      <td>1.0</td>\n",
       "      <td>482.0</td>\n",
       "      <td>2.0</td>\n",
       "      <td>755.0</td>\n",
       "      <td>NaN</td>\n",
       "    </tr>\n",
       "    <tr>\n",
       "      <th>1</th>\n",
       "      <td>7</td>\n",
       "      <td>3350000.0</td>\n",
       "      <td>40.4</td>\n",
       "      <td>2018-12-04T00:00:00</td>\n",
       "      <td>1</td>\n",
       "      <td>NaN</td>\n",
       "      <td>11.0</td>\n",
       "      <td>18.6</td>\n",
       "      <td>1</td>\n",
       "      <td>NaN</td>\n",
       "      <td>...</td>\n",
       "      <td>11.0</td>\n",
       "      <td>2.0</td>\n",
       "      <td>посёлок Шушары</td>\n",
       "      <td>12817.0</td>\n",
       "      <td>18603.0</td>\n",
       "      <td>0.0</td>\n",
       "      <td>NaN</td>\n",
       "      <td>0.0</td>\n",
       "      <td>NaN</td>\n",
       "      <td>81.0</td>\n",
       "    </tr>\n",
       "    <tr>\n",
       "      <th>2</th>\n",
       "      <td>10</td>\n",
       "      <td>5196000.0</td>\n",
       "      <td>56.0</td>\n",
       "      <td>2015-08-20T00:00:00</td>\n",
       "      <td>2</td>\n",
       "      <td>NaN</td>\n",
       "      <td>5.0</td>\n",
       "      <td>34.3</td>\n",
       "      <td>4</td>\n",
       "      <td>NaN</td>\n",
       "      <td>...</td>\n",
       "      <td>8.3</td>\n",
       "      <td>0.0</td>\n",
       "      <td>Санкт-Петербург</td>\n",
       "      <td>21741.0</td>\n",
       "      <td>13933.0</td>\n",
       "      <td>1.0</td>\n",
       "      <td>90.0</td>\n",
       "      <td>2.0</td>\n",
       "      <td>574.0</td>\n",
       "      <td>558.0</td>\n",
       "    </tr>\n",
       "    <tr>\n",
       "      <th>3</th>\n",
       "      <td>0</td>\n",
       "      <td>64900000.0</td>\n",
       "      <td>159.0</td>\n",
       "      <td>2015-07-24T00:00:00</td>\n",
       "      <td>3</td>\n",
       "      <td>NaN</td>\n",
       "      <td>14.0</td>\n",
       "      <td>NaN</td>\n",
       "      <td>9</td>\n",
       "      <td>NaN</td>\n",
       "      <td>...</td>\n",
       "      <td>NaN</td>\n",
       "      <td>0.0</td>\n",
       "      <td>Санкт-Петербург</td>\n",
       "      <td>28098.0</td>\n",
       "      <td>6800.0</td>\n",
       "      <td>2.0</td>\n",
       "      <td>84.0</td>\n",
       "      <td>3.0</td>\n",
       "      <td>234.0</td>\n",
       "      <td>424.0</td>\n",
       "    </tr>\n",
       "    <tr>\n",
       "      <th>4</th>\n",
       "      <td>2</td>\n",
       "      <td>10000000.0</td>\n",
       "      <td>100.0</td>\n",
       "      <td>2018-06-19T00:00:00</td>\n",
       "      <td>2</td>\n",
       "      <td>3.03</td>\n",
       "      <td>14.0</td>\n",
       "      <td>32.0</td>\n",
       "      <td>13</td>\n",
       "      <td>NaN</td>\n",
       "      <td>...</td>\n",
       "      <td>41.0</td>\n",
       "      <td>NaN</td>\n",
       "      <td>Санкт-Петербург</td>\n",
       "      <td>31856.0</td>\n",
       "      <td>8098.0</td>\n",
       "      <td>2.0</td>\n",
       "      <td>112.0</td>\n",
       "      <td>1.0</td>\n",
       "      <td>48.0</td>\n",
       "      <td>121.0</td>\n",
       "    </tr>\n",
       "  </tbody>\n",
       "</table>\n",
       "<p>5 rows × 22 columns</p>\n",
       "</div>"
      ],
      "text/plain": [
       "   total_images  last_price  total_area first_day_exposition  rooms  \\\n",
       "0            20  13000000.0       108.0  2019-03-07T00:00:00      3   \n",
       "1             7   3350000.0        40.4  2018-12-04T00:00:00      1   \n",
       "2            10   5196000.0        56.0  2015-08-20T00:00:00      2   \n",
       "3             0  64900000.0       159.0  2015-07-24T00:00:00      3   \n",
       "4             2  10000000.0       100.0  2018-06-19T00:00:00      2   \n",
       "\n",
       "   ceiling_height  floors_total  living_area  floor is_apartment  ...  \\\n",
       "0            2.70          16.0         51.0      8          NaN  ...   \n",
       "1             NaN          11.0         18.6      1          NaN  ...   \n",
       "2             NaN           5.0         34.3      4          NaN  ...   \n",
       "3             NaN          14.0          NaN      9          NaN  ...   \n",
       "4            3.03          14.0         32.0     13          NaN  ...   \n",
       "\n",
       "   kitchen_area  balcony    locality_name  airports_nearest  \\\n",
       "0          25.0      NaN  Санкт-Петербург           18863.0   \n",
       "1          11.0      2.0   посёлок Шушары           12817.0   \n",
       "2           8.3      0.0  Санкт-Петербург           21741.0   \n",
       "3           NaN      0.0  Санкт-Петербург           28098.0   \n",
       "4          41.0      NaN  Санкт-Петербург           31856.0   \n",
       "\n",
       "  cityCenters_nearest  parks_around3000  parks_nearest  ponds_around3000  \\\n",
       "0             16028.0               1.0          482.0               2.0   \n",
       "1             18603.0               0.0            NaN               0.0   \n",
       "2             13933.0               1.0           90.0               2.0   \n",
       "3              6800.0               2.0           84.0               3.0   \n",
       "4              8098.0               2.0          112.0               1.0   \n",
       "\n",
       "   ponds_nearest  days_exposition  \n",
       "0          755.0              NaN  \n",
       "1            NaN             81.0  \n",
       "2          574.0            558.0  \n",
       "3          234.0            424.0  \n",
       "4           48.0            121.0  \n",
       "\n",
       "[5 rows x 22 columns]"
      ]
     },
     "execution_count": 2,
     "metadata": {},
     "output_type": "execute_result"
    }
   ],
   "source": [
    "# создал переменную df и положил в неё файлы таблицы, указав в качестве разделителя знак табуляции \\\n",
    "df = pd.read_csv('/datasets/real_estate_data.csv', sep='\\t')\n",
    "df.head()"
   ]
  },
  {
   "cell_type": "code",
   "execution_count": 3,
   "metadata": {},
   "outputs": [
    {
     "name": "stdout",
     "output_type": "stream",
     "text": [
      "<class 'pandas.core.frame.DataFrame'>\n",
      "RangeIndex: 23699 entries, 0 to 23698\n",
      "Data columns (total 22 columns):\n",
      " #   Column                Non-Null Count  Dtype  \n",
      "---  ------                --------------  -----  \n",
      " 0   total_images          23699 non-null  int64  \n",
      " 1   last_price            23699 non-null  float64\n",
      " 2   total_area            23699 non-null  float64\n",
      " 3   first_day_exposition  23699 non-null  object \n",
      " 4   rooms                 23699 non-null  int64  \n",
      " 5   ceiling_height        14504 non-null  float64\n",
      " 6   floors_total          23613 non-null  float64\n",
      " 7   living_area           21796 non-null  float64\n",
      " 8   floor                 23699 non-null  int64  \n",
      " 9   is_apartment          2775 non-null   object \n",
      " 10  studio                23699 non-null  bool   \n",
      " 11  open_plan             23699 non-null  bool   \n",
      " 12  kitchen_area          21421 non-null  float64\n",
      " 13  balcony               12180 non-null  float64\n",
      " 14  locality_name         23650 non-null  object \n",
      " 15  airports_nearest      18157 non-null  float64\n",
      " 16  cityCenters_nearest   18180 non-null  float64\n",
      " 17  parks_around3000      18181 non-null  float64\n",
      " 18  parks_nearest         8079 non-null   float64\n",
      " 19  ponds_around3000      18181 non-null  float64\n",
      " 20  ponds_nearest         9110 non-null   float64\n",
      " 21  days_exposition       20518 non-null  float64\n",
      "dtypes: bool(2), float64(14), int64(3), object(3)\n",
      "memory usage: 3.7+ MB\n"
     ]
    }
   ],
   "source": [
    "# вывел общую информацию о таблицы\n",
    "df.info()"
   ]
  },
  {
   "cell_type": "code",
   "execution_count": 4,
   "metadata": {},
   "outputs": [
    {
     "data": {
      "text/html": [
       "<div>\n",
       "<style scoped>\n",
       "    .dataframe tbody tr th:only-of-type {\n",
       "        vertical-align: middle;\n",
       "    }\n",
       "\n",
       "    .dataframe tbody tr th {\n",
       "        vertical-align: top;\n",
       "    }\n",
       "\n",
       "    .dataframe thead th {\n",
       "        text-align: right;\n",
       "    }\n",
       "</style>\n",
       "<table border=\"1\" class=\"dataframe\">\n",
       "  <thead>\n",
       "    <tr style=\"text-align: right;\">\n",
       "      <th></th>\n",
       "      <th>count</th>\n",
       "      <th>mean</th>\n",
       "      <th>std</th>\n",
       "      <th>min</th>\n",
       "      <th>25%</th>\n",
       "      <th>50%</th>\n",
       "      <th>75%</th>\n",
       "      <th>max</th>\n",
       "    </tr>\n",
       "  </thead>\n",
       "  <tbody>\n",
       "    <tr>\n",
       "      <th>total_images</th>\n",
       "      <td>23699.0</td>\n",
       "      <td>9.858475e+00</td>\n",
       "      <td>5.682529e+00</td>\n",
       "      <td>0.0</td>\n",
       "      <td>6.00</td>\n",
       "      <td>9.00</td>\n",
       "      <td>14.0</td>\n",
       "      <td>50.0</td>\n",
       "    </tr>\n",
       "    <tr>\n",
       "      <th>last_price</th>\n",
       "      <td>23699.0</td>\n",
       "      <td>6.541549e+06</td>\n",
       "      <td>1.088701e+07</td>\n",
       "      <td>12190.0</td>\n",
       "      <td>3400000.00</td>\n",
       "      <td>4650000.00</td>\n",
       "      <td>6800000.0</td>\n",
       "      <td>763000000.0</td>\n",
       "    </tr>\n",
       "    <tr>\n",
       "      <th>total_area</th>\n",
       "      <td>23699.0</td>\n",
       "      <td>6.034865e+01</td>\n",
       "      <td>3.565408e+01</td>\n",
       "      <td>12.0</td>\n",
       "      <td>40.00</td>\n",
       "      <td>52.00</td>\n",
       "      <td>69.9</td>\n",
       "      <td>900.0</td>\n",
       "    </tr>\n",
       "    <tr>\n",
       "      <th>rooms</th>\n",
       "      <td>23699.0</td>\n",
       "      <td>2.070636e+00</td>\n",
       "      <td>1.078405e+00</td>\n",
       "      <td>0.0</td>\n",
       "      <td>1.00</td>\n",
       "      <td>2.00</td>\n",
       "      <td>3.0</td>\n",
       "      <td>19.0</td>\n",
       "    </tr>\n",
       "    <tr>\n",
       "      <th>ceiling_height</th>\n",
       "      <td>14504.0</td>\n",
       "      <td>2.771499e+00</td>\n",
       "      <td>1.261056e+00</td>\n",
       "      <td>1.0</td>\n",
       "      <td>2.52</td>\n",
       "      <td>2.65</td>\n",
       "      <td>2.8</td>\n",
       "      <td>100.0</td>\n",
       "    </tr>\n",
       "    <tr>\n",
       "      <th>floors_total</th>\n",
       "      <td>23613.0</td>\n",
       "      <td>1.067382e+01</td>\n",
       "      <td>6.597173e+00</td>\n",
       "      <td>1.0</td>\n",
       "      <td>5.00</td>\n",
       "      <td>9.00</td>\n",
       "      <td>16.0</td>\n",
       "      <td>60.0</td>\n",
       "    </tr>\n",
       "    <tr>\n",
       "      <th>living_area</th>\n",
       "      <td>21796.0</td>\n",
       "      <td>3.445785e+01</td>\n",
       "      <td>2.203045e+01</td>\n",
       "      <td>2.0</td>\n",
       "      <td>18.60</td>\n",
       "      <td>30.00</td>\n",
       "      <td>42.3</td>\n",
       "      <td>409.7</td>\n",
       "    </tr>\n",
       "    <tr>\n",
       "      <th>floor</th>\n",
       "      <td>23699.0</td>\n",
       "      <td>5.892358e+00</td>\n",
       "      <td>4.885249e+00</td>\n",
       "      <td>1.0</td>\n",
       "      <td>2.00</td>\n",
       "      <td>4.00</td>\n",
       "      <td>8.0</td>\n",
       "      <td>33.0</td>\n",
       "    </tr>\n",
       "    <tr>\n",
       "      <th>kitchen_area</th>\n",
       "      <td>21421.0</td>\n",
       "      <td>1.056981e+01</td>\n",
       "      <td>5.905438e+00</td>\n",
       "      <td>1.3</td>\n",
       "      <td>7.00</td>\n",
       "      <td>9.10</td>\n",
       "      <td>12.0</td>\n",
       "      <td>112.0</td>\n",
       "    </tr>\n",
       "    <tr>\n",
       "      <th>balcony</th>\n",
       "      <td>12180.0</td>\n",
       "      <td>1.150082e+00</td>\n",
       "      <td>1.071300e+00</td>\n",
       "      <td>0.0</td>\n",
       "      <td>0.00</td>\n",
       "      <td>1.00</td>\n",
       "      <td>2.0</td>\n",
       "      <td>5.0</td>\n",
       "    </tr>\n",
       "    <tr>\n",
       "      <th>airports_nearest</th>\n",
       "      <td>18157.0</td>\n",
       "      <td>2.879367e+04</td>\n",
       "      <td>1.263088e+04</td>\n",
       "      <td>0.0</td>\n",
       "      <td>18585.00</td>\n",
       "      <td>26726.00</td>\n",
       "      <td>37273.0</td>\n",
       "      <td>84869.0</td>\n",
       "    </tr>\n",
       "    <tr>\n",
       "      <th>cityCenters_nearest</th>\n",
       "      <td>18180.0</td>\n",
       "      <td>1.419128e+04</td>\n",
       "      <td>8.608386e+03</td>\n",
       "      <td>181.0</td>\n",
       "      <td>9238.00</td>\n",
       "      <td>13098.50</td>\n",
       "      <td>16293.0</td>\n",
       "      <td>65968.0</td>\n",
       "    </tr>\n",
       "    <tr>\n",
       "      <th>parks_around3000</th>\n",
       "      <td>18181.0</td>\n",
       "      <td>6.114075e-01</td>\n",
       "      <td>8.020736e-01</td>\n",
       "      <td>0.0</td>\n",
       "      <td>0.00</td>\n",
       "      <td>0.00</td>\n",
       "      <td>1.0</td>\n",
       "      <td>3.0</td>\n",
       "    </tr>\n",
       "    <tr>\n",
       "      <th>parks_nearest</th>\n",
       "      <td>8079.0</td>\n",
       "      <td>4.908046e+02</td>\n",
       "      <td>3.423180e+02</td>\n",
       "      <td>1.0</td>\n",
       "      <td>288.00</td>\n",
       "      <td>455.00</td>\n",
       "      <td>612.0</td>\n",
       "      <td>3190.0</td>\n",
       "    </tr>\n",
       "    <tr>\n",
       "      <th>ponds_around3000</th>\n",
       "      <td>18181.0</td>\n",
       "      <td>7.702547e-01</td>\n",
       "      <td>9.383456e-01</td>\n",
       "      <td>0.0</td>\n",
       "      <td>0.00</td>\n",
       "      <td>1.00</td>\n",
       "      <td>1.0</td>\n",
       "      <td>3.0</td>\n",
       "    </tr>\n",
       "    <tr>\n",
       "      <th>ponds_nearest</th>\n",
       "      <td>9110.0</td>\n",
       "      <td>5.179809e+02</td>\n",
       "      <td>2.777206e+02</td>\n",
       "      <td>13.0</td>\n",
       "      <td>294.00</td>\n",
       "      <td>502.00</td>\n",
       "      <td>729.0</td>\n",
       "      <td>1344.0</td>\n",
       "    </tr>\n",
       "    <tr>\n",
       "      <th>days_exposition</th>\n",
       "      <td>20518.0</td>\n",
       "      <td>1.808886e+02</td>\n",
       "      <td>2.197280e+02</td>\n",
       "      <td>1.0</td>\n",
       "      <td>45.00</td>\n",
       "      <td>95.00</td>\n",
       "      <td>232.0</td>\n",
       "      <td>1580.0</td>\n",
       "    </tr>\n",
       "  </tbody>\n",
       "</table>\n",
       "</div>"
      ],
      "text/plain": [
       "                       count          mean           std      min         25%  \\\n",
       "total_images         23699.0  9.858475e+00  5.682529e+00      0.0        6.00   \n",
       "last_price           23699.0  6.541549e+06  1.088701e+07  12190.0  3400000.00   \n",
       "total_area           23699.0  6.034865e+01  3.565408e+01     12.0       40.00   \n",
       "rooms                23699.0  2.070636e+00  1.078405e+00      0.0        1.00   \n",
       "ceiling_height       14504.0  2.771499e+00  1.261056e+00      1.0        2.52   \n",
       "floors_total         23613.0  1.067382e+01  6.597173e+00      1.0        5.00   \n",
       "living_area          21796.0  3.445785e+01  2.203045e+01      2.0       18.60   \n",
       "floor                23699.0  5.892358e+00  4.885249e+00      1.0        2.00   \n",
       "kitchen_area         21421.0  1.056981e+01  5.905438e+00      1.3        7.00   \n",
       "balcony              12180.0  1.150082e+00  1.071300e+00      0.0        0.00   \n",
       "airports_nearest     18157.0  2.879367e+04  1.263088e+04      0.0    18585.00   \n",
       "cityCenters_nearest  18180.0  1.419128e+04  8.608386e+03    181.0     9238.00   \n",
       "parks_around3000     18181.0  6.114075e-01  8.020736e-01      0.0        0.00   \n",
       "parks_nearest         8079.0  4.908046e+02  3.423180e+02      1.0      288.00   \n",
       "ponds_around3000     18181.0  7.702547e-01  9.383456e-01      0.0        0.00   \n",
       "ponds_nearest         9110.0  5.179809e+02  2.777206e+02     13.0      294.00   \n",
       "days_exposition      20518.0  1.808886e+02  2.197280e+02      1.0       45.00   \n",
       "\n",
       "                            50%        75%          max  \n",
       "total_images               9.00       14.0         50.0  \n",
       "last_price           4650000.00  6800000.0  763000000.0  \n",
       "total_area                52.00       69.9        900.0  \n",
       "rooms                      2.00        3.0         19.0  \n",
       "ceiling_height             2.65        2.8        100.0  \n",
       "floors_total               9.00       16.0         60.0  \n",
       "living_area               30.00       42.3        409.7  \n",
       "floor                      4.00        8.0         33.0  \n",
       "kitchen_area               9.10       12.0        112.0  \n",
       "balcony                    1.00        2.0          5.0  \n",
       "airports_nearest       26726.00    37273.0      84869.0  \n",
       "cityCenters_nearest    13098.50    16293.0      65968.0  \n",
       "parks_around3000           0.00        1.0          3.0  \n",
       "parks_nearest            455.00      612.0       3190.0  \n",
       "ponds_around3000           1.00        1.0          3.0  \n",
       "ponds_nearest            502.00      729.0       1344.0  \n",
       "days_exposition           95.00      232.0       1580.0  "
      ]
     },
     "execution_count": 4,
     "metadata": {},
     "output_type": "execute_result"
    }
   ],
   "source": [
    "# применил метод describe().T ко всему датасету\n",
    "df.describe().T"
   ]
  },
  {
   "cell_type": "markdown",
   "metadata": {},
   "source": [
    "### Вывод"
   ]
  },
  {
   "cell_type": "markdown",
   "metadata": {},
   "source": [
    "В таблице 22 столбца и 23699 строк\n",
    "\n",
    "Описание данных:\n",
    "* `airports_nearest` — расстояние до ближайшего аэропорта в метрах (м)\n",
    "* `balcony` — число балконов\n",
    "* `ceiling_height` — высота потолков (м)\n",
    "* `cityCenters_nearest` — расстояние до центра города (м)\n",
    "* `days_exposition` — сколько дней было размещено объявление (от публикации до снятия)\n",
    "* `first_day_exposition` — дата публикации\n",
    "* `floor — этаж`\n",
    "* `floors_total` — всего этажей в доме\n",
    "* `is_apartment` — апартаменты (булев тип)\n",
    "* `kitchen_area` — площадь кухни в квадратных метрах (м²)\n",
    "* `last_price` — цена на момент снятия с публикации\n",
    "* `living_area` — жилая площадь в квадратных метрах (м²)\n",
    "* `locality_name` — название населённого пункта\n",
    "* `open_plan` — свободная планировка (булев тип)\n",
    "* `parks_around3000` — число парков в радиусе 3 км\n",
    "* `parks_nearest` — расстояние до ближайшего парка (м)\n",
    "* `ponds_around3000` — число водоёмов в радиусе 3 км\n",
    "* `ponds_nearest` — расстояние до ближайшего водоёма (м)\n",
    "* `rooms` — число комнат\n",
    "* `studio` — квартира-студия (булев тип)\n",
    "* `total_area` — площадь квартиры в квадратных метрах (м²)\n",
    "* `total_images` — число фотографий квартиры в объявлении\n",
    "\n",
    "На основе данных видно, что во многих столбцов есть пропущенные значения, особенно заметно в столбце is_apartment. Ещё во многих столбцов имеется тип float64, хотя по значению они должны относиться к типу int64 и столбец со временем first_day_exposition имеет тип object, а должен datetime64. В трёх столбцах заметен неправильный регистр"
   ]
  },
  {
   "cell_type": "markdown",
   "metadata": {},
   "source": [
    "## Предобработка данных"
   ]
  },
  {
   "cell_type": "code",
   "execution_count": 5,
   "metadata": {},
   "outputs": [
    {
     "data": {
      "text/plain": [
       "Index(['total_images', 'last_price', 'total_area', 'first_day_exposition',\n",
       "       'rooms', 'ceiling_height', 'floors_total', 'living_area', 'floor',\n",
       "       'is_apartment', 'studio', 'open_plan', 'kitchen_area', 'balcony',\n",
       "       'locality_name', 'airports_nearest', 'cityCenters_nearest',\n",
       "       'parks_around3000', 'parks_nearest', 'ponds_around3000',\n",
       "       'ponds_nearest', 'days_exposition'],\n",
       "      dtype='object')"
      ]
     },
     "execution_count": 5,
     "metadata": {},
     "output_type": "execute_result"
    }
   ],
   "source": [
    "# вывел название столбцов таблицы\n",
    "df.columns"
   ]
  },
  {
   "cell_type": "code",
   "execution_count": 6,
   "metadata": {},
   "outputs": [
    {
     "data": {
      "text/plain": [
       "Index(['total_images', 'last_price', 'total_area', 'first_day_exposition',\n",
       "       'rooms', 'ceiling_height', 'floors_total', 'living_area', 'floor',\n",
       "       'is_apartment', 'studio', 'open_plan', 'kitchen_area', 'balcony',\n",
       "       'locality_name', 'airports_nearest', 'city_centers_nearest',\n",
       "       'parks_around_3000', 'parks_nearest', 'ponds_around_3000',\n",
       "       'ponds_nearest', 'days_exposition'],\n",
       "      dtype='object')"
      ]
     },
     "execution_count": 6,
     "metadata": {},
     "output_type": "execute_result"
    }
   ],
   "source": [
    "# переменовал 3 столбца к нижнему и змеиному регистру \n",
    "df = df.rename(\n",
    "    columns={\n",
    "        'cityCenters_nearest': 'city_centers_nearest', \n",
    "        'parks_around3000': 'parks_around_3000', \n",
    "        'ponds_around3000': 'ponds_around_3000'}\n",
    ")\n",
    "# повтроно вывел название столбцов\n",
    "df.columns"
   ]
  },
  {
   "cell_type": "markdown",
   "metadata": {},
   "source": [
    "Переменовал 3 столбца к стандартному формату"
   ]
  },
  {
   "cell_type": "code",
   "execution_count": 7,
   "metadata": {},
   "outputs": [
    {
     "data": {
      "text/plain": [
       "total_images                0\n",
       "last_price                  0\n",
       "total_area                  0\n",
       "first_day_exposition        0\n",
       "rooms                       0\n",
       "ceiling_height           9195\n",
       "floors_total               86\n",
       "living_area              1903\n",
       "floor                       0\n",
       "is_apartment            20924\n",
       "studio                      0\n",
       "open_plan                   0\n",
       "kitchen_area             2278\n",
       "balcony                 11519\n",
       "locality_name              49\n",
       "airports_nearest         5542\n",
       "city_centers_nearest     5519\n",
       "parks_around_3000        5518\n",
       "parks_nearest           15620\n",
       "ponds_around_3000        5518\n",
       "ponds_nearest           14589\n",
       "days_exposition          3181\n",
       "dtype: int64"
      ]
     },
     "execution_count": 7,
     "metadata": {},
     "output_type": "execute_result"
    }
   ],
   "source": [
    "# подсчитал количество пропущенных значений\n",
    "df.isna().sum()"
   ]
  },
  {
   "cell_type": "code",
   "execution_count": 8,
   "metadata": {},
   "outputs": [
    {
     "data": {
      "text/plain": [
       "0"
      ]
     },
     "execution_count": 8,
     "metadata": {},
     "output_type": "execute_result"
    }
   ],
   "source": [
    "# посмотрел количество дубликтов\n",
    "df.duplicated().sum()"
   ]
  },
  {
   "cell_type": "code",
   "execution_count": 9,
   "metadata": {},
   "outputs": [
    {
     "data": {
      "text/plain": [
       "total_images              38\n",
       "last_price              2978\n",
       "total_area              2182\n",
       "first_day_exposition    1491\n",
       "rooms                     17\n",
       "ceiling_height           183\n",
       "floors_total              36\n",
       "living_area             1782\n",
       "floor                     33\n",
       "is_apartment               2\n",
       "studio                     2\n",
       "open_plan                  2\n",
       "kitchen_area             971\n",
       "balcony                    6\n",
       "locality_name            364\n",
       "airports_nearest        8275\n",
       "city_centers_nearest    7642\n",
       "parks_around_3000          4\n",
       "parks_nearest            995\n",
       "ponds_around_3000          4\n",
       "ponds_nearest           1096\n",
       "days_exposition         1141\n",
       "dtype: int64"
      ]
     },
     "execution_count": 9,
     "metadata": {},
     "output_type": "execute_result"
    }
   ],
   "source": [
    "# посмотрел количестов уникальных значений\n",
    "df.nunique()"
   ]
  },
  {
   "cell_type": "code",
   "execution_count": 10,
   "metadata": {},
   "outputs": [
    {
     "data": {
      "text/html": [
       "<div>\n",
       "<style scoped>\n",
       "    .dataframe tbody tr th:only-of-type {\n",
       "        vertical-align: middle;\n",
       "    }\n",
       "\n",
       "    .dataframe tbody tr th {\n",
       "        vertical-align: top;\n",
       "    }\n",
       "\n",
       "    .dataframe thead th {\n",
       "        text-align: right;\n",
       "    }\n",
       "</style>\n",
       "<table border=\"1\" class=\"dataframe\">\n",
       "  <thead>\n",
       "    <tr style=\"text-align: right;\">\n",
       "      <th></th>\n",
       "      <th>total_images</th>\n",
       "      <th>last_price</th>\n",
       "      <th>total_area</th>\n",
       "      <th>first_day_exposition</th>\n",
       "      <th>rooms</th>\n",
       "      <th>ceiling_height</th>\n",
       "      <th>floors_total</th>\n",
       "      <th>living_area</th>\n",
       "      <th>floor</th>\n",
       "      <th>is_apartment</th>\n",
       "      <th>...</th>\n",
       "      <th>kitchen_area</th>\n",
       "      <th>balcony</th>\n",
       "      <th>locality_name</th>\n",
       "      <th>airports_nearest</th>\n",
       "      <th>city_centers_nearest</th>\n",
       "      <th>parks_around_3000</th>\n",
       "      <th>parks_nearest</th>\n",
       "      <th>ponds_around_3000</th>\n",
       "      <th>ponds_nearest</th>\n",
       "      <th>days_exposition</th>\n",
       "    </tr>\n",
       "  </thead>\n",
       "  <tbody>\n",
       "    <tr>\n",
       "      <th>0</th>\n",
       "      <td>20</td>\n",
       "      <td>13000000.0</td>\n",
       "      <td>108.0</td>\n",
       "      <td>2019-03-07T00:00:00</td>\n",
       "      <td>3</td>\n",
       "      <td>2.70</td>\n",
       "      <td>16.0</td>\n",
       "      <td>51.0</td>\n",
       "      <td>8</td>\n",
       "      <td>NaN</td>\n",
       "      <td>...</td>\n",
       "      <td>25.0</td>\n",
       "      <td>NaN</td>\n",
       "      <td>Санкт-Петербург</td>\n",
       "      <td>18863.0</td>\n",
       "      <td>16028.0</td>\n",
       "      <td>1.0</td>\n",
       "      <td>482.0</td>\n",
       "      <td>2.0</td>\n",
       "      <td>755.0</td>\n",
       "      <td>NaN</td>\n",
       "    </tr>\n",
       "    <tr>\n",
       "      <th>1</th>\n",
       "      <td>7</td>\n",
       "      <td>3350000.0</td>\n",
       "      <td>40.4</td>\n",
       "      <td>2018-12-04T00:00:00</td>\n",
       "      <td>1</td>\n",
       "      <td>2.65</td>\n",
       "      <td>11.0</td>\n",
       "      <td>18.6</td>\n",
       "      <td>1</td>\n",
       "      <td>NaN</td>\n",
       "      <td>...</td>\n",
       "      <td>11.0</td>\n",
       "      <td>2.0</td>\n",
       "      <td>посёлок Шушары</td>\n",
       "      <td>12817.0</td>\n",
       "      <td>18603.0</td>\n",
       "      <td>0.0</td>\n",
       "      <td>NaN</td>\n",
       "      <td>0.0</td>\n",
       "      <td>NaN</td>\n",
       "      <td>81.0</td>\n",
       "    </tr>\n",
       "    <tr>\n",
       "      <th>2</th>\n",
       "      <td>10</td>\n",
       "      <td>5196000.0</td>\n",
       "      <td>56.0</td>\n",
       "      <td>2015-08-20T00:00:00</td>\n",
       "      <td>2</td>\n",
       "      <td>2.65</td>\n",
       "      <td>5.0</td>\n",
       "      <td>34.3</td>\n",
       "      <td>4</td>\n",
       "      <td>NaN</td>\n",
       "      <td>...</td>\n",
       "      <td>8.3</td>\n",
       "      <td>0.0</td>\n",
       "      <td>Санкт-Петербург</td>\n",
       "      <td>21741.0</td>\n",
       "      <td>13933.0</td>\n",
       "      <td>1.0</td>\n",
       "      <td>90.0</td>\n",
       "      <td>2.0</td>\n",
       "      <td>574.0</td>\n",
       "      <td>558.0</td>\n",
       "    </tr>\n",
       "    <tr>\n",
       "      <th>3</th>\n",
       "      <td>0</td>\n",
       "      <td>64900000.0</td>\n",
       "      <td>159.0</td>\n",
       "      <td>2015-07-24T00:00:00</td>\n",
       "      <td>3</td>\n",
       "      <td>2.65</td>\n",
       "      <td>14.0</td>\n",
       "      <td>NaN</td>\n",
       "      <td>9</td>\n",
       "      <td>NaN</td>\n",
       "      <td>...</td>\n",
       "      <td>NaN</td>\n",
       "      <td>0.0</td>\n",
       "      <td>Санкт-Петербург</td>\n",
       "      <td>28098.0</td>\n",
       "      <td>6800.0</td>\n",
       "      <td>2.0</td>\n",
       "      <td>84.0</td>\n",
       "      <td>3.0</td>\n",
       "      <td>234.0</td>\n",
       "      <td>424.0</td>\n",
       "    </tr>\n",
       "    <tr>\n",
       "      <th>4</th>\n",
       "      <td>2</td>\n",
       "      <td>10000000.0</td>\n",
       "      <td>100.0</td>\n",
       "      <td>2018-06-19T00:00:00</td>\n",
       "      <td>2</td>\n",
       "      <td>3.03</td>\n",
       "      <td>14.0</td>\n",
       "      <td>32.0</td>\n",
       "      <td>13</td>\n",
       "      <td>NaN</td>\n",
       "      <td>...</td>\n",
       "      <td>41.0</td>\n",
       "      <td>NaN</td>\n",
       "      <td>Санкт-Петербург</td>\n",
       "      <td>31856.0</td>\n",
       "      <td>8098.0</td>\n",
       "      <td>2.0</td>\n",
       "      <td>112.0</td>\n",
       "      <td>1.0</td>\n",
       "      <td>48.0</td>\n",
       "      <td>121.0</td>\n",
       "    </tr>\n",
       "  </tbody>\n",
       "</table>\n",
       "<p>5 rows × 22 columns</p>\n",
       "</div>"
      ],
      "text/plain": [
       "   total_images  last_price  total_area first_day_exposition  rooms  \\\n",
       "0            20  13000000.0       108.0  2019-03-07T00:00:00      3   \n",
       "1             7   3350000.0        40.4  2018-12-04T00:00:00      1   \n",
       "2            10   5196000.0        56.0  2015-08-20T00:00:00      2   \n",
       "3             0  64900000.0       159.0  2015-07-24T00:00:00      3   \n",
       "4             2  10000000.0       100.0  2018-06-19T00:00:00      2   \n",
       "\n",
       "   ceiling_height  floors_total  living_area  floor is_apartment  ...  \\\n",
       "0            2.70          16.0         51.0      8          NaN  ...   \n",
       "1            2.65          11.0         18.6      1          NaN  ...   \n",
       "2            2.65           5.0         34.3      4          NaN  ...   \n",
       "3            2.65          14.0          NaN      9          NaN  ...   \n",
       "4            3.03          14.0         32.0     13          NaN  ...   \n",
       "\n",
       "   kitchen_area  balcony    locality_name  airports_nearest  \\\n",
       "0          25.0      NaN  Санкт-Петербург           18863.0   \n",
       "1          11.0      2.0   посёлок Шушары           12817.0   \n",
       "2           8.3      0.0  Санкт-Петербург           21741.0   \n",
       "3           NaN      0.0  Санкт-Петербург           28098.0   \n",
       "4          41.0      NaN  Санкт-Петербург           31856.0   \n",
       "\n",
       "  city_centers_nearest  parks_around_3000  parks_nearest  ponds_around_3000  \\\n",
       "0              16028.0                1.0          482.0                2.0   \n",
       "1              18603.0                0.0            NaN                0.0   \n",
       "2              13933.0                1.0           90.0                2.0   \n",
       "3               6800.0                2.0           84.0                3.0   \n",
       "4               8098.0                2.0          112.0                1.0   \n",
       "\n",
       "   ponds_nearest  days_exposition  \n",
       "0          755.0              NaN  \n",
       "1            NaN             81.0  \n",
       "2          574.0            558.0  \n",
       "3          234.0            424.0  \n",
       "4           48.0            121.0  \n",
       "\n",
       "[5 rows x 22 columns]"
      ]
     },
     "execution_count": 10,
     "metadata": {},
     "output_type": "execute_result"
    }
   ],
   "source": [
    "# нашёл медиану в столбце ceiling_height\n",
    "ceiling_height_median = df['ceiling_height'].median()\n",
    "# заменил пропущенные значаения на переменную ceiling_height_median\n",
    "df['ceiling_height'] = df['ceiling_height'].fillna(ceiling_height_median)\n",
    "df.head()"
   ]
  },
  {
   "cell_type": "markdown",
   "metadata": {},
   "source": [
    "В столбце ceiling_height указана высота потолков и я решил пропущенные значения заменить на медиану, так как высота потолков у большинства в квартире не больше 3 метров"
   ]
  },
  {
   "cell_type": "code",
   "execution_count": 11,
   "metadata": {},
   "outputs": [],
   "source": [
    "# заменил пропущенные значения в столбце balcony на 0\n",
    "df['balcony'] = df['balcony'].fillna(0)"
   ]
  },
  {
   "cell_type": "markdown",
   "metadata": {},
   "source": [
    "Заменил в столбце balcony пропущенные значения на 0, так как скорее всего их попросту нет"
   ]
  },
  {
   "cell_type": "code",
   "execution_count": 12,
   "metadata": {},
   "outputs": [],
   "source": [
    "# заменил пропущенные значения в столбце parks_around_3000 на 0\n",
    "df['parks_around_3000'] = df['parks_around_3000'].fillna(0)"
   ]
  },
  {
   "cell_type": "markdown",
   "metadata": {},
   "source": [
    "Заменил в столбце parks_around_3000 пропущенные значения на 0, так как скорее всего их попросту нет"
   ]
  },
  {
   "cell_type": "code",
   "execution_count": 13,
   "metadata": {},
   "outputs": [],
   "source": [
    "# заменил пропущенные значения в столбце ponds_around_3000 на 0\n",
    "df['ponds_around_3000'] = df['ponds_around_3000'].fillna(0)"
   ]
  },
  {
   "cell_type": "markdown",
   "metadata": {},
   "source": [
    "Заменил в столбце ponds_around_3000 пропущенные значения на 0, так как скорее всего их попросту нет"
   ]
  },
  {
   "cell_type": "code",
   "execution_count": 14,
   "metadata": {},
   "outputs": [
    {
     "data": {
      "text/plain": [
       "total_images                0\n",
       "last_price                  0\n",
       "total_area                  0\n",
       "first_day_exposition        0\n",
       "rooms                       0\n",
       "ceiling_height              0\n",
       "floors_total               86\n",
       "living_area              1903\n",
       "floor                       0\n",
       "is_apartment            20924\n",
       "studio                      0\n",
       "open_plan                   0\n",
       "kitchen_area             2278\n",
       "balcony                     0\n",
       "locality_name              49\n",
       "airports_nearest         5542\n",
       "city_centers_nearest     5519\n",
       "parks_around_3000           0\n",
       "parks_nearest           15620\n",
       "ponds_around_3000           0\n",
       "ponds_nearest           14589\n",
       "days_exposition          3181\n",
       "dtype: int64"
      ]
     },
     "execution_count": 14,
     "metadata": {},
     "output_type": "execute_result"
    }
   ],
   "source": [
    "# подсчитал повторно пропущенные значения\n",
    "df.isna().sum()"
   ]
  },
  {
   "cell_type": "markdown",
   "metadata": {},
   "source": [
    "В таблице много столбцов с пропусками, которые нельзя заменить, так как не имеем полных данных. Такое могло произойти из-за ошибки выгрузки данных или человеского фактора. Нужно будет обратиться к специалисту по выгрузке данных"
   ]
  },
  {
   "cell_type": "code",
   "execution_count": 15,
   "metadata": {},
   "outputs": [
    {
     "data": {
      "text/html": [
       "<div>\n",
       "<style scoped>\n",
       "    .dataframe tbody tr th:only-of-type {\n",
       "        vertical-align: middle;\n",
       "    }\n",
       "\n",
       "    .dataframe tbody tr th {\n",
       "        vertical-align: top;\n",
       "    }\n",
       "\n",
       "    .dataframe thead th {\n",
       "        text-align: right;\n",
       "    }\n",
       "</style>\n",
       "<table border=\"1\" class=\"dataframe\">\n",
       "  <thead>\n",
       "    <tr style=\"text-align: right;\">\n",
       "      <th></th>\n",
       "      <th>total_images</th>\n",
       "      <th>last_price</th>\n",
       "      <th>total_area</th>\n",
       "      <th>first_day_exposition</th>\n",
       "      <th>rooms</th>\n",
       "      <th>ceiling_height</th>\n",
       "      <th>floors_total</th>\n",
       "      <th>living_area</th>\n",
       "      <th>floor</th>\n",
       "      <th>is_apartment</th>\n",
       "      <th>...</th>\n",
       "      <th>kitchen_area</th>\n",
       "      <th>balcony</th>\n",
       "      <th>locality_name</th>\n",
       "      <th>airports_nearest</th>\n",
       "      <th>city_centers_nearest</th>\n",
       "      <th>parks_around_3000</th>\n",
       "      <th>parks_nearest</th>\n",
       "      <th>ponds_around_3000</th>\n",
       "      <th>ponds_nearest</th>\n",
       "      <th>days_exposition</th>\n",
       "    </tr>\n",
       "  </thead>\n",
       "  <tbody>\n",
       "    <tr>\n",
       "      <th>0</th>\n",
       "      <td>20</td>\n",
       "      <td>13000000</td>\n",
       "      <td>108</td>\n",
       "      <td>2019-03-07T00:00:00</td>\n",
       "      <td>3</td>\n",
       "      <td>2.70</td>\n",
       "      <td>16.0</td>\n",
       "      <td>51.0</td>\n",
       "      <td>8</td>\n",
       "      <td>NaN</td>\n",
       "      <td>...</td>\n",
       "      <td>25.0</td>\n",
       "      <td>0</td>\n",
       "      <td>Санкт-Петербург</td>\n",
       "      <td>18863.0</td>\n",
       "      <td>16028.0</td>\n",
       "      <td>1</td>\n",
       "      <td>482.0</td>\n",
       "      <td>2</td>\n",
       "      <td>755.0</td>\n",
       "      <td>NaN</td>\n",
       "    </tr>\n",
       "    <tr>\n",
       "      <th>1</th>\n",
       "      <td>7</td>\n",
       "      <td>3350000</td>\n",
       "      <td>40</td>\n",
       "      <td>2018-12-04T00:00:00</td>\n",
       "      <td>1</td>\n",
       "      <td>2.65</td>\n",
       "      <td>11.0</td>\n",
       "      <td>18.6</td>\n",
       "      <td>1</td>\n",
       "      <td>NaN</td>\n",
       "      <td>...</td>\n",
       "      <td>11.0</td>\n",
       "      <td>2</td>\n",
       "      <td>посёлок Шушары</td>\n",
       "      <td>12817.0</td>\n",
       "      <td>18603.0</td>\n",
       "      <td>0</td>\n",
       "      <td>NaN</td>\n",
       "      <td>0</td>\n",
       "      <td>NaN</td>\n",
       "      <td>81.0</td>\n",
       "    </tr>\n",
       "    <tr>\n",
       "      <th>2</th>\n",
       "      <td>10</td>\n",
       "      <td>5196000</td>\n",
       "      <td>56</td>\n",
       "      <td>2015-08-20T00:00:00</td>\n",
       "      <td>2</td>\n",
       "      <td>2.65</td>\n",
       "      <td>5.0</td>\n",
       "      <td>34.3</td>\n",
       "      <td>4</td>\n",
       "      <td>NaN</td>\n",
       "      <td>...</td>\n",
       "      <td>8.3</td>\n",
       "      <td>0</td>\n",
       "      <td>Санкт-Петербург</td>\n",
       "      <td>21741.0</td>\n",
       "      <td>13933.0</td>\n",
       "      <td>1</td>\n",
       "      <td>90.0</td>\n",
       "      <td>2</td>\n",
       "      <td>574.0</td>\n",
       "      <td>558.0</td>\n",
       "    </tr>\n",
       "    <tr>\n",
       "      <th>3</th>\n",
       "      <td>0</td>\n",
       "      <td>64900000</td>\n",
       "      <td>159</td>\n",
       "      <td>2015-07-24T00:00:00</td>\n",
       "      <td>3</td>\n",
       "      <td>2.65</td>\n",
       "      <td>14.0</td>\n",
       "      <td>NaN</td>\n",
       "      <td>9</td>\n",
       "      <td>NaN</td>\n",
       "      <td>...</td>\n",
       "      <td>NaN</td>\n",
       "      <td>0</td>\n",
       "      <td>Санкт-Петербург</td>\n",
       "      <td>28098.0</td>\n",
       "      <td>6800.0</td>\n",
       "      <td>2</td>\n",
       "      <td>84.0</td>\n",
       "      <td>3</td>\n",
       "      <td>234.0</td>\n",
       "      <td>424.0</td>\n",
       "    </tr>\n",
       "    <tr>\n",
       "      <th>4</th>\n",
       "      <td>2</td>\n",
       "      <td>10000000</td>\n",
       "      <td>100</td>\n",
       "      <td>2018-06-19T00:00:00</td>\n",
       "      <td>2</td>\n",
       "      <td>3.03</td>\n",
       "      <td>14.0</td>\n",
       "      <td>32.0</td>\n",
       "      <td>13</td>\n",
       "      <td>NaN</td>\n",
       "      <td>...</td>\n",
       "      <td>41.0</td>\n",
       "      <td>0</td>\n",
       "      <td>Санкт-Петербург</td>\n",
       "      <td>31856.0</td>\n",
       "      <td>8098.0</td>\n",
       "      <td>2</td>\n",
       "      <td>112.0</td>\n",
       "      <td>1</td>\n",
       "      <td>48.0</td>\n",
       "      <td>121.0</td>\n",
       "    </tr>\n",
       "  </tbody>\n",
       "</table>\n",
       "<p>5 rows × 22 columns</p>\n",
       "</div>"
      ],
      "text/plain": [
       "   total_images  last_price  total_area first_day_exposition  rooms  \\\n",
       "0            20    13000000         108  2019-03-07T00:00:00      3   \n",
       "1             7     3350000          40  2018-12-04T00:00:00      1   \n",
       "2            10     5196000          56  2015-08-20T00:00:00      2   \n",
       "3             0    64900000         159  2015-07-24T00:00:00      3   \n",
       "4             2    10000000         100  2018-06-19T00:00:00      2   \n",
       "\n",
       "   ceiling_height  floors_total  living_area  floor is_apartment  ...  \\\n",
       "0            2.70          16.0         51.0      8          NaN  ...   \n",
       "1            2.65          11.0         18.6      1          NaN  ...   \n",
       "2            2.65           5.0         34.3      4          NaN  ...   \n",
       "3            2.65          14.0          NaN      9          NaN  ...   \n",
       "4            3.03          14.0         32.0     13          NaN  ...   \n",
       "\n",
       "   kitchen_area  balcony    locality_name  airports_nearest  \\\n",
       "0          25.0        0  Санкт-Петербург           18863.0   \n",
       "1          11.0        2   посёлок Шушары           12817.0   \n",
       "2           8.3        0  Санкт-Петербург           21741.0   \n",
       "3           NaN        0  Санкт-Петербург           28098.0   \n",
       "4          41.0        0  Санкт-Петербург           31856.0   \n",
       "\n",
       "  city_centers_nearest  parks_around_3000  parks_nearest  ponds_around_3000  \\\n",
       "0              16028.0                  1          482.0                  2   \n",
       "1              18603.0                  0            NaN                  0   \n",
       "2              13933.0                  1           90.0                  2   \n",
       "3               6800.0                  2           84.0                  3   \n",
       "4               8098.0                  2          112.0                  1   \n",
       "\n",
       "   ponds_nearest  days_exposition  \n",
       "0          755.0              NaN  \n",
       "1            NaN             81.0  \n",
       "2          574.0            558.0  \n",
       "3          234.0            424.0  \n",
       "4           48.0            121.0  \n",
       "\n",
       "[5 rows x 22 columns]"
      ]
     },
     "execution_count": 15,
     "metadata": {},
     "output_type": "execute_result"
    }
   ],
   "source": [
    "# заменил вещественный тип данных на целочисленный в некоторых столбцах\n",
    "df['last_price'] = df['last_price'].astype('int64')\n",
    "df['total_area'] = df['total_area'].astype('int16')\n",
    "df['balcony'] = df['balcony'].astype('int')\n",
    "df['parks_around_3000'] = df['parks_around_3000'].astype('int')\n",
    "df['ponds_around_3000'] = df['ponds_around_3000'].astype('int')\n",
    "df.head()"
   ]
  },
  {
   "cell_type": "code",
   "execution_count": 16,
   "metadata": {},
   "outputs": [
    {
     "data": {
      "text/html": [
       "<div>\n",
       "<style scoped>\n",
       "    .dataframe tbody tr th:only-of-type {\n",
       "        vertical-align: middle;\n",
       "    }\n",
       "\n",
       "    .dataframe tbody tr th {\n",
       "        vertical-align: top;\n",
       "    }\n",
       "\n",
       "    .dataframe thead th {\n",
       "        text-align: right;\n",
       "    }\n",
       "</style>\n",
       "<table border=\"1\" class=\"dataframe\">\n",
       "  <thead>\n",
       "    <tr style=\"text-align: right;\">\n",
       "      <th></th>\n",
       "      <th>total_images</th>\n",
       "      <th>last_price</th>\n",
       "      <th>total_area</th>\n",
       "      <th>first_day_exposition</th>\n",
       "      <th>rooms</th>\n",
       "      <th>ceiling_height</th>\n",
       "      <th>floors_total</th>\n",
       "      <th>living_area</th>\n",
       "      <th>floor</th>\n",
       "      <th>is_apartment</th>\n",
       "      <th>...</th>\n",
       "      <th>kitchen_area</th>\n",
       "      <th>balcony</th>\n",
       "      <th>locality_name</th>\n",
       "      <th>airports_nearest</th>\n",
       "      <th>city_centers_nearest</th>\n",
       "      <th>parks_around_3000</th>\n",
       "      <th>parks_nearest</th>\n",
       "      <th>ponds_around_3000</th>\n",
       "      <th>ponds_nearest</th>\n",
       "      <th>days_exposition</th>\n",
       "    </tr>\n",
       "  </thead>\n",
       "  <tbody>\n",
       "    <tr>\n",
       "      <th>0</th>\n",
       "      <td>20</td>\n",
       "      <td>13000000</td>\n",
       "      <td>108</td>\n",
       "      <td>2019-03-07</td>\n",
       "      <td>3</td>\n",
       "      <td>2.70</td>\n",
       "      <td>16.0</td>\n",
       "      <td>51.0</td>\n",
       "      <td>8</td>\n",
       "      <td>NaN</td>\n",
       "      <td>...</td>\n",
       "      <td>25.0</td>\n",
       "      <td>0</td>\n",
       "      <td>Санкт-Петербург</td>\n",
       "      <td>18863.0</td>\n",
       "      <td>16028.0</td>\n",
       "      <td>1</td>\n",
       "      <td>482.0</td>\n",
       "      <td>2</td>\n",
       "      <td>755.0</td>\n",
       "      <td>NaN</td>\n",
       "    </tr>\n",
       "    <tr>\n",
       "      <th>1</th>\n",
       "      <td>7</td>\n",
       "      <td>3350000</td>\n",
       "      <td>40</td>\n",
       "      <td>2018-12-04</td>\n",
       "      <td>1</td>\n",
       "      <td>2.65</td>\n",
       "      <td>11.0</td>\n",
       "      <td>18.6</td>\n",
       "      <td>1</td>\n",
       "      <td>NaN</td>\n",
       "      <td>...</td>\n",
       "      <td>11.0</td>\n",
       "      <td>2</td>\n",
       "      <td>посёлок Шушары</td>\n",
       "      <td>12817.0</td>\n",
       "      <td>18603.0</td>\n",
       "      <td>0</td>\n",
       "      <td>NaN</td>\n",
       "      <td>0</td>\n",
       "      <td>NaN</td>\n",
       "      <td>81.0</td>\n",
       "    </tr>\n",
       "    <tr>\n",
       "      <th>2</th>\n",
       "      <td>10</td>\n",
       "      <td>5196000</td>\n",
       "      <td>56</td>\n",
       "      <td>2015-08-20</td>\n",
       "      <td>2</td>\n",
       "      <td>2.65</td>\n",
       "      <td>5.0</td>\n",
       "      <td>34.3</td>\n",
       "      <td>4</td>\n",
       "      <td>NaN</td>\n",
       "      <td>...</td>\n",
       "      <td>8.3</td>\n",
       "      <td>0</td>\n",
       "      <td>Санкт-Петербург</td>\n",
       "      <td>21741.0</td>\n",
       "      <td>13933.0</td>\n",
       "      <td>1</td>\n",
       "      <td>90.0</td>\n",
       "      <td>2</td>\n",
       "      <td>574.0</td>\n",
       "      <td>558.0</td>\n",
       "    </tr>\n",
       "    <tr>\n",
       "      <th>3</th>\n",
       "      <td>0</td>\n",
       "      <td>64900000</td>\n",
       "      <td>159</td>\n",
       "      <td>2015-07-24</td>\n",
       "      <td>3</td>\n",
       "      <td>2.65</td>\n",
       "      <td>14.0</td>\n",
       "      <td>NaN</td>\n",
       "      <td>9</td>\n",
       "      <td>NaN</td>\n",
       "      <td>...</td>\n",
       "      <td>NaN</td>\n",
       "      <td>0</td>\n",
       "      <td>Санкт-Петербург</td>\n",
       "      <td>28098.0</td>\n",
       "      <td>6800.0</td>\n",
       "      <td>2</td>\n",
       "      <td>84.0</td>\n",
       "      <td>3</td>\n",
       "      <td>234.0</td>\n",
       "      <td>424.0</td>\n",
       "    </tr>\n",
       "    <tr>\n",
       "      <th>4</th>\n",
       "      <td>2</td>\n",
       "      <td>10000000</td>\n",
       "      <td>100</td>\n",
       "      <td>2018-06-19</td>\n",
       "      <td>2</td>\n",
       "      <td>3.03</td>\n",
       "      <td>14.0</td>\n",
       "      <td>32.0</td>\n",
       "      <td>13</td>\n",
       "      <td>NaN</td>\n",
       "      <td>...</td>\n",
       "      <td>41.0</td>\n",
       "      <td>0</td>\n",
       "      <td>Санкт-Петербург</td>\n",
       "      <td>31856.0</td>\n",
       "      <td>8098.0</td>\n",
       "      <td>2</td>\n",
       "      <td>112.0</td>\n",
       "      <td>1</td>\n",
       "      <td>48.0</td>\n",
       "      <td>121.0</td>\n",
       "    </tr>\n",
       "  </tbody>\n",
       "</table>\n",
       "<p>5 rows × 22 columns</p>\n",
       "</div>"
      ],
      "text/plain": [
       "   total_images  last_price  total_area first_day_exposition  rooms  \\\n",
       "0            20    13000000         108           2019-03-07      3   \n",
       "1             7     3350000          40           2018-12-04      1   \n",
       "2            10     5196000          56           2015-08-20      2   \n",
       "3             0    64900000         159           2015-07-24      3   \n",
       "4             2    10000000         100           2018-06-19      2   \n",
       "\n",
       "   ceiling_height  floors_total  living_area  floor is_apartment  ...  \\\n",
       "0            2.70          16.0         51.0      8          NaN  ...   \n",
       "1            2.65          11.0         18.6      1          NaN  ...   \n",
       "2            2.65           5.0         34.3      4          NaN  ...   \n",
       "3            2.65          14.0          NaN      9          NaN  ...   \n",
       "4            3.03          14.0         32.0     13          NaN  ...   \n",
       "\n",
       "   kitchen_area  balcony    locality_name  airports_nearest  \\\n",
       "0          25.0        0  Санкт-Петербург           18863.0   \n",
       "1          11.0        2   посёлок Шушары           12817.0   \n",
       "2           8.3        0  Санкт-Петербург           21741.0   \n",
       "3           NaN        0  Санкт-Петербург           28098.0   \n",
       "4          41.0        0  Санкт-Петербург           31856.0   \n",
       "\n",
       "  city_centers_nearest  parks_around_3000  parks_nearest  ponds_around_3000  \\\n",
       "0              16028.0                  1          482.0                  2   \n",
       "1              18603.0                  0            NaN                  0   \n",
       "2              13933.0                  1           90.0                  2   \n",
       "3               6800.0                  2           84.0                  3   \n",
       "4               8098.0                  2          112.0                  1   \n",
       "\n",
       "   ponds_nearest  days_exposition  \n",
       "0          755.0              NaN  \n",
       "1            NaN             81.0  \n",
       "2          574.0            558.0  \n",
       "3          234.0            424.0  \n",
       "4           48.0            121.0  \n",
       "\n",
       "[5 rows x 22 columns]"
      ]
     },
     "execution_count": 16,
     "metadata": {},
     "output_type": "execute_result"
    }
   ],
   "source": [
    "# заменил строковой тип данных на временной в столбце first_day_exposition\n",
    "df['first_day_exposition'] = pd.to_datetime(\n",
    "    df['first_day_exposition'], format='%Y-%m-%dT%H:%M:%S')\n",
    "df.head()"
   ]
  },
  {
   "cell_type": "markdown",
   "metadata": {},
   "source": [
    "По идее замену на вещественный тип данных на целочисленный нужно сделать почти везде, кроме катогориальных перемен и столбцов ceiling_height, living_area, kitchen_area, но мы сделать это не можем, так как во многих столбцов есть пропущенные значения"
   ]
  },
  {
   "cell_type": "markdown",
   "metadata": {},
   "source": [
    "## Расчёты и добавление результатов в таблицу"
   ]
  },
  {
   "cell_type": "code",
   "execution_count": 17,
   "metadata": {},
   "outputs": [
    {
     "data": {
      "text/html": [
       "<div>\n",
       "<style scoped>\n",
       "    .dataframe tbody tr th:only-of-type {\n",
       "        vertical-align: middle;\n",
       "    }\n",
       "\n",
       "    .dataframe tbody tr th {\n",
       "        vertical-align: top;\n",
       "    }\n",
       "\n",
       "    .dataframe thead th {\n",
       "        text-align: right;\n",
       "    }\n",
       "</style>\n",
       "<table border=\"1\" class=\"dataframe\">\n",
       "  <thead>\n",
       "    <tr style=\"text-align: right;\">\n",
       "      <th></th>\n",
       "      <th>total_images</th>\n",
       "      <th>last_price</th>\n",
       "      <th>total_area</th>\n",
       "      <th>first_day_exposition</th>\n",
       "      <th>rooms</th>\n",
       "      <th>ceiling_height</th>\n",
       "      <th>floors_total</th>\n",
       "      <th>living_area</th>\n",
       "      <th>floor</th>\n",
       "      <th>is_apartment</th>\n",
       "      <th>...</th>\n",
       "      <th>balcony</th>\n",
       "      <th>locality_name</th>\n",
       "      <th>airports_nearest</th>\n",
       "      <th>city_centers_nearest</th>\n",
       "      <th>parks_around_3000</th>\n",
       "      <th>parks_nearest</th>\n",
       "      <th>ponds_around_3000</th>\n",
       "      <th>ponds_nearest</th>\n",
       "      <th>days_exposition</th>\n",
       "      <th>price_per_square_meter</th>\n",
       "    </tr>\n",
       "  </thead>\n",
       "  <tbody>\n",
       "    <tr>\n",
       "      <th>0</th>\n",
       "      <td>20</td>\n",
       "      <td>13000000</td>\n",
       "      <td>108</td>\n",
       "      <td>2019-03-07</td>\n",
       "      <td>3</td>\n",
       "      <td>2.70</td>\n",
       "      <td>16.0</td>\n",
       "      <td>51.0</td>\n",
       "      <td>8</td>\n",
       "      <td>NaN</td>\n",
       "      <td>...</td>\n",
       "      <td>0</td>\n",
       "      <td>Санкт-Петербург</td>\n",
       "      <td>18863.0</td>\n",
       "      <td>16028.0</td>\n",
       "      <td>1</td>\n",
       "      <td>482.0</td>\n",
       "      <td>2</td>\n",
       "      <td>755.0</td>\n",
       "      <td>NaN</td>\n",
       "      <td>120370.370370</td>\n",
       "    </tr>\n",
       "    <tr>\n",
       "      <th>1</th>\n",
       "      <td>7</td>\n",
       "      <td>3350000</td>\n",
       "      <td>40</td>\n",
       "      <td>2018-12-04</td>\n",
       "      <td>1</td>\n",
       "      <td>2.65</td>\n",
       "      <td>11.0</td>\n",
       "      <td>18.6</td>\n",
       "      <td>1</td>\n",
       "      <td>NaN</td>\n",
       "      <td>...</td>\n",
       "      <td>2</td>\n",
       "      <td>посёлок Шушары</td>\n",
       "      <td>12817.0</td>\n",
       "      <td>18603.0</td>\n",
       "      <td>0</td>\n",
       "      <td>NaN</td>\n",
       "      <td>0</td>\n",
       "      <td>NaN</td>\n",
       "      <td>81.0</td>\n",
       "      <td>83750.000000</td>\n",
       "    </tr>\n",
       "    <tr>\n",
       "      <th>2</th>\n",
       "      <td>10</td>\n",
       "      <td>5196000</td>\n",
       "      <td>56</td>\n",
       "      <td>2015-08-20</td>\n",
       "      <td>2</td>\n",
       "      <td>2.65</td>\n",
       "      <td>5.0</td>\n",
       "      <td>34.3</td>\n",
       "      <td>4</td>\n",
       "      <td>NaN</td>\n",
       "      <td>...</td>\n",
       "      <td>0</td>\n",
       "      <td>Санкт-Петербург</td>\n",
       "      <td>21741.0</td>\n",
       "      <td>13933.0</td>\n",
       "      <td>1</td>\n",
       "      <td>90.0</td>\n",
       "      <td>2</td>\n",
       "      <td>574.0</td>\n",
       "      <td>558.0</td>\n",
       "      <td>92785.714286</td>\n",
       "    </tr>\n",
       "    <tr>\n",
       "      <th>3</th>\n",
       "      <td>0</td>\n",
       "      <td>64900000</td>\n",
       "      <td>159</td>\n",
       "      <td>2015-07-24</td>\n",
       "      <td>3</td>\n",
       "      <td>2.65</td>\n",
       "      <td>14.0</td>\n",
       "      <td>NaN</td>\n",
       "      <td>9</td>\n",
       "      <td>NaN</td>\n",
       "      <td>...</td>\n",
       "      <td>0</td>\n",
       "      <td>Санкт-Петербург</td>\n",
       "      <td>28098.0</td>\n",
       "      <td>6800.0</td>\n",
       "      <td>2</td>\n",
       "      <td>84.0</td>\n",
       "      <td>3</td>\n",
       "      <td>234.0</td>\n",
       "      <td>424.0</td>\n",
       "      <td>408176.100629</td>\n",
       "    </tr>\n",
       "    <tr>\n",
       "      <th>4</th>\n",
       "      <td>2</td>\n",
       "      <td>10000000</td>\n",
       "      <td>100</td>\n",
       "      <td>2018-06-19</td>\n",
       "      <td>2</td>\n",
       "      <td>3.03</td>\n",
       "      <td>14.0</td>\n",
       "      <td>32.0</td>\n",
       "      <td>13</td>\n",
       "      <td>NaN</td>\n",
       "      <td>...</td>\n",
       "      <td>0</td>\n",
       "      <td>Санкт-Петербург</td>\n",
       "      <td>31856.0</td>\n",
       "      <td>8098.0</td>\n",
       "      <td>2</td>\n",
       "      <td>112.0</td>\n",
       "      <td>1</td>\n",
       "      <td>48.0</td>\n",
       "      <td>121.0</td>\n",
       "      <td>100000.000000</td>\n",
       "    </tr>\n",
       "  </tbody>\n",
       "</table>\n",
       "<p>5 rows × 23 columns</p>\n",
       "</div>"
      ],
      "text/plain": [
       "   total_images  last_price  total_area first_day_exposition  rooms  \\\n",
       "0            20    13000000         108           2019-03-07      3   \n",
       "1             7     3350000          40           2018-12-04      1   \n",
       "2            10     5196000          56           2015-08-20      2   \n",
       "3             0    64900000         159           2015-07-24      3   \n",
       "4             2    10000000         100           2018-06-19      2   \n",
       "\n",
       "   ceiling_height  floors_total  living_area  floor is_apartment  ...  \\\n",
       "0            2.70          16.0         51.0      8          NaN  ...   \n",
       "1            2.65          11.0         18.6      1          NaN  ...   \n",
       "2            2.65           5.0         34.3      4          NaN  ...   \n",
       "3            2.65          14.0          NaN      9          NaN  ...   \n",
       "4            3.03          14.0         32.0     13          NaN  ...   \n",
       "\n",
       "   balcony    locality_name  airports_nearest  city_centers_nearest  \\\n",
       "0        0  Санкт-Петербург           18863.0               16028.0   \n",
       "1        2   посёлок Шушары           12817.0               18603.0   \n",
       "2        0  Санкт-Петербург           21741.0               13933.0   \n",
       "3        0  Санкт-Петербург           28098.0                6800.0   \n",
       "4        0  Санкт-Петербург           31856.0                8098.0   \n",
       "\n",
       "  parks_around_3000  parks_nearest  ponds_around_3000  ponds_nearest  \\\n",
       "0                 1          482.0                  2          755.0   \n",
       "1                 0            NaN                  0            NaN   \n",
       "2                 1           90.0                  2          574.0   \n",
       "3                 2           84.0                  3          234.0   \n",
       "4                 2          112.0                  1           48.0   \n",
       "\n",
       "   days_exposition  price_per_square_meter  \n",
       "0              NaN           120370.370370  \n",
       "1             81.0            83750.000000  \n",
       "2            558.0            92785.714286  \n",
       "3            424.0           408176.100629  \n",
       "4            121.0           100000.000000  \n",
       "\n",
       "[5 rows x 23 columns]"
      ]
     },
     "execution_count": 17,
     "metadata": {},
     "output_type": "execute_result"
    }
   ],
   "source": [
    "# рассчитал цену квадратного метра, поделив столбец last_price на total_area и сохранил в гнвый столбец price_per_square_meter\n",
    "df['price_per_square_meter'] = df['last_price'] / df['total_area']\n",
    "df.head()"
   ]
  },
  {
   "cell_type": "code",
   "execution_count": 18,
   "metadata": {},
   "outputs": [
    {
     "data": {
      "text/html": [
       "<div>\n",
       "<style scoped>\n",
       "    .dataframe tbody tr th:only-of-type {\n",
       "        vertical-align: middle;\n",
       "    }\n",
       "\n",
       "    .dataframe tbody tr th {\n",
       "        vertical-align: top;\n",
       "    }\n",
       "\n",
       "    .dataframe thead th {\n",
       "        text-align: right;\n",
       "    }\n",
       "</style>\n",
       "<table border=\"1\" class=\"dataframe\">\n",
       "  <thead>\n",
       "    <tr style=\"text-align: right;\">\n",
       "      <th></th>\n",
       "      <th>total_images</th>\n",
       "      <th>last_price</th>\n",
       "      <th>total_area</th>\n",
       "      <th>first_day_exposition</th>\n",
       "      <th>rooms</th>\n",
       "      <th>ceiling_height</th>\n",
       "      <th>floors_total</th>\n",
       "      <th>living_area</th>\n",
       "      <th>floor</th>\n",
       "      <th>is_apartment</th>\n",
       "      <th>...</th>\n",
       "      <th>balcony</th>\n",
       "      <th>locality_name</th>\n",
       "      <th>airports_nearest</th>\n",
       "      <th>city_centers_nearest</th>\n",
       "      <th>parks_around_3000</th>\n",
       "      <th>parks_nearest</th>\n",
       "      <th>ponds_around_3000</th>\n",
       "      <th>ponds_nearest</th>\n",
       "      <th>days_exposition</th>\n",
       "      <th>price_per_square_meter</th>\n",
       "    </tr>\n",
       "  </thead>\n",
       "  <tbody>\n",
       "    <tr>\n",
       "      <th>0</th>\n",
       "      <td>20</td>\n",
       "      <td>13000000</td>\n",
       "      <td>108</td>\n",
       "      <td>2019-03-07</td>\n",
       "      <td>3</td>\n",
       "      <td>2.70</td>\n",
       "      <td>16.0</td>\n",
       "      <td>51.0</td>\n",
       "      <td>8</td>\n",
       "      <td>NaN</td>\n",
       "      <td>...</td>\n",
       "      <td>0</td>\n",
       "      <td>Санкт-Петербург</td>\n",
       "      <td>18863.0</td>\n",
       "      <td>16028.0</td>\n",
       "      <td>1</td>\n",
       "      <td>482.0</td>\n",
       "      <td>2</td>\n",
       "      <td>755.0</td>\n",
       "      <td>NaN</td>\n",
       "      <td>120370</td>\n",
       "    </tr>\n",
       "    <tr>\n",
       "      <th>1</th>\n",
       "      <td>7</td>\n",
       "      <td>3350000</td>\n",
       "      <td>40</td>\n",
       "      <td>2018-12-04</td>\n",
       "      <td>1</td>\n",
       "      <td>2.65</td>\n",
       "      <td>11.0</td>\n",
       "      <td>18.6</td>\n",
       "      <td>1</td>\n",
       "      <td>NaN</td>\n",
       "      <td>...</td>\n",
       "      <td>2</td>\n",
       "      <td>посёлок Шушары</td>\n",
       "      <td>12817.0</td>\n",
       "      <td>18603.0</td>\n",
       "      <td>0</td>\n",
       "      <td>NaN</td>\n",
       "      <td>0</td>\n",
       "      <td>NaN</td>\n",
       "      <td>81.0</td>\n",
       "      <td>83750</td>\n",
       "    </tr>\n",
       "    <tr>\n",
       "      <th>2</th>\n",
       "      <td>10</td>\n",
       "      <td>5196000</td>\n",
       "      <td>56</td>\n",
       "      <td>2015-08-20</td>\n",
       "      <td>2</td>\n",
       "      <td>2.65</td>\n",
       "      <td>5.0</td>\n",
       "      <td>34.3</td>\n",
       "      <td>4</td>\n",
       "      <td>NaN</td>\n",
       "      <td>...</td>\n",
       "      <td>0</td>\n",
       "      <td>Санкт-Петербург</td>\n",
       "      <td>21741.0</td>\n",
       "      <td>13933.0</td>\n",
       "      <td>1</td>\n",
       "      <td>90.0</td>\n",
       "      <td>2</td>\n",
       "      <td>574.0</td>\n",
       "      <td>558.0</td>\n",
       "      <td>92785</td>\n",
       "    </tr>\n",
       "    <tr>\n",
       "      <th>3</th>\n",
       "      <td>0</td>\n",
       "      <td>64900000</td>\n",
       "      <td>159</td>\n",
       "      <td>2015-07-24</td>\n",
       "      <td>3</td>\n",
       "      <td>2.65</td>\n",
       "      <td>14.0</td>\n",
       "      <td>NaN</td>\n",
       "      <td>9</td>\n",
       "      <td>NaN</td>\n",
       "      <td>...</td>\n",
       "      <td>0</td>\n",
       "      <td>Санкт-Петербург</td>\n",
       "      <td>28098.0</td>\n",
       "      <td>6800.0</td>\n",
       "      <td>2</td>\n",
       "      <td>84.0</td>\n",
       "      <td>3</td>\n",
       "      <td>234.0</td>\n",
       "      <td>424.0</td>\n",
       "      <td>408176</td>\n",
       "    </tr>\n",
       "    <tr>\n",
       "      <th>4</th>\n",
       "      <td>2</td>\n",
       "      <td>10000000</td>\n",
       "      <td>100</td>\n",
       "      <td>2018-06-19</td>\n",
       "      <td>2</td>\n",
       "      <td>3.03</td>\n",
       "      <td>14.0</td>\n",
       "      <td>32.0</td>\n",
       "      <td>13</td>\n",
       "      <td>NaN</td>\n",
       "      <td>...</td>\n",
       "      <td>0</td>\n",
       "      <td>Санкт-Петербург</td>\n",
       "      <td>31856.0</td>\n",
       "      <td>8098.0</td>\n",
       "      <td>2</td>\n",
       "      <td>112.0</td>\n",
       "      <td>1</td>\n",
       "      <td>48.0</td>\n",
       "      <td>121.0</td>\n",
       "      <td>100000</td>\n",
       "    </tr>\n",
       "  </tbody>\n",
       "</table>\n",
       "<p>5 rows × 23 columns</p>\n",
       "</div>"
      ],
      "text/plain": [
       "   total_images  last_price  total_area first_day_exposition  rooms  \\\n",
       "0            20    13000000         108           2019-03-07      3   \n",
       "1             7     3350000          40           2018-12-04      1   \n",
       "2            10     5196000          56           2015-08-20      2   \n",
       "3             0    64900000         159           2015-07-24      3   \n",
       "4             2    10000000         100           2018-06-19      2   \n",
       "\n",
       "   ceiling_height  floors_total  living_area  floor is_apartment  ...  \\\n",
       "0            2.70          16.0         51.0      8          NaN  ...   \n",
       "1            2.65          11.0         18.6      1          NaN  ...   \n",
       "2            2.65           5.0         34.3      4          NaN  ...   \n",
       "3            2.65          14.0          NaN      9          NaN  ...   \n",
       "4            3.03          14.0         32.0     13          NaN  ...   \n",
       "\n",
       "   balcony    locality_name  airports_nearest  city_centers_nearest  \\\n",
       "0        0  Санкт-Петербург           18863.0               16028.0   \n",
       "1        2   посёлок Шушары           12817.0               18603.0   \n",
       "2        0  Санкт-Петербург           21741.0               13933.0   \n",
       "3        0  Санкт-Петербург           28098.0                6800.0   \n",
       "4        0  Санкт-Петербург           31856.0                8098.0   \n",
       "\n",
       "  parks_around_3000  parks_nearest  ponds_around_3000  ponds_nearest  \\\n",
       "0                 1          482.0                  2          755.0   \n",
       "1                 0            NaN                  0            NaN   \n",
       "2                 1           90.0                  2          574.0   \n",
       "3                 2           84.0                  3          234.0   \n",
       "4                 2          112.0                  1           48.0   \n",
       "\n",
       "   days_exposition  price_per_square_meter  \n",
       "0              NaN                  120370  \n",
       "1             81.0                   83750  \n",
       "2            558.0                   92785  \n",
       "3            424.0                  408176  \n",
       "4            121.0                  100000  \n",
       "\n",
       "[5 rows x 23 columns]"
      ]
     },
     "execution_count": 18,
     "metadata": {},
     "output_type": "execute_result"
    }
   ],
   "source": [
    "# заменил вещественный тип данных на целочисленный в столбце price_per_square_meter \n",
    "df['price_per_square_meter'] = df['price_per_square_meter'].astype('int')\n",
    "df.head()"
   ]
  },
  {
   "cell_type": "code",
   "execution_count": 19,
   "metadata": {},
   "outputs": [
    {
     "data": {
      "text/html": [
       "<div>\n",
       "<style scoped>\n",
       "    .dataframe tbody tr th:only-of-type {\n",
       "        vertical-align: middle;\n",
       "    }\n",
       "\n",
       "    .dataframe tbody tr th {\n",
       "        vertical-align: top;\n",
       "    }\n",
       "\n",
       "    .dataframe thead th {\n",
       "        text-align: right;\n",
       "    }\n",
       "</style>\n",
       "<table border=\"1\" class=\"dataframe\">\n",
       "  <thead>\n",
       "    <tr style=\"text-align: right;\">\n",
       "      <th></th>\n",
       "      <th>total_images</th>\n",
       "      <th>last_price</th>\n",
       "      <th>total_area</th>\n",
       "      <th>first_day_exposition</th>\n",
       "      <th>rooms</th>\n",
       "      <th>ceiling_height</th>\n",
       "      <th>floors_total</th>\n",
       "      <th>living_area</th>\n",
       "      <th>floor</th>\n",
       "      <th>is_apartment</th>\n",
       "      <th>...</th>\n",
       "      <th>city_centers_nearest</th>\n",
       "      <th>parks_around_3000</th>\n",
       "      <th>parks_nearest</th>\n",
       "      <th>ponds_around_3000</th>\n",
       "      <th>ponds_nearest</th>\n",
       "      <th>days_exposition</th>\n",
       "      <th>price_per_square_meter</th>\n",
       "      <th>day_of_week</th>\n",
       "      <th>day_of_month</th>\n",
       "      <th>day_of_year</th>\n",
       "    </tr>\n",
       "  </thead>\n",
       "  <tbody>\n",
       "    <tr>\n",
       "      <th>0</th>\n",
       "      <td>20</td>\n",
       "      <td>13000000</td>\n",
       "      <td>108</td>\n",
       "      <td>2019-03-07</td>\n",
       "      <td>3</td>\n",
       "      <td>2.70</td>\n",
       "      <td>16.0</td>\n",
       "      <td>51.0</td>\n",
       "      <td>8</td>\n",
       "      <td>NaN</td>\n",
       "      <td>...</td>\n",
       "      <td>16028.0</td>\n",
       "      <td>1</td>\n",
       "      <td>482.0</td>\n",
       "      <td>2</td>\n",
       "      <td>755.0</td>\n",
       "      <td>NaN</td>\n",
       "      <td>120370</td>\n",
       "      <td>Thursday</td>\n",
       "      <td>3</td>\n",
       "      <td>2019</td>\n",
       "    </tr>\n",
       "    <tr>\n",
       "      <th>1</th>\n",
       "      <td>7</td>\n",
       "      <td>3350000</td>\n",
       "      <td>40</td>\n",
       "      <td>2018-12-04</td>\n",
       "      <td>1</td>\n",
       "      <td>2.65</td>\n",
       "      <td>11.0</td>\n",
       "      <td>18.6</td>\n",
       "      <td>1</td>\n",
       "      <td>NaN</td>\n",
       "      <td>...</td>\n",
       "      <td>18603.0</td>\n",
       "      <td>0</td>\n",
       "      <td>NaN</td>\n",
       "      <td>0</td>\n",
       "      <td>NaN</td>\n",
       "      <td>81.0</td>\n",
       "      <td>83750</td>\n",
       "      <td>Tuesday</td>\n",
       "      <td>12</td>\n",
       "      <td>2018</td>\n",
       "    </tr>\n",
       "    <tr>\n",
       "      <th>2</th>\n",
       "      <td>10</td>\n",
       "      <td>5196000</td>\n",
       "      <td>56</td>\n",
       "      <td>2015-08-20</td>\n",
       "      <td>2</td>\n",
       "      <td>2.65</td>\n",
       "      <td>5.0</td>\n",
       "      <td>34.3</td>\n",
       "      <td>4</td>\n",
       "      <td>NaN</td>\n",
       "      <td>...</td>\n",
       "      <td>13933.0</td>\n",
       "      <td>1</td>\n",
       "      <td>90.0</td>\n",
       "      <td>2</td>\n",
       "      <td>574.0</td>\n",
       "      <td>558.0</td>\n",
       "      <td>92785</td>\n",
       "      <td>Thursday</td>\n",
       "      <td>8</td>\n",
       "      <td>2015</td>\n",
       "    </tr>\n",
       "    <tr>\n",
       "      <th>3</th>\n",
       "      <td>0</td>\n",
       "      <td>64900000</td>\n",
       "      <td>159</td>\n",
       "      <td>2015-07-24</td>\n",
       "      <td>3</td>\n",
       "      <td>2.65</td>\n",
       "      <td>14.0</td>\n",
       "      <td>NaN</td>\n",
       "      <td>9</td>\n",
       "      <td>NaN</td>\n",
       "      <td>...</td>\n",
       "      <td>6800.0</td>\n",
       "      <td>2</td>\n",
       "      <td>84.0</td>\n",
       "      <td>3</td>\n",
       "      <td>234.0</td>\n",
       "      <td>424.0</td>\n",
       "      <td>408176</td>\n",
       "      <td>Friday</td>\n",
       "      <td>7</td>\n",
       "      <td>2015</td>\n",
       "    </tr>\n",
       "    <tr>\n",
       "      <th>4</th>\n",
       "      <td>2</td>\n",
       "      <td>10000000</td>\n",
       "      <td>100</td>\n",
       "      <td>2018-06-19</td>\n",
       "      <td>2</td>\n",
       "      <td>3.03</td>\n",
       "      <td>14.0</td>\n",
       "      <td>32.0</td>\n",
       "      <td>13</td>\n",
       "      <td>NaN</td>\n",
       "      <td>...</td>\n",
       "      <td>8098.0</td>\n",
       "      <td>2</td>\n",
       "      <td>112.0</td>\n",
       "      <td>1</td>\n",
       "      <td>48.0</td>\n",
       "      <td>121.0</td>\n",
       "      <td>100000</td>\n",
       "      <td>Tuesday</td>\n",
       "      <td>6</td>\n",
       "      <td>2018</td>\n",
       "    </tr>\n",
       "  </tbody>\n",
       "</table>\n",
       "<p>5 rows × 26 columns</p>\n",
       "</div>"
      ],
      "text/plain": [
       "   total_images  last_price  total_area first_day_exposition  rooms  \\\n",
       "0            20    13000000         108           2019-03-07      3   \n",
       "1             7     3350000          40           2018-12-04      1   \n",
       "2            10     5196000          56           2015-08-20      2   \n",
       "3             0    64900000         159           2015-07-24      3   \n",
       "4             2    10000000         100           2018-06-19      2   \n",
       "\n",
       "   ceiling_height  floors_total  living_area  floor is_apartment  ...  \\\n",
       "0            2.70          16.0         51.0      8          NaN  ...   \n",
       "1            2.65          11.0         18.6      1          NaN  ...   \n",
       "2            2.65           5.0         34.3      4          NaN  ...   \n",
       "3            2.65          14.0          NaN      9          NaN  ...   \n",
       "4            3.03          14.0         32.0     13          NaN  ...   \n",
       "\n",
       "   city_centers_nearest  parks_around_3000  parks_nearest  ponds_around_3000  \\\n",
       "0               16028.0                  1          482.0                  2   \n",
       "1               18603.0                  0            NaN                  0   \n",
       "2               13933.0                  1           90.0                  2   \n",
       "3                6800.0                  2           84.0                  3   \n",
       "4                8098.0                  2          112.0                  1   \n",
       "\n",
       "  ponds_nearest  days_exposition  price_per_square_meter  day_of_week  \\\n",
       "0         755.0              NaN                  120370     Thursday   \n",
       "1           NaN             81.0                   83750      Tuesday   \n",
       "2         574.0            558.0                   92785     Thursday   \n",
       "3         234.0            424.0                  408176       Friday   \n",
       "4          48.0            121.0                  100000      Tuesday   \n",
       "\n",
       "   day_of_month  day_of_year  \n",
       "0             3         2019  \n",
       "1            12         2018  \n",
       "2             8         2015  \n",
       "3             7         2015  \n",
       "4             6         2018  \n",
       "\n",
       "[5 rows x 26 columns]"
      ]
     },
     "execution_count": 19,
     "metadata": {},
     "output_type": "execute_result"
    }
   ],
   "source": [
    "# к столбцу first_day_exposition применил метод dt.day_name(), чтобы выделить день неделе и добавил новый столбец day_of_week\n",
    "df['day_of_week'] = df['first_day_exposition'].dt.day_name()\n",
    "# к столбцу first_day_exposition применил метод dt.month, чтобы выделить месяц и добавил новый столбец day_of_month\n",
    "df['day_of_month'] = df['first_day_exposition'].dt.month\n",
    "# к столбцу first_day_exposition применил метод dt.year, чтобы выделить год и добавил новый столбец day_of_year\n",
    "df['day_of_year'] = df['first_day_exposition'].dt.year\n",
    "df.head()"
   ]
  },
  {
   "cell_type": "code",
   "execution_count": 20,
   "metadata": {},
   "outputs": [
    {
     "data": {
      "text/html": [
       "<div>\n",
       "<style scoped>\n",
       "    .dataframe tbody tr th:only-of-type {\n",
       "        vertical-align: middle;\n",
       "    }\n",
       "\n",
       "    .dataframe tbody tr th {\n",
       "        vertical-align: top;\n",
       "    }\n",
       "\n",
       "    .dataframe thead th {\n",
       "        text-align: right;\n",
       "    }\n",
       "</style>\n",
       "<table border=\"1\" class=\"dataframe\">\n",
       "  <thead>\n",
       "    <tr style=\"text-align: right;\">\n",
       "      <th></th>\n",
       "      <th>total_images</th>\n",
       "      <th>last_price</th>\n",
       "      <th>total_area</th>\n",
       "      <th>first_day_exposition</th>\n",
       "      <th>rooms</th>\n",
       "      <th>ceiling_height</th>\n",
       "      <th>floors_total</th>\n",
       "      <th>living_area</th>\n",
       "      <th>floor</th>\n",
       "      <th>is_apartment</th>\n",
       "      <th>...</th>\n",
       "      <th>parks_around_3000</th>\n",
       "      <th>parks_nearest</th>\n",
       "      <th>ponds_around_3000</th>\n",
       "      <th>ponds_nearest</th>\n",
       "      <th>days_exposition</th>\n",
       "      <th>price_per_square_meter</th>\n",
       "      <th>day_of_week</th>\n",
       "      <th>day_of_month</th>\n",
       "      <th>day_of_year</th>\n",
       "      <th>floors_group</th>\n",
       "    </tr>\n",
       "  </thead>\n",
       "  <tbody>\n",
       "    <tr>\n",
       "      <th>0</th>\n",
       "      <td>20</td>\n",
       "      <td>13000000</td>\n",
       "      <td>108</td>\n",
       "      <td>2019-03-07</td>\n",
       "      <td>3</td>\n",
       "      <td>2.70</td>\n",
       "      <td>16.0</td>\n",
       "      <td>51.00</td>\n",
       "      <td>8</td>\n",
       "      <td>NaN</td>\n",
       "      <td>...</td>\n",
       "      <td>1</td>\n",
       "      <td>482.0</td>\n",
       "      <td>2</td>\n",
       "      <td>755.0</td>\n",
       "      <td>NaN</td>\n",
       "      <td>120370</td>\n",
       "      <td>Thursday</td>\n",
       "      <td>3</td>\n",
       "      <td>2019</td>\n",
       "      <td>другой</td>\n",
       "    </tr>\n",
       "    <tr>\n",
       "      <th>1</th>\n",
       "      <td>7</td>\n",
       "      <td>3350000</td>\n",
       "      <td>40</td>\n",
       "      <td>2018-12-04</td>\n",
       "      <td>1</td>\n",
       "      <td>2.65</td>\n",
       "      <td>11.0</td>\n",
       "      <td>18.60</td>\n",
       "      <td>1</td>\n",
       "      <td>NaN</td>\n",
       "      <td>...</td>\n",
       "      <td>0</td>\n",
       "      <td>NaN</td>\n",
       "      <td>0</td>\n",
       "      <td>NaN</td>\n",
       "      <td>81.0</td>\n",
       "      <td>83750</td>\n",
       "      <td>Tuesday</td>\n",
       "      <td>12</td>\n",
       "      <td>2018</td>\n",
       "      <td>первый</td>\n",
       "    </tr>\n",
       "    <tr>\n",
       "      <th>2</th>\n",
       "      <td>10</td>\n",
       "      <td>5196000</td>\n",
       "      <td>56</td>\n",
       "      <td>2015-08-20</td>\n",
       "      <td>2</td>\n",
       "      <td>2.65</td>\n",
       "      <td>5.0</td>\n",
       "      <td>34.30</td>\n",
       "      <td>4</td>\n",
       "      <td>NaN</td>\n",
       "      <td>...</td>\n",
       "      <td>1</td>\n",
       "      <td>90.0</td>\n",
       "      <td>2</td>\n",
       "      <td>574.0</td>\n",
       "      <td>558.0</td>\n",
       "      <td>92785</td>\n",
       "      <td>Thursday</td>\n",
       "      <td>8</td>\n",
       "      <td>2015</td>\n",
       "      <td>другой</td>\n",
       "    </tr>\n",
       "    <tr>\n",
       "      <th>3</th>\n",
       "      <td>0</td>\n",
       "      <td>64900000</td>\n",
       "      <td>159</td>\n",
       "      <td>2015-07-24</td>\n",
       "      <td>3</td>\n",
       "      <td>2.65</td>\n",
       "      <td>14.0</td>\n",
       "      <td>NaN</td>\n",
       "      <td>9</td>\n",
       "      <td>NaN</td>\n",
       "      <td>...</td>\n",
       "      <td>2</td>\n",
       "      <td>84.0</td>\n",
       "      <td>3</td>\n",
       "      <td>234.0</td>\n",
       "      <td>424.0</td>\n",
       "      <td>408176</td>\n",
       "      <td>Friday</td>\n",
       "      <td>7</td>\n",
       "      <td>2015</td>\n",
       "      <td>другой</td>\n",
       "    </tr>\n",
       "    <tr>\n",
       "      <th>4</th>\n",
       "      <td>2</td>\n",
       "      <td>10000000</td>\n",
       "      <td>100</td>\n",
       "      <td>2018-06-19</td>\n",
       "      <td>2</td>\n",
       "      <td>3.03</td>\n",
       "      <td>14.0</td>\n",
       "      <td>32.00</td>\n",
       "      <td>13</td>\n",
       "      <td>NaN</td>\n",
       "      <td>...</td>\n",
       "      <td>2</td>\n",
       "      <td>112.0</td>\n",
       "      <td>1</td>\n",
       "      <td>48.0</td>\n",
       "      <td>121.0</td>\n",
       "      <td>100000</td>\n",
       "      <td>Tuesday</td>\n",
       "      <td>6</td>\n",
       "      <td>2018</td>\n",
       "      <td>другой</td>\n",
       "    </tr>\n",
       "    <tr>\n",
       "      <th>5</th>\n",
       "      <td>10</td>\n",
       "      <td>2890000</td>\n",
       "      <td>30</td>\n",
       "      <td>2018-09-10</td>\n",
       "      <td>1</td>\n",
       "      <td>2.65</td>\n",
       "      <td>12.0</td>\n",
       "      <td>14.40</td>\n",
       "      <td>5</td>\n",
       "      <td>NaN</td>\n",
       "      <td>...</td>\n",
       "      <td>0</td>\n",
       "      <td>NaN</td>\n",
       "      <td>0</td>\n",
       "      <td>NaN</td>\n",
       "      <td>55.0</td>\n",
       "      <td>96333</td>\n",
       "      <td>Monday</td>\n",
       "      <td>9</td>\n",
       "      <td>2018</td>\n",
       "      <td>другой</td>\n",
       "    </tr>\n",
       "    <tr>\n",
       "      <th>6</th>\n",
       "      <td>6</td>\n",
       "      <td>3700000</td>\n",
       "      <td>37</td>\n",
       "      <td>2017-11-02</td>\n",
       "      <td>1</td>\n",
       "      <td>2.65</td>\n",
       "      <td>26.0</td>\n",
       "      <td>10.60</td>\n",
       "      <td>6</td>\n",
       "      <td>NaN</td>\n",
       "      <td>...</td>\n",
       "      <td>0</td>\n",
       "      <td>NaN</td>\n",
       "      <td>0</td>\n",
       "      <td>NaN</td>\n",
       "      <td>155.0</td>\n",
       "      <td>100000</td>\n",
       "      <td>Thursday</td>\n",
       "      <td>11</td>\n",
       "      <td>2017</td>\n",
       "      <td>другой</td>\n",
       "    </tr>\n",
       "    <tr>\n",
       "      <th>7</th>\n",
       "      <td>5</td>\n",
       "      <td>7915000</td>\n",
       "      <td>71</td>\n",
       "      <td>2019-04-18</td>\n",
       "      <td>2</td>\n",
       "      <td>2.65</td>\n",
       "      <td>24.0</td>\n",
       "      <td>NaN</td>\n",
       "      <td>22</td>\n",
       "      <td>NaN</td>\n",
       "      <td>...</td>\n",
       "      <td>0</td>\n",
       "      <td>NaN</td>\n",
       "      <td>0</td>\n",
       "      <td>NaN</td>\n",
       "      <td>NaN</td>\n",
       "      <td>111478</td>\n",
       "      <td>Thursday</td>\n",
       "      <td>4</td>\n",
       "      <td>2019</td>\n",
       "      <td>другой</td>\n",
       "    </tr>\n",
       "    <tr>\n",
       "      <th>8</th>\n",
       "      <td>20</td>\n",
       "      <td>2900000</td>\n",
       "      <td>33</td>\n",
       "      <td>2018-05-23</td>\n",
       "      <td>1</td>\n",
       "      <td>2.65</td>\n",
       "      <td>27.0</td>\n",
       "      <td>15.43</td>\n",
       "      <td>26</td>\n",
       "      <td>NaN</td>\n",
       "      <td>...</td>\n",
       "      <td>0</td>\n",
       "      <td>NaN</td>\n",
       "      <td>0</td>\n",
       "      <td>NaN</td>\n",
       "      <td>189.0</td>\n",
       "      <td>87878</td>\n",
       "      <td>Wednesday</td>\n",
       "      <td>5</td>\n",
       "      <td>2018</td>\n",
       "      <td>другой</td>\n",
       "    </tr>\n",
       "    <tr>\n",
       "      <th>9</th>\n",
       "      <td>18</td>\n",
       "      <td>5400000</td>\n",
       "      <td>61</td>\n",
       "      <td>2017-02-26</td>\n",
       "      <td>3</td>\n",
       "      <td>2.50</td>\n",
       "      <td>9.0</td>\n",
       "      <td>43.60</td>\n",
       "      <td>7</td>\n",
       "      <td>NaN</td>\n",
       "      <td>...</td>\n",
       "      <td>0</td>\n",
       "      <td>NaN</td>\n",
       "      <td>0</td>\n",
       "      <td>NaN</td>\n",
       "      <td>289.0</td>\n",
       "      <td>88524</td>\n",
       "      <td>Sunday</td>\n",
       "      <td>2</td>\n",
       "      <td>2017</td>\n",
       "      <td>другой</td>\n",
       "    </tr>\n",
       "    <tr>\n",
       "      <th>10</th>\n",
       "      <td>5</td>\n",
       "      <td>5050000</td>\n",
       "      <td>39</td>\n",
       "      <td>2017-11-16</td>\n",
       "      <td>1</td>\n",
       "      <td>2.67</td>\n",
       "      <td>12.0</td>\n",
       "      <td>20.30</td>\n",
       "      <td>3</td>\n",
       "      <td>NaN</td>\n",
       "      <td>...</td>\n",
       "      <td>1</td>\n",
       "      <td>310.0</td>\n",
       "      <td>2</td>\n",
       "      <td>553.0</td>\n",
       "      <td>137.0</td>\n",
       "      <td>129487</td>\n",
       "      <td>Thursday</td>\n",
       "      <td>11</td>\n",
       "      <td>2017</td>\n",
       "      <td>другой</td>\n",
       "    </tr>\n",
       "    <tr>\n",
       "      <th>11</th>\n",
       "      <td>9</td>\n",
       "      <td>3300000</td>\n",
       "      <td>44</td>\n",
       "      <td>2018-08-27</td>\n",
       "      <td>2</td>\n",
       "      <td>2.65</td>\n",
       "      <td>5.0</td>\n",
       "      <td>31.00</td>\n",
       "      <td>4</td>\n",
       "      <td>False</td>\n",
       "      <td>...</td>\n",
       "      <td>0</td>\n",
       "      <td>NaN</td>\n",
       "      <td>0</td>\n",
       "      <td>NaN</td>\n",
       "      <td>7.0</td>\n",
       "      <td>75000</td>\n",
       "      <td>Monday</td>\n",
       "      <td>8</td>\n",
       "      <td>2018</td>\n",
       "      <td>другой</td>\n",
       "    </tr>\n",
       "    <tr>\n",
       "      <th>12</th>\n",
       "      <td>10</td>\n",
       "      <td>3890000</td>\n",
       "      <td>54</td>\n",
       "      <td>2016-06-30</td>\n",
       "      <td>2</td>\n",
       "      <td>2.65</td>\n",
       "      <td>5.0</td>\n",
       "      <td>30.00</td>\n",
       "      <td>5</td>\n",
       "      <td>NaN</td>\n",
       "      <td>...</td>\n",
       "      <td>0</td>\n",
       "      <td>NaN</td>\n",
       "      <td>0</td>\n",
       "      <td>NaN</td>\n",
       "      <td>90.0</td>\n",
       "      <td>72037</td>\n",
       "      <td>Thursday</td>\n",
       "      <td>6</td>\n",
       "      <td>2016</td>\n",
       "      <td>последний</td>\n",
       "    </tr>\n",
       "    <tr>\n",
       "      <th>13</th>\n",
       "      <td>20</td>\n",
       "      <td>3550000</td>\n",
       "      <td>42</td>\n",
       "      <td>2017-07-01</td>\n",
       "      <td>2</td>\n",
       "      <td>2.56</td>\n",
       "      <td>5.0</td>\n",
       "      <td>27.00</td>\n",
       "      <td>5</td>\n",
       "      <td>NaN</td>\n",
       "      <td>...</td>\n",
       "      <td>1</td>\n",
       "      <td>294.0</td>\n",
       "      <td>3</td>\n",
       "      <td>298.0</td>\n",
       "      <td>366.0</td>\n",
       "      <td>84523</td>\n",
       "      <td>Saturday</td>\n",
       "      <td>7</td>\n",
       "      <td>2017</td>\n",
       "      <td>последний</td>\n",
       "    </tr>\n",
       "    <tr>\n",
       "      <th>14</th>\n",
       "      <td>1</td>\n",
       "      <td>4400000</td>\n",
       "      <td>36</td>\n",
       "      <td>2016-06-23</td>\n",
       "      <td>1</td>\n",
       "      <td>2.65</td>\n",
       "      <td>6.0</td>\n",
       "      <td>17.00</td>\n",
       "      <td>1</td>\n",
       "      <td>NaN</td>\n",
       "      <td>...</td>\n",
       "      <td>0</td>\n",
       "      <td>NaN</td>\n",
       "      <td>1</td>\n",
       "      <td>96.0</td>\n",
       "      <td>203.0</td>\n",
       "      <td>122222</td>\n",
       "      <td>Thursday</td>\n",
       "      <td>6</td>\n",
       "      <td>2016</td>\n",
       "      <td>первый</td>\n",
       "    </tr>\n",
       "  </tbody>\n",
       "</table>\n",
       "<p>15 rows × 27 columns</p>\n",
       "</div>"
      ],
      "text/plain": [
       "    total_images  last_price  total_area first_day_exposition  rooms  \\\n",
       "0             20    13000000         108           2019-03-07      3   \n",
       "1              7     3350000          40           2018-12-04      1   \n",
       "2             10     5196000          56           2015-08-20      2   \n",
       "3              0    64900000         159           2015-07-24      3   \n",
       "4              2    10000000         100           2018-06-19      2   \n",
       "5             10     2890000          30           2018-09-10      1   \n",
       "6              6     3700000          37           2017-11-02      1   \n",
       "7              5     7915000          71           2019-04-18      2   \n",
       "8             20     2900000          33           2018-05-23      1   \n",
       "9             18     5400000          61           2017-02-26      3   \n",
       "10             5     5050000          39           2017-11-16      1   \n",
       "11             9     3300000          44           2018-08-27      2   \n",
       "12            10     3890000          54           2016-06-30      2   \n",
       "13            20     3550000          42           2017-07-01      2   \n",
       "14             1     4400000          36           2016-06-23      1   \n",
       "\n",
       "    ceiling_height  floors_total  living_area  floor is_apartment  ...  \\\n",
       "0             2.70          16.0        51.00      8          NaN  ...   \n",
       "1             2.65          11.0        18.60      1          NaN  ...   \n",
       "2             2.65           5.0        34.30      4          NaN  ...   \n",
       "3             2.65          14.0          NaN      9          NaN  ...   \n",
       "4             3.03          14.0        32.00     13          NaN  ...   \n",
       "5             2.65          12.0        14.40      5          NaN  ...   \n",
       "6             2.65          26.0        10.60      6          NaN  ...   \n",
       "7             2.65          24.0          NaN     22          NaN  ...   \n",
       "8             2.65          27.0        15.43     26          NaN  ...   \n",
       "9             2.50           9.0        43.60      7          NaN  ...   \n",
       "10            2.67          12.0        20.30      3          NaN  ...   \n",
       "11            2.65           5.0        31.00      4        False  ...   \n",
       "12            2.65           5.0        30.00      5          NaN  ...   \n",
       "13            2.56           5.0        27.00      5          NaN  ...   \n",
       "14            2.65           6.0        17.00      1          NaN  ...   \n",
       "\n",
       "    parks_around_3000  parks_nearest  ponds_around_3000  ponds_nearest  \\\n",
       "0                   1          482.0                  2          755.0   \n",
       "1                   0            NaN                  0            NaN   \n",
       "2                   1           90.0                  2          574.0   \n",
       "3                   2           84.0                  3          234.0   \n",
       "4                   2          112.0                  1           48.0   \n",
       "5                   0            NaN                  0            NaN   \n",
       "6                   0            NaN                  0            NaN   \n",
       "7                   0            NaN                  0            NaN   \n",
       "8                   0            NaN                  0            NaN   \n",
       "9                   0            NaN                  0            NaN   \n",
       "10                  1          310.0                  2          553.0   \n",
       "11                  0            NaN                  0            NaN   \n",
       "12                  0            NaN                  0            NaN   \n",
       "13                  1          294.0                  3          298.0   \n",
       "14                  0            NaN                  1           96.0   \n",
       "\n",
       "   days_exposition  price_per_square_meter  day_of_week  day_of_month  \\\n",
       "0              NaN                  120370     Thursday             3   \n",
       "1             81.0                   83750      Tuesday            12   \n",
       "2            558.0                   92785     Thursday             8   \n",
       "3            424.0                  408176       Friday             7   \n",
       "4            121.0                  100000      Tuesday             6   \n",
       "5             55.0                   96333       Monday             9   \n",
       "6            155.0                  100000     Thursday            11   \n",
       "7              NaN                  111478     Thursday             4   \n",
       "8            189.0                   87878    Wednesday             5   \n",
       "9            289.0                   88524       Sunday             2   \n",
       "10           137.0                  129487     Thursday            11   \n",
       "11             7.0                   75000       Monday             8   \n",
       "12            90.0                   72037     Thursday             6   \n",
       "13           366.0                   84523     Saturday             7   \n",
       "14           203.0                  122222     Thursday             6   \n",
       "\n",
       "    day_of_year  floors_group  \n",
       "0          2019        другой  \n",
       "1          2018        первый  \n",
       "2          2015        другой  \n",
       "3          2015        другой  \n",
       "4          2018        другой  \n",
       "5          2018        другой  \n",
       "6          2017        другой  \n",
       "7          2019        другой  \n",
       "8          2018        другой  \n",
       "9          2017        другой  \n",
       "10         2017        другой  \n",
       "11         2018        другой  \n",
       "12         2016     последний  \n",
       "13         2017     последний  \n",
       "14         2016        первый  \n",
       "\n",
       "[15 rows x 27 columns]"
      ]
     },
     "execution_count": 20,
     "metadata": {},
     "output_type": "execute_result"
    }
   ],
   "source": [
    "# добавил новый столбец last_floor, чтобы найтти последние этажи\n",
    "df['last_floor'] = df['floor'] == df['floors_total']\n",
    "# создал функцию floors_group и задал параметр row\n",
    "def floors_group(row): \n",
    "    \n",
    "    # создал переменную floor и прировнял к значение столбцу floor\n",
    "    floor = row['floor']\n",
    "    # создал переменную last_floor и прировнял к значение столбцу last_floor\n",
    "    last_floor = row['last_floor']\n",
    "    \n",
    "    # если переменная floor = 1, то\n",
    "    if floor == 1:\n",
    "        # присвоить значение \"первый\"\n",
    "        return 'первый'\n",
    "    # если переменная last_floor, то\n",
    "    if last_floor:\n",
    "        # присвоить значение \"последний\"\n",
    "        return 'последний'\n",
    "    # присвоить значение \"другой\", елси не выполняются два преведущих условия\n",
    "    return 'другой'\n",
    "\n",
    "# добавил новый столбец floors_group, применли метод apply и задал парметр axis=1\n",
    "df['floors_group'] = df.apply(floors_group, axis=1)\n",
    "# удалил столбец last_floor\n",
    "df.pop('last_floor')\n",
    "df.head(15)"
   ]
  },
  {
   "cell_type": "code",
   "execution_count": 21,
   "metadata": {},
   "outputs": [
    {
     "data": {
      "text/html": [
       "<div>\n",
       "<style scoped>\n",
       "    .dataframe tbody tr th:only-of-type {\n",
       "        vertical-align: middle;\n",
       "    }\n",
       "\n",
       "    .dataframe tbody tr th {\n",
       "        vertical-align: top;\n",
       "    }\n",
       "\n",
       "    .dataframe thead th {\n",
       "        text-align: right;\n",
       "    }\n",
       "</style>\n",
       "<table border=\"1\" class=\"dataframe\">\n",
       "  <thead>\n",
       "    <tr style=\"text-align: right;\">\n",
       "      <th></th>\n",
       "      <th>total_images</th>\n",
       "      <th>last_price</th>\n",
       "      <th>total_area</th>\n",
       "      <th>first_day_exposition</th>\n",
       "      <th>rooms</th>\n",
       "      <th>ceiling_height</th>\n",
       "      <th>floors_total</th>\n",
       "      <th>living_area</th>\n",
       "      <th>floor</th>\n",
       "      <th>is_apartment</th>\n",
       "      <th>...</th>\n",
       "      <th>parks_nearest</th>\n",
       "      <th>ponds_around_3000</th>\n",
       "      <th>ponds_nearest</th>\n",
       "      <th>days_exposition</th>\n",
       "      <th>price_per_square_meter</th>\n",
       "      <th>day_of_week</th>\n",
       "      <th>day_of_month</th>\n",
       "      <th>day_of_year</th>\n",
       "      <th>floors_group</th>\n",
       "      <th>living_total_area_ratio</th>\n",
       "    </tr>\n",
       "  </thead>\n",
       "  <tbody>\n",
       "    <tr>\n",
       "      <th>0</th>\n",
       "      <td>20</td>\n",
       "      <td>13000000</td>\n",
       "      <td>108</td>\n",
       "      <td>2019-03-07</td>\n",
       "      <td>3</td>\n",
       "      <td>2.70</td>\n",
       "      <td>16.0</td>\n",
       "      <td>51.0</td>\n",
       "      <td>8</td>\n",
       "      <td>NaN</td>\n",
       "      <td>...</td>\n",
       "      <td>482.0</td>\n",
       "      <td>2</td>\n",
       "      <td>755.0</td>\n",
       "      <td>NaN</td>\n",
       "      <td>120370</td>\n",
       "      <td>Thursday</td>\n",
       "      <td>3</td>\n",
       "      <td>2019</td>\n",
       "      <td>другой</td>\n",
       "      <td>0.472222</td>\n",
       "    </tr>\n",
       "    <tr>\n",
       "      <th>1</th>\n",
       "      <td>7</td>\n",
       "      <td>3350000</td>\n",
       "      <td>40</td>\n",
       "      <td>2018-12-04</td>\n",
       "      <td>1</td>\n",
       "      <td>2.65</td>\n",
       "      <td>11.0</td>\n",
       "      <td>18.6</td>\n",
       "      <td>1</td>\n",
       "      <td>NaN</td>\n",
       "      <td>...</td>\n",
       "      <td>NaN</td>\n",
       "      <td>0</td>\n",
       "      <td>NaN</td>\n",
       "      <td>81.0</td>\n",
       "      <td>83750</td>\n",
       "      <td>Tuesday</td>\n",
       "      <td>12</td>\n",
       "      <td>2018</td>\n",
       "      <td>первый</td>\n",
       "      <td>0.465000</td>\n",
       "    </tr>\n",
       "    <tr>\n",
       "      <th>2</th>\n",
       "      <td>10</td>\n",
       "      <td>5196000</td>\n",
       "      <td>56</td>\n",
       "      <td>2015-08-20</td>\n",
       "      <td>2</td>\n",
       "      <td>2.65</td>\n",
       "      <td>5.0</td>\n",
       "      <td>34.3</td>\n",
       "      <td>4</td>\n",
       "      <td>NaN</td>\n",
       "      <td>...</td>\n",
       "      <td>90.0</td>\n",
       "      <td>2</td>\n",
       "      <td>574.0</td>\n",
       "      <td>558.0</td>\n",
       "      <td>92785</td>\n",
       "      <td>Thursday</td>\n",
       "      <td>8</td>\n",
       "      <td>2015</td>\n",
       "      <td>другой</td>\n",
       "      <td>0.612500</td>\n",
       "    </tr>\n",
       "    <tr>\n",
       "      <th>3</th>\n",
       "      <td>0</td>\n",
       "      <td>64900000</td>\n",
       "      <td>159</td>\n",
       "      <td>2015-07-24</td>\n",
       "      <td>3</td>\n",
       "      <td>2.65</td>\n",
       "      <td>14.0</td>\n",
       "      <td>NaN</td>\n",
       "      <td>9</td>\n",
       "      <td>NaN</td>\n",
       "      <td>...</td>\n",
       "      <td>84.0</td>\n",
       "      <td>3</td>\n",
       "      <td>234.0</td>\n",
       "      <td>424.0</td>\n",
       "      <td>408176</td>\n",
       "      <td>Friday</td>\n",
       "      <td>7</td>\n",
       "      <td>2015</td>\n",
       "      <td>другой</td>\n",
       "      <td>NaN</td>\n",
       "    </tr>\n",
       "    <tr>\n",
       "      <th>4</th>\n",
       "      <td>2</td>\n",
       "      <td>10000000</td>\n",
       "      <td>100</td>\n",
       "      <td>2018-06-19</td>\n",
       "      <td>2</td>\n",
       "      <td>3.03</td>\n",
       "      <td>14.0</td>\n",
       "      <td>32.0</td>\n",
       "      <td>13</td>\n",
       "      <td>NaN</td>\n",
       "      <td>...</td>\n",
       "      <td>112.0</td>\n",
       "      <td>1</td>\n",
       "      <td>48.0</td>\n",
       "      <td>121.0</td>\n",
       "      <td>100000</td>\n",
       "      <td>Tuesday</td>\n",
       "      <td>6</td>\n",
       "      <td>2018</td>\n",
       "      <td>другой</td>\n",
       "      <td>0.320000</td>\n",
       "    </tr>\n",
       "  </tbody>\n",
       "</table>\n",
       "<p>5 rows × 28 columns</p>\n",
       "</div>"
      ],
      "text/plain": [
       "   total_images  last_price  total_area first_day_exposition  rooms  \\\n",
       "0            20    13000000         108           2019-03-07      3   \n",
       "1             7     3350000          40           2018-12-04      1   \n",
       "2            10     5196000          56           2015-08-20      2   \n",
       "3             0    64900000         159           2015-07-24      3   \n",
       "4             2    10000000         100           2018-06-19      2   \n",
       "\n",
       "   ceiling_height  floors_total  living_area  floor is_apartment  ...  \\\n",
       "0            2.70          16.0         51.0      8          NaN  ...   \n",
       "1            2.65          11.0         18.6      1          NaN  ...   \n",
       "2            2.65           5.0         34.3      4          NaN  ...   \n",
       "3            2.65          14.0          NaN      9          NaN  ...   \n",
       "4            3.03          14.0         32.0     13          NaN  ...   \n",
       "\n",
       "   parks_nearest  ponds_around_3000  ponds_nearest  days_exposition  \\\n",
       "0          482.0                  2          755.0              NaN   \n",
       "1            NaN                  0            NaN             81.0   \n",
       "2           90.0                  2          574.0            558.0   \n",
       "3           84.0                  3          234.0            424.0   \n",
       "4          112.0                  1           48.0            121.0   \n",
       "\n",
       "  price_per_square_meter  day_of_week  day_of_month  day_of_year  \\\n",
       "0                 120370     Thursday             3         2019   \n",
       "1                  83750      Tuesday            12         2018   \n",
       "2                  92785     Thursday             8         2015   \n",
       "3                 408176       Friday             7         2015   \n",
       "4                 100000      Tuesday             6         2018   \n",
       "\n",
       "   floors_group  living_total_area_ratio  \n",
       "0        другой                 0.472222  \n",
       "1        первый                 0.465000  \n",
       "2        другой                 0.612500  \n",
       "3        другой                      NaN  \n",
       "4        другой                 0.320000  \n",
       "\n",
       "[5 rows x 28 columns]"
      ]
     },
     "execution_count": 21,
     "metadata": {},
     "output_type": "execute_result"
    }
   ],
   "source": [
    "# нашёл отношение между столбцом living_area и total_area и сохранил в новый столбец living_total_area_ratio\n",
    "df['living_total_area_ratio'] = df['living_area'] / df['total_area'] \n",
    "df.head()"
   ]
  },
  {
   "cell_type": "code",
   "execution_count": 22,
   "metadata": {
    "scrolled": true
   },
   "outputs": [
    {
     "data": {
      "text/html": [
       "<div>\n",
       "<style scoped>\n",
       "    .dataframe tbody tr th:only-of-type {\n",
       "        vertical-align: middle;\n",
       "    }\n",
       "\n",
       "    .dataframe tbody tr th {\n",
       "        vertical-align: top;\n",
       "    }\n",
       "\n",
       "    .dataframe thead th {\n",
       "        text-align: right;\n",
       "    }\n",
       "</style>\n",
       "<table border=\"1\" class=\"dataframe\">\n",
       "  <thead>\n",
       "    <tr style=\"text-align: right;\">\n",
       "      <th></th>\n",
       "      <th>total_images</th>\n",
       "      <th>last_price</th>\n",
       "      <th>total_area</th>\n",
       "      <th>first_day_exposition</th>\n",
       "      <th>rooms</th>\n",
       "      <th>ceiling_height</th>\n",
       "      <th>floors_total</th>\n",
       "      <th>living_area</th>\n",
       "      <th>floor</th>\n",
       "      <th>is_apartment</th>\n",
       "      <th>...</th>\n",
       "      <th>ponds_around_3000</th>\n",
       "      <th>ponds_nearest</th>\n",
       "      <th>days_exposition</th>\n",
       "      <th>price_per_square_meter</th>\n",
       "      <th>day_of_week</th>\n",
       "      <th>day_of_month</th>\n",
       "      <th>day_of_year</th>\n",
       "      <th>floors_group</th>\n",
       "      <th>living_total_area_ratio</th>\n",
       "      <th>kitchen_total_area_ratio</th>\n",
       "    </tr>\n",
       "  </thead>\n",
       "  <tbody>\n",
       "    <tr>\n",
       "      <th>0</th>\n",
       "      <td>20</td>\n",
       "      <td>13000000</td>\n",
       "      <td>108</td>\n",
       "      <td>2019-03-07</td>\n",
       "      <td>3</td>\n",
       "      <td>2.70</td>\n",
       "      <td>16.0</td>\n",
       "      <td>51.0</td>\n",
       "      <td>8</td>\n",
       "      <td>NaN</td>\n",
       "      <td>...</td>\n",
       "      <td>2</td>\n",
       "      <td>755.0</td>\n",
       "      <td>NaN</td>\n",
       "      <td>120370</td>\n",
       "      <td>Thursday</td>\n",
       "      <td>3</td>\n",
       "      <td>2019</td>\n",
       "      <td>другой</td>\n",
       "      <td>0.472222</td>\n",
       "      <td>0.231481</td>\n",
       "    </tr>\n",
       "    <tr>\n",
       "      <th>1</th>\n",
       "      <td>7</td>\n",
       "      <td>3350000</td>\n",
       "      <td>40</td>\n",
       "      <td>2018-12-04</td>\n",
       "      <td>1</td>\n",
       "      <td>2.65</td>\n",
       "      <td>11.0</td>\n",
       "      <td>18.6</td>\n",
       "      <td>1</td>\n",
       "      <td>NaN</td>\n",
       "      <td>...</td>\n",
       "      <td>0</td>\n",
       "      <td>NaN</td>\n",
       "      <td>81.0</td>\n",
       "      <td>83750</td>\n",
       "      <td>Tuesday</td>\n",
       "      <td>12</td>\n",
       "      <td>2018</td>\n",
       "      <td>первый</td>\n",
       "      <td>0.465000</td>\n",
       "      <td>0.275000</td>\n",
       "    </tr>\n",
       "    <tr>\n",
       "      <th>2</th>\n",
       "      <td>10</td>\n",
       "      <td>5196000</td>\n",
       "      <td>56</td>\n",
       "      <td>2015-08-20</td>\n",
       "      <td>2</td>\n",
       "      <td>2.65</td>\n",
       "      <td>5.0</td>\n",
       "      <td>34.3</td>\n",
       "      <td>4</td>\n",
       "      <td>NaN</td>\n",
       "      <td>...</td>\n",
       "      <td>2</td>\n",
       "      <td>574.0</td>\n",
       "      <td>558.0</td>\n",
       "      <td>92785</td>\n",
       "      <td>Thursday</td>\n",
       "      <td>8</td>\n",
       "      <td>2015</td>\n",
       "      <td>другой</td>\n",
       "      <td>0.612500</td>\n",
       "      <td>0.148214</td>\n",
       "    </tr>\n",
       "    <tr>\n",
       "      <th>3</th>\n",
       "      <td>0</td>\n",
       "      <td>64900000</td>\n",
       "      <td>159</td>\n",
       "      <td>2015-07-24</td>\n",
       "      <td>3</td>\n",
       "      <td>2.65</td>\n",
       "      <td>14.0</td>\n",
       "      <td>NaN</td>\n",
       "      <td>9</td>\n",
       "      <td>NaN</td>\n",
       "      <td>...</td>\n",
       "      <td>3</td>\n",
       "      <td>234.0</td>\n",
       "      <td>424.0</td>\n",
       "      <td>408176</td>\n",
       "      <td>Friday</td>\n",
       "      <td>7</td>\n",
       "      <td>2015</td>\n",
       "      <td>другой</td>\n",
       "      <td>NaN</td>\n",
       "      <td>NaN</td>\n",
       "    </tr>\n",
       "    <tr>\n",
       "      <th>4</th>\n",
       "      <td>2</td>\n",
       "      <td>10000000</td>\n",
       "      <td>100</td>\n",
       "      <td>2018-06-19</td>\n",
       "      <td>2</td>\n",
       "      <td>3.03</td>\n",
       "      <td>14.0</td>\n",
       "      <td>32.0</td>\n",
       "      <td>13</td>\n",
       "      <td>NaN</td>\n",
       "      <td>...</td>\n",
       "      <td>1</td>\n",
       "      <td>48.0</td>\n",
       "      <td>121.0</td>\n",
       "      <td>100000</td>\n",
       "      <td>Tuesday</td>\n",
       "      <td>6</td>\n",
       "      <td>2018</td>\n",
       "      <td>другой</td>\n",
       "      <td>0.320000</td>\n",
       "      <td>0.410000</td>\n",
       "    </tr>\n",
       "  </tbody>\n",
       "</table>\n",
       "<p>5 rows × 29 columns</p>\n",
       "</div>"
      ],
      "text/plain": [
       "   total_images  last_price  total_area first_day_exposition  rooms  \\\n",
       "0            20    13000000         108           2019-03-07      3   \n",
       "1             7     3350000          40           2018-12-04      1   \n",
       "2            10     5196000          56           2015-08-20      2   \n",
       "3             0    64900000         159           2015-07-24      3   \n",
       "4             2    10000000         100           2018-06-19      2   \n",
       "\n",
       "   ceiling_height  floors_total  living_area  floor is_apartment  ...  \\\n",
       "0            2.70          16.0         51.0      8          NaN  ...   \n",
       "1            2.65          11.0         18.6      1          NaN  ...   \n",
       "2            2.65           5.0         34.3      4          NaN  ...   \n",
       "3            2.65          14.0          NaN      9          NaN  ...   \n",
       "4            3.03          14.0         32.0     13          NaN  ...   \n",
       "\n",
       "   ponds_around_3000  ponds_nearest  days_exposition  price_per_square_meter  \\\n",
       "0                  2          755.0              NaN                  120370   \n",
       "1                  0            NaN             81.0                   83750   \n",
       "2                  2          574.0            558.0                   92785   \n",
       "3                  3          234.0            424.0                  408176   \n",
       "4                  1           48.0            121.0                  100000   \n",
       "\n",
       "  day_of_week  day_of_month  day_of_year  floors_group  \\\n",
       "0    Thursday             3         2019        другой   \n",
       "1     Tuesday            12         2018        первый   \n",
       "2    Thursday             8         2015        другой   \n",
       "3      Friday             7         2015        другой   \n",
       "4     Tuesday             6         2018        другой   \n",
       "\n",
       "   living_total_area_ratio  kitchen_total_area_ratio  \n",
       "0                 0.472222                  0.231481  \n",
       "1                 0.465000                  0.275000  \n",
       "2                 0.612500                  0.148214  \n",
       "3                      NaN                       NaN  \n",
       "4                 0.320000                  0.410000  \n",
       "\n",
       "[5 rows x 29 columns]"
      ]
     },
     "execution_count": 22,
     "metadata": {},
     "output_type": "execute_result"
    }
   ],
   "source": [
    "# нашёл отношение между столбцом kitchen_area и total_area и сохранил в новый столбец kitchen_total_area_ratio\n",
    "df['kitchen_total_area_ratio'] = df['kitchen_area'] / df['total_area']\n",
    "df.head()"
   ]
  },
  {
   "cell_type": "markdown",
   "metadata": {},
   "source": [
    "## Исследовательский анализ данных"
   ]
  },
  {
   "cell_type": "code",
   "execution_count": 23,
   "metadata": {},
   "outputs": [
    {
     "data": {
      "text/plain": [
       "count    23699.000000\n",
       "mean        60.120511\n",
       "std         35.665822\n",
       "min         12.000000\n",
       "25%         40.000000\n",
       "50%         52.000000\n",
       "75%         69.000000\n",
       "max        900.000000\n",
       "Name: total_area, dtype: float64"
      ]
     },
     "execution_count": 23,
     "metadata": {},
     "output_type": "execute_result"
    }
   ],
   "source": [
    "# применли метод describe и посмотрел интересующие значения\n",
    "df['total_area'].describe()"
   ]
  },
  {
   "cell_type": "code",
   "execution_count": 24,
   "metadata": {},
   "outputs": [
    {
     "data": {
      "image/png": "[encoded data removed]",
      "text/plain": [
       "<Figure size 432x288 with 1 Axes>"
      ]
     },
     "metadata": {
      "needs_background": "light"
     },
     "output_type": "display_data"
    }
   ],
   "source": [
    "# построил гистрограмму по столбцу total_area\n",
    "df['total_area'].hist(edgecolor='black');\n",
    "plt.title('Площадь квартир');\n",
    "plt.xlabel('м²');"
   ]
  },
  {
   "cell_type": "code",
   "execution_count": 25,
   "metadata": {},
   "outputs": [
    {
     "data": {
      "image/png": "[encoded data removed]",
      "text/plain": [
       "<Figure size 432x288 with 1 Axes>"
      ]
     },
     "metadata": {
      "needs_background": "light"
     },
     "output_type": "display_data"
    }
   ],
   "source": [
    "# построил гистрограмму по столбцу total_area, применил параметр bins=100 и параметр range=(0, 400)\n",
    "df['total_area'].hist(bins=100, range=(0, 400));\n",
    "plt.title('Площадь квартир');\n",
    "plt.xlabel('м²');"
   ]
  },
  {
   "cell_type": "markdown",
   "metadata": {},
   "source": [
    "**Вывод:**\n",
    "\n",
    "По гистограмме видно, что большинство площадь у квартир вывешена в диапозоне от 40 до 45 квадартных метров и чуть меньше от 30 до 35"
   ]
  },
  {
   "cell_type": "code",
   "execution_count": 26,
   "metadata": {},
   "outputs": [
    {
     "data": {
      "text/plain": [
       "count    2.369900e+04\n",
       "mean     6.541549e+06\n",
       "std      1.088701e+07\n",
       "min      1.219000e+04\n",
       "25%      3.400000e+06\n",
       "50%      4.650000e+06\n",
       "75%      6.800000e+06\n",
       "max      7.630000e+08\n",
       "Name: last_price, dtype: float64"
      ]
     },
     "execution_count": 26,
     "metadata": {},
     "output_type": "execute_result"
    }
   ],
   "source": [
    "# применли метод describe и посмотрел интересующие значения\n",
    "df['last_price'].describe()"
   ]
  },
  {
   "cell_type": "code",
   "execution_count": 27,
   "metadata": {},
   "outputs": [
    {
     "data": {
      "text/plain": [
       "count        23699.000000\n",
       "mean       6541548.771552\n",
       "std       10887013.267545\n",
       "min          12190.000000\n",
       "25%        3400000.000000\n",
       "50%        4650000.000000\n",
       "75%        6800000.000000\n",
       "max      763000000.000000\n",
       "Name: last_price, dtype: object"
      ]
     },
     "execution_count": 27,
     "metadata": {},
     "output_type": "execute_result"
    }
   ],
   "source": [
    "# сформировал значения столбца last_price в обычный строковой формат с помощью lambda функции и метода format\n",
    "df['last_price'].describe().apply(lambda x: format(x, 'f'))"
   ]
  },
  {
   "cell_type": "code",
   "execution_count": 28,
   "metadata": {},
   "outputs": [
    {
     "data": {
      "image/png": "[encoded data removed]",
      "text/plain": [
       "<Figure size 432x288 with 1 Axes>"
      ]
     },
     "metadata": {
      "needs_background": "light"
     },
     "output_type": "display_data"
    }
   ],
   "source": [
    "# построил гистрограмму по столбцу last_total, применил параметр bins=100 и параметр range=(0, 20000000)\n",
    "df['last_price'].hist(bins=100, range=(0, 20000000));\n",
    "plt.title('Стоимость квартир');\n",
    "plt.xlabel('млн');"
   ]
  },
  {
   "cell_type": "markdown",
   "metadata": {},
   "source": [
    "**Вывод:**\n",
    "\n",
    "По гистограмме видно, что большинство квартир стоят в диапозоне от 3 млн до 4.5 млн рублей"
   ]
  },
  {
   "cell_type": "code",
   "execution_count": 29,
   "metadata": {},
   "outputs": [
    {
     "data": {
      "text/plain": [
       "count    23699.000000\n",
       "mean         2.070636\n",
       "std          1.078405\n",
       "min          0.000000\n",
       "25%          1.000000\n",
       "50%          2.000000\n",
       "75%          3.000000\n",
       "max         19.000000\n",
       "Name: rooms, dtype: float64"
      ]
     },
     "execution_count": 29,
     "metadata": {},
     "output_type": "execute_result"
    }
   ],
   "source": [
    "# применли метод describe и посмотрел интересующие значения \n",
    "df['rooms'].describe()"
   ]
  },
  {
   "cell_type": "code",
   "execution_count": 30,
   "metadata": {},
   "outputs": [
    {
     "data": {
      "image/png": "[encoded data removed]",
      "text/plain": [
       "<Figure size 432x288 with 1 Axes>"
      ]
     },
     "metadata": {
      "needs_background": "light"
     },
     "output_type": "display_data"
    }
   ],
   "source": [
    "# построил гистрограмму по столбцу rooms, применил параметр bins=20 и параметр range=(0, 10)\n",
    "df['rooms'].hist(bins=20, range=(0, 10), edgecolor='black');\n",
    "plt.title('Число комнат');\n",
    "plt.xlabel('шт');"
   ]
  },
  {
   "cell_type": "markdown",
   "metadata": {},
   "source": [
    "**Вывод:**\n",
    "\n",
    "По гистограмме видно, что в квартирах в большинстве случаях имееться по 1 или 2 комнаты, реже 3"
   ]
  },
  {
   "cell_type": "code",
   "execution_count": 31,
   "metadata": {},
   "outputs": [
    {
     "data": {
      "text/plain": [
       "count    23699.000000\n",
       "mean         2.724358\n",
       "std          0.988298\n",
       "min          1.000000\n",
       "25%          2.600000\n",
       "50%          2.650000\n",
       "75%          2.700000\n",
       "max        100.000000\n",
       "Name: ceiling_height, dtype: float64"
      ]
     },
     "execution_count": 31,
     "metadata": {},
     "output_type": "execute_result"
    }
   ],
   "source": [
    "# применли метод describe и посмотрел интересующие значения \n",
    "df['ceiling_height'].describe()"
   ]
  },
  {
   "cell_type": "code",
   "execution_count": 32,
   "metadata": {},
   "outputs": [
    {
     "data": {
      "image/png": "[encoded data removed]",
      "text/plain": [
       "<Figure size 432x288 with 1 Axes>"
      ]
     },
     "metadata": {
      "needs_background": "light"
     },
     "output_type": "display_data"
    }
   ],
   "source": [
    "# построил гистрограмму по столбцу ceiling_height, применил параметр bins=20 и параметр range=(0, 5)\n",
    "df['ceiling_height'].hist(bins=20, range=(0, 5), edgecolor='black');\n",
    "plt.title('Высота потолков');\n",
    "plt.xlabel('м');"
   ]
  },
  {
   "cell_type": "markdown",
   "metadata": {},
   "source": [
    "**Вывод:**\n",
    "\n",
    "По гистограмме видно, что высота потолка в квартирах базируется в диапозоне от 2.5 до 2.7 метров"
   ]
  },
  {
   "cell_type": "code",
   "execution_count": 33,
   "metadata": {},
   "outputs": [
    {
     "data": {
      "text/plain": [
       "count    20518.000000\n",
       "mean       180.888634\n",
       "std        219.727988\n",
       "min          1.000000\n",
       "25%         45.000000\n",
       "50%         95.000000\n",
       "75%        232.000000\n",
       "max       1580.000000\n",
       "Name: days_exposition, dtype: float64"
      ]
     },
     "execution_count": 33,
     "metadata": {},
     "output_type": "execute_result"
    }
   ],
   "source": [
    "# применли метод describe и посмотрел интересующие значения\n",
    "df['days_exposition'].describe()"
   ]
  },
  {
   "cell_type": "code",
   "execution_count": 34,
   "metadata": {},
   "outputs": [
    {
     "name": "stdout",
     "output_type": "stream",
     "text": [
      "Среднее время продажи: 180 дней\n"
     ]
    }
   ],
   "source": [
    "# нашёл среднее время продажи\n",
    "days_exposition_mean = df['days_exposition'].mean()\n",
    "print(f'Среднее время продажи: {int(days_exposition_mean)} дней')"
   ]
  },
  {
   "cell_type": "code",
   "execution_count": 35,
   "metadata": {},
   "outputs": [
    {
     "name": "stdout",
     "output_type": "stream",
     "text": [
      "Медианое время продажи: 95 дней\n"
     ]
    }
   ],
   "source": [
    "# нашёл медиаоное время продажи\n",
    "days_exposition_median = df['days_exposition'].median()\n",
    "print(f'Медианое время продажи: {int(days_exposition_median)} дней')"
   ]
  },
  {
   "cell_type": "code",
   "execution_count": 36,
   "metadata": {},
   "outputs": [
    {
     "data": {
      "image/png": "[encoded data removed]",
      "text/plain": [
       "<Figure size 432x288 with 1 Axes>"
      ]
     },
     "metadata": {
      "needs_background": "light"
     },
     "output_type": "display_data"
    }
   ],
   "source": [
    "# построил гистрограмму по столбцу days_exposition, применил параметр bins=50 и параметр range=(0, 1500)\n",
    "df['days_exposition'].hist(bins=100, range=(0, 1500));\n",
    "plt.title('Размещено по времени');\n",
    "plt.xlabel('дней');"
   ]
  },
  {
   "cell_type": "code",
   "execution_count": 37,
   "metadata": {},
   "outputs": [
    {
     "data": {
      "image/png": "[encoded data removed]",
      "text/plain": [
       "<Figure size 432x288 with 1 Axes>"
      ]
     },
     "metadata": {
      "needs_background": "light"
     },
     "output_type": "display_data"
    }
   ],
   "source": [
    "# построил ещё раз гистрограмму по столбцу days_exposition, применил параметр bins=50 и параметр range=(0, 50)\n",
    "df['days_exposition'].hist(bins=50, range=(0, 100), edgecolor='black');\n",
    "plt.title('Размещено по времени');\n",
    "plt.xlabel('дней');"
   ]
  },
  {
   "cell_type": "markdown",
   "metadata": {},
   "source": [
    "**Вывод:**\n",
    "\n",
    "По гистограмме видно, что продажа обычно занимает 45 дней. Очень быстрой продажой можно считать, когда квартиры продовалась менее, чем за 45 дней, а необычно долгая продажой болле, чем 1000 дней"
   ]
  },
  {
   "cell_type": "code",
   "execution_count": 38,
   "metadata": {},
   "outputs": [
    {
     "data": {
      "image/png": "[encoded data removed]",
      "text/plain": [
       "<Figure size 432x288 with 1 Axes>"
      ]
     },
     "metadata": {
      "needs_background": "light"
     },
     "output_type": "display_data"
    }
   ],
   "source": [
    "# построил диаграмму размаха по столбку total_area\n",
    "df.boxplot('total_area');"
   ]
  },
  {
   "cell_type": "code",
   "execution_count": 39,
   "metadata": {},
   "outputs": [],
   "source": [
    "# сделал срез по столбцу total_area, отбросив ненужные значения\n",
    "total_area_df = df.query('total_area < 160')"
   ]
  },
  {
   "cell_type": "code",
   "execution_count": 40,
   "metadata": {},
   "outputs": [
    {
     "data": {
      "image/png": "[encoded data removed]",
      "text/plain": [
       "<Figure size 432x288 with 1 Axes>"
      ]
     },
     "metadata": {
      "needs_background": "light"
     },
     "output_type": "display_data"
    }
   ],
   "source": [
    "# построил диаграмму размаха по столбку rooms\n",
    "df.boxplot('rooms');"
   ]
  },
  {
   "cell_type": "code",
   "execution_count": 41,
   "metadata": {},
   "outputs": [],
   "source": [
    "# сделал срез по столбцу area, отбросив ненужные значения\n",
    "rooms_df = df.query('rooms < 7')"
   ]
  },
  {
   "cell_type": "code",
   "execution_count": 42,
   "metadata": {},
   "outputs": [
    {
     "data": {
      "image/png": "[encoded data removed]",
      "text/plain": [
       "<Figure size 432x288 with 1 Axes>"
      ]
     },
     "metadata": {
      "needs_background": "light"
     },
     "output_type": "display_data"
    }
   ],
   "source": [
    "# построил диаграмму размаха по столбку ceiling_height\n",
    "df.boxplot('ceiling_height');"
   ]
  },
  {
   "cell_type": "code",
   "execution_count": 43,
   "metadata": {},
   "outputs": [],
   "source": [
    "# сделал срез по столбцу ceiling_height, отбросив ненужные значения\n",
    "ceiling_height_df = df.query('ceiling_height < 4')"
   ]
  },
  {
   "cell_type": "code",
   "execution_count": 44,
   "metadata": {},
   "outputs": [
    {
     "data": {
      "image/png": "[encoded data removed]",
      "text/plain": [
       "<Figure size 432x288 with 1 Axes>"
      ]
     },
     "metadata": {
      "needs_background": "light"
     },
     "output_type": "display_data"
    }
   ],
   "source": [
    "# построил диаграмму размаха по столбку days_exposition\n",
    "df.boxplot('days_exposition');"
   ]
  },
  {
   "cell_type": "code",
   "execution_count": 45,
   "metadata": {},
   "outputs": [],
   "source": [
    "# сделал срез по столбцу days_exposition_df, отбросив ненужные значения\n",
    "days_exposition_df = df.query('days_exposition < 550')"
   ]
  },
  {
   "cell_type": "code",
   "execution_count": 46,
   "metadata": {},
   "outputs": [
    {
     "data": {
      "image/png": "[encoded data removed]",
      "text/plain": [
       "<Figure size 432x288 with 1 Axes>"
      ]
     },
     "metadata": {
      "needs_background": "light"
     },
     "output_type": "display_data"
    }
   ],
   "source": [
    "# построил диаграмму размаха по столбку city_centers_nearest\n",
    "df.boxplot('city_centers_nearest');"
   ]
  },
  {
   "cell_type": "code",
   "execution_count": 47,
   "metadata": {},
   "outputs": [],
   "source": [
    "# сделал срез по столбцу city_centers_nearest, отбросив ненужные значения\n",
    "city_centers_nearest_df = df.query('city_centers_nearest < 27000')"
   ]
  },
  {
   "cell_type": "code",
   "execution_count": 48,
   "metadata": {},
   "outputs": [
    {
     "data": {
      "image/png": "[encoded data removed]",
      "text/plain": [
       "<Figure size 432x288 with 1 Axes>"
      ]
     },
     "metadata": {
      "needs_background": "light"
     },
     "output_type": "display_data"
    }
   ],
   "source": [
    "# построил диаграму рассеяния по абсциссе столбца total_area и ординате столбца last_price\n",
    "total_area_df.plot(x='total_area', y='last_price', kind='scatter');"
   ]
  },
  {
   "cell_type": "code",
   "execution_count": 49,
   "metadata": {},
   "outputs": [
    {
     "data": {
      "image/png": "[encoded data removed]",
      "text/plain": [
       "<Figure size 432x288 with 1 Axes>"
      ]
     },
     "metadata": {
      "needs_background": "light"
     },
     "output_type": "display_data"
    }
   ],
   "source": [
    "# построил диаграму рассеяния по абсциссе столбца rooms и ординате столбца last_price\n",
    "rooms_df.plot(x='rooms', y='last_price', kind='scatter');"
   ]
  },
  {
   "cell_type": "code",
   "execution_count": 50,
   "metadata": {},
   "outputs": [
    {
     "data": {
      "image/png": "[encoded data removed]",
      "text/plain": [
       "<Figure size 432x288 with 1 Axes>"
      ]
     },
     "metadata": {
      "needs_background": "light"
     },
     "output_type": "display_data"
    }
   ],
   "source": [
    "# построил диаграму рассеяния по абсциссе столбца city_centers_nearest и ординате столбца last_price\n",
    "city_centers_nearest_df.plot(x='city_centers_nearest', y='last_price', kind='scatter');"
   ]
  },
  {
   "cell_type": "markdown",
   "metadata": {},
   "source": [
    "**Вывод**\n",
    "\n",
    "По диаграммам видно, что площадь кваритры, число комнат и удалённость от ценра влияет на её стоимость, но неторая недвижимость различается от остальных, как например стоимость квартир около 40 млн и площадью 65 метров. Это связано, что квартира может находиться в центре, но при это иметь меньше площади, чем например на окраине или иметь больше комнат, но стоить меньше. Но удалённость иммет чуть меньше изменений с ценой, так как это один из важнейших показателей цены недвижимости"
   ]
  },
  {
   "cell_type": "code",
   "execution_count": 51,
   "metadata": {},
   "outputs": [
    {
     "data": {
      "image/png": "[encoded data removed]",
      "text/plain": [
       "<Figure size 432x288 with 1 Axes>"
      ]
     },
     "metadata": {
      "needs_background": "light"
     },
     "output_type": "display_data"
    }
   ],
   "source": [
    "# построил сводную таблицу по индексу столбца floors_group и значению столбца last_price, визау диаграмму\n",
    "df.pivot_table(index='floors_group', values='last_price').plot();"
   ]
  },
  {
   "cell_type": "markdown",
   "metadata": {},
   "source": [
    "**Вывод**\n",
    "\n",
    "По диаграмме видно, что цена зависит от этажа на квартире. На первых этажаж квартиры стоят дешевле, чем на других, а на последнях квартиры стоят всех дороже"
   ]
  },
  {
   "cell_type": "code",
   "execution_count": 52,
   "metadata": {},
   "outputs": [
    {
     "data": {
      "image/png": "[encoded data removed]",
      "text/plain": [
       "<Figure size 432x288 with 1 Axes>"
      ]
     },
     "metadata": {
      "needs_background": "light"
     },
     "output_type": "display_data"
    }
   ],
   "source": [
    "# построил сводную таблицу по индексу столбца day_of_week и значению столбца last_price, построил диаграмму\n",
    "df.pivot_table(index='day_of_week', values='last_price').plot();"
   ]
  },
  {
   "cell_type": "code",
   "execution_count": 53,
   "metadata": {},
   "outputs": [
    {
     "data": {
      "image/png": "[encoded data removed]",
      "text/plain": [
       "<Figure size 432x288 with 1 Axes>"
      ]
     },
     "metadata": {
      "needs_background": "light"
     },
     "output_type": "display_data"
    }
   ],
   "source": [
    "# построил диаграмму рассеяния по абсциссе столбца day_of_month и ординате столбца last_price\n",
    "df.plot(x='day_of_month', y='last_price', kind='scatter');"
   ]
  },
  {
   "cell_type": "code",
   "execution_count": 54,
   "metadata": {},
   "outputs": [
    {
     "data": {
      "image/png": "[encoded data removed]",
      "text/plain": [
       "<Figure size 432x288 with 1 Axes>"
      ]
     },
     "metadata": {
      "needs_background": "light"
     },
     "output_type": "display_data"
    }
   ],
   "source": [
    "# построил диаграмму рассеяния по абсциссе столбца day_of_year и ординате столбца last_price\n",
    "df.plot(x='day_of_year', y='last_price', kind='scatter');"
   ]
  },
  {
   "cell_type": "markdown",
   "metadata": {},
   "source": [
    "**Вывод**\n",
    "\n",
    "По диаграммам видно, что дата размещения месяца и года почти никак не влияет, есть немного значений, которые выделяются, но это низкий процент, их можно считать аномалиями"
   ]
  },
  {
   "cell_type": "code",
   "execution_count": 55,
   "metadata": {},
   "outputs": [
    {
     "data": {
      "text/plain": [
       "Санкт-Петербург      15721\n",
       "посёлок Мурино         522\n",
       "посёлок Шушары         440\n",
       "Всеволожск             398\n",
       "Пушкин                 369\n",
       "Колпино                338\n",
       "посёлок Парголово      327\n",
       "Гатчина                307\n",
       "деревня Кудрово        299\n",
       "Выборг                 237\n",
       "Name: locality_name, dtype: int64"
      ]
     },
     "execution_count": 55,
     "metadata": {},
     "output_type": "execute_result"
    }
   ],
   "source": [
    "# нашёл 10 населённых пунктов с наибольшим числом объявлений\n",
    "df['locality_name'].value_counts().head(10)"
   ]
  },
  {
   "cell_type": "code",
   "execution_count": 56,
   "metadata": {},
   "outputs": [
    {
     "data": {
      "text/html": [
       "<div>\n",
       "<style scoped>\n",
       "    .dataframe tbody tr th:only-of-type {\n",
       "        vertical-align: middle;\n",
       "    }\n",
       "\n",
       "    .dataframe tbody tr th {\n",
       "        vertical-align: top;\n",
       "    }\n",
       "\n",
       "    .dataframe thead th {\n",
       "        text-align: right;\n",
       "    }\n",
       "</style>\n",
       "<table border=\"1\" class=\"dataframe\">\n",
       "  <thead>\n",
       "    <tr style=\"text-align: right;\">\n",
       "      <th></th>\n",
       "      <th>price_per_square_meter</th>\n",
       "    </tr>\n",
       "    <tr>\n",
       "      <th>locality_name</th>\n",
       "      <th></th>\n",
       "    </tr>\n",
       "  </thead>\n",
       "  <tbody>\n",
       "    <tr>\n",
       "      <th>Санкт-Петербург</th>\n",
       "      <td>115347.299472</td>\n",
       "    </tr>\n",
       "    <tr>\n",
       "      <th>Пушкин</th>\n",
       "      <td>103610.948509</td>\n",
       "    </tr>\n",
       "    <tr>\n",
       "      <th>деревня Кудрово</th>\n",
       "      <td>93001.742475</td>\n",
       "    </tr>\n",
       "    <tr>\n",
       "      <th>посёлок Парголово</th>\n",
       "      <td>90675.235474</td>\n",
       "    </tr>\n",
       "    <tr>\n",
       "      <th>посёлок Мурино</th>\n",
       "      <td>86379.549808</td>\n",
       "    </tr>\n",
       "    <tr>\n",
       "      <th>посёлок Шушары</th>\n",
       "      <td>79068.186364</td>\n",
       "    </tr>\n",
       "    <tr>\n",
       "      <th>Колпино</th>\n",
       "      <td>75735.150888</td>\n",
       "    </tr>\n",
       "    <tr>\n",
       "      <th>Гатчина</th>\n",
       "      <td>69045.068404</td>\n",
       "    </tr>\n",
       "    <tr>\n",
       "      <th>Всеволожск</th>\n",
       "      <td>68984.801508</td>\n",
       "    </tr>\n",
       "    <tr>\n",
       "      <th>Выборг</th>\n",
       "      <td>58295.691983</td>\n",
       "    </tr>\n",
       "  </tbody>\n",
       "</table>\n",
       "</div>"
      ],
      "text/plain": [
       "                   price_per_square_meter\n",
       "locality_name                            \n",
       "Санкт-Петербург             115347.299472\n",
       "Пушкин                      103610.948509\n",
       "деревня Кудрово              93001.742475\n",
       "посёлок Парголово            90675.235474\n",
       "посёлок Мурино               86379.549808\n",
       "посёлок Шушары               79068.186364\n",
       "Колпино                      75735.150888\n",
       "Гатчина                      69045.068404\n",
       "Всеволожск                   68984.801508\n",
       "Выборг                       58295.691983"
      ]
     },
     "execution_count": 56,
     "metadata": {},
     "output_type": "execute_result"
    }
   ],
   "source": [
    "# создал переменную locality_name_10, применил метод query, создал сводную таблицу по индексу столбца locality_name \n",
    "# и значению столбца price_per_square_meter, рассчитал среднею цену квадратного метра\n",
    "locality_name_10 = (\n",
    "    df\n",
    "    .query('locality_name in [\"Санкт-Петербург\", \"посёлок Мурино\", \"посёлок Шушары\", \"Всеволожск\", \"Пушкин\", \"Колпино\", \"посёлок Парголово\", \"Гатчина\", \"деревня Кудрово\", \"Выборг\"]')\n",
    "    .pivot_table(index='locality_name', values='price_per_square_meter')\n",
    ")\n",
    "locality_name_10.sort_values(by='price_per_square_meter', ascending=False)"
   ]
  },
  {
   "cell_type": "markdown",
   "metadata": {},
   "source": [
    "**Вывод:**\n",
    "\n",
    "Населённый пункт с самой высокой стоимостью жилья явлется Санкт-Петербург, а c самой маленькой стоимостью жилья Выборг"
   ]
  },
  {
   "cell_type": "code",
   "execution_count": 57,
   "metadata": {},
   "outputs": [
    {
     "data": {
      "text/html": [
       "<div>\n",
       "<style scoped>\n",
       "    .dataframe tbody tr th:only-of-type {\n",
       "        vertical-align: middle;\n",
       "    }\n",
       "\n",
       "    .dataframe tbody tr th {\n",
       "        vertical-align: top;\n",
       "    }\n",
       "\n",
       "    .dataframe thead th {\n",
       "        text-align: right;\n",
       "    }\n",
       "</style>\n",
       "<table border=\"1\" class=\"dataframe\">\n",
       "  <thead>\n",
       "    <tr style=\"text-align: right;\">\n",
       "      <th></th>\n",
       "      <th>total_images</th>\n",
       "      <th>last_price</th>\n",
       "      <th>total_area</th>\n",
       "      <th>first_day_exposition</th>\n",
       "      <th>rooms</th>\n",
       "      <th>ceiling_height</th>\n",
       "      <th>floors_total</th>\n",
       "      <th>living_area</th>\n",
       "      <th>floor</th>\n",
       "      <th>is_apartment</th>\n",
       "      <th>...</th>\n",
       "      <th>ponds_nearest</th>\n",
       "      <th>days_exposition</th>\n",
       "      <th>price_per_square_meter</th>\n",
       "      <th>day_of_week</th>\n",
       "      <th>day_of_month</th>\n",
       "      <th>day_of_year</th>\n",
       "      <th>floors_group</th>\n",
       "      <th>living_total_area_ratio</th>\n",
       "      <th>kitchen_total_area_ratio</th>\n",
       "      <th>city_centers_nearest_km</th>\n",
       "    </tr>\n",
       "  </thead>\n",
       "  <tbody>\n",
       "    <tr>\n",
       "      <th>0</th>\n",
       "      <td>20</td>\n",
       "      <td>13000000</td>\n",
       "      <td>108</td>\n",
       "      <td>2019-03-07</td>\n",
       "      <td>3</td>\n",
       "      <td>2.70</td>\n",
       "      <td>16.0</td>\n",
       "      <td>51.0</td>\n",
       "      <td>8</td>\n",
       "      <td>NaN</td>\n",
       "      <td>...</td>\n",
       "      <td>755.0</td>\n",
       "      <td>NaN</td>\n",
       "      <td>120370</td>\n",
       "      <td>Thursday</td>\n",
       "      <td>3</td>\n",
       "      <td>2019</td>\n",
       "      <td>другой</td>\n",
       "      <td>0.472222</td>\n",
       "      <td>0.231481</td>\n",
       "      <td>16.0</td>\n",
       "    </tr>\n",
       "    <tr>\n",
       "      <th>1</th>\n",
       "      <td>7</td>\n",
       "      <td>3350000</td>\n",
       "      <td>40</td>\n",
       "      <td>2018-12-04</td>\n",
       "      <td>1</td>\n",
       "      <td>2.65</td>\n",
       "      <td>11.0</td>\n",
       "      <td>18.6</td>\n",
       "      <td>1</td>\n",
       "      <td>NaN</td>\n",
       "      <td>...</td>\n",
       "      <td>NaN</td>\n",
       "      <td>81.0</td>\n",
       "      <td>83750</td>\n",
       "      <td>Tuesday</td>\n",
       "      <td>12</td>\n",
       "      <td>2018</td>\n",
       "      <td>первый</td>\n",
       "      <td>0.465000</td>\n",
       "      <td>0.275000</td>\n",
       "      <td>18.0</td>\n",
       "    </tr>\n",
       "    <tr>\n",
       "      <th>2</th>\n",
       "      <td>10</td>\n",
       "      <td>5196000</td>\n",
       "      <td>56</td>\n",
       "      <td>2015-08-20</td>\n",
       "      <td>2</td>\n",
       "      <td>2.65</td>\n",
       "      <td>5.0</td>\n",
       "      <td>34.3</td>\n",
       "      <td>4</td>\n",
       "      <td>NaN</td>\n",
       "      <td>...</td>\n",
       "      <td>574.0</td>\n",
       "      <td>558.0</td>\n",
       "      <td>92785</td>\n",
       "      <td>Thursday</td>\n",
       "      <td>8</td>\n",
       "      <td>2015</td>\n",
       "      <td>другой</td>\n",
       "      <td>0.612500</td>\n",
       "      <td>0.148214</td>\n",
       "      <td>13.0</td>\n",
       "    </tr>\n",
       "    <tr>\n",
       "      <th>3</th>\n",
       "      <td>0</td>\n",
       "      <td>64900000</td>\n",
       "      <td>159</td>\n",
       "      <td>2015-07-24</td>\n",
       "      <td>3</td>\n",
       "      <td>2.65</td>\n",
       "      <td>14.0</td>\n",
       "      <td>NaN</td>\n",
       "      <td>9</td>\n",
       "      <td>NaN</td>\n",
       "      <td>...</td>\n",
       "      <td>234.0</td>\n",
       "      <td>424.0</td>\n",
       "      <td>408176</td>\n",
       "      <td>Friday</td>\n",
       "      <td>7</td>\n",
       "      <td>2015</td>\n",
       "      <td>другой</td>\n",
       "      <td>NaN</td>\n",
       "      <td>NaN</td>\n",
       "      <td>6.0</td>\n",
       "    </tr>\n",
       "    <tr>\n",
       "      <th>4</th>\n",
       "      <td>2</td>\n",
       "      <td>10000000</td>\n",
       "      <td>100</td>\n",
       "      <td>2018-06-19</td>\n",
       "      <td>2</td>\n",
       "      <td>3.03</td>\n",
       "      <td>14.0</td>\n",
       "      <td>32.0</td>\n",
       "      <td>13</td>\n",
       "      <td>NaN</td>\n",
       "      <td>...</td>\n",
       "      <td>48.0</td>\n",
       "      <td>121.0</td>\n",
       "      <td>100000</td>\n",
       "      <td>Tuesday</td>\n",
       "      <td>6</td>\n",
       "      <td>2018</td>\n",
       "      <td>другой</td>\n",
       "      <td>0.320000</td>\n",
       "      <td>0.410000</td>\n",
       "      <td>8.0</td>\n",
       "    </tr>\n",
       "  </tbody>\n",
       "</table>\n",
       "<p>5 rows × 30 columns</p>\n",
       "</div>"
      ],
      "text/plain": [
       "   total_images  last_price  total_area first_day_exposition  rooms  \\\n",
       "0            20    13000000         108           2019-03-07      3   \n",
       "1             7     3350000          40           2018-12-04      1   \n",
       "2            10     5196000          56           2015-08-20      2   \n",
       "3             0    64900000         159           2015-07-24      3   \n",
       "4             2    10000000         100           2018-06-19      2   \n",
       "\n",
       "   ceiling_height  floors_total  living_area  floor is_apartment  ...  \\\n",
       "0            2.70          16.0         51.0      8          NaN  ...   \n",
       "1            2.65          11.0         18.6      1          NaN  ...   \n",
       "2            2.65           5.0         34.3      4          NaN  ...   \n",
       "3            2.65          14.0          NaN      9          NaN  ...   \n",
       "4            3.03          14.0         32.0     13          NaN  ...   \n",
       "\n",
       "   ponds_nearest  days_exposition  price_per_square_meter  day_of_week  \\\n",
       "0          755.0              NaN                  120370     Thursday   \n",
       "1            NaN             81.0                   83750      Tuesday   \n",
       "2          574.0            558.0                   92785     Thursday   \n",
       "3          234.0            424.0                  408176       Friday   \n",
       "4           48.0            121.0                  100000      Tuesday   \n",
       "\n",
       "  day_of_month  day_of_year  floors_group  living_total_area_ratio  \\\n",
       "0            3         2019        другой                 0.472222   \n",
       "1           12         2018        первый                 0.465000   \n",
       "2            8         2015        другой                 0.612500   \n",
       "3            7         2015        другой                      NaN   \n",
       "4            6         2018        другой                 0.320000   \n",
       "\n",
       "   kitchen_total_area_ratio  city_centers_nearest_km  \n",
       "0                  0.231481                     16.0  \n",
       "1                  0.275000                     18.0  \n",
       "2                  0.148214                     13.0  \n",
       "3                       NaN                      6.0  \n",
       "4                  0.410000                      8.0  \n",
       "\n",
       "[5 rows x 30 columns]"
      ]
     },
     "execution_count": 57,
     "metadata": {},
     "output_type": "execute_result"
    }
   ],
   "source": [
    "# дабавил новый столбец city_centers_nearest_s, перевёл метры из столбца city_centers_nearest в километры\n",
    "df['city_centers_nearest_km'] = city_centers_nearest_df['city_centers_nearest'] // 1000\n",
    "df.head()"
   ]
  },
  {
   "cell_type": "code",
   "execution_count": 58,
   "metadata": {},
   "outputs": [],
   "source": [
    "# создал переменную locality_name_spb и применил метод query к столбцу locality_name, чтобы выделить только город Санкт-Петербург\n",
    "locality_name_spb = df.query('locality_name == \"Санкт-Петербург\"')"
   ]
  },
  {
   "cell_type": "code",
   "execution_count": 59,
   "metadata": {},
   "outputs": [
    {
     "data": {
      "image/png": "[encoded data removed]",
      "text/plain": [
       "<Figure size 432x288 with 1 Axes>"
      ]
     },
     "metadata": {
      "needs_background": "light"
     },
     "output_type": "display_data"
    }
   ],
   "source": [
    "# сооздал сводную таблицу по индексу столбца city_centers_nearest_km и значению столбца price_per_square_meter \n",
    "# и построил график на основе данных \n",
    "locality_name_spb.pivot_table(index='city_centers_nearest_km', values='price_per_square_meter').plot(grid='True'); "
   ]
  },
  {
   "cell_type": "markdown",
   "metadata": {},
   "source": [
    "**Вывод**\n",
    "\n",
    "График начинается сильно меняться от 6 км до центра города. По графику видно, что чем дальше идёт расстояние от центра города, то средняя цена становится почти везде ниже за исключением расстоянии 20 км. Ещё видна разница на расстояние 4 км, там средняя цена ниже, чем на расстояние 5 км, хотя должна быть выше. Это наталктвает на мысль, что в некотрых случаях средння цена на расстояние в 1 или 2 км не зависит от удалённости от центра"
   ]
  },
  {
   "cell_type": "code",
   "execution_count": 60,
   "metadata": {},
   "outputs": [],
   "source": [
    "# создал переменную\n",
    "city_centers_nearest_centre = locality_name_spb.query('city_centers_nearest_km == 0')"
   ]
  },
  {
   "cell_type": "code",
   "execution_count": 61,
   "metadata": {},
   "outputs": [
    {
     "data": {
      "image/png": "[encoded data removed]",
      "text/plain": [
       "<Figure size 432x288 with 1 Axes>"
      ]
     },
     "metadata": {
      "needs_background": "light"
     },
     "output_type": "display_data"
    }
   ],
   "source": [
    "# построил гистрограмму по столбцу total_area, применил параметр bins=50\n",
    "city_centers_nearest_centre['total_area'].hist(bins=50, edgecolor='black');\n",
    "plt.title('Площадь квартиры в центре');\n",
    "plt.xlabel('м²');"
   ]
  },
  {
   "cell_type": "markdown",
   "metadata": {},
   "source": [
    "**Вывод**\n",
    "\n",
    "По гистограмме видно, что в центре площадь базирутся от 70 до 100 метров"
   ]
  },
  {
   "cell_type": "code",
   "execution_count": 62,
   "metadata": {},
   "outputs": [
    {
     "data": {
      "image/png": "[encoded data removed]",
      "text/plain": [
       "<Figure size 432x288 with 1 Axes>"
      ]
     },
     "metadata": {
      "needs_background": "light"
     },
     "output_type": "display_data"
    }
   ],
   "source": [
    "# построил гистрограмму по столбцу last_price, применил параметр bins=50\n",
    "city_centers_nearest_centre['last_price'].hist(bins=50, edgecolor='black');\n",
    "plt.title('Цена квартиры в центре');\n",
    "plt.xlabel('млн');"
   ]
  },
  {
   "cell_type": "markdown",
   "metadata": {},
   "source": [
    "**Вывод**\n",
    "\n",
    "По гистограмме видно, что в центре цена базирутся в районе 10 до 15 млн"
   ]
  },
  {
   "cell_type": "code",
   "execution_count": 63,
   "metadata": {},
   "outputs": [
    {
     "data": {
      "image/png": "[encoded data removed]",
      "text/plain": [
       "<Figure size 432x288 with 1 Axes>"
      ]
     },
     "metadata": {
      "needs_background": "light"
     },
     "output_type": "display_data"
    }
   ],
   "source": [
    "# построил гистрограмму по столбцу rooms, применил параметр bins=30\n",
    "city_centers_nearest_centre['rooms'].hist(bins=30, edgecolor='black');\n",
    "plt.title('Число комнат в центре');\n",
    "plt.xlabel('шт');"
   ]
  },
  {
   "cell_type": "markdown",
   "metadata": {},
   "source": [
    "**Вывод**\n",
    "\n",
    "По гистограмме видно, что в центре преобладает кваритры с 3 и 2 двумя комнатами"
   ]
  },
  {
   "cell_type": "code",
   "execution_count": 64,
   "metadata": {},
   "outputs": [
    {
     "data": {
      "image/png": "[encoded data removed]",
      "text/plain": [
       "<Figure size 432x288 with 1 Axes>"
      ]
     },
     "metadata": {
      "needs_background": "light"
     },
     "output_type": "display_data"
    }
   ],
   "source": [
    "# построил гистрограмму по столбцу ceiling_height, применил параметр bins=50\n",
    "city_centers_nearest_centre['ceiling_height'].hist(bins=50, edgecolor='black');\n",
    "plt.title('Высота потолков в центре');\n",
    "plt.xlabel('м');"
   ]
  },
  {
   "cell_type": "markdown",
   "metadata": {},
   "source": [
    "**Вывод**\n",
    "\n",
    "По гистограмме видно, что в центре большинство квартир с высотой потолков 2.65 метра - это медианое значение, которое я применил в начале проэкта"
   ]
  },
  {
   "cell_type": "code",
   "execution_count": 65,
   "metadata": {},
   "outputs": [
    {
     "data": {
      "image/png": "[encoded data removed]",
      "text/plain": [
       "<Figure size 432x288 with 1 Axes>"
      ]
     },
     "metadata": {
      "needs_background": "light"
     },
     "output_type": "display_data"
    }
   ],
   "source": [
    "# построил диаграму рассеяния по абсциссе столбца rooms и ординате столбца last_price\n",
    "city_centers_nearest_centre.plot(x='rooms', y='last_price', kind='scatter');"
   ]
  },
  {
   "cell_type": "code",
   "execution_count": 66,
   "metadata": {},
   "outputs": [
    {
     "data": {
      "image/png": "[encoded data removed]",
      "text/plain": [
       "<Figure size 432x288 with 1 Axes>"
      ]
     },
     "metadata": {
      "needs_background": "light"
     },
     "output_type": "display_data"
    }
   ],
   "source": [
    "# построил диаграму рассеяния по абсциссе столбца floor и ординате столбца last_price\n",
    "city_centers_nearest_centre.plot(x='floor', y='last_price', kind='scatter');"
   ]
  },
  {
   "cell_type": "code",
   "execution_count": 67,
   "metadata": {},
   "outputs": [
    {
     "data": {
      "image/png": "[encoded data removed]",
      "text/plain": [
       "<Figure size 432x288 with 1 Axes>"
      ]
     },
     "metadata": {
      "needs_background": "light"
     },
     "output_type": "display_data"
    }
   ],
   "source": [
    "# построил диаграму рассеяния по абсциссе столбца first_day_exposition и ординате столбца last_price\n",
    "city_centers_nearest_centre.plot(x='first_day_exposition', y='last_price');"
   ]
  },
  {
   "cell_type": "markdown",
   "metadata": {},
   "source": [
    "**Вывод**\n",
    "\n",
    "По диаграмме видно, в середине 2017 и конца 2019 года цена была намного больше, чем в остальные периоды. Это может быть связяно с резкой поднятие цены на недвижимость или с мошеннической деятельностью"
   ]
  },
  {
   "cell_type": "markdown",
   "metadata": {},
   "source": [
    "**Итоговый вывод**\n",
    "\n",
    "Данные общей базы отличаются только площадью и самой ценой, по другим параметром разница где-то есть, но она не заметна"
   ]
  },
  {
   "cell_type": "markdown",
   "metadata": {},
   "source": [
    "## Общий вывод"
   ]
  },
  {
   "cell_type": "markdown",
   "metadata": {},
   "source": [
    "На основе всех полученных данных, можно сказать, что один из решающих факторов цены недвижимости является удалённость от центра города, чем она выше, тем меньше удалённость от центра и наоборт\n",
    "\n",
    "В данных было замечено много пропущенных значений и за счёт них, нельзя сделать достаточно точный анализ"
   ]
  }
 ],
 "metadata": {
  "ExecuteTimeLog": [
   {
    "duration": 1174,
    "start_time": "2022-02-21T07:07:50.829Z"
   },
   {
    "duration": 68,
    "start_time": "2022-02-21T07:07:58.635Z"
   },
   {
    "duration": 57,
    "start_time": "2022-02-21T07:08:02.804Z"
   },
   {
    "duration": 63,
    "start_time": "2022-02-21T07:08:09.320Z"
   },
   {
    "duration": 174,
    "start_time": "2022-02-21T07:22:12.713Z"
   },
   {
    "duration": 67,
    "start_time": "2022-02-21T07:22:44.225Z"
   },
   {
    "duration": 663,
    "start_time": "2022-02-21T07:23:24.181Z"
   },
   {
    "duration": 95,
    "start_time": "2022-02-21T07:23:58.920Z"
   },
   {
    "duration": 4,
    "start_time": "2022-02-21T07:26:56.265Z"
   },
   {
    "duration": 533,
    "start_time": "2022-02-21T09:48:31.486Z"
   },
   {
    "duration": 427,
    "start_time": "2022-02-21T09:48:54.496Z"
   },
   {
    "duration": 334,
    "start_time": "2022-02-21T09:49:15.369Z"
   },
   {
    "duration": 1724,
    "start_time": "2022-02-21T09:49:21.842Z"
   },
   {
    "duration": -197,
    "start_time": "2022-02-21T09:49:23.765Z"
   },
   {
    "duration": 96,
    "start_time": "2022-02-21T09:50:41.887Z"
   },
   {
    "duration": 4,
    "start_time": "2022-02-21T09:50:57.027Z"
   },
   {
    "duration": 83,
    "start_time": "2022-02-21T09:54:36.873Z"
   },
   {
    "duration": 89,
    "start_time": "2022-02-21T09:55:04.565Z"
   },
   {
    "duration": 132,
    "start_time": "2022-02-21T09:55:10.711Z"
   },
   {
    "duration": 84,
    "start_time": "2022-02-21T09:56:43.815Z"
   },
   {
    "duration": 93,
    "start_time": "2022-02-21T09:56:57.527Z"
   },
   {
    "duration": 7,
    "start_time": "2022-02-21T10:06:07.947Z"
   },
   {
    "duration": 8,
    "start_time": "2022-02-21T10:06:14.058Z"
   },
   {
    "duration": 11,
    "start_time": "2022-02-21T10:08:45.930Z"
   },
   {
    "duration": 640,
    "start_time": "2022-02-21T12:45:58.780Z"
   },
   {
    "duration": 188,
    "start_time": "2022-02-21T12:45:59.422Z"
   },
   {
    "duration": -235,
    "start_time": "2022-02-21T12:45:59.849Z"
   },
   {
    "duration": -238,
    "start_time": "2022-02-21T12:45:59.853Z"
   },
   {
    "duration": 11,
    "start_time": "2022-02-21T12:46:15.332Z"
   },
   {
    "duration": 4,
    "start_time": "2022-02-21T12:46:20.220Z"
   },
   {
    "duration": 10,
    "start_time": "2022-02-21T12:46:20.865Z"
   },
   {
    "duration": 10,
    "start_time": "2022-02-21T13:09:27.524Z"
   },
   {
    "duration": 11,
    "start_time": "2022-02-21T13:13:30.050Z"
   },
   {
    "duration": 11,
    "start_time": "2022-02-21T13:13:30.753Z"
   },
   {
    "duration": 133,
    "start_time": "2022-02-21T13:19:35.981Z"
   },
   {
    "duration": 150,
    "start_time": "2022-02-21T13:23:13.875Z"
   },
   {
    "duration": 63,
    "start_time": "2022-02-21T13:23:19.908Z"
   },
   {
    "duration": 61,
    "start_time": "2022-02-21T13:24:06.201Z"
   },
   {
    "duration": 132,
    "start_time": "2022-02-21T13:25:19.425Z"
   },
   {
    "duration": 51,
    "start_time": "2022-02-21T13:27:33.274Z"
   },
   {
    "duration": 6,
    "start_time": "2022-02-21T13:27:40.576Z"
   },
   {
    "duration": 5,
    "start_time": "2022-02-21T13:42:57.130Z"
   },
   {
    "duration": 5,
    "start_time": "2022-02-21T13:43:05.112Z"
   },
   {
    "duration": 5,
    "start_time": "2022-02-21T13:43:13.198Z"
   },
   {
    "duration": 4,
    "start_time": "2022-02-21T13:43:53.366Z"
   },
   {
    "duration": 6,
    "start_time": "2022-02-21T13:44:28.999Z"
   },
   {
    "duration": 5,
    "start_time": "2022-02-21T13:44:38.026Z"
   },
   {
    "duration": 11,
    "start_time": "2022-02-21T13:45:28.499Z"
   },
   {
    "duration": 12,
    "start_time": "2022-02-21T13:45:49.228Z"
   },
   {
    "duration": 5,
    "start_time": "2022-02-21T13:46:18.073Z"
   },
   {
    "duration": 23,
    "start_time": "2022-02-21T13:47:36.152Z"
   },
   {
    "duration": 6,
    "start_time": "2022-02-21T13:48:00.322Z"
   },
   {
    "duration": 23,
    "start_time": "2022-02-21T13:50:47.484Z"
   },
   {
    "duration": 52,
    "start_time": "2022-02-21T13:52:25.564Z"
   },
   {
    "duration": 5,
    "start_time": "2022-02-21T13:52:42.950Z"
   },
   {
    "duration": 3,
    "start_time": "2022-02-21T13:53:34.712Z"
   },
   {
    "duration": 139,
    "start_time": "2022-02-21T13:53:45.146Z"
   },
   {
    "duration": 5,
    "start_time": "2022-02-21T13:53:50.346Z"
   },
   {
    "duration": 5,
    "start_time": "2022-02-21T13:53:56.482Z"
   },
   {
    "duration": 5,
    "start_time": "2022-02-21T14:09:32.430Z"
   },
   {
    "duration": 5,
    "start_time": "2022-02-21T14:10:28.151Z"
   },
   {
    "duration": 4,
    "start_time": "2022-02-21T14:12:09.111Z"
   },
   {
    "duration": 6,
    "start_time": "2022-02-21T14:13:01.325Z"
   },
   {
    "duration": 4,
    "start_time": "2022-02-21T14:13:14.260Z"
   },
   {
    "duration": 1683,
    "start_time": "2022-02-21T14:13:27.489Z"
   },
   {
    "duration": 1958,
    "start_time": "2022-02-21T14:13:37.080Z"
   },
   {
    "duration": 663,
    "start_time": "2022-02-21T14:13:49.037Z"
   },
   {
    "duration": 12,
    "start_time": "2022-02-21T14:13:49.702Z"
   },
   {
    "duration": 4,
    "start_time": "2022-02-21T14:13:49.716Z"
   },
   {
    "duration": 10,
    "start_time": "2022-02-21T14:13:49.730Z"
   },
   {
    "duration": 9,
    "start_time": "2022-02-21T14:13:49.741Z"
   },
   {
    "duration": 80,
    "start_time": "2022-02-21T14:13:49.751Z"
   },
   {
    "duration": 23,
    "start_time": "2022-02-21T14:13:49.834Z"
   },
   {
    "duration": 21,
    "start_time": "2022-02-21T14:13:49.859Z"
   },
   {
    "duration": 2,
    "start_time": "2022-02-21T14:13:49.882Z"
   },
   {
    "duration": 24,
    "start_time": "2022-02-21T14:14:13.739Z"
   },
   {
    "duration": 23,
    "start_time": "2022-02-21T14:15:00.886Z"
   },
   {
    "duration": 7,
    "start_time": "2022-02-21T14:16:10.571Z"
   },
   {
    "duration": 4,
    "start_time": "2022-02-21T14:23:55.182Z"
   },
   {
    "duration": 12,
    "start_time": "2022-02-21T14:24:12.082Z"
   },
   {
    "duration": 7,
    "start_time": "2022-02-21T14:26:19.883Z"
   },
   {
    "duration": 5,
    "start_time": "2022-02-21T14:28:59.434Z"
   },
   {
    "duration": 6,
    "start_time": "2022-02-21T14:29:04.712Z"
   },
   {
    "duration": 4,
    "start_time": "2022-02-21T14:29:18.036Z"
   },
   {
    "duration": 7,
    "start_time": "2022-02-21T14:30:08.341Z"
   },
   {
    "duration": 6,
    "start_time": "2022-02-21T14:36:41.962Z"
   },
   {
    "duration": 22,
    "start_time": "2022-02-21T14:37:14.001Z"
   },
   {
    "duration": 22,
    "start_time": "2022-02-21T14:37:56.089Z"
   },
   {
    "duration": 41,
    "start_time": "2022-02-21T14:39:46.139Z"
   },
   {
    "duration": 23,
    "start_time": "2022-02-21T14:40:33.057Z"
   },
   {
    "duration": 4,
    "start_time": "2022-02-21T14:40:56.570Z"
   },
   {
    "duration": 4,
    "start_time": "2022-02-21T14:41:00.803Z"
   },
   {
    "duration": 4,
    "start_time": "2022-02-21T14:41:05.482Z"
   },
   {
    "duration": 4,
    "start_time": "2022-02-21T14:41:16.947Z"
   },
   {
    "duration": 4,
    "start_time": "2022-02-21T14:41:39.862Z"
   },
   {
    "duration": 9,
    "start_time": "2022-02-21T14:42:07.976Z"
   },
   {
    "duration": 5,
    "start_time": "2022-02-21T14:42:42.724Z"
   },
   {
    "duration": 15,
    "start_time": "2022-02-21T14:43:07.574Z"
   },
   {
    "duration": 14,
    "start_time": "2022-02-21T14:43:18.412Z"
   },
   {
    "duration": 32,
    "start_time": "2022-02-21T14:43:23.381Z"
   },
   {
    "duration": 11,
    "start_time": "2022-02-21T14:57:53.683Z"
   },
   {
    "duration": 23,
    "start_time": "2022-02-21T15:00:43.267Z"
   },
   {
    "duration": 312,
    "start_time": "2022-02-21T15:04:40.322Z"
   },
   {
    "duration": 700,
    "start_time": "2022-02-21T15:06:00.815Z"
   },
   {
    "duration": 21,
    "start_time": "2022-02-21T15:06:01.517Z"
   },
   {
    "duration": 4,
    "start_time": "2022-02-21T15:06:01.541Z"
   },
   {
    "duration": 21,
    "start_time": "2022-02-21T15:06:01.546Z"
   },
   {
    "duration": 24,
    "start_time": "2022-02-21T15:06:01.568Z"
   },
   {
    "duration": 58,
    "start_time": "2022-02-21T15:06:01.594Z"
   },
   {
    "duration": 23,
    "start_time": "2022-02-21T15:06:01.653Z"
   },
   {
    "duration": 4,
    "start_time": "2022-02-21T15:06:01.678Z"
   },
   {
    "duration": 7,
    "start_time": "2022-02-21T15:06:01.683Z"
   },
   {
    "duration": 6,
    "start_time": "2022-02-21T15:06:01.691Z"
   },
   {
    "duration": 32,
    "start_time": "2022-02-21T15:06:01.699Z"
   },
   {
    "duration": 23,
    "start_time": "2022-02-21T15:06:01.733Z"
   },
   {
    "duration": 232,
    "start_time": "2022-02-21T15:06:01.758Z"
   },
   {
    "duration": 4,
    "start_time": "2022-02-21T15:07:12.859Z"
   },
   {
    "duration": 21,
    "start_time": "2022-02-21T15:07:21.876Z"
   },
   {
    "duration": 4,
    "start_time": "2022-02-21T15:07:36.130Z"
   },
   {
    "duration": 22,
    "start_time": "2022-02-21T15:07:41.483Z"
   },
   {
    "duration": 24,
    "start_time": "2022-02-21T15:07:58.540Z"
   },
   {
    "duration": 135,
    "start_time": "2022-02-21T15:08:17.978Z"
   },
   {
    "duration": 137,
    "start_time": "2022-02-21T15:08:48.885Z"
   },
   {
    "duration": 132,
    "start_time": "2022-02-21T15:10:41.224Z"
   },
   {
    "duration": 1167,
    "start_time": "2022-02-21T15:10:47.580Z"
   },
   {
    "duration": 148,
    "start_time": "2022-02-21T15:11:20.180Z"
   },
   {
    "duration": 186,
    "start_time": "2022-02-21T15:11:28.597Z"
   },
   {
    "duration": 33,
    "start_time": "2022-02-21T15:11:33.591Z"
   },
   {
    "duration": 24,
    "start_time": "2022-02-21T15:13:55.369Z"
   },
   {
    "duration": 169,
    "start_time": "2022-02-21T18:00:56.251Z"
   },
   {
    "duration": 704,
    "start_time": "2022-02-21T18:01:10.455Z"
   },
   {
    "duration": 11,
    "start_time": "2022-02-21T18:01:11.160Z"
   },
   {
    "duration": 5,
    "start_time": "2022-02-21T18:01:11.173Z"
   },
   {
    "duration": 13,
    "start_time": "2022-02-21T18:01:11.180Z"
   },
   {
    "duration": 9,
    "start_time": "2022-02-21T18:01:11.195Z"
   },
   {
    "duration": 90,
    "start_time": "2022-02-21T18:01:11.205Z"
   },
   {
    "duration": 23,
    "start_time": "2022-02-21T18:01:11.297Z"
   },
   {
    "duration": 3,
    "start_time": "2022-02-21T18:01:11.322Z"
   },
   {
    "duration": 7,
    "start_time": "2022-02-21T18:01:11.327Z"
   },
   {
    "duration": 22,
    "start_time": "2022-02-21T18:01:11.336Z"
   },
   {
    "duration": 9,
    "start_time": "2022-02-21T18:01:11.360Z"
   },
   {
    "duration": 30,
    "start_time": "2022-02-21T18:01:11.371Z"
   },
   {
    "duration": 1418,
    "start_time": "2022-02-21T18:01:11.402Z"
   },
   {
    "duration": 31,
    "start_time": "2022-02-21T18:01:25.965Z"
   },
   {
    "duration": 12,
    "start_time": "2022-02-21T18:03:51.649Z"
   },
   {
    "duration": 3124,
    "start_time": "2022-02-21T18:09:33.819Z"
   },
   {
    "duration": 44,
    "start_time": "2022-02-21T18:09:45.727Z"
   },
   {
    "duration": 206,
    "start_time": "2022-02-21T18:10:44.073Z"
   },
   {
    "duration": 137,
    "start_time": "2022-02-21T18:10:57.307Z"
   },
   {
    "duration": 22,
    "start_time": "2022-02-21T18:15:01.808Z"
   },
   {
    "duration": 26,
    "start_time": "2022-02-21T18:16:30.036Z"
   },
   {
    "duration": 23,
    "start_time": "2022-02-21T18:19:55.225Z"
   },
   {
    "duration": 24,
    "start_time": "2022-02-21T18:20:56.353Z"
   },
   {
    "duration": 11,
    "start_time": "2022-02-21T18:28:23.400Z"
   },
   {
    "duration": 56,
    "start_time": "2022-02-21T18:28:30.659Z"
   },
   {
    "duration": 172,
    "start_time": "2022-02-21T18:30:44.425Z"
   },
   {
    "duration": 49,
    "start_time": "2022-02-21T18:31:12.818Z"
   },
   {
    "duration": 134,
    "start_time": "2022-02-21T18:31:44.159Z"
   },
   {
    "duration": 144,
    "start_time": "2022-02-21T18:41:52.393Z"
   },
   {
    "duration": 148,
    "start_time": "2022-02-21T18:42:02.128Z"
   },
   {
    "duration": 145,
    "start_time": "2022-02-21T18:42:31.179Z"
   },
   {
    "duration": 138,
    "start_time": "2022-02-21T18:43:13.971Z"
   },
   {
    "duration": 34,
    "start_time": "2022-02-21T18:43:18.819Z"
   },
   {
    "duration": 44,
    "start_time": "2022-02-21T18:46:10.243Z"
   },
   {
    "duration": 34,
    "start_time": "2022-02-21T18:58:34.782Z"
   },
   {
    "duration": 31,
    "start_time": "2022-02-21T18:58:59.479Z"
   },
   {
    "duration": 693,
    "start_time": "2022-02-21T19:00:36.647Z"
   },
   {
    "duration": 12,
    "start_time": "2022-02-21T19:00:37.342Z"
   },
   {
    "duration": 4,
    "start_time": "2022-02-21T19:00:37.359Z"
   },
   {
    "duration": 16,
    "start_time": "2022-02-21T19:00:37.365Z"
   },
   {
    "duration": 9,
    "start_time": "2022-02-21T19:00:37.382Z"
   },
   {
    "duration": 93,
    "start_time": "2022-02-21T19:00:37.393Z"
   },
   {
    "duration": 27,
    "start_time": "2022-02-21T19:00:37.488Z"
   },
   {
    "duration": 4,
    "start_time": "2022-02-21T19:00:37.517Z"
   },
   {
    "duration": 9,
    "start_time": "2022-02-21T19:00:37.523Z"
   },
   {
    "duration": 28,
    "start_time": "2022-02-21T19:00:37.534Z"
   },
   {
    "duration": 12,
    "start_time": "2022-02-21T19:00:37.563Z"
   },
   {
    "duration": 31,
    "start_time": "2022-02-21T19:00:37.576Z"
   },
   {
    "duration": 52,
    "start_time": "2022-02-21T19:00:37.608Z"
   },
   {
    "duration": 24,
    "start_time": "2022-02-21T19:00:37.662Z"
   },
   {
    "duration": 23,
    "start_time": "2022-02-21T19:00:37.687Z"
   },
   {
    "duration": 58,
    "start_time": "2022-02-21T19:00:37.711Z"
   },
   {
    "duration": 37,
    "start_time": "2022-02-21T19:00:48.253Z"
   },
   {
    "duration": 191,
    "start_time": "2022-02-21T19:03:03.980Z"
   },
   {
    "duration": 148,
    "start_time": "2022-02-21T19:03:22.204Z"
   },
   {
    "duration": 126,
    "start_time": "2022-02-21T19:03:27.447Z"
   },
   {
    "duration": 75,
    "start_time": "2022-02-21T19:04:57.686Z"
   },
   {
    "duration": 47,
    "start_time": "2022-02-21T19:05:06.153Z"
   },
   {
    "duration": 699,
    "start_time": "2022-02-21T19:05:18.645Z"
   },
   {
    "duration": 20,
    "start_time": "2022-02-21T19:05:19.346Z"
   },
   {
    "duration": 4,
    "start_time": "2022-02-21T19:05:19.369Z"
   },
   {
    "duration": 17,
    "start_time": "2022-02-21T19:05:19.375Z"
   },
   {
    "duration": 9,
    "start_time": "2022-02-21T19:05:19.393Z"
   },
   {
    "duration": 85,
    "start_time": "2022-02-21T19:05:19.403Z"
   },
   {
    "duration": 25,
    "start_time": "2022-02-21T19:05:19.489Z"
   },
   {
    "duration": 4,
    "start_time": "2022-02-21T19:05:19.517Z"
   },
   {
    "duration": 5,
    "start_time": "2022-02-21T19:05:19.523Z"
   },
   {
    "duration": 5,
    "start_time": "2022-02-21T19:05:19.530Z"
   },
   {
    "duration": 30,
    "start_time": "2022-02-21T19:05:19.536Z"
   },
   {
    "duration": 30,
    "start_time": "2022-02-21T19:05:19.567Z"
   },
   {
    "duration": 27,
    "start_time": "2022-02-21T19:05:19.599Z"
   },
   {
    "duration": 47,
    "start_time": "2022-02-21T19:05:19.627Z"
   },
   {
    "duration": 23,
    "start_time": "2022-02-21T19:05:19.676Z"
   },
   {
    "duration": 36,
    "start_time": "2022-02-21T19:05:19.700Z"
   },
   {
    "duration": 4579,
    "start_time": "2022-02-21T19:05:19.737Z"
   },
   {
    "duration": 3516,
    "start_time": "2022-02-21T19:09:12.943Z"
   },
   {
    "duration": 46,
    "start_time": "2022-02-21T19:18:50.960Z"
   },
   {
    "duration": 44,
    "start_time": "2022-02-21T19:19:03.564Z"
   },
   {
    "duration": 73,
    "start_time": "2022-02-21T19:19:37.016Z"
   },
   {
    "duration": 572,
    "start_time": "2022-02-21T19:19:43.748Z"
   },
   {
    "duration": 5443,
    "start_time": "2022-02-21T19:20:35.176Z"
   },
   {
    "duration": 5426,
    "start_time": "2022-02-21T19:22:37.647Z"
   },
   {
    "duration": 5423,
    "start_time": "2022-02-21T19:24:34.184Z"
   },
   {
    "duration": 717,
    "start_time": "2022-02-21T19:26:05.355Z"
   },
   {
    "duration": 12,
    "start_time": "2022-02-21T19:26:06.074Z"
   },
   {
    "duration": 4,
    "start_time": "2022-02-21T19:26:06.089Z"
   },
   {
    "duration": 16,
    "start_time": "2022-02-21T19:26:06.095Z"
   },
   {
    "duration": 9,
    "start_time": "2022-02-21T19:26:06.113Z"
   },
   {
    "duration": 95,
    "start_time": "2022-02-21T19:26:06.123Z"
   },
   {
    "duration": 25,
    "start_time": "2022-02-21T19:26:06.219Z"
   },
   {
    "duration": 14,
    "start_time": "2022-02-21T19:26:06.246Z"
   },
   {
    "duration": 4,
    "start_time": "2022-02-21T19:26:06.262Z"
   },
   {
    "duration": 5,
    "start_time": "2022-02-21T19:26:06.268Z"
   },
   {
    "duration": 11,
    "start_time": "2022-02-21T19:26:06.274Z"
   },
   {
    "duration": 29,
    "start_time": "2022-02-21T19:26:06.287Z"
   },
   {
    "duration": 53,
    "start_time": "2022-02-21T19:26:06.317Z"
   },
   {
    "duration": 24,
    "start_time": "2022-02-21T19:26:06.372Z"
   },
   {
    "duration": 22,
    "start_time": "2022-02-21T19:26:06.398Z"
   },
   {
    "duration": 60,
    "start_time": "2022-02-21T19:26:06.422Z"
   },
   {
    "duration": 5471,
    "start_time": "2022-02-21T19:26:06.484Z"
   },
   {
    "duration": 8479,
    "start_time": "2022-02-21T19:27:22.243Z"
   },
   {
    "duration": 5701,
    "start_time": "2022-02-21T19:27:43.077Z"
   },
   {
    "duration": 5708,
    "start_time": "2022-02-21T19:28:35.611Z"
   },
   {
    "duration": 5573,
    "start_time": "2022-02-21T19:28:54.477Z"
   },
   {
    "duration": 688,
    "start_time": "2022-02-21T19:29:53.337Z"
   },
   {
    "duration": 5707,
    "start_time": "2022-02-21T19:30:56.653Z"
   },
   {
    "duration": 5581,
    "start_time": "2022-02-21T19:31:43.263Z"
   },
   {
    "duration": 5556,
    "start_time": "2022-02-21T19:32:03.099Z"
   },
   {
    "duration": 6,
    "start_time": "2022-02-21T19:32:18.824Z"
   },
   {
    "duration": 5642,
    "start_time": "2022-02-21T19:33:17.591Z"
   },
   {
    "duration": 5,
    "start_time": "2022-02-21T19:33:26.768Z"
   },
   {
    "duration": 2924,
    "start_time": "2022-02-21T19:33:38.011Z"
   },
   {
    "duration": 5457,
    "start_time": "2022-02-21T19:35:42.187Z"
   },
   {
    "duration": 4,
    "start_time": "2022-02-21T19:38:43.580Z"
   },
   {
    "duration": 14,
    "start_time": "2022-02-21T19:38:50.966Z"
   },
   {
    "duration": 6124,
    "start_time": "2022-02-21T19:38:56.875Z"
   },
   {
    "duration": 6,
    "start_time": "2022-02-21T19:39:05.422Z"
   },
   {
    "duration": 682,
    "start_time": "2022-02-21T19:40:39.208Z"
   },
   {
    "duration": 11,
    "start_time": "2022-02-21T19:40:39.892Z"
   },
   {
    "duration": 4,
    "start_time": "2022-02-21T19:40:39.905Z"
   },
   {
    "duration": 14,
    "start_time": "2022-02-21T19:40:39.911Z"
   },
   {
    "duration": 32,
    "start_time": "2022-02-21T19:40:39.927Z"
   },
   {
    "duration": 65,
    "start_time": "2022-02-21T19:40:39.961Z"
   },
   {
    "duration": 43,
    "start_time": "2022-02-21T19:40:40.028Z"
   },
   {
    "duration": 4,
    "start_time": "2022-02-21T19:40:40.074Z"
   },
   {
    "duration": 5,
    "start_time": "2022-02-21T19:40:40.080Z"
   },
   {
    "duration": 16,
    "start_time": "2022-02-21T19:40:40.087Z"
   },
   {
    "duration": 8,
    "start_time": "2022-02-21T19:40:40.105Z"
   },
   {
    "duration": 18,
    "start_time": "2022-02-21T19:40:40.114Z"
   },
   {
    "duration": 39,
    "start_time": "2022-02-21T19:40:40.134Z"
   },
   {
    "duration": 29,
    "start_time": "2022-02-21T19:40:40.175Z"
   },
   {
    "duration": 24,
    "start_time": "2022-02-21T19:40:40.205Z"
   },
   {
    "duration": 48,
    "start_time": "2022-02-21T19:40:40.231Z"
   },
   {
    "duration": 38,
    "start_time": "2022-02-21T19:40:40.281Z"
   },
   {
    "duration": 2834,
    "start_time": "2022-02-21T19:40:40.321Z"
   },
   {
    "duration": 4,
    "start_time": "2022-02-21T19:40:43.157Z"
   },
   {
    "duration": 2834,
    "start_time": "2022-02-21T19:41:29.913Z"
   },
   {
    "duration": 1267,
    "start_time": "2022-02-21T19:42:26.392Z"
   },
   {
    "duration": 6,
    "start_time": "2022-02-21T19:42:31.202Z"
   },
   {
    "duration": 5,
    "start_time": "2022-02-21T19:42:55.523Z"
   },
   {
    "duration": 1245,
    "start_time": "2022-02-21T19:43:33.078Z"
   },
   {
    "duration": 2766,
    "start_time": "2022-02-21T19:46:15.530Z"
   },
   {
    "duration": 5,
    "start_time": "2022-02-21T19:46:18.298Z"
   },
   {
    "duration": 716,
    "start_time": "2022-02-21T19:46:46.760Z"
   },
   {
    "duration": 12,
    "start_time": "2022-02-21T19:46:47.478Z"
   },
   {
    "duration": 4,
    "start_time": "2022-02-21T19:46:47.492Z"
   },
   {
    "duration": 12,
    "start_time": "2022-02-21T19:46:47.498Z"
   },
   {
    "duration": 9,
    "start_time": "2022-02-21T19:46:47.511Z"
   },
   {
    "duration": 94,
    "start_time": "2022-02-21T19:46:47.521Z"
   },
   {
    "duration": 26,
    "start_time": "2022-02-21T19:46:47.617Z"
   },
   {
    "duration": 17,
    "start_time": "2022-02-21T19:46:47.645Z"
   },
   {
    "duration": 9,
    "start_time": "2022-02-21T19:46:47.664Z"
   },
   {
    "duration": 5,
    "start_time": "2022-02-21T19:46:47.675Z"
   },
   {
    "duration": 15,
    "start_time": "2022-02-21T19:46:47.682Z"
   },
   {
    "duration": 29,
    "start_time": "2022-02-21T19:46:47.699Z"
   },
   {
    "duration": 52,
    "start_time": "2022-02-21T19:46:47.730Z"
   },
   {
    "duration": 25,
    "start_time": "2022-02-21T19:46:47.783Z"
   },
   {
    "duration": 25,
    "start_time": "2022-02-21T19:46:47.810Z"
   },
   {
    "duration": 59,
    "start_time": "2022-02-21T19:46:47.837Z"
   },
   {
    "duration": 5,
    "start_time": "2022-02-21T19:46:47.898Z"
   },
   {
    "duration": 5810,
    "start_time": "2022-02-21T19:46:47.904Z"
   },
   {
    "duration": 5,
    "start_time": "2022-02-21T19:46:53.715Z"
   },
   {
    "duration": 5262,
    "start_time": "2022-02-21T19:47:14.255Z"
   },
   {
    "duration": 4,
    "start_time": "2022-02-21T19:47:19.519Z"
   },
   {
    "duration": 570,
    "start_time": "2022-02-21T20:01:05.708Z"
   },
   {
    "duration": 575,
    "start_time": "2022-02-21T20:01:37.952Z"
   },
   {
    "duration": 5477,
    "start_time": "2022-02-21T20:02:54.520Z"
   },
   {
    "duration": 5,
    "start_time": "2022-02-21T20:03:05.516Z"
   },
   {
    "duration": 4575,
    "start_time": "2022-02-21T20:05:25.773Z"
   },
   {
    "duration": 7,
    "start_time": "2022-02-21T20:05:35.478Z"
   },
   {
    "duration": 4312,
    "start_time": "2022-02-21T20:05:45.921Z"
   },
   {
    "duration": 4523,
    "start_time": "2022-02-21T20:06:55.142Z"
   },
   {
    "duration": 5,
    "start_time": "2022-02-21T20:07:09.404Z"
   },
   {
    "duration": 200,
    "start_time": "2022-02-21T20:07:38.488Z"
   },
   {
    "duration": 8,
    "start_time": "2022-02-21T20:07:45.182Z"
   },
   {
    "duration": 5590,
    "start_time": "2022-02-21T20:08:03.001Z"
   },
   {
    "duration": 5,
    "start_time": "2022-02-21T20:08:08.593Z"
   },
   {
    "duration": 10,
    "start_time": "2022-02-21T20:08:08.600Z"
   },
   {
    "duration": 719,
    "start_time": "2022-02-21T20:10:12.036Z"
   },
   {
    "duration": 19,
    "start_time": "2022-02-21T20:10:12.759Z"
   },
   {
    "duration": 5,
    "start_time": "2022-02-21T20:10:12.780Z"
   },
   {
    "duration": 14,
    "start_time": "2022-02-21T20:10:12.787Z"
   },
   {
    "duration": 9,
    "start_time": "2022-02-21T20:10:12.803Z"
   },
   {
    "duration": 101,
    "start_time": "2022-02-21T20:10:12.814Z"
   },
   {
    "duration": 28,
    "start_time": "2022-02-21T20:10:12.916Z"
   },
   {
    "duration": 14,
    "start_time": "2022-02-21T20:10:12.946Z"
   },
   {
    "duration": 39,
    "start_time": "2022-02-21T20:10:12.962Z"
   },
   {
    "duration": 8,
    "start_time": "2022-02-21T20:10:13.004Z"
   },
   {
    "duration": 5,
    "start_time": "2022-02-21T20:10:13.013Z"
   },
   {
    "duration": 13,
    "start_time": "2022-02-21T20:10:13.019Z"
   },
   {
    "duration": 33,
    "start_time": "2022-02-21T20:10:13.034Z"
   },
   {
    "duration": 30,
    "start_time": "2022-02-21T20:10:13.069Z"
   },
   {
    "duration": 25,
    "start_time": "2022-02-21T20:10:13.101Z"
   },
   {
    "duration": 50,
    "start_time": "2022-02-21T20:10:13.128Z"
   },
   {
    "duration": 42,
    "start_time": "2022-02-21T20:10:13.179Z"
   },
   {
    "duration": 5,
    "start_time": "2022-02-21T20:10:13.224Z"
   },
   {
    "duration": 2588,
    "start_time": "2022-02-21T20:10:13.231Z"
   },
   {
    "duration": 5,
    "start_time": "2022-02-21T20:10:15.821Z"
   },
   {
    "duration": 15,
    "start_time": "2022-02-21T20:10:15.828Z"
   },
   {
    "duration": 657,
    "start_time": "2022-02-21T20:10:48.882Z"
   },
   {
    "duration": 19,
    "start_time": "2022-02-21T20:10:49.541Z"
   },
   {
    "duration": 4,
    "start_time": "2022-02-21T20:10:49.562Z"
   },
   {
    "duration": 11,
    "start_time": "2022-02-21T20:10:49.567Z"
   },
   {
    "duration": 7,
    "start_time": "2022-02-21T20:10:49.580Z"
   },
   {
    "duration": 76,
    "start_time": "2022-02-21T20:10:49.589Z"
   },
   {
    "duration": 24,
    "start_time": "2022-02-21T20:10:49.667Z"
   },
   {
    "duration": 3,
    "start_time": "2022-02-21T20:10:49.693Z"
   },
   {
    "duration": 4,
    "start_time": "2022-02-21T20:10:49.699Z"
   },
   {
    "duration": 9,
    "start_time": "2022-02-21T20:10:49.705Z"
   },
   {
    "duration": 12,
    "start_time": "2022-02-21T20:10:49.715Z"
   },
   {
    "duration": 57,
    "start_time": "2022-02-21T20:10:49.728Z"
   },
   {
    "duration": 30,
    "start_time": "2022-02-21T20:10:49.786Z"
   },
   {
    "duration": 43,
    "start_time": "2022-02-21T20:10:49.818Z"
   },
   {
    "duration": 24,
    "start_time": "2022-02-21T20:10:49.862Z"
   },
   {
    "duration": 35,
    "start_time": "2022-02-21T20:10:49.887Z"
   },
   {
    "duration": 4,
    "start_time": "2022-02-21T20:10:49.924Z"
   },
   {
    "duration": 5425,
    "start_time": "2022-02-21T20:10:49.929Z"
   },
   {
    "duration": 5,
    "start_time": "2022-02-21T20:10:55.356Z"
   },
   {
    "duration": 13,
    "start_time": "2022-02-21T20:10:55.363Z"
   },
   {
    "duration": 1271,
    "start_time": "2022-02-21T20:59:08.245Z"
   },
   {
    "duration": 41,
    "start_time": "2022-02-21T20:59:45.242Z"
   },
   {
    "duration": 728,
    "start_time": "2022-02-21T20:59:52.840Z"
   },
   {
    "duration": 4760,
    "start_time": "2022-02-21T21:00:53.402Z"
   },
   {
    "duration": 5596,
    "start_time": "2022-02-21T21:01:25.284Z"
   },
   {
    "duration": 5508,
    "start_time": "2022-02-21T21:01:46.296Z"
   },
   {
    "duration": 5,
    "start_time": "2022-02-21T21:01:51.806Z"
   },
   {
    "duration": 15,
    "start_time": "2022-02-21T21:01:51.813Z"
   },
   {
    "duration": 48,
    "start_time": "2022-02-21T21:09:34.058Z"
   },
   {
    "duration": 5524,
    "start_time": "2022-02-21T21:09:57.464Z"
   },
   {
    "duration": 6,
    "start_time": "2022-02-21T21:10:02.990Z"
   },
   {
    "duration": 10,
    "start_time": "2022-02-21T21:10:02.997Z"
   },
   {
    "duration": 5433,
    "start_time": "2022-02-21T21:11:24.971Z"
   },
   {
    "duration": 6,
    "start_time": "2022-02-21T21:11:30.406Z"
   },
   {
    "duration": 12,
    "start_time": "2022-02-21T21:11:30.414Z"
   },
   {
    "duration": 5483,
    "start_time": "2022-02-21T21:12:48.083Z"
   },
   {
    "duration": 5,
    "start_time": "2022-02-21T21:12:53.568Z"
   },
   {
    "duration": 8,
    "start_time": "2022-02-21T21:12:53.576Z"
   },
   {
    "duration": 674,
    "start_time": "2022-02-21T21:15:47.199Z"
   },
   {
    "duration": 617,
    "start_time": "2022-02-21T21:16:07.434Z"
   },
   {
    "duration": 691,
    "start_time": "2022-02-21T21:19:59.731Z"
   },
   {
    "duration": 671,
    "start_time": "2022-02-21T21:20:10.418Z"
   },
   {
    "duration": 5551,
    "start_time": "2022-02-21T21:20:19.328Z"
   },
   {
    "duration": 5796,
    "start_time": "2022-02-21T21:20:53.326Z"
   },
   {
    "duration": 54,
    "start_time": "2022-02-21T21:22:22.129Z"
   },
   {
    "duration": 107,
    "start_time": "2022-02-21T21:22:46.546Z"
   },
   {
    "duration": 47,
    "start_time": "2022-02-21T21:23:01.272Z"
   },
   {
    "duration": 46,
    "start_time": "2022-02-21T21:23:17.653Z"
   },
   {
    "duration": 5827,
    "start_time": "2022-02-21T21:23:32.059Z"
   },
   {
    "duration": 5,
    "start_time": "2022-02-21T21:23:48.195Z"
   },
   {
    "duration": 8,
    "start_time": "2022-02-21T21:23:49.259Z"
   },
   {
    "duration": 331,
    "start_time": "2022-02-22T05:42:10.787Z"
   },
   {
    "duration": 763,
    "start_time": "2022-02-22T05:42:19.412Z"
   },
   {
    "duration": 12,
    "start_time": "2022-02-22T05:42:20.177Z"
   },
   {
    "duration": 18,
    "start_time": "2022-02-22T05:42:20.192Z"
   },
   {
    "duration": 14,
    "start_time": "2022-02-22T05:42:20.212Z"
   },
   {
    "duration": 9,
    "start_time": "2022-02-22T05:42:20.228Z"
   },
   {
    "duration": 92,
    "start_time": "2022-02-22T05:42:20.239Z"
   },
   {
    "duration": 27,
    "start_time": "2022-02-22T05:42:20.333Z"
   },
   {
    "duration": 4,
    "start_time": "2022-02-22T05:42:20.363Z"
   },
   {
    "duration": 12,
    "start_time": "2022-02-22T05:42:20.369Z"
   },
   {
    "duration": 25,
    "start_time": "2022-02-22T05:42:20.382Z"
   },
   {
    "duration": 10,
    "start_time": "2022-02-22T05:42:20.409Z"
   },
   {
    "duration": 32,
    "start_time": "2022-02-22T05:42:20.421Z"
   },
   {
    "duration": 56,
    "start_time": "2022-02-22T05:42:20.455Z"
   },
   {
    "duration": 29,
    "start_time": "2022-02-22T05:42:20.513Z"
   },
   {
    "duration": 25,
    "start_time": "2022-02-22T05:42:20.544Z"
   },
   {
    "duration": 67,
    "start_time": "2022-02-22T05:42:20.571Z"
   },
   {
    "duration": 71,
    "start_time": "2022-02-22T05:42:20.640Z"
   },
   {
    "duration": 631,
    "start_time": "2022-02-22T05:42:20.083Z"
   },
   {
    "duration": 626,
    "start_time": "2022-02-22T05:42:20.089Z"
   },
   {
    "duration": 623,
    "start_time": "2022-02-22T05:42:20.093Z"
   },
   {
    "duration": 116,
    "start_time": "2022-02-22T05:44:31.551Z"
   },
   {
    "duration": 3660,
    "start_time": "2022-02-22T05:44:37.827Z"
   },
   {
    "duration": 998,
    "start_time": "2022-02-22T05:45:31.553Z"
   },
   {
    "duration": 836,
    "start_time": "2022-02-22T05:47:12.325Z"
   },
   {
    "duration": 13,
    "start_time": "2022-02-22T05:47:13.163Z"
   },
   {
    "duration": 20,
    "start_time": "2022-02-22T05:47:13.178Z"
   },
   {
    "duration": 25,
    "start_time": "2022-02-22T05:47:13.200Z"
   },
   {
    "duration": 21,
    "start_time": "2022-02-22T05:47:13.227Z"
   },
   {
    "duration": 82,
    "start_time": "2022-02-22T05:47:13.250Z"
   },
   {
    "duration": 38,
    "start_time": "2022-02-22T05:47:13.335Z"
   },
   {
    "duration": 5,
    "start_time": "2022-02-22T05:47:13.375Z"
   },
   {
    "duration": 24,
    "start_time": "2022-02-22T05:47:13.383Z"
   },
   {
    "duration": 28,
    "start_time": "2022-02-22T05:47:13.411Z"
   },
   {
    "duration": 23,
    "start_time": "2022-02-22T05:47:13.441Z"
   },
   {
    "duration": 30,
    "start_time": "2022-02-22T05:47:13.466Z"
   },
   {
    "duration": 35,
    "start_time": "2022-02-22T05:47:13.497Z"
   },
   {
    "duration": 31,
    "start_time": "2022-02-22T05:47:13.534Z"
   },
   {
    "duration": 45,
    "start_time": "2022-02-22T05:47:13.568Z"
   },
   {
    "duration": 28,
    "start_time": "2022-02-22T05:47:13.617Z"
   },
   {
    "duration": 60,
    "start_time": "2022-02-22T05:47:13.647Z"
   },
   {
    "duration": 1062,
    "start_time": "2022-02-22T05:47:13.709Z"
   },
   {
    "duration": 577,
    "start_time": "2022-02-22T05:47:14.196Z"
   },
   {
    "duration": 574,
    "start_time": "2022-02-22T05:47:14.200Z"
   },
   {
    "duration": 573,
    "start_time": "2022-02-22T05:47:14.203Z"
   },
   {
    "duration": 569,
    "start_time": "2022-02-22T05:47:14.208Z"
   },
   {
    "duration": 981,
    "start_time": "2022-02-22T05:47:42.910Z"
   },
   {
    "duration": 971,
    "start_time": "2022-02-22T05:48:23.167Z"
   },
   {
    "duration": 1008,
    "start_time": "2022-02-22T05:48:48.436Z"
   },
   {
    "duration": 1923,
    "start_time": "2022-02-22T05:49:03.761Z"
   },
   {
    "duration": 6,
    "start_time": "2022-02-22T05:49:09.334Z"
   },
   {
    "duration": 8,
    "start_time": "2022-02-22T05:49:09.638Z"
   },
   {
    "duration": 28,
    "start_time": "2022-02-22T05:49:09.978Z"
   },
   {
    "duration": 27,
    "start_time": "2022-02-22T05:49:10.547Z"
   },
   {
    "duration": 1022,
    "start_time": "2022-02-22T05:51:19.645Z"
   },
   {
    "duration": 152,
    "start_time": "2022-02-22T05:56:49.594Z"
   },
   {
    "duration": 68264,
    "start_time": "2022-02-22T05:59:11.662Z"
   },
   {
    "duration": 5,
    "start_time": "2022-02-22T06:00:19.928Z"
   },
   {
    "duration": 13,
    "start_time": "2022-02-22T06:00:19.935Z"
   },
   {
    "duration": 117,
    "start_time": "2022-02-22T06:00:38.033Z"
   },
   {
    "duration": 36139,
    "start_time": "2022-02-22T06:00:42.042Z"
   },
   {
    "duration": 5,
    "start_time": "2022-02-22T06:01:18.183Z"
   },
   {
    "duration": 20,
    "start_time": "2022-02-22T06:01:18.190Z"
   },
   {
    "duration": 271,
    "start_time": "2022-02-22T06:03:56.245Z"
   },
   {
    "duration": 5,
    "start_time": "2022-02-22T06:04:00.846Z"
   },
   {
    "duration": 8,
    "start_time": "2022-02-22T06:04:01.737Z"
   },
   {
    "duration": 1212,
    "start_time": "2022-02-22T06:05:14.858Z"
   },
   {
    "duration": 9,
    "start_time": "2022-02-22T06:07:46.741Z"
   },
   {
    "duration": 43,
    "start_time": "2022-02-22T06:08:02.669Z"
   },
   {
    "duration": 263,
    "start_time": "2022-02-22T06:08:02.823Z"
   },
   {
    "duration": 260,
    "start_time": "2022-02-22T06:08:19.691Z"
   },
   {
    "duration": 42,
    "start_time": "2022-02-22T06:08:54.236Z"
   },
   {
    "duration": 5459,
    "start_time": "2022-02-22T06:10:06.859Z"
   },
   {
    "duration": 76,
    "start_time": "2022-02-22T06:10:48.277Z"
   },
   {
    "duration": 5502,
    "start_time": "2022-02-22T06:11:09.488Z"
   },
   {
    "duration": 5429,
    "start_time": "2022-02-22T06:11:32.663Z"
   },
   {
    "duration": 47,
    "start_time": "2022-02-22T07:11:44.805Z"
   },
   {
    "duration": 1404,
    "start_time": "2022-02-22T07:13:31.354Z"
   },
   {
    "duration": 1409,
    "start_time": "2022-02-22T07:13:50.608Z"
   },
   {
    "duration": 43,
    "start_time": "2022-02-22T07:14:39.187Z"
   },
   {
    "duration": 302,
    "start_time": "2022-02-22T07:15:31.842Z"
   },
   {
    "duration": 213,
    "start_time": "2022-02-22T07:16:07.539Z"
   },
   {
    "duration": 189,
    "start_time": "2022-02-22T07:19:14.762Z"
   },
   {
    "duration": 205,
    "start_time": "2022-02-22T07:19:35.544Z"
   },
   {
    "duration": 13,
    "start_time": "2022-02-22T07:23:37.488Z"
   },
   {
    "duration": 35,
    "start_time": "2022-02-22T07:24:05.074Z"
   },
   {
    "duration": 794,
    "start_time": "2022-02-22T07:24:10.076Z"
   },
   {
    "duration": 13,
    "start_time": "2022-02-22T07:24:10.872Z"
   },
   {
    "duration": 5,
    "start_time": "2022-02-22T07:24:10.887Z"
   },
   {
    "duration": 19,
    "start_time": "2022-02-22T07:24:10.893Z"
   },
   {
    "duration": 12,
    "start_time": "2022-02-22T07:24:10.914Z"
   },
   {
    "duration": 101,
    "start_time": "2022-02-22T07:24:10.928Z"
   },
   {
    "duration": 27,
    "start_time": "2022-02-22T07:24:11.031Z"
   },
   {
    "duration": 4,
    "start_time": "2022-02-22T07:24:11.061Z"
   },
   {
    "duration": 10,
    "start_time": "2022-02-22T07:24:11.068Z"
   },
   {
    "duration": 27,
    "start_time": "2022-02-22T07:24:11.080Z"
   },
   {
    "duration": 7,
    "start_time": "2022-02-22T07:24:11.110Z"
   },
   {
    "duration": 22,
    "start_time": "2022-02-22T07:24:11.119Z"
   },
   {
    "duration": 32,
    "start_time": "2022-02-22T07:24:11.143Z"
   },
   {
    "duration": 44,
    "start_time": "2022-02-22T07:24:11.177Z"
   },
   {
    "duration": 30,
    "start_time": "2022-02-22T07:24:11.223Z"
   },
   {
    "duration": 24,
    "start_time": "2022-02-22T07:24:11.255Z"
   },
   {
    "duration": 55,
    "start_time": "2022-02-22T07:24:11.281Z"
   },
   {
    "duration": 2866,
    "start_time": "2022-02-22T07:24:11.338Z"
   },
   {
    "duration": 7,
    "start_time": "2022-02-22T07:24:14.208Z"
   },
   {
    "duration": 10,
    "start_time": "2022-02-22T07:24:14.217Z"
   },
   {
    "duration": 28,
    "start_time": "2022-02-22T07:24:14.229Z"
   },
   {
    "duration": 64,
    "start_time": "2022-02-22T07:24:14.259Z"
   },
   {
    "duration": 458,
    "start_time": "2022-02-22T07:28:40.505Z"
   },
   {
    "duration": 1907,
    "start_time": "2022-02-22T07:29:12.131Z"
   },
   {
    "duration": 214,
    "start_time": "2022-02-22T07:29:19.309Z"
   },
   {
    "duration": 208,
    "start_time": "2022-02-22T07:29:37.749Z"
   },
   {
    "duration": 9,
    "start_time": "2022-02-22T07:30:33.817Z"
   },
   {
    "duration": 10,
    "start_time": "2022-02-22T07:32:11.392Z"
   },
   {
    "duration": 267,
    "start_time": "2022-02-22T07:32:22.052Z"
   },
   {
    "duration": 367,
    "start_time": "2022-02-22T07:33:36.788Z"
   },
   {
    "duration": 269,
    "start_time": "2022-02-22T07:33:52.002Z"
   },
   {
    "duration": 539,
    "start_time": "2022-02-22T07:33:57.340Z"
   },
   {
    "duration": 361,
    "start_time": "2022-02-22T07:34:03.761Z"
   },
   {
    "duration": 338,
    "start_time": "2022-02-22T07:34:15.460Z"
   },
   {
    "duration": 5,
    "start_time": "2022-02-22T07:34:30.644Z"
   },
   {
    "duration": 484,
    "start_time": "2022-02-22T07:35:04.001Z"
   },
   {
    "duration": 176,
    "start_time": "2022-02-22T07:37:13.626Z"
   },
   {
    "duration": 30,
    "start_time": "2022-02-22T07:41:20.839Z"
   },
   {
    "duration": 218,
    "start_time": "2022-02-22T07:43:04.302Z"
   },
   {
    "duration": 200,
    "start_time": "2022-02-22T07:43:35.611Z"
   },
   {
    "duration": 210,
    "start_time": "2022-02-22T07:43:53.267Z"
   },
   {
    "duration": 210,
    "start_time": "2022-02-22T07:44:13.543Z"
   },
   {
    "duration": 221,
    "start_time": "2022-02-22T07:44:21.281Z"
   },
   {
    "duration": 231,
    "start_time": "2022-02-22T07:44:31.342Z"
   },
   {
    "duration": 217,
    "start_time": "2022-02-22T07:44:35.260Z"
   },
   {
    "duration": 208,
    "start_time": "2022-02-22T07:44:56.961Z"
   },
   {
    "duration": 211,
    "start_time": "2022-02-22T07:45:13.272Z"
   },
   {
    "duration": 479,
    "start_time": "2022-02-22T07:45:18.415Z"
   },
   {
    "duration": 194,
    "start_time": "2022-02-22T07:45:38.995Z"
   },
   {
    "duration": 236,
    "start_time": "2022-02-22T07:47:24.363Z"
   },
   {
    "duration": 10,
    "start_time": "2022-02-22T07:47:46.635Z"
   },
   {
    "duration": 224,
    "start_time": "2022-02-22T07:48:22.527Z"
   },
   {
    "duration": 890,
    "start_time": "2022-02-22T07:55:33.181Z"
   },
   {
    "duration": 18,
    "start_time": "2022-02-22T07:55:34.074Z"
   },
   {
    "duration": 5,
    "start_time": "2022-02-22T07:55:34.108Z"
   },
   {
    "duration": 18,
    "start_time": "2022-02-22T07:55:34.116Z"
   },
   {
    "duration": 14,
    "start_time": "2022-02-22T07:55:34.136Z"
   },
   {
    "duration": 136,
    "start_time": "2022-02-22T07:55:34.153Z"
   },
   {
    "duration": 44,
    "start_time": "2022-02-22T07:55:34.292Z"
   },
   {
    "duration": 6,
    "start_time": "2022-02-22T07:55:34.339Z"
   },
   {
    "duration": 13,
    "start_time": "2022-02-22T07:55:34.347Z"
   },
   {
    "duration": 7,
    "start_time": "2022-02-22T07:55:34.362Z"
   },
   {
    "duration": 17,
    "start_time": "2022-02-22T07:55:34.371Z"
   },
   {
    "duration": 48,
    "start_time": "2022-02-22T07:55:34.391Z"
   },
   {
    "duration": 34,
    "start_time": "2022-02-22T07:55:34.441Z"
   },
   {
    "duration": 54,
    "start_time": "2022-02-22T07:55:34.477Z"
   },
   {
    "duration": 27,
    "start_time": "2022-02-22T07:55:34.532Z"
   },
   {
    "duration": 65,
    "start_time": "2022-02-22T07:55:34.562Z"
   },
   {
    "duration": 3066,
    "start_time": "2022-02-22T07:55:34.629Z"
   },
   {
    "duration": 11,
    "start_time": "2022-02-22T07:55:37.698Z"
   },
   {
    "duration": 12,
    "start_time": "2022-02-22T07:55:37.711Z"
   },
   {
    "duration": 30,
    "start_time": "2022-02-22T07:55:37.725Z"
   },
   {
    "duration": 54,
    "start_time": "2022-02-22T07:55:37.758Z"
   },
   {
    "duration": 245,
    "start_time": "2022-02-22T07:55:37.814Z"
   },
   {
    "duration": 227,
    "start_time": "2022-02-22T07:55:38.064Z"
   },
   {
    "duration": 19,
    "start_time": "2022-02-22T07:55:38.294Z"
   },
   {
    "duration": 247,
    "start_time": "2022-02-22T07:55:38.315Z"
   },
   {
    "duration": 328,
    "start_time": "2022-02-22T07:59:04.605Z"
   },
   {
    "duration": 12,
    "start_time": "2022-02-22T07:59:22.208Z"
   },
   {
    "duration": 374,
    "start_time": "2022-02-22T07:59:46.259Z"
   },
   {
    "duration": 174,
    "start_time": "2022-02-22T07:59:58.461Z"
   },
   {
    "duration": 8,
    "start_time": "2022-02-22T08:02:31.307Z"
   },
   {
    "duration": 270,
    "start_time": "2022-02-22T08:03:50.433Z"
   },
   {
    "duration": 9,
    "start_time": "2022-02-22T08:04:32.784Z"
   },
   {
    "duration": 2078,
    "start_time": "2022-02-22T08:05:22.079Z"
   },
   {
    "duration": 925,
    "start_time": "2022-02-22T08:07:07.262Z"
   },
   {
    "duration": 17,
    "start_time": "2022-02-22T08:07:08.190Z"
   },
   {
    "duration": 6,
    "start_time": "2022-02-22T08:07:08.209Z"
   },
   {
    "duration": 19,
    "start_time": "2022-02-22T08:07:08.217Z"
   },
   {
    "duration": 11,
    "start_time": "2022-02-22T08:07:08.238Z"
   },
   {
    "duration": 140,
    "start_time": "2022-02-22T08:07:08.252Z"
   },
   {
    "duration": 35,
    "start_time": "2022-02-22T08:07:08.394Z"
   },
   {
    "duration": 5,
    "start_time": "2022-02-22T08:07:08.433Z"
   },
   {
    "duration": 14,
    "start_time": "2022-02-22T08:07:08.441Z"
   },
   {
    "duration": 13,
    "start_time": "2022-02-22T08:07:08.458Z"
   },
   {
    "duration": 16,
    "start_time": "2022-02-22T08:07:08.473Z"
   },
   {
    "duration": 47,
    "start_time": "2022-02-22T08:07:08.491Z"
   },
   {
    "duration": 34,
    "start_time": "2022-02-22T08:07:08.539Z"
   },
   {
    "duration": 53,
    "start_time": "2022-02-22T08:07:08.575Z"
   },
   {
    "duration": 26,
    "start_time": "2022-02-22T08:07:08.631Z"
   },
   {
    "duration": 59,
    "start_time": "2022-02-22T08:07:08.659Z"
   },
   {
    "duration": 3369,
    "start_time": "2022-02-22T08:07:08.721Z"
   },
   {
    "duration": 15,
    "start_time": "2022-02-22T08:07:12.092Z"
   },
   {
    "duration": 12,
    "start_time": "2022-02-22T08:07:12.110Z"
   },
   {
    "duration": 39,
    "start_time": "2022-02-22T08:07:12.126Z"
   },
   {
    "duration": 52,
    "start_time": "2022-02-22T08:07:12.167Z"
   },
   {
    "duration": 12,
    "start_time": "2022-02-22T08:07:12.221Z"
   },
   {
    "duration": 221,
    "start_time": "2022-02-22T08:07:12.237Z"
   },
   {
    "duration": 220,
    "start_time": "2022-02-22T08:07:12.460Z"
   },
   {
    "duration": 9,
    "start_time": "2022-02-22T08:07:12.682Z"
   },
   {
    "duration": 262,
    "start_time": "2022-02-22T08:07:12.693Z"
   },
   {
    "duration": 320,
    "start_time": "2022-02-22T08:07:12.957Z"
   },
   {
    "duration": 439,
    "start_time": "2022-02-22T08:08:21.401Z"
   },
   {
    "duration": 540,
    "start_time": "2022-02-22T08:08:56.340Z"
   },
   {
    "duration": 261,
    "start_time": "2022-02-22T08:14:02.333Z"
   },
   {
    "duration": 475,
    "start_time": "2022-02-22T08:14:14.352Z"
   },
   {
    "duration": 919,
    "start_time": "2022-02-22T08:16:34.547Z"
   },
   {
    "duration": 13,
    "start_time": "2022-02-22T08:16:35.469Z"
   },
   {
    "duration": 5,
    "start_time": "2022-02-22T08:16:35.485Z"
   },
   {
    "duration": 14,
    "start_time": "2022-02-22T08:16:35.509Z"
   },
   {
    "duration": 10,
    "start_time": "2022-02-22T08:16:35.525Z"
   },
   {
    "duration": 108,
    "start_time": "2022-02-22T08:16:35.537Z"
   },
   {
    "duration": 41,
    "start_time": "2022-02-22T08:16:35.647Z"
   },
   {
    "duration": 18,
    "start_time": "2022-02-22T08:16:35.692Z"
   },
   {
    "duration": 10,
    "start_time": "2022-02-22T08:16:35.713Z"
   },
   {
    "duration": 13,
    "start_time": "2022-02-22T08:16:35.725Z"
   },
   {
    "duration": 20,
    "start_time": "2022-02-22T08:16:35.740Z"
   },
   {
    "duration": 47,
    "start_time": "2022-02-22T08:16:35.762Z"
   },
   {
    "duration": 35,
    "start_time": "2022-02-22T08:16:35.811Z"
   },
   {
    "duration": 31,
    "start_time": "2022-02-22T08:16:35.848Z"
   },
   {
    "duration": 54,
    "start_time": "2022-02-22T08:16:35.881Z"
   },
   {
    "duration": 48,
    "start_time": "2022-02-22T08:16:35.938Z"
   },
   {
    "duration": 2969,
    "start_time": "2022-02-22T08:16:36.008Z"
   },
   {
    "duration": 6,
    "start_time": "2022-02-22T08:16:38.979Z"
   },
   {
    "duration": 24,
    "start_time": "2022-02-22T08:16:38.986Z"
   },
   {
    "duration": 26,
    "start_time": "2022-02-22T08:16:39.012Z"
   },
   {
    "duration": 26,
    "start_time": "2022-02-22T08:16:39.040Z"
   },
   {
    "duration": 39,
    "start_time": "2022-02-22T08:16:39.069Z"
   },
   {
    "duration": 231,
    "start_time": "2022-02-22T08:21:26.766Z"
   },
   {
    "duration": 15,
    "start_time": "2022-02-22T08:21:26.999Z"
   },
   {
    "duration": 249,
    "start_time": "2022-02-22T08:21:27.016Z"
   },
   {
    "duration": 451,
    "start_time": "2022-02-22T08:21:27.267Z"
   },
   {
    "duration": 845,
    "start_time": "2022-02-22T08:25:55.278Z"
   },
   {
    "duration": 14,
    "start_time": "2022-02-22T08:25:56.126Z"
   },
   {
    "duration": 5,
    "start_time": "2022-02-22T08:25:56.143Z"
   },
   {
    "duration": 20,
    "start_time": "2022-02-22T08:25:56.150Z"
   },
   {
    "duration": 36,
    "start_time": "2022-02-22T08:25:56.173Z"
   },
   {
    "duration": 81,
    "start_time": "2022-02-22T08:25:56.212Z"
   },
   {
    "duration": 33,
    "start_time": "2022-02-22T08:25:56.308Z"
   },
   {
    "duration": 5,
    "start_time": "2022-02-22T08:25:56.345Z"
   },
   {
    "duration": 14,
    "start_time": "2022-02-22T08:25:56.352Z"
   },
   {
    "duration": 8,
    "start_time": "2022-02-22T08:25:56.368Z"
   },
   {
    "duration": 35,
    "start_time": "2022-02-22T08:25:56.378Z"
   },
   {
    "duration": 44,
    "start_time": "2022-02-22T08:25:56.416Z"
   },
   {
    "duration": 69,
    "start_time": "2022-02-22T08:25:56.463Z"
   },
   {
    "duration": 28,
    "start_time": "2022-02-22T08:25:56.534Z"
   },
   {
    "duration": 26,
    "start_time": "2022-02-22T08:25:56.564Z"
   },
   {
    "duration": 41,
    "start_time": "2022-02-22T08:25:56.609Z"
   },
   {
    "duration": 3257,
    "start_time": "2022-02-22T08:25:56.652Z"
   },
   {
    "duration": 8,
    "start_time": "2022-02-22T08:25:59.912Z"
   },
   {
    "duration": 15,
    "start_time": "2022-02-22T08:25:59.922Z"
   },
   {
    "duration": 29,
    "start_time": "2022-02-22T08:25:59.939Z"
   },
   {
    "duration": 60,
    "start_time": "2022-02-22T08:25:59.970Z"
   },
   {
    "duration": 13,
    "start_time": "2022-02-22T08:26:00.033Z"
   },
   {
    "duration": 333,
    "start_time": "2022-02-22T08:26:00.050Z"
   },
   {
    "duration": 23,
    "start_time": "2022-02-22T08:26:00.386Z"
   },
   {
    "duration": 350,
    "start_time": "2022-02-22T08:26:00.413Z"
   },
   {
    "duration": 227,
    "start_time": "2022-02-22T08:26:00.767Z"
   },
   {
    "duration": 9,
    "start_time": "2022-02-22T08:26:33.773Z"
   },
   {
    "duration": 276,
    "start_time": "2022-02-22T08:28:08.563Z"
   },
   {
    "duration": 3,
    "start_time": "2022-02-22T08:31:12.100Z"
   },
   {
    "duration": 238,
    "start_time": "2022-02-22T08:31:23.072Z"
   },
   {
    "duration": 340,
    "start_time": "2022-02-22T08:40:06.811Z"
   },
   {
    "duration": 210,
    "start_time": "2022-02-22T08:40:13.255Z"
   },
   {
    "duration": 81,
    "start_time": "2022-02-22T08:40:38.328Z"
   },
   {
    "duration": 71,
    "start_time": "2022-02-22T08:40:47.707Z"
   },
   {
    "duration": 304,
    "start_time": "2022-02-22T09:51:08.194Z"
   },
   {
    "duration": 573,
    "start_time": "2022-02-22T09:51:26.548Z"
   },
   {
    "duration": 532,
    "start_time": "2022-02-22T09:51:39.823Z"
   },
   {
    "duration": 233,
    "start_time": "2022-02-22T09:51:48.113Z"
   },
   {
    "duration": 392,
    "start_time": "2022-02-22T09:52:20.367Z"
   },
   {
    "duration": 197,
    "start_time": "2022-02-22T09:53:55.686Z"
   },
   {
    "duration": 201,
    "start_time": "2022-02-22T09:54:24.551Z"
   },
   {
    "duration": 13,
    "start_time": "2022-02-22T09:54:29.596Z"
   },
   {
    "duration": 287,
    "start_time": "2022-02-22T09:54:49.539Z"
   },
   {
    "duration": 284,
    "start_time": "2022-02-22T09:55:20.534Z"
   },
   {
    "duration": 386,
    "start_time": "2022-02-22T09:55:50.115Z"
   },
   {
    "duration": 323,
    "start_time": "2022-02-22T09:56:04.379Z"
   },
   {
    "duration": 17,
    "start_time": "2022-02-22T09:58:42.121Z"
   },
   {
    "duration": 10,
    "start_time": "2022-02-22T09:58:58.872Z"
   },
   {
    "duration": 13,
    "start_time": "2022-02-22T09:59:08.246Z"
   },
   {
    "duration": 15,
    "start_time": "2022-02-22T09:59:42.688Z"
   },
   {
    "duration": 297,
    "start_time": "2022-02-22T09:59:45.677Z"
   },
   {
    "duration": 403,
    "start_time": "2022-02-22T10:00:15.085Z"
   },
   {
    "duration": 41,
    "start_time": "2022-02-22T10:02:05.221Z"
   },
   {
    "duration": 5768,
    "start_time": "2022-02-22T12:18:39.183Z"
   },
   {
    "duration": 6127,
    "start_time": "2022-02-22T12:19:14.569Z"
   },
   {
    "duration": 48,
    "start_time": "2022-02-22T12:20:02.798Z"
   },
   {
    "duration": 210,
    "start_time": "2022-02-22T12:21:16.524Z"
   },
   {
    "duration": 237,
    "start_time": "2022-02-22T12:21:38.500Z"
   },
   {
    "duration": 911,
    "start_time": "2022-02-22T12:22:11.892Z"
   },
   {
    "duration": 879,
    "start_time": "2022-02-22T12:25:03.655Z"
   },
   {
    "duration": 13,
    "start_time": "2022-02-22T12:25:04.537Z"
   },
   {
    "duration": 33,
    "start_time": "2022-02-22T12:25:04.554Z"
   },
   {
    "duration": 76,
    "start_time": "2022-02-22T12:25:04.590Z"
   },
   {
    "duration": 39,
    "start_time": "2022-02-22T12:25:04.668Z"
   },
   {
    "duration": 95,
    "start_time": "2022-02-22T12:25:04.709Z"
   },
   {
    "duration": 29,
    "start_time": "2022-02-22T12:25:04.807Z"
   },
   {
    "duration": 56,
    "start_time": "2022-02-22T12:25:04.838Z"
   },
   {
    "duration": 46,
    "start_time": "2022-02-22T12:25:04.897Z"
   },
   {
    "duration": 7,
    "start_time": "2022-02-22T12:25:04.945Z"
   },
   {
    "duration": 12,
    "start_time": "2022-02-22T12:25:04.954Z"
   },
   {
    "duration": 14,
    "start_time": "2022-02-22T12:25:04.968Z"
   },
   {
    "duration": 39,
    "start_time": "2022-02-22T12:25:04.984Z"
   },
   {
    "duration": 31,
    "start_time": "2022-02-22T12:25:05.025Z"
   },
   {
    "duration": 31,
    "start_time": "2022-02-22T12:25:05.058Z"
   },
   {
    "duration": 42,
    "start_time": "2022-02-22T12:25:05.091Z"
   },
   {
    "duration": 36,
    "start_time": "2022-02-22T12:25:05.135Z"
   },
   {
    "duration": 1163,
    "start_time": "2022-02-22T12:25:05.173Z"
   },
   {
    "duration": 877,
    "start_time": "2022-02-22T12:25:05.462Z"
   },
   {
    "duration": 874,
    "start_time": "2022-02-22T12:25:05.465Z"
   },
   {
    "duration": 872,
    "start_time": "2022-02-22T12:25:05.469Z"
   },
   {
    "duration": 868,
    "start_time": "2022-02-22T12:25:05.474Z"
   },
   {
    "duration": 866,
    "start_time": "2022-02-22T12:25:05.477Z"
   },
   {
    "duration": 863,
    "start_time": "2022-02-22T12:25:05.481Z"
   },
   {
    "duration": 859,
    "start_time": "2022-02-22T12:25:05.485Z"
   },
   {
    "duration": 856,
    "start_time": "2022-02-22T12:25:05.490Z"
   },
   {
    "duration": 854,
    "start_time": "2022-02-22T12:25:05.493Z"
   },
   {
    "duration": 851,
    "start_time": "2022-02-22T12:25:05.496Z"
   },
   {
    "duration": 36,
    "start_time": "2022-02-22T12:25:28.420Z"
   },
   {
    "duration": 1366,
    "start_time": "2022-02-22T12:25:29.483Z"
   },
   {
    "duration": 63,
    "start_time": "2022-02-22T12:26:49.714Z"
   },
   {
    "duration": 72,
    "start_time": "2022-02-22T12:26:54.535Z"
   },
   {
    "duration": 65,
    "start_time": "2022-02-22T12:26:59.449Z"
   },
   {
    "duration": 65,
    "start_time": "2022-02-22T12:27:09.630Z"
   },
   {
    "duration": 64,
    "start_time": "2022-02-22T12:27:10.921Z"
   },
   {
    "duration": 808,
    "start_time": "2022-02-22T12:27:16.056Z"
   },
   {
    "duration": 12,
    "start_time": "2022-02-22T12:27:16.866Z"
   },
   {
    "duration": 4,
    "start_time": "2022-02-22T12:27:16.881Z"
   },
   {
    "duration": 22,
    "start_time": "2022-02-22T12:27:16.887Z"
   },
   {
    "duration": 14,
    "start_time": "2022-02-22T12:27:16.911Z"
   },
   {
    "duration": 82,
    "start_time": "2022-02-22T12:27:16.927Z"
   },
   {
    "duration": 29,
    "start_time": "2022-02-22T12:27:17.014Z"
   },
   {
    "duration": 4,
    "start_time": "2022-02-22T12:27:17.047Z"
   },
   {
    "duration": 6,
    "start_time": "2022-02-22T12:27:17.054Z"
   },
   {
    "duration": 5,
    "start_time": "2022-02-22T12:27:17.062Z"
   },
   {
    "duration": 42,
    "start_time": "2022-02-22T12:27:17.069Z"
   },
   {
    "duration": 13,
    "start_time": "2022-02-22T12:27:17.114Z"
   },
   {
    "duration": 33,
    "start_time": "2022-02-22T12:27:17.129Z"
   },
   {
    "duration": 59,
    "start_time": "2022-02-22T12:27:17.164Z"
   },
   {
    "duration": 27,
    "start_time": "2022-02-22T12:27:17.225Z"
   },
   {
    "duration": 27,
    "start_time": "2022-02-22T12:27:17.253Z"
   },
   {
    "duration": 60,
    "start_time": "2022-02-22T12:27:17.282Z"
   },
   {
    "duration": 67,
    "start_time": "2022-02-22T12:27:17.344Z"
   },
   {
    "duration": 941,
    "start_time": "2022-02-22T12:27:16.473Z"
   },
   {
    "duration": 932,
    "start_time": "2022-02-22T12:27:16.483Z"
   },
   {
    "duration": 930,
    "start_time": "2022-02-22T12:27:16.487Z"
   },
   {
    "duration": 927,
    "start_time": "2022-02-22T12:27:16.491Z"
   },
   {
    "duration": 929,
    "start_time": "2022-02-22T12:27:16.494Z"
   },
   {
    "duration": 928,
    "start_time": "2022-02-22T12:27:16.497Z"
   },
   {
    "duration": 926,
    "start_time": "2022-02-22T12:27:16.500Z"
   },
   {
    "duration": 924,
    "start_time": "2022-02-22T12:27:16.503Z"
   },
   {
    "duration": 922,
    "start_time": "2022-02-22T12:27:16.506Z"
   },
   {
    "duration": 919,
    "start_time": "2022-02-22T12:27:16.510Z"
   },
   {
    "duration": 917,
    "start_time": "2022-02-22T12:27:16.513Z"
   },
   {
    "duration": 76,
    "start_time": "2022-02-22T12:27:34.885Z"
   },
   {
    "duration": 73,
    "start_time": "2022-02-22T12:29:20.602Z"
   },
   {
    "duration": 86,
    "start_time": "2022-02-22T12:29:21.368Z"
   },
   {
    "duration": 73,
    "start_time": "2022-02-22T12:29:25.692Z"
   },
   {
    "duration": 54,
    "start_time": "2022-02-22T12:30:07.385Z"
   },
   {
    "duration": 49,
    "start_time": "2022-02-22T12:30:10.626Z"
   },
   {
    "duration": 294,
    "start_time": "2022-02-22T12:30:40.625Z"
   },
   {
    "duration": 75,
    "start_time": "2022-02-22T12:35:34.313Z"
   },
   {
    "duration": 77,
    "start_time": "2022-02-22T12:38:27.834Z"
   },
   {
    "duration": 81,
    "start_time": "2022-02-22T12:40:36.976Z"
   },
   {
    "duration": 833,
    "start_time": "2022-02-22T12:41:52.956Z"
   },
   {
    "duration": 21,
    "start_time": "2022-02-22T12:41:53.791Z"
   },
   {
    "duration": 5,
    "start_time": "2022-02-22T12:41:53.814Z"
   },
   {
    "duration": 20,
    "start_time": "2022-02-22T12:41:53.822Z"
   },
   {
    "duration": 14,
    "start_time": "2022-02-22T12:41:53.844Z"
   },
   {
    "duration": 132,
    "start_time": "2022-02-22T12:41:53.861Z"
   },
   {
    "duration": 40,
    "start_time": "2022-02-22T12:41:53.995Z"
   },
   {
    "duration": 4,
    "start_time": "2022-02-22T12:41:54.038Z"
   },
   {
    "duration": 8,
    "start_time": "2022-02-22T12:41:54.045Z"
   },
   {
    "duration": 9,
    "start_time": "2022-02-22T12:41:54.055Z"
   },
   {
    "duration": 13,
    "start_time": "2022-02-22T12:41:54.066Z"
   },
   {
    "duration": 33,
    "start_time": "2022-02-22T12:41:54.108Z"
   },
   {
    "duration": 32,
    "start_time": "2022-02-22T12:41:54.144Z"
   },
   {
    "duration": 51,
    "start_time": "2022-02-22T12:41:54.178Z"
   },
   {
    "duration": 32,
    "start_time": "2022-02-22T12:41:54.232Z"
   },
   {
    "duration": 61,
    "start_time": "2022-02-22T12:41:54.267Z"
   },
   {
    "duration": 44,
    "start_time": "2022-02-22T12:41:54.330Z"
   },
   {
    "duration": 101,
    "start_time": "2022-02-22T12:41:54.376Z"
   },
   {
    "duration": 271,
    "start_time": "2022-02-22T12:41:54.479Z"
   },
   {
    "duration": 990,
    "start_time": "2022-02-22T12:41:53.762Z"
   },
   {
    "duration": 986,
    "start_time": "2022-02-22T12:41:53.767Z"
   },
   {
    "duration": 984,
    "start_time": "2022-02-22T12:41:53.770Z"
   },
   {
    "duration": 982,
    "start_time": "2022-02-22T12:41:53.774Z"
   },
   {
    "duration": 980,
    "start_time": "2022-02-22T12:41:53.777Z"
   },
   {
    "duration": 977,
    "start_time": "2022-02-22T12:41:53.781Z"
   },
   {
    "duration": 974,
    "start_time": "2022-02-22T12:41:53.785Z"
   },
   {
    "duration": 972,
    "start_time": "2022-02-22T12:41:53.788Z"
   },
   {
    "duration": 969,
    "start_time": "2022-02-22T12:41:53.792Z"
   },
   {
    "duration": 966,
    "start_time": "2022-02-22T12:41:53.796Z"
   },
   {
    "duration": 68,
    "start_time": "2022-02-22T12:43:31.598Z"
   },
   {
    "duration": 55,
    "start_time": "2022-02-22T12:44:57.411Z"
   },
   {
    "duration": 57,
    "start_time": "2022-02-22T12:46:10.118Z"
   },
   {
    "duration": 130,
    "start_time": "2022-02-22T12:48:23.249Z"
   },
   {
    "duration": 62,
    "start_time": "2022-02-22T12:50:52.608Z"
   },
   {
    "duration": 58,
    "start_time": "2022-02-22T12:51:14.686Z"
   },
   {
    "duration": 890,
    "start_time": "2022-02-22T12:51:33.525Z"
   },
   {
    "duration": 15,
    "start_time": "2022-02-22T12:51:34.418Z"
   },
   {
    "duration": 32,
    "start_time": "2022-02-22T12:51:34.436Z"
   },
   {
    "duration": 18,
    "start_time": "2022-02-22T12:51:34.472Z"
   },
   {
    "duration": 28,
    "start_time": "2022-02-22T12:51:34.493Z"
   },
   {
    "duration": 86,
    "start_time": "2022-02-22T12:51:34.523Z"
   },
   {
    "duration": 29,
    "start_time": "2022-02-22T12:51:34.611Z"
   },
   {
    "duration": 10,
    "start_time": "2022-02-22T12:51:34.642Z"
   },
   {
    "duration": 8,
    "start_time": "2022-02-22T12:51:34.656Z"
   },
   {
    "duration": 9,
    "start_time": "2022-02-22T12:51:34.667Z"
   },
   {
    "duration": 49,
    "start_time": "2022-02-22T12:51:34.679Z"
   },
   {
    "duration": 38,
    "start_time": "2022-02-22T12:51:34.730Z"
   },
   {
    "duration": 40,
    "start_time": "2022-02-22T12:51:34.770Z"
   },
   {
    "duration": 28,
    "start_time": "2022-02-22T12:51:34.812Z"
   },
   {
    "duration": 26,
    "start_time": "2022-02-22T12:51:34.842Z"
   },
   {
    "duration": 64,
    "start_time": "2022-02-22T12:51:34.870Z"
   },
   {
    "duration": 44,
    "start_time": "2022-02-22T12:51:34.936Z"
   },
   {
    "duration": 87,
    "start_time": "2022-02-22T12:51:34.983Z"
   },
   {
    "duration": 359,
    "start_time": "2022-02-22T12:51:35.072Z"
   },
   {
    "duration": 980,
    "start_time": "2022-02-22T12:51:34.454Z"
   },
   {
    "duration": 979,
    "start_time": "2022-02-22T12:51:34.457Z"
   },
   {
    "duration": 976,
    "start_time": "2022-02-22T12:51:34.461Z"
   },
   {
    "duration": 973,
    "start_time": "2022-02-22T12:51:34.466Z"
   },
   {
    "duration": 966,
    "start_time": "2022-02-22T12:51:34.475Z"
   },
   {
    "duration": 963,
    "start_time": "2022-02-22T12:51:34.479Z"
   },
   {
    "duration": 962,
    "start_time": "2022-02-22T12:51:34.482Z"
   },
   {
    "duration": 960,
    "start_time": "2022-02-22T12:51:34.485Z"
   },
   {
    "duration": 957,
    "start_time": "2022-02-22T12:51:34.490Z"
   },
   {
    "duration": 956,
    "start_time": "2022-02-22T12:51:34.493Z"
   },
   {
    "duration": 275,
    "start_time": "2022-02-22T12:52:05.257Z"
   },
   {
    "duration": 18759,
    "start_time": "2022-02-22T12:53:11.457Z"
   },
   {
    "duration": 48,
    "start_time": "2022-02-22T12:53:59.320Z"
   },
   {
    "duration": 5781,
    "start_time": "2022-02-22T12:54:24.724Z"
   },
   {
    "duration": 71,
    "start_time": "2022-02-22T12:54:35.077Z"
   },
   {
    "duration": 299,
    "start_time": "2022-02-22T12:55:25.646Z"
   },
   {
    "duration": 799,
    "start_time": "2022-02-22T12:55:58.952Z"
   },
   {
    "duration": 18,
    "start_time": "2022-02-22T12:55:59.754Z"
   },
   {
    "duration": 13,
    "start_time": "2022-02-22T12:55:59.775Z"
   },
   {
    "duration": 26,
    "start_time": "2022-02-22T12:55:59.807Z"
   },
   {
    "duration": 24,
    "start_time": "2022-02-22T12:55:59.836Z"
   },
   {
    "duration": 110,
    "start_time": "2022-02-22T12:55:59.863Z"
   },
   {
    "duration": 48,
    "start_time": "2022-02-22T12:55:59.975Z"
   },
   {
    "duration": 5,
    "start_time": "2022-02-22T12:56:00.026Z"
   },
   {
    "duration": 25,
    "start_time": "2022-02-22T12:56:00.035Z"
   },
   {
    "duration": 18,
    "start_time": "2022-02-22T12:56:00.064Z"
   },
   {
    "duration": 44,
    "start_time": "2022-02-22T12:56:00.084Z"
   },
   {
    "duration": 66,
    "start_time": "2022-02-22T12:56:00.131Z"
   },
   {
    "duration": 53,
    "start_time": "2022-02-22T12:56:00.200Z"
   },
   {
    "duration": 40,
    "start_time": "2022-02-22T12:56:00.256Z"
   },
   {
    "duration": 42,
    "start_time": "2022-02-22T12:56:00.298Z"
   },
   {
    "duration": 65,
    "start_time": "2022-02-22T12:56:00.342Z"
   },
   {
    "duration": 45,
    "start_time": "2022-02-22T12:56:00.410Z"
   },
   {
    "duration": 63,
    "start_time": "2022-02-22T12:56:00.457Z"
   },
   {
    "duration": 36,
    "start_time": "2022-02-22T12:56:00.523Z"
   },
   {
    "duration": 312,
    "start_time": "2022-02-22T12:56:00.562Z"
   },
   {
    "duration": 381,
    "start_time": "2022-02-22T12:56:00.877Z"
   },
   {
    "duration": 385,
    "start_time": "2022-02-22T12:56:01.261Z"
   },
   {
    "duration": 421,
    "start_time": "2022-02-22T12:56:01.649Z"
   },
   {
    "duration": 225,
    "start_time": "2022-02-22T12:56:02.072Z"
   },
   {
    "duration": 168,
    "start_time": "2022-02-23T13:57:48.882Z"
   },
   {
    "duration": 128,
    "start_time": "2022-02-23T13:58:07.236Z"
   },
   {
    "duration": 930,
    "start_time": "2022-02-23T13:58:14.754Z"
   },
   {
    "duration": 14,
    "start_time": "2022-02-23T13:58:15.686Z"
   },
   {
    "duration": 4,
    "start_time": "2022-02-23T13:58:15.702Z"
   },
   {
    "duration": 26,
    "start_time": "2022-02-23T13:58:15.708Z"
   },
   {
    "duration": 9,
    "start_time": "2022-02-23T13:58:15.735Z"
   },
   {
    "duration": 63,
    "start_time": "2022-02-23T13:58:15.745Z"
   },
   {
    "duration": 42,
    "start_time": "2022-02-23T13:58:15.810Z"
   },
   {
    "duration": 3,
    "start_time": "2022-02-23T13:58:15.855Z"
   },
   {
    "duration": 4,
    "start_time": "2022-02-23T13:58:15.861Z"
   },
   {
    "duration": 4,
    "start_time": "2022-02-23T13:58:15.867Z"
   },
   {
    "duration": 159,
    "start_time": "2022-02-23T13:58:15.872Z"
   },
   {
    "duration": 14,
    "start_time": "2022-02-23T13:58:16.033Z"
   },
   {
    "duration": 25,
    "start_time": "2022-02-23T13:58:16.048Z"
   },
   {
    "duration": 25,
    "start_time": "2022-02-23T13:58:16.074Z"
   },
   {
    "duration": 50,
    "start_time": "2022-02-23T13:58:16.101Z"
   },
   {
    "duration": 22,
    "start_time": "2022-02-23T13:58:16.153Z"
   },
   {
    "duration": 54,
    "start_time": "2022-02-23T13:58:16.177Z"
   },
   {
    "duration": 26,
    "start_time": "2022-02-23T13:58:16.233Z"
   },
   {
    "duration": 253,
    "start_time": "2022-02-23T13:58:16.261Z"
   },
   {
    "duration": 1038,
    "start_time": "2022-02-23T13:58:15.478Z"
   },
   {
    "duration": 1033,
    "start_time": "2022-02-23T13:58:15.484Z"
   },
   {
    "duration": 1032,
    "start_time": "2022-02-23T13:58:15.487Z"
   },
   {
    "duration": 1028,
    "start_time": "2022-02-23T13:58:15.492Z"
   },
   {
    "duration": 1026,
    "start_time": "2022-02-23T13:58:15.495Z"
   },
   {
    "duration": 1023,
    "start_time": "2022-02-23T13:58:15.499Z"
   },
   {
    "duration": 33,
    "start_time": "2022-02-23T13:59:12.217Z"
   },
   {
    "duration": 26,
    "start_time": "2022-02-23T13:59:23.870Z"
   },
   {
    "duration": 701,
    "start_time": "2022-02-23T13:59:31.589Z"
   },
   {
    "duration": 11,
    "start_time": "2022-02-23T13:59:32.293Z"
   },
   {
    "duration": 9,
    "start_time": "2022-02-23T13:59:32.306Z"
   },
   {
    "duration": 22,
    "start_time": "2022-02-23T13:59:32.316Z"
   },
   {
    "duration": 9,
    "start_time": "2022-02-23T13:59:32.340Z"
   },
   {
    "duration": 83,
    "start_time": "2022-02-23T13:59:32.351Z"
   },
   {
    "duration": 33,
    "start_time": "2022-02-23T13:59:32.436Z"
   },
   {
    "duration": 3,
    "start_time": "2022-02-23T13:59:32.472Z"
   },
   {
    "duration": 8,
    "start_time": "2022-02-23T13:59:32.478Z"
   },
   {
    "duration": 7,
    "start_time": "2022-02-23T13:59:32.488Z"
   },
   {
    "duration": 34,
    "start_time": "2022-02-23T13:59:32.498Z"
   },
   {
    "duration": 38,
    "start_time": "2022-02-23T13:59:32.534Z"
   },
   {
    "duration": 26,
    "start_time": "2022-02-23T13:59:32.573Z"
   },
   {
    "duration": 49,
    "start_time": "2022-02-23T13:59:32.601Z"
   },
   {
    "duration": 31,
    "start_time": "2022-02-23T13:59:32.652Z"
   },
   {
    "duration": 64,
    "start_time": "2022-02-23T13:59:32.685Z"
   },
   {
    "duration": 41,
    "start_time": "2022-02-23T13:59:32.751Z"
   },
   {
    "duration": 40,
    "start_time": "2022-02-23T13:59:32.794Z"
   },
   {
    "duration": 30,
    "start_time": "2022-02-23T13:59:32.836Z"
   },
   {
    "duration": 196,
    "start_time": "2022-02-23T13:59:32.868Z"
   },
   {
    "duration": 322,
    "start_time": "2022-02-23T13:59:33.066Z"
   },
   {
    "duration": 416,
    "start_time": "2022-02-23T13:59:33.390Z"
   },
   {
    "duration": 230,
    "start_time": "2022-02-23T13:59:33.809Z"
   },
   {
    "duration": 235,
    "start_time": "2022-02-23T13:59:34.040Z"
   },
   {
    "duration": 715,
    "start_time": "2022-02-23T14:02:19.068Z"
   },
   {
    "duration": 11,
    "start_time": "2022-02-23T14:02:19.785Z"
   },
   {
    "duration": 4,
    "start_time": "2022-02-23T14:02:19.801Z"
   },
   {
    "duration": 29,
    "start_time": "2022-02-23T14:02:19.807Z"
   },
   {
    "duration": 9,
    "start_time": "2022-02-23T14:02:19.838Z"
   },
   {
    "duration": 64,
    "start_time": "2022-02-23T14:02:19.849Z"
   },
   {
    "duration": 23,
    "start_time": "2022-02-23T14:02:19.930Z"
   },
   {
    "duration": 3,
    "start_time": "2022-02-23T14:02:19.955Z"
   },
   {
    "duration": 10,
    "start_time": "2022-02-23T14:02:19.960Z"
   },
   {
    "duration": 9,
    "start_time": "2022-02-23T14:02:19.972Z"
   },
   {
    "duration": 21,
    "start_time": "2022-02-23T14:02:19.983Z"
   },
   {
    "duration": 44,
    "start_time": "2022-02-23T14:02:20.006Z"
   },
   {
    "duration": 27,
    "start_time": "2022-02-23T14:02:20.052Z"
   },
   {
    "duration": 22,
    "start_time": "2022-02-23T14:02:20.081Z"
   },
   {
    "duration": 45,
    "start_time": "2022-02-23T14:02:20.104Z"
   },
   {
    "duration": 31,
    "start_time": "2022-02-23T14:02:20.151Z"
   },
   {
    "duration": 27,
    "start_time": "2022-02-23T14:02:20.183Z"
   },
   {
    "duration": 23,
    "start_time": "2022-02-23T14:02:20.231Z"
   },
   {
    "duration": 21,
    "start_time": "2022-02-23T14:02:20.256Z"
   },
   {
    "duration": 180,
    "start_time": "2022-02-23T14:02:20.278Z"
   },
   {
    "duration": 229,
    "start_time": "2022-02-23T14:02:20.459Z"
   },
   {
    "duration": 300,
    "start_time": "2022-02-23T14:02:20.691Z"
   },
   {
    "duration": 269,
    "start_time": "2022-02-23T14:02:20.993Z"
   },
   {
    "duration": 290,
    "start_time": "2022-02-23T14:02:21.263Z"
   },
   {
    "duration": 737,
    "start_time": "2022-02-23T14:06:03.328Z"
   },
   {
    "duration": 12,
    "start_time": "2022-02-23T14:06:04.067Z"
   },
   {
    "duration": 5,
    "start_time": "2022-02-23T14:06:04.081Z"
   },
   {
    "duration": 13,
    "start_time": "2022-02-23T14:06:04.088Z"
   },
   {
    "duration": 34,
    "start_time": "2022-02-23T14:06:04.103Z"
   },
   {
    "duration": 65,
    "start_time": "2022-02-23T14:06:04.139Z"
   },
   {
    "duration": 40,
    "start_time": "2022-02-23T14:06:04.206Z"
   },
   {
    "duration": 4,
    "start_time": "2022-02-23T14:06:04.248Z"
   },
   {
    "duration": 6,
    "start_time": "2022-02-23T14:06:04.254Z"
   },
   {
    "duration": 6,
    "start_time": "2022-02-23T14:06:04.262Z"
   },
   {
    "duration": 13,
    "start_time": "2022-02-23T14:06:04.270Z"
   },
   {
    "duration": 53,
    "start_time": "2022-02-23T14:06:04.285Z"
   },
   {
    "duration": 27,
    "start_time": "2022-02-23T14:06:04.340Z"
   },
   {
    "duration": 23,
    "start_time": "2022-02-23T14:06:04.369Z"
   },
   {
    "duration": 52,
    "start_time": "2022-02-23T14:06:04.393Z"
   },
   {
    "duration": 29,
    "start_time": "2022-02-23T14:06:04.447Z"
   },
   {
    "duration": 26,
    "start_time": "2022-02-23T14:06:04.478Z"
   },
   {
    "duration": 47,
    "start_time": "2022-02-23T14:06:04.506Z"
   },
   {
    "duration": 21,
    "start_time": "2022-02-23T14:06:04.555Z"
   },
   {
    "duration": 213,
    "start_time": "2022-02-23T14:06:04.578Z"
   },
   {
    "duration": 243,
    "start_time": "2022-02-23T14:06:04.793Z"
   },
   {
    "duration": 309,
    "start_time": "2022-02-23T14:06:05.038Z"
   },
   {
    "duration": 247,
    "start_time": "2022-02-23T14:06:05.351Z"
   },
   {
    "duration": 251,
    "start_time": "2022-02-23T14:06:05.600Z"
   },
   {
    "duration": 747,
    "start_time": "2022-02-23T14:15:55.430Z"
   },
   {
    "duration": 10,
    "start_time": "2022-02-23T14:15:56.179Z"
   },
   {
    "duration": 4,
    "start_time": "2022-02-23T14:15:56.191Z"
   },
   {
    "duration": 16,
    "start_time": "2022-02-23T14:15:56.197Z"
   },
   {
    "duration": 9,
    "start_time": "2022-02-23T14:15:56.230Z"
   },
   {
    "duration": 66,
    "start_time": "2022-02-23T14:15:56.241Z"
   },
   {
    "duration": 35,
    "start_time": "2022-02-23T14:15:56.308Z"
   },
   {
    "duration": 3,
    "start_time": "2022-02-23T14:15:56.345Z"
   },
   {
    "duration": 5,
    "start_time": "2022-02-23T14:15:56.350Z"
   },
   {
    "duration": 5,
    "start_time": "2022-02-23T14:15:56.356Z"
   },
   {
    "duration": 12,
    "start_time": "2022-02-23T14:15:56.362Z"
   },
   {
    "duration": 29,
    "start_time": "2022-02-23T14:15:56.376Z"
   },
   {
    "duration": 28,
    "start_time": "2022-02-23T14:15:56.430Z"
   },
   {
    "duration": 22,
    "start_time": "2022-02-23T14:15:56.459Z"
   },
   {
    "duration": 20,
    "start_time": "2022-02-23T14:15:56.483Z"
   },
   {
    "duration": 56,
    "start_time": "2022-02-23T14:15:56.504Z"
   },
   {
    "duration": 44,
    "start_time": "2022-02-23T14:15:56.561Z"
   },
   {
    "duration": 859,
    "start_time": "2022-02-23T14:15:55.747Z"
   },
   {
    "duration": 853,
    "start_time": "2022-02-23T14:15:55.755Z"
   },
   {
    "duration": 851,
    "start_time": "2022-02-23T14:15:55.758Z"
   },
   {
    "duration": 847,
    "start_time": "2022-02-23T14:15:55.763Z"
   },
   {
    "duration": 844,
    "start_time": "2022-02-23T14:15:55.766Z"
   },
   {
    "duration": 843,
    "start_time": "2022-02-23T14:15:55.769Z"
   },
   {
    "duration": 840,
    "start_time": "2022-02-23T14:15:55.773Z"
   },
   {
    "duration": 838,
    "start_time": "2022-02-23T14:15:55.776Z"
   },
   {
    "duration": 708,
    "start_time": "2022-02-23T14:16:09.043Z"
   },
   {
    "duration": 43,
    "start_time": "2022-02-23T14:27:11.794Z"
   },
   {
    "duration": 650,
    "start_time": "2022-02-23T14:27:18.256Z"
   },
   {
    "duration": 650,
    "start_time": "2022-02-23T14:28:04.660Z"
   },
   {
    "duration": 513,
    "start_time": "2022-02-23T14:28:42.926Z"
   },
   {
    "duration": 670,
    "start_time": "2022-02-23T14:28:48.709Z"
   },
   {
    "duration": 2258,
    "start_time": "2022-02-23T14:29:25.913Z"
   },
   {
    "duration": 2478,
    "start_time": "2022-02-23T14:30:31.769Z"
   },
   {
    "duration": 2641,
    "start_time": "2022-02-23T14:32:16.975Z"
   },
   {
    "duration": 2023,
    "start_time": "2022-02-23T14:33:28.615Z"
   },
   {
    "duration": 2051,
    "start_time": "2022-02-23T14:33:43.222Z"
   },
   {
    "duration": 403,
    "start_time": "2022-02-23T14:34:00.679Z"
   },
   {
    "duration": 436,
    "start_time": "2022-02-23T14:35:51.984Z"
   },
   {
    "duration": 484,
    "start_time": "2022-02-23T14:36:06.461Z"
   },
   {
    "duration": 317,
    "start_time": "2022-02-23T14:37:30.940Z"
   },
   {
    "duration": 1644,
    "start_time": "2022-02-23T14:38:40.169Z"
   },
   {
    "duration": 1577,
    "start_time": "2022-02-23T14:39:26.354Z"
   },
   {
    "duration": 1574,
    "start_time": "2022-02-23T14:39:41.677Z"
   },
   {
    "duration": 1617,
    "start_time": "2022-02-23T14:40:41.092Z"
   },
   {
    "duration": 678,
    "start_time": "2022-02-23T14:41:01.983Z"
   },
   {
    "duration": 10,
    "start_time": "2022-02-23T14:41:02.663Z"
   },
   {
    "duration": 9,
    "start_time": "2022-02-23T14:41:02.675Z"
   },
   {
    "duration": 25,
    "start_time": "2022-02-23T14:41:02.686Z"
   },
   {
    "duration": 19,
    "start_time": "2022-02-23T14:41:02.712Z"
   },
   {
    "duration": 66,
    "start_time": "2022-02-23T14:41:02.732Z"
   },
   {
    "duration": 36,
    "start_time": "2022-02-23T14:41:02.799Z"
   },
   {
    "duration": 4,
    "start_time": "2022-02-23T14:41:02.837Z"
   },
   {
    "duration": 9,
    "start_time": "2022-02-23T14:41:02.843Z"
   },
   {
    "duration": 8,
    "start_time": "2022-02-23T14:41:02.853Z"
   },
   {
    "duration": 25,
    "start_time": "2022-02-23T14:41:02.863Z"
   },
   {
    "duration": 29,
    "start_time": "2022-02-23T14:41:02.890Z"
   },
   {
    "duration": 29,
    "start_time": "2022-02-23T14:41:02.920Z"
   },
   {
    "duration": 21,
    "start_time": "2022-02-23T14:41:02.951Z"
   },
   {
    "duration": 21,
    "start_time": "2022-02-23T14:41:02.974Z"
   },
   {
    "duration": 51,
    "start_time": "2022-02-23T14:41:02.997Z"
   },
   {
    "duration": 3932,
    "start_time": "2022-02-23T14:41:03.051Z"
   },
   {
    "duration": 944,
    "start_time": "2022-02-23T14:41:06.041Z"
   },
   {
    "duration": 942,
    "start_time": "2022-02-23T14:41:06.044Z"
   },
   {
    "duration": 939,
    "start_time": "2022-02-23T14:41:06.048Z"
   },
   {
    "duration": 936,
    "start_time": "2022-02-23T14:41:06.052Z"
   },
   {
    "duration": 934,
    "start_time": "2022-02-23T14:41:06.055Z"
   },
   {
    "duration": 931,
    "start_time": "2022-02-23T14:41:06.059Z"
   },
   {
    "duration": 928,
    "start_time": "2022-02-23T14:41:06.063Z"
   },
   {
    "duration": 925,
    "start_time": "2022-02-23T14:41:06.067Z"
   },
   {
    "duration": 1673,
    "start_time": "2022-02-23T14:42:11.672Z"
   },
   {
    "duration": 1619,
    "start_time": "2022-02-23T14:43:44.198Z"
   },
   {
    "duration": 582,
    "start_time": "2022-02-23T14:44:16.034Z"
   },
   {
    "duration": 1610,
    "start_time": "2022-02-23T14:44:27.637Z"
   },
   {
    "duration": 727,
    "start_time": "2022-02-23T14:45:06.540Z"
   },
   {
    "duration": 10,
    "start_time": "2022-02-23T14:45:07.269Z"
   },
   {
    "duration": 4,
    "start_time": "2022-02-23T14:45:07.280Z"
   },
   {
    "duration": 11,
    "start_time": "2022-02-23T14:45:07.286Z"
   },
   {
    "duration": 32,
    "start_time": "2022-02-23T14:45:07.299Z"
   },
   {
    "duration": 65,
    "start_time": "2022-02-23T14:45:07.333Z"
   },
   {
    "duration": 41,
    "start_time": "2022-02-23T14:45:07.400Z"
   },
   {
    "duration": 4,
    "start_time": "2022-02-23T14:45:07.443Z"
   },
   {
    "duration": 9,
    "start_time": "2022-02-23T14:45:07.449Z"
   },
   {
    "duration": 5,
    "start_time": "2022-02-23T14:45:07.460Z"
   },
   {
    "duration": 10,
    "start_time": "2022-02-23T14:45:07.467Z"
   },
   {
    "duration": 28,
    "start_time": "2022-02-23T14:45:07.479Z"
   },
   {
    "duration": 27,
    "start_time": "2022-02-23T14:45:07.530Z"
   },
   {
    "duration": 22,
    "start_time": "2022-02-23T14:45:07.559Z"
   },
   {
    "duration": 21,
    "start_time": "2022-02-23T14:45:07.583Z"
   },
   {
    "duration": 52,
    "start_time": "2022-02-23T14:45:07.605Z"
   },
   {
    "duration": 404,
    "start_time": "2022-02-23T14:45:07.659Z"
   },
   {
    "duration": 981,
    "start_time": "2022-02-23T14:45:07.084Z"
   },
   {
    "duration": 979,
    "start_time": "2022-02-23T14:45:07.087Z"
   },
   {
    "duration": 976,
    "start_time": "2022-02-23T14:45:07.091Z"
   },
   {
    "duration": 973,
    "start_time": "2022-02-23T14:45:07.095Z"
   },
   {
    "duration": 932,
    "start_time": "2022-02-23T14:45:07.137Z"
   },
   {
    "duration": 925,
    "start_time": "2022-02-23T14:45:07.145Z"
   },
   {
    "duration": 924,
    "start_time": "2022-02-23T14:45:07.147Z"
   },
   {
    "duration": 922,
    "start_time": "2022-02-23T14:45:07.150Z"
   },
   {
    "duration": 360,
    "start_time": "2022-02-23T15:02:57.760Z"
   },
   {
    "duration": 495,
    "start_time": "2022-02-23T15:03:21.188Z"
   },
   {
    "duration": 769,
    "start_time": "2022-02-23T15:03:56.905Z"
   },
   {
    "duration": 771,
    "start_time": "2022-02-23T15:04:35.543Z"
   },
   {
    "duration": 946,
    "start_time": "2022-02-23T15:05:04.436Z"
   },
   {
    "duration": 11,
    "start_time": "2022-02-23T15:05:05.384Z"
   },
   {
    "duration": 4,
    "start_time": "2022-02-23T15:05:05.397Z"
   },
   {
    "duration": 30,
    "start_time": "2022-02-23T15:05:05.403Z"
   },
   {
    "duration": 9,
    "start_time": "2022-02-23T15:05:05.435Z"
   },
   {
    "duration": 61,
    "start_time": "2022-02-23T15:05:05.445Z"
   },
   {
    "duration": 38,
    "start_time": "2022-02-23T15:05:05.507Z"
   },
   {
    "duration": 3,
    "start_time": "2022-02-23T15:05:05.548Z"
   },
   {
    "duration": 9,
    "start_time": "2022-02-23T15:05:05.553Z"
   },
   {
    "duration": 7,
    "start_time": "2022-02-23T15:05:05.563Z"
   },
   {
    "duration": 10,
    "start_time": "2022-02-23T15:05:05.572Z"
   },
   {
    "duration": 53,
    "start_time": "2022-02-23T15:05:05.584Z"
   },
   {
    "duration": 29,
    "start_time": "2022-02-23T15:05:05.638Z"
   },
   {
    "duration": 22,
    "start_time": "2022-02-23T15:05:05.668Z"
   },
   {
    "duration": 46,
    "start_time": "2022-02-23T15:05:05.692Z"
   },
   {
    "duration": 29,
    "start_time": "2022-02-23T15:05:05.740Z"
   },
   {
    "duration": 5269,
    "start_time": "2022-02-23T15:05:05.770Z"
   },
   {
    "duration": 998,
    "start_time": "2022-02-23T15:05:10.043Z"
   },
   {
    "duration": 973,
    "start_time": "2022-02-23T15:05:10.069Z"
   },
   {
    "duration": 969,
    "start_time": "2022-02-23T15:05:10.074Z"
   },
   {
    "duration": 968,
    "start_time": "2022-02-23T15:05:10.077Z"
   },
   {
    "duration": 949,
    "start_time": "2022-02-23T15:05:10.097Z"
   },
   {
    "duration": 943,
    "start_time": "2022-02-23T15:05:10.104Z"
   },
   {
    "duration": 936,
    "start_time": "2022-02-23T15:05:10.112Z"
   },
   {
    "duration": 931,
    "start_time": "2022-02-23T15:05:10.118Z"
   },
   {
    "duration": 570,
    "start_time": "2022-02-23T15:06:12.929Z"
   },
   {
    "duration": 950,
    "start_time": "2022-02-23T15:06:22.167Z"
   },
   {
    "duration": 15,
    "start_time": "2022-02-23T15:06:23.119Z"
   },
   {
    "duration": 4,
    "start_time": "2022-02-23T15:06:23.136Z"
   },
   {
    "duration": 11,
    "start_time": "2022-02-23T15:06:23.142Z"
   },
   {
    "duration": 7,
    "start_time": "2022-02-23T15:06:23.155Z"
   },
   {
    "duration": 100,
    "start_time": "2022-02-23T15:06:23.164Z"
   },
   {
    "duration": 24,
    "start_time": "2022-02-23T15:06:23.266Z"
   },
   {
    "duration": 4,
    "start_time": "2022-02-23T15:06:23.293Z"
   },
   {
    "duration": 3,
    "start_time": "2022-02-23T15:06:23.300Z"
   },
   {
    "duration": 26,
    "start_time": "2022-02-23T15:06:23.305Z"
   },
   {
    "duration": 9,
    "start_time": "2022-02-23T15:06:23.333Z"
   },
   {
    "duration": 27,
    "start_time": "2022-02-23T15:06:23.344Z"
   },
   {
    "duration": 27,
    "start_time": "2022-02-23T15:06:23.373Z"
   },
   {
    "duration": 49,
    "start_time": "2022-02-23T15:06:23.402Z"
   },
   {
    "duration": 22,
    "start_time": "2022-02-23T15:06:23.453Z"
   },
   {
    "duration": 55,
    "start_time": "2022-02-23T15:06:23.476Z"
   },
   {
    "duration": 520,
    "start_time": "2022-02-23T15:06:23.533Z"
   },
   {
    "duration": 22,
    "start_time": "2022-02-23T15:06:24.055Z"
   },
   {
    "duration": 25,
    "start_time": "2022-02-23T15:06:24.079Z"
   },
   {
    "duration": 246,
    "start_time": "2022-02-23T15:06:24.106Z"
   },
   {
    "duration": 289,
    "start_time": "2022-02-23T15:06:24.354Z"
   },
   {
    "duration": 309,
    "start_time": "2022-02-23T15:06:24.645Z"
   },
   {
    "duration": 193,
    "start_time": "2022-02-23T15:06:24.956Z"
   },
   {
    "duration": 252,
    "start_time": "2022-02-23T15:06:25.151Z"
   },
   {
    "duration": 761,
    "start_time": "2022-02-23T15:07:12.320Z"
   },
   {
    "duration": 11,
    "start_time": "2022-02-23T15:07:13.083Z"
   },
   {
    "duration": 5,
    "start_time": "2022-02-23T15:07:13.096Z"
   },
   {
    "duration": 28,
    "start_time": "2022-02-23T15:07:13.103Z"
   },
   {
    "duration": 12,
    "start_time": "2022-02-23T15:07:13.133Z"
   },
   {
    "duration": 114,
    "start_time": "2022-02-23T15:07:13.147Z"
   },
   {
    "duration": 32,
    "start_time": "2022-02-23T15:07:13.263Z"
   },
   {
    "duration": 3,
    "start_time": "2022-02-23T15:07:13.298Z"
   },
   {
    "duration": 6,
    "start_time": "2022-02-23T15:07:13.303Z"
   },
   {
    "duration": 21,
    "start_time": "2022-02-23T15:07:13.311Z"
   },
   {
    "duration": 10,
    "start_time": "2022-02-23T15:07:13.334Z"
   },
   {
    "duration": 28,
    "start_time": "2022-02-23T15:07:13.346Z"
   },
   {
    "duration": 56,
    "start_time": "2022-02-23T15:07:13.375Z"
   },
   {
    "duration": 23,
    "start_time": "2022-02-23T15:07:13.433Z"
   },
   {
    "duration": 20,
    "start_time": "2022-02-23T15:07:13.458Z"
   },
   {
    "duration": 57,
    "start_time": "2022-02-23T15:07:13.480Z"
   },
   {
    "duration": 400,
    "start_time": "2022-02-23T15:07:13.539Z"
   },
   {
    "duration": 1021,
    "start_time": "2022-02-23T15:07:12.920Z"
   },
   {
    "duration": 1019,
    "start_time": "2022-02-23T15:07:12.923Z"
   },
   {
    "duration": 1014,
    "start_time": "2022-02-23T15:07:12.929Z"
   },
   {
    "duration": 1012,
    "start_time": "2022-02-23T15:07:12.932Z"
   },
   {
    "duration": 1009,
    "start_time": "2022-02-23T15:07:12.936Z"
   },
   {
    "duration": 1007,
    "start_time": "2022-02-23T15:07:12.939Z"
   },
   {
    "duration": 1003,
    "start_time": "2022-02-23T15:07:12.943Z"
   },
   {
    "duration": 1000,
    "start_time": "2022-02-23T15:07:12.947Z"
   },
   {
    "duration": 368,
    "start_time": "2022-02-23T15:08:59.255Z"
   },
   {
    "duration": 750,
    "start_time": "2022-02-23T15:09:25.528Z"
   },
   {
    "duration": 10,
    "start_time": "2022-02-23T15:09:26.280Z"
   },
   {
    "duration": 4,
    "start_time": "2022-02-23T15:09:26.294Z"
   },
   {
    "duration": 37,
    "start_time": "2022-02-23T15:09:26.300Z"
   },
   {
    "duration": 9,
    "start_time": "2022-02-23T15:09:26.338Z"
   },
   {
    "duration": 63,
    "start_time": "2022-02-23T15:09:26.348Z"
   },
   {
    "duration": 39,
    "start_time": "2022-02-23T15:09:26.414Z"
   },
   {
    "duration": 3,
    "start_time": "2022-02-23T15:09:26.455Z"
   },
   {
    "duration": 4,
    "start_time": "2022-02-23T15:09:26.460Z"
   },
   {
    "duration": 4,
    "start_time": "2022-02-23T15:09:26.466Z"
   },
   {
    "duration": 9,
    "start_time": "2022-02-23T15:09:26.472Z"
   },
   {
    "duration": 63,
    "start_time": "2022-02-23T15:09:26.482Z"
   },
   {
    "duration": 25,
    "start_time": "2022-02-23T15:09:26.547Z"
   },
   {
    "duration": 20,
    "start_time": "2022-02-23T15:09:26.574Z"
   },
   {
    "duration": 46,
    "start_time": "2022-02-23T15:09:26.596Z"
   },
   {
    "duration": 28,
    "start_time": "2022-02-23T15:09:26.644Z"
   },
   {
    "duration": 489,
    "start_time": "2022-02-23T15:09:26.674Z"
   },
   {
    "duration": 1035,
    "start_time": "2022-02-23T15:09:26.131Z"
   },
   {
    "duration": 1032,
    "start_time": "2022-02-23T15:09:26.135Z"
   },
   {
    "duration": 1029,
    "start_time": "2022-02-23T15:09:26.139Z"
   },
   {
    "duration": 1007,
    "start_time": "2022-02-23T15:09:26.162Z"
   },
   {
    "duration": 1004,
    "start_time": "2022-02-23T15:09:26.167Z"
   },
   {
    "duration": 1000,
    "start_time": "2022-02-23T15:09:26.172Z"
   },
   {
    "duration": 998,
    "start_time": "2022-02-23T15:09:26.175Z"
   },
   {
    "duration": 996,
    "start_time": "2022-02-23T15:09:26.179Z"
   },
   {
    "duration": 526,
    "start_time": "2022-02-23T15:10:22.356Z"
   },
   {
    "duration": 330,
    "start_time": "2022-02-23T15:10:43.527Z"
   },
   {
    "duration": 971,
    "start_time": "2022-02-23T15:10:52.138Z"
   },
   {
    "duration": 19,
    "start_time": "2022-02-23T15:10:53.111Z"
   },
   {
    "duration": 5,
    "start_time": "2022-02-23T15:10:53.132Z"
   },
   {
    "duration": 19,
    "start_time": "2022-02-23T15:10:53.138Z"
   },
   {
    "duration": 10,
    "start_time": "2022-02-23T15:10:53.158Z"
   },
   {
    "duration": 86,
    "start_time": "2022-02-23T15:10:53.170Z"
   },
   {
    "duration": 25,
    "start_time": "2022-02-23T15:10:53.258Z"
   },
   {
    "duration": 4,
    "start_time": "2022-02-23T15:10:53.285Z"
   },
   {
    "duration": 14,
    "start_time": "2022-02-23T15:10:53.292Z"
   },
   {
    "duration": 23,
    "start_time": "2022-02-23T15:10:53.309Z"
   },
   {
    "duration": 12,
    "start_time": "2022-02-23T15:10:53.333Z"
   },
   {
    "duration": 29,
    "start_time": "2022-02-23T15:10:53.347Z"
   },
   {
    "duration": 26,
    "start_time": "2022-02-23T15:10:53.378Z"
   },
   {
    "duration": 46,
    "start_time": "2022-02-23T15:10:53.406Z"
   },
   {
    "duration": 22,
    "start_time": "2022-02-23T15:10:53.454Z"
   },
   {
    "duration": 55,
    "start_time": "2022-02-23T15:10:53.478Z"
   },
   {
    "duration": 511,
    "start_time": "2022-02-23T15:10:53.535Z"
   },
   {
    "duration": 1047,
    "start_time": "2022-02-23T15:10:53.001Z"
   },
   {
    "duration": 1044,
    "start_time": "2022-02-23T15:10:53.005Z"
   },
   {
    "duration": 1036,
    "start_time": "2022-02-23T15:10:53.014Z"
   },
   {
    "duration": 1033,
    "start_time": "2022-02-23T15:10:53.018Z"
   },
   {
    "duration": 1031,
    "start_time": "2022-02-23T15:10:53.021Z"
   },
   {
    "duration": 1006,
    "start_time": "2022-02-23T15:10:53.047Z"
   },
   {
    "duration": 1004,
    "start_time": "2022-02-23T15:10:53.050Z"
   },
   {
    "duration": 1001,
    "start_time": "2022-02-23T15:10:53.054Z"
   },
   {
    "duration": 3582,
    "start_time": "2022-02-23T15:11:38.945Z"
   },
   {
    "duration": 329,
    "start_time": "2022-02-23T15:14:07.458Z"
   },
   {
    "duration": 327,
    "start_time": "2022-02-23T15:14:20.904Z"
   },
   {
    "duration": 1571,
    "start_time": "2022-02-23T15:14:58.211Z"
   },
   {
    "duration": 745,
    "start_time": "2022-02-23T15:15:36.373Z"
   },
   {
    "duration": 16,
    "start_time": "2022-02-23T15:15:37.120Z"
   },
   {
    "duration": 5,
    "start_time": "2022-02-23T15:15:37.138Z"
   },
   {
    "duration": 15,
    "start_time": "2022-02-23T15:15:37.145Z"
   },
   {
    "duration": 8,
    "start_time": "2022-02-23T15:15:37.162Z"
   },
   {
    "duration": 90,
    "start_time": "2022-02-23T15:15:37.172Z"
   },
   {
    "duration": 27,
    "start_time": "2022-02-23T15:15:37.264Z"
   },
   {
    "duration": 4,
    "start_time": "2022-02-23T15:15:37.294Z"
   },
   {
    "duration": 10,
    "start_time": "2022-02-23T15:15:37.300Z"
   },
   {
    "duration": 21,
    "start_time": "2022-02-23T15:15:37.311Z"
   },
   {
    "duration": 139,
    "start_time": "2022-02-23T15:15:37.333Z"
   },
   {
    "duration": 15,
    "start_time": "2022-02-23T15:15:37.474Z"
   },
   {
    "duration": 39,
    "start_time": "2022-02-23T15:15:37.491Z"
   },
   {
    "duration": 28,
    "start_time": "2022-02-23T15:15:37.531Z"
   },
   {
    "duration": 21,
    "start_time": "2022-02-23T15:15:37.560Z"
   },
   {
    "duration": 21,
    "start_time": "2022-02-23T15:15:37.583Z"
   },
   {
    "duration": 51,
    "start_time": "2022-02-23T15:15:37.605Z"
   },
   {
    "duration": 3999,
    "start_time": "2022-02-23T15:15:37.658Z"
   },
   {
    "duration": 975,
    "start_time": "2022-02-23T15:15:40.684Z"
   },
   {
    "duration": 974,
    "start_time": "2022-02-23T15:15:40.687Z"
   },
   {
    "duration": 971,
    "start_time": "2022-02-23T15:15:40.691Z"
   },
   {
    "duration": 969,
    "start_time": "2022-02-23T15:15:40.695Z"
   },
   {
    "duration": 965,
    "start_time": "2022-02-23T15:15:40.700Z"
   },
   {
    "duration": 964,
    "start_time": "2022-02-23T15:15:40.703Z"
   },
   {
    "duration": 962,
    "start_time": "2022-02-23T15:15:40.707Z"
   },
   {
    "duration": 960,
    "start_time": "2022-02-23T15:15:40.710Z"
   },
   {
    "duration": 413,
    "start_time": "2022-02-23T15:16:13.499Z"
   },
   {
    "duration": 739,
    "start_time": "2022-02-23T15:16:43.010Z"
   },
   {
    "duration": 11,
    "start_time": "2022-02-23T15:16:43.752Z"
   },
   {
    "duration": 5,
    "start_time": "2022-02-23T15:16:43.766Z"
   },
   {
    "duration": 15,
    "start_time": "2022-02-23T15:16:43.773Z"
   },
   {
    "duration": 12,
    "start_time": "2022-02-23T15:16:43.790Z"
   },
   {
    "duration": 128,
    "start_time": "2022-02-23T15:16:43.804Z"
   },
   {
    "duration": 23,
    "start_time": "2022-02-23T15:16:43.934Z"
   },
   {
    "duration": 3,
    "start_time": "2022-02-23T15:16:43.959Z"
   },
   {
    "duration": 7,
    "start_time": "2022-02-23T15:16:43.964Z"
   },
   {
    "duration": 8,
    "start_time": "2022-02-23T15:16:43.972Z"
   },
   {
    "duration": 151,
    "start_time": "2022-02-23T15:16:43.982Z"
   },
   {
    "duration": 15,
    "start_time": "2022-02-23T15:16:44.135Z"
   },
   {
    "duration": 28,
    "start_time": "2022-02-23T15:16:44.152Z"
   },
   {
    "duration": 53,
    "start_time": "2022-02-23T15:16:44.182Z"
   },
   {
    "duration": 25,
    "start_time": "2022-02-23T15:16:44.237Z"
   },
   {
    "duration": 33,
    "start_time": "2022-02-23T15:16:44.264Z"
   },
   {
    "duration": 65,
    "start_time": "2022-02-23T15:16:44.299Z"
   },
   {
    "duration": 512,
    "start_time": "2022-02-23T15:16:44.366Z"
   },
   {
    "duration": 1009,
    "start_time": "2022-02-23T15:16:43.872Z"
   },
   {
    "duration": 1001,
    "start_time": "2022-02-23T15:16:43.881Z"
   },
   {
    "duration": 998,
    "start_time": "2022-02-23T15:16:43.885Z"
   },
   {
    "duration": 995,
    "start_time": "2022-02-23T15:16:43.890Z"
   },
   {
    "duration": 993,
    "start_time": "2022-02-23T15:16:43.893Z"
   },
   {
    "duration": 991,
    "start_time": "2022-02-23T15:16:43.896Z"
   },
   {
    "duration": 987,
    "start_time": "2022-02-23T15:16:43.901Z"
   },
   {
    "duration": 975,
    "start_time": "2022-02-23T15:16:43.914Z"
   },
   {
    "duration": 361,
    "start_time": "2022-02-23T15:17:01.967Z"
   },
   {
    "duration": 771,
    "start_time": "2022-02-23T15:17:42.426Z"
   },
   {
    "duration": 428,
    "start_time": "2022-02-23T15:18:48.145Z"
   },
   {
    "duration": 950,
    "start_time": "2022-02-23T15:19:41.730Z"
   },
   {
    "duration": 12,
    "start_time": "2022-02-23T15:19:42.682Z"
   },
   {
    "duration": 7,
    "start_time": "2022-02-23T15:19:42.696Z"
   },
   {
    "duration": 30,
    "start_time": "2022-02-23T15:19:42.706Z"
   },
   {
    "duration": 10,
    "start_time": "2022-02-23T15:19:42.738Z"
   },
   {
    "duration": 117,
    "start_time": "2022-02-23T15:19:42.750Z"
   },
   {
    "duration": 34,
    "start_time": "2022-02-23T15:19:42.869Z"
   },
   {
    "duration": 23,
    "start_time": "2022-02-23T15:19:42.907Z"
   },
   {
    "duration": 4,
    "start_time": "2022-02-23T15:19:42.933Z"
   },
   {
    "duration": 16,
    "start_time": "2022-02-23T15:19:42.939Z"
   },
   {
    "duration": 21,
    "start_time": "2022-02-23T15:19:42.957Z"
   },
   {
    "duration": 29,
    "start_time": "2022-02-23T15:19:42.980Z"
   },
   {
    "duration": 40,
    "start_time": "2022-02-23T15:19:43.011Z"
   },
   {
    "duration": 33,
    "start_time": "2022-02-23T15:19:43.053Z"
   },
   {
    "duration": 54,
    "start_time": "2022-02-23T15:19:43.088Z"
   },
   {
    "duration": 47,
    "start_time": "2022-02-23T15:19:43.144Z"
   },
   {
    "duration": 536,
    "start_time": "2022-02-23T15:19:43.193Z"
   },
   {
    "duration": 1023,
    "start_time": "2022-02-23T15:19:42.708Z"
   },
   {
    "duration": 1021,
    "start_time": "2022-02-23T15:19:42.712Z"
   },
   {
    "duration": 1019,
    "start_time": "2022-02-23T15:19:42.715Z"
   },
   {
    "duration": 1017,
    "start_time": "2022-02-23T15:19:42.719Z"
   },
   {
    "duration": 996,
    "start_time": "2022-02-23T15:19:42.741Z"
   },
   {
    "duration": 995,
    "start_time": "2022-02-23T15:19:42.744Z"
   },
   {
    "duration": 993,
    "start_time": "2022-02-23T15:19:42.747Z"
   },
   {
    "duration": 990,
    "start_time": "2022-02-23T15:19:42.751Z"
   },
   {
    "duration": 358,
    "start_time": "2022-02-23T15:25:25.685Z"
   },
   {
    "duration": 336,
    "start_time": "2022-02-23T15:25:40.723Z"
   },
   {
    "duration": 312,
    "start_time": "2022-02-23T15:26:40.166Z"
   },
   {
    "duration": 296,
    "start_time": "2022-02-23T15:26:53.937Z"
   },
   {
    "duration": 760,
    "start_time": "2022-02-23T15:27:00.976Z"
   },
   {
    "duration": 314,
    "start_time": "2022-02-23T15:29:05.511Z"
   },
   {
    "duration": 814,
    "start_time": "2022-02-23T15:29:10.234Z"
   },
   {
    "duration": 11,
    "start_time": "2022-02-23T15:29:11.050Z"
   },
   {
    "duration": 4,
    "start_time": "2022-02-23T15:29:11.066Z"
   },
   {
    "duration": 16,
    "start_time": "2022-02-23T15:29:11.072Z"
   },
   {
    "duration": 8,
    "start_time": "2022-02-23T15:29:11.090Z"
   },
   {
    "duration": 90,
    "start_time": "2022-02-23T15:29:11.100Z"
   },
   {
    "duration": 38,
    "start_time": "2022-02-23T15:29:11.193Z"
   },
   {
    "duration": 4,
    "start_time": "2022-02-23T15:29:11.233Z"
   },
   {
    "duration": 7,
    "start_time": "2022-02-23T15:29:11.239Z"
   },
   {
    "duration": 6,
    "start_time": "2022-02-23T15:29:11.247Z"
   },
   {
    "duration": 145,
    "start_time": "2022-02-23T15:29:11.255Z"
   },
   {
    "duration": 13,
    "start_time": "2022-02-23T15:29:11.402Z"
   },
   {
    "duration": 35,
    "start_time": "2022-02-23T15:29:11.417Z"
   },
   {
    "duration": 27,
    "start_time": "2022-02-23T15:29:11.453Z"
   },
   {
    "duration": 21,
    "start_time": "2022-02-23T15:29:11.482Z"
   },
   {
    "duration": 43,
    "start_time": "2022-02-23T15:29:11.505Z"
   },
   {
    "duration": 29,
    "start_time": "2022-02-23T15:29:11.550Z"
   },
   {
    "duration": 411,
    "start_time": "2022-02-23T15:29:11.580Z"
   },
   {
    "duration": 1035,
    "start_time": "2022-02-23T15:29:10.958Z"
   },
   {
    "duration": 1026,
    "start_time": "2022-02-23T15:29:10.968Z"
   },
   {
    "duration": 1023,
    "start_time": "2022-02-23T15:29:10.972Z"
   },
   {
    "duration": 1007,
    "start_time": "2022-02-23T15:29:10.989Z"
   },
   {
    "duration": 1005,
    "start_time": "2022-02-23T15:29:10.992Z"
   },
   {
    "duration": 1002,
    "start_time": "2022-02-23T15:29:10.996Z"
   },
   {
    "duration": 1000,
    "start_time": "2022-02-23T15:29:10.999Z"
   },
   {
    "duration": 997,
    "start_time": "2022-02-23T15:29:11.003Z"
   },
   {
    "duration": 354,
    "start_time": "2022-02-23T15:34:06.824Z"
   },
   {
    "duration": 520,
    "start_time": "2022-02-23T15:34:20.111Z"
   },
   {
    "duration": 491,
    "start_time": "2022-02-23T15:34:50.303Z"
   },
   {
    "duration": 329,
    "start_time": "2022-02-23T15:37:00.701Z"
   },
   {
    "duration": 448,
    "start_time": "2022-02-23T15:37:12.993Z"
   },
   {
    "duration": 2069,
    "start_time": "2022-02-23T15:37:25.082Z"
   },
   {
    "duration": 702,
    "start_time": "2022-02-23T15:38:51.089Z"
   },
   {
    "duration": 11,
    "start_time": "2022-02-23T15:38:51.793Z"
   },
   {
    "duration": 4,
    "start_time": "2022-02-23T15:38:51.806Z"
   },
   {
    "duration": 27,
    "start_time": "2022-02-23T15:38:51.812Z"
   },
   {
    "duration": 8,
    "start_time": "2022-02-23T15:38:51.841Z"
   },
   {
    "duration": 79,
    "start_time": "2022-02-23T15:38:51.851Z"
   },
   {
    "duration": 24,
    "start_time": "2022-02-23T15:38:51.932Z"
   },
   {
    "duration": 3,
    "start_time": "2022-02-23T15:38:51.959Z"
   },
   {
    "duration": 4,
    "start_time": "2022-02-23T15:38:51.964Z"
   },
   {
    "duration": 4,
    "start_time": "2022-02-23T15:38:51.970Z"
   },
   {
    "duration": 10,
    "start_time": "2022-02-23T15:38:51.975Z"
   },
   {
    "duration": 67,
    "start_time": "2022-02-23T15:38:51.987Z"
   },
   {
    "duration": 30,
    "start_time": "2022-02-23T15:38:52.056Z"
   },
   {
    "duration": 43,
    "start_time": "2022-02-23T15:38:52.088Z"
   },
   {
    "duration": 33,
    "start_time": "2022-02-23T15:38:52.133Z"
   },
   {
    "duration": 64,
    "start_time": "2022-02-23T15:38:52.168Z"
   },
   {
    "duration": 3443,
    "start_time": "2022-02-23T15:38:52.234Z"
   },
   {
    "duration": 31,
    "start_time": "2022-02-23T15:38:55.679Z"
   },
   {
    "duration": 41,
    "start_time": "2022-02-23T15:38:55.712Z"
   },
   {
    "duration": 193,
    "start_time": "2022-02-23T15:38:55.755Z"
   },
   {
    "duration": 292,
    "start_time": "2022-02-23T15:38:55.950Z"
   },
   {
    "duration": 321,
    "start_time": "2022-02-23T15:38:56.244Z"
   },
   {
    "duration": 196,
    "start_time": "2022-02-23T15:38:56.568Z"
   },
   {
    "duration": 254,
    "start_time": "2022-02-23T15:38:56.766Z"
   },
   {
    "duration": 752,
    "start_time": "2022-02-23T15:39:51.849Z"
   },
   {
    "duration": 11,
    "start_time": "2022-02-23T15:39:52.603Z"
   },
   {
    "duration": 16,
    "start_time": "2022-02-23T15:39:52.616Z"
   },
   {
    "duration": 11,
    "start_time": "2022-02-23T15:39:52.634Z"
   },
   {
    "duration": 8,
    "start_time": "2022-02-23T15:39:52.647Z"
   },
   {
    "duration": 81,
    "start_time": "2022-02-23T15:39:52.657Z"
   },
   {
    "duration": 26,
    "start_time": "2022-02-23T15:39:52.740Z"
   },
   {
    "duration": 5,
    "start_time": "2022-02-23T15:39:52.768Z"
   },
   {
    "duration": 4,
    "start_time": "2022-02-23T15:39:52.775Z"
   },
   {
    "duration": 7,
    "start_time": "2022-02-23T15:39:52.781Z"
   },
   {
    "duration": 12,
    "start_time": "2022-02-23T15:39:52.790Z"
   },
   {
    "duration": 53,
    "start_time": "2022-02-23T15:39:52.804Z"
   },
   {
    "duration": 29,
    "start_time": "2022-02-23T15:39:52.860Z"
   },
   {
    "duration": 51,
    "start_time": "2022-02-23T15:39:52.891Z"
   },
   {
    "duration": 31,
    "start_time": "2022-02-23T15:39:52.944Z"
   },
   {
    "duration": 60,
    "start_time": "2022-02-23T15:39:52.977Z"
   },
   {
    "duration": 406,
    "start_time": "2022-02-23T15:39:53.039Z"
   },
   {
    "duration": 1027,
    "start_time": "2022-02-23T15:39:52.420Z"
   },
   {
    "duration": 1019,
    "start_time": "2022-02-23T15:39:52.430Z"
   },
   {
    "duration": 1003,
    "start_time": "2022-02-23T15:39:52.447Z"
   },
   {
    "duration": 998,
    "start_time": "2022-02-23T15:39:52.453Z"
   },
   {
    "duration": 993,
    "start_time": "2022-02-23T15:39:52.459Z"
   },
   {
    "duration": 990,
    "start_time": "2022-02-23T15:39:52.463Z"
   },
   {
    "duration": 979,
    "start_time": "2022-02-23T15:39:52.475Z"
   },
   {
    "duration": 977,
    "start_time": "2022-02-23T15:39:52.478Z"
   },
   {
    "duration": 509,
    "start_time": "2022-02-23T15:40:29.992Z"
   },
   {
    "duration": 800,
    "start_time": "2022-02-23T15:44:52.108Z"
   },
   {
    "duration": 10,
    "start_time": "2022-02-23T15:44:52.910Z"
   },
   {
    "duration": 9,
    "start_time": "2022-02-23T15:44:52.923Z"
   },
   {
    "duration": 18,
    "start_time": "2022-02-23T15:44:52.934Z"
   },
   {
    "duration": 8,
    "start_time": "2022-02-23T15:44:52.954Z"
   },
   {
    "duration": 77,
    "start_time": "2022-02-23T15:44:52.964Z"
   },
   {
    "duration": 25,
    "start_time": "2022-02-23T15:44:53.043Z"
   },
   {
    "duration": 3,
    "start_time": "2022-02-23T15:44:53.071Z"
   },
   {
    "duration": 7,
    "start_time": "2022-02-23T15:44:53.076Z"
   },
   {
    "duration": 11,
    "start_time": "2022-02-23T15:44:53.085Z"
   },
   {
    "duration": 14,
    "start_time": "2022-02-23T15:44:53.098Z"
   },
   {
    "duration": 29,
    "start_time": "2022-02-23T15:44:53.130Z"
   },
   {
    "duration": 26,
    "start_time": "2022-02-23T15:44:53.161Z"
   },
   {
    "duration": 49,
    "start_time": "2022-02-23T15:44:53.188Z"
   },
   {
    "duration": 22,
    "start_time": "2022-02-23T15:44:53.239Z"
   },
   {
    "duration": 30,
    "start_time": "2022-02-23T15:44:53.263Z"
   },
   {
    "duration": 46,
    "start_time": "2022-02-23T15:44:53.295Z"
   },
   {
    "duration": 947,
    "start_time": "2022-02-23T15:44:52.396Z"
   },
   {
    "duration": 944,
    "start_time": "2022-02-23T15:44:52.400Z"
   },
   {
    "duration": 942,
    "start_time": "2022-02-23T15:44:52.403Z"
   },
   {
    "duration": 940,
    "start_time": "2022-02-23T15:44:52.406Z"
   },
   {
    "duration": 938,
    "start_time": "2022-02-23T15:44:52.409Z"
   },
   {
    "duration": 936,
    "start_time": "2022-02-23T15:44:52.412Z"
   },
   {
    "duration": 933,
    "start_time": "2022-02-23T15:44:52.415Z"
   },
   {
    "duration": 904,
    "start_time": "2022-02-23T15:44:52.445Z"
   },
   {
    "duration": 375,
    "start_time": "2022-02-23T15:45:10.447Z"
   },
   {
    "duration": 384,
    "start_time": "2022-02-23T15:45:30.543Z"
   },
   {
    "duration": 1807,
    "start_time": "2022-02-23T15:45:52.875Z"
   },
   {
    "duration": 897,
    "start_time": "2022-02-23T15:46:30.605Z"
   },
   {
    "duration": 10,
    "start_time": "2022-02-23T15:46:31.504Z"
   },
   {
    "duration": 16,
    "start_time": "2022-02-23T15:46:31.516Z"
   },
   {
    "duration": 10,
    "start_time": "2022-02-23T15:46:31.534Z"
   },
   {
    "duration": 10,
    "start_time": "2022-02-23T15:46:31.546Z"
   },
   {
    "duration": 86,
    "start_time": "2022-02-23T15:46:31.557Z"
   },
   {
    "duration": 24,
    "start_time": "2022-02-23T15:46:31.645Z"
   },
   {
    "duration": 4,
    "start_time": "2022-02-23T15:46:31.672Z"
   },
   {
    "duration": 5,
    "start_time": "2022-02-23T15:46:31.678Z"
   },
   {
    "duration": 6,
    "start_time": "2022-02-23T15:46:31.685Z"
   },
   {
    "duration": 37,
    "start_time": "2022-02-23T15:46:31.693Z"
   },
   {
    "duration": 27,
    "start_time": "2022-02-23T15:46:31.732Z"
   },
   {
    "duration": 26,
    "start_time": "2022-02-23T15:46:31.761Z"
   },
   {
    "duration": 48,
    "start_time": "2022-02-23T15:46:31.789Z"
   },
   {
    "duration": 30,
    "start_time": "2022-02-23T15:46:31.840Z"
   },
   {
    "duration": 29,
    "start_time": "2022-02-23T15:46:31.872Z"
   },
   {
    "duration": 3803,
    "start_time": "2022-02-23T15:46:31.903Z"
   },
   {
    "duration": 934,
    "start_time": "2022-02-23T15:46:34.775Z"
   },
   {
    "duration": 931,
    "start_time": "2022-02-23T15:46:34.779Z"
   },
   {
    "duration": 929,
    "start_time": "2022-02-23T15:46:34.782Z"
   },
   {
    "duration": 928,
    "start_time": "2022-02-23T15:46:34.786Z"
   },
   {
    "duration": 925,
    "start_time": "2022-02-23T15:46:34.790Z"
   },
   {
    "duration": 923,
    "start_time": "2022-02-23T15:46:34.793Z"
   },
   {
    "duration": 913,
    "start_time": "2022-02-23T15:46:34.804Z"
   },
   {
    "duration": 911,
    "start_time": "2022-02-23T15:46:34.807Z"
   },
   {
    "duration": 1642,
    "start_time": "2022-02-23T15:47:19.851Z"
   },
   {
    "duration": 412,
    "start_time": "2022-02-23T15:47:52.144Z"
   },
   {
    "duration": 5044,
    "start_time": "2022-02-23T15:48:26.572Z"
   },
   {
    "duration": 3706,
    "start_time": "2022-02-23T15:50:24.091Z"
   },
   {
    "duration": 1679,
    "start_time": "2022-02-23T15:50:38.888Z"
   },
   {
    "duration": 33,
    "start_time": "2022-02-23T15:50:55.470Z"
   },
   {
    "duration": 1604,
    "start_time": "2022-02-23T15:51:06.219Z"
   },
   {
    "duration": 787,
    "start_time": "2022-02-23T15:51:41.724Z"
   },
   {
    "duration": 21,
    "start_time": "2022-02-23T15:51:42.513Z"
   },
   {
    "duration": 5,
    "start_time": "2022-02-23T15:51:42.537Z"
   },
   {
    "duration": 12,
    "start_time": "2022-02-23T15:51:42.544Z"
   },
   {
    "duration": 13,
    "start_time": "2022-02-23T15:51:42.558Z"
   },
   {
    "duration": 93,
    "start_time": "2022-02-23T15:51:42.572Z"
   },
   {
    "duration": 25,
    "start_time": "2022-02-23T15:51:42.668Z"
   },
   {
    "duration": 4,
    "start_time": "2022-02-23T15:51:42.696Z"
   },
   {
    "duration": 6,
    "start_time": "2022-02-23T15:51:42.702Z"
   },
   {
    "duration": 22,
    "start_time": "2022-02-23T15:51:42.710Z"
   },
   {
    "duration": 10,
    "start_time": "2022-02-23T15:51:42.734Z"
   },
   {
    "duration": 28,
    "start_time": "2022-02-23T15:51:42.746Z"
   },
   {
    "duration": 55,
    "start_time": "2022-02-23T15:51:42.776Z"
   },
   {
    "duration": 24,
    "start_time": "2022-02-23T15:51:42.833Z"
   },
   {
    "duration": 21,
    "start_time": "2022-02-23T15:51:42.859Z"
   },
   {
    "duration": 56,
    "start_time": "2022-02-23T15:51:42.882Z"
   },
   {
    "duration": 401,
    "start_time": "2022-02-23T15:51:42.940Z"
   },
   {
    "duration": 978,
    "start_time": "2022-02-23T15:51:42.365Z"
   },
   {
    "duration": 976,
    "start_time": "2022-02-23T15:51:42.369Z"
   },
   {
    "duration": 973,
    "start_time": "2022-02-23T15:51:42.373Z"
   },
   {
    "duration": 971,
    "start_time": "2022-02-23T15:51:42.377Z"
   },
   {
    "duration": 969,
    "start_time": "2022-02-23T15:51:42.380Z"
   },
   {
    "duration": 941,
    "start_time": "2022-02-23T15:51:42.410Z"
   },
   {
    "duration": 939,
    "start_time": "2022-02-23T15:51:42.413Z"
   },
   {
    "duration": 936,
    "start_time": "2022-02-23T15:51:42.417Z"
   },
   {
    "duration": 348,
    "start_time": "2022-02-23T15:52:05.544Z"
   },
   {
    "duration": 353,
    "start_time": "2022-02-23T15:52:17.508Z"
   },
   {
    "duration": 387,
    "start_time": "2022-02-23T15:52:25.548Z"
   },
   {
    "duration": 1593,
    "start_time": "2022-02-23T15:52:29.998Z"
   },
   {
    "duration": 372,
    "start_time": "2022-02-23T15:52:46.656Z"
   },
   {
    "duration": 744,
    "start_time": "2022-02-23T15:53:03.515Z"
   },
   {
    "duration": 10,
    "start_time": "2022-02-23T15:53:04.261Z"
   },
   {
    "duration": 7,
    "start_time": "2022-02-23T15:53:04.273Z"
   },
   {
    "duration": 13,
    "start_time": "2022-02-23T15:53:04.282Z"
   },
   {
    "duration": 11,
    "start_time": "2022-02-23T15:53:04.297Z"
   },
   {
    "duration": 100,
    "start_time": "2022-02-23T15:53:04.331Z"
   },
   {
    "duration": 33,
    "start_time": "2022-02-23T15:53:04.433Z"
   },
   {
    "duration": 4,
    "start_time": "2022-02-23T15:53:04.469Z"
   },
   {
    "duration": 7,
    "start_time": "2022-02-23T15:53:04.475Z"
   },
   {
    "duration": 5,
    "start_time": "2022-02-23T15:53:04.484Z"
   },
   {
    "duration": 12,
    "start_time": "2022-02-23T15:53:04.490Z"
   },
   {
    "duration": 53,
    "start_time": "2022-02-23T15:53:04.504Z"
   },
   {
    "duration": 26,
    "start_time": "2022-02-23T15:53:04.558Z"
   },
   {
    "duration": 21,
    "start_time": "2022-02-23T15:53:04.586Z"
   },
   {
    "duration": 23,
    "start_time": "2022-02-23T15:53:04.629Z"
   },
   {
    "duration": 29,
    "start_time": "2022-02-23T15:53:04.654Z"
   },
   {
    "duration": 5960,
    "start_time": "2022-02-23T15:53:04.685Z"
   },
   {
    "duration": 986,
    "start_time": "2022-02-23T15:53:09.662Z"
   },
   {
    "duration": 943,
    "start_time": "2022-02-23T15:53:09.706Z"
   },
   {
    "duration": 940,
    "start_time": "2022-02-23T15:53:09.710Z"
   },
   {
    "duration": 938,
    "start_time": "2022-02-23T15:53:09.713Z"
   },
   {
    "duration": 935,
    "start_time": "2022-02-23T15:53:09.717Z"
   },
   {
    "duration": 933,
    "start_time": "2022-02-23T15:53:09.720Z"
   },
   {
    "duration": 925,
    "start_time": "2022-02-23T15:53:09.729Z"
   },
   {
    "duration": 922,
    "start_time": "2022-02-23T15:53:09.733Z"
   },
   {
    "duration": 712,
    "start_time": "2022-02-23T15:53:36.750Z"
   },
   {
    "duration": 4006,
    "start_time": "2022-02-23T15:54:11.610Z"
   },
   {
    "duration": 2657,
    "start_time": "2022-02-23T15:54:39.592Z"
   },
   {
    "duration": 371,
    "start_time": "2022-02-23T15:54:51.069Z"
   },
   {
    "duration": 416,
    "start_time": "2022-02-23T15:55:08.431Z"
   },
   {
    "duration": 2614,
    "start_time": "2022-02-23T15:55:24.722Z"
   },
   {
    "duration": 33,
    "start_time": "2022-02-23T15:57:45.430Z"
   },
   {
    "duration": 32,
    "start_time": "2022-02-23T15:57:46.098Z"
   },
   {
    "duration": 10950,
    "start_time": "2022-02-23T15:58:30.751Z"
   },
   {
    "duration": 923,
    "start_time": "2022-02-23T15:59:08.296Z"
   },
   {
    "duration": 15,
    "start_time": "2022-02-23T15:59:09.221Z"
   },
   {
    "duration": 9,
    "start_time": "2022-02-23T15:59:09.239Z"
   },
   {
    "duration": 15,
    "start_time": "2022-02-23T15:59:09.250Z"
   },
   {
    "duration": 10,
    "start_time": "2022-02-23T15:59:09.266Z"
   },
   {
    "duration": 96,
    "start_time": "2022-02-23T15:59:09.278Z"
   },
   {
    "duration": 24,
    "start_time": "2022-02-23T15:59:09.375Z"
   },
   {
    "duration": 3,
    "start_time": "2022-02-23T15:59:09.402Z"
   },
   {
    "duration": 23,
    "start_time": "2022-02-23T15:59:09.407Z"
   },
   {
    "duration": 5,
    "start_time": "2022-02-23T15:59:09.431Z"
   },
   {
    "duration": 15,
    "start_time": "2022-02-23T15:59:09.437Z"
   },
   {
    "duration": 27,
    "start_time": "2022-02-23T15:59:09.454Z"
   },
   {
    "duration": 26,
    "start_time": "2022-02-23T15:59:09.482Z"
   },
   {
    "duration": 42,
    "start_time": "2022-02-23T15:59:09.509Z"
   },
   {
    "duration": 22,
    "start_time": "2022-02-23T15:59:09.553Z"
   },
   {
    "duration": 30,
    "start_time": "2022-02-23T15:59:09.577Z"
   },
   {
    "duration": 4560,
    "start_time": "2022-02-23T15:59:09.630Z"
   },
   {
    "duration": 977,
    "start_time": "2022-02-23T15:59:13.216Z"
   },
   {
    "duration": 974,
    "start_time": "2022-02-23T15:59:13.220Z"
   },
   {
    "duration": 972,
    "start_time": "2022-02-23T15:59:13.224Z"
   },
   {
    "duration": 969,
    "start_time": "2022-02-23T15:59:13.228Z"
   },
   {
    "duration": 933,
    "start_time": "2022-02-23T15:59:13.266Z"
   },
   {
    "duration": 930,
    "start_time": "2022-02-23T15:59:13.271Z"
   },
   {
    "duration": 927,
    "start_time": "2022-02-23T15:59:13.275Z"
   },
   {
    "duration": 925,
    "start_time": "2022-02-23T15:59:13.278Z"
   },
   {
    "duration": 3786,
    "start_time": "2022-02-23T15:59:35.183Z"
   },
   {
    "duration": 1592,
    "start_time": "2022-02-23T15:59:57.147Z"
   },
   {
    "duration": 1556,
    "start_time": "2022-02-23T16:00:16.546Z"
   },
   {
    "duration": 32,
    "start_time": "2022-02-23T16:01:21.763Z"
   },
   {
    "duration": 25,
    "start_time": "2022-02-23T16:01:22.692Z"
   },
   {
    "duration": 235,
    "start_time": "2022-02-23T16:07:50.597Z"
   },
   {
    "duration": 350,
    "start_time": "2022-02-23T16:08:12.002Z"
   },
   {
    "duration": 460,
    "start_time": "2022-02-23T16:08:15.791Z"
   },
   {
    "duration": 244,
    "start_time": "2022-02-23T16:08:19.752Z"
   },
   {
    "duration": 254,
    "start_time": "2022-02-23T16:08:20.484Z"
   },
   {
    "duration": 747,
    "start_time": "2022-02-23T16:20:56.736Z"
   },
   {
    "duration": 10,
    "start_time": "2022-02-23T16:20:57.485Z"
   },
   {
    "duration": 4,
    "start_time": "2022-02-23T16:20:57.498Z"
   },
   {
    "duration": 28,
    "start_time": "2022-02-23T16:20:57.503Z"
   },
   {
    "duration": 8,
    "start_time": "2022-02-23T16:20:57.533Z"
   },
   {
    "duration": 66,
    "start_time": "2022-02-23T16:20:57.543Z"
   },
   {
    "duration": 41,
    "start_time": "2022-02-23T16:20:57.611Z"
   },
   {
    "duration": 4,
    "start_time": "2022-02-23T16:20:57.655Z"
   },
   {
    "duration": 5,
    "start_time": "2022-02-23T16:20:57.661Z"
   },
   {
    "duration": 5,
    "start_time": "2022-02-23T16:20:57.667Z"
   },
   {
    "duration": 11,
    "start_time": "2022-02-23T16:20:57.674Z"
   },
   {
    "duration": 55,
    "start_time": "2022-02-23T16:20:57.687Z"
   },
   {
    "duration": 25,
    "start_time": "2022-02-23T16:20:57.744Z"
   },
   {
    "duration": 20,
    "start_time": "2022-02-23T16:20:57.771Z"
   },
   {
    "duration": 45,
    "start_time": "2022-02-23T16:20:57.793Z"
   },
   {
    "duration": 30,
    "start_time": "2022-02-23T16:20:57.839Z"
   },
   {
    "duration": 4300,
    "start_time": "2022-02-23T16:20:57.871Z"
   },
   {
    "duration": 925,
    "start_time": "2022-02-23T16:21:01.250Z"
   },
   {
    "duration": 896,
    "start_time": "2022-02-23T16:21:01.280Z"
   },
   {
    "duration": 895,
    "start_time": "2022-02-23T16:21:01.283Z"
   },
   {
    "duration": 893,
    "start_time": "2022-02-23T16:21:01.286Z"
   },
   {
    "duration": 891,
    "start_time": "2022-02-23T16:21:01.289Z"
   },
   {
    "duration": 890,
    "start_time": "2022-02-23T16:21:01.292Z"
   },
   {
    "duration": 887,
    "start_time": "2022-02-23T16:21:01.296Z"
   },
   {
    "duration": 884,
    "start_time": "2022-02-23T16:21:01.300Z"
   },
   {
    "duration": 883,
    "start_time": "2022-02-23T16:21:01.303Z"
   },
   {
    "duration": 6,
    "start_time": "2022-02-23T16:22:17.681Z"
   },
   {
    "duration": 6,
    "start_time": "2022-02-23T16:22:31.606Z"
   },
   {
    "duration": 4690,
    "start_time": "2022-02-23T16:22:59.942Z"
   },
   {
    "duration": 4444,
    "start_time": "2022-02-23T16:23:18.761Z"
   },
   {
    "duration": 4934,
    "start_time": "2022-02-23T16:24:10.171Z"
   },
   {
    "duration": 325,
    "start_time": "2022-02-23T16:24:29.240Z"
   },
   {
    "duration": 556,
    "start_time": "2022-02-23T16:24:42.626Z"
   },
   {
    "duration": 793,
    "start_time": "2022-02-23T16:24:56.536Z"
   },
   {
    "duration": 10,
    "start_time": "2022-02-23T16:24:57.331Z"
   },
   {
    "duration": 6,
    "start_time": "2022-02-23T16:24:57.343Z"
   },
   {
    "duration": 13,
    "start_time": "2022-02-23T16:24:57.351Z"
   },
   {
    "duration": 10,
    "start_time": "2022-02-23T16:24:57.366Z"
   },
   {
    "duration": 93,
    "start_time": "2022-02-23T16:24:57.378Z"
   },
   {
    "duration": 23,
    "start_time": "2022-02-23T16:24:57.473Z"
   },
   {
    "duration": 3,
    "start_time": "2022-02-23T16:24:57.498Z"
   },
   {
    "duration": 7,
    "start_time": "2022-02-23T16:24:57.503Z"
   },
   {
    "duration": 19,
    "start_time": "2022-02-23T16:24:57.511Z"
   },
   {
    "duration": 15,
    "start_time": "2022-02-23T16:24:57.532Z"
   },
   {
    "duration": 28,
    "start_time": "2022-02-23T16:24:57.548Z"
   },
   {
    "duration": 27,
    "start_time": "2022-02-23T16:24:57.578Z"
   },
   {
    "duration": 30,
    "start_time": "2022-02-23T16:24:57.631Z"
   },
   {
    "duration": 30,
    "start_time": "2022-02-23T16:24:57.662Z"
   },
   {
    "duration": 64,
    "start_time": "2022-02-23T16:24:57.693Z"
   },
   {
    "duration": 774,
    "start_time": "2022-02-23T16:24:57.759Z"
   },
   {
    "duration": 21,
    "start_time": "2022-02-23T16:24:58.535Z"
   },
   {
    "duration": 22,
    "start_time": "2022-02-23T16:24:58.559Z"
   },
   {
    "duration": 191,
    "start_time": "2022-02-23T16:24:58.583Z"
   },
   {
    "duration": 281,
    "start_time": "2022-02-23T16:24:58.776Z"
   },
   {
    "duration": 324,
    "start_time": "2022-02-23T16:24:59.059Z"
   },
   {
    "duration": 197,
    "start_time": "2022-02-23T16:24:59.387Z"
   },
   {
    "duration": 257,
    "start_time": "2022-02-23T16:24:59.586Z"
   },
   {
    "duration": 704,
    "start_time": "2022-02-23T16:25:43.895Z"
   },
   {
    "duration": 13,
    "start_time": "2022-02-23T16:25:44.601Z"
   },
   {
    "duration": 4,
    "start_time": "2022-02-23T16:25:44.632Z"
   },
   {
    "duration": 12,
    "start_time": "2022-02-23T16:25:44.638Z"
   },
   {
    "duration": 8,
    "start_time": "2022-02-23T16:25:44.651Z"
   },
   {
    "duration": 88,
    "start_time": "2022-02-23T16:25:44.661Z"
   },
   {
    "duration": 23,
    "start_time": "2022-02-23T16:25:44.752Z"
   },
   {
    "duration": 3,
    "start_time": "2022-02-23T16:25:44.777Z"
   },
   {
    "duration": 8,
    "start_time": "2022-02-23T16:25:44.782Z"
   },
   {
    "duration": 5,
    "start_time": "2022-02-23T16:25:44.791Z"
   },
   {
    "duration": 33,
    "start_time": "2022-02-23T16:25:44.797Z"
   },
   {
    "duration": 28,
    "start_time": "2022-02-23T16:25:44.832Z"
   },
   {
    "duration": 27,
    "start_time": "2022-02-23T16:25:44.862Z"
   },
   {
    "duration": 50,
    "start_time": "2022-02-23T16:25:44.891Z"
   },
   {
    "duration": 23,
    "start_time": "2022-02-23T16:25:44.943Z"
   },
   {
    "duration": 31,
    "start_time": "2022-02-23T16:25:44.968Z"
   },
   {
    "duration": 803,
    "start_time": "2022-02-23T16:25:45.001Z"
   },
   {
    "duration": 31,
    "start_time": "2022-02-23T16:25:45.806Z"
   },
   {
    "duration": 23,
    "start_time": "2022-02-23T16:25:45.839Z"
   },
   {
    "duration": 178,
    "start_time": "2022-02-23T16:25:45.864Z"
   },
   {
    "duration": 288,
    "start_time": "2022-02-23T16:25:46.044Z"
   },
   {
    "duration": 306,
    "start_time": "2022-02-23T16:25:46.335Z"
   },
   {
    "duration": 193,
    "start_time": "2022-02-23T16:25:46.643Z"
   },
   {
    "duration": 260,
    "start_time": "2022-02-23T16:25:46.838Z"
   },
   {
    "duration": 812,
    "start_time": "2022-02-23T16:26:43.326Z"
   },
   {
    "duration": 15,
    "start_time": "2022-02-23T16:26:44.140Z"
   },
   {
    "duration": 5,
    "start_time": "2022-02-23T16:26:44.157Z"
   },
   {
    "duration": 17,
    "start_time": "2022-02-23T16:26:44.165Z"
   },
   {
    "duration": 11,
    "start_time": "2022-02-23T16:26:44.184Z"
   },
   {
    "duration": 117,
    "start_time": "2022-02-23T16:26:44.197Z"
   },
   {
    "duration": 35,
    "start_time": "2022-02-23T16:26:44.316Z"
   },
   {
    "duration": 4,
    "start_time": "2022-02-23T16:26:44.352Z"
   },
   {
    "duration": 7,
    "start_time": "2022-02-23T16:26:44.359Z"
   },
   {
    "duration": 4,
    "start_time": "2022-02-23T16:26:44.369Z"
   },
   {
    "duration": 16,
    "start_time": "2022-02-23T16:26:44.375Z"
   },
   {
    "duration": 62,
    "start_time": "2022-02-23T16:26:44.392Z"
   },
   {
    "duration": 39,
    "start_time": "2022-02-23T16:26:44.456Z"
   },
   {
    "duration": 48,
    "start_time": "2022-02-23T16:26:44.497Z"
   },
   {
    "duration": 31,
    "start_time": "2022-02-23T16:26:44.547Z"
   },
   {
    "duration": 51,
    "start_time": "2022-02-23T16:26:44.580Z"
   },
   {
    "duration": 428,
    "start_time": "2022-02-23T16:26:44.633Z"
   },
   {
    "duration": 997,
    "start_time": "2022-02-23T16:26:44.067Z"
   },
   {
    "duration": 993,
    "start_time": "2022-02-23T16:26:44.072Z"
   },
   {
    "duration": 991,
    "start_time": "2022-02-23T16:26:44.076Z"
   },
   {
    "duration": 982,
    "start_time": "2022-02-23T16:26:44.086Z"
   },
   {
    "duration": 980,
    "start_time": "2022-02-23T16:26:44.089Z"
   },
   {
    "duration": 977,
    "start_time": "2022-02-23T16:26:44.094Z"
   },
   {
    "duration": 975,
    "start_time": "2022-02-23T16:26:44.097Z"
   },
   {
    "duration": 973,
    "start_time": "2022-02-23T16:26:44.101Z"
   },
   {
    "duration": 972,
    "start_time": "2022-02-23T16:26:44.104Z"
   },
   {
    "duration": 535,
    "start_time": "2022-02-23T16:27:09.720Z"
   },
   {
    "duration": 496,
    "start_time": "2022-02-23T16:27:27.001Z"
   },
   {
    "duration": 401,
    "start_time": "2022-02-23T16:28:13.933Z"
   },
   {
    "duration": 312,
    "start_time": "2022-02-23T16:28:47.161Z"
   },
   {
    "duration": 370,
    "start_time": "2022-02-23T16:28:59.628Z"
   },
   {
    "duration": 716,
    "start_time": "2022-02-23T16:29:28.769Z"
   },
   {
    "duration": 11,
    "start_time": "2022-02-23T16:29:29.487Z"
   },
   {
    "duration": 4,
    "start_time": "2022-02-23T16:29:29.500Z"
   },
   {
    "duration": 28,
    "start_time": "2022-02-23T16:29:29.506Z"
   },
   {
    "duration": 8,
    "start_time": "2022-02-23T16:29:29.536Z"
   },
   {
    "duration": 85,
    "start_time": "2022-02-23T16:29:29.545Z"
   },
   {
    "duration": 24,
    "start_time": "2022-02-23T16:29:29.632Z"
   },
   {
    "duration": 3,
    "start_time": "2022-02-23T16:29:29.659Z"
   },
   {
    "duration": 6,
    "start_time": "2022-02-23T16:29:29.664Z"
   },
   {
    "duration": 6,
    "start_time": "2022-02-23T16:29:29.672Z"
   },
   {
    "duration": 10,
    "start_time": "2022-02-23T16:29:29.680Z"
   },
   {
    "duration": 57,
    "start_time": "2022-02-23T16:29:29.692Z"
   },
   {
    "duration": 26,
    "start_time": "2022-02-23T16:29:29.751Z"
   },
   {
    "duration": 21,
    "start_time": "2022-02-23T16:29:29.779Z"
   },
   {
    "duration": 46,
    "start_time": "2022-02-23T16:29:29.802Z"
   },
   {
    "duration": 29,
    "start_time": "2022-02-23T16:29:29.850Z"
   },
   {
    "duration": 6784,
    "start_time": "2022-02-23T16:29:29.881Z"
   },
   {
    "duration": 22,
    "start_time": "2022-02-23T16:29:36.667Z"
   },
   {
    "duration": 43,
    "start_time": "2022-02-23T16:29:36.691Z"
   },
   {
    "duration": 168,
    "start_time": "2022-02-23T16:29:36.735Z"
   },
   {
    "duration": 285,
    "start_time": "2022-02-23T16:29:36.904Z"
   },
   {
    "duration": 320,
    "start_time": "2022-02-23T16:29:37.191Z"
   },
   {
    "duration": 182,
    "start_time": "2022-02-23T16:29:37.513Z"
   },
   {
    "duration": 246,
    "start_time": "2022-02-23T16:29:37.697Z"
   },
   {
    "duration": 1024,
    "start_time": "2022-02-23T16:30:24.307Z"
   },
   {
    "duration": 11,
    "start_time": "2022-02-23T16:30:25.333Z"
   },
   {
    "duration": 4,
    "start_time": "2022-02-23T16:30:25.347Z"
   },
   {
    "duration": 13,
    "start_time": "2022-02-23T16:30:25.352Z"
   },
   {
    "duration": 9,
    "start_time": "2022-02-23T16:30:25.366Z"
   },
   {
    "duration": 106,
    "start_time": "2022-02-23T16:30:25.377Z"
   },
   {
    "duration": 45,
    "start_time": "2022-02-23T16:30:25.485Z"
   },
   {
    "duration": 4,
    "start_time": "2022-02-23T16:30:25.533Z"
   },
   {
    "duration": 10,
    "start_time": "2022-02-23T16:30:25.539Z"
   },
   {
    "duration": 7,
    "start_time": "2022-02-23T16:30:25.550Z"
   },
   {
    "duration": 12,
    "start_time": "2022-02-23T16:30:25.558Z"
   },
   {
    "duration": 33,
    "start_time": "2022-02-23T16:30:25.571Z"
   },
   {
    "duration": 43,
    "start_time": "2022-02-23T16:30:25.630Z"
   },
   {
    "duration": 24,
    "start_time": "2022-02-23T16:30:25.675Z"
   },
   {
    "duration": 44,
    "start_time": "2022-02-23T16:30:25.701Z"
   },
   {
    "duration": 31,
    "start_time": "2022-02-23T16:30:25.747Z"
   },
   {
    "duration": 6992,
    "start_time": "2022-02-23T16:30:25.780Z"
   },
   {
    "duration": 23,
    "start_time": "2022-02-23T16:30:32.774Z"
   },
   {
    "duration": 36,
    "start_time": "2022-02-23T16:30:32.799Z"
   },
   {
    "duration": 179,
    "start_time": "2022-02-23T16:30:32.837Z"
   },
   {
    "duration": 276,
    "start_time": "2022-02-23T16:30:33.018Z"
   },
   {
    "duration": 298,
    "start_time": "2022-02-23T16:30:33.296Z"
   },
   {
    "duration": 179,
    "start_time": "2022-02-23T16:30:33.597Z"
   },
   {
    "duration": 228,
    "start_time": "2022-02-23T16:30:33.778Z"
   },
   {
    "duration": 756,
    "start_time": "2022-02-23T16:31:27.707Z"
   },
   {
    "duration": 15,
    "start_time": "2022-02-23T16:31:28.465Z"
   },
   {
    "duration": 5,
    "start_time": "2022-02-23T16:31:28.483Z"
   },
   {
    "duration": 13,
    "start_time": "2022-02-23T16:31:28.490Z"
   },
   {
    "duration": 35,
    "start_time": "2022-02-23T16:31:28.505Z"
   },
   {
    "duration": 66,
    "start_time": "2022-02-23T16:31:28.542Z"
   },
   {
    "duration": 40,
    "start_time": "2022-02-23T16:31:28.609Z"
   },
   {
    "duration": 3,
    "start_time": "2022-02-23T16:31:28.651Z"
   },
   {
    "duration": 6,
    "start_time": "2022-02-23T16:31:28.657Z"
   },
   {
    "duration": 8,
    "start_time": "2022-02-23T16:31:28.665Z"
   },
   {
    "duration": 13,
    "start_time": "2022-02-23T16:31:28.675Z"
   },
   {
    "duration": 49,
    "start_time": "2022-02-23T16:31:28.689Z"
   },
   {
    "duration": 26,
    "start_time": "2022-02-23T16:31:28.740Z"
   },
   {
    "duration": 22,
    "start_time": "2022-02-23T16:31:28.768Z"
   },
   {
    "duration": 48,
    "start_time": "2022-02-23T16:31:28.792Z"
   },
   {
    "duration": 30,
    "start_time": "2022-02-23T16:31:28.842Z"
   },
   {
    "duration": 6922,
    "start_time": "2022-02-23T16:31:28.874Z"
   },
   {
    "duration": 33,
    "start_time": "2022-02-23T16:31:35.798Z"
   },
   {
    "duration": 24,
    "start_time": "2022-02-23T16:31:35.833Z"
   },
   {
    "duration": 177,
    "start_time": "2022-02-23T16:31:35.859Z"
   },
   {
    "duration": 282,
    "start_time": "2022-02-23T16:31:36.038Z"
   },
   {
    "duration": 310,
    "start_time": "2022-02-23T16:31:36.322Z"
   },
   {
    "duration": 181,
    "start_time": "2022-02-23T16:31:36.635Z"
   },
   {
    "duration": 246,
    "start_time": "2022-02-23T16:31:36.818Z"
   },
   {
    "duration": 744,
    "start_time": "2022-02-23T16:32:54.710Z"
   },
   {
    "duration": 9,
    "start_time": "2022-02-23T16:32:55.456Z"
   },
   {
    "duration": 4,
    "start_time": "2022-02-23T16:32:55.468Z"
   },
   {
    "duration": 16,
    "start_time": "2022-02-23T16:32:55.473Z"
   },
   {
    "duration": 9,
    "start_time": "2022-02-23T16:32:55.491Z"
   },
   {
    "duration": 82,
    "start_time": "2022-02-23T16:32:55.502Z"
   },
   {
    "duration": 22,
    "start_time": "2022-02-23T16:32:55.586Z"
   },
   {
    "duration": 3,
    "start_time": "2022-02-23T16:32:55.611Z"
   },
   {
    "duration": 3,
    "start_time": "2022-02-23T16:32:55.631Z"
   },
   {
    "duration": 5,
    "start_time": "2022-02-23T16:32:55.636Z"
   },
   {
    "duration": 11,
    "start_time": "2022-02-23T16:32:55.642Z"
   },
   {
    "duration": 28,
    "start_time": "2022-02-23T16:32:55.654Z"
   },
   {
    "duration": 56,
    "start_time": "2022-02-23T16:32:55.683Z"
   },
   {
    "duration": 22,
    "start_time": "2022-02-23T16:32:55.741Z"
   },
   {
    "duration": 25,
    "start_time": "2022-02-23T16:32:55.764Z"
   },
   {
    "duration": 59,
    "start_time": "2022-02-23T16:32:55.791Z"
   },
   {
    "duration": 375,
    "start_time": "2022-02-23T16:32:55.852Z"
   },
   {
    "duration": 991,
    "start_time": "2022-02-23T16:32:55.238Z"
   },
   {
    "duration": 990,
    "start_time": "2022-02-23T16:32:55.241Z"
   },
   {
    "duration": 988,
    "start_time": "2022-02-23T16:32:55.244Z"
   },
   {
    "duration": 985,
    "start_time": "2022-02-23T16:32:55.248Z"
   },
   {
    "duration": 970,
    "start_time": "2022-02-23T16:32:55.264Z"
   },
   {
    "duration": 967,
    "start_time": "2022-02-23T16:32:55.268Z"
   },
   {
    "duration": 966,
    "start_time": "2022-02-23T16:32:55.271Z"
   },
   {
    "duration": 963,
    "start_time": "2022-02-23T16:32:55.275Z"
   },
   {
    "duration": 961,
    "start_time": "2022-02-23T16:32:55.278Z"
   },
   {
    "duration": 756,
    "start_time": "2022-02-23T16:33:17.563Z"
   },
   {
    "duration": 19,
    "start_time": "2022-02-23T16:33:18.321Z"
   },
   {
    "duration": 4,
    "start_time": "2022-02-23T16:33:18.346Z"
   },
   {
    "duration": 12,
    "start_time": "2022-02-23T16:33:18.352Z"
   },
   {
    "duration": 8,
    "start_time": "2022-02-23T16:33:18.365Z"
   },
   {
    "duration": 92,
    "start_time": "2022-02-23T16:33:18.375Z"
   },
   {
    "duration": 23,
    "start_time": "2022-02-23T16:33:18.469Z"
   },
   {
    "duration": 3,
    "start_time": "2022-02-23T16:33:18.495Z"
   },
   {
    "duration": 6,
    "start_time": "2022-02-23T16:33:18.501Z"
   },
   {
    "duration": 22,
    "start_time": "2022-02-23T16:33:18.508Z"
   },
   {
    "duration": 14,
    "start_time": "2022-02-23T16:33:18.532Z"
   },
   {
    "duration": 38,
    "start_time": "2022-02-23T16:33:18.548Z"
   },
   {
    "duration": 59,
    "start_time": "2022-02-23T16:33:18.588Z"
   },
   {
    "duration": 22,
    "start_time": "2022-02-23T16:33:18.649Z"
   },
   {
    "duration": 22,
    "start_time": "2022-02-23T16:33:18.673Z"
   },
   {
    "duration": 53,
    "start_time": "2022-02-23T16:33:18.696Z"
   },
   {
    "duration": 6867,
    "start_time": "2022-02-23T16:33:18.751Z"
   },
   {
    "duration": 31,
    "start_time": "2022-02-23T16:33:25.620Z"
   },
   {
    "duration": 20,
    "start_time": "2022-02-23T16:33:25.653Z"
   },
   {
    "duration": 184,
    "start_time": "2022-02-23T16:33:25.674Z"
   },
   {
    "duration": 282,
    "start_time": "2022-02-23T16:33:25.860Z"
   },
   {
    "duration": 287,
    "start_time": "2022-02-23T16:33:26.144Z"
   },
   {
    "duration": 184,
    "start_time": "2022-02-23T16:33:26.433Z"
   },
   {
    "duration": 239,
    "start_time": "2022-02-23T16:33:26.619Z"
   },
   {
    "duration": 936,
    "start_time": "2022-02-23T16:35:33.398Z"
   },
   {
    "duration": 12,
    "start_time": "2022-02-23T16:35:34.336Z"
   },
   {
    "duration": 4,
    "start_time": "2022-02-23T16:35:34.350Z"
   },
   {
    "duration": 13,
    "start_time": "2022-02-23T16:35:34.355Z"
   },
   {
    "duration": 8,
    "start_time": "2022-02-23T16:35:34.370Z"
   },
   {
    "duration": 101,
    "start_time": "2022-02-23T16:35:34.379Z"
   },
   {
    "duration": 22,
    "start_time": "2022-02-23T16:35:34.481Z"
   },
   {
    "duration": 3,
    "start_time": "2022-02-23T16:35:34.504Z"
   },
   {
    "duration": 21,
    "start_time": "2022-02-23T16:35:34.510Z"
   },
   {
    "duration": 2,
    "start_time": "2022-02-23T16:35:34.533Z"
   },
   {
    "duration": 11,
    "start_time": "2022-02-23T16:35:34.537Z"
   },
   {
    "duration": 29,
    "start_time": "2022-02-23T16:35:34.549Z"
   },
   {
    "duration": 58,
    "start_time": "2022-02-23T16:35:34.580Z"
   },
   {
    "duration": 22,
    "start_time": "2022-02-23T16:35:34.640Z"
   },
   {
    "duration": 22,
    "start_time": "2022-02-23T16:35:34.664Z"
   },
   {
    "duration": 56,
    "start_time": "2022-02-23T16:35:34.688Z"
   },
   {
    "duration": 492,
    "start_time": "2022-02-23T16:35:34.746Z"
   },
   {
    "duration": 23,
    "start_time": "2022-02-23T16:35:35.240Z"
   },
   {
    "duration": 23,
    "start_time": "2022-02-23T16:35:35.264Z"
   },
   {
    "duration": 180,
    "start_time": "2022-02-23T16:35:35.289Z"
   },
   {
    "duration": 280,
    "start_time": "2022-02-23T16:35:35.470Z"
   },
   {
    "duration": 296,
    "start_time": "2022-02-23T16:35:35.752Z"
   },
   {
    "duration": 198,
    "start_time": "2022-02-23T16:35:36.050Z"
   },
   {
    "duration": 258,
    "start_time": "2022-02-23T16:35:36.250Z"
   },
   {
    "duration": 740,
    "start_time": "2022-02-23T16:36:23.940Z"
   },
   {
    "duration": 11,
    "start_time": "2022-02-23T16:36:24.682Z"
   },
   {
    "duration": 4,
    "start_time": "2022-02-23T16:36:24.695Z"
   },
   {
    "duration": 16,
    "start_time": "2022-02-23T16:36:24.700Z"
   },
   {
    "duration": 8,
    "start_time": "2022-02-23T16:36:24.730Z"
   },
   {
    "duration": 62,
    "start_time": "2022-02-23T16:36:24.739Z"
   },
   {
    "duration": 40,
    "start_time": "2022-02-23T16:36:24.803Z"
   },
   {
    "duration": 3,
    "start_time": "2022-02-23T16:36:24.846Z"
   },
   {
    "duration": 4,
    "start_time": "2022-02-23T16:36:24.852Z"
   },
   {
    "duration": 8,
    "start_time": "2022-02-23T16:36:24.857Z"
   },
   {
    "duration": 11,
    "start_time": "2022-02-23T16:36:24.867Z"
   },
   {
    "duration": 57,
    "start_time": "2022-02-23T16:36:24.880Z"
   },
   {
    "duration": 34,
    "start_time": "2022-02-23T16:36:24.939Z"
   },
   {
    "duration": 32,
    "start_time": "2022-02-23T16:36:24.975Z"
   },
   {
    "duration": 54,
    "start_time": "2022-02-23T16:36:25.009Z"
   },
   {
    "duration": 43,
    "start_time": "2022-02-23T16:36:25.065Z"
   },
   {
    "duration": 4708,
    "start_time": "2022-02-23T16:36:25.110Z"
   },
   {
    "duration": 935,
    "start_time": "2022-02-23T16:36:28.885Z"
   },
   {
    "duration": 933,
    "start_time": "2022-02-23T16:36:28.888Z"
   },
   {
    "duration": 928,
    "start_time": "2022-02-23T16:36:28.894Z"
   },
   {
    "duration": 926,
    "start_time": "2022-02-23T16:36:28.897Z"
   },
   {
    "duration": 923,
    "start_time": "2022-02-23T16:36:28.901Z"
   },
   {
    "duration": 921,
    "start_time": "2022-02-23T16:36:28.904Z"
   },
   {
    "duration": 920,
    "start_time": "2022-02-23T16:36:28.907Z"
   },
   {
    "duration": 917,
    "start_time": "2022-02-23T16:36:28.911Z"
   },
   {
    "duration": 915,
    "start_time": "2022-02-23T16:36:28.914Z"
   },
   {
    "duration": 547,
    "start_time": "2022-02-23T16:36:49.771Z"
   },
   {
    "duration": 881,
    "start_time": "2022-02-23T16:37:01.651Z"
   },
   {
    "duration": 11,
    "start_time": "2022-02-23T16:37:02.534Z"
   },
   {
    "duration": 4,
    "start_time": "2022-02-23T16:37:02.549Z"
   },
   {
    "duration": 13,
    "start_time": "2022-02-23T16:37:02.555Z"
   },
   {
    "duration": 11,
    "start_time": "2022-02-23T16:37:02.570Z"
   },
   {
    "duration": 123,
    "start_time": "2022-02-23T16:37:02.583Z"
   },
   {
    "duration": 32,
    "start_time": "2022-02-23T16:37:02.709Z"
   },
   {
    "duration": 3,
    "start_time": "2022-02-23T16:37:02.743Z"
   },
   {
    "duration": 5,
    "start_time": "2022-02-23T16:37:02.748Z"
   },
   {
    "duration": 6,
    "start_time": "2022-02-23T16:37:02.755Z"
   },
   {
    "duration": 10,
    "start_time": "2022-02-23T16:37:02.763Z"
   },
   {
    "duration": 29,
    "start_time": "2022-02-23T16:37:02.775Z"
   },
   {
    "duration": 47,
    "start_time": "2022-02-23T16:37:02.806Z"
   },
   {
    "duration": 21,
    "start_time": "2022-02-23T16:37:02.855Z"
   },
   {
    "duration": 21,
    "start_time": "2022-02-23T16:37:02.878Z"
   },
   {
    "duration": 59,
    "start_time": "2022-02-23T16:37:02.900Z"
   },
   {
    "duration": 489,
    "start_time": "2022-02-23T16:37:02.961Z"
   },
   {
    "duration": 23,
    "start_time": "2022-02-23T16:37:03.451Z"
   },
   {
    "duration": 22,
    "start_time": "2022-02-23T16:37:03.475Z"
   },
   {
    "duration": 213,
    "start_time": "2022-02-23T16:37:03.499Z"
   },
   {
    "duration": 288,
    "start_time": "2022-02-23T16:37:03.713Z"
   },
   {
    "duration": 307,
    "start_time": "2022-02-23T16:37:04.004Z"
   },
   {
    "duration": 194,
    "start_time": "2022-02-23T16:37:04.312Z"
   },
   {
    "duration": 235,
    "start_time": "2022-02-23T16:37:04.508Z"
   },
   {
    "duration": 690,
    "start_time": "2022-02-23T16:38:37.590Z"
   },
   {
    "duration": 11,
    "start_time": "2022-02-23T16:38:38.281Z"
   },
   {
    "duration": 4,
    "start_time": "2022-02-23T16:38:38.294Z"
   },
   {
    "duration": 30,
    "start_time": "2022-02-23T16:38:38.301Z"
   },
   {
    "duration": 10,
    "start_time": "2022-02-23T16:38:38.333Z"
   },
   {
    "duration": 64,
    "start_time": "2022-02-23T16:38:38.345Z"
   },
   {
    "duration": 40,
    "start_time": "2022-02-23T16:38:38.411Z"
   },
   {
    "duration": 4,
    "start_time": "2022-02-23T16:38:38.454Z"
   },
   {
    "duration": 12,
    "start_time": "2022-02-23T16:38:38.460Z"
   },
   {
    "duration": 7,
    "start_time": "2022-02-23T16:38:38.474Z"
   },
   {
    "duration": 14,
    "start_time": "2022-02-23T16:38:38.482Z"
   },
   {
    "duration": 45,
    "start_time": "2022-02-23T16:38:38.498Z"
   },
   {
    "duration": 27,
    "start_time": "2022-02-23T16:38:38.544Z"
   },
   {
    "duration": 23,
    "start_time": "2022-02-23T16:38:38.573Z"
   },
   {
    "duration": 46,
    "start_time": "2022-02-23T16:38:38.599Z"
   },
   {
    "duration": 31,
    "start_time": "2022-02-23T16:38:38.647Z"
   },
   {
    "duration": 537,
    "start_time": "2022-02-23T16:38:38.679Z"
   },
   {
    "duration": 34,
    "start_time": "2022-02-23T16:38:39.218Z"
   },
   {
    "duration": 22,
    "start_time": "2022-02-23T16:38:39.254Z"
   },
   {
    "duration": 190,
    "start_time": "2022-02-23T16:38:39.278Z"
   },
   {
    "duration": 285,
    "start_time": "2022-02-23T16:38:39.469Z"
   },
   {
    "duration": 313,
    "start_time": "2022-02-23T16:38:39.756Z"
   },
   {
    "duration": 201,
    "start_time": "2022-02-23T16:38:40.072Z"
   },
   {
    "duration": 262,
    "start_time": "2022-02-23T16:38:40.275Z"
   },
   {
    "duration": 1103,
    "start_time": "2022-02-23T16:39:37.897Z"
   },
   {
    "duration": 13,
    "start_time": "2022-02-23T16:39:39.003Z"
   },
   {
    "duration": 6,
    "start_time": "2022-02-23T16:39:39.030Z"
   },
   {
    "duration": 15,
    "start_time": "2022-02-23T16:39:39.038Z"
   },
   {
    "duration": 13,
    "start_time": "2022-02-23T16:39:39.055Z"
   },
   {
    "duration": 93,
    "start_time": "2022-02-23T16:39:39.071Z"
   },
   {
    "duration": 25,
    "start_time": "2022-02-23T16:39:39.165Z"
   },
   {
    "duration": 3,
    "start_time": "2022-02-23T16:39:39.192Z"
   },
   {
    "duration": 12,
    "start_time": "2022-02-23T16:39:39.197Z"
   },
   {
    "duration": 19,
    "start_time": "2022-02-23T16:39:39.211Z"
   },
   {
    "duration": 10,
    "start_time": "2022-02-23T16:39:39.232Z"
   },
   {
    "duration": 30,
    "start_time": "2022-02-23T16:39:39.244Z"
   },
   {
    "duration": 27,
    "start_time": "2022-02-23T16:39:39.276Z"
   },
   {
    "duration": 46,
    "start_time": "2022-02-23T16:39:39.305Z"
   },
   {
    "duration": 22,
    "start_time": "2022-02-23T16:39:39.352Z"
   },
   {
    "duration": 57,
    "start_time": "2022-02-23T16:39:39.376Z"
   },
   {
    "duration": 501,
    "start_time": "2022-02-23T16:39:39.435Z"
   },
   {
    "duration": 3312,
    "start_time": "2022-02-23T16:39:39.938Z"
   },
   {
    "duration": 951,
    "start_time": "2022-02-23T16:39:42.301Z"
   },
   {
    "duration": 948,
    "start_time": "2022-02-23T16:39:42.306Z"
   },
   {
    "duration": 945,
    "start_time": "2022-02-23T16:39:42.310Z"
   },
   {
    "duration": 943,
    "start_time": "2022-02-23T16:39:42.313Z"
   },
   {
    "duration": 941,
    "start_time": "2022-02-23T16:39:42.316Z"
   },
   {
    "duration": 939,
    "start_time": "2022-02-23T16:39:42.320Z"
   },
   {
    "duration": 937,
    "start_time": "2022-02-23T16:39:42.323Z"
   },
   {
    "duration": 935,
    "start_time": "2022-02-23T16:39:42.327Z"
   },
   {
    "duration": 934,
    "start_time": "2022-02-23T16:39:42.330Z"
   },
   {
    "duration": 3390,
    "start_time": "2022-02-23T16:39:50.903Z"
   },
   {
    "duration": 5,
    "start_time": "2022-02-23T16:40:14.297Z"
   },
   {
    "duration": 5,
    "start_time": "2022-02-23T16:40:21.021Z"
   },
   {
    "duration": 8,
    "start_time": "2022-02-23T16:40:32.407Z"
   },
   {
    "duration": 752,
    "start_time": "2022-02-23T16:41:14.417Z"
   },
   {
    "duration": 13,
    "start_time": "2022-02-23T16:41:15.170Z"
   },
   {
    "duration": 5,
    "start_time": "2022-02-23T16:41:15.185Z"
   },
   {
    "duration": 12,
    "start_time": "2022-02-23T16:41:15.192Z"
   },
   {
    "duration": 11,
    "start_time": "2022-02-23T16:41:15.231Z"
   },
   {
    "duration": 65,
    "start_time": "2022-02-23T16:41:15.244Z"
   },
   {
    "duration": 42,
    "start_time": "2022-02-23T16:41:15.311Z"
   },
   {
    "duration": 4,
    "start_time": "2022-02-23T16:41:15.356Z"
   },
   {
    "duration": 4,
    "start_time": "2022-02-23T16:41:15.362Z"
   },
   {
    "duration": 5,
    "start_time": "2022-02-23T16:41:15.368Z"
   },
   {
    "duration": 15,
    "start_time": "2022-02-23T16:41:15.375Z"
   },
   {
    "duration": 60,
    "start_time": "2022-02-23T16:41:15.392Z"
   },
   {
    "duration": 28,
    "start_time": "2022-02-23T16:41:15.455Z"
   },
   {
    "duration": 45,
    "start_time": "2022-02-23T16:41:15.485Z"
   },
   {
    "duration": 23,
    "start_time": "2022-02-23T16:41:15.532Z"
   },
   {
    "duration": 32,
    "start_time": "2022-02-23T16:41:15.557Z"
   },
   {
    "duration": 505,
    "start_time": "2022-02-23T16:41:15.591Z"
   },
   {
    "duration": 36,
    "start_time": "2022-02-23T16:41:16.097Z"
   },
   {
    "duration": 22,
    "start_time": "2022-02-23T16:41:16.135Z"
   },
   {
    "duration": 187,
    "start_time": "2022-02-23T16:41:16.159Z"
   },
   {
    "duration": 288,
    "start_time": "2022-02-23T16:41:16.348Z"
   },
   {
    "duration": 331,
    "start_time": "2022-02-23T16:41:16.638Z"
   },
   {
    "duration": 204,
    "start_time": "2022-02-23T16:41:16.972Z"
   },
   {
    "duration": 259,
    "start_time": "2022-02-23T16:41:17.177Z"
   },
   {
    "duration": 175,
    "start_time": "2022-02-23T17:39:59.004Z"
   },
   {
    "duration": 699,
    "start_time": "2022-02-23T17:40:06.194Z"
   },
   {
    "duration": 10,
    "start_time": "2022-02-23T17:40:06.895Z"
   },
   {
    "duration": 5,
    "start_time": "2022-02-23T17:40:06.907Z"
   },
   {
    "duration": 27,
    "start_time": "2022-02-23T17:40:06.914Z"
   },
   {
    "duration": 9,
    "start_time": "2022-02-23T17:40:06.943Z"
   },
   {
    "duration": 83,
    "start_time": "2022-02-23T17:40:06.954Z"
   },
   {
    "duration": 25,
    "start_time": "2022-02-23T17:40:07.038Z"
   },
   {
    "duration": 4,
    "start_time": "2022-02-23T17:40:07.064Z"
   },
   {
    "duration": 7,
    "start_time": "2022-02-23T17:40:07.071Z"
   },
   {
    "duration": 3,
    "start_time": "2022-02-23T17:40:07.081Z"
   },
   {
    "duration": 15,
    "start_time": "2022-02-23T17:40:07.086Z"
   },
   {
    "duration": 52,
    "start_time": "2022-02-23T17:40:07.103Z"
   },
   {
    "duration": 28,
    "start_time": "2022-02-23T17:40:07.156Z"
   },
   {
    "duration": 51,
    "start_time": "2022-02-23T17:40:07.186Z"
   },
   {
    "duration": 21,
    "start_time": "2022-02-23T17:40:07.239Z"
   },
   {
    "duration": 28,
    "start_time": "2022-02-23T17:40:07.262Z"
   },
   {
    "duration": 489,
    "start_time": "2022-02-23T17:40:07.291Z"
   },
   {
    "duration": 21,
    "start_time": "2022-02-23T17:40:07.782Z"
   },
   {
    "duration": 32,
    "start_time": "2022-02-23T17:40:07.805Z"
   },
   {
    "duration": 144,
    "start_time": "2022-02-23T17:40:07.839Z"
   },
   {
    "duration": 287,
    "start_time": "2022-02-23T17:40:07.985Z"
   },
   {
    "duration": 297,
    "start_time": "2022-02-23T17:40:08.274Z"
   },
   {
    "duration": 185,
    "start_time": "2022-02-23T17:40:08.573Z"
   },
   {
    "duration": 252,
    "start_time": "2022-02-23T17:40:08.760Z"
   },
   {
    "duration": 766,
    "start_time": "2022-02-23T17:42:03.727Z"
   },
   {
    "duration": 10,
    "start_time": "2022-02-23T17:42:04.495Z"
   },
   {
    "duration": 5,
    "start_time": "2022-02-23T17:42:04.507Z"
   },
   {
    "duration": 10,
    "start_time": "2022-02-23T17:42:04.530Z"
   },
   {
    "duration": 8,
    "start_time": "2022-02-23T17:42:04.542Z"
   },
   {
    "duration": 79,
    "start_time": "2022-02-23T17:42:04.552Z"
   },
   {
    "duration": 32,
    "start_time": "2022-02-23T17:42:04.632Z"
   },
   {
    "duration": 3,
    "start_time": "2022-02-23T17:42:04.667Z"
   },
   {
    "duration": 4,
    "start_time": "2022-02-23T17:42:04.672Z"
   },
   {
    "duration": 9,
    "start_time": "2022-02-23T17:42:04.678Z"
   },
   {
    "duration": 15,
    "start_time": "2022-02-23T17:42:04.688Z"
   },
   {
    "duration": 46,
    "start_time": "2022-02-23T17:42:04.705Z"
   },
   {
    "duration": 27,
    "start_time": "2022-02-23T17:42:04.753Z"
   },
   {
    "duration": 22,
    "start_time": "2022-02-23T17:42:04.781Z"
   },
   {
    "duration": 54,
    "start_time": "2022-02-23T17:42:04.806Z"
   },
   {
    "duration": 33,
    "start_time": "2022-02-23T17:42:04.861Z"
   },
   {
    "duration": 782,
    "start_time": "2022-02-23T17:42:04.896Z"
   },
   {
    "duration": 31,
    "start_time": "2022-02-23T17:42:05.680Z"
   },
   {
    "duration": 44,
    "start_time": "2022-02-23T17:42:05.713Z"
   },
   {
    "duration": 212,
    "start_time": "2022-02-23T17:42:05.758Z"
   },
   {
    "duration": 544,
    "start_time": "2022-02-23T17:42:05.972Z"
   },
   {
    "duration": 460,
    "start_time": "2022-02-23T17:42:06.519Z"
   },
   {
    "duration": 268,
    "start_time": "2022-02-23T17:42:06.982Z"
   },
   {
    "duration": 352,
    "start_time": "2022-02-23T17:42:07.252Z"
   },
   {
    "duration": 918,
    "start_time": "2022-02-23T17:43:18.293Z"
   },
   {
    "duration": 19,
    "start_time": "2022-02-23T17:43:19.213Z"
   },
   {
    "duration": 5,
    "start_time": "2022-02-23T17:43:19.235Z"
   },
   {
    "duration": 15,
    "start_time": "2022-02-23T17:43:19.243Z"
   },
   {
    "duration": 12,
    "start_time": "2022-02-23T17:43:19.261Z"
   },
   {
    "duration": 90,
    "start_time": "2022-02-23T17:43:19.274Z"
   },
   {
    "duration": 25,
    "start_time": "2022-02-23T17:43:19.366Z"
   },
   {
    "duration": 3,
    "start_time": "2022-02-23T17:43:19.393Z"
   },
   {
    "duration": 8,
    "start_time": "2022-02-23T17:43:19.399Z"
   },
   {
    "duration": 24,
    "start_time": "2022-02-23T17:43:19.409Z"
   },
   {
    "duration": 13,
    "start_time": "2022-02-23T17:43:19.435Z"
   },
   {
    "duration": 28,
    "start_time": "2022-02-23T17:43:19.450Z"
   },
   {
    "duration": 27,
    "start_time": "2022-02-23T17:43:19.480Z"
   },
   {
    "duration": 22,
    "start_time": "2022-02-23T17:43:19.531Z"
   },
   {
    "duration": 23,
    "start_time": "2022-02-23T17:43:19.555Z"
   },
   {
    "duration": 53,
    "start_time": "2022-02-23T17:43:19.579Z"
   },
   {
    "duration": 507,
    "start_time": "2022-02-23T17:43:19.634Z"
   },
   {
    "duration": 24,
    "start_time": "2022-02-23T17:43:20.143Z"
   },
   {
    "duration": 23,
    "start_time": "2022-02-23T17:43:20.168Z"
   },
   {
    "duration": 169,
    "start_time": "2022-02-23T17:43:20.193Z"
   },
   {
    "duration": 383,
    "start_time": "2022-02-23T17:43:20.364Z"
   },
   {
    "duration": 308,
    "start_time": "2022-02-23T17:43:20.749Z"
   },
   {
    "duration": 280,
    "start_time": "2022-02-23T17:43:21.058Z"
   },
   {
    "duration": 248,
    "start_time": "2022-02-23T17:43:21.340Z"
   },
   {
    "duration": 295,
    "start_time": "2022-02-23T17:43:21.590Z"
   },
   {
    "duration": 214,
    "start_time": "2022-02-23T17:43:21.887Z"
   },
   {
    "duration": 866,
    "start_time": "2022-02-23T17:43:21.238Z"
   },
   {
    "duration": 798,
    "start_time": "2022-02-23T17:48:36.381Z"
   },
   {
    "duration": 784,
    "start_time": "2022-02-23T17:48:36.396Z"
   },
   {
    "duration": 778,
    "start_time": "2022-02-23T17:48:36.403Z"
   },
   {
    "duration": 776,
    "start_time": "2022-02-23T17:48:36.406Z"
   },
   {
    "duration": 734,
    "start_time": "2022-02-23T17:48:36.449Z"
   },
   {
    "duration": 731,
    "start_time": "2022-02-23T17:48:36.453Z"
   },
   {
    "duration": 727,
    "start_time": "2022-02-23T17:48:36.457Z"
   },
   {
    "duration": 715,
    "start_time": "2022-02-23T17:48:36.471Z"
   },
   {
    "duration": 711,
    "start_time": "2022-02-23T17:48:36.476Z"
   },
   {
    "duration": 708,
    "start_time": "2022-02-23T17:48:36.480Z"
   },
   {
    "duration": 705,
    "start_time": "2022-02-23T17:48:36.484Z"
   },
   {
    "duration": 653,
    "start_time": "2022-02-23T17:48:36.537Z"
   },
   {
    "duration": 650,
    "start_time": "2022-02-23T17:48:36.542Z"
   },
   {
    "duration": 648,
    "start_time": "2022-02-23T17:48:36.545Z"
   },
   {
    "duration": 643,
    "start_time": "2022-02-23T17:48:36.550Z"
   },
   {
    "duration": 640,
    "start_time": "2022-02-23T17:48:36.554Z"
   },
   {
    "duration": 639,
    "start_time": "2022-02-23T17:48:36.557Z"
   },
   {
    "duration": 611,
    "start_time": "2022-02-23T17:48:36.585Z"
   },
   {
    "duration": 609,
    "start_time": "2022-02-23T17:48:36.589Z"
   },
   {
    "duration": 580,
    "start_time": "2022-02-23T17:48:36.619Z"
   },
   {
    "duration": 577,
    "start_time": "2022-02-23T17:48:36.623Z"
   },
   {
    "duration": 575,
    "start_time": "2022-02-23T17:48:36.626Z"
   },
   {
    "duration": 565,
    "start_time": "2022-02-23T17:48:36.637Z"
   },
   {
    "duration": 564,
    "start_time": "2022-02-23T17:48:36.640Z"
   },
   {
    "duration": 560,
    "start_time": "2022-02-23T17:48:36.644Z"
   },
   {
    "duration": 556,
    "start_time": "2022-02-23T17:48:36.649Z"
   },
   {
    "duration": 553,
    "start_time": "2022-02-23T17:48:36.653Z"
   },
   {
    "duration": 550,
    "start_time": "2022-02-23T17:48:36.657Z"
   },
   {
    "duration": 929,
    "start_time": "2022-02-23T17:48:55.558Z"
   },
   {
    "duration": 15,
    "start_time": "2022-02-23T17:48:56.489Z"
   },
   {
    "duration": 5,
    "start_time": "2022-02-23T17:48:56.506Z"
   },
   {
    "duration": 23,
    "start_time": "2022-02-23T17:48:56.513Z"
   },
   {
    "duration": 9,
    "start_time": "2022-02-23T17:48:56.537Z"
   },
   {
    "duration": 84,
    "start_time": "2022-02-23T17:48:56.547Z"
   },
   {
    "duration": 23,
    "start_time": "2022-02-23T17:48:56.633Z"
   },
   {
    "duration": 3,
    "start_time": "2022-02-23T17:48:56.657Z"
   },
   {
    "duration": 5,
    "start_time": "2022-02-23T17:48:56.663Z"
   },
   {
    "duration": 4,
    "start_time": "2022-02-23T17:48:56.670Z"
   },
   {
    "duration": 11,
    "start_time": "2022-02-23T17:48:56.676Z"
   },
   {
    "duration": 60,
    "start_time": "2022-02-23T17:48:56.689Z"
   },
   {
    "duration": 26,
    "start_time": "2022-02-23T17:48:56.750Z"
   },
   {
    "duration": 24,
    "start_time": "2022-02-23T17:48:56.778Z"
   },
   {
    "duration": 55,
    "start_time": "2022-02-23T17:48:56.804Z"
   },
   {
    "duration": 42,
    "start_time": "2022-02-23T17:48:56.861Z"
   },
   {
    "duration": 501,
    "start_time": "2022-02-23T17:48:56.905Z"
   },
   {
    "duration": 30,
    "start_time": "2022-02-23T17:48:57.408Z"
   },
   {
    "duration": 22,
    "start_time": "2022-02-23T17:48:57.440Z"
   },
   {
    "duration": 152,
    "start_time": "2022-02-23T17:48:57.464Z"
   },
   {
    "duration": 370,
    "start_time": "2022-02-23T17:48:57.618Z"
   },
   {
    "duration": 306,
    "start_time": "2022-02-23T17:48:57.990Z"
   },
   {
    "duration": 193,
    "start_time": "2022-02-23T17:48:58.298Z"
   },
   {
    "duration": 238,
    "start_time": "2022-02-23T17:48:58.492Z"
   },
   {
    "duration": 290,
    "start_time": "2022-02-23T17:48:58.731Z"
   },
   {
    "duration": 191,
    "start_time": "2022-02-23T17:48:59.030Z"
   },
   {
    "duration": 968,
    "start_time": "2022-02-23T17:48:58.255Z"
   },
   {
    "duration": 965,
    "start_time": "2022-02-23T17:48:58.259Z"
   },
   {
    "duration": 132,
    "start_time": "2022-02-23T17:49:37.177Z"
   },
   {
    "duration": 124,
    "start_time": "2022-02-23T17:49:59.105Z"
   },
   {
    "duration": 139,
    "start_time": "2022-02-23T17:50:35.888Z"
   },
   {
    "duration": 23,
    "start_time": "2022-02-23T17:50:53.784Z"
   },
   {
    "duration": 15,
    "start_time": "2022-02-23T17:51:06.322Z"
   },
   {
    "duration": 39,
    "start_time": "2022-02-23T17:51:35.668Z"
   },
   {
    "duration": 145,
    "start_time": "2022-02-23T17:51:39.733Z"
   },
   {
    "duration": 148,
    "start_time": "2022-02-23T17:52:05.259Z"
   },
   {
    "duration": 162,
    "start_time": "2022-02-23T17:52:35.970Z"
   },
   {
    "duration": 45,
    "start_time": "2022-02-23T17:55:38.374Z"
   },
   {
    "duration": 137,
    "start_time": "2022-02-23T17:55:45.078Z"
   },
   {
    "duration": 747,
    "start_time": "2022-02-23T17:56:11.795Z"
   },
   {
    "duration": 12,
    "start_time": "2022-02-23T17:56:12.544Z"
   },
   {
    "duration": 5,
    "start_time": "2022-02-23T17:56:12.558Z"
   },
   {
    "duration": 12,
    "start_time": "2022-02-23T17:56:12.565Z"
   },
   {
    "duration": 10,
    "start_time": "2022-02-23T17:56:12.579Z"
   },
   {
    "duration": 96,
    "start_time": "2022-02-23T17:56:12.590Z"
   },
   {
    "duration": 24,
    "start_time": "2022-02-23T17:56:12.688Z"
   },
   {
    "duration": 4,
    "start_time": "2022-02-23T17:56:12.732Z"
   },
   {
    "duration": 5,
    "start_time": "2022-02-23T17:56:12.738Z"
   },
   {
    "duration": 4,
    "start_time": "2022-02-23T17:56:12.744Z"
   },
   {
    "duration": 11,
    "start_time": "2022-02-23T17:56:12.750Z"
   },
   {
    "duration": 27,
    "start_time": "2022-02-23T17:56:12.763Z"
   },
   {
    "duration": 60,
    "start_time": "2022-02-23T17:56:12.792Z"
   },
   {
    "duration": 30,
    "start_time": "2022-02-23T17:56:12.854Z"
   },
   {
    "duration": 51,
    "start_time": "2022-02-23T17:56:12.886Z"
   },
   {
    "duration": 42,
    "start_time": "2022-02-23T17:56:12.940Z"
   },
   {
    "duration": 510,
    "start_time": "2022-02-23T17:56:12.983Z"
   },
   {
    "duration": 35,
    "start_time": "2022-02-23T17:56:13.495Z"
   },
   {
    "duration": 24,
    "start_time": "2022-02-23T17:56:13.531Z"
   },
   {
    "duration": 166,
    "start_time": "2022-02-23T17:56:13.556Z"
   },
   {
    "duration": 388,
    "start_time": "2022-02-23T17:56:13.724Z"
   },
   {
    "duration": 306,
    "start_time": "2022-02-23T17:56:14.113Z"
   },
   {
    "duration": 180,
    "start_time": "2022-02-23T17:56:14.430Z"
   },
   {
    "duration": 254,
    "start_time": "2022-02-23T17:56:14.612Z"
   },
   {
    "duration": 306,
    "start_time": "2022-02-23T17:56:14.868Z"
   },
   {
    "duration": 297,
    "start_time": "2022-02-23T17:56:15.176Z"
   },
   {
    "duration": -4042,
    "start_time": "2022-02-23T17:56:19.517Z"
   },
   {
    "duration": -4046,
    "start_time": "2022-02-23T17:56:19.522Z"
   },
   {
    "duration": 145,
    "start_time": "2022-02-23T17:57:19.510Z"
   },
   {
    "duration": 191,
    "start_time": "2022-02-23T17:57:26.139Z"
   },
   {
    "duration": 197,
    "start_time": "2022-02-23T17:58:38.528Z"
   },
   {
    "duration": 135,
    "start_time": "2022-02-23T17:58:44.553Z"
   },
   {
    "duration": 146,
    "start_time": "2022-02-23T17:58:49.649Z"
   },
   {
    "duration": 15,
    "start_time": "2022-02-23T17:59:22.418Z"
   },
   {
    "duration": 16,
    "start_time": "2022-02-23T17:59:38.929Z"
   },
   {
    "duration": 147,
    "start_time": "2022-02-23T17:59:54.028Z"
   },
   {
    "duration": 31,
    "start_time": "2022-02-23T18:01:06.117Z"
   },
   {
    "duration": 54,
    "start_time": "2022-02-23T18:01:42.130Z"
   },
   {
    "duration": 9,
    "start_time": "2022-02-23T18:02:06.240Z"
   },
   {
    "duration": 12,
    "start_time": "2022-02-23T18:03:46.587Z"
   },
   {
    "duration": 4,
    "start_time": "2022-02-23T18:05:49.356Z"
   },
   {
    "duration": 137,
    "start_time": "2022-02-23T18:08:58.839Z"
   },
   {
    "duration": 155,
    "start_time": "2022-02-23T18:09:18.711Z"
   },
   {
    "duration": 133,
    "start_time": "2022-02-23T18:09:45.791Z"
   },
   {
    "duration": 11,
    "start_time": "2022-02-23T18:09:53.432Z"
   },
   {
    "duration": 9,
    "start_time": "2022-02-23T18:10:21.905Z"
   },
   {
    "duration": 9,
    "start_time": "2022-02-23T18:10:35.659Z"
   },
   {
    "duration": 9,
    "start_time": "2022-02-23T18:14:17.750Z"
   },
   {
    "duration": 144,
    "start_time": "2022-02-23T18:15:13.553Z"
   },
   {
    "duration": 3880,
    "start_time": "2022-02-23T18:16:06.958Z"
   },
   {
    "duration": 24,
    "start_time": "2022-02-23T18:16:23.657Z"
   },
   {
    "duration": 22,
    "start_time": "2022-02-23T18:16:51.472Z"
   },
   {
    "duration": 9,
    "start_time": "2022-02-23T18:20:39.668Z"
   },
   {
    "duration": 177,
    "start_time": "2022-02-24T07:55:14.139Z"
   },
   {
    "duration": 140,
    "start_time": "2022-02-24T07:58:14.634Z"
   },
   {
    "duration": 828,
    "start_time": "2022-02-24T07:58:20.608Z"
   },
   {
    "duration": 33,
    "start_time": "2022-02-24T07:58:21.439Z"
   },
   {
    "duration": 5,
    "start_time": "2022-02-24T07:58:21.475Z"
   },
   {
    "duration": 21,
    "start_time": "2022-02-24T07:58:21.482Z"
   },
   {
    "duration": 10,
    "start_time": "2022-02-24T07:58:21.505Z"
   },
   {
    "duration": 99,
    "start_time": "2022-02-24T07:58:21.518Z"
   },
   {
    "duration": 26,
    "start_time": "2022-02-24T07:58:21.619Z"
   },
   {
    "duration": 6,
    "start_time": "2022-02-24T07:58:21.659Z"
   },
   {
    "duration": 13,
    "start_time": "2022-02-24T07:58:21.668Z"
   },
   {
    "duration": 13,
    "start_time": "2022-02-24T07:58:21.685Z"
   },
   {
    "duration": 11,
    "start_time": "2022-02-24T07:58:21.700Z"
   },
   {
    "duration": 51,
    "start_time": "2022-02-24T07:58:21.713Z"
   },
   {
    "duration": 34,
    "start_time": "2022-02-24T07:58:21.766Z"
   },
   {
    "duration": 24,
    "start_time": "2022-02-24T07:58:21.802Z"
   },
   {
    "duration": 55,
    "start_time": "2022-02-24T07:58:21.828Z"
   },
   {
    "duration": 32,
    "start_time": "2022-02-24T07:58:21.885Z"
   },
   {
    "duration": 572,
    "start_time": "2022-02-24T07:58:21.919Z"
   },
   {
    "duration": 36,
    "start_time": "2022-02-24T07:58:22.493Z"
   },
   {
    "duration": 60,
    "start_time": "2022-02-24T07:58:22.531Z"
   },
   {
    "duration": 188,
    "start_time": "2022-02-24T07:58:22.594Z"
   },
   {
    "duration": 10,
    "start_time": "2022-02-24T07:58:22.785Z"
   },
   {
    "duration": 21,
    "start_time": "2022-02-24T07:58:22.797Z"
   },
   {
    "duration": 465,
    "start_time": "2022-02-24T07:58:22.820Z"
   },
   {
    "duration": 361,
    "start_time": "2022-02-24T07:58:23.287Z"
   },
   {
    "duration": 222,
    "start_time": "2022-02-24T07:58:23.650Z"
   },
   {
    "duration": 357,
    "start_time": "2022-02-24T07:58:23.875Z"
   },
   {
    "duration": 9,
    "start_time": "2022-02-24T07:58:24.235Z"
   },
   {
    "duration": 31,
    "start_time": "2022-02-24T07:58:24.246Z"
   },
   {
    "duration": 1094,
    "start_time": "2022-02-24T08:00:29.113Z"
   },
   {
    "duration": 13,
    "start_time": "2022-02-24T08:00:30.209Z"
   },
   {
    "duration": 42,
    "start_time": "2022-02-24T08:00:30.224Z"
   },
   {
    "duration": 28,
    "start_time": "2022-02-24T08:00:30.269Z"
   },
   {
    "duration": 18,
    "start_time": "2022-02-24T08:00:30.299Z"
   },
   {
    "duration": 79,
    "start_time": "2022-02-24T08:00:30.319Z"
   },
   {
    "duration": 29,
    "start_time": "2022-02-24T08:00:30.400Z"
   },
   {
    "duration": 4,
    "start_time": "2022-02-24T08:00:30.432Z"
   },
   {
    "duration": 5,
    "start_time": "2022-02-24T08:00:30.460Z"
   },
   {
    "duration": 14,
    "start_time": "2022-02-24T08:00:30.467Z"
   },
   {
    "duration": 24,
    "start_time": "2022-02-24T08:00:30.488Z"
   },
   {
    "duration": 36,
    "start_time": "2022-02-24T08:00:30.514Z"
   },
   {
    "duration": 42,
    "start_time": "2022-02-24T08:00:30.552Z"
   },
   {
    "duration": 28,
    "start_time": "2022-02-24T08:00:30.596Z"
   },
   {
    "duration": 52,
    "start_time": "2022-02-24T08:00:30.626Z"
   },
   {
    "duration": 38,
    "start_time": "2022-02-24T08:00:30.682Z"
   },
   {
    "duration": 573,
    "start_time": "2022-02-24T08:00:30.722Z"
   },
   {
    "duration": 28,
    "start_time": "2022-02-24T08:00:31.297Z"
   },
   {
    "duration": 54,
    "start_time": "2022-02-24T08:00:31.327Z"
   },
   {
    "duration": 183,
    "start_time": "2022-02-24T08:00:31.383Z"
   },
   {
    "duration": 10,
    "start_time": "2022-02-24T08:00:31.569Z"
   },
   {
    "duration": 30,
    "start_time": "2022-02-24T08:00:31.581Z"
   },
   {
    "duration": 471,
    "start_time": "2022-02-24T08:00:31.615Z"
   },
   {
    "duration": 385,
    "start_time": "2022-02-24T08:00:32.089Z"
   },
   {
    "duration": 241,
    "start_time": "2022-02-24T08:00:32.476Z"
   },
   {
    "duration": 405,
    "start_time": "2022-02-24T08:00:32.719Z"
   },
   {
    "duration": 9,
    "start_time": "2022-02-24T08:00:33.126Z"
   },
   {
    "duration": 42,
    "start_time": "2022-02-24T08:00:33.136Z"
   },
   {
    "duration": 776,
    "start_time": "2022-02-24T08:03:12.600Z"
   },
   {
    "duration": 14,
    "start_time": "2022-02-24T08:03:13.379Z"
   },
   {
    "duration": 5,
    "start_time": "2022-02-24T08:03:13.396Z"
   },
   {
    "duration": 12,
    "start_time": "2022-02-24T08:03:13.403Z"
   },
   {
    "duration": 42,
    "start_time": "2022-02-24T08:03:13.417Z"
   },
   {
    "duration": 70,
    "start_time": "2022-02-24T08:03:13.461Z"
   },
   {
    "duration": 40,
    "start_time": "2022-02-24T08:03:13.532Z"
   },
   {
    "duration": 4,
    "start_time": "2022-02-24T08:03:13.573Z"
   },
   {
    "duration": 19,
    "start_time": "2022-02-24T08:03:13.582Z"
   },
   {
    "duration": 5,
    "start_time": "2022-02-24T08:03:13.603Z"
   },
   {
    "duration": 11,
    "start_time": "2022-02-24T08:03:13.610Z"
   },
   {
    "duration": 55,
    "start_time": "2022-02-24T08:03:13.622Z"
   },
   {
    "duration": 29,
    "start_time": "2022-02-24T08:03:13.678Z"
   },
   {
    "duration": 25,
    "start_time": "2022-02-24T08:03:13.708Z"
   },
   {
    "duration": 49,
    "start_time": "2022-02-24T08:03:13.734Z"
   },
   {
    "duration": 32,
    "start_time": "2022-02-24T08:03:13.785Z"
   },
   {
    "duration": 533,
    "start_time": "2022-02-24T08:03:13.820Z"
   },
   {
    "duration": 27,
    "start_time": "2022-02-24T08:03:14.356Z"
   },
   {
    "duration": 25,
    "start_time": "2022-02-24T08:03:14.386Z"
   },
   {
    "duration": 201,
    "start_time": "2022-02-24T08:03:14.413Z"
   },
   {
    "duration": 9,
    "start_time": "2022-02-24T08:03:14.616Z"
   },
   {
    "duration": 9,
    "start_time": "2022-02-24T08:03:14.627Z"
   },
   {
    "duration": 371,
    "start_time": "2022-02-24T08:03:14.637Z"
   },
   {
    "duration": 382,
    "start_time": "2022-02-24T08:03:15.010Z"
   },
   {
    "duration": 227,
    "start_time": "2022-02-24T08:03:15.394Z"
   },
   {
    "duration": 365,
    "start_time": "2022-02-24T08:03:15.623Z"
   },
   {
    "duration": 8,
    "start_time": "2022-02-24T08:03:15.992Z"
   },
   {
    "duration": 25,
    "start_time": "2022-02-24T08:03:16.002Z"
   },
   {
    "duration": 8,
    "start_time": "2022-02-24T08:03:16.028Z"
   },
   {
    "duration": 75,
    "start_time": "2022-02-24T08:03:16.038Z"
   },
   {
    "duration": 13,
    "start_time": "2022-02-24T08:07:08.790Z"
   },
   {
    "duration": 244,
    "start_time": "2022-02-24T08:07:45.054Z"
   },
   {
    "duration": 45,
    "start_time": "2022-02-24T08:08:14.092Z"
   },
   {
    "duration": 9,
    "start_time": "2022-02-24T08:08:15.923Z"
   },
   {
    "duration": 9,
    "start_time": "2022-02-24T08:08:18.298Z"
   },
   {
    "duration": 289,
    "start_time": "2022-02-24T08:08:19.123Z"
   },
   {
    "duration": 357,
    "start_time": "2022-02-24T08:08:21.699Z"
   },
   {
    "duration": 212,
    "start_time": "2022-02-24T08:08:38.820Z"
   },
   {
    "duration": 444,
    "start_time": "2022-02-24T08:08:39.330Z"
   },
   {
    "duration": 8,
    "start_time": "2022-02-24T08:08:42.444Z"
   },
   {
    "duration": 24,
    "start_time": "2022-02-24T08:08:43.727Z"
   },
   {
    "duration": 10,
    "start_time": "2022-02-24T08:08:53.890Z"
   },
   {
    "duration": 9,
    "start_time": "2022-02-24T08:09:00.963Z"
   },
   {
    "duration": 6,
    "start_time": "2022-02-24T08:09:25.687Z"
   },
   {
    "duration": 6,
    "start_time": "2022-02-24T08:09:54.320Z"
   },
   {
    "duration": 11,
    "start_time": "2022-02-24T08:10:15.257Z"
   },
   {
    "duration": 167,
    "start_time": "2022-02-24T08:11:00.628Z"
   },
   {
    "duration": 789,
    "start_time": "2022-02-24T08:11:16.174Z"
   },
   {
    "duration": 14,
    "start_time": "2022-02-24T08:11:16.966Z"
   },
   {
    "duration": 5,
    "start_time": "2022-02-24T08:11:16.983Z"
   },
   {
    "duration": 14,
    "start_time": "2022-02-24T08:11:16.990Z"
   },
   {
    "duration": 8,
    "start_time": "2022-02-24T08:11:17.007Z"
   },
   {
    "duration": 110,
    "start_time": "2022-02-24T08:11:17.017Z"
   },
   {
    "duration": 37,
    "start_time": "2022-02-24T08:11:17.128Z"
   },
   {
    "duration": 5,
    "start_time": "2022-02-24T08:11:17.167Z"
   },
   {
    "duration": 11,
    "start_time": "2022-02-24T08:11:17.176Z"
   },
   {
    "duration": 5,
    "start_time": "2022-02-24T08:11:17.190Z"
   },
   {
    "duration": 16,
    "start_time": "2022-02-24T08:11:17.197Z"
   },
   {
    "duration": 69,
    "start_time": "2022-02-24T08:11:17.215Z"
   },
   {
    "duration": 43,
    "start_time": "2022-02-24T08:11:17.287Z"
   },
   {
    "duration": 53,
    "start_time": "2022-02-24T08:11:17.332Z"
   },
   {
    "duration": 22,
    "start_time": "2022-02-24T08:11:17.387Z"
   },
   {
    "duration": 48,
    "start_time": "2022-02-24T08:11:17.411Z"
   },
   {
    "duration": 540,
    "start_time": "2022-02-24T08:11:17.461Z"
   },
   {
    "duration": 24,
    "start_time": "2022-02-24T08:11:18.003Z"
   },
   {
    "duration": 49,
    "start_time": "2022-02-24T08:11:18.029Z"
   },
   {
    "duration": 44,
    "start_time": "2022-02-24T08:11:18.080Z"
   },
   {
    "duration": 8,
    "start_time": "2022-02-24T08:11:18.126Z"
   },
   {
    "duration": 32,
    "start_time": "2022-02-24T08:11:18.136Z"
   },
   {
    "duration": 373,
    "start_time": "2022-02-24T08:11:18.170Z"
   },
   {
    "duration": 391,
    "start_time": "2022-02-24T08:11:18.545Z"
   },
   {
    "duration": 241,
    "start_time": "2022-02-24T08:11:18.938Z"
   },
   {
    "duration": 382,
    "start_time": "2022-02-24T08:11:19.181Z"
   },
   {
    "duration": 10,
    "start_time": "2022-02-24T08:11:19.567Z"
   },
   {
    "duration": 37,
    "start_time": "2022-02-24T08:11:19.579Z"
   },
   {
    "duration": 7,
    "start_time": "2022-02-24T08:11:19.618Z"
   },
   {
    "duration": 8,
    "start_time": "2022-02-24T08:11:19.627Z"
   },
   {
    "duration": 236,
    "start_time": "2022-02-24T08:11:28.290Z"
   },
   {
    "duration": 235,
    "start_time": "2022-02-24T08:12:26.065Z"
   },
   {
    "duration": 55,
    "start_time": "2022-02-24T08:45:30.116Z"
   },
   {
    "duration": 6,
    "start_time": "2022-02-24T08:48:03.985Z"
   },
   {
    "duration": 8,
    "start_time": "2022-02-24T08:48:19.355Z"
   },
   {
    "duration": 3690,
    "start_time": "2022-02-24T08:49:17.098Z"
   },
   {
    "duration": 3354,
    "start_time": "2022-02-24T08:50:59.831Z"
   },
   {
    "duration": 5085,
    "start_time": "2022-02-24T08:52:23.773Z"
   },
   {
    "duration": 4301,
    "start_time": "2022-02-24T08:53:02.657Z"
   },
   {
    "duration": 882,
    "start_time": "2022-02-24T08:53:21.791Z"
   },
   {
    "duration": 12,
    "start_time": "2022-02-24T08:53:22.675Z"
   },
   {
    "duration": 7,
    "start_time": "2022-02-24T08:53:22.689Z"
   },
   {
    "duration": 16,
    "start_time": "2022-02-24T08:53:22.697Z"
   },
   {
    "duration": 9,
    "start_time": "2022-02-24T08:53:22.715Z"
   },
   {
    "duration": 106,
    "start_time": "2022-02-24T08:53:22.726Z"
   },
   {
    "duration": 41,
    "start_time": "2022-02-24T08:53:22.833Z"
   },
   {
    "duration": 4,
    "start_time": "2022-02-24T08:53:22.876Z"
   },
   {
    "duration": 6,
    "start_time": "2022-02-24T08:53:22.882Z"
   },
   {
    "duration": 5,
    "start_time": "2022-02-24T08:53:22.890Z"
   },
   {
    "duration": 12,
    "start_time": "2022-02-24T08:53:22.897Z"
   },
   {
    "duration": 66,
    "start_time": "2022-02-24T08:53:22.912Z"
   },
   {
    "duration": 32,
    "start_time": "2022-02-24T08:53:22.981Z"
   },
   {
    "duration": 26,
    "start_time": "2022-02-24T08:53:23.015Z"
   },
   {
    "duration": 48,
    "start_time": "2022-02-24T08:53:23.043Z"
   },
   {
    "duration": 31,
    "start_time": "2022-02-24T08:53:23.093Z"
   },
   {
    "duration": 549,
    "start_time": "2022-02-24T08:53:23.126Z"
   },
   {
    "duration": 22,
    "start_time": "2022-02-24T08:53:23.677Z"
   },
   {
    "duration": 22,
    "start_time": "2022-02-24T08:53:23.700Z"
   },
   {
    "duration": 76,
    "start_time": "2022-02-24T08:53:23.724Z"
   },
   {
    "duration": 8,
    "start_time": "2022-02-24T08:53:23.802Z"
   },
   {
    "duration": 24,
    "start_time": "2022-02-24T08:53:23.811Z"
   },
   {
    "duration": 342,
    "start_time": "2022-02-24T08:53:23.838Z"
   },
   {
    "duration": 349,
    "start_time": "2022-02-24T08:53:24.181Z"
   },
   {
    "duration": 213,
    "start_time": "2022-02-24T08:53:24.532Z"
   },
   {
    "duration": 232,
    "start_time": "2022-02-24T08:53:24.747Z"
   },
   {
    "duration": 8,
    "start_time": "2022-02-24T08:53:24.981Z"
   },
   {
    "duration": 29,
    "start_time": "2022-02-24T08:53:24.991Z"
   },
   {
    "duration": 6,
    "start_time": "2022-02-24T08:53:25.021Z"
   },
   {
    "duration": 3634,
    "start_time": "2022-02-24T08:53:25.029Z"
   },
   {
    "duration": 834,
    "start_time": "2022-02-24T08:53:27.832Z"
   },
   {
    "duration": 48,
    "start_time": "2022-02-24T08:56:10.606Z"
   },
   {
    "duration": 54,
    "start_time": "2022-02-24T08:56:36.820Z"
   },
   {
    "duration": 39,
    "start_time": "2022-02-24T08:56:43.073Z"
   },
   {
    "duration": 50,
    "start_time": "2022-02-24T08:57:34.025Z"
   },
   {
    "duration": 56,
    "start_time": "2022-02-24T09:20:05.507Z"
   },
   {
    "duration": 42,
    "start_time": "2022-02-24T09:27:28.002Z"
   },
   {
    "duration": 795,
    "start_time": "2022-02-24T09:27:50.310Z"
   },
   {
    "duration": 10,
    "start_time": "2022-02-24T09:27:51.107Z"
   },
   {
    "duration": 3,
    "start_time": "2022-02-24T09:27:51.120Z"
   },
   {
    "duration": 11,
    "start_time": "2022-02-24T09:27:51.125Z"
   },
   {
    "duration": 30,
    "start_time": "2022-02-24T09:27:51.138Z"
   },
   {
    "duration": 73,
    "start_time": "2022-02-24T09:27:51.169Z"
   },
   {
    "duration": 44,
    "start_time": "2022-02-24T09:27:51.244Z"
   },
   {
    "duration": 4,
    "start_time": "2022-02-24T09:27:51.291Z"
   },
   {
    "duration": 8,
    "start_time": "2022-02-24T09:27:51.297Z"
   },
   {
    "duration": 6,
    "start_time": "2022-02-24T09:27:51.306Z"
   },
   {
    "duration": 16,
    "start_time": "2022-02-24T09:27:51.314Z"
   },
   {
    "duration": 65,
    "start_time": "2022-02-24T09:27:51.332Z"
   },
   {
    "duration": 28,
    "start_time": "2022-02-24T09:27:51.399Z"
   },
   {
    "duration": 45,
    "start_time": "2022-02-24T09:27:51.429Z"
   },
   {
    "duration": 28,
    "start_time": "2022-02-24T09:27:51.476Z"
   },
   {
    "duration": 32,
    "start_time": "2022-02-24T09:27:51.506Z"
   },
   {
    "duration": 555,
    "start_time": "2022-02-24T09:27:51.540Z"
   },
   {
    "duration": 24,
    "start_time": "2022-02-24T09:27:52.097Z"
   },
   {
    "duration": 45,
    "start_time": "2022-02-24T09:27:52.123Z"
   },
   {
    "duration": 45,
    "start_time": "2022-02-24T09:27:52.170Z"
   },
   {
    "duration": 10,
    "start_time": "2022-02-24T09:27:52.217Z"
   },
   {
    "duration": 39,
    "start_time": "2022-02-24T09:27:52.230Z"
   },
   {
    "duration": 390,
    "start_time": "2022-02-24T09:27:52.272Z"
   },
   {
    "duration": 369,
    "start_time": "2022-02-24T09:27:52.664Z"
   },
   {
    "duration": 231,
    "start_time": "2022-02-24T09:27:53.035Z"
   },
   {
    "duration": 230,
    "start_time": "2022-02-24T09:27:53.268Z"
   },
   {
    "duration": 8,
    "start_time": "2022-02-24T09:27:53.500Z"
   },
   {
    "duration": 24,
    "start_time": "2022-02-24T09:27:53.510Z"
   },
   {
    "duration": 7,
    "start_time": "2022-02-24T09:27:53.537Z"
   },
   {
    "duration": 51,
    "start_time": "2022-02-24T09:27:53.561Z"
   },
   {
    "duration": 75,
    "start_time": "2022-02-24T09:27:53.615Z"
   },
   {
    "duration": 4225,
    "start_time": "2022-02-24T09:27:53.692Z"
   },
   {
    "duration": 24,
    "start_time": "2022-02-24T09:28:32.424Z"
   },
   {
    "duration": 151,
    "start_time": "2022-02-24T09:28:32.922Z"
   },
   {
    "duration": 23,
    "start_time": "2022-02-24T09:28:39.098Z"
   },
   {
    "duration": 821,
    "start_time": "2022-02-24T09:29:20.132Z"
   },
   {
    "duration": 15,
    "start_time": "2022-02-24T09:29:20.954Z"
   },
   {
    "duration": 4,
    "start_time": "2022-02-24T09:29:20.971Z"
   },
   {
    "duration": 22,
    "start_time": "2022-02-24T09:29:20.977Z"
   },
   {
    "duration": 10,
    "start_time": "2022-02-24T09:29:21.001Z"
   },
   {
    "duration": 96,
    "start_time": "2022-02-24T09:29:21.013Z"
   },
   {
    "duration": 24,
    "start_time": "2022-02-24T09:29:21.112Z"
   },
   {
    "duration": 3,
    "start_time": "2022-02-24T09:29:21.138Z"
   },
   {
    "duration": 20,
    "start_time": "2022-02-24T09:29:21.143Z"
   },
   {
    "duration": 15,
    "start_time": "2022-02-24T09:29:21.166Z"
   },
   {
    "duration": 12,
    "start_time": "2022-02-24T09:29:21.183Z"
   },
   {
    "duration": 30,
    "start_time": "2022-02-24T09:29:21.197Z"
   },
   {
    "duration": 55,
    "start_time": "2022-02-24T09:29:21.229Z"
   },
   {
    "duration": 23,
    "start_time": "2022-02-24T09:29:21.286Z"
   },
   {
    "duration": 24,
    "start_time": "2022-02-24T09:29:21.311Z"
   },
   {
    "duration": 40,
    "start_time": "2022-02-24T09:29:21.360Z"
   },
   {
    "duration": 548,
    "start_time": "2022-02-24T09:29:21.402Z"
   },
   {
    "duration": 29,
    "start_time": "2022-02-24T09:29:21.954Z"
   },
   {
    "duration": 26,
    "start_time": "2022-02-24T09:29:21.986Z"
   },
   {
    "duration": 72,
    "start_time": "2022-02-24T09:29:22.013Z"
   },
   {
    "duration": 9,
    "start_time": "2022-02-24T09:29:22.087Z"
   },
   {
    "duration": 9,
    "start_time": "2022-02-24T09:29:22.098Z"
   },
   {
    "duration": 402,
    "start_time": "2022-02-24T09:29:22.109Z"
   },
   {
    "duration": 368,
    "start_time": "2022-02-24T09:29:22.513Z"
   },
   {
    "duration": 231,
    "start_time": "2022-02-24T09:29:22.885Z"
   },
   {
    "duration": 227,
    "start_time": "2022-02-24T09:29:23.118Z"
   },
   {
    "duration": 14,
    "start_time": "2022-02-24T09:29:23.347Z"
   },
   {
    "duration": 33,
    "start_time": "2022-02-24T09:29:23.363Z"
   },
   {
    "duration": 6,
    "start_time": "2022-02-24T09:29:23.398Z"
   },
   {
    "duration": 26,
    "start_time": "2022-02-24T09:29:23.406Z"
   },
   {
    "duration": 54,
    "start_time": "2022-02-24T09:29:23.434Z"
   },
   {
    "duration": 51,
    "start_time": "2022-02-24T09:29:23.490Z"
   },
   {
    "duration": 4740,
    "start_time": "2022-02-24T09:29:23.560Z"
   },
   {
    "duration": 202,
    "start_time": "2022-02-24T09:29:53.298Z"
   },
   {
    "duration": 155,
    "start_time": "2022-02-24T09:29:57.879Z"
   },
   {
    "duration": 15,
    "start_time": "2022-02-24T09:30:01.606Z"
   },
   {
    "duration": 6,
    "start_time": "2022-02-24T09:30:22.614Z"
   },
   {
    "duration": 2122,
    "start_time": "2022-02-24T09:30:46.745Z"
   },
   {
    "duration": 853,
    "start_time": "2022-02-24T09:31:02.545Z"
   },
   {
    "duration": 10,
    "start_time": "2022-02-24T09:31:03.400Z"
   },
   {
    "duration": 5,
    "start_time": "2022-02-24T09:31:03.412Z"
   },
   {
    "duration": 19,
    "start_time": "2022-02-24T09:31:03.419Z"
   },
   {
    "duration": 23,
    "start_time": "2022-02-24T09:31:03.440Z"
   },
   {
    "duration": 73,
    "start_time": "2022-02-24T09:31:03.467Z"
   },
   {
    "duration": 46,
    "start_time": "2022-02-24T09:31:03.542Z"
   },
   {
    "duration": 3,
    "start_time": "2022-02-24T09:31:03.591Z"
   },
   {
    "duration": 6,
    "start_time": "2022-02-24T09:31:03.597Z"
   },
   {
    "duration": 7,
    "start_time": "2022-02-24T09:31:03.605Z"
   },
   {
    "duration": 13,
    "start_time": "2022-02-24T09:31:03.614Z"
   },
   {
    "duration": 65,
    "start_time": "2022-02-24T09:31:03.628Z"
   },
   {
    "duration": 32,
    "start_time": "2022-02-24T09:31:03.695Z"
   },
   {
    "duration": 53,
    "start_time": "2022-02-24T09:31:03.728Z"
   },
   {
    "duration": 26,
    "start_time": "2022-02-24T09:31:03.783Z"
   },
   {
    "duration": 54,
    "start_time": "2022-02-24T09:31:03.811Z"
   },
   {
    "duration": 542,
    "start_time": "2022-02-24T09:31:03.868Z"
   },
   {
    "duration": 24,
    "start_time": "2022-02-24T09:31:04.412Z"
   },
   {
    "duration": 42,
    "start_time": "2022-02-24T09:31:04.437Z"
   },
   {
    "duration": 47,
    "start_time": "2022-02-24T09:31:04.481Z"
   },
   {
    "duration": 8,
    "start_time": "2022-02-24T09:31:04.530Z"
   },
   {
    "duration": 15,
    "start_time": "2022-02-24T09:31:04.561Z"
   },
   {
    "duration": 358,
    "start_time": "2022-02-24T09:31:04.579Z"
   },
   {
    "duration": 388,
    "start_time": "2022-02-24T09:31:04.939Z"
   },
   {
    "duration": 232,
    "start_time": "2022-02-24T09:31:05.329Z"
   },
   {
    "duration": 252,
    "start_time": "2022-02-24T09:31:05.564Z"
   },
   {
    "duration": 9,
    "start_time": "2022-02-24T09:31:05.818Z"
   },
   {
    "duration": 36,
    "start_time": "2022-02-24T09:31:05.828Z"
   },
   {
    "duration": 7,
    "start_time": "2022-02-24T09:31:05.867Z"
   },
   {
    "duration": 31,
    "start_time": "2022-02-24T09:31:05.875Z"
   },
   {
    "duration": 22,
    "start_time": "2022-02-24T09:31:05.908Z"
   },
   {
    "duration": 39,
    "start_time": "2022-02-24T09:31:05.932Z"
   },
   {
    "duration": 56,
    "start_time": "2022-02-24T09:31:05.973Z"
   },
   {
    "duration": 3954,
    "start_time": "2022-02-24T09:31:06.031Z"
   },
   {
    "duration": 65,
    "start_time": "2022-02-24T12:44:25.777Z"
   },
   {
    "duration": 21,
    "start_time": "2022-02-24T13:07:43.599Z"
   },
   {
    "duration": 214,
    "start_time": "2022-02-24T13:07:59.937Z"
   },
   {
    "duration": 211,
    "start_time": "2022-02-24T13:12:20.235Z"
   },
   {
    "duration": 240,
    "start_time": "2022-02-24T13:17:44.343Z"
   },
   {
    "duration": 220,
    "start_time": "2022-02-24T13:27:01.871Z"
   },
   {
    "duration": 211,
    "start_time": "2022-02-24T13:27:11.576Z"
   },
   {
    "duration": 215,
    "start_time": "2022-02-24T13:32:00.569Z"
   },
   {
    "duration": 266,
    "start_time": "2022-02-24T13:37:02.798Z"
   },
   {
    "duration": 188,
    "start_time": "2022-02-24T13:37:24.059Z"
   },
   {
    "duration": 214,
    "start_time": "2022-02-24T13:37:33.632Z"
   },
   {
    "duration": 1021,
    "start_time": "2022-02-25T09:14:38.408Z"
   },
   {
    "duration": 15,
    "start_time": "2022-02-25T09:14:39.432Z"
   },
   {
    "duration": 7,
    "start_time": "2022-02-25T09:14:39.450Z"
   },
   {
    "duration": 43,
    "start_time": "2022-02-25T09:14:39.460Z"
   },
   {
    "duration": 14,
    "start_time": "2022-02-25T09:14:39.506Z"
   },
   {
    "duration": 117,
    "start_time": "2022-02-25T09:14:39.523Z"
   },
   {
    "duration": 56,
    "start_time": "2022-02-25T09:14:39.643Z"
   },
   {
    "duration": 5,
    "start_time": "2022-02-25T09:14:39.704Z"
   },
   {
    "duration": 8,
    "start_time": "2022-02-25T09:14:39.712Z"
   },
   {
    "duration": 5,
    "start_time": "2022-02-25T09:14:39.722Z"
   },
   {
    "duration": 19,
    "start_time": "2022-02-25T09:14:39.730Z"
   },
   {
    "duration": 71,
    "start_time": "2022-02-25T09:14:39.751Z"
   },
   {
    "duration": 42,
    "start_time": "2022-02-25T09:14:39.824Z"
   },
   {
    "duration": 60,
    "start_time": "2022-02-25T09:14:39.869Z"
   },
   {
    "duration": 35,
    "start_time": "2022-02-25T09:14:39.931Z"
   },
   {
    "duration": 74,
    "start_time": "2022-02-25T09:14:39.968Z"
   },
   {
    "duration": 857,
    "start_time": "2022-02-25T09:14:40.044Z"
   },
   {
    "duration": 37,
    "start_time": "2022-02-25T09:14:40.904Z"
   },
   {
    "duration": 63,
    "start_time": "2022-02-25T09:14:40.943Z"
   },
   {
    "duration": 59,
    "start_time": "2022-02-25T09:14:41.009Z"
   },
   {
    "duration": 31,
    "start_time": "2022-02-25T09:14:41.070Z"
   },
   {
    "duration": 11,
    "start_time": "2022-02-25T09:14:41.104Z"
   },
   {
    "duration": 477,
    "start_time": "2022-02-25T09:14:41.121Z"
   },
   {
    "duration": 576,
    "start_time": "2022-02-25T09:14:41.601Z"
   },
   {
    "duration": 316,
    "start_time": "2022-02-25T09:14:42.180Z"
   },
   {
    "duration": 341,
    "start_time": "2022-02-25T09:14:42.498Z"
   },
   {
    "duration": 10,
    "start_time": "2022-02-25T09:14:42.841Z"
   },
   {
    "duration": 49,
    "start_time": "2022-02-25T09:14:42.853Z"
   },
   {
    "duration": 8,
    "start_time": "2022-02-25T09:14:42.905Z"
   },
   {
    "duration": 38,
    "start_time": "2022-02-25T09:14:42.916Z"
   },
   {
    "duration": 64,
    "start_time": "2022-02-25T09:14:42.956Z"
   },
   {
    "duration": 326,
    "start_time": "2022-02-25T09:14:43.023Z"
   },
   {
    "duration": 528,
    "start_time": "2022-02-25T09:14:43.351Z"
   },
   {
    "duration": 49,
    "start_time": "2022-02-25T09:17:03.321Z"
   },
   {
    "duration": 42,
    "start_time": "2022-02-25T09:18:12.275Z"
   },
   {
    "duration": 11,
    "start_time": "2022-02-25T09:18:41.589Z"
   },
   {
    "duration": 13,
    "start_time": "2022-02-25T09:18:42.515Z"
   },
   {
    "duration": 408,
    "start_time": "2022-02-25T09:18:44.939Z"
   },
   {
    "duration": 598,
    "start_time": "2022-02-25T09:19:03.224Z"
   },
   {
    "duration": 516,
    "start_time": "2022-02-25T09:19:40.827Z"
   },
   {
    "duration": 587,
    "start_time": "2022-02-25T09:19:52.910Z"
   },
   {
    "duration": 315,
    "start_time": "2022-02-25T09:19:58.033Z"
   },
   {
    "duration": 561,
    "start_time": "2022-02-25T09:21:39.385Z"
   },
   {
    "duration": 279,
    "start_time": "2022-02-25T09:24:35.489Z"
   },
   {
    "duration": 284,
    "start_time": "2022-02-25T09:24:59.869Z"
   },
   {
    "duration": 279,
    "start_time": "2022-02-25T09:25:23.021Z"
   },
   {
    "duration": 294,
    "start_time": "2022-02-25T09:25:40.271Z"
   },
   {
    "duration": 530,
    "start_time": "2022-02-25T09:25:52.596Z"
   },
   {
    "duration": 476,
    "start_time": "2022-02-25T09:25:59.164Z"
   },
   {
    "duration": 95,
    "start_time": "2022-02-25T09:26:09.663Z"
   },
   {
    "duration": 303,
    "start_time": "2022-02-25T09:26:14.825Z"
   },
   {
    "duration": 1065,
    "start_time": "2022-02-25T09:29:26.684Z"
   },
   {
    "duration": 15,
    "start_time": "2022-02-25T09:29:27.752Z"
   },
   {
    "duration": 22,
    "start_time": "2022-02-25T09:29:27.771Z"
   },
   {
    "duration": 13,
    "start_time": "2022-02-25T09:29:27.796Z"
   },
   {
    "duration": 12,
    "start_time": "2022-02-25T09:29:27.812Z"
   },
   {
    "duration": 78,
    "start_time": "2022-02-25T09:29:27.827Z"
   },
   {
    "duration": 110,
    "start_time": "2022-02-25T09:29:27.908Z"
   },
   {
    "duration": 40,
    "start_time": "2022-02-25T09:29:28.021Z"
   },
   {
    "duration": 28,
    "start_time": "2022-02-25T09:29:28.065Z"
   },
   {
    "duration": 7,
    "start_time": "2022-02-25T09:29:28.095Z"
   },
   {
    "duration": 7,
    "start_time": "2022-02-25T09:29:28.104Z"
   },
   {
    "duration": 14,
    "start_time": "2022-02-25T09:29:28.113Z"
   },
   {
    "duration": 77,
    "start_time": "2022-02-25T09:29:28.129Z"
   },
   {
    "duration": 42,
    "start_time": "2022-02-25T09:29:28.208Z"
   },
   {
    "duration": 61,
    "start_time": "2022-02-25T09:29:28.253Z"
   },
   {
    "duration": 38,
    "start_time": "2022-02-25T09:29:28.317Z"
   },
   {
    "duration": 76,
    "start_time": "2022-02-25T09:29:28.358Z"
   },
   {
    "duration": 916,
    "start_time": "2022-02-25T09:29:28.437Z"
   },
   {
    "duration": 49,
    "start_time": "2022-02-25T09:29:29.356Z"
   },
   {
    "duration": 35,
    "start_time": "2022-02-25T09:29:29.407Z"
   },
   {
    "duration": 11,
    "start_time": "2022-02-25T09:29:29.445Z"
   },
   {
    "duration": 44,
    "start_time": "2022-02-25T09:29:29.458Z"
   },
   {
    "duration": 615,
    "start_time": "2022-02-25T09:29:29.506Z"
   },
   {
    "duration": 526,
    "start_time": "2022-02-25T09:29:30.124Z"
   },
   {
    "duration": 314,
    "start_time": "2022-02-25T09:29:30.652Z"
   },
   {
    "duration": 314,
    "start_time": "2022-02-25T09:29:30.968Z"
   },
   {
    "duration": 15,
    "start_time": "2022-02-25T09:29:31.284Z"
   },
   {
    "duration": 40,
    "start_time": "2022-02-25T09:29:31.301Z"
   },
   {
    "duration": 8,
    "start_time": "2022-02-25T09:29:31.344Z"
   },
   {
    "duration": 64,
    "start_time": "2022-02-25T09:29:31.354Z"
   },
   {
    "duration": 481,
    "start_time": "2022-02-25T09:29:31.421Z"
   },
   {
    "duration": 1657,
    "start_time": "2022-02-25T09:29:30.249Z"
   },
   {
    "duration": 788,
    "start_time": "2022-02-25T09:30:12.657Z"
   },
   {
    "duration": 849,
    "start_time": "2022-02-25T09:30:20.603Z"
   },
   {
    "duration": 17,
    "start_time": "2022-02-25T09:40:28.384Z"
   },
   {
    "duration": 10,
    "start_time": "2022-02-25T09:40:29.151Z"
   },
   {
    "duration": 13,
    "start_time": "2022-02-25T09:40:32.223Z"
   },
   {
    "duration": 644,
    "start_time": "2022-02-25T09:40:33.845Z"
   },
   {
    "duration": 564,
    "start_time": "2022-02-25T09:40:46.460Z"
   },
   {
    "duration": 297,
    "start_time": "2022-02-25T09:40:49.310Z"
   },
   {
    "duration": 307,
    "start_time": "2022-02-25T09:40:51.265Z"
   },
   {
    "duration": 292,
    "start_time": "2022-02-25T09:40:56.120Z"
   },
   {
    "duration": 9,
    "start_time": "2022-02-25T09:40:56.960Z"
   },
   {
    "duration": 26,
    "start_time": "2022-02-25T09:41:03.186Z"
   },
   {
    "duration": 9,
    "start_time": "2022-02-25T09:41:25.594Z"
   },
   {
    "duration": 52,
    "start_time": "2022-02-25T09:41:31.451Z"
   },
   {
    "duration": 40,
    "start_time": "2022-02-25T09:41:33.437Z"
   },
   {
    "duration": 627,
    "start_time": "2022-02-25T09:41:34.862Z"
   },
   {
    "duration": 8,
    "start_time": "2022-02-25T09:42:04.507Z"
   },
   {
    "duration": 11,
    "start_time": "2022-02-25T09:42:06.095Z"
   },
   {
    "duration": 11,
    "start_time": "2022-02-25T09:42:06.912Z"
   },
   {
    "duration": 1015,
    "start_time": "2022-02-25T09:42:19.509Z"
   },
   {
    "duration": 16,
    "start_time": "2022-02-25T09:42:20.526Z"
   },
   {
    "duration": 7,
    "start_time": "2022-02-25T09:42:20.545Z"
   },
   {
    "duration": 42,
    "start_time": "2022-02-25T09:42:20.554Z"
   },
   {
    "duration": 13,
    "start_time": "2022-02-25T09:42:20.598Z"
   },
   {
    "duration": 49,
    "start_time": "2022-02-25T09:42:20.613Z"
   },
   {
    "duration": 113,
    "start_time": "2022-02-25T09:42:20.664Z"
   },
   {
    "duration": 39,
    "start_time": "2022-02-25T09:42:20.795Z"
   },
   {
    "duration": 5,
    "start_time": "2022-02-25T09:42:20.836Z"
   },
   {
    "duration": 10,
    "start_time": "2022-02-25T09:42:20.843Z"
   },
   {
    "duration": 12,
    "start_time": "2022-02-25T09:42:20.855Z"
   },
   {
    "duration": 13,
    "start_time": "2022-02-25T09:42:20.894Z"
   },
   {
    "duration": 45,
    "start_time": "2022-02-25T09:42:20.909Z"
   },
   {
    "duration": 76,
    "start_time": "2022-02-25T09:42:20.956Z"
   },
   {
    "duration": 40,
    "start_time": "2022-02-25T09:42:21.034Z"
   },
   {
    "duration": 48,
    "start_time": "2022-02-25T09:42:21.077Z"
   },
   {
    "duration": 78,
    "start_time": "2022-02-25T09:42:21.127Z"
   },
   {
    "duration": 843,
    "start_time": "2022-02-25T09:42:21.207Z"
   },
   {
    "duration": 50,
    "start_time": "2022-02-25T09:42:22.052Z"
   },
   {
    "duration": 35,
    "start_time": "2022-02-25T09:42:22.104Z"
   },
   {
    "duration": 31,
    "start_time": "2022-02-25T09:42:22.142Z"
   },
   {
    "duration": 11,
    "start_time": "2022-02-25T09:42:22.194Z"
   },
   {
    "duration": 11,
    "start_time": "2022-02-25T09:42:22.209Z"
   },
   {
    "duration": 643,
    "start_time": "2022-02-25T09:42:22.223Z"
   },
   {
    "duration": 555,
    "start_time": "2022-02-25T09:42:22.869Z"
   },
   {
    "duration": 344,
    "start_time": "2022-02-25T09:42:23.427Z"
   },
   {
    "duration": 330,
    "start_time": "2022-02-25T09:42:23.774Z"
   },
   {
    "duration": 11,
    "start_time": "2022-02-25T09:42:24.106Z"
   },
   {
    "duration": 32,
    "start_time": "2022-02-25T09:42:24.120Z"
   },
   {
    "duration": 44,
    "start_time": "2022-02-25T09:42:24.155Z"
   },
   {
    "duration": 41,
    "start_time": "2022-02-25T09:42:24.202Z"
   },
   {
    "duration": 62,
    "start_time": "2022-02-25T09:42:24.246Z"
   },
   {
    "duration": 575,
    "start_time": "2022-02-25T09:42:24.310Z"
   },
   {
    "duration": 305,
    "start_time": "2022-02-25T09:42:56.718Z"
   },
   {
    "duration": 350,
    "start_time": "2022-02-25T09:46:48.203Z"
   },
   {
    "duration": 207,
    "start_time": "2022-02-25T09:46:59.672Z"
   },
   {
    "duration": 330,
    "start_time": "2022-02-25T09:47:08.963Z"
   },
   {
    "duration": 13,
    "start_time": "2022-02-25T09:48:15.004Z"
   },
   {
    "duration": 430,
    "start_time": "2022-02-25T09:48:52.214Z"
   },
   {
    "duration": 278,
    "start_time": "2022-02-25T09:49:21.478Z"
   },
   {
    "duration": 433,
    "start_time": "2022-02-25T09:50:25.504Z"
   },
   {
    "duration": 730,
    "start_time": "2022-02-25T09:51:03.667Z"
   },
   {
    "duration": 408,
    "start_time": "2022-02-25T09:51:20.530Z"
   },
   {
    "duration": 363,
    "start_time": "2022-02-25T09:51:35.842Z"
   },
   {
    "duration": 555,
    "start_time": "2022-02-25T10:00:32.147Z"
   },
   {
    "duration": 689,
    "start_time": "2022-02-25T10:01:15.408Z"
   },
   {
    "duration": 531,
    "start_time": "2022-02-25T10:01:23.444Z"
   },
   {
    "duration": 627,
    "start_time": "2022-02-25T10:01:31.898Z"
   },
   {
    "duration": 574,
    "start_time": "2022-02-25T10:01:39.829Z"
   },
   {
    "duration": 706,
    "start_time": "2022-02-25T10:03:54.981Z"
   },
   {
    "duration": 400,
    "start_time": "2022-02-25T10:04:00.451Z"
   },
   {
    "duration": 550,
    "start_time": "2022-02-25T10:04:10.369Z"
   },
   {
    "duration": 559,
    "start_time": "2022-02-25T10:06:58.373Z"
   },
   {
    "duration": 657,
    "start_time": "2022-02-25T10:07:12.477Z"
   },
   {
    "duration": 283,
    "start_time": "2022-02-25T10:07:24.531Z"
   },
   {
    "duration": 567,
    "start_time": "2022-02-25T10:07:43.071Z"
   },
   {
    "duration": 545,
    "start_time": "2022-02-25T10:11:10.303Z"
   },
   {
    "duration": 546,
    "start_time": "2022-02-25T10:11:21.712Z"
   },
   {
    "duration": 532,
    "start_time": "2022-02-25T10:11:31.260Z"
   },
   {
    "duration": 11,
    "start_time": "2022-02-25T10:12:50.912Z"
   },
   {
    "duration": 734,
    "start_time": "2022-02-25T10:13:00.811Z"
   },
   {
    "duration": 256,
    "start_time": "2022-02-25T10:13:16.573Z"
   },
   {
    "duration": 300,
    "start_time": "2022-02-25T10:17:29.537Z"
   },
   {
    "duration": 570,
    "start_time": "2022-02-25T10:18:26.639Z"
   },
   {
    "duration": 597,
    "start_time": "2022-02-25T10:18:32.752Z"
   },
   {
    "duration": 12,
    "start_time": "2022-02-25T10:19:36.138Z"
   },
   {
    "duration": 697,
    "start_time": "2022-02-25T10:20:15.584Z"
   },
   {
    "duration": 305,
    "start_time": "2022-02-25T10:20:21.550Z"
   },
   {
    "duration": 391,
    "start_time": "2022-02-25T10:20:30.285Z"
   },
   {
    "duration": 295,
    "start_time": "2022-02-25T10:20:37.377Z"
   },
   {
    "duration": 360,
    "start_time": "2022-02-25T10:20:41.580Z"
   },
   {
    "duration": 672,
    "start_time": "2022-02-25T12:43:38.013Z"
   },
   {
    "duration": 747,
    "start_time": "2022-02-25T12:43:45.113Z"
   },
   {
    "duration": 11,
    "start_time": "2022-02-25T12:43:45.862Z"
   },
   {
    "duration": 4,
    "start_time": "2022-02-25T12:43:45.875Z"
   },
   {
    "duration": 10,
    "start_time": "2022-02-25T12:43:45.974Z"
   },
   {
    "duration": 8,
    "start_time": "2022-02-25T12:43:45.987Z"
   },
   {
    "duration": 28,
    "start_time": "2022-02-25T12:43:45.997Z"
   },
   {
    "duration": 60,
    "start_time": "2022-02-25T12:43:46.027Z"
   },
   {
    "duration": 23,
    "start_time": "2022-02-25T12:43:46.089Z"
   },
   {
    "duration": 4,
    "start_time": "2022-02-25T12:43:46.113Z"
   },
   {
    "duration": 3,
    "start_time": "2022-02-25T12:43:46.133Z"
   },
   {
    "duration": 5,
    "start_time": "2022-02-25T12:43:46.138Z"
   },
   {
    "duration": 10,
    "start_time": "2022-02-25T12:43:46.146Z"
   },
   {
    "duration": 27,
    "start_time": "2022-02-25T12:43:46.157Z"
   },
   {
    "duration": 57,
    "start_time": "2022-02-25T12:43:46.186Z"
   },
   {
    "duration": 22,
    "start_time": "2022-02-25T12:43:46.245Z"
   },
   {
    "duration": 21,
    "start_time": "2022-02-25T12:43:46.269Z"
   },
   {
    "duration": 55,
    "start_time": "2022-02-25T12:43:46.291Z"
   },
   {
    "duration": 491,
    "start_time": "2022-02-25T12:43:46.348Z"
   },
   {
    "duration": 22,
    "start_time": "2022-02-25T12:43:46.841Z"
   },
   {
    "duration": 21,
    "start_time": "2022-02-25T12:43:46.864Z"
   },
   {
    "duration": 52,
    "start_time": "2022-02-25T12:43:46.887Z"
   },
   {
    "duration": 8,
    "start_time": "2022-02-25T12:43:46.941Z"
   },
   {
    "duration": 184,
    "start_time": "2022-02-25T12:43:46.951Z"
   },
   {
    "duration": 348,
    "start_time": "2022-02-25T12:43:47.137Z"
   },
   {
    "duration": 8,
    "start_time": "2022-02-25T12:43:47.487Z"
   },
   {
    "duration": 426,
    "start_time": "2022-02-25T12:43:47.498Z"
   },
   {
    "duration": 1179,
    "start_time": "2022-02-25T12:43:46.747Z"
   },
   {
    "duration": 1176,
    "start_time": "2022-02-25T12:43:46.751Z"
   },
   {
    "duration": 1173,
    "start_time": "2022-02-25T12:43:46.755Z"
   },
   {
    "duration": 1174,
    "start_time": "2022-02-25T12:43:46.759Z"
   },
   {
    "duration": 1171,
    "start_time": "2022-02-25T12:43:46.763Z"
   },
   {
    "duration": 1169,
    "start_time": "2022-02-25T12:43:46.766Z"
   },
   {
    "duration": 1167,
    "start_time": "2022-02-25T12:43:46.770Z"
   },
   {
    "duration": 1131,
    "start_time": "2022-02-25T12:43:46.807Z"
   },
   {
    "duration": 1128,
    "start_time": "2022-02-25T12:43:46.811Z"
   },
   {
    "duration": 10,
    "start_time": "2022-02-25T12:49:08.912Z"
   },
   {
    "duration": 319,
    "start_time": "2022-02-25T12:50:45.537Z"
   },
   {
    "duration": 213,
    "start_time": "2022-02-25T12:51:00.550Z"
   },
   {
    "duration": 416,
    "start_time": "2022-02-25T12:51:07.581Z"
   },
   {
    "duration": 315,
    "start_time": "2022-02-25T12:51:24.742Z"
   },
   {
    "duration": 312,
    "start_time": "2022-02-25T12:51:44.510Z"
   },
   {
    "duration": 508,
    "start_time": "2022-02-25T12:51:54.871Z"
   },
   {
    "duration": 317,
    "start_time": "2022-02-25T12:52:05.498Z"
   },
   {
    "duration": 315,
    "start_time": "2022-02-25T12:52:12.518Z"
   },
   {
    "duration": 393,
    "start_time": "2022-02-25T12:52:28.103Z"
   },
   {
    "duration": 75,
    "start_time": "2022-02-25T12:55:07.598Z"
   },
   {
    "duration": 42,
    "start_time": "2022-02-25T12:55:12.872Z"
   },
   {
    "duration": 7,
    "start_time": "2022-02-25T12:59:44.805Z"
   },
   {
    "duration": 54,
    "start_time": "2022-02-25T13:03:35.745Z"
   },
   {
    "duration": 177,
    "start_time": "2022-02-25T13:06:42.398Z"
   },
   {
    "duration": 179,
    "start_time": "2022-02-25T13:06:49.572Z"
   },
   {
    "duration": 170,
    "start_time": "2022-02-25T13:06:56.478Z"
   },
   {
    "duration": 176,
    "start_time": "2022-02-25T13:07:24.878Z"
   },
   {
    "duration": 232,
    "start_time": "2022-02-25T13:07:36.013Z"
   },
   {
    "duration": 304,
    "start_time": "2022-02-25T13:07:44.191Z"
   },
   {
    "duration": 170,
    "start_time": "2022-02-25T13:07:54.838Z"
   },
   {
    "duration": 184,
    "start_time": "2022-02-25T13:09:30.398Z"
   },
   {
    "duration": 8,
    "start_time": "2022-02-25T13:31:40.851Z"
   },
   {
    "duration": 225,
    "start_time": "2022-02-25T13:33:29.428Z"
   },
   {
    "duration": 345,
    "start_time": "2022-02-25T13:33:50.136Z"
   },
   {
    "duration": 188,
    "start_time": "2022-02-25T13:33:54.795Z"
   },
   {
    "duration": 174,
    "start_time": "2022-02-25T13:34:29.292Z"
   },
   {
    "duration": 241,
    "start_time": "2022-02-25T13:34:35.891Z"
   },
   {
    "duration": 182,
    "start_time": "2022-02-25T13:35:03.839Z"
   },
   {
    "duration": 44,
    "start_time": "2022-02-25T13:39:12.613Z"
   },
   {
    "duration": 188,
    "start_time": "2022-02-25T13:39:18.876Z"
   },
   {
    "duration": 9,
    "start_time": "2022-02-25T13:48:47.152Z"
   },
   {
    "duration": 322,
    "start_time": "2022-02-25T14:00:57.079Z"
   },
   {
    "duration": 325,
    "start_time": "2022-02-25T14:01:49.751Z"
   },
   {
    "duration": 219,
    "start_time": "2022-02-25T14:01:56.867Z"
   },
   {
    "duration": 318,
    "start_time": "2022-02-25T14:02:18.804Z"
   },
   {
    "duration": 225,
    "start_time": "2022-02-25T14:25:49.772Z"
   },
   {
    "duration": 231,
    "start_time": "2022-02-25T14:26:03.544Z"
   },
   {
    "duration": 8,
    "start_time": "2022-02-25T14:26:20.652Z"
   },
   {
    "duration": 24,
    "start_time": "2022-02-25T14:44:48.124Z"
   },
   {
    "duration": 7,
    "start_time": "2022-02-25T14:44:51.305Z"
   },
   {
    "duration": 23,
    "start_time": "2022-02-25T14:44:55.044Z"
   },
   {
    "duration": 23,
    "start_time": "2022-02-25T14:44:55.472Z"
   },
   {
    "duration": 343,
    "start_time": "2022-02-25T14:44:56.053Z"
   },
   {
    "duration": 773,
    "start_time": "2022-02-25T15:21:57.348Z"
   },
   {
    "duration": 19,
    "start_time": "2022-02-25T15:21:58.123Z"
   },
   {
    "duration": 4,
    "start_time": "2022-02-25T15:21:58.144Z"
   },
   {
    "duration": 14,
    "start_time": "2022-02-25T15:21:58.150Z"
   },
   {
    "duration": 9,
    "start_time": "2022-02-25T15:21:58.165Z"
   },
   {
    "duration": 27,
    "start_time": "2022-02-25T15:21:58.176Z"
   },
   {
    "duration": 90,
    "start_time": "2022-02-25T15:21:58.204Z"
   },
   {
    "duration": 40,
    "start_time": "2022-02-25T15:21:58.296Z"
   },
   {
    "duration": 3,
    "start_time": "2022-02-25T15:21:58.338Z"
   },
   {
    "duration": 6,
    "start_time": "2022-02-25T15:21:58.342Z"
   },
   {
    "duration": 6,
    "start_time": "2022-02-25T15:21:58.350Z"
   },
   {
    "duration": 12,
    "start_time": "2022-02-25T15:21:58.357Z"
   },
   {
    "duration": 28,
    "start_time": "2022-02-25T15:21:58.370Z"
   },
   {
    "duration": 45,
    "start_time": "2022-02-25T15:21:58.399Z"
   },
   {
    "duration": 23,
    "start_time": "2022-02-25T15:21:58.446Z"
   },
   {
    "duration": 20,
    "start_time": "2022-02-25T15:21:58.470Z"
   },
   {
    "duration": 62,
    "start_time": "2022-02-25T15:21:58.492Z"
   },
   {
    "duration": 488,
    "start_time": "2022-02-25T15:21:58.556Z"
   },
   {
    "duration": 23,
    "start_time": "2022-02-25T15:21:59.046Z"
   },
   {
    "duration": 22,
    "start_time": "2022-02-25T15:21:59.070Z"
   },
   {
    "duration": 2,
    "start_time": "2022-02-25T15:21:59.093Z"
   },
   {
    "duration": 37,
    "start_time": "2022-02-25T15:21:59.097Z"
   },
   {
    "duration": 167,
    "start_time": "2022-02-25T15:21:59.137Z"
   },
   {
    "duration": 364,
    "start_time": "2022-02-25T15:21:59.306Z"
   },
   {
    "duration": 8,
    "start_time": "2022-02-25T15:21:59.671Z"
   },
   {
    "duration": 7,
    "start_time": "2022-02-25T15:21:59.681Z"
   },
   {
    "duration": 350,
    "start_time": "2022-02-25T15:21:59.690Z"
   },
   {
    "duration": 9,
    "start_time": "2022-02-25T15:22:00.042Z"
   },
   {
    "duration": 209,
    "start_time": "2022-02-25T15:22:00.053Z"
   },
   {
    "duration": 9,
    "start_time": "2022-02-25T15:22:00.265Z"
   },
   {
    "duration": 197,
    "start_time": "2022-02-25T15:22:00.276Z"
   },
   {
    "duration": 9,
    "start_time": "2022-02-25T15:22:00.475Z"
   },
   {
    "duration": 226,
    "start_time": "2022-02-25T15:22:00.486Z"
   },
   {
    "duration": 19,
    "start_time": "2022-02-25T15:22:00.714Z"
   },
   {
    "duration": 33,
    "start_time": "2022-02-25T15:22:00.735Z"
   },
   {
    "duration": 8,
    "start_time": "2022-02-25T15:22:00.770Z"
   },
   {
    "duration": 33,
    "start_time": "2022-02-25T15:22:00.780Z"
   },
   {
    "duration": 233,
    "start_time": "2022-02-25T15:22:00.814Z"
   },
   {
    "duration": 1275,
    "start_time": "2022-02-25T15:21:59.774Z"
   },
   {
    "duration": 24,
    "start_time": "2022-02-25T15:30:53.822Z"
   },
   {
    "duration": 201,
    "start_time": "2022-02-25T15:57:20.793Z"
   },
   {
    "duration": 462,
    "start_time": "2022-02-25T15:57:36.989Z"
   },
   {
    "duration": 138,
    "start_time": "2022-02-25T16:54:20.055Z"
   },
   {
    "duration": 954,
    "start_time": "2022-02-25T16:54:52.654Z"
   },
   {
    "duration": 4,
    "start_time": "2022-02-25T17:27:08.428Z"
   },
   {
    "duration": 4,
    "start_time": "2022-02-25T17:27:30.825Z"
   },
   {
    "duration": 4,
    "start_time": "2022-02-25T17:27:43.703Z"
   },
   {
    "duration": 4,
    "start_time": "2022-02-25T17:28:10.650Z"
   },
   {
    "duration": 5,
    "start_time": "2022-02-25T17:28:45.381Z"
   },
   {
    "duration": 4,
    "start_time": "2022-02-25T17:28:56.699Z"
   },
   {
    "duration": 4,
    "start_time": "2022-02-25T17:29:06.157Z"
   },
   {
    "duration": 4,
    "start_time": "2022-02-25T17:29:33.101Z"
   },
   {
    "duration": 221,
    "start_time": "2022-02-25T17:33:11.945Z"
   },
   {
    "duration": 212,
    "start_time": "2022-02-25T17:33:23.283Z"
   },
   {
    "duration": 351,
    "start_time": "2022-02-25T17:33:29.495Z"
   },
   {
    "duration": 220,
    "start_time": "2022-02-25T17:34:39.312Z"
   },
   {
    "duration": 213,
    "start_time": "2022-02-25T17:35:18.798Z"
   },
   {
    "duration": 5,
    "start_time": "2022-02-25T17:43:18.070Z"
   },
   {
    "duration": 172,
    "start_time": "2022-02-25T17:44:11.170Z"
   },
   {
    "duration": 7,
    "start_time": "2022-02-25T17:44:16.103Z"
   },
   {
    "duration": 6,
    "start_time": "2022-02-25T17:44:46.136Z"
   },
   {
    "duration": 6,
    "start_time": "2022-02-25T17:45:26.353Z"
   },
   {
    "duration": 7,
    "start_time": "2022-02-25T17:46:26.838Z"
   },
   {
    "duration": 7,
    "start_time": "2022-02-25T17:47:58.153Z"
   },
   {
    "duration": 4,
    "start_time": "2022-02-25T17:48:43.677Z"
   },
   {
    "duration": 311,
    "start_time": "2022-02-25T17:49:16.884Z"
   },
   {
    "duration": 291,
    "start_time": "2022-02-25T17:49:29.176Z"
   },
   {
    "duration": 390,
    "start_time": "2022-02-25T17:49:41.446Z"
   },
   {
    "duration": 313,
    "start_time": "2022-02-25T17:49:52.168Z"
   },
   {
    "duration": 307,
    "start_time": "2022-02-25T17:57:34.580Z"
   },
   {
    "duration": 162,
    "start_time": "2022-02-25T18:34:50.156Z"
   },
   {
    "duration": 21,
    "start_time": "2022-02-25T18:35:10.888Z"
   },
   {
    "duration": 20,
    "start_time": "2022-02-25T18:35:36.962Z"
   },
   {
    "duration": 20,
    "start_time": "2022-02-25T18:36:02.041Z"
   },
   {
    "duration": 252,
    "start_time": "2022-02-25T18:36:24.855Z"
   },
   {
    "duration": 45,
    "start_time": "2022-02-25T18:37:06.364Z"
   },
   {
    "duration": 78,
    "start_time": "2022-02-25T18:37:11.516Z"
   },
   {
    "duration": 3901,
    "start_time": "2022-02-25T18:37:16.849Z"
   },
   {
    "duration": 205,
    "start_time": "2022-02-25T18:38:58.964Z"
   },
   {
    "duration": 671,
    "start_time": "2022-02-25T18:39:18.095Z"
   },
   {
    "duration": 10,
    "start_time": "2022-02-25T18:39:18.768Z"
   },
   {
    "duration": 4,
    "start_time": "2022-02-25T18:39:18.780Z"
   },
   {
    "duration": 11,
    "start_time": "2022-02-25T18:39:18.786Z"
   },
   {
    "duration": 7,
    "start_time": "2022-02-25T18:39:18.799Z"
   },
   {
    "duration": 28,
    "start_time": "2022-02-25T18:39:18.833Z"
   },
   {
    "duration": 77,
    "start_time": "2022-02-25T18:39:18.862Z"
   },
   {
    "duration": 23,
    "start_time": "2022-02-25T18:39:18.941Z"
   },
   {
    "duration": 3,
    "start_time": "2022-02-25T18:39:18.967Z"
   },
   {
    "duration": 4,
    "start_time": "2022-02-25T18:39:18.972Z"
   },
   {
    "duration": 5,
    "start_time": "2022-02-25T18:39:18.977Z"
   },
   {
    "duration": 12,
    "start_time": "2022-02-25T18:39:18.983Z"
   },
   {
    "duration": 56,
    "start_time": "2022-02-25T18:39:18.996Z"
   },
   {
    "duration": 27,
    "start_time": "2022-02-25T18:39:19.054Z"
   },
   {
    "duration": 23,
    "start_time": "2022-02-25T18:39:19.083Z"
   },
   {
    "duration": 22,
    "start_time": "2022-02-25T18:39:19.133Z"
   },
   {
    "duration": 33,
    "start_time": "2022-02-25T18:39:19.157Z"
   },
   {
    "duration": 512,
    "start_time": "2022-02-25T18:39:19.192Z"
   },
   {
    "duration": 30,
    "start_time": "2022-02-25T18:39:19.706Z"
   },
   {
    "duration": 21,
    "start_time": "2022-02-25T18:39:19.738Z"
   },
   {
    "duration": 2,
    "start_time": "2022-02-25T18:39:19.761Z"
   },
   {
    "duration": 11,
    "start_time": "2022-02-25T18:39:19.765Z"
   },
   {
    "duration": 188,
    "start_time": "2022-02-25T18:39:19.778Z"
   },
   {
    "duration": 378,
    "start_time": "2022-02-25T18:39:19.967Z"
   },
   {
    "duration": 8,
    "start_time": "2022-02-25T18:39:20.347Z"
   },
   {
    "duration": 7,
    "start_time": "2022-02-25T18:39:20.357Z"
   },
   {
    "duration": 328,
    "start_time": "2022-02-25T18:39:20.368Z"
   },
   {
    "duration": 7,
    "start_time": "2022-02-25T18:39:20.698Z"
   },
   {
    "duration": 197,
    "start_time": "2022-02-25T18:39:20.707Z"
   },
   {
    "duration": 8,
    "start_time": "2022-02-25T18:39:20.906Z"
   },
   {
    "duration": 209,
    "start_time": "2022-02-25T18:39:20.915Z"
   },
   {
    "duration": 14,
    "start_time": "2022-02-25T18:39:21.125Z"
   },
   {
    "duration": 4,
    "start_time": "2022-02-25T18:39:21.141Z"
   },
   {
    "duration": 8,
    "start_time": "2022-02-25T18:39:21.146Z"
   },
   {
    "duration": 320,
    "start_time": "2022-02-25T18:39:21.155Z"
   },
   {
    "duration": 230,
    "start_time": "2022-02-25T18:39:21.476Z"
   },
   {
    "duration": 8,
    "start_time": "2022-02-25T18:39:21.708Z"
   },
   {
    "duration": 224,
    "start_time": "2022-02-25T18:39:21.718Z"
   },
   {
    "duration": -77275,
    "start_time": "2022-02-25T18:40:39.220Z"
   },
   {
    "duration": -83390,
    "start_time": "2022-02-25T18:40:45.336Z"
   },
   {
    "duration": -83406,
    "start_time": "2022-02-25T18:40:45.353Z"
   },
   {
    "duration": 42,
    "start_time": "2022-02-25T18:43:14.311Z"
   },
   {
    "duration": 50,
    "start_time": "2022-02-25T18:43:41.284Z"
   },
   {
    "duration": 51,
    "start_time": "2022-02-25T18:43:56.062Z"
   },
   {
    "duration": 47,
    "start_time": "2022-02-25T18:44:09.324Z"
   },
   {
    "duration": 21,
    "start_time": "2022-02-25T18:44:20.731Z"
   },
   {
    "duration": 21,
    "start_time": "2022-02-25T18:45:44.873Z"
   },
   {
    "duration": 179,
    "start_time": "2022-02-25T18:46:12.692Z"
   },
   {
    "duration": 20,
    "start_time": "2022-02-25T18:46:31.572Z"
   },
   {
    "duration": 84,
    "start_time": "2022-02-25T18:47:39.019Z"
   },
   {
    "duration": 137,
    "start_time": "2022-02-25T18:47:39.823Z"
   },
   {
    "duration": 30,
    "start_time": "2022-02-25T18:47:46.344Z"
   },
   {
    "duration": 3512,
    "start_time": "2022-02-25T18:48:54.006Z"
   },
   {
    "duration": 3818,
    "start_time": "2022-02-25T18:50:14.030Z"
   },
   {
    "duration": 19,
    "start_time": "2022-02-25T18:50:47.320Z"
   },
   {
    "duration": 373,
    "start_time": "2022-02-25T18:59:58.886Z"
   },
   {
    "duration": 6,
    "start_time": "2022-02-25T19:00:13.978Z"
   },
   {
    "duration": 19,
    "start_time": "2022-02-25T19:00:27.223Z"
   },
   {
    "duration": 136,
    "start_time": "2022-02-25T19:00:56.182Z"
   },
   {
    "duration": 17,
    "start_time": "2022-02-25T19:01:16.017Z"
   },
   {
    "duration": 21,
    "start_time": "2022-02-25T19:01:30.516Z"
   },
   {
    "duration": 7,
    "start_time": "2022-02-25T19:02:09.282Z"
   },
   {
    "duration": 20,
    "start_time": "2022-02-25T19:02:36.591Z"
   },
   {
    "duration": 20,
    "start_time": "2022-02-25T19:11:22.101Z"
   },
   {
    "duration": 6,
    "start_time": "2022-02-25T19:11:23.137Z"
   },
   {
    "duration": 19,
    "start_time": "2022-02-25T19:14:23.344Z"
   },
   {
    "duration": 6,
    "start_time": "2022-02-25T19:14:24.418Z"
   },
   {
    "duration": 5830,
    "start_time": "2022-02-25T19:18:00.673Z"
   },
   {
    "duration": 19,
    "start_time": "2022-02-25T19:18:19.613Z"
   },
   {
    "duration": 18,
    "start_time": "2022-02-25T19:19:59.805Z"
   },
   {
    "duration": 714,
    "start_time": "2022-02-25T19:20:08.957Z"
   },
   {
    "duration": 12,
    "start_time": "2022-02-25T19:20:09.673Z"
   },
   {
    "duration": 4,
    "start_time": "2022-02-25T19:20:09.687Z"
   },
   {
    "duration": 17,
    "start_time": "2022-02-25T19:20:09.693Z"
   },
   {
    "duration": 30,
    "start_time": "2022-02-25T19:20:09.711Z"
   },
   {
    "duration": 33,
    "start_time": "2022-02-25T19:20:09.742Z"
   },
   {
    "duration": 82,
    "start_time": "2022-02-25T19:20:09.777Z"
   },
   {
    "duration": 23,
    "start_time": "2022-02-25T19:20:09.862Z"
   },
   {
    "duration": 3,
    "start_time": "2022-02-25T19:20:09.888Z"
   },
   {
    "duration": 8,
    "start_time": "2022-02-25T19:20:09.892Z"
   },
   {
    "duration": 5,
    "start_time": "2022-02-25T19:20:09.902Z"
   },
   {
    "duration": 27,
    "start_time": "2022-02-25T19:20:09.908Z"
   },
   {
    "duration": 32,
    "start_time": "2022-02-25T19:20:09.937Z"
   },
   {
    "duration": 28,
    "start_time": "2022-02-25T19:20:09.970Z"
   },
   {
    "duration": 53,
    "start_time": "2022-02-25T19:20:10.000Z"
   },
   {
    "duration": 22,
    "start_time": "2022-02-25T19:20:10.054Z"
   },
   {
    "duration": 34,
    "start_time": "2022-02-25T19:20:10.079Z"
   },
   {
    "duration": 508,
    "start_time": "2022-02-25T19:20:10.115Z"
   },
   {
    "duration": 28,
    "start_time": "2022-02-25T19:20:10.626Z"
   },
   {
    "duration": 22,
    "start_time": "2022-02-25T19:20:10.656Z"
   },
   {
    "duration": 2,
    "start_time": "2022-02-25T19:20:10.680Z"
   },
   {
    "duration": 15,
    "start_time": "2022-02-25T19:20:10.684Z"
   },
   {
    "duration": 190,
    "start_time": "2022-02-25T19:20:10.703Z"
   },
   {
    "duration": 377,
    "start_time": "2022-02-25T19:20:10.895Z"
   },
   {
    "duration": 9,
    "start_time": "2022-02-25T19:20:11.274Z"
   },
   {
    "duration": 11,
    "start_time": "2022-02-25T19:20:11.285Z"
   },
   {
    "duration": 335,
    "start_time": "2022-02-25T19:20:11.297Z"
   },
   {
    "duration": 8,
    "start_time": "2022-02-25T19:20:11.634Z"
   },
   {
    "duration": 196,
    "start_time": "2022-02-25T19:20:11.643Z"
   },
   {
    "duration": 8,
    "start_time": "2022-02-25T19:20:11.841Z"
   },
   {
    "duration": 201,
    "start_time": "2022-02-25T19:20:11.851Z"
   },
   {
    "duration": 8,
    "start_time": "2022-02-25T19:20:12.054Z"
   },
   {
    "duration": 4,
    "start_time": "2022-02-25T19:20:12.064Z"
   },
   {
    "duration": 8,
    "start_time": "2022-02-25T19:20:12.069Z"
   },
   {
    "duration": 339,
    "start_time": "2022-02-25T19:20:12.078Z"
   },
   {
    "duration": 237,
    "start_time": "2022-02-25T19:20:12.419Z"
   },
   {
    "duration": 9,
    "start_time": "2022-02-25T19:20:12.658Z"
   },
   {
    "duration": 28,
    "start_time": "2022-02-25T19:20:12.669Z"
   },
   {
    "duration": 41,
    "start_time": "2022-02-25T19:20:12.699Z"
   },
   {
    "duration": 7,
    "start_time": "2022-02-25T19:20:12.742Z"
   },
   {
    "duration": 25,
    "start_time": "2022-02-25T19:20:12.751Z"
   },
   {
    "duration": 334,
    "start_time": "2022-02-25T19:20:12.777Z"
   },
   {
    "duration": 178,
    "start_time": "2022-02-26T23:43:34.233Z"
   },
   {
    "duration": 731,
    "start_time": "2022-02-26T23:43:44.986Z"
   },
   {
    "duration": 10,
    "start_time": "2022-02-26T23:43:45.719Z"
   },
   {
    "duration": 4,
    "start_time": "2022-02-26T23:43:45.732Z"
   },
   {
    "duration": 32,
    "start_time": "2022-02-26T23:43:45.738Z"
   },
   {
    "duration": 8,
    "start_time": "2022-02-26T23:43:45.772Z"
   },
   {
    "duration": 28,
    "start_time": "2022-02-26T23:43:45.782Z"
   },
   {
    "duration": 89,
    "start_time": "2022-02-26T23:43:45.812Z"
   },
   {
    "duration": 23,
    "start_time": "2022-02-26T23:43:45.903Z"
   },
   {
    "duration": 4,
    "start_time": "2022-02-26T23:43:45.928Z"
   },
   {
    "duration": 12,
    "start_time": "2022-02-26T23:43:45.934Z"
   },
   {
    "duration": 16,
    "start_time": "2022-02-26T23:43:45.948Z"
   },
   {
    "duration": 12,
    "start_time": "2022-02-26T23:43:45.966Z"
   },
   {
    "duration": 27,
    "start_time": "2022-02-26T23:43:45.980Z"
   },
   {
    "duration": 28,
    "start_time": "2022-02-26T23:43:46.009Z"
   },
   {
    "duration": 46,
    "start_time": "2022-02-26T23:43:46.039Z"
   },
   {
    "duration": 22,
    "start_time": "2022-02-26T23:43:46.087Z"
   },
   {
    "duration": 54,
    "start_time": "2022-02-26T23:43:46.110Z"
   },
   {
    "duration": 473,
    "start_time": "2022-02-26T23:43:46.165Z"
   },
   {
    "duration": 33,
    "start_time": "2022-02-26T23:43:46.639Z"
   },
   {
    "duration": 21,
    "start_time": "2022-02-26T23:43:46.673Z"
   },
   {
    "duration": 2,
    "start_time": "2022-02-26T23:43:46.696Z"
   },
   {
    "duration": 12,
    "start_time": "2022-02-26T23:43:46.700Z"
   },
   {
    "duration": 175,
    "start_time": "2022-02-26T23:43:46.716Z"
   },
   {
    "duration": 356,
    "start_time": "2022-02-26T23:43:46.893Z"
   },
   {
    "duration": 18,
    "start_time": "2022-02-26T23:43:47.251Z"
   },
   {
    "duration": 9,
    "start_time": "2022-02-26T23:43:47.270Z"
   },
   {
    "duration": 331,
    "start_time": "2022-02-26T23:43:47.281Z"
   },
   {
    "duration": 8,
    "start_time": "2022-02-26T23:43:47.614Z"
   },
   {
    "duration": 200,
    "start_time": "2022-02-26T23:43:47.623Z"
   },
   {
    "duration": 8,
    "start_time": "2022-02-26T23:43:47.825Z"
   },
   {
    "duration": 194,
    "start_time": "2022-02-26T23:43:47.835Z"
   },
   {
    "duration": 9,
    "start_time": "2022-02-26T23:43:48.030Z"
   },
   {
    "duration": 4,
    "start_time": "2022-02-26T23:43:48.041Z"
   },
   {
    "duration": 19,
    "start_time": "2022-02-26T23:43:48.046Z"
   },
   {
    "duration": 323,
    "start_time": "2022-02-26T23:43:48.067Z"
   },
   {
    "duration": 222,
    "start_time": "2022-02-26T23:43:48.392Z"
   },
   {
    "duration": 66,
    "start_time": "2022-02-26T23:43:48.615Z"
   },
   {
    "duration": 7,
    "start_time": "2022-02-26T23:43:48.683Z"
   },
   {
    "duration": 21,
    "start_time": "2022-02-26T23:43:48.691Z"
   },
   {
    "duration": 21,
    "start_time": "2022-02-26T23:43:48.713Z"
   },
   {
    "duration": 329,
    "start_time": "2022-02-26T23:43:48.736Z"
   },
   {
    "duration": 127,
    "start_time": "2022-02-26T23:44:32.699Z"
   },
   {
    "duration": 46,
    "start_time": "2022-02-26T23:44:41.424Z"
   },
   {
    "duration": 45,
    "start_time": "2022-02-26T23:44:50.850Z"
   },
   {
    "duration": 49,
    "start_time": "2022-02-26T23:45:11.134Z"
   },
   {
    "duration": 212,
    "start_time": "2022-02-27T08:14:16.232Z"
   },
   {
    "duration": 953,
    "start_time": "2022-02-27T08:14:22.263Z"
   },
   {
    "duration": 15,
    "start_time": "2022-02-27T08:14:23.219Z"
   },
   {
    "duration": 5,
    "start_time": "2022-02-27T08:14:23.237Z"
   },
   {
    "duration": 41,
    "start_time": "2022-02-27T08:14:23.245Z"
   },
   {
    "duration": 13,
    "start_time": "2022-02-27T08:14:23.289Z"
   },
   {
    "duration": 40,
    "start_time": "2022-02-27T08:14:23.305Z"
   },
   {
    "duration": 116,
    "start_time": "2022-02-27T08:14:23.348Z"
   },
   {
    "duration": 36,
    "start_time": "2022-02-27T08:14:23.485Z"
   },
   {
    "duration": 5,
    "start_time": "2022-02-27T08:14:23.524Z"
   },
   {
    "duration": 7,
    "start_time": "2022-02-27T08:14:23.531Z"
   },
   {
    "duration": 13,
    "start_time": "2022-02-27T08:14:23.540Z"
   },
   {
    "duration": 37,
    "start_time": "2022-02-27T08:14:23.555Z"
   },
   {
    "duration": 38,
    "start_time": "2022-02-27T08:14:23.594Z"
   },
   {
    "duration": 69,
    "start_time": "2022-02-27T08:14:23.635Z"
   },
   {
    "duration": 37,
    "start_time": "2022-02-27T08:14:23.708Z"
   },
   {
    "duration": 62,
    "start_time": "2022-02-27T08:14:23.748Z"
   },
   {
    "duration": 58,
    "start_time": "2022-02-27T08:14:23.813Z"
   },
   {
    "duration": 892,
    "start_time": "2022-02-27T08:14:23.882Z"
   },
   {
    "duration": 38,
    "start_time": "2022-02-27T08:14:24.776Z"
   },
   {
    "duration": 31,
    "start_time": "2022-02-27T08:14:24.817Z"
   },
   {
    "duration": 3,
    "start_time": "2022-02-27T08:14:24.850Z"
   },
   {
    "duration": 15,
    "start_time": "2022-02-27T08:14:24.883Z"
   },
   {
    "duration": 286,
    "start_time": "2022-02-27T08:14:24.904Z"
   },
   {
    "duration": 574,
    "start_time": "2022-02-27T08:14:25.193Z"
   },
   {
    "duration": 19,
    "start_time": "2022-02-27T08:14:25.770Z"
   },
   {
    "duration": 11,
    "start_time": "2022-02-27T08:14:25.791Z"
   },
   {
    "duration": 574,
    "start_time": "2022-02-27T08:14:25.804Z"
   },
   {
    "duration": 11,
    "start_time": "2022-02-27T08:14:26.383Z"
   },
   {
    "duration": 317,
    "start_time": "2022-02-27T08:14:26.396Z"
   },
   {
    "duration": 13,
    "start_time": "2022-02-27T08:14:26.715Z"
   },
   {
    "duration": 321,
    "start_time": "2022-02-27T08:14:26.730Z"
   },
   {
    "duration": 12,
    "start_time": "2022-02-27T08:14:27.054Z"
   },
   {
    "duration": 5,
    "start_time": "2022-02-27T08:14:27.083Z"
   },
   {
    "duration": 15,
    "start_time": "2022-02-27T08:14:27.090Z"
   },
   {
    "duration": 546,
    "start_time": "2022-02-27T08:14:27.107Z"
   },
   {
    "duration": 374,
    "start_time": "2022-02-27T08:14:27.655Z"
   },
   {
    "duration": 1412,
    "start_time": "2022-02-27T08:14:28.032Z"
   },
   {
    "duration": 82,
    "start_time": "2022-02-27T08:14:29.447Z"
   },
   {
    "duration": 11,
    "start_time": "2022-02-27T08:14:29.532Z"
   },
   {
    "duration": 48,
    "start_time": "2022-02-27T08:14:29.545Z"
   },
   {
    "duration": 31,
    "start_time": "2022-02-27T08:14:29.595Z"
   },
   {
    "duration": 533,
    "start_time": "2022-02-27T08:14:29.628Z"
   },
   {
    "duration": 548,
    "start_time": "2022-02-27T08:15:45.235Z"
   },
   {
    "duration": 305,
    "start_time": "2022-02-27T08:16:03.380Z"
   },
   {
    "duration": 7,
    "start_time": "2022-02-27T08:16:31.544Z"
   },
   {
    "duration": 10,
    "start_time": "2022-02-27T08:16:42.298Z"
   },
   {
    "duration": 291,
    "start_time": "2022-02-27T08:17:55.360Z"
   },
   {
    "duration": 305,
    "start_time": "2022-02-27T08:18:12.163Z"
   },
   {
    "duration": 276,
    "start_time": "2022-02-27T08:18:37.967Z"
   },
   {
    "duration": 268,
    "start_time": "2022-02-27T08:21:37.980Z"
   },
   {
    "duration": 217,
    "start_time": "2022-02-27T08:22:32.330Z"
   },
   {
    "duration": 60,
    "start_time": "2022-02-27T08:23:24.675Z"
   },
   {
    "duration": 174,
    "start_time": "2022-02-27T08:23:35.296Z"
   },
   {
    "duration": 269,
    "start_time": "2022-02-27T08:24:13.642Z"
   },
   {
    "duration": 318,
    "start_time": "2022-02-27T08:24:23.676Z"
   },
   {
    "duration": 284,
    "start_time": "2022-02-27T08:24:46.976Z"
   },
   {
    "duration": 792,
    "start_time": "2022-02-27T08:39:09.495Z"
   },
   {
    "duration": 708,
    "start_time": "2022-02-27T08:39:17.890Z"
   },
   {
    "duration": 691,
    "start_time": "2022-02-27T08:40:07.957Z"
   },
   {
    "duration": 670,
    "start_time": "2022-02-27T08:41:40.433Z"
   },
   {
    "duration": 689,
    "start_time": "2022-02-27T08:41:54.913Z"
   },
   {
    "duration": 665,
    "start_time": "2022-02-27T08:42:05.017Z"
   },
   {
    "duration": 685,
    "start_time": "2022-02-27T08:42:06.321Z"
   },
   {
    "duration": 770,
    "start_time": "2022-02-27T08:42:34.971Z"
   },
   {
    "duration": 673,
    "start_time": "2022-02-27T08:43:40.331Z"
   },
   {
    "duration": 693,
    "start_time": "2022-02-27T08:48:13.552Z"
   },
   {
    "duration": 714,
    "start_time": "2022-02-27T08:48:26.645Z"
   },
   {
    "duration": 689,
    "start_time": "2022-02-27T08:48:37.870Z"
   },
   {
    "duration": 498,
    "start_time": "2022-02-27T08:51:02.097Z"
   },
   {
    "duration": 593,
    "start_time": "2022-02-27T08:51:46.428Z"
   },
   {
    "duration": 450,
    "start_time": "2022-02-27T08:52:03.605Z"
   },
   {
    "duration": 698,
    "start_time": "2022-02-27T08:52:25.109Z"
   },
   {
    "duration": 665,
    "start_time": "2022-02-27T08:52:37.448Z"
   },
   {
    "duration": 701,
    "start_time": "2022-02-27T08:52:39.033Z"
   },
   {
    "duration": 769,
    "start_time": "2022-02-27T08:52:39.737Z"
   },
   {
    "duration": 296,
    "start_time": "2022-02-27T08:53:07.857Z"
   },
   {
    "duration": 56,
    "start_time": "2022-02-27T08:53:40.304Z"
   },
   {
    "duration": 306,
    "start_time": "2022-02-27T08:53:44.344Z"
   },
   {
    "duration": 198,
    "start_time": "2022-02-27T08:59:31.356Z"
   },
   {
    "duration": 224,
    "start_time": "2022-02-27T09:00:47.550Z"
   },
   {
    "duration": 207,
    "start_time": "2022-02-27T09:01:33.968Z"
   },
   {
    "duration": 7,
    "start_time": "2022-02-27T09:02:10.534Z"
   },
   {
    "duration": 211,
    "start_time": "2022-02-27T09:02:56.532Z"
   },
   {
    "duration": 296,
    "start_time": "2022-02-27T09:11:10.790Z"
   },
   {
    "duration": 269,
    "start_time": "2022-02-27T09:11:25.607Z"
   },
   {
    "duration": 432,
    "start_time": "2022-02-27T09:11:44.444Z"
   },
   {
    "duration": 277,
    "start_time": "2022-02-27T09:12:04.405Z"
   },
   {
    "duration": 294,
    "start_time": "2022-02-27T09:12:41.083Z"
   },
   {
    "duration": 326,
    "start_time": "2022-02-27T09:13:02.190Z"
   },
   {
    "duration": 655,
    "start_time": "2022-02-27T09:19:18.132Z"
   },
   {
    "duration": 258,
    "start_time": "2022-02-27T09:19:33.391Z"
   },
   {
    "duration": 255,
    "start_time": "2022-02-27T09:19:44.677Z"
   },
   {
    "duration": 315,
    "start_time": "2022-02-27T12:11:51.140Z"
   },
   {
    "duration": 957,
    "start_time": "2022-02-27T12:11:57.131Z"
   },
   {
    "duration": 15,
    "start_time": "2022-02-27T12:11:58.091Z"
   },
   {
    "duration": 6,
    "start_time": "2022-02-27T12:11:58.109Z"
   },
   {
    "duration": 40,
    "start_time": "2022-02-27T12:11:58.117Z"
   },
   {
    "duration": 11,
    "start_time": "2022-02-27T12:11:58.160Z"
   },
   {
    "duration": 38,
    "start_time": "2022-02-27T12:11:58.174Z"
   },
   {
    "duration": 111,
    "start_time": "2022-02-27T12:11:58.215Z"
   },
   {
    "duration": 52,
    "start_time": "2022-02-27T12:11:58.330Z"
   },
   {
    "duration": 5,
    "start_time": "2022-02-27T12:11:58.386Z"
   },
   {
    "duration": 5,
    "start_time": "2022-02-27T12:11:58.393Z"
   },
   {
    "duration": 6,
    "start_time": "2022-02-27T12:11:58.401Z"
   },
   {
    "duration": 51,
    "start_time": "2022-02-27T12:11:58.409Z"
   },
   {
    "duration": 42,
    "start_time": "2022-02-27T12:11:58.462Z"
   },
   {
    "duration": 73,
    "start_time": "2022-02-27T12:11:58.507Z"
   },
   {
    "duration": 37,
    "start_time": "2022-02-27T12:11:58.583Z"
   },
   {
    "duration": 54,
    "start_time": "2022-02-27T12:11:58.622Z"
   },
   {
    "duration": 50,
    "start_time": "2022-02-27T12:11:58.678Z"
   },
   {
    "duration": 803,
    "start_time": "2022-02-27T12:11:58.731Z"
   },
   {
    "duration": 45,
    "start_time": "2022-02-27T12:11:59.537Z"
   },
   {
    "duration": 67,
    "start_time": "2022-02-27T12:11:59.585Z"
   },
   {
    "duration": 3,
    "start_time": "2022-02-27T12:11:59.655Z"
   },
   {
    "duration": 15,
    "start_time": "2022-02-27T12:11:59.661Z"
   },
   {
    "duration": 284,
    "start_time": "2022-02-27T12:11:59.683Z"
   },
   {
    "duration": 573,
    "start_time": "2022-02-27T12:11:59.971Z"
   },
   {
    "duration": 13,
    "start_time": "2022-02-27T12:12:00.546Z"
   },
   {
    "duration": 10,
    "start_time": "2022-02-27T12:12:00.561Z"
   },
   {
    "duration": 563,
    "start_time": "2022-02-27T12:12:00.573Z"
   },
   {
    "duration": 15,
    "start_time": "2022-02-27T12:12:01.138Z"
   },
   {
    "duration": 426,
    "start_time": "2022-02-27T12:12:01.155Z"
   },
   {
    "duration": 12,
    "start_time": "2022-02-27T12:12:01.583Z"
   },
   {
    "duration": 343,
    "start_time": "2022-02-27T12:12:01.598Z"
   },
   {
    "duration": 17,
    "start_time": "2022-02-27T12:12:01.943Z"
   },
   {
    "duration": 8,
    "start_time": "2022-02-27T12:12:01.962Z"
   },
   {
    "duration": 8,
    "start_time": "2022-02-27T12:12:01.973Z"
   },
   {
    "duration": 588,
    "start_time": "2022-02-27T12:12:01.983Z"
   },
   {
    "duration": 381,
    "start_time": "2022-02-27T12:12:02.574Z"
   },
   {
    "duration": 214,
    "start_time": "2022-02-27T12:12:02.957Z"
   },
   {
    "duration": 225,
    "start_time": "2022-02-27T12:12:03.174Z"
   },
   {
    "duration": 291,
    "start_time": "2022-02-27T12:12:03.401Z"
   },
   {
    "duration": 221,
    "start_time": "2022-02-27T12:12:03.695Z"
   },
   {
    "duration": 699,
    "start_time": "2022-02-27T12:12:03.918Z"
   },
   {
    "duration": 443,
    "start_time": "2022-02-27T12:12:04.620Z"
   },
   {
    "duration": 2353,
    "start_time": "2022-02-27T12:12:02.713Z"
   },
   {
    "duration": 2350,
    "start_time": "2022-02-27T12:12:02.719Z"
   },
   {
    "duration": 2348,
    "start_time": "2022-02-27T12:12:02.723Z"
   },
   {
    "duration": 2345,
    "start_time": "2022-02-27T12:12:02.728Z"
   },
   {
    "duration": 2343,
    "start_time": "2022-02-27T12:12:02.732Z"
   },
   {
    "duration": 2338,
    "start_time": "2022-02-27T12:12:02.739Z"
   },
   {
    "duration": 2336,
    "start_time": "2022-02-27T12:12:02.743Z"
   },
   {
    "duration": 272,
    "start_time": "2022-02-27T12:12:34.753Z"
   },
   {
    "duration": 35,
    "start_time": "2022-02-27T12:13:24.009Z"
   },
   {
    "duration": 35,
    "start_time": "2022-02-27T12:13:50.067Z"
   },
   {
    "duration": 39,
    "start_time": "2022-02-27T12:13:58.165Z"
   },
   {
    "duration": 263,
    "start_time": "2022-02-27T12:14:23.820Z"
   },
   {
    "duration": 273,
    "start_time": "2022-02-27T12:15:25.396Z"
   },
   {
    "duration": 32,
    "start_time": "2022-02-27T12:15:59.119Z"
   },
   {
    "duration": 23,
    "start_time": "2022-02-27T12:16:39.055Z"
   },
   {
    "duration": 24,
    "start_time": "2022-02-27T12:16:47.203Z"
   },
   {
    "duration": 83,
    "start_time": "2022-02-27T12:17:05.384Z"
   },
   {
    "duration": 6154,
    "start_time": "2022-02-27T12:17:22.993Z"
   },
   {
    "duration": 34,
    "start_time": "2022-02-27T12:17:44.519Z"
   },
   {
    "duration": 287,
    "start_time": "2022-02-27T12:18:55.457Z"
   },
   {
    "duration": 469,
    "start_time": "2022-02-27T12:19:34.607Z"
   },
   {
    "duration": 90,
    "start_time": "2022-02-27T12:19:40.663Z"
   },
   {
    "duration": 667,
    "start_time": "2022-02-27T12:19:44.822Z"
   },
   {
    "duration": 12,
    "start_time": "2022-02-27T12:22:49.628Z"
   },
   {
    "duration": 63,
    "start_time": "2022-02-27T12:22:55.993Z"
   },
   {
    "duration": 10,
    "start_time": "2022-02-27T12:23:33.626Z"
   },
   {
    "duration": 250,
    "start_time": "2022-02-27T12:24:31.345Z"
   },
   {
    "duration": 249,
    "start_time": "2022-02-27T12:25:20.323Z"
   },
   {
    "duration": 987,
    "start_time": "2022-02-27T12:25:29.476Z"
   },
   {
    "duration": 16,
    "start_time": "2022-02-27T12:25:30.465Z"
   },
   {
    "duration": 6,
    "start_time": "2022-02-27T12:25:30.484Z"
   },
   {
    "duration": 17,
    "start_time": "2022-02-27T12:25:30.494Z"
   },
   {
    "duration": 47,
    "start_time": "2022-02-27T12:25:30.514Z"
   },
   {
    "duration": 38,
    "start_time": "2022-02-27T12:25:30.563Z"
   },
   {
    "duration": 115,
    "start_time": "2022-02-27T12:25:30.604Z"
   },
   {
    "duration": 52,
    "start_time": "2022-02-27T12:25:30.723Z"
   },
   {
    "duration": 4,
    "start_time": "2022-02-27T12:25:30.778Z"
   },
   {
    "duration": 23,
    "start_time": "2022-02-27T12:25:30.785Z"
   },
   {
    "duration": 16,
    "start_time": "2022-02-27T12:25:30.811Z"
   },
   {
    "duration": 15,
    "start_time": "2022-02-27T12:25:30.829Z"
   },
   {
    "duration": 48,
    "start_time": "2022-02-27T12:25:30.846Z"
   },
   {
    "duration": 60,
    "start_time": "2022-02-27T12:25:30.897Z"
   },
   {
    "duration": 37,
    "start_time": "2022-02-27T12:25:30.959Z"
   },
   {
    "duration": 59,
    "start_time": "2022-02-27T12:25:30.999Z"
   },
   {
    "duration": 58,
    "start_time": "2022-02-27T12:25:31.060Z"
   },
   {
    "duration": 827,
    "start_time": "2022-02-27T12:25:31.121Z"
   },
   {
    "duration": 35,
    "start_time": "2022-02-27T12:25:31.952Z"
   },
   {
    "duration": 37,
    "start_time": "2022-02-27T12:25:31.990Z"
   },
   {
    "duration": 3,
    "start_time": "2022-02-27T12:25:32.052Z"
   },
   {
    "duration": 20,
    "start_time": "2022-02-27T12:25:32.057Z"
   },
   {
    "duration": 300,
    "start_time": "2022-02-27T12:25:32.083Z"
   },
   {
    "duration": 574,
    "start_time": "2022-02-27T12:25:32.386Z"
   },
   {
    "duration": 11,
    "start_time": "2022-02-27T12:25:32.962Z"
   },
   {
    "duration": 10,
    "start_time": "2022-02-27T12:25:32.976Z"
   },
   {
    "duration": 573,
    "start_time": "2022-02-27T12:25:32.988Z"
   },
   {
    "duration": 12,
    "start_time": "2022-02-27T12:25:33.563Z"
   },
   {
    "duration": 352,
    "start_time": "2022-02-27T12:25:33.578Z"
   },
   {
    "duration": 24,
    "start_time": "2022-02-27T12:25:33.932Z"
   },
   {
    "duration": 326,
    "start_time": "2022-02-27T12:25:33.959Z"
   },
   {
    "duration": 12,
    "start_time": "2022-02-27T12:25:34.287Z"
   },
   {
    "duration": 5,
    "start_time": "2022-02-27T12:25:34.301Z"
   },
   {
    "duration": 8,
    "start_time": "2022-02-27T12:25:34.309Z"
   },
   {
    "duration": 633,
    "start_time": "2022-02-27T12:25:34.320Z"
   },
   {
    "duration": 389,
    "start_time": "2022-02-27T12:25:34.955Z"
   },
   {
    "duration": 221,
    "start_time": "2022-02-27T12:25:35.347Z"
   },
   {
    "duration": 15,
    "start_time": "2022-02-27T12:25:35.570Z"
   },
   {
    "duration": 252,
    "start_time": "2022-02-27T12:25:35.587Z"
   },
   {
    "duration": 297,
    "start_time": "2022-02-27T12:25:35.842Z"
   },
   {
    "duration": 206,
    "start_time": "2022-02-27T12:25:36.141Z"
   },
   {
    "duration": 287,
    "start_time": "2022-02-27T12:25:36.351Z"
   },
   {
    "duration": 719,
    "start_time": "2022-02-27T12:25:36.641Z"
   },
   {
    "duration": 295,
    "start_time": "2022-02-27T12:25:37.363Z"
   },
   {
    "duration": 34,
    "start_time": "2022-02-27T12:25:37.661Z"
   },
   {
    "duration": 718,
    "start_time": "2022-02-27T12:25:37.698Z"
   },
   {
    "duration": 723,
    "start_time": "2022-02-27T12:25:38.419Z"
   },
   {
    "duration": 82,
    "start_time": "2022-02-27T12:25:39.145Z"
   },
   {
    "duration": 2384,
    "start_time": "2022-02-27T12:25:36.845Z"
   },
   {
    "duration": 2381,
    "start_time": "2022-02-27T12:25:36.850Z"
   },
   {
    "duration": 2378,
    "start_time": "2022-02-27T12:25:36.854Z"
   },
   {
    "duration": 2374,
    "start_time": "2022-02-27T12:25:36.859Z"
   },
   {
    "duration": 701,
    "start_time": "2022-02-27T12:26:20.933Z"
   },
   {
    "duration": 8,
    "start_time": "2022-02-27T12:26:49.979Z"
   },
   {
    "duration": 55,
    "start_time": "2022-02-27T12:26:56.901Z"
   },
   {
    "duration": 12,
    "start_time": "2022-02-27T12:27:18.834Z"
   },
   {
    "duration": 220,
    "start_time": "2022-02-27T12:27:20.363Z"
   },
   {
    "duration": 214,
    "start_time": "2022-02-27T12:27:21.915Z"
   },
   {
    "duration": 203,
    "start_time": "2022-02-27T12:27:22.609Z"
   },
   {
    "duration": 330,
    "start_time": "2022-02-27T12:27:26.077Z"
   },
   {
    "duration": 717,
    "start_time": "2022-02-27T12:27:30.463Z"
   },
   {
    "duration": 734,
    "start_time": "2022-02-27T12:27:42.547Z"
   },
   {
    "duration": 6642,
    "start_time": "2022-02-27T12:28:10.028Z"
   },
   {
    "duration": 295,
    "start_time": "2022-02-27T12:28:48.498Z"
   },
   {
    "duration": 396,
    "start_time": "2022-02-27T12:28:59.836Z"
   },
   {
    "duration": 22,
    "start_time": "2022-02-27T12:29:32.056Z"
   },
   {
    "duration": 292,
    "start_time": "2022-02-27T12:38:51.456Z"
   },
   {
    "duration": 93,
    "start_time": "2022-02-27T12:39:06.891Z"
   },
   {
    "duration": 54,
    "start_time": "2022-02-27T12:39:12.970Z"
   },
   {
    "duration": 67,
    "start_time": "2022-02-27T12:39:20.387Z"
   },
   {
    "duration": 11,
    "start_time": "2022-02-27T12:39:26.242Z"
   },
   {
    "duration": 34,
    "start_time": "2022-02-27T12:40:45.812Z"
   },
   {
    "duration": 45,
    "start_time": "2022-02-27T12:40:58.677Z"
   },
   {
    "duration": 57,
    "start_time": "2022-02-27T12:41:17.220Z"
   },
   {
    "duration": 55,
    "start_time": "2022-02-27T12:41:25.200Z"
   },
   {
    "duration": 67,
    "start_time": "2022-02-27T12:41:35.804Z"
   },
   {
    "duration": 64,
    "start_time": "2022-02-27T12:41:40.400Z"
   },
   {
    "duration": 66,
    "start_time": "2022-02-27T12:41:44.540Z"
   },
   {
    "duration": 63,
    "start_time": "2022-02-27T12:41:50.917Z"
   },
   {
    "duration": 70,
    "start_time": "2022-02-27T12:42:01.701Z"
   },
   {
    "duration": 70,
    "start_time": "2022-02-27T12:42:06.840Z"
   },
   {
    "duration": 11,
    "start_time": "2022-02-27T12:43:04.106Z"
   },
   {
    "duration": 352,
    "start_time": "2022-02-27T12:46:15.885Z"
   },
   {
    "duration": 6,
    "start_time": "2022-02-27T12:47:33.159Z"
   },
   {
    "duration": 6,
    "start_time": "2022-02-27T12:47:35.055Z"
   },
   {
    "duration": 69,
    "start_time": "2022-02-27T12:50:54.658Z"
   },
   {
    "duration": 62,
    "start_time": "2022-02-27T12:50:59.856Z"
   },
   {
    "duration": 61,
    "start_time": "2022-02-27T12:51:06.826Z"
   },
   {
    "duration": 62,
    "start_time": "2022-02-27T12:51:12.376Z"
   },
   {
    "duration": 63,
    "start_time": "2022-02-27T12:51:19.851Z"
   },
   {
    "duration": 10,
    "start_time": "2022-02-27T12:52:06.363Z"
   },
   {
    "duration": 12,
    "start_time": "2022-02-27T12:53:28.667Z"
   },
   {
    "duration": 271,
    "start_time": "2022-02-27T12:55:32.770Z"
   },
   {
    "duration": 918,
    "start_time": "2022-02-27T12:55:39.186Z"
   },
   {
    "duration": 15,
    "start_time": "2022-02-27T12:55:40.107Z"
   },
   {
    "duration": 6,
    "start_time": "2022-02-27T12:55:40.125Z"
   },
   {
    "duration": 29,
    "start_time": "2022-02-27T12:55:40.133Z"
   },
   {
    "duration": 12,
    "start_time": "2022-02-27T12:55:40.164Z"
   },
   {
    "duration": 39,
    "start_time": "2022-02-27T12:55:40.178Z"
   },
   {
    "duration": 99,
    "start_time": "2022-02-27T12:55:40.252Z"
   },
   {
    "duration": 37,
    "start_time": "2022-02-27T12:55:40.355Z"
   },
   {
    "duration": 4,
    "start_time": "2022-02-27T12:55:40.395Z"
   },
   {
    "duration": 5,
    "start_time": "2022-02-27T12:55:40.401Z"
   },
   {
    "duration": 7,
    "start_time": "2022-02-27T12:55:40.408Z"
   },
   {
    "duration": 42,
    "start_time": "2022-02-27T12:55:40.417Z"
   },
   {
    "duration": 43,
    "start_time": "2022-02-27T12:55:40.461Z"
   },
   {
    "duration": 63,
    "start_time": "2022-02-27T12:55:40.507Z"
   },
   {
    "duration": 35,
    "start_time": "2022-02-27T12:55:40.573Z"
   },
   {
    "duration": 59,
    "start_time": "2022-02-27T12:55:40.610Z"
   },
   {
    "duration": 50,
    "start_time": "2022-02-27T12:55:40.672Z"
   },
   {
    "duration": 920,
    "start_time": "2022-02-27T12:55:40.724Z"
   },
   {
    "duration": 37,
    "start_time": "2022-02-27T12:55:41.646Z"
   },
   {
    "duration": 33,
    "start_time": "2022-02-27T12:55:41.686Z"
   },
   {
    "duration": 32,
    "start_time": "2022-02-27T12:55:41.721Z"
   },
   {
    "duration": 14,
    "start_time": "2022-02-27T12:55:41.756Z"
   },
   {
    "duration": 282,
    "start_time": "2022-02-27T12:55:41.777Z"
   },
   {
    "duration": 837,
    "start_time": "2022-02-27T12:55:42.063Z"
   },
   {
    "duration": 16,
    "start_time": "2022-02-27T12:55:42.903Z"
   },
   {
    "duration": 36,
    "start_time": "2022-02-27T12:55:42.922Z"
   },
   {
    "duration": 926,
    "start_time": "2022-02-27T12:55:42.961Z"
   },
   {
    "duration": 12,
    "start_time": "2022-02-27T12:55:43.890Z"
   },
   {
    "duration": 344,
    "start_time": "2022-02-27T12:55:43.905Z"
   },
   {
    "duration": 13,
    "start_time": "2022-02-27T12:55:44.252Z"
   },
   {
    "duration": 324,
    "start_time": "2022-02-27T12:55:44.267Z"
   },
   {
    "duration": 12,
    "start_time": "2022-02-27T12:55:44.593Z"
   },
   {
    "duration": 5,
    "start_time": "2022-02-27T12:55:44.607Z"
   },
   {
    "duration": 15,
    "start_time": "2022-02-27T12:55:44.614Z"
   },
   {
    "duration": 645,
    "start_time": "2022-02-27T12:55:44.651Z"
   },
   {
    "duration": 385,
    "start_time": "2022-02-27T12:55:45.299Z"
   },
   {
    "duration": 225,
    "start_time": "2022-02-27T12:55:45.686Z"
   },
   {
    "duration": 13,
    "start_time": "2022-02-27T12:55:45.914Z"
   },
   {
    "duration": 236,
    "start_time": "2022-02-27T12:55:45.930Z"
   },
   {
    "duration": 13,
    "start_time": "2022-02-27T12:55:46.168Z"
   },
   {
    "duration": 295,
    "start_time": "2022-02-27T12:55:46.183Z"
   },
   {
    "duration": 15,
    "start_time": "2022-02-27T12:55:46.481Z"
   },
   {
    "duration": 250,
    "start_time": "2022-02-27T12:55:46.498Z"
   },
   {
    "duration": 12,
    "start_time": "2022-02-27T12:55:46.751Z"
   },
   {
    "duration": 729,
    "start_time": "2022-02-27T12:55:46.765Z"
   },
   {
    "duration": 339,
    "start_time": "2022-02-27T12:55:47.496Z"
   },
   {
    "duration": 2391,
    "start_time": "2022-02-27T12:55:45.447Z"
   },
   {
    "duration": 2386,
    "start_time": "2022-02-27T12:55:45.453Z"
   },
   {
    "duration": 2384,
    "start_time": "2022-02-27T12:55:45.457Z"
   },
   {
    "duration": 2380,
    "start_time": "2022-02-27T12:55:45.462Z"
   },
   {
    "duration": 2368,
    "start_time": "2022-02-27T12:55:45.476Z"
   },
   {
    "duration": 2364,
    "start_time": "2022-02-27T12:55:45.481Z"
   },
   {
    "duration": 2360,
    "start_time": "2022-02-27T12:55:45.486Z"
   },
   {
    "duration": 2357,
    "start_time": "2022-02-27T12:55:45.491Z"
   },
   {
    "duration": 2352,
    "start_time": "2022-02-27T12:55:45.497Z"
   },
   {
    "duration": 748,
    "start_time": "2022-02-27T13:01:41.349Z"
   },
   {
    "duration": 1009,
    "start_time": "2022-02-27T13:02:27.805Z"
   },
   {
    "duration": 78,
    "start_time": "2022-02-27T13:02:34.972Z"
   },
   {
    "duration": 342,
    "start_time": "2022-02-27T13:03:22.292Z"
   },
   {
    "duration": 353,
    "start_time": "2022-02-27T13:03:43.100Z"
   },
   {
    "duration": 1006,
    "start_time": "2022-02-27T13:06:20.331Z"
   },
   {
    "duration": 23,
    "start_time": "2022-02-27T13:06:21.341Z"
   },
   {
    "duration": 7,
    "start_time": "2022-02-27T13:06:21.368Z"
   },
   {
    "duration": 15,
    "start_time": "2022-02-27T13:06:21.378Z"
   },
   {
    "duration": 56,
    "start_time": "2022-02-27T13:06:21.396Z"
   },
   {
    "duration": 40,
    "start_time": "2022-02-27T13:06:21.455Z"
   },
   {
    "duration": 109,
    "start_time": "2022-02-27T13:06:21.497Z"
   },
   {
    "duration": 50,
    "start_time": "2022-02-27T13:06:21.610Z"
   },
   {
    "duration": 5,
    "start_time": "2022-02-27T13:06:21.663Z"
   },
   {
    "duration": 8,
    "start_time": "2022-02-27T13:06:21.670Z"
   },
   {
    "duration": 6,
    "start_time": "2022-02-27T13:06:21.680Z"
   },
   {
    "duration": 14,
    "start_time": "2022-02-27T13:06:21.689Z"
   },
   {
    "duration": 87,
    "start_time": "2022-02-27T13:06:21.706Z"
   },
   {
    "duration": 76,
    "start_time": "2022-02-27T13:06:21.795Z"
   },
   {
    "duration": 53,
    "start_time": "2022-02-27T13:06:21.874Z"
   },
   {
    "duration": 69,
    "start_time": "2022-02-27T13:06:21.930Z"
   },
   {
    "duration": 77,
    "start_time": "2022-02-27T13:06:22.001Z"
   },
   {
    "duration": 819,
    "start_time": "2022-02-27T13:06:22.080Z"
   },
   {
    "duration": 52,
    "start_time": "2022-02-27T13:06:22.901Z"
   },
   {
    "duration": 35,
    "start_time": "2022-02-27T13:06:22.955Z"
   },
   {
    "duration": 3,
    "start_time": "2022-02-27T13:06:22.992Z"
   },
   {
    "duration": 15,
    "start_time": "2022-02-27T13:06:22.998Z"
   },
   {
    "duration": 283,
    "start_time": "2022-02-27T13:06:23.018Z"
   },
   {
    "duration": 554,
    "start_time": "2022-02-27T13:06:23.304Z"
   },
   {
    "duration": 13,
    "start_time": "2022-02-27T13:06:23.860Z"
   },
   {
    "duration": 12,
    "start_time": "2022-02-27T13:06:23.876Z"
   },
   {
    "duration": 549,
    "start_time": "2022-02-27T13:06:23.891Z"
   },
   {
    "duration": 12,
    "start_time": "2022-02-27T13:06:24.450Z"
   },
   {
    "duration": 321,
    "start_time": "2022-02-27T13:06:24.465Z"
   },
   {
    "duration": 13,
    "start_time": "2022-02-27T13:06:24.789Z"
   },
   {
    "duration": 346,
    "start_time": "2022-02-27T13:06:24.805Z"
   },
   {
    "duration": 14,
    "start_time": "2022-02-27T13:06:25.154Z"
   },
   {
    "duration": 17,
    "start_time": "2022-02-27T13:06:25.171Z"
   },
   {
    "duration": 22,
    "start_time": "2022-02-27T13:06:25.191Z"
   },
   {
    "duration": 547,
    "start_time": "2022-02-27T13:06:25.215Z"
   },
   {
    "duration": 376,
    "start_time": "2022-02-27T13:06:25.765Z"
   },
   {
    "duration": 214,
    "start_time": "2022-02-27T13:06:26.150Z"
   },
   {
    "duration": 14,
    "start_time": "2022-02-27T13:06:26.366Z"
   },
   {
    "duration": 233,
    "start_time": "2022-02-27T13:06:26.382Z"
   },
   {
    "duration": 13,
    "start_time": "2022-02-27T13:06:26.617Z"
   },
   {
    "duration": 293,
    "start_time": "2022-02-27T13:06:26.632Z"
   },
   {
    "duration": 12,
    "start_time": "2022-02-27T13:06:26.927Z"
   },
   {
    "duration": 230,
    "start_time": "2022-02-27T13:06:26.952Z"
   },
   {
    "duration": 14,
    "start_time": "2022-02-27T13:06:27.185Z"
   },
   {
    "duration": 773,
    "start_time": "2022-02-27T13:06:27.201Z"
   },
   {
    "duration": 990,
    "start_time": "2022-02-27T13:08:16.480Z"
   },
   {
    "duration": 15,
    "start_time": "2022-02-27T13:08:17.473Z"
   },
   {
    "duration": 6,
    "start_time": "2022-02-27T13:08:17.491Z"
   },
   {
    "duration": 15,
    "start_time": "2022-02-27T13:08:17.500Z"
   },
   {
    "duration": 12,
    "start_time": "2022-02-27T13:08:17.551Z"
   },
   {
    "duration": 42,
    "start_time": "2022-02-27T13:08:17.566Z"
   },
   {
    "duration": 124,
    "start_time": "2022-02-27T13:08:17.611Z"
   },
   {
    "duration": 45,
    "start_time": "2022-02-27T13:08:17.739Z"
   },
   {
    "duration": 6,
    "start_time": "2022-02-27T13:08:17.789Z"
   },
   {
    "duration": 7,
    "start_time": "2022-02-27T13:08:17.798Z"
   },
   {
    "duration": 43,
    "start_time": "2022-02-27T13:08:17.808Z"
   },
   {
    "duration": 12,
    "start_time": "2022-02-27T13:08:17.855Z"
   },
   {
    "duration": 43,
    "start_time": "2022-02-27T13:08:17.870Z"
   },
   {
    "duration": 67,
    "start_time": "2022-02-27T13:08:17.916Z"
   },
   {
    "duration": 37,
    "start_time": "2022-02-27T13:08:17.985Z"
   },
   {
    "duration": 57,
    "start_time": "2022-02-27T13:08:18.025Z"
   },
   {
    "duration": 74,
    "start_time": "2022-02-27T13:08:18.084Z"
   },
   {
    "duration": 919,
    "start_time": "2022-02-27T13:08:18.161Z"
   },
   {
    "duration": 36,
    "start_time": "2022-02-27T13:08:19.083Z"
   },
   {
    "duration": 44,
    "start_time": "2022-02-27T13:08:19.121Z"
   },
   {
    "duration": 7,
    "start_time": "2022-02-27T13:08:19.167Z"
   },
   {
    "duration": 15,
    "start_time": "2022-02-27T13:08:19.176Z"
   },
   {
    "duration": 266,
    "start_time": "2022-02-27T13:08:19.197Z"
   },
   {
    "duration": 717,
    "start_time": "2022-02-27T13:08:19.467Z"
   },
   {
    "duration": 12,
    "start_time": "2022-02-27T13:08:20.186Z"
   },
   {
    "duration": 13,
    "start_time": "2022-02-27T13:08:20.251Z"
   },
   {
    "duration": 684,
    "start_time": "2022-02-27T13:08:20.267Z"
   },
   {
    "duration": 11,
    "start_time": "2022-02-27T13:08:20.954Z"
   },
   {
    "duration": 564,
    "start_time": "2022-02-27T13:08:20.968Z"
   },
   {
    "duration": 25,
    "start_time": "2022-02-27T13:08:21.535Z"
   },
   {
    "duration": 545,
    "start_time": "2022-02-27T13:08:21.563Z"
   },
   {
    "duration": 17,
    "start_time": "2022-02-27T13:08:22.111Z"
   },
   {
    "duration": 26,
    "start_time": "2022-02-27T13:08:22.131Z"
   },
   {
    "duration": 18,
    "start_time": "2022-02-27T13:08:22.160Z"
   },
   {
    "duration": 863,
    "start_time": "2022-02-27T13:08:22.181Z"
   },
   {
    "duration": 406,
    "start_time": "2022-02-27T13:08:23.051Z"
   },
   {
    "duration": 248,
    "start_time": "2022-02-27T13:08:23.459Z"
   },
   {
    "duration": 14,
    "start_time": "2022-02-27T13:08:23.710Z"
   },
   {
    "duration": 337,
    "start_time": "2022-02-27T13:08:23.727Z"
   },
   {
    "duration": 15,
    "start_time": "2022-02-27T13:08:24.067Z"
   },
   {
    "duration": 309,
    "start_time": "2022-02-27T13:08:24.085Z"
   },
   {
    "duration": 15,
    "start_time": "2022-02-27T13:08:24.397Z"
   },
   {
    "duration": 283,
    "start_time": "2022-02-27T13:08:24.414Z"
   },
   {
    "duration": 14,
    "start_time": "2022-02-27T13:08:24.700Z"
   },
   {
    "duration": 790,
    "start_time": "2022-02-27T13:08:24.717Z"
   },
   {
    "duration": 783,
    "start_time": "2022-02-27T13:08:25.510Z"
   },
   {
    "duration": 311,
    "start_time": "2022-02-27T13:08:26.296Z"
   },
   {
    "duration": 47,
    "start_time": "2022-02-27T13:08:26.611Z"
   },
   {
    "duration": 728,
    "start_time": "2022-02-27T13:08:26.661Z"
   },
   {
    "duration": 686,
    "start_time": "2022-02-27T13:08:27.391Z"
   },
   {
    "duration": 97,
    "start_time": "2022-02-27T13:08:28.080Z"
   },
   {
    "duration": 2366,
    "start_time": "2022-02-27T13:08:25.813Z"
   },
   {
    "duration": 2362,
    "start_time": "2022-02-27T13:08:25.819Z"
   },
   {
    "duration": 2360,
    "start_time": "2022-02-27T13:08:25.823Z"
   },
   {
    "duration": 2354,
    "start_time": "2022-02-27T13:08:25.831Z"
   },
   {
    "duration": 291,
    "start_time": "2022-02-27T13:10:29.889Z"
   },
   {
    "duration": 11,
    "start_time": "2022-02-27T13:10:30.769Z"
   },
   {
    "duration": 27,
    "start_time": "2022-02-27T13:10:31.296Z"
   },
   {
    "duration": 36,
    "start_time": "2022-02-27T13:10:32.391Z"
   },
   {
    "duration": 34,
    "start_time": "2022-02-27T13:12:49.698Z"
   },
   {
    "duration": 266,
    "start_time": "2022-02-27T13:12:50.994Z"
   },
   {
    "duration": 286,
    "start_time": "2022-02-27T13:13:09.730Z"
   },
   {
    "duration": 726,
    "start_time": "2022-02-27T16:10:00.070Z"
   },
   {
    "duration": 343,
    "start_time": "2022-02-27T16:11:55.908Z"
   },
   {
    "duration": 284,
    "start_time": "2022-02-27T16:12:01.832Z"
   },
   {
    "duration": 56,
    "start_time": "2022-02-27T16:15:27.626Z"
   },
   {
    "duration": 59,
    "start_time": "2022-02-27T16:15:43.238Z"
   },
   {
    "duration": 61,
    "start_time": "2022-02-27T16:26:13.583Z"
   },
   {
    "duration": 65,
    "start_time": "2022-02-27T16:26:22.542Z"
   },
   {
    "duration": 16,
    "start_time": "2022-02-27T16:26:41.795Z"
   },
   {
    "duration": 18,
    "start_time": "2022-02-27T16:27:01.219Z"
   },
   {
    "duration": 14,
    "start_time": "2022-02-27T16:27:10.594Z"
   },
   {
    "duration": 57,
    "start_time": "2022-02-27T16:27:15.806Z"
   },
   {
    "duration": 61,
    "start_time": "2022-02-27T16:27:19.479Z"
   },
   {
    "duration": 63,
    "start_time": "2022-02-27T16:27:23.280Z"
   },
   {
    "duration": 64,
    "start_time": "2022-02-27T16:27:27.381Z"
   },
   {
    "duration": 65,
    "start_time": "2022-02-27T16:27:31.948Z"
   },
   {
    "duration": 64,
    "start_time": "2022-02-27T16:27:39.637Z"
   },
   {
    "duration": 55,
    "start_time": "2022-02-27T16:27:56.228Z"
   },
   {
    "duration": 63,
    "start_time": "2022-02-27T16:28:02.158Z"
   },
   {
    "duration": 672,
    "start_time": "2022-02-27T16:28:36.287Z"
   },
   {
    "duration": 618,
    "start_time": "2022-02-27T16:29:24.639Z"
   },
   {
    "duration": 12,
    "start_time": "2022-02-27T16:30:38.826Z"
   },
   {
    "duration": 6,
    "start_time": "2022-02-27T16:31:58.393Z"
   },
   {
    "duration": 61,
    "start_time": "2022-02-27T16:32:09.297Z"
   },
   {
    "duration": 952,
    "start_time": "2022-02-27T16:32:33.976Z"
   },
   {
    "duration": 26,
    "start_time": "2022-02-27T16:32:34.931Z"
   },
   {
    "duration": 5,
    "start_time": "2022-02-27T16:32:34.960Z"
   },
   {
    "duration": 14,
    "start_time": "2022-02-27T16:32:34.968Z"
   },
   {
    "duration": 11,
    "start_time": "2022-02-27T16:32:34.985Z"
   },
   {
    "duration": 76,
    "start_time": "2022-02-27T16:32:34.998Z"
   },
   {
    "duration": 104,
    "start_time": "2022-02-27T16:32:35.077Z"
   },
   {
    "duration": 36,
    "start_time": "2022-02-27T16:32:35.184Z"
   },
   {
    "duration": 4,
    "start_time": "2022-02-27T16:32:35.223Z"
   },
   {
    "duration": 4,
    "start_time": "2022-02-27T16:32:35.251Z"
   },
   {
    "duration": 5,
    "start_time": "2022-02-27T16:32:35.257Z"
   },
   {
    "duration": 15,
    "start_time": "2022-02-27T16:32:35.264Z"
   },
   {
    "duration": 70,
    "start_time": "2022-02-27T16:32:35.282Z"
   },
   {
    "duration": 43,
    "start_time": "2022-02-27T16:32:35.355Z"
   },
   {
    "duration": 57,
    "start_time": "2022-02-27T16:32:35.400Z"
   },
   {
    "duration": 39,
    "start_time": "2022-02-27T16:32:35.459Z"
   },
   {
    "duration": 82,
    "start_time": "2022-02-27T16:32:35.500Z"
   },
   {
    "duration": 817,
    "start_time": "2022-02-27T16:32:35.585Z"
   },
   {
    "duration": 51,
    "start_time": "2022-02-27T16:32:36.404Z"
   },
   {
    "duration": 35,
    "start_time": "2022-02-27T16:32:36.457Z"
   },
   {
    "duration": 3,
    "start_time": "2022-02-27T16:32:36.494Z"
   },
   {
    "duration": 16,
    "start_time": "2022-02-27T16:32:36.499Z"
   },
   {
    "duration": 304,
    "start_time": "2022-02-27T16:32:36.520Z"
   },
   {
    "duration": 584,
    "start_time": "2022-02-27T16:32:36.829Z"
   },
   {
    "duration": 11,
    "start_time": "2022-02-27T16:32:37.416Z"
   },
   {
    "duration": 27,
    "start_time": "2022-02-27T16:32:37.429Z"
   },
   {
    "duration": 540,
    "start_time": "2022-02-27T16:32:37.458Z"
   },
   {
    "duration": 11,
    "start_time": "2022-02-27T16:32:38.000Z"
   },
   {
    "duration": 316,
    "start_time": "2022-02-27T16:32:38.013Z"
   },
   {
    "duration": 20,
    "start_time": "2022-02-27T16:32:38.331Z"
   },
   {
    "duration": 312,
    "start_time": "2022-02-27T16:32:38.354Z"
   },
   {
    "duration": 13,
    "start_time": "2022-02-27T16:32:38.669Z"
   },
   {
    "duration": 6,
    "start_time": "2022-02-27T16:32:38.685Z"
   },
   {
    "duration": 7,
    "start_time": "2022-02-27T16:32:38.693Z"
   },
   {
    "duration": 568,
    "start_time": "2022-02-27T16:32:38.704Z"
   },
   {
    "duration": 379,
    "start_time": "2022-02-27T16:32:39.275Z"
   },
   {
    "duration": 226,
    "start_time": "2022-02-27T16:32:39.656Z"
   },
   {
    "duration": 14,
    "start_time": "2022-02-27T16:32:39.884Z"
   },
   {
    "duration": 236,
    "start_time": "2022-02-27T16:32:39.900Z"
   },
   {
    "duration": 21,
    "start_time": "2022-02-27T16:32:40.138Z"
   },
   {
    "duration": 285,
    "start_time": "2022-02-27T16:32:40.162Z"
   },
   {
    "duration": 13,
    "start_time": "2022-02-27T16:32:40.451Z"
   },
   {
    "duration": 243,
    "start_time": "2022-02-27T16:32:40.466Z"
   },
   {
    "duration": 13,
    "start_time": "2022-02-27T16:32:40.711Z"
   },
   {
    "duration": 239,
    "start_time": "2022-02-27T16:32:40.727Z"
   },
   {
    "duration": 13,
    "start_time": "2022-02-27T16:32:40.969Z"
   },
   {
    "duration": 731,
    "start_time": "2022-02-27T16:32:40.984Z"
   },
   {
    "duration": 707,
    "start_time": "2022-02-27T16:32:41.717Z"
   },
   {
    "duration": 587,
    "start_time": "2022-02-27T16:32:42.427Z"
   },
   {
    "duration": 696,
    "start_time": "2022-02-27T16:32:43.017Z"
   },
   {
    "duration": 284,
    "start_time": "2022-02-27T16:32:43.716Z"
   },
   {
    "duration": 11,
    "start_time": "2022-02-27T16:32:44.003Z"
   },
   {
    "duration": 46,
    "start_time": "2022-02-27T16:32:44.016Z"
   },
   {
    "duration": 33,
    "start_time": "2022-02-27T16:32:44.064Z"
   },
   {
    "duration": 293,
    "start_time": "2022-02-27T16:32:44.100Z"
   },
   {
    "duration": 36,
    "start_time": "2022-02-27T16:33:16.838Z"
   },
   {
    "duration": 287,
    "start_time": "2022-02-27T16:33:18.178Z"
   },
   {
    "duration": 283,
    "start_time": "2022-02-27T16:33:44.376Z"
   },
   {
    "duration": 334,
    "start_time": "2022-02-27T16:33:49.564Z"
   },
   {
    "duration": 276,
    "start_time": "2022-02-27T16:34:28.529Z"
   },
   {
    "duration": 271,
    "start_time": "2022-02-27T16:35:30.563Z"
   },
   {
    "duration": 265,
    "start_time": "2022-02-27T16:36:04.967Z"
   },
   {
    "duration": 727,
    "start_time": "2022-02-27T16:36:51.167Z"
   },
   {
    "duration": 745,
    "start_time": "2022-02-27T16:37:32.339Z"
   },
   {
    "duration": 355,
    "start_time": "2022-02-27T16:40:00.386Z"
   },
   {
    "duration": 251,
    "start_time": "2022-02-27T16:41:23.745Z"
   },
   {
    "duration": 28,
    "start_time": "2022-02-27T16:41:51.787Z"
   },
   {
    "duration": 60,
    "start_time": "2022-02-27T16:42:09.809Z"
   },
   {
    "duration": 291,
    "start_time": "2022-02-27T16:42:21.840Z"
   },
   {
    "duration": 11,
    "start_time": "2022-02-27T16:46:30.363Z"
   },
   {
    "duration": 80,
    "start_time": "2022-02-27T16:47:46.268Z"
   },
   {
    "duration": 88,
    "start_time": "2022-02-27T16:48:03.523Z"
   },
   {
    "duration": 77,
    "start_time": "2022-02-27T16:48:24.113Z"
   },
   {
    "duration": 118,
    "start_time": "2022-02-27T16:48:48.903Z"
   },
   {
    "duration": 296,
    "start_time": "2022-02-27T16:48:58.814Z"
   },
   {
    "duration": 79,
    "start_time": "2022-02-27T16:49:23.079Z"
   },
   {
    "duration": 82,
    "start_time": "2022-02-27T16:49:36.959Z"
   },
   {
    "duration": 283,
    "start_time": "2022-02-27T16:49:50.372Z"
   },
   {
    "duration": 244,
    "start_time": "2022-02-27T16:53:55.058Z"
   },
   {
    "duration": 292,
    "start_time": "2022-02-27T16:54:40.493Z"
   },
   {
    "duration": 283,
    "start_time": "2022-02-27T16:56:00.177Z"
   },
   {
    "duration": 341,
    "start_time": "2022-02-27T16:56:09.695Z"
   },
   {
    "duration": 289,
    "start_time": "2022-02-27T17:00:08.798Z"
   },
   {
    "duration": 305,
    "start_time": "2022-02-27T17:00:27.539Z"
   },
   {
    "duration": 306,
    "start_time": "2022-02-27T17:00:34.515Z"
   },
   {
    "duration": 264,
    "start_time": "2022-02-27T17:01:47.777Z"
   },
   {
    "duration": 288,
    "start_time": "2022-02-27T17:02:09.193Z"
   },
   {
    "duration": 397,
    "start_time": "2022-02-27T17:02:53.969Z"
   },
   {
    "duration": 12,
    "start_time": "2022-02-27T17:03:09.303Z"
   },
   {
    "duration": 994,
    "start_time": "2022-02-27T17:03:15.042Z"
   },
   {
    "duration": 20,
    "start_time": "2022-02-27T17:03:16.039Z"
   },
   {
    "duration": 6,
    "start_time": "2022-02-27T17:03:16.062Z"
   },
   {
    "duration": 15,
    "start_time": "2022-02-27T17:03:16.071Z"
   },
   {
    "duration": 12,
    "start_time": "2022-02-27T17:03:16.088Z"
   },
   {
    "duration": 75,
    "start_time": "2022-02-27T17:03:16.103Z"
   },
   {
    "duration": 98,
    "start_time": "2022-02-27T17:03:16.180Z"
   },
   {
    "duration": 38,
    "start_time": "2022-02-27T17:03:16.282Z"
   },
   {
    "duration": 4,
    "start_time": "2022-02-27T17:03:16.323Z"
   },
   {
    "duration": 4,
    "start_time": "2022-02-27T17:03:16.352Z"
   },
   {
    "duration": 7,
    "start_time": "2022-02-27T17:03:16.359Z"
   },
   {
    "duration": 14,
    "start_time": "2022-02-27T17:03:16.368Z"
   },
   {
    "duration": 69,
    "start_time": "2022-02-27T17:03:16.385Z"
   },
   {
    "duration": 46,
    "start_time": "2022-02-27T17:03:16.456Z"
   },
   {
    "duration": 60,
    "start_time": "2022-02-27T17:03:16.505Z"
   },
   {
    "duration": 36,
    "start_time": "2022-02-27T17:03:16.568Z"
   },
   {
    "duration": 83,
    "start_time": "2022-02-27T17:03:16.607Z"
   },
   {
    "duration": 832,
    "start_time": "2022-02-27T17:03:16.693Z"
   },
   {
    "duration": 54,
    "start_time": "2022-02-27T17:03:17.527Z"
   },
   {
    "duration": 35,
    "start_time": "2022-02-27T17:03:17.584Z"
   },
   {
    "duration": 3,
    "start_time": "2022-02-27T17:03:17.621Z"
   },
   {
    "duration": 37,
    "start_time": "2022-02-27T17:03:17.626Z"
   },
   {
    "duration": 287,
    "start_time": "2022-02-27T17:03:17.670Z"
   },
   {
    "duration": 594,
    "start_time": "2022-02-27T17:03:17.962Z"
   },
   {
    "duration": 14,
    "start_time": "2022-02-27T17:03:18.559Z"
   },
   {
    "duration": 13,
    "start_time": "2022-02-27T17:03:18.575Z"
   },
   {
    "duration": 670,
    "start_time": "2022-02-27T17:03:18.591Z"
   },
   {
    "duration": 13,
    "start_time": "2022-02-27T17:03:19.264Z"
   },
   {
    "duration": 338,
    "start_time": "2022-02-27T17:03:19.279Z"
   },
   {
    "duration": 13,
    "start_time": "2022-02-27T17:03:19.621Z"
   },
   {
    "duration": 321,
    "start_time": "2022-02-27T17:03:19.652Z"
   },
   {
    "duration": 14,
    "start_time": "2022-02-27T17:03:19.976Z"
   },
   {
    "duration": 6,
    "start_time": "2022-02-27T17:03:19.993Z"
   },
   {
    "duration": 12,
    "start_time": "2022-02-27T17:03:20.001Z"
   },
   {
    "duration": 586,
    "start_time": "2022-02-27T17:03:20.016Z"
   },
   {
    "duration": 396,
    "start_time": "2022-02-27T17:03:20.604Z"
   },
   {
    "duration": 215,
    "start_time": "2022-02-27T17:03:21.003Z"
   },
   {
    "duration": 31,
    "start_time": "2022-02-27T17:03:21.220Z"
   },
   {
    "duration": 220,
    "start_time": "2022-02-27T17:03:21.253Z"
   },
   {
    "duration": 13,
    "start_time": "2022-02-27T17:03:21.476Z"
   },
   {
    "duration": 317,
    "start_time": "2022-02-27T17:03:21.491Z"
   },
   {
    "duration": 14,
    "start_time": "2022-02-27T17:03:21.811Z"
   },
   {
    "duration": 272,
    "start_time": "2022-02-27T17:03:21.827Z"
   },
   {
    "duration": 13,
    "start_time": "2022-02-27T17:03:22.101Z"
   },
   {
    "duration": 246,
    "start_time": "2022-02-27T17:03:22.116Z"
   },
   {
    "duration": 12,
    "start_time": "2022-02-27T17:03:22.364Z"
   },
   {
    "duration": 701,
    "start_time": "2022-02-27T17:03:22.379Z"
   },
   {
    "duration": 683,
    "start_time": "2022-02-27T17:03:23.083Z"
   },
   {
    "duration": 617,
    "start_time": "2022-02-27T17:03:23.768Z"
   },
   {
    "duration": 681,
    "start_time": "2022-02-27T17:03:24.387Z"
   },
   {
    "duration": 299,
    "start_time": "2022-02-27T17:03:25.071Z"
   },
   {
    "duration": 10,
    "start_time": "2022-02-27T17:03:25.372Z"
   },
   {
    "duration": 26,
    "start_time": "2022-02-27T17:03:25.385Z"
   },
   {
    "duration": 64,
    "start_time": "2022-02-27T17:03:25.413Z"
   },
   {
    "duration": 12,
    "start_time": "2022-02-27T17:03:25.479Z"
   },
   {
    "duration": 361,
    "start_time": "2022-02-27T17:03:25.493Z"
   },
   {
    "duration": 295,
    "start_time": "2022-02-27T17:03:49.588Z"
   },
   {
    "duration": 282,
    "start_time": "2022-02-27T17:06:22.168Z"
   },
   {
    "duration": 291,
    "start_time": "2022-02-27T17:06:55.985Z"
   },
   {
    "duration": 58,
    "start_time": "2022-02-27T17:07:23.176Z"
   },
   {
    "duration": 53,
    "start_time": "2022-02-27T17:08:08.798Z"
   },
   {
    "duration": 255,
    "start_time": "2022-02-27T17:08:10.046Z"
   },
   {
    "duration": 742,
    "start_time": "2022-02-27T17:20:20.656Z"
   },
   {
    "duration": 659,
    "start_time": "2022-02-27T17:20:29.922Z"
   },
   {
    "duration": 261,
    "start_time": "2022-02-27T18:10:29.291Z"
   },
   {
    "duration": 952,
    "start_time": "2022-02-27T18:10:40.076Z"
   },
   {
    "duration": 23,
    "start_time": "2022-02-27T18:10:41.030Z"
   },
   {
    "duration": 5,
    "start_time": "2022-02-27T18:10:41.056Z"
   },
   {
    "duration": 13,
    "start_time": "2022-02-27T18:10:41.064Z"
   },
   {
    "duration": 11,
    "start_time": "2022-02-27T18:10:41.079Z"
   },
   {
    "duration": 78,
    "start_time": "2022-02-27T18:10:41.093Z"
   },
   {
    "duration": 102,
    "start_time": "2022-02-27T18:10:41.174Z"
   },
   {
    "duration": 36,
    "start_time": "2022-02-27T18:10:41.280Z"
   },
   {
    "duration": 6,
    "start_time": "2022-02-27T18:10:41.320Z"
   },
   {
    "duration": 4,
    "start_time": "2022-02-27T18:10:41.351Z"
   },
   {
    "duration": 6,
    "start_time": "2022-02-27T18:10:41.358Z"
   },
   {
    "duration": 13,
    "start_time": "2022-02-27T18:10:41.366Z"
   },
   {
    "duration": 71,
    "start_time": "2022-02-27T18:10:41.381Z"
   },
   {
    "duration": 48,
    "start_time": "2022-02-27T18:10:41.455Z"
   },
   {
    "duration": 59,
    "start_time": "2022-02-27T18:10:41.505Z"
   },
   {
    "duration": 36,
    "start_time": "2022-02-27T18:10:41.567Z"
   },
   {
    "duration": 78,
    "start_time": "2022-02-27T18:10:41.606Z"
   },
   {
    "duration": 842,
    "start_time": "2022-02-27T18:10:41.687Z"
   },
   {
    "duration": 48,
    "start_time": "2022-02-27T18:10:42.532Z"
   },
   {
    "duration": 38,
    "start_time": "2022-02-27T18:10:42.582Z"
   },
   {
    "duration": 3,
    "start_time": "2022-02-27T18:10:42.622Z"
   },
   {
    "duration": 32,
    "start_time": "2022-02-27T18:10:42.627Z"
   },
   {
    "duration": 266,
    "start_time": "2022-02-27T18:10:42.666Z"
   },
   {
    "duration": 570,
    "start_time": "2022-02-27T18:10:42.935Z"
   },
   {
    "duration": 11,
    "start_time": "2022-02-27T18:10:43.507Z"
   },
   {
    "duration": 36,
    "start_time": "2022-02-27T18:10:43.521Z"
   },
   {
    "duration": 527,
    "start_time": "2022-02-27T18:10:43.559Z"
   },
   {
    "duration": 11,
    "start_time": "2022-02-27T18:10:44.088Z"
   },
   {
    "duration": 333,
    "start_time": "2022-02-27T18:10:44.101Z"
   },
   {
    "duration": 20,
    "start_time": "2022-02-27T18:10:44.436Z"
   },
   {
    "duration": 322,
    "start_time": "2022-02-27T18:10:44.459Z"
   },
   {
    "duration": 12,
    "start_time": "2022-02-27T18:10:44.784Z"
   },
   {
    "duration": 4,
    "start_time": "2022-02-27T18:10:44.799Z"
   },
   {
    "duration": 8,
    "start_time": "2022-02-27T18:10:44.806Z"
   },
   {
    "duration": 580,
    "start_time": "2022-02-27T18:10:44.816Z"
   },
   {
    "duration": 392,
    "start_time": "2022-02-27T18:10:45.399Z"
   },
   {
    "duration": 221,
    "start_time": "2022-02-27T18:10:45.794Z"
   },
   {
    "duration": 16,
    "start_time": "2022-02-27T18:10:46.018Z"
   },
   {
    "duration": 216,
    "start_time": "2022-02-27T18:10:46.051Z"
   },
   {
    "duration": 13,
    "start_time": "2022-02-27T18:10:46.269Z"
   },
   {
    "duration": 291,
    "start_time": "2022-02-27T18:10:46.285Z"
   },
   {
    "duration": 13,
    "start_time": "2022-02-27T18:10:46.579Z"
   },
   {
    "duration": 251,
    "start_time": "2022-02-27T18:10:46.594Z"
   },
   {
    "duration": 13,
    "start_time": "2022-02-27T18:10:46.851Z"
   },
   {
    "duration": 331,
    "start_time": "2022-02-27T18:10:46.866Z"
   },
   {
    "duration": 12,
    "start_time": "2022-02-27T18:10:47.199Z"
   },
   {
    "duration": 759,
    "start_time": "2022-02-27T18:10:47.213Z"
   },
   {
    "duration": 715,
    "start_time": "2022-02-27T18:10:47.975Z"
   },
   {
    "duration": 646,
    "start_time": "2022-02-27T18:10:48.693Z"
   },
   {
    "duration": 299,
    "start_time": "2022-02-27T18:10:49.342Z"
   },
   {
    "duration": 10,
    "start_time": "2022-02-27T18:10:49.651Z"
   },
   {
    "duration": 29,
    "start_time": "2022-02-27T18:10:49.665Z"
   },
   {
    "duration": 74,
    "start_time": "2022-02-27T18:10:49.697Z"
   },
   {
    "duration": 14,
    "start_time": "2022-02-27T18:10:49.774Z"
   },
   {
    "duration": 313,
    "start_time": "2022-02-27T18:10:49.791Z"
   },
   {
    "duration": 23,
    "start_time": "2022-02-27T18:10:50.107Z"
   },
   {
    "duration": 11,
    "start_time": "2022-02-27T18:11:29.537Z"
   },
   {
    "duration": 57,
    "start_time": "2022-02-27T18:11:35.593Z"
   },
   {
    "duration": 7,
    "start_time": "2022-02-27T18:15:10.479Z"
   },
   {
    "duration": 20,
    "start_time": "2022-02-27T18:17:35.821Z"
   },
   {
    "duration": 53,
    "start_time": "2022-02-27T18:18:02.908Z"
   },
   {
    "duration": 79,
    "start_time": "2022-02-27T18:18:34.177Z"
   },
   {
    "duration": 78,
    "start_time": "2022-02-27T18:18:37.626Z"
   },
   {
    "duration": 9,
    "start_time": "2022-02-27T18:18:42.977Z"
   },
   {
    "duration": 32,
    "start_time": "2022-02-27T18:19:13.078Z"
   },
   {
    "duration": 9,
    "start_time": "2022-02-27T18:19:31.672Z"
   },
   {
    "duration": 400,
    "start_time": "2022-02-27T18:19:56.905Z"
   },
   {
    "duration": 253,
    "start_time": "2022-02-27T18:20:39.004Z"
   },
   {
    "duration": 93,
    "start_time": "2022-02-27T18:20:55.481Z"
   },
   {
    "duration": 255,
    "start_time": "2022-02-27T18:21:04.344Z"
   },
   {
    "duration": 107,
    "start_time": "2022-02-27T18:22:07.132Z"
   },
   {
    "duration": 241,
    "start_time": "2022-02-27T18:22:13.618Z"
   },
   {
    "duration": 10,
    "start_time": "2022-02-27T18:22:41.129Z"
   },
   {
    "duration": 10,
    "start_time": "2022-02-27T18:23:00.192Z"
   },
   {
    "duration": 10,
    "start_time": "2022-02-27T18:23:08.074Z"
   },
   {
    "duration": 9,
    "start_time": "2022-02-27T18:23:38.992Z"
   },
   {
    "duration": 278,
    "start_time": "2022-02-27T18:24:26.363Z"
   },
   {
    "duration": 304,
    "start_time": "2022-02-27T18:25:12.740Z"
   },
   {
    "duration": 594,
    "start_time": "2022-02-27T18:25:29.098Z"
   },
   {
    "duration": 419,
    "start_time": "2022-02-27T18:25:40.637Z"
   },
   {
    "duration": 10,
    "start_time": "2022-02-27T18:26:09.624Z"
   },
   {
    "duration": 387,
    "start_time": "2022-02-27T18:26:40.720Z"
   },
   {
    "duration": 274,
    "start_time": "2022-02-27T18:26:46.068Z"
   },
   {
    "duration": 303,
    "start_time": "2022-02-27T18:27:23.132Z"
   },
   {
    "duration": 348,
    "start_time": "2022-02-27T18:27:29.955Z"
   },
   {
    "duration": 270,
    "start_time": "2022-02-27T18:27:57.137Z"
   },
   {
    "duration": 10,
    "start_time": "2022-02-27T18:28:12.781Z"
   },
   {
    "duration": 338,
    "start_time": "2022-02-27T18:28:36.177Z"
   },
   {
    "duration": 12,
    "start_time": "2022-02-27T18:29:24.300Z"
   },
   {
    "duration": 12,
    "start_time": "2022-02-27T18:31:00.254Z"
   },
   {
    "duration": 79,
    "start_time": "2022-02-27T18:31:24.669Z"
   },
   {
    "duration": 282,
    "start_time": "2022-02-27T18:31:29.033Z"
   },
   {
    "duration": 390,
    "start_time": "2022-02-27T18:48:15.017Z"
   },
   {
    "duration": 361,
    "start_time": "2022-02-27T18:49:15.930Z"
   },
   {
    "duration": 471,
    "start_time": "2022-02-27T18:49:27.230Z"
   },
   {
    "duration": 350,
    "start_time": "2022-02-27T18:49:37.095Z"
   },
   {
    "duration": 385,
    "start_time": "2022-02-27T18:49:45.716Z"
   },
   {
    "duration": 509,
    "start_time": "2022-02-27T18:55:55.995Z"
   },
   {
    "duration": 538,
    "start_time": "2022-02-27T18:57:45.261Z"
   },
   {
    "duration": 396,
    "start_time": "2022-02-27T18:57:51.388Z"
   },
   {
    "duration": 701,
    "start_time": "2022-02-27T18:58:12.415Z"
   },
   {
    "duration": 683,
    "start_time": "2022-02-27T18:58:24.587Z"
   },
   {
    "duration": 855,
    "start_time": "2022-02-27T18:58:32.561Z"
   },
   {
    "duration": 381,
    "start_time": "2022-02-27T18:58:46.961Z"
   },
   {
    "duration": 409,
    "start_time": "2022-02-27T18:59:17.522Z"
   },
   {
    "duration": 414,
    "start_time": "2022-02-27T18:59:30.622Z"
   },
   {
    "duration": 6,
    "start_time": "2022-02-27T19:03:35.273Z"
   },
   {
    "duration": 6,
    "start_time": "2022-02-27T19:03:41.720Z"
   },
   {
    "duration": 420,
    "start_time": "2022-02-27T19:41:10.999Z"
   },
   {
    "duration": 510,
    "start_time": "2022-02-27T19:43:44.100Z"
   },
   {
    "duration": 430,
    "start_time": "2022-02-27T19:45:11.807Z"
   },
   {
    "duration": 451,
    "start_time": "2022-02-27T19:46:24.211Z"
   },
   {
    "duration": 303,
    "start_time": "2022-02-27T19:46:45.105Z"
   },
   {
    "duration": 369,
    "start_time": "2022-02-27T19:47:50.636Z"
   },
   {
    "duration": 295,
    "start_time": "2022-02-27T19:48:09.335Z"
   },
   {
    "duration": 391,
    "start_time": "2022-02-27T19:48:26.742Z"
   },
   {
    "duration": 287,
    "start_time": "2022-02-27T19:48:34.387Z"
   },
   {
    "duration": 430,
    "start_time": "2022-02-27T19:48:38.095Z"
   },
   {
    "duration": 369,
    "start_time": "2022-02-27T19:49:45.616Z"
   },
   {
    "duration": 313,
    "start_time": "2022-02-27T20:04:09.375Z"
   },
   {
    "duration": 1024,
    "start_time": "2022-02-27T20:07:39.664Z"
   },
   {
    "duration": 645,
    "start_time": "2022-02-27T20:09:24.660Z"
   },
   {
    "duration": 100,
    "start_time": "2022-02-27T20:09:31.604Z"
   },
   {
    "duration": 370,
    "start_time": "2022-02-27T20:09:43.081Z"
   },
   {
    "duration": 276,
    "start_time": "2022-02-27T20:11:27.226Z"
   },
   {
    "duration": 735,
    "start_time": "2022-02-27T20:11:52.243Z"
   },
   {
    "duration": 700,
    "start_time": "2022-02-27T20:12:12.115Z"
   },
   {
    "duration": 240,
    "start_time": "2022-02-27T20:18:08.440Z"
   },
   {
    "duration": 265,
    "start_time": "2022-02-27T20:18:27.239Z"
   },
   {
    "duration": 83,
    "start_time": "2022-02-27T20:29:06.804Z"
   },
   {
    "duration": 223,
    "start_time": "2022-02-27T20:50:03.190Z"
   },
   {
    "duration": 214,
    "start_time": "2022-02-27T20:50:09.541Z"
   },
   {
    "duration": 364,
    "start_time": "2022-03-08T18:47:51.671Z"
   },
   {
    "duration": 1098,
    "start_time": "2022-03-08T18:48:01.397Z"
   },
   {
    "duration": 16,
    "start_time": "2022-03-08T18:48:02.498Z"
   },
   {
    "duration": 122,
    "start_time": "2022-03-08T18:48:02.517Z"
   },
   {
    "duration": 6,
    "start_time": "2022-03-08T18:48:02.642Z"
   },
   {
    "duration": 29,
    "start_time": "2022-03-08T18:48:02.651Z"
   },
   {
    "duration": 12,
    "start_time": "2022-03-08T18:48:02.683Z"
   },
   {
    "duration": 76,
    "start_time": "2022-03-08T18:48:02.698Z"
   },
   {
    "duration": 99,
    "start_time": "2022-03-08T18:48:02.778Z"
   },
   {
    "duration": 39,
    "start_time": "2022-03-08T18:48:02.880Z"
   },
   {
    "duration": 6,
    "start_time": "2022-03-08T18:48:02.922Z"
   },
   {
    "duration": 8,
    "start_time": "2022-03-08T18:48:02.931Z"
   },
   {
    "duration": 5,
    "start_time": "2022-03-08T18:48:02.974Z"
   },
   {
    "duration": 17,
    "start_time": "2022-03-08T18:48:02.981Z"
   },
   {
    "duration": 43,
    "start_time": "2022-03-08T18:48:03.001Z"
   },
   {
    "duration": 67,
    "start_time": "2022-03-08T18:48:03.046Z"
   },
   {
    "duration": 60,
    "start_time": "2022-03-08T18:48:03.115Z"
   },
   {
    "duration": 38,
    "start_time": "2022-03-08T18:48:03.177Z"
   },
   {
    "duration": 75,
    "start_time": "2022-03-08T18:48:03.218Z"
   },
   {
    "duration": 848,
    "start_time": "2022-03-08T18:48:03.296Z"
   },
   {
    "duration": 51,
    "start_time": "2022-03-08T18:48:04.146Z"
   },
   {
    "duration": 38,
    "start_time": "2022-03-08T18:48:04.199Z"
   },
   {
    "duration": 36,
    "start_time": "2022-03-08T18:48:04.239Z"
   },
   {
    "duration": 344,
    "start_time": "2022-03-08T18:48:04.281Z"
   },
   {
    "duration": 562,
    "start_time": "2022-03-08T18:48:04.629Z"
   },
   {
    "duration": 13,
    "start_time": "2022-03-08T18:48:05.193Z"
   },
   {
    "duration": 13,
    "start_time": "2022-03-08T18:48:05.208Z"
   },
   {
    "duration": 589,
    "start_time": "2022-03-08T18:48:05.223Z"
   },
   {
    "duration": 11,
    "start_time": "2022-03-08T18:48:05.815Z"
   },
   {
    "duration": 356,
    "start_time": "2022-03-08T18:48:05.828Z"
   },
   {
    "duration": 12,
    "start_time": "2022-03-08T18:48:06.186Z"
   },
   {
    "duration": 338,
    "start_time": "2022-03-08T18:48:06.200Z"
   },
   {
    "duration": 11,
    "start_time": "2022-03-08T18:48:06.541Z"
   },
   {
    "duration": 21,
    "start_time": "2022-03-08T18:48:06.555Z"
   },
   {
    "duration": 11,
    "start_time": "2022-03-08T18:48:06.579Z"
   },
   {
    "duration": 598,
    "start_time": "2022-03-08T18:48:06.593Z"
   },
   {
    "duration": 412,
    "start_time": "2022-03-08T18:48:07.194Z"
   },
   {
    "duration": 241,
    "start_time": "2022-03-08T18:48:07.609Z"
   },
   {
    "duration": 23,
    "start_time": "2022-03-08T18:48:07.853Z"
   },
   {
    "duration": 327,
    "start_time": "2022-03-08T18:48:07.879Z"
   },
   {
    "duration": 15,
    "start_time": "2022-03-08T18:48:08.209Z"
   },
   {
    "duration": 261,
    "start_time": "2022-03-08T18:48:08.227Z"
   },
   {
    "duration": 14,
    "start_time": "2022-03-08T18:48:08.490Z"
   },
   {
    "duration": 286,
    "start_time": "2022-03-08T18:48:08.507Z"
   },
   {
    "duration": 12,
    "start_time": "2022-03-08T18:48:08.795Z"
   },
   {
    "duration": 245,
    "start_time": "2022-03-08T18:48:08.810Z"
   },
   {
    "duration": 20,
    "start_time": "2022-03-08T18:48:09.058Z"
   },
   {
    "duration": 771,
    "start_time": "2022-03-08T18:48:09.080Z"
   },
   {
    "duration": 776,
    "start_time": "2022-03-08T18:48:09.853Z"
   },
   {
    "duration": 636,
    "start_time": "2022-03-08T18:48:10.631Z"
   },
   {
    "duration": 743,
    "start_time": "2022-03-08T18:48:11.274Z"
   },
   {
    "duration": 744,
    "start_time": "2022-03-08T18:48:12.019Z"
   },
   {
    "duration": 13,
    "start_time": "2022-03-08T18:48:12.766Z"
   },
   {
    "duration": 30,
    "start_time": "2022-03-08T18:48:12.782Z"
   },
   {
    "duration": 74,
    "start_time": "2022-03-08T18:48:12.815Z"
   },
   {
    "duration": 15,
    "start_time": "2022-03-08T18:48:12.892Z"
   },
   {
    "duration": 385,
    "start_time": "2022-03-08T18:48:12.910Z"
   },
   {
    "duration": 9,
    "start_time": "2022-03-08T18:48:13.297Z"
   },
   {
    "duration": 424,
    "start_time": "2022-03-08T18:48:13.309Z"
   },
   {
    "duration": 519,
    "start_time": "2022-03-08T18:48:13.735Z"
   },
   {
    "duration": 358,
    "start_time": "2022-03-08T18:48:14.256Z"
   },
   {
    "duration": 425,
    "start_time": "2022-03-08T18:48:14.616Z"
   },
   {
    "duration": 448,
    "start_time": "2022-03-08T18:48:15.044Z"
   },
   {
    "duration": 408,
    "start_time": "2022-03-08T18:48:15.495Z"
   },
   {
    "duration": 383,
    "start_time": "2022-03-08T18:48:15.906Z"
   },
   {
    "duration": 130,
    "start_time": "2022-03-08T18:50:08.607Z"
   },
   {
    "duration": 124,
    "start_time": "2022-03-08T18:50:24.734Z"
   },
   {
    "duration": 1052,
    "start_time": "2022-03-08T18:50:34.800Z"
   },
   {
    "duration": 26,
    "start_time": "2022-03-08T18:50:35.856Z"
   },
   {
    "duration": 112,
    "start_time": "2022-03-08T18:50:35.884Z"
   },
   {
    "duration": 5,
    "start_time": "2022-03-08T18:50:35.999Z"
   },
   {
    "duration": 17,
    "start_time": "2022-03-08T18:50:36.007Z"
   },
   {
    "duration": 12,
    "start_time": "2022-03-08T18:50:36.027Z"
   },
   {
    "duration": 70,
    "start_time": "2022-03-08T18:50:36.041Z"
   },
   {
    "duration": 109,
    "start_time": "2022-03-08T18:50:36.115Z"
   },
   {
    "duration": 50,
    "start_time": "2022-03-08T18:50:36.228Z"
   },
   {
    "duration": 4,
    "start_time": "2022-03-08T18:50:36.281Z"
   },
   {
    "duration": 11,
    "start_time": "2022-03-08T18:50:36.288Z"
   },
   {
    "duration": 9,
    "start_time": "2022-03-08T18:50:36.302Z"
   },
   {
    "duration": 17,
    "start_time": "2022-03-08T18:50:36.314Z"
   },
   {
    "duration": 68,
    "start_time": "2022-03-08T18:50:36.333Z"
   },
   {
    "duration": 44,
    "start_time": "2022-03-08T18:50:36.404Z"
   },
   {
    "duration": 57,
    "start_time": "2022-03-08T18:50:36.450Z"
   },
   {
    "duration": 35,
    "start_time": "2022-03-08T18:50:36.509Z"
   },
   {
    "duration": 76,
    "start_time": "2022-03-08T18:50:36.547Z"
   },
   {
    "duration": 866,
    "start_time": "2022-03-08T18:50:36.626Z"
   },
   {
    "duration": 38,
    "start_time": "2022-03-08T18:50:37.494Z"
   },
   {
    "duration": 62,
    "start_time": "2022-03-08T18:50:37.535Z"
   },
   {
    "duration": 13,
    "start_time": "2022-03-08T18:50:37.600Z"
   },
   {
    "duration": 345,
    "start_time": "2022-03-08T18:50:37.620Z"
   },
   {
    "duration": 553,
    "start_time": "2022-03-08T18:50:37.969Z"
   },
   {
    "duration": 11,
    "start_time": "2022-03-08T18:50:38.524Z"
   },
   {
    "duration": 11,
    "start_time": "2022-03-08T18:50:38.538Z"
   },
   {
    "duration": 560,
    "start_time": "2022-03-08T18:50:38.574Z"
   },
   {
    "duration": 11,
    "start_time": "2022-03-08T18:50:39.137Z"
   },
   {
    "duration": 353,
    "start_time": "2022-03-08T18:50:39.151Z"
   },
   {
    "duration": 11,
    "start_time": "2022-03-08T18:50:39.507Z"
   },
   {
    "duration": 336,
    "start_time": "2022-03-08T18:50:39.521Z"
   },
   {
    "duration": 20,
    "start_time": "2022-03-08T18:50:39.859Z"
   },
   {
    "duration": 5,
    "start_time": "2022-03-08T18:50:39.881Z"
   },
   {
    "duration": 10,
    "start_time": "2022-03-08T18:50:39.888Z"
   },
   {
    "duration": 695,
    "start_time": "2022-03-08T18:50:39.900Z"
   },
   {
    "duration": 397,
    "start_time": "2022-03-08T18:50:40.597Z"
   },
   {
    "duration": 228,
    "start_time": "2022-03-08T18:50:40.996Z"
   },
   {
    "duration": 13,
    "start_time": "2022-03-08T18:50:41.227Z"
   },
   {
    "duration": 308,
    "start_time": "2022-03-08T18:50:41.243Z"
   },
   {
    "duration": 27,
    "start_time": "2022-03-08T18:50:41.554Z"
   },
   {
    "duration": 236,
    "start_time": "2022-03-08T18:50:41.583Z"
   },
   {
    "duration": 16,
    "start_time": "2022-03-08T18:50:41.822Z"
   },
   {
    "duration": 269,
    "start_time": "2022-03-08T18:50:41.840Z"
   },
   {
    "duration": 13,
    "start_time": "2022-03-08T18:50:42.111Z"
   },
   {
    "duration": 242,
    "start_time": "2022-03-08T18:50:42.126Z"
   },
   {
    "duration": 13,
    "start_time": "2022-03-08T18:50:42.374Z"
   },
   {
    "duration": 759,
    "start_time": "2022-03-08T18:50:42.390Z"
   },
   {
    "duration": 786,
    "start_time": "2022-03-08T18:50:43.152Z"
   },
   {
    "duration": 643,
    "start_time": "2022-03-08T18:50:43.940Z"
   },
   {
    "duration": 724,
    "start_time": "2022-03-08T18:50:44.586Z"
   },
   {
    "duration": 722,
    "start_time": "2022-03-08T18:50:45.312Z"
   },
   {
    "duration": 10,
    "start_time": "2022-03-08T18:50:46.037Z"
   },
   {
    "duration": 48,
    "start_time": "2022-03-08T18:50:46.050Z"
   },
   {
    "duration": 40,
    "start_time": "2022-03-08T18:50:46.101Z"
   },
   {
    "duration": 37,
    "start_time": "2022-03-08T18:50:46.144Z"
   },
   {
    "duration": 334,
    "start_time": "2022-03-08T18:50:46.184Z"
   },
   {
    "duration": 9,
    "start_time": "2022-03-08T18:50:46.520Z"
   },
   {
    "duration": 422,
    "start_time": "2022-03-08T18:50:46.532Z"
   },
   {
    "duration": 528,
    "start_time": "2022-03-08T18:50:46.956Z"
   },
   {
    "duration": 390,
    "start_time": "2022-03-08T18:50:47.487Z"
   },
   {
    "duration": 425,
    "start_time": "2022-03-08T18:50:47.879Z"
   },
   {
    "duration": 467,
    "start_time": "2022-03-08T18:50:48.307Z"
   },
   {
    "duration": 401,
    "start_time": "2022-03-08T18:50:48.776Z"
   },
   {
    "duration": 378,
    "start_time": "2022-03-08T18:50:49.180Z"
   },
   {
    "duration": 32,
    "start_time": "2022-03-08T19:04:32.793Z"
   },
   {
    "duration": 425,
    "start_time": "2022-03-08T19:04:46.442Z"
   },
   {
    "duration": 35,
    "start_time": "2022-03-08T19:05:18.273Z"
   },
   {
    "duration": 100,
    "start_time": "2022-03-08T19:07:51.032Z"
   },
   {
    "duration": 408,
    "start_time": "2022-03-08T19:44:21.190Z"
   },
   {
    "duration": 410,
    "start_time": "2022-03-08T19:44:38.489Z"
   },
   {
    "duration": 6,
    "start_time": "2022-03-08T19:45:08.582Z"
   },
   {
    "duration": 96,
    "start_time": "2022-03-09T08:36:46.526Z"
   },
   {
    "duration": 1722,
    "start_time": "2022-03-09T08:41:48.704Z"
   },
   {
    "duration": 1798,
    "start_time": "2022-03-09T08:41:57.336Z"
   },
   {
    "duration": 16,
    "start_time": "2022-03-09T08:41:59.137Z"
   },
   {
    "duration": 123,
    "start_time": "2022-03-09T08:41:59.156Z"
   },
   {
    "duration": 7,
    "start_time": "2022-03-09T08:41:59.282Z"
   },
   {
    "duration": 15,
    "start_time": "2022-03-09T08:41:59.291Z"
   },
   {
    "duration": 28,
    "start_time": "2022-03-09T08:41:59.309Z"
   },
   {
    "duration": 64,
    "start_time": "2022-03-09T08:41:59.339Z"
   },
   {
    "duration": 110,
    "start_time": "2022-03-09T08:41:59.407Z"
   },
   {
    "duration": 54,
    "start_time": "2022-03-09T08:41:59.519Z"
   },
   {
    "duration": 4,
    "start_time": "2022-03-09T08:41:59.576Z"
   },
   {
    "duration": 35,
    "start_time": "2022-03-09T08:41:59.583Z"
   },
   {
    "duration": 212,
    "start_time": "2022-03-09T08:41:59.620Z"
   },
   {
    "duration": 42,
    "start_time": "2022-03-09T08:41:59.835Z"
   },
   {
    "duration": 45,
    "start_time": "2022-03-09T08:41:59.880Z"
   },
   {
    "duration": 66,
    "start_time": "2022-03-09T08:41:59.927Z"
   },
   {
    "duration": 42,
    "start_time": "2022-03-09T08:41:59.996Z"
   },
   {
    "duration": 63,
    "start_time": "2022-03-09T08:42:00.040Z"
   },
   {
    "duration": 161,
    "start_time": "2022-03-09T08:42:00.105Z"
   },
   {
    "duration": 906,
    "start_time": "2022-03-09T08:42:00.268Z"
   },
   {
    "duration": 38,
    "start_time": "2022-03-09T08:42:01.177Z"
   },
   {
    "duration": 62,
    "start_time": "2022-03-09T08:42:01.217Z"
   },
   {
    "duration": 11,
    "start_time": "2022-03-09T08:42:01.281Z"
   },
   {
    "duration": 298,
    "start_time": "2022-03-09T08:42:01.299Z"
   },
   {
    "duration": 556,
    "start_time": "2022-03-09T08:42:01.601Z"
   },
   {
    "duration": 22,
    "start_time": "2022-03-09T08:42:02.160Z"
   },
   {
    "duration": 26,
    "start_time": "2022-03-09T08:42:02.184Z"
   },
   {
    "duration": 661,
    "start_time": "2022-03-09T08:42:02.212Z"
   },
   {
    "duration": 12,
    "start_time": "2022-03-09T08:42:02.875Z"
   },
   {
    "duration": 349,
    "start_time": "2022-03-09T08:42:02.889Z"
   },
   {
    "duration": 13,
    "start_time": "2022-03-09T08:42:03.240Z"
   },
   {
    "duration": 347,
    "start_time": "2022-03-09T08:42:03.255Z"
   },
   {
    "duration": 12,
    "start_time": "2022-03-09T08:42:03.605Z"
   },
   {
    "duration": 16,
    "start_time": "2022-03-09T08:42:03.619Z"
   },
   {
    "duration": 20,
    "start_time": "2022-03-09T08:42:03.637Z"
   },
   {
    "duration": 591,
    "start_time": "2022-03-09T08:42:03.672Z"
   },
   {
    "duration": 420,
    "start_time": "2022-03-09T08:42:04.265Z"
   },
   {
    "duration": 238,
    "start_time": "2022-03-09T08:42:04.687Z"
   },
   {
    "duration": 15,
    "start_time": "2022-03-09T08:42:04.927Z"
   },
   {
    "duration": 241,
    "start_time": "2022-03-09T08:42:04.945Z"
   },
   {
    "duration": 15,
    "start_time": "2022-03-09T08:42:05.189Z"
   },
   {
    "duration": 247,
    "start_time": "2022-03-09T08:42:05.207Z"
   },
   {
    "duration": 23,
    "start_time": "2022-03-09T08:42:05.457Z"
   },
   {
    "duration": 263,
    "start_time": "2022-03-09T08:42:05.482Z"
   },
   {
    "duration": 26,
    "start_time": "2022-03-09T08:42:05.747Z"
   },
   {
    "duration": 240,
    "start_time": "2022-03-09T08:42:05.776Z"
   },
   {
    "duration": 13,
    "start_time": "2022-03-09T08:42:06.019Z"
   },
   {
    "duration": 885,
    "start_time": "2022-03-09T08:42:06.035Z"
   },
   {
    "duration": 833,
    "start_time": "2022-03-09T08:42:06.923Z"
   },
   {
    "duration": 635,
    "start_time": "2022-03-09T08:42:07.759Z"
   },
   {
    "duration": 736,
    "start_time": "2022-03-09T08:42:08.396Z"
   },
   {
    "duration": 752,
    "start_time": "2022-03-09T08:42:09.135Z"
   },
   {
    "duration": 11,
    "start_time": "2022-03-09T08:42:09.890Z"
   },
   {
    "duration": 33,
    "start_time": "2022-03-09T08:42:09.904Z"
   },
   {
    "duration": 67,
    "start_time": "2022-03-09T08:42:09.939Z"
   },
   {
    "duration": 14,
    "start_time": "2022-03-09T08:42:10.009Z"
   },
   {
    "duration": 351,
    "start_time": "2022-03-09T08:42:10.025Z"
   },
   {
    "duration": 9,
    "start_time": "2022-03-09T08:42:10.378Z"
   },
   {
    "duration": 417,
    "start_time": "2022-03-09T08:42:10.389Z"
   },
   {
    "duration": 453,
    "start_time": "2022-03-09T08:42:10.808Z"
   },
   {
    "duration": 465,
    "start_time": "2022-03-09T08:42:11.264Z"
   },
   {
    "duration": 427,
    "start_time": "2022-03-09T08:42:11.731Z"
   },
   {
    "duration": 441,
    "start_time": "2022-03-09T08:42:12.161Z"
   },
   {
    "duration": 615,
    "start_time": "2022-03-09T08:42:12.605Z"
   },
   {
    "duration": 394,
    "start_time": "2022-03-09T08:42:13.224Z"
   },
   {
    "duration": 1272,
    "start_time": "2022-03-09T08:49:34.711Z"
   },
   {
    "duration": 1110,
    "start_time": "2022-03-09T08:49:54.856Z"
   },
   {
    "duration": 1029,
    "start_time": "2022-03-09T08:50:20.416Z"
   },
   {
    "duration": 747,
    "start_time": "2022-03-09T08:50:33.573Z"
   },
   {
    "duration": 737,
    "start_time": "2022-03-09T09:02:22.474Z"
   },
   {
    "duration": 7450,
    "start_time": "2022-03-09T09:05:42.948Z"
   },
   {
    "duration": 277,
    "start_time": "2022-03-09T09:06:51.814Z"
   },
   {
    "duration": 315,
    "start_time": "2022-03-09T09:30:44.436Z"
   },
   {
    "duration": 7619,
    "start_time": "2022-03-09T09:31:10.096Z"
   },
   {
    "duration": 22,
    "start_time": "2022-03-09T09:31:44.075Z"
   },
   {
    "duration": 21,
    "start_time": "2022-03-09T09:32:52.850Z"
   },
   {
    "duration": 293,
    "start_time": "2022-03-09T09:33:03.307Z"
   },
   {
    "duration": 279,
    "start_time": "2022-03-09T09:33:21.326Z"
   },
   {
    "duration": 281,
    "start_time": "2022-03-09T09:36:10.860Z"
   },
   {
    "duration": 363,
    "start_time": "2022-03-09T09:37:34.503Z"
   },
   {
    "duration": 307,
    "start_time": "2022-03-09T09:38:22.020Z"
   },
   {
    "duration": 330,
    "start_time": "2022-03-09T09:39:20.135Z"
   },
   {
    "duration": 7746,
    "start_time": "2022-03-09T09:39:52.483Z"
   },
   {
    "duration": 260,
    "start_time": "2022-03-09T09:41:04.591Z"
   },
   {
    "duration": 300,
    "start_time": "2022-03-09T10:21:17.588Z"
   },
   {
    "duration": 663,
    "start_time": "2022-03-09T10:54:22.428Z"
   },
   {
    "duration": 275,
    "start_time": "2022-03-09T10:54:32.274Z"
   },
   {
    "duration": 267,
    "start_time": "2022-03-09T11:01:45.577Z"
   },
   {
    "duration": 283,
    "start_time": "2022-03-09T11:03:19.697Z"
   },
   {
    "duration": 279,
    "start_time": "2022-03-09T11:03:24.440Z"
   },
   {
    "duration": 273,
    "start_time": "2022-03-09T11:03:52.530Z"
   },
   {
    "duration": 570,
    "start_time": "2022-03-09T11:06:56.576Z"
   },
   {
    "duration": 608,
    "start_time": "2022-03-09T11:07:43.286Z"
   },
   {
    "duration": 684,
    "start_time": "2022-03-09T11:07:59.499Z"
   },
   {
    "duration": 656,
    "start_time": "2022-03-09T11:08:21.467Z"
   },
   {
    "duration": 636,
    "start_time": "2022-03-09T11:10:01.026Z"
   },
   {
    "duration": 592,
    "start_time": "2022-03-09T11:10:18.788Z"
   },
   {
    "duration": 303,
    "start_time": "2022-03-09T11:20:36.753Z"
   },
   {
    "duration": 283,
    "start_time": "2022-03-09T11:22:18.700Z"
   },
   {
    "duration": 283,
    "start_time": "2022-03-09T11:22:29.430Z"
   },
   {
    "duration": 602,
    "start_time": "2022-03-09T11:22:42.706Z"
   },
   {
    "duration": 545,
    "start_time": "2022-03-09T11:23:05.981Z"
   },
   {
    "duration": 433,
    "start_time": "2022-03-09T11:23:16.317Z"
   },
   {
    "duration": 1094,
    "start_time": "2022-03-09T11:23:37.438Z"
   },
   {
    "duration": 555,
    "start_time": "2022-03-09T11:25:43.297Z"
   },
   {
    "duration": 574,
    "start_time": "2022-03-09T11:25:59.990Z"
   },
   {
    "duration": 590,
    "start_time": "2022-03-09T11:36:43.927Z"
   },
   {
    "duration": 526,
    "start_time": "2022-03-09T11:37:30.624Z"
   },
   {
    "duration": 691,
    "start_time": "2022-03-09T11:37:55.885Z"
   },
   {
    "duration": 357,
    "start_time": "2022-03-09T11:38:04.487Z"
   },
   {
    "duration": 346,
    "start_time": "2022-03-09T11:38:34.012Z"
   },
   {
    "duration": 306,
    "start_time": "2022-03-09T15:39:06.081Z"
   },
   {
    "duration": 1161,
    "start_time": "2022-03-09T15:42:27.677Z"
   },
   {
    "duration": 9,
    "start_time": "2022-03-09T15:42:28.840Z"
   },
   {
    "duration": 63,
    "start_time": "2022-03-09T15:42:28.851Z"
   },
   {
    "duration": 4,
    "start_time": "2022-03-09T15:42:28.916Z"
   },
   {
    "duration": 11,
    "start_time": "2022-03-09T15:42:28.921Z"
   },
   {
    "duration": 8,
    "start_time": "2022-03-09T15:42:28.933Z"
   },
   {
    "duration": 23,
    "start_time": "2022-03-09T15:42:28.943Z"
   },
   {
    "duration": 87,
    "start_time": "2022-03-09T15:42:28.969Z"
   },
   {
    "duration": 20,
    "start_time": "2022-03-09T15:42:29.058Z"
   },
   {
    "duration": 3,
    "start_time": "2022-03-09T15:42:29.079Z"
   },
   {
    "duration": 21,
    "start_time": "2022-03-09T15:42:29.084Z"
   },
   {
    "duration": 6,
    "start_time": "2022-03-09T15:42:29.107Z"
   },
   {
    "duration": 10,
    "start_time": "2022-03-09T15:42:29.114Z"
   },
   {
    "duration": 27,
    "start_time": "2022-03-09T15:42:29.125Z"
   },
   {
    "duration": 24,
    "start_time": "2022-03-09T15:42:29.153Z"
   },
   {
    "duration": 37,
    "start_time": "2022-03-09T15:42:29.178Z"
   },
   {
    "duration": 19,
    "start_time": "2022-03-09T15:42:29.216Z"
   },
   {
    "duration": 31,
    "start_time": "2022-03-09T15:42:29.237Z"
   },
   {
    "duration": 497,
    "start_time": "2022-03-09T15:42:29.269Z"
   },
   {
    "duration": 20,
    "start_time": "2022-03-09T15:42:29.768Z"
   },
   {
    "duration": 30,
    "start_time": "2022-03-09T15:42:29.790Z"
   },
   {
    "duration": 7,
    "start_time": "2022-03-09T15:42:29.821Z"
   },
   {
    "duration": 175,
    "start_time": "2022-03-09T15:42:29.832Z"
   },
   {
    "duration": 305,
    "start_time": "2022-03-09T15:42:30.010Z"
   },
   {
    "duration": 7,
    "start_time": "2022-03-09T15:42:30.316Z"
   },
   {
    "duration": 15,
    "start_time": "2022-03-09T15:42:30.324Z"
   },
   {
    "duration": 374,
    "start_time": "2022-03-09T15:42:30.341Z"
   },
   {
    "duration": 7,
    "start_time": "2022-03-09T15:42:30.717Z"
   },
   {
    "duration": 206,
    "start_time": "2022-03-09T15:42:30.725Z"
   },
   {
    "duration": 8,
    "start_time": "2022-03-09T15:42:30.932Z"
   },
   {
    "duration": 203,
    "start_time": "2022-03-09T15:42:30.942Z"
   },
   {
    "duration": 8,
    "start_time": "2022-03-09T15:42:31.146Z"
   },
   {
    "duration": 17,
    "start_time": "2022-03-09T15:42:31.155Z"
   },
   {
    "duration": 14,
    "start_time": "2022-03-09T15:42:31.173Z"
   },
   {
    "duration": 312,
    "start_time": "2022-03-09T15:42:31.189Z"
   },
   {
    "duration": 214,
    "start_time": "2022-03-09T15:42:31.503Z"
   },
   {
    "duration": 127,
    "start_time": "2022-03-09T15:42:31.719Z"
   },
   {
    "duration": 9,
    "start_time": "2022-03-09T15:42:31.847Z"
   },
   {
    "duration": 131,
    "start_time": "2022-03-09T15:42:31.857Z"
   },
   {
    "duration": 16,
    "start_time": "2022-03-09T15:42:31.989Z"
   },
   {
    "duration": 120,
    "start_time": "2022-03-09T15:42:32.007Z"
   },
   {
    "duration": 8,
    "start_time": "2022-03-09T15:42:32.129Z"
   },
   {
    "duration": 136,
    "start_time": "2022-03-09T15:42:32.139Z"
   },
   {
    "duration": 8,
    "start_time": "2022-03-09T15:42:32.277Z"
   },
   {
    "duration": 133,
    "start_time": "2022-03-09T15:42:32.286Z"
   },
   {
    "duration": 7,
    "start_time": "2022-03-09T15:42:32.421Z"
   },
   {
    "duration": 547,
    "start_time": "2022-03-09T15:42:32.430Z"
   },
   {
    "duration": 460,
    "start_time": "2022-03-09T15:42:32.979Z"
   },
   {
    "duration": 476,
    "start_time": "2022-03-09T15:42:33.441Z"
   },
   {
    "duration": 214,
    "start_time": "2022-03-09T15:42:33.919Z"
   },
   {
    "duration": 167,
    "start_time": "2022-03-09T15:42:34.135Z"
   },
   {
    "duration": 443,
    "start_time": "2022-03-09T15:42:34.303Z"
   },
   {
    "duration": 484,
    "start_time": "2022-03-09T15:42:34.748Z"
   },
   {
    "duration": 8,
    "start_time": "2022-03-09T15:42:35.234Z"
   },
   {
    "duration": 33,
    "start_time": "2022-03-09T15:42:35.244Z"
   },
   {
    "duration": 27,
    "start_time": "2022-03-09T15:42:35.279Z"
   },
   {
    "duration": 11,
    "start_time": "2022-03-09T15:42:35.308Z"
   },
   {
    "duration": 185,
    "start_time": "2022-03-09T15:42:35.320Z"
   },
   {
    "duration": 6,
    "start_time": "2022-03-09T15:42:35.507Z"
   },
   {
    "duration": 223,
    "start_time": "2022-03-09T15:42:35.515Z"
   },
   {
    "duration": 230,
    "start_time": "2022-03-09T15:42:35.739Z"
   },
   {
    "duration": 192,
    "start_time": "2022-03-09T15:42:35.971Z"
   },
   {
    "duration": 297,
    "start_time": "2022-03-09T15:42:36.165Z"
   },
   {
    "duration": 301,
    "start_time": "2022-03-09T15:42:36.464Z"
   },
   {
    "duration": 300,
    "start_time": "2022-03-09T15:42:36.767Z"
   },
   {
    "duration": 216,
    "start_time": "2022-03-09T15:42:37.068Z"
   },
   {
    "duration": 180,
    "start_time": "2022-03-09T15:47:57.245Z"
   },
   {
    "duration": 210,
    "start_time": "2022-03-09T15:48:21.762Z"
   },
   {
    "duration": 219,
    "start_time": "2022-03-09T15:49:39.389Z"
   },
   {
    "duration": 283,
    "start_time": "2022-03-09T15:53:59.137Z"
   },
   {
    "duration": 206,
    "start_time": "2022-03-09T15:54:01.533Z"
   },
   {
    "duration": 212,
    "start_time": "2022-03-09T15:55:20.230Z"
   },
   {
    "duration": 300,
    "start_time": "2022-03-09T15:55:31.238Z"
   },
   {
    "duration": 179,
    "start_time": "2022-03-09T15:55:44.745Z"
   },
   {
    "duration": 214,
    "start_time": "2022-03-09T15:55:51.943Z"
   },
   {
    "duration": 22,
    "start_time": "2022-03-09T16:00:56.242Z"
   },
   {
    "duration": 23,
    "start_time": "2022-03-09T16:01:04.117Z"
   },
   {
    "duration": 22,
    "start_time": "2022-03-09T16:01:12.525Z"
   },
   {
    "duration": 21,
    "start_time": "2022-03-09T16:01:18.371Z"
   },
   {
    "duration": 22,
    "start_time": "2022-03-09T16:01:22.281Z"
   },
   {
    "duration": 21,
    "start_time": "2022-03-09T16:01:28.192Z"
   },
   {
    "duration": 1170,
    "start_time": "2022-03-09T16:01:38.362Z"
   },
   {
    "duration": 10,
    "start_time": "2022-03-09T16:01:39.534Z"
   },
   {
    "duration": 66,
    "start_time": "2022-03-09T16:01:39.546Z"
   },
   {
    "duration": 4,
    "start_time": "2022-03-09T16:01:39.614Z"
   },
   {
    "duration": 10,
    "start_time": "2022-03-09T16:01:39.619Z"
   },
   {
    "duration": 7,
    "start_time": "2022-03-09T16:01:39.630Z"
   },
   {
    "duration": 23,
    "start_time": "2022-03-09T16:01:39.639Z"
   },
   {
    "duration": 80,
    "start_time": "2022-03-09T16:01:39.664Z"
   },
   {
    "duration": 20,
    "start_time": "2022-03-09T16:01:39.746Z"
   },
   {
    "duration": 3,
    "start_time": "2022-03-09T16:01:39.768Z"
   },
   {
    "duration": 6,
    "start_time": "2022-03-09T16:01:39.772Z"
   },
   {
    "duration": 6,
    "start_time": "2022-03-09T16:01:39.779Z"
   },
   {
    "duration": 21,
    "start_time": "2022-03-09T16:01:39.786Z"
   },
   {
    "duration": 22,
    "start_time": "2022-03-09T16:01:39.808Z"
   },
   {
    "duration": 21,
    "start_time": "2022-03-09T16:01:39.832Z"
   },
   {
    "duration": 19,
    "start_time": "2022-03-09T16:01:39.854Z"
   },
   {
    "duration": 46,
    "start_time": "2022-03-09T16:01:39.874Z"
   },
   {
    "duration": 28,
    "start_time": "2022-03-09T16:01:39.921Z"
   },
   {
    "duration": 459,
    "start_time": "2022-03-09T16:01:39.951Z"
   },
   {
    "duration": 19,
    "start_time": "2022-03-09T16:01:40.411Z"
   },
   {
    "duration": 17,
    "start_time": "2022-03-09T16:01:40.431Z"
   },
   {
    "duration": 7,
    "start_time": "2022-03-09T16:01:40.449Z"
   },
   {
    "duration": 176,
    "start_time": "2022-03-09T16:01:40.460Z"
   },
   {
    "duration": 284,
    "start_time": "2022-03-09T16:01:40.638Z"
   },
   {
    "duration": 7,
    "start_time": "2022-03-09T16:01:40.924Z"
   },
   {
    "duration": 8,
    "start_time": "2022-03-09T16:01:40.932Z"
   },
   {
    "duration": 352,
    "start_time": "2022-03-09T16:01:40.941Z"
   },
   {
    "duration": 11,
    "start_time": "2022-03-09T16:01:41.295Z"
   },
   {
    "duration": 170,
    "start_time": "2022-03-09T16:01:41.307Z"
   },
   {
    "duration": 7,
    "start_time": "2022-03-09T16:01:41.478Z"
   },
   {
    "duration": 177,
    "start_time": "2022-03-09T16:01:41.487Z"
   },
   {
    "duration": 8,
    "start_time": "2022-03-09T16:01:41.665Z"
   },
   {
    "duration": 4,
    "start_time": "2022-03-09T16:01:41.674Z"
   },
   {
    "duration": 26,
    "start_time": "2022-03-09T16:01:41.680Z"
   },
   {
    "duration": 289,
    "start_time": "2022-03-09T16:01:41.707Z"
   },
   {
    "duration": 235,
    "start_time": "2022-03-09T16:01:41.998Z"
   },
   {
    "duration": 120,
    "start_time": "2022-03-09T16:01:42.234Z"
   },
   {
    "duration": 9,
    "start_time": "2022-03-09T16:01:42.355Z"
   },
   {
    "duration": 124,
    "start_time": "2022-03-09T16:01:42.365Z"
   },
   {
    "duration": 14,
    "start_time": "2022-03-09T16:01:42.491Z"
   },
   {
    "duration": 117,
    "start_time": "2022-03-09T16:01:42.506Z"
   },
   {
    "duration": 9,
    "start_time": "2022-03-09T16:01:42.624Z"
   },
   {
    "duration": 133,
    "start_time": "2022-03-09T16:01:42.634Z"
   },
   {
    "duration": 9,
    "start_time": "2022-03-09T16:01:42.769Z"
   },
   {
    "duration": 128,
    "start_time": "2022-03-09T16:01:42.779Z"
   },
   {
    "duration": 8,
    "start_time": "2022-03-09T16:01:42.909Z"
   },
   {
    "duration": 525,
    "start_time": "2022-03-09T16:01:42.918Z"
   },
   {
    "duration": 498,
    "start_time": "2022-03-09T16:01:43.444Z"
   },
   {
    "duration": 526,
    "start_time": "2022-03-09T16:01:43.943Z"
   },
   {
    "duration": 138,
    "start_time": "2022-03-09T16:01:44.471Z"
   },
   {
    "duration": 152,
    "start_time": "2022-03-09T16:01:44.611Z"
   },
   {
    "duration": 473,
    "start_time": "2022-03-09T16:01:44.764Z"
   },
   {
    "duration": 500,
    "start_time": "2022-03-09T16:01:45.238Z"
   },
   {
    "duration": 7,
    "start_time": "2022-03-09T16:01:45.739Z"
   },
   {
    "duration": 20,
    "start_time": "2022-03-09T16:01:45.748Z"
   },
   {
    "duration": 36,
    "start_time": "2022-03-09T16:01:45.770Z"
   },
   {
    "duration": 9,
    "start_time": "2022-03-09T16:01:45.808Z"
   },
   {
    "duration": 171,
    "start_time": "2022-03-09T16:01:45.819Z"
   },
   {
    "duration": 15,
    "start_time": "2022-03-09T16:01:45.992Z"
   },
   {
    "duration": 205,
    "start_time": "2022-03-09T16:01:46.008Z"
   },
   {
    "duration": 230,
    "start_time": "2022-03-09T16:01:46.215Z"
   },
   {
    "duration": 185,
    "start_time": "2022-03-09T16:01:46.446Z"
   },
   {
    "duration": 294,
    "start_time": "2022-03-09T16:01:46.632Z"
   },
   {
    "duration": 258,
    "start_time": "2022-03-09T16:01:46.928Z"
   },
   {
    "duration": 284,
    "start_time": "2022-03-09T16:01:47.187Z"
   },
   {
    "duration": 205,
    "start_time": "2022-03-09T16:01:47.473Z"
   },
   {
    "duration": 23,
    "start_time": "2022-03-09T16:03:25.061Z"
   },
   {
    "duration": 49,
    "start_time": "2022-03-09T16:09:34.131Z"
   },
   {
    "duration": 1071,
    "start_time": "2022-03-09T16:09:48.861Z"
   },
   {
    "duration": 9,
    "start_time": "2022-03-09T16:09:49.933Z"
   },
   {
    "duration": 63,
    "start_time": "2022-03-09T16:09:49.944Z"
   },
   {
    "duration": 4,
    "start_time": "2022-03-09T16:09:50.008Z"
   },
   {
    "duration": 14,
    "start_time": "2022-03-09T16:09:50.013Z"
   },
   {
    "duration": 9,
    "start_time": "2022-03-09T16:09:50.029Z"
   },
   {
    "duration": 23,
    "start_time": "2022-03-09T16:09:50.039Z"
   },
   {
    "duration": 81,
    "start_time": "2022-03-09T16:09:50.064Z"
   },
   {
    "duration": 21,
    "start_time": "2022-03-09T16:09:50.147Z"
   },
   {
    "duration": 3,
    "start_time": "2022-03-09T16:09:50.169Z"
   },
   {
    "duration": 5,
    "start_time": "2022-03-09T16:09:50.174Z"
   },
   {
    "duration": 4,
    "start_time": "2022-03-09T16:09:50.180Z"
   },
   {
    "duration": 62,
    "start_time": "2022-03-09T16:09:50.185Z"
   },
   {
    "duration": 8,
    "start_time": "2022-03-09T16:09:50.248Z"
   },
   {
    "duration": 24,
    "start_time": "2022-03-09T16:09:50.257Z"
   },
   {
    "duration": 44,
    "start_time": "2022-03-09T16:09:50.282Z"
   },
   {
    "duration": 21,
    "start_time": "2022-03-09T16:09:50.327Z"
   },
   {
    "duration": 18,
    "start_time": "2022-03-09T16:09:50.349Z"
   },
   {
    "duration": 50,
    "start_time": "2022-03-09T16:09:50.369Z"
   },
   {
    "duration": 451,
    "start_time": "2022-03-09T16:09:50.421Z"
   },
   {
    "duration": 18,
    "start_time": "2022-03-09T16:09:50.874Z"
   },
   {
    "duration": 30,
    "start_time": "2022-03-09T16:09:50.894Z"
   },
   {
    "duration": 6,
    "start_time": "2022-03-09T16:09:50.928Z"
   },
   {
    "duration": 163,
    "start_time": "2022-03-09T16:09:50.936Z"
   },
   {
    "duration": 287,
    "start_time": "2022-03-09T16:09:51.101Z"
   },
   {
    "duration": 17,
    "start_time": "2022-03-09T16:09:51.389Z"
   },
   {
    "duration": 7,
    "start_time": "2022-03-09T16:09:51.407Z"
   },
   {
    "duration": 363,
    "start_time": "2022-03-09T16:09:51.415Z"
   },
   {
    "duration": 8,
    "start_time": "2022-03-09T16:09:51.779Z"
   },
   {
    "duration": 186,
    "start_time": "2022-03-09T16:09:51.788Z"
   },
   {
    "duration": 7,
    "start_time": "2022-03-09T16:09:51.975Z"
   },
   {
    "duration": 177,
    "start_time": "2022-03-09T16:09:51.984Z"
   },
   {
    "duration": 7,
    "start_time": "2022-03-09T16:09:52.163Z"
   },
   {
    "duration": 3,
    "start_time": "2022-03-09T16:09:52.172Z"
   },
   {
    "duration": 12,
    "start_time": "2022-03-09T16:09:52.176Z"
   },
   {
    "duration": 305,
    "start_time": "2022-03-09T16:09:52.190Z"
   },
   {
    "duration": 218,
    "start_time": "2022-03-09T16:09:52.496Z"
   },
   {
    "duration": 120,
    "start_time": "2022-03-09T16:09:52.715Z"
   },
   {
    "duration": 10,
    "start_time": "2022-03-09T16:09:52.836Z"
   },
   {
    "duration": 127,
    "start_time": "2022-03-09T16:09:52.847Z"
   },
   {
    "duration": 9,
    "start_time": "2022-03-09T16:09:52.976Z"
   },
   {
    "duration": 120,
    "start_time": "2022-03-09T16:09:52.986Z"
   },
   {
    "duration": 9,
    "start_time": "2022-03-09T16:09:53.108Z"
   },
   {
    "duration": 127,
    "start_time": "2022-03-09T16:09:53.119Z"
   },
   {
    "duration": 9,
    "start_time": "2022-03-09T16:09:53.248Z"
   },
   {
    "duration": 131,
    "start_time": "2022-03-09T16:09:53.259Z"
   },
   {
    "duration": 17,
    "start_time": "2022-03-09T16:09:53.391Z"
   },
   {
    "duration": 519,
    "start_time": "2022-03-09T16:09:53.410Z"
   },
   {
    "duration": 581,
    "start_time": "2022-03-09T16:09:53.930Z"
   },
   {
    "duration": 374,
    "start_time": "2022-03-09T16:09:54.513Z"
   },
   {
    "duration": 140,
    "start_time": "2022-03-09T16:09:54.888Z"
   },
   {
    "duration": 152,
    "start_time": "2022-03-09T16:09:55.030Z"
   },
   {
    "duration": 450,
    "start_time": "2022-03-09T16:09:55.183Z"
   },
   {
    "duration": 486,
    "start_time": "2022-03-09T16:09:55.634Z"
   },
   {
    "duration": 7,
    "start_time": "2022-03-09T16:09:56.122Z"
   },
   {
    "duration": 24,
    "start_time": "2022-03-09T16:09:56.130Z"
   },
   {
    "duration": 20,
    "start_time": "2022-03-09T16:09:56.155Z"
   },
   {
    "duration": 31,
    "start_time": "2022-03-09T16:09:56.177Z"
   },
   {
    "duration": 177,
    "start_time": "2022-03-09T16:09:56.210Z"
   },
   {
    "duration": 5,
    "start_time": "2022-03-09T16:09:56.389Z"
   },
   {
    "duration": 214,
    "start_time": "2022-03-09T16:09:56.395Z"
   },
   {
    "duration": 231,
    "start_time": "2022-03-09T16:09:56.610Z"
   },
   {
    "duration": 187,
    "start_time": "2022-03-09T16:09:56.843Z"
   },
   {
    "duration": 297,
    "start_time": "2022-03-09T16:09:57.031Z"
   },
   {
    "duration": 256,
    "start_time": "2022-03-09T16:09:57.330Z"
   },
   {
    "duration": 292,
    "start_time": "2022-03-09T16:09:57.587Z"
   },
   {
    "duration": 207,
    "start_time": "2022-03-09T16:09:57.880Z"
   },
   {
    "duration": 21,
    "start_time": "2022-03-09T16:11:38.769Z"
   },
   {
    "duration": 10,
    "start_time": "2022-03-09T16:11:43.048Z"
   },
   {
    "duration": 1071,
    "start_time": "2022-03-09T16:11:48.856Z"
   },
   {
    "duration": 9,
    "start_time": "2022-03-09T16:11:49.929Z"
   },
   {
    "duration": 57,
    "start_time": "2022-03-09T16:11:49.940Z"
   },
   {
    "duration": 8,
    "start_time": "2022-03-09T16:11:49.998Z"
   },
   {
    "duration": 9,
    "start_time": "2022-03-09T16:11:50.008Z"
   },
   {
    "duration": 7,
    "start_time": "2022-03-09T16:11:50.019Z"
   },
   {
    "duration": 23,
    "start_time": "2022-03-09T16:11:50.028Z"
   },
   {
    "duration": 80,
    "start_time": "2022-03-09T16:11:50.054Z"
   },
   {
    "duration": 20,
    "start_time": "2022-03-09T16:11:50.136Z"
   },
   {
    "duration": 3,
    "start_time": "2022-03-09T16:11:50.158Z"
   },
   {
    "duration": 6,
    "start_time": "2022-03-09T16:11:50.162Z"
   },
   {
    "duration": 4,
    "start_time": "2022-03-09T16:11:50.169Z"
   },
   {
    "duration": 35,
    "start_time": "2022-03-09T16:11:50.174Z"
   },
   {
    "duration": 8,
    "start_time": "2022-03-09T16:11:50.210Z"
   },
   {
    "duration": 24,
    "start_time": "2022-03-09T16:11:50.219Z"
   },
   {
    "duration": 23,
    "start_time": "2022-03-09T16:11:50.245Z"
   },
   {
    "duration": 43,
    "start_time": "2022-03-09T16:11:50.269Z"
   },
   {
    "duration": 19,
    "start_time": "2022-03-09T16:11:50.314Z"
   },
   {
    "duration": 31,
    "start_time": "2022-03-09T16:11:50.334Z"
   },
   {
    "duration": 461,
    "start_time": "2022-03-09T16:11:50.366Z"
   },
   {
    "duration": 19,
    "start_time": "2022-03-09T16:11:50.828Z"
   },
   {
    "duration": 18,
    "start_time": "2022-03-09T16:11:50.849Z"
   },
   {
    "duration": 7,
    "start_time": "2022-03-09T16:11:50.871Z"
   },
   {
    "duration": 178,
    "start_time": "2022-03-09T16:11:50.880Z"
   },
   {
    "duration": 285,
    "start_time": "2022-03-09T16:11:51.060Z"
   },
   {
    "duration": 7,
    "start_time": "2022-03-09T16:11:51.346Z"
   },
   {
    "duration": 7,
    "start_time": "2022-03-09T16:11:51.355Z"
   },
   {
    "duration": 346,
    "start_time": "2022-03-09T16:11:51.363Z"
   },
   {
    "duration": 7,
    "start_time": "2022-03-09T16:11:51.711Z"
   },
   {
    "duration": 188,
    "start_time": "2022-03-09T16:11:51.719Z"
   },
   {
    "duration": 8,
    "start_time": "2022-03-09T16:11:51.908Z"
   },
   {
    "duration": 185,
    "start_time": "2022-03-09T16:11:51.917Z"
   },
   {
    "duration": 7,
    "start_time": "2022-03-09T16:11:52.103Z"
   },
   {
    "duration": 3,
    "start_time": "2022-03-09T16:11:52.112Z"
   },
   {
    "duration": 6,
    "start_time": "2022-03-09T16:11:52.116Z"
   },
   {
    "duration": 295,
    "start_time": "2022-03-09T16:11:52.124Z"
   },
   {
    "duration": 209,
    "start_time": "2022-03-09T16:11:52.420Z"
   },
   {
    "duration": 121,
    "start_time": "2022-03-09T16:11:52.631Z"
   },
   {
    "duration": 10,
    "start_time": "2022-03-09T16:11:52.754Z"
   },
   {
    "duration": 124,
    "start_time": "2022-03-09T16:11:52.766Z"
   },
   {
    "duration": 15,
    "start_time": "2022-03-09T16:11:52.892Z"
   },
   {
    "duration": 125,
    "start_time": "2022-03-09T16:11:52.908Z"
   },
   {
    "duration": 10,
    "start_time": "2022-03-09T16:11:53.035Z"
   },
   {
    "duration": 136,
    "start_time": "2022-03-09T16:11:53.047Z"
   },
   {
    "duration": 9,
    "start_time": "2022-03-09T16:11:53.185Z"
   },
   {
    "duration": 125,
    "start_time": "2022-03-09T16:11:53.196Z"
   },
   {
    "duration": 10,
    "start_time": "2022-03-09T16:11:53.323Z"
   },
   {
    "duration": 546,
    "start_time": "2022-03-09T16:11:53.334Z"
   },
   {
    "duration": 450,
    "start_time": "2022-03-09T16:11:53.882Z"
   },
   {
    "duration": 492,
    "start_time": "2022-03-09T16:11:54.334Z"
   },
   {
    "duration": 134,
    "start_time": "2022-03-09T16:11:54.828Z"
   },
   {
    "duration": 153,
    "start_time": "2022-03-09T16:11:54.964Z"
   },
   {
    "duration": 512,
    "start_time": "2022-03-09T16:11:55.118Z"
   },
   {
    "duration": 507,
    "start_time": "2022-03-09T16:11:55.631Z"
   },
   {
    "duration": 9,
    "start_time": "2022-03-09T16:11:56.139Z"
   },
   {
    "duration": 27,
    "start_time": "2022-03-09T16:11:56.149Z"
   },
   {
    "duration": 29,
    "start_time": "2022-03-09T16:11:56.177Z"
   },
   {
    "duration": 8,
    "start_time": "2022-03-09T16:11:56.207Z"
   },
   {
    "duration": 162,
    "start_time": "2022-03-09T16:11:56.217Z"
   },
   {
    "duration": 5,
    "start_time": "2022-03-09T16:11:56.381Z"
   },
   {
    "duration": 213,
    "start_time": "2022-03-09T16:11:56.387Z"
   },
   {
    "duration": 223,
    "start_time": "2022-03-09T16:11:56.601Z"
   },
   {
    "duration": 179,
    "start_time": "2022-03-09T16:11:56.826Z"
   },
   {
    "duration": 298,
    "start_time": "2022-03-09T16:11:57.007Z"
   },
   {
    "duration": 291,
    "start_time": "2022-03-09T16:11:57.307Z"
   },
   {
    "duration": 299,
    "start_time": "2022-03-09T16:11:57.599Z"
   },
   {
    "duration": 195,
    "start_time": "2022-03-09T16:11:57.899Z"
   },
   {
    "duration": 1129,
    "start_time": "2022-03-09T16:14:16.509Z"
   },
   {
    "duration": 9,
    "start_time": "2022-03-09T16:14:17.640Z"
   },
   {
    "duration": 63,
    "start_time": "2022-03-09T16:14:17.650Z"
   },
   {
    "duration": 3,
    "start_time": "2022-03-09T16:14:17.715Z"
   },
   {
    "duration": 17,
    "start_time": "2022-03-09T16:14:17.719Z"
   },
   {
    "duration": 11,
    "start_time": "2022-03-09T16:14:17.737Z"
   },
   {
    "duration": 35,
    "start_time": "2022-03-09T16:14:17.749Z"
   },
   {
    "duration": 61,
    "start_time": "2022-03-09T16:14:17.786Z"
   },
   {
    "duration": 21,
    "start_time": "2022-03-09T16:14:17.848Z"
   },
   {
    "duration": 3,
    "start_time": "2022-03-09T16:14:17.870Z"
   },
   {
    "duration": 8,
    "start_time": "2022-03-09T16:14:17.874Z"
   },
   {
    "duration": 4,
    "start_time": "2022-03-09T16:14:17.884Z"
   },
   {
    "duration": 23,
    "start_time": "2022-03-09T16:14:17.889Z"
   },
   {
    "duration": 23,
    "start_time": "2022-03-09T16:14:17.913Z"
   },
   {
    "duration": 24,
    "start_time": "2022-03-09T16:14:17.937Z"
   },
   {
    "duration": 20,
    "start_time": "2022-03-09T16:14:17.962Z"
   },
   {
    "duration": 38,
    "start_time": "2022-03-09T16:14:17.983Z"
   },
   {
    "duration": 30,
    "start_time": "2022-03-09T16:14:18.022Z"
   },
   {
    "duration": 455,
    "start_time": "2022-03-09T16:14:18.053Z"
   },
   {
    "duration": 19,
    "start_time": "2022-03-09T16:14:18.510Z"
   },
   {
    "duration": 19,
    "start_time": "2022-03-09T16:14:18.530Z"
   },
   {
    "duration": 7,
    "start_time": "2022-03-09T16:14:18.550Z"
   },
   {
    "duration": 179,
    "start_time": "2022-03-09T16:14:18.560Z"
   },
   {
    "duration": 296,
    "start_time": "2022-03-09T16:14:18.742Z"
   },
   {
    "duration": 7,
    "start_time": "2022-03-09T16:14:19.039Z"
   },
   {
    "duration": 7,
    "start_time": "2022-03-09T16:14:19.048Z"
   },
   {
    "duration": 377,
    "start_time": "2022-03-09T16:14:19.056Z"
   },
   {
    "duration": 7,
    "start_time": "2022-03-09T16:14:19.434Z"
   },
   {
    "duration": 179,
    "start_time": "2022-03-09T16:14:19.443Z"
   },
   {
    "duration": 7,
    "start_time": "2022-03-09T16:14:19.624Z"
   },
   {
    "duration": 181,
    "start_time": "2022-03-09T16:14:19.632Z"
   },
   {
    "duration": 7,
    "start_time": "2022-03-09T16:14:19.815Z"
   },
   {
    "duration": 3,
    "start_time": "2022-03-09T16:14:19.824Z"
   },
   {
    "duration": 7,
    "start_time": "2022-03-09T16:14:19.828Z"
   },
   {
    "duration": 305,
    "start_time": "2022-03-09T16:14:19.837Z"
   },
   {
    "duration": 220,
    "start_time": "2022-03-09T16:14:20.143Z"
   },
   {
    "duration": 121,
    "start_time": "2022-03-09T16:14:20.365Z"
   },
   {
    "duration": 17,
    "start_time": "2022-03-09T16:14:20.487Z"
   },
   {
    "duration": 117,
    "start_time": "2022-03-09T16:14:20.506Z"
   },
   {
    "duration": 9,
    "start_time": "2022-03-09T16:14:20.624Z"
   },
   {
    "duration": 125,
    "start_time": "2022-03-09T16:14:20.634Z"
   },
   {
    "duration": 9,
    "start_time": "2022-03-09T16:14:20.760Z"
   },
   {
    "duration": 131,
    "start_time": "2022-03-09T16:14:20.771Z"
   },
   {
    "duration": 8,
    "start_time": "2022-03-09T16:14:20.903Z"
   },
   {
    "duration": 131,
    "start_time": "2022-03-09T16:14:20.913Z"
   },
   {
    "duration": 8,
    "start_time": "2022-03-09T16:14:21.046Z"
   },
   {
    "duration": 575,
    "start_time": "2022-03-09T16:14:21.055Z"
   },
   {
    "duration": 509,
    "start_time": "2022-03-09T16:14:21.632Z"
   },
   {
    "duration": 422,
    "start_time": "2022-03-09T16:14:22.142Z"
   },
   {
    "duration": 134,
    "start_time": "2022-03-09T16:14:22.565Z"
   },
   {
    "duration": 157,
    "start_time": "2022-03-09T16:14:22.701Z"
   },
   {
    "duration": 459,
    "start_time": "2022-03-09T16:14:22.860Z"
   },
   {
    "duration": 472,
    "start_time": "2022-03-09T16:14:23.321Z"
   },
   {
    "duration": 12,
    "start_time": "2022-03-09T16:14:23.794Z"
   },
   {
    "duration": 17,
    "start_time": "2022-03-09T16:14:23.807Z"
   },
   {
    "duration": 20,
    "start_time": "2022-03-09T16:14:23.825Z"
   },
   {
    "duration": 9,
    "start_time": "2022-03-09T16:14:23.846Z"
   },
   {
    "duration": 184,
    "start_time": "2022-03-09T16:14:23.856Z"
   },
   {
    "duration": 5,
    "start_time": "2022-03-09T16:14:24.042Z"
   },
   {
    "duration": 220,
    "start_time": "2022-03-09T16:14:24.048Z"
   },
   {
    "duration": 232,
    "start_time": "2022-03-09T16:14:24.270Z"
   },
   {
    "duration": 180,
    "start_time": "2022-03-09T16:14:24.503Z"
   },
   {
    "duration": 286,
    "start_time": "2022-03-09T16:14:24.685Z"
   },
   {
    "duration": 298,
    "start_time": "2022-03-09T16:14:24.972Z"
   },
   {
    "duration": 280,
    "start_time": "2022-03-09T16:14:25.271Z"
   },
   {
    "duration": 196,
    "start_time": "2022-03-09T16:14:25.552Z"
   },
   {
    "duration": 62,
    "start_time": "2022-03-09T16:27:25.450Z"
   },
   {
    "duration": 35,
    "start_time": "2022-03-09T16:27:30.178Z"
   },
   {
    "duration": 172,
    "start_time": "2022-03-09T16:42:39.633Z"
   },
   {
    "duration": 159,
    "start_time": "2022-03-09T16:42:47.056Z"
   },
   {
    "duration": 211,
    "start_time": "2022-03-09T16:42:57.999Z"
   },
   {
    "duration": 206,
    "start_time": "2022-03-09T16:43:22.570Z"
   },
   {
    "duration": 229,
    "start_time": "2022-03-09T16:43:31.040Z"
   },
   {
    "duration": 207,
    "start_time": "2022-03-09T16:43:43.490Z"
   },
   {
    "duration": 222,
    "start_time": "2022-03-09T16:43:59.603Z"
   },
   {
    "duration": 261,
    "start_time": "2022-03-09T16:44:03.898Z"
   },
   {
    "duration": 1365,
    "start_time": "2022-07-24T18:19:42.471Z"
   },
   {
    "duration": 336,
    "start_time": "2022-07-24T18:19:43.838Z"
   },
   {
    "duration": 15,
    "start_time": "2022-07-24T18:19:44.176Z"
   },
   {
    "duration": 75,
    "start_time": "2022-07-24T18:19:44.193Z"
   },
   {
    "duration": 4,
    "start_time": "2022-07-24T18:19:44.270Z"
   },
   {
    "duration": 17,
    "start_time": "2022-07-24T18:19:44.276Z"
   },
   {
    "duration": 14,
    "start_time": "2022-07-24T18:19:44.295Z"
   },
   {
    "duration": 38,
    "start_time": "2022-07-24T18:19:44.311Z"
   },
   {
    "duration": 27,
    "start_time": "2022-07-24T18:19:44.351Z"
   },
   {
    "duration": 56,
    "start_time": "2022-07-24T18:19:44.381Z"
   },
   {
    "duration": 4,
    "start_time": "2022-07-24T18:19:44.439Z"
   },
   {
    "duration": 9,
    "start_time": "2022-07-24T18:19:44.445Z"
   },
   {
    "duration": 13,
    "start_time": "2022-07-24T18:19:44.456Z"
   },
   {
    "duration": 24,
    "start_time": "2022-07-24T18:19:44.472Z"
   },
   {
    "duration": 55,
    "start_time": "2022-07-24T18:19:44.498Z"
   },
   {
    "duration": 38,
    "start_time": "2022-07-24T18:19:44.555Z"
   },
   {
    "duration": 54,
    "start_time": "2022-07-24T18:19:44.595Z"
   },
   {
    "duration": 32,
    "start_time": "2022-07-24T18:19:44.651Z"
   },
   {
    "duration": 61,
    "start_time": "2022-07-24T18:19:44.685Z"
   },
   {
    "duration": 320,
    "start_time": "2022-07-24T18:19:44.749Z"
   },
   {
    "duration": 24,
    "start_time": "2022-07-24T18:19:45.071Z"
   },
   {
    "duration": 37,
    "start_time": "2022-07-24T18:19:45.096Z"
   },
   {
    "duration": 8,
    "start_time": "2022-07-24T18:19:45.134Z"
   },
   {
    "duration": 142,
    "start_time": "2022-07-24T18:19:45.144Z"
   },
   {
    "duration": 258,
    "start_time": "2022-07-24T18:19:45.287Z"
   },
   {
    "duration": 10,
    "start_time": "2022-07-24T18:19:45.546Z"
   },
   {
    "duration": 12,
    "start_time": "2022-07-24T18:19:45.557Z"
   },
   {
    "duration": 270,
    "start_time": "2022-07-24T18:19:45.573Z"
   },
   {
    "duration": 9,
    "start_time": "2022-07-24T18:19:45.844Z"
   },
   {
    "duration": 268,
    "start_time": "2022-07-24T18:19:45.854Z"
   },
   {
    "duration": 9,
    "start_time": "2022-07-24T18:19:46.124Z"
   },
   {
    "duration": 155,
    "start_time": "2022-07-24T18:19:46.135Z"
   },
   {
    "duration": 10,
    "start_time": "2022-07-24T18:19:46.292Z"
   },
   {
    "duration": 18,
    "start_time": "2022-07-24T18:19:46.304Z"
   },
   {
    "duration": 5,
    "start_time": "2022-07-24T18:19:46.324Z"
   },
   {
    "duration": 269,
    "start_time": "2022-07-24T18:19:46.330Z"
   },
   {
    "duration": 193,
    "start_time": "2022-07-24T18:19:46.601Z"
   },
   {
    "duration": 121,
    "start_time": "2022-07-24T18:19:46.795Z"
   },
   {
    "duration": 16,
    "start_time": "2022-07-24T18:19:46.918Z"
   },
   {
    "duration": 134,
    "start_time": "2022-07-24T18:19:46.936Z"
   },
   {
    "duration": 13,
    "start_time": "2022-07-24T18:19:47.071Z"
   },
   {
    "duration": 129,
    "start_time": "2022-07-24T18:19:47.085Z"
   },
   {
    "duration": 16,
    "start_time": "2022-07-24T18:19:47.216Z"
   },
   {
    "duration": 144,
    "start_time": "2022-07-24T18:19:47.233Z"
   },
   {
    "duration": 12,
    "start_time": "2022-07-24T18:19:47.379Z"
   },
   {
    "duration": 125,
    "start_time": "2022-07-24T18:19:47.392Z"
   },
   {
    "duration": 9,
    "start_time": "2022-07-24T18:19:47.522Z"
   },
   {
    "duration": 214,
    "start_time": "2022-07-24T18:19:47.533Z"
   },
   {
    "duration": 289,
    "start_time": "2022-07-24T18:19:47.749Z"
   },
   {
    "duration": 170,
    "start_time": "2022-07-24T18:19:48.040Z"
   },
   {
    "duration": 139,
    "start_time": "2022-07-24T18:19:48.212Z"
   },
   {
    "duration": 155,
    "start_time": "2022-07-24T18:19:48.353Z"
   },
   {
    "duration": 192,
    "start_time": "2022-07-24T18:19:48.510Z"
   },
   {
    "duration": 195,
    "start_time": "2022-07-24T18:19:48.703Z"
   },
   {
    "duration": 8,
    "start_time": "2022-07-24T18:19:48.900Z"
   },
   {
    "duration": 36,
    "start_time": "2022-07-24T18:19:48.910Z"
   },
   {
    "duration": 24,
    "start_time": "2022-07-24T18:19:48.947Z"
   },
   {
    "duration": 9,
    "start_time": "2022-07-24T18:19:48.973Z"
   },
   {
    "duration": 161,
    "start_time": "2022-07-24T18:19:48.984Z"
   },
   {
    "duration": 7,
    "start_time": "2022-07-24T18:19:49.147Z"
   },
   {
    "duration": 194,
    "start_time": "2022-07-24T18:19:49.156Z"
   },
   {
    "duration": 217,
    "start_time": "2022-07-24T18:19:49.352Z"
   },
   {
    "duration": 254,
    "start_time": "2022-07-24T18:19:49.570Z"
   },
   {
    "duration": 204,
    "start_time": "2022-07-24T18:19:49.826Z"
   },
   {
    "duration": 146,
    "start_time": "2022-07-24T18:19:50.031Z"
   },
   {
    "duration": 142,
    "start_time": "2022-07-24T18:19:50.179Z"
   },
   {
    "duration": 291,
    "start_time": "2022-07-24T18:19:50.322Z"
   }
  ],
  "kernelspec": {
   "display_name": "Python 3 (ipykernel)",
   "language": "python",
   "name": "python3"
  },
  "language_info": {
   "codemirror_mode": {
    "name": "ipython",
    "version": 3
   },
   "file_extension": ".py",
   "mimetype": "text/x-python",
   "name": "python",
   "nbconvert_exporter": "python",
   "pygments_lexer": "ipython3",
   "version": "3.9.5"
  },
  "toc": {
   "base_numbering": 1,
   "nav_menu": {},
   "number_sections": true,
   "sideBar": true,
   "skip_h1_title": true,
   "title_cell": "Содержание",
   "title_sidebar": "Contents",
   "toc_cell": true,
   "toc_position": {
    "height": "calc(100% - 180px)",
    "left": "10px",
    "top": "150px",
    "width": "165px"
   },
   "toc_section_display": true,
   "toc_window_display": true
  }
 },
 "nbformat": 4,
 "nbformat_minor": 4
}
