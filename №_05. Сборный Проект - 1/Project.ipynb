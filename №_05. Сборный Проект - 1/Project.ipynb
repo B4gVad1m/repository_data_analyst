{
 "cells": [
  {
   "cell_type": "markdown",
   "metadata": {},
   "source": [
    "<h1>Оглавление<span class=\"tocSkip\"></span></h1>\n",
    "<div class=\"toc\"><ul class=\"toc-item\"><li><span><a data-toc-modified-id=\"Обзор-данных-1\"><span class=\"toc-item-num\">1&nbsp;&nbsp;</span>Обзор данных</a></span><ul class=\"toc-item\"><li><span><a data-toc-modified-id=\"Вывод-по-блоку-1.1\"><span class=\"toc-item-num\">1.1&nbsp;&nbsp;</span>Вывод по блоку</a></span></li></ul></li><li><span><a data-toc-modified-id=\"Предобработка-данных-2\"><span class=\"toc-item-num\">2&nbsp;&nbsp;</span>Предобработка данных</a></span><ul class=\"toc-item\"><li><span><a data-toc-modified-id=\"Вывод-по-блоку-2.1\"><span class=\"toc-item-num\">2.1&nbsp;&nbsp;</span>Вывод по блоку</a></span></li></ul></li><li><span><a data-toc-modified-id=\"Иследовательский-анализ-3\"><span class=\"toc-item-num\">3&nbsp;&nbsp;</span>Иследовательский анализ</a></span><ul class=\"toc-item\"><li><span><a data-toc-modified-id=\"Сравнения-игр-по-годам-3.1\"><span class=\"toc-item-num\">3.1&nbsp;&nbsp;</span>Сравнения игр по годам</a></span></li><li><span><a data-toc-modified-id=\"Продажа-по-платформам-3.2\"><span class=\"toc-item-num\">3.2&nbsp;&nbsp;</span>Продажа по платформам</a></span></li><li><span><a data-toc-modified-id=\"Актуальный-период-3.3\"><span class=\"toc-item-num\">3.3&nbsp;&nbsp;</span>Актуальный период</a></span></li><li><span><a data-toc-modified-id=\"Птенциально-прибыльные-платформы-3.4\"><span class=\"toc-item-num\">3.4&nbsp;&nbsp;</span>Птенциально прибыльные платформы</a></span></li><li><span><a data-toc-modified-id=\"Глобальным-продажи-игр-в-разбивке-по-платформам-3.5\"><span class=\"toc-item-num\">3.5&nbsp;&nbsp;</span>Глобальным продажи игр в разбивке по платформам</a></span></li><li><span><a data-toc-modified-id=\"Продажи-внутри-одной-популярной-платформы-отзывы-пользователей-и-критиков-3.6\"><span class=\"toc-item-num\">3.6&nbsp;&nbsp;</span>Продажи внутри одной популярной платформы отзывы пользователей и критиков</a></span></li><li><span><a data-toc-modified-id=\"Сравнения-игр-по-жанрам-3.7\"><span class=\"toc-item-num\">3.7&nbsp;&nbsp;</span>Сравнения игр по жанрам</a></span></li><li><span><a data-toc-modified-id=\"Вывод-по-блоку-3.8\"><span class=\"toc-item-num\">3.8&nbsp;&nbsp;</span>Вывод по блоку</a></span></li></ul></li><li><span><a data-toc-modified-id=\"Портрет-пользователя-каждого-региона-(NA,-EU,-JP)-4\"><span class=\"toc-item-num\">4&nbsp;&nbsp;</span>Портрет пользователя каждого региона (NA, EU, JP)</a></span><ul class=\"toc-item\"><li><span><a data-toc-modified-id=\"Самые-популярные-платформы-(топ-5)-4.1\"><span class=\"toc-item-num\">4.1&nbsp;&nbsp;</span>Самые популярные платформы (топ-5)</a></span><ul class=\"toc-item\"><li><span><a data-toc-modified-id=\"Вывод-4.1.1\"><span class=\"toc-item-num\">4.1.1&nbsp;&nbsp;</span>Вывод</a></span></li></ul></li><li><span><a data-toc-modified-id=\"Самые-популярные-жанры-(топ-5)-4.2\"><span class=\"toc-item-num\">4.2&nbsp;&nbsp;</span>Самые популярные жанры (топ-5)</a></span><ul class=\"toc-item\"><li><span><a data-toc-modified-id=\"Вывод-4.2.1\"><span class=\"toc-item-num\">4.2.1&nbsp;&nbsp;</span>Вывод</a></span></li></ul></li><li><span><a data-toc-modified-id=\"Рейтинг-ERSB-(топ-5)-4.3\"><span class=\"toc-item-num\">4.3&nbsp;&nbsp;</span>Рейтинг ERSB (топ-5)</a></span><ul class=\"toc-item\"><li><span><a data-toc-modified-id=\"Вывод-4.3.1\"><span class=\"toc-item-num\">4.3.1&nbsp;&nbsp;</span>Вывод</a></span></li></ul></li></ul></li><li><span><a data-toc-modified-id=\"Проверка-гипотез-5\"><span class=\"toc-item-num\">5&nbsp;&nbsp;</span>Проверка гипотез</a></span><ul class=\"toc-item\"><li><span><a data-toc-modified-id=\"Первая-гипотеза-5.1\"><span class=\"toc-item-num\">5.1&nbsp;&nbsp;</span>Первая гипотеза</a></span></li><li><span><a data-toc-modified-id=\"Вторая-гипотеза-5.2\"><span class=\"toc-item-num\">5.2&nbsp;&nbsp;</span>Вторая гипотеза</a></span></li></ul></li><li><span><a data-toc-modified-id=\"Общий-вывод-6\"><span class=\"toc-item-num\">6&nbsp;&nbsp;</span>Общий вывод</a></span></li></ul></div>"
   ]
  },
  {
   "cell_type": "markdown",
   "metadata": {},
   "source": [
    "# Выявление определяющей успешности и закономерности игр"
   ]
  },
  {
   "cell_type": "markdown",
   "metadata": {},
   "source": [
    "**Цель исследования:** \n",
    "\n",
    "Найти более потенциально популярный продукт среди игр в интерент-магазине «Стримчик», спланировать рекламные компании и проверить две гипотезы:\n",
    "\n",
    "- среднее пользовательские рейтинги платформ Xbox One и PC одинаковые\n",
    "\n",
    "\n",
    "- среднее пользовательские рейтинги жанров Action (англ. «действие», экшен-игры) и Sports (англ. «спортивные соревнования») разные\n",
    "\n",
    "**Примечание**\n",
    "\n",
    "В наборе данных попадается аббревиатура ESRB (Entertainment Software Rating Board) — это ассоциация, определяющая возрастной рейтинг компьютерных игр. ESRB оценивает игровой контент и присваивает ему подходящую возрастную категорию, например, «Для взрослых», «Для детей младшего возраста» или «Для подростков»"
   ]
  },
  {
   "cell_type": "markdown",
   "metadata": {},
   "source": [
    "## 1. Обзор данных"
   ]
  },
  {
   "cell_type": "code",
   "execution_count": 1,
   "metadata": {},
   "outputs": [],
   "source": [
    "# импортировал библиотеки\n",
    "import pandas as pd\n",
    "import numpy as np\n",
    "import seaborn as sns\n",
    "import matplotlib.pyplot as plt\n",
    "import math\n",
    "from scipy import stats as st\n",
    "from sklearn import datasets"
   ]
  },
  {
   "cell_type": "code",
   "execution_count": 2,
   "metadata": {},
   "outputs": [
    {
     "data": {
      "text/html": [
       "<div>\n",
       "<style scoped>\n",
       "    .dataframe tbody tr th:only-of-type {\n",
       "        vertical-align: middle;\n",
       "    }\n",
       "\n",
       "    .dataframe tbody tr th {\n",
       "        vertical-align: top;\n",
       "    }\n",
       "\n",
       "    .dataframe thead th {\n",
       "        text-align: right;\n",
       "    }\n",
       "</style>\n",
       "<table border=\"1\" class=\"dataframe\">\n",
       "  <thead>\n",
       "    <tr style=\"text-align: right;\">\n",
       "      <th></th>\n",
       "      <th>Name</th>\n",
       "      <th>Platform</th>\n",
       "      <th>Year_of_Release</th>\n",
       "      <th>Genre</th>\n",
       "      <th>NA_sales</th>\n",
       "      <th>EU_sales</th>\n",
       "      <th>JP_sales</th>\n",
       "      <th>Other_sales</th>\n",
       "      <th>Critic_Score</th>\n",
       "      <th>User_Score</th>\n",
       "      <th>Rating</th>\n",
       "    </tr>\n",
       "  </thead>\n",
       "  <tbody>\n",
       "    <tr>\n",
       "      <th>0</th>\n",
       "      <td>Wii Sports</td>\n",
       "      <td>Wii</td>\n",
       "      <td>2006.0</td>\n",
       "      <td>Sports</td>\n",
       "      <td>41.36</td>\n",
       "      <td>28.96</td>\n",
       "      <td>3.77</td>\n",
       "      <td>8.45</td>\n",
       "      <td>76.0</td>\n",
       "      <td>8</td>\n",
       "      <td>E</td>\n",
       "    </tr>\n",
       "    <tr>\n",
       "      <th>1</th>\n",
       "      <td>Super Mario Bros.</td>\n",
       "      <td>NES</td>\n",
       "      <td>1985.0</td>\n",
       "      <td>Platform</td>\n",
       "      <td>29.08</td>\n",
       "      <td>3.58</td>\n",
       "      <td>6.81</td>\n",
       "      <td>0.77</td>\n",
       "      <td>NaN</td>\n",
       "      <td>NaN</td>\n",
       "      <td>NaN</td>\n",
       "    </tr>\n",
       "    <tr>\n",
       "      <th>2</th>\n",
       "      <td>Mario Kart Wii</td>\n",
       "      <td>Wii</td>\n",
       "      <td>2008.0</td>\n",
       "      <td>Racing</td>\n",
       "      <td>15.68</td>\n",
       "      <td>12.76</td>\n",
       "      <td>3.79</td>\n",
       "      <td>3.29</td>\n",
       "      <td>82.0</td>\n",
       "      <td>8.3</td>\n",
       "      <td>E</td>\n",
       "    </tr>\n",
       "    <tr>\n",
       "      <th>3</th>\n",
       "      <td>Wii Sports Resort</td>\n",
       "      <td>Wii</td>\n",
       "      <td>2009.0</td>\n",
       "      <td>Sports</td>\n",
       "      <td>15.61</td>\n",
       "      <td>10.93</td>\n",
       "      <td>3.28</td>\n",
       "      <td>2.95</td>\n",
       "      <td>80.0</td>\n",
       "      <td>8</td>\n",
       "      <td>E</td>\n",
       "    </tr>\n",
       "    <tr>\n",
       "      <th>4</th>\n",
       "      <td>Pokemon Red/Pokemon Blue</td>\n",
       "      <td>GB</td>\n",
       "      <td>1996.0</td>\n",
       "      <td>Role-Playing</td>\n",
       "      <td>11.27</td>\n",
       "      <td>8.89</td>\n",
       "      <td>10.22</td>\n",
       "      <td>1.00</td>\n",
       "      <td>NaN</td>\n",
       "      <td>NaN</td>\n",
       "      <td>NaN</td>\n",
       "    </tr>\n",
       "    <tr>\n",
       "      <th>...</th>\n",
       "      <td>...</td>\n",
       "      <td>...</td>\n",
       "      <td>...</td>\n",
       "      <td>...</td>\n",
       "      <td>...</td>\n",
       "      <td>...</td>\n",
       "      <td>...</td>\n",
       "      <td>...</td>\n",
       "      <td>...</td>\n",
       "      <td>...</td>\n",
       "      <td>...</td>\n",
       "    </tr>\n",
       "    <tr>\n",
       "      <th>16710</th>\n",
       "      <td>Samurai Warriors: Sanada Maru</td>\n",
       "      <td>PS3</td>\n",
       "      <td>2016.0</td>\n",
       "      <td>Action</td>\n",
       "      <td>0.00</td>\n",
       "      <td>0.00</td>\n",
       "      <td>0.01</td>\n",
       "      <td>0.00</td>\n",
       "      <td>NaN</td>\n",
       "      <td>NaN</td>\n",
       "      <td>NaN</td>\n",
       "    </tr>\n",
       "    <tr>\n",
       "      <th>16711</th>\n",
       "      <td>LMA Manager 2007</td>\n",
       "      <td>X360</td>\n",
       "      <td>2006.0</td>\n",
       "      <td>Sports</td>\n",
       "      <td>0.00</td>\n",
       "      <td>0.01</td>\n",
       "      <td>0.00</td>\n",
       "      <td>0.00</td>\n",
       "      <td>NaN</td>\n",
       "      <td>NaN</td>\n",
       "      <td>NaN</td>\n",
       "    </tr>\n",
       "    <tr>\n",
       "      <th>16712</th>\n",
       "      <td>Haitaka no Psychedelica</td>\n",
       "      <td>PSV</td>\n",
       "      <td>2016.0</td>\n",
       "      <td>Adventure</td>\n",
       "      <td>0.00</td>\n",
       "      <td>0.00</td>\n",
       "      <td>0.01</td>\n",
       "      <td>0.00</td>\n",
       "      <td>NaN</td>\n",
       "      <td>NaN</td>\n",
       "      <td>NaN</td>\n",
       "    </tr>\n",
       "    <tr>\n",
       "      <th>16713</th>\n",
       "      <td>Spirits &amp; Spells</td>\n",
       "      <td>GBA</td>\n",
       "      <td>2003.0</td>\n",
       "      <td>Platform</td>\n",
       "      <td>0.01</td>\n",
       "      <td>0.00</td>\n",
       "      <td>0.00</td>\n",
       "      <td>0.00</td>\n",
       "      <td>NaN</td>\n",
       "      <td>NaN</td>\n",
       "      <td>NaN</td>\n",
       "    </tr>\n",
       "    <tr>\n",
       "      <th>16714</th>\n",
       "      <td>Winning Post 8 2016</td>\n",
       "      <td>PSV</td>\n",
       "      <td>2016.0</td>\n",
       "      <td>Simulation</td>\n",
       "      <td>0.00</td>\n",
       "      <td>0.00</td>\n",
       "      <td>0.01</td>\n",
       "      <td>0.00</td>\n",
       "      <td>NaN</td>\n",
       "      <td>NaN</td>\n",
       "      <td>NaN</td>\n",
       "    </tr>\n",
       "  </tbody>\n",
       "</table>\n",
       "<p>16715 rows × 11 columns</p>\n",
       "</div>"
      ],
      "text/plain": [
       "                                Name Platform  Year_of_Release         Genre  \\\n",
       "0                         Wii Sports      Wii           2006.0        Sports   \n",
       "1                  Super Mario Bros.      NES           1985.0      Platform   \n",
       "2                     Mario Kart Wii      Wii           2008.0        Racing   \n",
       "3                  Wii Sports Resort      Wii           2009.0        Sports   \n",
       "4           Pokemon Red/Pokemon Blue       GB           1996.0  Role-Playing   \n",
       "...                              ...      ...              ...           ...   \n",
       "16710  Samurai Warriors: Sanada Maru      PS3           2016.0        Action   \n",
       "16711               LMA Manager 2007     X360           2006.0        Sports   \n",
       "16712        Haitaka no Psychedelica      PSV           2016.0     Adventure   \n",
       "16713               Spirits & Spells      GBA           2003.0      Platform   \n",
       "16714            Winning Post 8 2016      PSV           2016.0    Simulation   \n",
       "\n",
       "       NA_sales  EU_sales  JP_sales  Other_sales  Critic_Score User_Score  \\\n",
       "0         41.36     28.96      3.77         8.45          76.0          8   \n",
       "1         29.08      3.58      6.81         0.77           NaN        NaN   \n",
       "2         15.68     12.76      3.79         3.29          82.0        8.3   \n",
       "3         15.61     10.93      3.28         2.95          80.0          8   \n",
       "4         11.27      8.89     10.22         1.00           NaN        NaN   \n",
       "...         ...       ...       ...          ...           ...        ...   \n",
       "16710      0.00      0.00      0.01         0.00           NaN        NaN   \n",
       "16711      0.00      0.01      0.00         0.00           NaN        NaN   \n",
       "16712      0.00      0.00      0.01         0.00           NaN        NaN   \n",
       "16713      0.01      0.00      0.00         0.00           NaN        NaN   \n",
       "16714      0.00      0.00      0.01         0.00           NaN        NaN   \n",
       "\n",
       "      Rating  \n",
       "0          E  \n",
       "1        NaN  \n",
       "2          E  \n",
       "3          E  \n",
       "4        NaN  \n",
       "...      ...  \n",
       "16710    NaN  \n",
       "16711    NaN  \n",
       "16712    NaN  \n",
       "16713    NaN  \n",
       "16714    NaN  \n",
       "\n",
       "[16715 rows x 11 columns]"
      ]
     },
     "execution_count": 2,
     "metadata": {},
     "output_type": "execute_result"
    }
   ],
   "source": [
    "# создал переменную df и сохранил в неё файлы\n",
    "df = pd.read_csv('/datasets/games.csv')\n",
    "df"
   ]
  },
  {
   "cell_type": "code",
   "execution_count": 3,
   "metadata": {},
   "outputs": [
    {
     "name": "stdout",
     "output_type": "stream",
     "text": [
      "<class 'pandas.core.frame.DataFrame'>\n",
      "RangeIndex: 16715 entries, 0 to 16714\n",
      "Data columns (total 11 columns):\n",
      " #   Column           Non-Null Count  Dtype  \n",
      "---  ------           --------------  -----  \n",
      " 0   Name             16713 non-null  object \n",
      " 1   Platform         16715 non-null  object \n",
      " 2   Year_of_Release  16446 non-null  float64\n",
      " 3   Genre            16713 non-null  object \n",
      " 4   NA_sales         16715 non-null  float64\n",
      " 5   EU_sales         16715 non-null  float64\n",
      " 6   JP_sales         16715 non-null  float64\n",
      " 7   Other_sales      16715 non-null  float64\n",
      " 8   Critic_Score     8137 non-null   float64\n",
      " 9   User_Score       10014 non-null  object \n",
      " 10  Rating           9949 non-null   object \n",
      "dtypes: float64(6), object(5)\n",
      "memory usage: 1.4+ MB\n"
     ]
    }
   ],
   "source": [
    "# посмотрел общую информацию \n",
    "df.info()"
   ]
  },
  {
   "cell_type": "markdown",
   "metadata": {},
   "source": [
    "В таблице 16715 строк и 12 столбцов"
   ]
  },
  {
   "cell_type": "markdown",
   "metadata": {},
   "source": [
    "**Согласно документации к данным:**\n",
    "\n",
    "\n",
    "* `Name`— название игры\n",
    "* `Platform` — платформа\n",
    "* `Year_of_Release` — год выпуска\n",
    "* `Genre` — жанр игры\n",
    "* `NA_sales` — продажи в Северной Америке (миллионы проданных копий)\n",
    "* `EU_sales` — продажи в Европе (миллионы проданных копий)\n",
    "* `JP_sales` — продажи в Японии (миллионы проданных копий)\n",
    "* `Other_sales` — продажи в других странах (миллионы проданных копий)\n",
    "* `Critic_Score` — оценка критиков (максимум 100)\n",
    "* `User_Score` — оценка пользователей (максимум 10)\n",
    "* `Rating` — рейтинг от организации ESRB (англ. Entertainment Software Rating Board). Эта ассоциация определяет рейтинг компьютерных игр и присваивает им подходящую возрастную категорию.\n",
    "\n",
    "Данные за 2016 год могут быть неполными"
   ]
  },
  {
   "cell_type": "markdown",
   "metadata": {},
   "source": [
    "### 1.1 Вывод по блоку\n",
    "\n",
    "По данной таблицы выявлены столбцы с пропущенными значениями из них: Name, Genre, Critic_Score, User_Store, Rating. В столбцах Name и Genre всего лишь по два пропуска и эти строки надо удалить. В столбце Year_of_Release присутствует около 300 пропусков и имеет тип float, нужно заменить на тип int, а строки с пропуском удалить из-за небольшого количества значений. В трёх последних столбцах выявлено более 5000 пропущенных значений, удалять не надо, так как много данных потеряем, лучше их оставить. Ещё обнаружено в столбце User_Score тип object, изучить на что можно заменить"
   ]
  },
  {
   "cell_type": "markdown",
   "metadata": {},
   "source": [
    "## 2. Предобработка данных"
   ]
  },
  {
   "cell_type": "code",
   "execution_count": 4,
   "metadata": {},
   "outputs": [
    {
     "data": {
      "text/plain": [
       "Name                  2\n",
       "Platform              0\n",
       "Year_of_Release     269\n",
       "Genre                 2\n",
       "NA_sales              0\n",
       "EU_sales              0\n",
       "JP_sales              0\n",
       "Other_sales           0\n",
       "Critic_Score       8578\n",
       "User_Score         6701\n",
       "Rating             6766\n",
       "dtype: int64"
      ]
     },
     "execution_count": 4,
     "metadata": {},
     "output_type": "execute_result"
    }
   ],
   "source": [
    "# посмотрел сколько всего пропусков\n",
    "df.isna().sum()"
   ]
  },
  {
   "cell_type": "code",
   "execution_count": 5,
   "metadata": {},
   "outputs": [
    {
     "data": {
      "text/plain": [
       "Name               11559\n",
       "Platform              31\n",
       "Year_of_Release       37\n",
       "Genre                 12\n",
       "NA_sales             402\n",
       "EU_sales             307\n",
       "JP_sales             244\n",
       "Other_sales          155\n",
       "Critic_Score          82\n",
       "User_Score            96\n",
       "Rating                 8\n",
       "dtype: int64"
      ]
     },
     "execution_count": 5,
     "metadata": {},
     "output_type": "execute_result"
    }
   ],
   "source": [
    "# вывел количество уникальных значений\n",
    "df.nunique()"
   ]
  },
  {
   "cell_type": "code",
   "execution_count": 6,
   "metadata": {},
   "outputs": [
    {
     "data": {
      "text/html": [
       "<div>\n",
       "<style scoped>\n",
       "    .dataframe tbody tr th:only-of-type {\n",
       "        vertical-align: middle;\n",
       "    }\n",
       "\n",
       "    .dataframe tbody tr th {\n",
       "        vertical-align: top;\n",
       "    }\n",
       "\n",
       "    .dataframe thead th {\n",
       "        text-align: right;\n",
       "    }\n",
       "</style>\n",
       "<table border=\"1\" class=\"dataframe\">\n",
       "  <thead>\n",
       "    <tr style=\"text-align: right;\">\n",
       "      <th></th>\n",
       "      <th>name</th>\n",
       "      <th>platform</th>\n",
       "      <th>year_of_release</th>\n",
       "      <th>genre</th>\n",
       "      <th>na_sales</th>\n",
       "      <th>eu_sales</th>\n",
       "      <th>jp_sales</th>\n",
       "      <th>other_sales</th>\n",
       "      <th>critic_score</th>\n",
       "      <th>user_score</th>\n",
       "      <th>rating</th>\n",
       "    </tr>\n",
       "  </thead>\n",
       "  <tbody>\n",
       "    <tr>\n",
       "      <th>0</th>\n",
       "      <td>Wii Sports</td>\n",
       "      <td>Wii</td>\n",
       "      <td>2006.0</td>\n",
       "      <td>Sports</td>\n",
       "      <td>41.36</td>\n",
       "      <td>28.96</td>\n",
       "      <td>3.77</td>\n",
       "      <td>8.45</td>\n",
       "      <td>76.0</td>\n",
       "      <td>8</td>\n",
       "      <td>E</td>\n",
       "    </tr>\n",
       "    <tr>\n",
       "      <th>1</th>\n",
       "      <td>Super Mario Bros.</td>\n",
       "      <td>NES</td>\n",
       "      <td>1985.0</td>\n",
       "      <td>Platform</td>\n",
       "      <td>29.08</td>\n",
       "      <td>3.58</td>\n",
       "      <td>6.81</td>\n",
       "      <td>0.77</td>\n",
       "      <td>NaN</td>\n",
       "      <td>NaN</td>\n",
       "      <td>NaN</td>\n",
       "    </tr>\n",
       "    <tr>\n",
       "      <th>2</th>\n",
       "      <td>Mario Kart Wii</td>\n",
       "      <td>Wii</td>\n",
       "      <td>2008.0</td>\n",
       "      <td>Racing</td>\n",
       "      <td>15.68</td>\n",
       "      <td>12.76</td>\n",
       "      <td>3.79</td>\n",
       "      <td>3.29</td>\n",
       "      <td>82.0</td>\n",
       "      <td>8.3</td>\n",
       "      <td>E</td>\n",
       "    </tr>\n",
       "    <tr>\n",
       "      <th>3</th>\n",
       "      <td>Wii Sports Resort</td>\n",
       "      <td>Wii</td>\n",
       "      <td>2009.0</td>\n",
       "      <td>Sports</td>\n",
       "      <td>15.61</td>\n",
       "      <td>10.93</td>\n",
       "      <td>3.28</td>\n",
       "      <td>2.95</td>\n",
       "      <td>80.0</td>\n",
       "      <td>8</td>\n",
       "      <td>E</td>\n",
       "    </tr>\n",
       "    <tr>\n",
       "      <th>4</th>\n",
       "      <td>Pokemon Red/Pokemon Blue</td>\n",
       "      <td>GB</td>\n",
       "      <td>1996.0</td>\n",
       "      <td>Role-Playing</td>\n",
       "      <td>11.27</td>\n",
       "      <td>8.89</td>\n",
       "      <td>10.22</td>\n",
       "      <td>1.00</td>\n",
       "      <td>NaN</td>\n",
       "      <td>NaN</td>\n",
       "      <td>NaN</td>\n",
       "    </tr>\n",
       "  </tbody>\n",
       "</table>\n",
       "</div>"
      ],
      "text/plain": [
       "                       name platform  year_of_release         genre  na_sales  \\\n",
       "0                Wii Sports      Wii           2006.0        Sports     41.36   \n",
       "1         Super Mario Bros.      NES           1985.0      Platform     29.08   \n",
       "2            Mario Kart Wii      Wii           2008.0        Racing     15.68   \n",
       "3         Wii Sports Resort      Wii           2009.0        Sports     15.61   \n",
       "4  Pokemon Red/Pokemon Blue       GB           1996.0  Role-Playing     11.27   \n",
       "\n",
       "   eu_sales  jp_sales  other_sales  critic_score user_score rating  \n",
       "0     28.96      3.77         8.45          76.0          8      E  \n",
       "1      3.58      6.81         0.77           NaN        NaN    NaN  \n",
       "2     12.76      3.79         3.29          82.0        8.3      E  \n",
       "3     10.93      3.28         2.95          80.0          8      E  \n",
       "4      8.89     10.22         1.00           NaN        NaN    NaN  "
      ]
     },
     "execution_count": 6,
     "metadata": {},
     "output_type": "execute_result"
    }
   ],
   "source": [
    "# привёл все столбцы к нижнему регистру\n",
    "df.columns = df.columns.str.lower()\n",
    "df.head()"
   ]
  },
  {
   "cell_type": "code",
   "execution_count": 7,
   "metadata": {},
   "outputs": [
    {
     "name": "stderr",
     "output_type": "stream",
     "text": [
      "/tmp/ipykernel_167/2120206176.py:4: SettingWithCopyWarning: \n",
      "A value is trying to be set on a copy of a slice from a DataFrame.\n",
      "Try using .loc[row_indexer,col_indexer] = value instead\n",
      "\n",
      "See the caveats in the documentation: https://pandas.pydata.org/pandas-docs/stable/user_guide/indexing.html#returning-a-view-versus-a-copy\n",
      "  df['year_of_release'] = df['year_of_release'].astype('int')\n"
     ]
    },
    {
     "data": {
      "text/html": [
       "<div>\n",
       "<style scoped>\n",
       "    .dataframe tbody tr th:only-of-type {\n",
       "        vertical-align: middle;\n",
       "    }\n",
       "\n",
       "    .dataframe tbody tr th {\n",
       "        vertical-align: top;\n",
       "    }\n",
       "\n",
       "    .dataframe thead th {\n",
       "        text-align: right;\n",
       "    }\n",
       "</style>\n",
       "<table border=\"1\" class=\"dataframe\">\n",
       "  <thead>\n",
       "    <tr style=\"text-align: right;\">\n",
       "      <th></th>\n",
       "      <th>name</th>\n",
       "      <th>platform</th>\n",
       "      <th>year_of_release</th>\n",
       "      <th>genre</th>\n",
       "      <th>na_sales</th>\n",
       "      <th>eu_sales</th>\n",
       "      <th>jp_sales</th>\n",
       "      <th>other_sales</th>\n",
       "      <th>critic_score</th>\n",
       "      <th>user_score</th>\n",
       "      <th>rating</th>\n",
       "    </tr>\n",
       "  </thead>\n",
       "  <tbody>\n",
       "    <tr>\n",
       "      <th>0</th>\n",
       "      <td>Wii Sports</td>\n",
       "      <td>Wii</td>\n",
       "      <td>2006</td>\n",
       "      <td>Sports</td>\n",
       "      <td>41.36</td>\n",
       "      <td>28.96</td>\n",
       "      <td>3.77</td>\n",
       "      <td>8.45</td>\n",
       "      <td>76.0</td>\n",
       "      <td>8</td>\n",
       "      <td>E</td>\n",
       "    </tr>\n",
       "    <tr>\n",
       "      <th>1</th>\n",
       "      <td>Super Mario Bros.</td>\n",
       "      <td>NES</td>\n",
       "      <td>1985</td>\n",
       "      <td>Platform</td>\n",
       "      <td>29.08</td>\n",
       "      <td>3.58</td>\n",
       "      <td>6.81</td>\n",
       "      <td>0.77</td>\n",
       "      <td>NaN</td>\n",
       "      <td>NaN</td>\n",
       "      <td>NaN</td>\n",
       "    </tr>\n",
       "    <tr>\n",
       "      <th>2</th>\n",
       "      <td>Mario Kart Wii</td>\n",
       "      <td>Wii</td>\n",
       "      <td>2008</td>\n",
       "      <td>Racing</td>\n",
       "      <td>15.68</td>\n",
       "      <td>12.76</td>\n",
       "      <td>3.79</td>\n",
       "      <td>3.29</td>\n",
       "      <td>82.0</td>\n",
       "      <td>8.3</td>\n",
       "      <td>E</td>\n",
       "    </tr>\n",
       "    <tr>\n",
       "      <th>3</th>\n",
       "      <td>Wii Sports Resort</td>\n",
       "      <td>Wii</td>\n",
       "      <td>2009</td>\n",
       "      <td>Sports</td>\n",
       "      <td>15.61</td>\n",
       "      <td>10.93</td>\n",
       "      <td>3.28</td>\n",
       "      <td>2.95</td>\n",
       "      <td>80.0</td>\n",
       "      <td>8</td>\n",
       "      <td>E</td>\n",
       "    </tr>\n",
       "    <tr>\n",
       "      <th>4</th>\n",
       "      <td>Pokemon Red/Pokemon Blue</td>\n",
       "      <td>GB</td>\n",
       "      <td>1996</td>\n",
       "      <td>Role-Playing</td>\n",
       "      <td>11.27</td>\n",
       "      <td>8.89</td>\n",
       "      <td>10.22</td>\n",
       "      <td>1.00</td>\n",
       "      <td>NaN</td>\n",
       "      <td>NaN</td>\n",
       "      <td>NaN</td>\n",
       "    </tr>\n",
       "  </tbody>\n",
       "</table>\n",
       "</div>"
      ],
      "text/plain": [
       "                       name platform  year_of_release         genre  na_sales  \\\n",
       "0                Wii Sports      Wii             2006        Sports     41.36   \n",
       "1         Super Mario Bros.      NES             1985      Platform     29.08   \n",
       "2            Mario Kart Wii      Wii             2008        Racing     15.68   \n",
       "3         Wii Sports Resort      Wii             2009        Sports     15.61   \n",
       "4  Pokemon Red/Pokemon Blue       GB             1996  Role-Playing     11.27   \n",
       "\n",
       "   eu_sales  jp_sales  other_sales  critic_score user_score rating  \n",
       "0     28.96      3.77         8.45          76.0          8      E  \n",
       "1      3.58      6.81         0.77           NaN        NaN    NaN  \n",
       "2     12.76      3.79         3.29          82.0        8.3      E  \n",
       "3     10.93      3.28         2.95          80.0          8      E  \n",
       "4      8.89     10.22         1.00           NaN        NaN    NaN  "
      ]
     },
     "execution_count": 7,
     "metadata": {},
     "output_type": "execute_result"
    }
   ],
   "source": [
    "# удалил строки с пропусками\n",
    "df = df.dropna(subset=['year_of_release', 'name', 'genre'])\n",
    "# заменил вещественный тип данных на целочисленный\n",
    "df['year_of_release'] = df['year_of_release'].astype('int')\n",
    "df.head()"
   ]
  },
  {
   "cell_type": "code",
   "execution_count": 8,
   "metadata": {},
   "outputs": [
    {
     "data": {
      "text/html": [
       "<div>\n",
       "<style scoped>\n",
       "    .dataframe tbody tr th:only-of-type {\n",
       "        vertical-align: middle;\n",
       "    }\n",
       "\n",
       "    .dataframe tbody tr th {\n",
       "        vertical-align: top;\n",
       "    }\n",
       "\n",
       "    .dataframe thead th {\n",
       "        text-align: right;\n",
       "    }\n",
       "</style>\n",
       "<table border=\"1\" class=\"dataframe\">\n",
       "  <thead>\n",
       "    <tr style=\"text-align: right;\">\n",
       "      <th></th>\n",
       "      <th>name</th>\n",
       "      <th>platform</th>\n",
       "      <th>year_of_release</th>\n",
       "      <th>genre</th>\n",
       "      <th>na_sales</th>\n",
       "      <th>eu_sales</th>\n",
       "      <th>jp_sales</th>\n",
       "      <th>other_sales</th>\n",
       "      <th>critic_score</th>\n",
       "      <th>user_score</th>\n",
       "      <th>rating</th>\n",
       "    </tr>\n",
       "  </thead>\n",
       "  <tbody>\n",
       "  </tbody>\n",
       "</table>\n",
       "</div>"
      ],
      "text/plain": [
       "Empty DataFrame\n",
       "Columns: [name, platform, year_of_release, genre, na_sales, eu_sales, jp_sales, other_sales, critic_score, user_score, rating]\n",
       "Index: []"
      ]
     },
     "execution_count": 8,
     "metadata": {},
     "output_type": "execute_result"
    }
   ],
   "source": [
    "# просмотр 0 в столбце critic_score\n",
    "df.query('critic_score == 0')"
   ]
  },
  {
   "cell_type": "markdown",
   "metadata": {},
   "source": [
    "Посмотрел значение 0 в столбце critic_score."
   ]
  },
  {
   "cell_type": "code",
   "execution_count": 9,
   "metadata": {},
   "outputs": [
    {
     "data": {
      "text/plain": [
       "array(['8', nan, '8.3', '8.5', '6.6', '8.4', '8.6', '7.7', '6.3', '7.4',\n",
       "       '8.2', '9', '7.9', '8.1', '8.7', '7.1', '3.4', '5.3', '4.8', '3.2',\n",
       "       '8.9', '6.4', '7.8', '7.5', '2.6', '7.2', '9.2', '7', '7.3', '4.3',\n",
       "       '7.6', '5.7', '5', '9.1', '6.5', 'tbd', '8.8', '6.9', '9.4', '6.8',\n",
       "       '6.1', '6.7', '5.4', '4', '4.9', '4.5', '9.3', '6.2', '4.2', '6',\n",
       "       '3.7', '4.1', '5.8', '5.6', '5.5', '4.4', '4.6', '5.9', '3.9',\n",
       "       '3.1', '2.9', '5.2', '3.3', '4.7', '5.1', '3.5', '2.5', '1.9', '3',\n",
       "       '2.7', '2.2', '2', '9.5', '2.1', '3.6', '2.8', '1.8', '3.8', '0',\n",
       "       '1.6', '9.6', '2.4', '1.7', '1.1', '0.3', '1.5', '0.7', '1.2',\n",
       "       '2.3', '0.5', '1.3', '0.2', '0.6', '1.4', '0.9', '1', '9.7'],\n",
       "      dtype=object)"
      ]
     },
     "execution_count": 9,
     "metadata": {},
     "output_type": "execute_result"
    }
   ],
   "source": [
    "# посмотрел уникальные значения столбца\n",
    "df['user_score'].unique()"
   ]
  },
  {
   "cell_type": "markdown",
   "metadata": {},
   "source": [
    "Выявлено значение tbd, оно расшифровывется - To Be Determined (будет определено). Его надо заменить на пропущенные значения для дальнейшего анализа"
   ]
  },
  {
   "cell_type": "code",
   "execution_count": 10,
   "metadata": {},
   "outputs": [
    {
     "data": {
      "text/html": [
       "<div>\n",
       "<style scoped>\n",
       "    .dataframe tbody tr th:only-of-type {\n",
       "        vertical-align: middle;\n",
       "    }\n",
       "\n",
       "    .dataframe tbody tr th {\n",
       "        vertical-align: top;\n",
       "    }\n",
       "\n",
       "    .dataframe thead th {\n",
       "        text-align: right;\n",
       "    }\n",
       "</style>\n",
       "<table border=\"1\" class=\"dataframe\">\n",
       "  <thead>\n",
       "    <tr style=\"text-align: right;\">\n",
       "      <th></th>\n",
       "      <th>name</th>\n",
       "      <th>platform</th>\n",
       "      <th>year_of_release</th>\n",
       "      <th>genre</th>\n",
       "      <th>na_sales</th>\n",
       "      <th>eu_sales</th>\n",
       "      <th>jp_sales</th>\n",
       "      <th>other_sales</th>\n",
       "      <th>critic_score</th>\n",
       "      <th>user_score</th>\n",
       "      <th>rating</th>\n",
       "    </tr>\n",
       "  </thead>\n",
       "  <tbody>\n",
       "  </tbody>\n",
       "</table>\n",
       "</div>"
      ],
      "text/plain": [
       "Empty DataFrame\n",
       "Columns: [name, platform, year_of_release, genre, na_sales, eu_sales, jp_sales, other_sales, critic_score, user_score, rating]\n",
       "Index: []"
      ]
     },
     "execution_count": 10,
     "metadata": {},
     "output_type": "execute_result"
    }
   ],
   "source": [
    "# просмотр 0 в столбце user_score\n",
    "df.query('user_score == 0')"
   ]
  },
  {
   "cell_type": "markdown",
   "metadata": {},
   "source": [
    "Посмотрел значение 0 в столбце user_score"
   ]
  },
  {
   "cell_type": "code",
   "execution_count": 11,
   "metadata": {},
   "outputs": [
    {
     "name": "stderr",
     "output_type": "stream",
     "text": [
      "/opt/conda/lib/python3.9/site-packages/pandas/core/series.py:4509: SettingWithCopyWarning: \n",
      "A value is trying to be set on a copy of a slice from a DataFrame\n",
      "\n",
      "See the caveats in the documentation: https://pandas.pydata.org/pandas-docs/stable/user_guide/indexing.html#returning-a-view-versus-a-copy\n",
      "  return super().replace(\n",
      "/tmp/ipykernel_167/2302025066.py:4: SettingWithCopyWarning: \n",
      "A value is trying to be set on a copy of a slice from a DataFrame.\n",
      "Try using .loc[row_indexer,col_indexer] = value instead\n",
      "\n",
      "See the caveats in the documentation: https://pandas.pydata.org/pandas-docs/stable/user_guide/indexing.html#returning-a-view-versus-a-copy\n",
      "  df['user_score'] = df['user_score'].astype('float')\n"
     ]
    },
    {
     "data": {
      "text/html": [
       "<div>\n",
       "<style scoped>\n",
       "    .dataframe tbody tr th:only-of-type {\n",
       "        vertical-align: middle;\n",
       "    }\n",
       "\n",
       "    .dataframe tbody tr th {\n",
       "        vertical-align: top;\n",
       "    }\n",
       "\n",
       "    .dataframe thead th {\n",
       "        text-align: right;\n",
       "    }\n",
       "</style>\n",
       "<table border=\"1\" class=\"dataframe\">\n",
       "  <thead>\n",
       "    <tr style=\"text-align: right;\">\n",
       "      <th></th>\n",
       "      <th>name</th>\n",
       "      <th>platform</th>\n",
       "      <th>year_of_release</th>\n",
       "      <th>genre</th>\n",
       "      <th>na_sales</th>\n",
       "      <th>eu_sales</th>\n",
       "      <th>jp_sales</th>\n",
       "      <th>other_sales</th>\n",
       "      <th>critic_score</th>\n",
       "      <th>user_score</th>\n",
       "      <th>rating</th>\n",
       "    </tr>\n",
       "  </thead>\n",
       "  <tbody>\n",
       "    <tr>\n",
       "      <th>0</th>\n",
       "      <td>Wii Sports</td>\n",
       "      <td>Wii</td>\n",
       "      <td>2006</td>\n",
       "      <td>Sports</td>\n",
       "      <td>41.36</td>\n",
       "      <td>28.96</td>\n",
       "      <td>3.77</td>\n",
       "      <td>8.45</td>\n",
       "      <td>76.0</td>\n",
       "      <td>8.0</td>\n",
       "      <td>E</td>\n",
       "    </tr>\n",
       "    <tr>\n",
       "      <th>1</th>\n",
       "      <td>Super Mario Bros.</td>\n",
       "      <td>NES</td>\n",
       "      <td>1985</td>\n",
       "      <td>Platform</td>\n",
       "      <td>29.08</td>\n",
       "      <td>3.58</td>\n",
       "      <td>6.81</td>\n",
       "      <td>0.77</td>\n",
       "      <td>NaN</td>\n",
       "      <td>NaN</td>\n",
       "      <td>NaN</td>\n",
       "    </tr>\n",
       "    <tr>\n",
       "      <th>2</th>\n",
       "      <td>Mario Kart Wii</td>\n",
       "      <td>Wii</td>\n",
       "      <td>2008</td>\n",
       "      <td>Racing</td>\n",
       "      <td>15.68</td>\n",
       "      <td>12.76</td>\n",
       "      <td>3.79</td>\n",
       "      <td>3.29</td>\n",
       "      <td>82.0</td>\n",
       "      <td>8.3</td>\n",
       "      <td>E</td>\n",
       "    </tr>\n",
       "    <tr>\n",
       "      <th>3</th>\n",
       "      <td>Wii Sports Resort</td>\n",
       "      <td>Wii</td>\n",
       "      <td>2009</td>\n",
       "      <td>Sports</td>\n",
       "      <td>15.61</td>\n",
       "      <td>10.93</td>\n",
       "      <td>3.28</td>\n",
       "      <td>2.95</td>\n",
       "      <td>80.0</td>\n",
       "      <td>8.0</td>\n",
       "      <td>E</td>\n",
       "    </tr>\n",
       "    <tr>\n",
       "      <th>4</th>\n",
       "      <td>Pokemon Red/Pokemon Blue</td>\n",
       "      <td>GB</td>\n",
       "      <td>1996</td>\n",
       "      <td>Role-Playing</td>\n",
       "      <td>11.27</td>\n",
       "      <td>8.89</td>\n",
       "      <td>10.22</td>\n",
       "      <td>1.00</td>\n",
       "      <td>NaN</td>\n",
       "      <td>NaN</td>\n",
       "      <td>NaN</td>\n",
       "    </tr>\n",
       "  </tbody>\n",
       "</table>\n",
       "</div>"
      ],
      "text/plain": [
       "                       name platform  year_of_release         genre  na_sales  \\\n",
       "0                Wii Sports      Wii             2006        Sports     41.36   \n",
       "1         Super Mario Bros.      NES             1985      Platform     29.08   \n",
       "2            Mario Kart Wii      Wii             2008        Racing     15.68   \n",
       "3         Wii Sports Resort      Wii             2009        Sports     15.61   \n",
       "4  Pokemon Red/Pokemon Blue       GB             1996  Role-Playing     11.27   \n",
       "\n",
       "   eu_sales  jp_sales  other_sales  critic_score  user_score rating  \n",
       "0     28.96      3.77         8.45          76.0         8.0      E  \n",
       "1      3.58      6.81         0.77           NaN         NaN    NaN  \n",
       "2     12.76      3.79         3.29          82.0         8.3      E  \n",
       "3     10.93      3.28         2.95          80.0         8.0      E  \n",
       "4      8.89     10.22         1.00           NaN         NaN    NaN  "
      ]
     },
     "execution_count": 11,
     "metadata": {},
     "output_type": "execute_result"
    }
   ],
   "source": [
    "# поменял значение tbd на пропуск\n",
    "df['user_score'].replace('tbd', np.nan, inplace=True)\n",
    "# заменил строковой тип данных на вещественный\n",
    "df['user_score'] = df['user_score'].astype('float')\n",
    "df.head()"
   ]
  },
  {
   "cell_type": "code",
   "execution_count": 12,
   "metadata": {},
   "outputs": [
    {
     "data": {
      "text/plain": [
       "array(['E', nan, 'M', 'T', 'E10+', 'K-A', 'AO', 'EC', 'RP'], dtype=object)"
      ]
     },
     "execution_count": 12,
     "metadata": {},
     "output_type": "execute_result"
    }
   ],
   "source": [
    "# посмотрел уникальные значения столбца\n",
    "df['rating'].unique()"
   ]
  },
  {
   "cell_type": "markdown",
   "metadata": {},
   "source": [
    "**Рейтинги**\n",
    "\n",
    "* `EC` (Early childhood) — для детей младшего возраста: игра подходит для детей от 3 лет и старше \n",
    "\n",
    "\n",
    "* `E` (Everyone) — для всех: содержание вполне подходит для возрастной категории старше 6 лет, такие игры могут понравиться и взрослым\n",
    "\n",
    "\n",
    "* `E10+` (Everyone 10 and older) — для всех старше 10 лет: возрастная категория — от 10 лет\n",
    "\n",
    "\n",
    "* `T` (Teen) — подросткам 13—19 лет: игра подходит для подростков старше 13 лет\n",
    "\n",
    "\n",
    "* `M` (Mature)  — от 17 лет: материалы игры не подходят для возрастной категории младше 17 лет\n",
    "\n",
    "\n",
    "* `AO`(Adults Only 18+) — только для взрослых: содержание игры только для взрослых\n",
    "\n",
    "\n",
    "* `RP` (Rating Pending) — рейтинг ожидается: продукт был отправлен в ESRB и ожидает присвоение рейтинга\n",
    "\n",
    "`K-A` — для детей и взрослых: игры, содержащие контент, подходящий для широкой аудитории. Этот рейтинг использовался до 1998 года, когда он был переименован в E\n",
    "\n",
    "Данные взяты с сайта: http://www.gamer.ru/everything/reytingi-esrb-ot-a-do-ya и https://boardgamegeek.com/videogamerating/2220/esrb-k\n",
    "\n",
    "В данном случае пропуски можно заменить на RP, так как скорее всего эти игры ожидаёт рейтинга и поэтому появились пропущенные значения"
   ]
  },
  {
   "cell_type": "code",
   "execution_count": 13,
   "metadata": {},
   "outputs": [
    {
     "data": {
      "text/html": [
       "<div>\n",
       "<style scoped>\n",
       "    .dataframe tbody tr th:only-of-type {\n",
       "        vertical-align: middle;\n",
       "    }\n",
       "\n",
       "    .dataframe tbody tr th {\n",
       "        vertical-align: top;\n",
       "    }\n",
       "\n",
       "    .dataframe thead th {\n",
       "        text-align: right;\n",
       "    }\n",
       "</style>\n",
       "<table border=\"1\" class=\"dataframe\">\n",
       "  <thead>\n",
       "    <tr style=\"text-align: right;\">\n",
       "      <th></th>\n",
       "      <th>name</th>\n",
       "      <th>platform</th>\n",
       "      <th>year_of_release</th>\n",
       "      <th>genre</th>\n",
       "      <th>na_sales</th>\n",
       "      <th>eu_sales</th>\n",
       "      <th>jp_sales</th>\n",
       "      <th>other_sales</th>\n",
       "      <th>critic_score</th>\n",
       "      <th>user_score</th>\n",
       "      <th>rating</th>\n",
       "    </tr>\n",
       "  </thead>\n",
       "  <tbody>\n",
       "    <tr>\n",
       "      <th>14270</th>\n",
       "      <td>Supreme Ruler: Cold War</td>\n",
       "      <td>PC</td>\n",
       "      <td>2011</td>\n",
       "      <td>Strategy</td>\n",
       "      <td>0.0</td>\n",
       "      <td>0.03</td>\n",
       "      <td>0.0</td>\n",
       "      <td>0.01</td>\n",
       "      <td>63.0</td>\n",
       "      <td>6.8</td>\n",
       "      <td>RP</td>\n",
       "    </tr>\n",
       "  </tbody>\n",
       "</table>\n",
       "</div>"
      ],
      "text/plain": [
       "                          name platform  year_of_release     genre  na_sales  \\\n",
       "14270  Supreme Ruler: Cold War       PC             2011  Strategy       0.0   \n",
       "\n",
       "       eu_sales  jp_sales  other_sales  critic_score  user_score rating  \n",
       "14270      0.03       0.0         0.01          63.0         6.8     RP  "
      ]
     },
     "execution_count": 13,
     "metadata": {},
     "output_type": "execute_result"
    }
   ],
   "source": [
    "# просмотр рейтинга RP\n",
    "df[df['rating'] == 'RP'] "
   ]
  },
  {
   "cell_type": "markdown",
   "metadata": {},
   "source": [
    "Это подтвержадет мою гипотезу"
   ]
  },
  {
   "cell_type": "code",
   "execution_count": 14,
   "metadata": {},
   "outputs": [
    {
     "name": "stderr",
     "output_type": "stream",
     "text": [
      "/tmp/ipykernel_167/2998509039.py:2: SettingWithCopyWarning: \n",
      "A value is trying to be set on a copy of a slice from a DataFrame.\n",
      "Try using .loc[row_indexer,col_indexer] = value instead\n",
      "\n",
      "See the caveats in the documentation: https://pandas.pydata.org/pandas-docs/stable/user_guide/indexing.html#returning-a-view-versus-a-copy\n",
      "  df['rating'] = df['rating'].fillna('RP')\n"
     ]
    }
   ],
   "source": [
    "# заменил проппуски на RP\n",
    "df['rating'] = df['rating'].fillna('RP')"
   ]
  },
  {
   "cell_type": "code",
   "execution_count": 15,
   "metadata": {},
   "outputs": [
    {
     "data": {
      "text/plain": [
       "name                  0\n",
       "platform              0\n",
       "year_of_release       0\n",
       "genre                 0\n",
       "na_sales              0\n",
       "eu_sales              0\n",
       "jp_sales              0\n",
       "other_sales           0\n",
       "critic_score       8461\n",
       "user_score         8981\n",
       "rating                0\n",
       "dtype: int64"
      ]
     },
     "execution_count": 15,
     "metadata": {},
     "output_type": "execute_result"
    }
   ],
   "source": [
    "# посмотрел повторно сколько всего пропусков\n",
    "df.isna().sum()"
   ]
  },
  {
   "cell_type": "code",
   "execution_count": 16,
   "metadata": {},
   "outputs": [
    {
     "data": {
      "text/plain": [
       "0"
      ]
     },
     "execution_count": 16,
     "metadata": {},
     "output_type": "execute_result"
    }
   ],
   "source": [
    "# посмотрел на наличие дубликатов\n",
    "df.duplicated().sum()"
   ]
  },
  {
   "cell_type": "code",
   "execution_count": 17,
   "metadata": {},
   "outputs": [
    {
     "name": "stdout",
     "output_type": "stream",
     "text": [
      "<class 'pandas.core.frame.DataFrame'>\n",
      "Int64Index: 16444 entries, 0 to 16714\n",
      "Data columns (total 11 columns):\n",
      " #   Column           Non-Null Count  Dtype  \n",
      "---  ------           --------------  -----  \n",
      " 0   name             16444 non-null  object \n",
      " 1   platform         16444 non-null  object \n",
      " 2   year_of_release  16444 non-null  int64  \n",
      " 3   genre            16444 non-null  object \n",
      " 4   na_sales         16444 non-null  float64\n",
      " 5   eu_sales         16444 non-null  float64\n",
      " 6   jp_sales         16444 non-null  float64\n",
      " 7   other_sales      16444 non-null  float64\n",
      " 8   critic_score     7983 non-null   float64\n",
      " 9   user_score       7463 non-null   float64\n",
      " 10  rating           16444 non-null  object \n",
      "dtypes: float64(6), int64(1), object(4)\n",
      "memory usage: 1.5+ MB\n"
     ]
    }
   ],
   "source": [
    "# посмотрел повторно общую информацию\n",
    "df.info()"
   ]
  },
  {
   "cell_type": "code",
   "execution_count": 18,
   "metadata": {},
   "outputs": [
    {
     "name": "stderr",
     "output_type": "stream",
     "text": [
      "/tmp/ipykernel_167/2654433554.py:2: SettingWithCopyWarning: \n",
      "A value is trying to be set on a copy of a slice from a DataFrame.\n",
      "Try using .loc[row_indexer,col_indexer] = value instead\n",
      "\n",
      "See the caveats in the documentation: https://pandas.pydata.org/pandas-docs/stable/user_guide/indexing.html#returning-a-view-versus-a-copy\n",
      "  df['name'] = df['name'].str.lower()\n",
      "/tmp/ipykernel_167/2654433554.py:3: SettingWithCopyWarning: \n",
      "A value is trying to be set on a copy of a slice from a DataFrame.\n",
      "Try using .loc[row_indexer,col_indexer] = value instead\n",
      "\n",
      "See the caveats in the documentation: https://pandas.pydata.org/pandas-docs/stable/user_guide/indexing.html#returning-a-view-versus-a-copy\n",
      "  df['platform'] = df['platform'].str.lower()\n",
      "/tmp/ipykernel_167/2654433554.py:4: SettingWithCopyWarning: \n",
      "A value is trying to be set on a copy of a slice from a DataFrame.\n",
      "Try using .loc[row_indexer,col_indexer] = value instead\n",
      "\n",
      "See the caveats in the documentation: https://pandas.pydata.org/pandas-docs/stable/user_guide/indexing.html#returning-a-view-versus-a-copy\n",
      "  df['genre'] = df['genre'].str.lower()\n"
     ]
    }
   ],
   "source": [
    "# привёл к нижнему регистру некоторые строки в столбцах\n",
    "df['name'] = df['name'].str.lower()\n",
    "df['platform'] = df['platform'].str.lower()\n",
    "df['genre'] = df['genre'].str.lower()"
   ]
  },
  {
   "cell_type": "code",
   "execution_count": 19,
   "metadata": {},
   "outputs": [
    {
     "name": "stderr",
     "output_type": "stream",
     "text": [
      "/tmp/ipykernel_167/2898902734.py:2: SettingWithCopyWarning: \n",
      "A value is trying to be set on a copy of a slice from a DataFrame.\n",
      "Try using .loc[row_indexer,col_indexer] = value instead\n",
      "\n",
      "See the caveats in the documentation: https://pandas.pydata.org/pandas-docs/stable/user_guide/indexing.html#returning-a-view-versus-a-copy\n",
      "  df['total_sales'] = df['na_sales'] + df['eu_sales'] + df['jp_sales'] + df['other_sales']\n"
     ]
    },
    {
     "data": {
      "text/html": [
       "<div>\n",
       "<style scoped>\n",
       "    .dataframe tbody tr th:only-of-type {\n",
       "        vertical-align: middle;\n",
       "    }\n",
       "\n",
       "    .dataframe tbody tr th {\n",
       "        vertical-align: top;\n",
       "    }\n",
       "\n",
       "    .dataframe thead th {\n",
       "        text-align: right;\n",
       "    }\n",
       "</style>\n",
       "<table border=\"1\" class=\"dataframe\">\n",
       "  <thead>\n",
       "    <tr style=\"text-align: right;\">\n",
       "      <th></th>\n",
       "      <th>name</th>\n",
       "      <th>platform</th>\n",
       "      <th>year_of_release</th>\n",
       "      <th>genre</th>\n",
       "      <th>na_sales</th>\n",
       "      <th>eu_sales</th>\n",
       "      <th>jp_sales</th>\n",
       "      <th>other_sales</th>\n",
       "      <th>critic_score</th>\n",
       "      <th>user_score</th>\n",
       "      <th>rating</th>\n",
       "      <th>total_sales</th>\n",
       "    </tr>\n",
       "  </thead>\n",
       "  <tbody>\n",
       "    <tr>\n",
       "      <th>0</th>\n",
       "      <td>wii sports</td>\n",
       "      <td>wii</td>\n",
       "      <td>2006</td>\n",
       "      <td>sports</td>\n",
       "      <td>41.36</td>\n",
       "      <td>28.96</td>\n",
       "      <td>3.77</td>\n",
       "      <td>8.45</td>\n",
       "      <td>76.0</td>\n",
       "      <td>8.0</td>\n",
       "      <td>E</td>\n",
       "      <td>82.54</td>\n",
       "    </tr>\n",
       "    <tr>\n",
       "      <th>1</th>\n",
       "      <td>super mario bros.</td>\n",
       "      <td>nes</td>\n",
       "      <td>1985</td>\n",
       "      <td>platform</td>\n",
       "      <td>29.08</td>\n",
       "      <td>3.58</td>\n",
       "      <td>6.81</td>\n",
       "      <td>0.77</td>\n",
       "      <td>NaN</td>\n",
       "      <td>NaN</td>\n",
       "      <td>RP</td>\n",
       "      <td>40.24</td>\n",
       "    </tr>\n",
       "    <tr>\n",
       "      <th>2</th>\n",
       "      <td>mario kart wii</td>\n",
       "      <td>wii</td>\n",
       "      <td>2008</td>\n",
       "      <td>racing</td>\n",
       "      <td>15.68</td>\n",
       "      <td>12.76</td>\n",
       "      <td>3.79</td>\n",
       "      <td>3.29</td>\n",
       "      <td>82.0</td>\n",
       "      <td>8.3</td>\n",
       "      <td>E</td>\n",
       "      <td>35.52</td>\n",
       "    </tr>\n",
       "    <tr>\n",
       "      <th>3</th>\n",
       "      <td>wii sports resort</td>\n",
       "      <td>wii</td>\n",
       "      <td>2009</td>\n",
       "      <td>sports</td>\n",
       "      <td>15.61</td>\n",
       "      <td>10.93</td>\n",
       "      <td>3.28</td>\n",
       "      <td>2.95</td>\n",
       "      <td>80.0</td>\n",
       "      <td>8.0</td>\n",
       "      <td>E</td>\n",
       "      <td>32.77</td>\n",
       "    </tr>\n",
       "    <tr>\n",
       "      <th>4</th>\n",
       "      <td>pokemon red/pokemon blue</td>\n",
       "      <td>gb</td>\n",
       "      <td>1996</td>\n",
       "      <td>role-playing</td>\n",
       "      <td>11.27</td>\n",
       "      <td>8.89</td>\n",
       "      <td>10.22</td>\n",
       "      <td>1.00</td>\n",
       "      <td>NaN</td>\n",
       "      <td>NaN</td>\n",
       "      <td>RP</td>\n",
       "      <td>31.38</td>\n",
       "    </tr>\n",
       "  </tbody>\n",
       "</table>\n",
       "</div>"
      ],
      "text/plain": [
       "                       name platform  year_of_release         genre  na_sales  \\\n",
       "0                wii sports      wii             2006        sports     41.36   \n",
       "1         super mario bros.      nes             1985      platform     29.08   \n",
       "2            mario kart wii      wii             2008        racing     15.68   \n",
       "3         wii sports resort      wii             2009        sports     15.61   \n",
       "4  pokemon red/pokemon blue       gb             1996  role-playing     11.27   \n",
       "\n",
       "   eu_sales  jp_sales  other_sales  critic_score  user_score rating  \\\n",
       "0     28.96      3.77         8.45          76.0         8.0      E   \n",
       "1      3.58      6.81         0.77           NaN         NaN     RP   \n",
       "2     12.76      3.79         3.29          82.0         8.3      E   \n",
       "3     10.93      3.28         2.95          80.0         8.0      E   \n",
       "4      8.89     10.22         1.00           NaN         NaN     RP   \n",
       "\n",
       "   total_sales  \n",
       "0        82.54  \n",
       "1        40.24  \n",
       "2        35.52  \n",
       "3        32.77  \n",
       "4        31.38  "
      ]
     },
     "execution_count": 19,
     "metadata": {},
     "output_type": "execute_result"
    }
   ],
   "source": [
    "# посчитал суммарную продажу во всех регионах, создав новый столбец total_sales\n",
    "df['total_sales'] = df['na_sales'] + df['eu_sales'] + df['jp_sales'] + df['other_sales']\n",
    "df.head()"
   ]
  },
  {
   "cell_type": "markdown",
   "metadata": {},
   "source": [
    "### 2.1 Вывод по блоку\n",
    "\n",
    "В это пункте была проделана работа по предобработке данных. Сначала привёл названия столбцов к нижнему регистру, удалил пустые строки и заменил несколько столбцов на целочисленный тип, а столбец user_score на вещественный. После выявел уникальное значение - tbd, в столбце user_score и заменил пропуски в столбце rating на RP. Потом посчитал суммарные продажи во всех регионах"
   ]
  },
  {
   "cell_type": "markdown",
   "metadata": {},
   "source": [
    "## 3. Иследовательский анализ"
   ]
  },
  {
   "cell_type": "markdown",
   "metadata": {},
   "source": [
    "### 3.1 Сравнения игр по годам"
   ]
  },
  {
   "cell_type": "code",
   "execution_count": 20,
   "metadata": {},
   "outputs": [
    {
     "data": {
      "text/plain": [
       "count    16444.000000\n",
       "mean      2006.486256\n",
       "std          5.875525\n",
       "min       1980.000000\n",
       "25%       2003.000000\n",
       "50%       2007.000000\n",
       "75%       2010.000000\n",
       "max       2016.000000\n",
       "Name: year_of_release, dtype: float64"
      ]
     },
     "execution_count": 20,
     "metadata": {},
     "output_type": "execute_result"
    }
   ],
   "source": [
    "# применли метод describe и посмотрел интересующие значения\n",
    "df['year_of_release'].describe()"
   ]
  },
  {
   "cell_type": "code",
   "execution_count": 21,
   "metadata": {},
   "outputs": [
    {
     "data": {
      "image/png": "[encoded data removed]",
      "text/plain": [
       "<Figure size 432x288 with 1 Axes>"
      ]
     },
     "metadata": {
      "needs_background": "light"
     },
     "output_type": "display_data"
    }
   ],
   "source": [
    "# построил гистограмму по количеству игр по всем годам\n",
    "color_rectanangle = np.random.rand(7, 3)\n",
    "df['year_of_release'].plot(kind='hist', color=color_rectanangle, edgecolor='black');\n",
    "plt.title('Выпуск игр');\n",
    "plt.ylabel('кол. игр');\n",
    "plt.xlabel('год');"
   ]
  },
  {
   "cell_type": "markdown",
   "metadata": {},
   "source": [
    "По графику видно, что компании с каждым годом всё больше выпускают игры, но после 2012 года наблюдается резкий спад. Для дальнейшего анализа данные за все периоды не важны, так как задача стоит: построить прогноз на 2017 год, значит больше половины данных будут не актуальны"
   ]
  },
  {
   "cell_type": "markdown",
   "metadata": {},
   "source": [
    "### 3.2 Продажа по платформам"
   ]
  },
  {
   "cell_type": "code",
   "execution_count": 22,
   "metadata": {},
   "outputs": [
    {
     "data": {
      "image/png": "[encoded data removed]",
      "text/plain": [
       "<Figure size 432x288 with 1 Axes>"
      ]
     },
     "metadata": {
      "needs_background": "light"
     },
     "output_type": "display_data"
    }
   ],
   "source": [
    "# построил столбчатую диаграмму через сводную талбицу по продажам всех платформ\n",
    "df_top_sales = df.pivot_table(index='platform', values='total_sales', aggfunc='sum')\n",
    "color_rectanangle = np.random.rand(7, 3)\n",
    "df_top_sales.sort_values(by='total_sales', ascending=False).plot(kind='bar', color=color_rectanangle);\n",
    "plt.title('Весь мир');\n",
    "plt.ylabel('продажи');\n",
    "plt.xlabel('платформа');"
   ]
  },
  {
   "cell_type": "markdown",
   "metadata": {},
   "source": [
    "Решил взять 6 первых платформ по наибольшим суммарным продажам для дальнейшего анализа"
   ]
  },
  {
   "cell_type": "code",
   "execution_count": 23,
   "metadata": {},
   "outputs": [
    {
     "data": {
      "image/png": "[encoded data removed]",
      "text/plain": [
       "<Figure size 432x288 with 1 Axes>"
      ]
     },
     "metadata": {
      "needs_background": "light"
     },
     "output_type": "display_data"
    }
   ],
   "source": [
    "# построил столбчатую диаграмму через сводную талбицу по платформе ps2 и годам продаж\n",
    "color_rectanangle = np.random.rand(7, 3)\n",
    "df.query('platform in \"ps2\"').pivot_table(index='year_of_release', values='total_sales', aggfunc='sum').plot(kind='bar', color=color_rectanangle);\n",
    "plt.title('ps2');\n",
    "plt.ylabel('продажи');\n",
    "plt.xlabel('год');"
   ]
  },
  {
   "cell_type": "markdown",
   "metadata": {},
   "source": [
    "По столбчатой диаграмме видно, что продажи ps2 начинаются с 2000 годов. Пик популярности наблюдается с 2001 по 2005 года, тогда была эпоха этой приставки. С 2006 года продажи пошли на спад, ведь выходит другая приставка"
   ]
  },
  {
   "cell_type": "code",
   "execution_count": 24,
   "metadata": {},
   "outputs": [
    {
     "data": {
      "image/png": "[encoded data removed]",
      "text/plain": [
       "<Figure size 432x288 with 1 Axes>"
      ]
     },
     "metadata": {
      "needs_background": "light"
     },
     "output_type": "display_data"
    }
   ],
   "source": [
    "# построил столбчатую диаграмму через сводную талбицу по платформе x360 и годам продаж\n",
    "color_rectanangle = np.random.rand(7, 3)\n",
    "df.query('platform in \"x360\"').pivot_table(index='year_of_release', values='total_sales', aggfunc='sum').plot(kind='bar', color=color_rectanangle);\n",
    "plt.title('x360');\n",
    "plt.ylabel('продажи');\n",
    "plt.xlabel('год');"
   ]
  },
  {
   "cell_type": "markdown",
   "metadata": {},
   "source": [
    "По диаграмме с платформами вы видим, что у x360 суммарные продажи по всему миру чуть больше, чем у ps3. С 2006 наблюдаются высокие пики вплоть до 2013 года"
   ]
  },
  {
   "cell_type": "code",
   "execution_count": 25,
   "metadata": {},
   "outputs": [
    {
     "data": {
      "image/png": "[encoded data removed]",
      "text/plain": [
       "<Figure size 432x288 with 1 Axes>"
      ]
     },
     "metadata": {
      "needs_background": "light"
     },
     "output_type": "display_data"
    }
   ],
   "source": [
    "# построил столбчатую диаграмму через сводную талбицу по платформе ps3 и годам продаж\n",
    "color_rectanangle = np.random.rand(7, 3)\n",
    "df.query('platform in \"ps3\"').pivot_table(index='year_of_release', values='total_sales', aggfunc='sum').plot(kind='bar', color=color_rectanangle);\n",
    "plt.title('ps3');\n",
    "plt.ylabel('продажи');\n",
    "plt.xlabel('год');"
   ]
  },
  {
   "cell_type": "markdown",
   "metadata": {},
   "source": [
    "Здесь ситуация идентичная, как с x360. Только разница в том, что ps3 пришёл на смену великой приставке ps2 и достойно держит позиции в тройке платформ по наибольшим суммарным продажам по всему миру"
   ]
  },
  {
   "cell_type": "code",
   "execution_count": 26,
   "metadata": {},
   "outputs": [
    {
     "data": {
      "image/png": "[encoded data removed]",
      "text/plain": [
       "<Figure size 432x288 with 1 Axes>"
      ]
     },
     "metadata": {
      "needs_background": "light"
     },
     "output_type": "display_data"
    }
   ],
   "source": [
    "# построил столбчатую диаграмму через сводную талбицу по платформе wii и годам продаж\n",
    "color_rectanangle = np.random.rand(7, 3)\n",
    "df.query('platform in \"wii\"').pivot_table(index='year_of_release', values='total_sales', aggfunc='sum').plot(kind='bar', color=color_rectanangle);\n",
    "plt.title('wii');\n",
    "plt.ylabel('продажи');\n",
    "plt.xlabel('год');"
   ]
  },
  {
   "cell_type": "markdown",
   "metadata": {},
   "source": [
    "По этой диаграмме видно, что продажи wii начинаются с 2006 года, как и продажи x360 и ps3. Этот год вполне можно назвать самым знаковым в мире консолей. С 2010 года продажи wii начали падать, а в 2016 вообще почти прекратились"
   ]
  },
  {
   "cell_type": "code",
   "execution_count": 27,
   "metadata": {},
   "outputs": [
    {
     "data": {
      "image/png": "[encoded data removed]",
      "text/plain": [
       "<Figure size 432x288 with 1 Axes>"
      ]
     },
     "metadata": {
      "needs_background": "light"
     },
     "output_type": "display_data"
    }
   ],
   "source": [
    "# построил столбчатую диаграмму через сводную талбицу по платформе ds и годам продаж\n",
    "color_rectanangle = np.random.rand(7, 3)\n",
    "df.query('platform in \"ds\"').pivot_table(index='year_of_release', values='total_sales', aggfunc='sum').plot(kind='bar', color=color_rectanangle);\n",
    "plt.title('ds');\n",
    "plt.ylabel('продажи');\n",
    "plt.xlabel('год');"
   ]
  },
  {
   "cell_type": "markdown",
   "metadata": {},
   "source": [
    "Здесь сильно выделяется 1985 год, видимо произошла ошибка, так платформа ds вышла в 2004 году. С 2005 по 2010 года наблюдаются высокие пики по продажам, а с 2011 года происходит спад"
   ]
  },
  {
   "cell_type": "code",
   "execution_count": 28,
   "metadata": {},
   "outputs": [
    {
     "data": {
      "image/png": "[encoded data removed]",
      "text/plain": [
       "<Figure size 432x288 with 1 Axes>"
      ]
     },
     "metadata": {
      "needs_background": "light"
     },
     "output_type": "display_data"
    }
   ],
   "source": [
    "# построил столбчатую диаграмму через сводную талбицу по платформе ps и годам продаж\n",
    "color_rectanangle = np.random.rand(7, 3)\n",
    "df.query('platform in \"ps\"').pivot_table(index='year_of_release', values='total_sales', aggfunc='sum').plot(kind='bar', color=color_rectanangle);\n",
    "plt.title('ps');\n",
    "plt.ylabel('продажи');\n",
    "plt.xlabel('год');"
   ]
  },
  {
   "cell_type": "markdown",
   "metadata": {},
   "source": [
    "И вот мы дошли до самой легендарной приставки ps, которая вышла в 1994 году. Здесь наблюдаются пики с 1996 по 2000 года, но стоит обратить внимание на симметричность это диаграммы, ни в одной их других платформ такого нет. Спад начинается с 2001 года, игроки переходят на следующую консоль от компании sony"
   ]
  },
  {
   "cell_type": "code",
   "execution_count": 29,
   "metadata": {},
   "outputs": [
    {
     "data": {
      "image/png": "[encoded data removed]",
      "text/plain": [
       "<Figure size 432x288 with 1 Axes>"
      ]
     },
     "metadata": {
      "needs_background": "light"
     },
     "output_type": "display_data"
    }
   ],
   "source": [
    "# построил столбчатую диаграмму через сводную талбицу по 6 самых продаваемых платформ и годам продаж\n",
    "color_rectanangle = np.random.rand(7, 3)\n",
    "df.query('platform in [\"ps2\", \"x360\", \"ps3\", \"wii\", \"ds\", \"ps\"]').pivot_table(index='year_of_release', values='total_sales', aggfunc='sum').plot(kind='bar', color=color_rectanangle);\n",
    "plt.title('За всё время');\n",
    "plt.ylabel('продажи');\n",
    "plt.xlabel('год');"
   ]
  },
  {
   "cell_type": "markdown",
   "metadata": {},
   "source": [
    "Самым крупным годом по общим суммарным продажам по всему миру является - 2008 год"
   ]
  },
  {
   "cell_type": "markdown",
   "metadata": {},
   "source": [
    "**Вывод**\n",
    "\n",
    "В большей степени за 5 лет появляются новые и исчезают старые платформы"
   ]
  },
  {
   "cell_type": "markdown",
   "metadata": {},
   "source": [
    "### 3.3 Актуальный период"
   ]
  },
  {
   "cell_type": "code",
   "execution_count": 30,
   "metadata": {},
   "outputs": [
    {
     "data": {
      "text/html": [
       "<div>\n",
       "<style scoped>\n",
       "    .dataframe tbody tr th:only-of-type {\n",
       "        vertical-align: middle;\n",
       "    }\n",
       "\n",
       "    .dataframe tbody tr th {\n",
       "        vertical-align: top;\n",
       "    }\n",
       "\n",
       "    .dataframe thead th {\n",
       "        text-align: right;\n",
       "    }\n",
       "</style>\n",
       "<table border=\"1\" class=\"dataframe\">\n",
       "  <thead>\n",
       "    <tr style=\"text-align: right;\">\n",
       "      <th></th>\n",
       "      <th>name</th>\n",
       "      <th>platform</th>\n",
       "      <th>year_of_release</th>\n",
       "      <th>genre</th>\n",
       "      <th>na_sales</th>\n",
       "      <th>eu_sales</th>\n",
       "      <th>jp_sales</th>\n",
       "      <th>other_sales</th>\n",
       "      <th>critic_score</th>\n",
       "      <th>user_score</th>\n",
       "      <th>rating</th>\n",
       "      <th>total_sales</th>\n",
       "    </tr>\n",
       "  </thead>\n",
       "  <tbody>\n",
       "    <tr>\n",
       "      <th>0</th>\n",
       "      <td>grand theft auto v</td>\n",
       "      <td>ps3</td>\n",
       "      <td>2013</td>\n",
       "      <td>action</td>\n",
       "      <td>7.02</td>\n",
       "      <td>9.09</td>\n",
       "      <td>0.98</td>\n",
       "      <td>3.96</td>\n",
       "      <td>97.0</td>\n",
       "      <td>8.2</td>\n",
       "      <td>M</td>\n",
       "      <td>21.05</td>\n",
       "    </tr>\n",
       "    <tr>\n",
       "      <th>1</th>\n",
       "      <td>grand theft auto v</td>\n",
       "      <td>x360</td>\n",
       "      <td>2013</td>\n",
       "      <td>action</td>\n",
       "      <td>9.66</td>\n",
       "      <td>5.14</td>\n",
       "      <td>0.06</td>\n",
       "      <td>1.41</td>\n",
       "      <td>97.0</td>\n",
       "      <td>8.1</td>\n",
       "      <td>M</td>\n",
       "      <td>16.27</td>\n",
       "    </tr>\n",
       "    <tr>\n",
       "      <th>2</th>\n",
       "      <td>call of duty: modern warfare 3</td>\n",
       "      <td>x360</td>\n",
       "      <td>2011</td>\n",
       "      <td>shooter</td>\n",
       "      <td>9.04</td>\n",
       "      <td>4.24</td>\n",
       "      <td>0.13</td>\n",
       "      <td>1.32</td>\n",
       "      <td>88.0</td>\n",
       "      <td>3.4</td>\n",
       "      <td>M</td>\n",
       "      <td>14.73</td>\n",
       "    </tr>\n",
       "    <tr>\n",
       "      <th>3</th>\n",
       "      <td>call of duty: black ops 3</td>\n",
       "      <td>ps4</td>\n",
       "      <td>2015</td>\n",
       "      <td>shooter</td>\n",
       "      <td>6.03</td>\n",
       "      <td>5.86</td>\n",
       "      <td>0.36</td>\n",
       "      <td>2.38</td>\n",
       "      <td>NaN</td>\n",
       "      <td>NaN</td>\n",
       "      <td>RP</td>\n",
       "      <td>14.63</td>\n",
       "    </tr>\n",
       "    <tr>\n",
       "      <th>4</th>\n",
       "      <td>pokemon x/pokemon y</td>\n",
       "      <td>3ds</td>\n",
       "      <td>2013</td>\n",
       "      <td>role-playing</td>\n",
       "      <td>5.28</td>\n",
       "      <td>4.19</td>\n",
       "      <td>4.35</td>\n",
       "      <td>0.78</td>\n",
       "      <td>NaN</td>\n",
       "      <td>NaN</td>\n",
       "      <td>RP</td>\n",
       "      <td>14.60</td>\n",
       "    </tr>\n",
       "  </tbody>\n",
       "</table>\n",
       "</div>"
      ],
      "text/plain": [
       "                             name platform  year_of_release         genre  \\\n",
       "0              grand theft auto v      ps3             2013        action   \n",
       "1              grand theft auto v     x360             2013        action   \n",
       "2  call of duty: modern warfare 3     x360             2011       shooter   \n",
       "3       call of duty: black ops 3      ps4             2015       shooter   \n",
       "4             pokemon x/pokemon y      3ds             2013  role-playing   \n",
       "\n",
       "   na_sales  eu_sales  jp_sales  other_sales  critic_score  user_score rating  \\\n",
       "0      7.02      9.09      0.98         3.96          97.0         8.2      M   \n",
       "1      9.66      5.14      0.06         1.41          97.0         8.1      M   \n",
       "2      9.04      4.24      0.13         1.32          88.0         3.4      M   \n",
       "3      6.03      5.86      0.36         2.38           NaN         NaN     RP   \n",
       "4      5.28      4.19      4.35         0.78           NaN         NaN     RP   \n",
       "\n",
       "   total_sales  \n",
       "0        21.05  \n",
       "1        16.27  \n",
       "2        14.73  \n",
       "3        14.63  \n",
       "4        14.60  "
      ]
     },
     "execution_count": 30,
     "metadata": {},
     "output_type": "execute_result"
    }
   ],
   "source": [
    "# взял данны для дальнейшего анализа\n",
    "df_actual = df.query('year_of_release >= 2011').reset_index(drop=True)\n",
    "df_actual.head()"
   ]
  },
  {
   "cell_type": "markdown",
   "metadata": {},
   "source": [
    "Решил взять данные за 2011-2016 для дальнейшего анализа, чтобы рассчитать прогноз на 2017 год"
   ]
  },
  {
   "cell_type": "markdown",
   "metadata": {},
   "source": [
    "### 3.4 Потенциально прибыльные платформы"
   ]
  },
  {
   "cell_type": "code",
   "execution_count": 31,
   "metadata": {},
   "outputs": [
    {
     "data": {
      "text/plain": [
       "ps3     708\n",
       "3ds     512\n",
       "x360    498\n",
       "psv     429\n",
       "ps4     392\n",
       "pc      389\n",
       "psp     312\n",
       "xone    247\n",
       "wii     197\n",
       "ds      184\n",
       "wiiu    147\n",
       "ps2       7\n",
       "Name: platform, dtype: int64"
      ]
     },
     "execution_count": 31,
     "metadata": {},
     "output_type": "execute_result"
    }
   ],
   "source": [
    "# посмотрел количество каждой платформы\n",
    "df_actual['platform'].value_counts()"
   ]
  },
  {
   "cell_type": "code",
   "execution_count": 32,
   "metadata": {},
   "outputs": [
    {
     "data": {
      "image/png": "[encoded data removed]",
      "text/plain": [
       "<Figure size 432x288 with 1 Axes>"
      ]
     },
     "metadata": {
      "needs_background": "light"
     },
     "output_type": "display_data"
    }
   ],
   "source": [
    "# построил столбчатую диаграмму через сводную талбицу по всем платформам, отсортировав значения по убыыванию\n",
    "df_act_top_platform_sales = df_actual.pivot_table(index='platform', values='total_sales', aggfunc='sum')\n",
    "color_rectanangle = np.random.rand(7, 3)\n",
    "df_act_top_platform_sales.sort_values(by='total_sales', ascending=False).plot(kind='bar', color=color_rectanangle, edgecolor='black', linewidth=2);\n",
    "plt.ylabel('продажи');\n",
    "plt.xlabel('платформа');"
   ]
  },
  {
   "cell_type": "markdown",
   "metadata": {},
   "source": [
    "За последние 5 лет в топе всё также держатся ps3 и x360, только видим, что эти платформы местами поменялись. В тройку лидеров попадает консоль нового поколения ps4, она не так давно вышла и продажи по ней точно возрастут. Стоит выделить платформы старого поколения, за это время их продажи намного сократились, особенно у ps2"
   ]
  },
  {
   "cell_type": "markdown",
   "metadata": {},
   "source": [
    "### 3.5 Глобальные продажи игр в разбивке по платформам"
   ]
  },
  {
   "cell_type": "code",
   "execution_count": 33,
   "metadata": {},
   "outputs": [
    {
     "data": {
      "image/png": "[encoded data removed]",
      "text/plain": [
       "<Figure size 432x288 with 1 Axes>"
      ]
     },
     "metadata": {
      "needs_background": "light"
     },
     "output_type": "display_data"
    }
   ],
   "source": [
    "# построил график «ящик с усами» по глобальным продажам игр в разбивке по платформам\n",
    "platform = df_actual['platform']\n",
    "total_sales = df_actual['total_sales']\n",
    "sns.boxplot(x=platform, y=total_sales);"
   ]
  },
  {
   "cell_type": "code",
   "execution_count": 34,
   "metadata": {},
   "outputs": [
    {
     "data": {
      "image/png": "[encoded data removed]",
      "text/plain": [
       "<Figure size 432x288 with 1 Axes>"
      ]
     },
     "metadata": {
      "needs_background": "light"
     },
     "output_type": "display_data"
    }
   ],
   "source": [
    "# построил повторно график «ящик с усами», уменьшив размер до 2 млн продаж\n",
    "sns.boxplot(x=platform, y=total_sales);\n",
    "plt.ylim(0, 2);"
   ]
  },
  {
   "cell_type": "markdown",
   "metadata": {},
   "source": [
    "Разберём каждый ящик по отдельности:\n",
    "\n",
    "* в консоле ps3 большинство значений лежит в диапазоне от 80 тыс. до 600 тыс. продаж, выбросы начинаются от 1.5 млн\n",
    "* в консоле x360 большинство значений лежит в диапазоне от 70 тыс. до 750 тыс. продаж, выбросы начинаются от 1.75 млн\n",
    "* в консоле ps4 большинство значений лежит в диапазоне от 60 тыс. до 750 тыс. продаж, выбросы начинаются от 1.75 млн\n",
    "* на приставке 3ds большинство значений лежит в диапазоне от 50 тыс. до 300 тыс. продаж, выбросы начинаются от 750 тыс.\n",
    "* на приставке wii большинство значений лежит в диапазоне от 100 тыс. до 350 тыс. продаж, выбросы начинаются от 800 тыс.\n",
    "* в консоле ds большинство значений лежит в диапазоне от 35 тыс. до 150 тыс. продаж, выбросы начинаются от 300 тыс.\n",
    "* в консоле xone большинство значений лежит в диапазоне от 50 тыс. до 700 тыс. продаж, выбросы начинаются от 1.55 млн\n",
    "* на приставке wiiu большинство значений лежит в диапазоне от 100 тыс. до 350 тыс. продаж, выбросы начинаются от 800 тыс.\n",
    "* на платформе pc большинство значений лежит в диапазоне от 25 тыс. до 230 тыс. продаж, выбросы начинаются от 800 тыс.\n",
    "* на приставке psv большинство значений лежит в диапазоне от 15 тыс. до 110 тыс. продаж, выбросы начинаются от 280 тыс.\n",
    "* на приставке psp большинство значений лежит в диапазоне от 15 тыс. до 100 тыс. продаж, выбросы начинаются от 260 тыс.\n",
    "* в консоле ps2 большинство значений лежит в диапазоне от 35 тыс. до 70 тыс. продаж, выбросов не наблюдается\n",
    "\n",
    "**Выводы**\n",
    "\n",
    "На всех платформах порог нормальных значений не достигает 2 млн продаж. Но наблюдаюся очень большие выбросы, как например у ps3 с боллее 20 млн продаж по одной игре. В данном контексте неправильно будет называть такие игры выбросами, так как самые продаваемые игры приносят большой доход компаниям и онлайн магазину"
   ]
  },
  {
   "cell_type": "markdown",
   "metadata": {},
   "source": [
    "### 3.6 Продажи внутри одной популярной платформы отзывы пользователей и критиков"
   ]
  },
  {
   "cell_type": "code",
   "execution_count": 35,
   "metadata": {},
   "outputs": [
    {
     "data": {
      "image/png": "[encoded data removed]",
      "text/plain": [
       "<Figure size 432x288 with 1 Axes>"
      ]
     },
     "metadata": {
      "needs_background": "light"
     },
     "output_type": "display_data"
    }
   ],
   "source": [
    "# решил взять самую популярную платформу\n",
    "df_ps3 = df_actual.query('platform == \"ps3\"')\n",
    "# построил гистограмму рассеяния по оценкам критиков\n",
    "df_ps3.plot(x='critic_score', y='total_sales', kind='scatter', alpha=0.5);"
   ]
  },
  {
   "cell_type": "code",
   "execution_count": 36,
   "metadata": {},
   "outputs": [
    {
     "data": {
      "text/plain": [
       "0.38011114718290767"
      ]
     },
     "execution_count": 36,
     "metadata": {},
     "output_type": "execute_result"
    }
   ],
   "source": [
    "# найдена корреляция по оценкам критиков с итоговыми продажами\n",
    "df_ps3['critic_score'].corr(df_ps3['total_sales'])"
   ]
  },
  {
   "cell_type": "markdown",
   "metadata": {},
   "source": [
    "Корреляция 0.38 говорит о наличие слабой связи между продажи игр на платформе ps3 и отзывами критиков"
   ]
  },
  {
   "cell_type": "code",
   "execution_count": 37,
   "metadata": {},
   "outputs": [
    {
     "data": {
      "image/png": "[encoded data removed]",
      "text/plain": [
       "<Figure size 432x288 with 1 Axes>"
      ]
     },
     "metadata": {
      "needs_background": "light"
     },
     "output_type": "display_data"
    }
   ],
   "source": [
    "# построил гистограмму рассеяния по оценкам пользователей\n",
    "df_ps3.plot(x='user_score', y='total_sales', kind='scatter', alpha=0.3);"
   ]
  },
  {
   "cell_type": "code",
   "execution_count": 38,
   "metadata": {},
   "outputs": [
    {
     "data": {
      "text/plain": [
       "0.014089348308019396"
      ]
     },
     "execution_count": 38,
     "metadata": {},
     "output_type": "execute_result"
    }
   ],
   "source": [
    "# найдена корреляция по оценкам пользователей с итоговыми продажами\n",
    "df_ps3['user_score'].corr(df_ps3['total_sales'])"
   ]
  },
  {
   "cell_type": "markdown",
   "metadata": {},
   "source": [
    "Корреляция 0.01 говорит о никакой наличие связи между продажи игр на платформе ps3 и отзывами пользователей"
   ]
  },
  {
   "cell_type": "code",
   "execution_count": 39,
   "metadata": {},
   "outputs": [
    {
     "data": {
      "image/png": "[encoded data removed]",
      "text/plain": [
       "<Figure size 432x288 with 1 Axes>"
      ]
     },
     "metadata": {
      "needs_background": "light"
     },
     "output_type": "display_data"
    }
   ],
   "source": [
    "# взяты все платформы кроме ps3\n",
    "df_ps3_not = df_actual.query('platform != \"ps3\"')\n",
    "# построил гистограмму рассеяния по оценкам критиков\n",
    "df_ps3_not.plot(x='critic_score', y='total_sales', kind='scatter', alpha=0.5);"
   ]
  },
  {
   "cell_type": "code",
   "execution_count": 40,
   "metadata": {},
   "outputs": [
    {
     "data": {
      "text/plain": [
       "0.31758591318473456"
      ]
     },
     "execution_count": 40,
     "metadata": {},
     "output_type": "execute_result"
    }
   ],
   "source": [
    "# найдена корреляция по оценкам критиков с итоговыми продажами\n",
    "df_ps3_not['critic_score'].corr(df_actual['total_sales'])"
   ]
  },
  {
   "cell_type": "markdown",
   "metadata": {},
   "source": [
    "Корреляция 0.32 говорит о наличие слабой связи между продажи игр на всех платформах (кроме ps3) и отзывами критиков"
   ]
  },
  {
   "cell_type": "code",
   "execution_count": 41,
   "metadata": {},
   "outputs": [
    {
     "data": {
      "image/png": "[encoded data removed]",
      "text/plain": [
       "<Figure size 432x288 with 1 Axes>"
      ]
     },
     "metadata": {
      "needs_background": "light"
     },
     "output_type": "display_data"
    }
   ],
   "source": [
    "# построил гистограмму рассеяния по оценкам пользователей\n",
    "df_ps3_not.plot(x='user_score', y='total_sales', kind='scatter', alpha=0.5);"
   ]
  },
  {
   "cell_type": "code",
   "execution_count": 42,
   "metadata": {},
   "outputs": [
    {
     "data": {
      "text/plain": [
       "0.038434918431186064"
      ]
     },
     "execution_count": 42,
     "metadata": {},
     "output_type": "execute_result"
    }
   ],
   "source": [
    "# найдена корреляция по оценкам пользователей с итоговыми продажами\n",
    "df_ps3_not['user_score'].corr(df_actual['total_sales'])"
   ]
  },
  {
   "cell_type": "markdown",
   "metadata": {},
   "source": [
    "Корреляция 0.04 говорит о никакой наличие связи между продажи игр на всех платформах (кроме ps3) и отзывами пользователей"
   ]
  },
  {
   "cell_type": "markdown",
   "metadata": {},
   "source": [
    "**Вывод**\n",
    "\n",
    "По данным выше, можно сказать, что связи между продажи игр на платформе ps3 и на всех остальных платформах (кроме ps3) между отзывами критиков очень слабая. Большинства пользователем рейтинг критиков не играет особую роль при покупке игр\n",
    "\n",
    "Связи между продажи игр на платформе ps3 и на всех остальных платформах (кроме ps3) между отзывами пользователей не имеется. Геймерам всё равно на рейтинг пользователей при покупке игр"
   ]
  },
  {
   "cell_type": "markdown",
   "metadata": {},
   "source": [
    "### 3.7 Сравнения игр по жанрам"
   ]
  },
  {
   "cell_type": "code",
   "execution_count": 43,
   "metadata": {},
   "outputs": [
    {
     "data": {
      "text/plain": [
       "action          1269\n",
       "role-playing     465\n",
       "adventure        410\n",
       "sports           389\n",
       "misc             375\n",
       "shooter          329\n",
       "racing           180\n",
       "fighting         159\n",
       "simulation       136\n",
       "platform         122\n",
       "strategy         117\n",
       "puzzle            71\n",
       "Name: genre, dtype: int64"
      ]
     },
     "execution_count": 43,
     "metadata": {},
     "output_type": "execute_result"
    }
   ],
   "source": [
    "# посмотрел количество каждого жанра\n",
    "df_actual['genre'].value_counts()"
   ]
  },
  {
   "cell_type": "code",
   "execution_count": 44,
   "metadata": {},
   "outputs": [
    {
     "data": {
      "image/png": "[encoded data removed]",
      "text/plain": [
       "<Figure size 432x288 with 1 Axes>"
      ]
     },
     "metadata": {
      "needs_background": "light"
     },
     "output_type": "display_data"
    }
   ],
   "source": [
    "# построил столбчатую диаграмму через сводную талбицу по жанру, отсортировав значения по убыыванию\n",
    "color_rectanangle = np.random.rand(7, 3)\n",
    "df_actual.pivot_table(index='genre', values='total_sales', aggfunc='sum').sort_values(by='total_sales', ascending=False).plot(kind='bar', color=color_rectanangle, edgecolor='black', linewidth=2);\n",
    "plt.ylabel('продажи');\n",
    "plt.xlabel('жанр');"
   ]
  },
  {
   "cell_type": "markdown",
   "metadata": {},
   "source": [
    "По столбчатой диаграмме видно, что самым прибыльным жанром является action с большим отрывом от всех остальных. Это и понятно, людям всегда нравилось играть в игры такого жанра. Другая ситуация у жанра puzzle, за период 2011-2016 у него самая маленькая прибыль, но это объяснимо такие игры в большей степени являются бесплатными и платят в большей степени только за внутренней контент"
   ]
  },
  {
   "cell_type": "code",
   "execution_count": 45,
   "metadata": {},
   "outputs": [
    {
     "data": {
      "image/png": "[encoded data removed]",
      "text/plain": [
       "<Figure size 432x288 with 1 Axes>"
      ]
     },
     "metadata": {
      "needs_background": "light"
     },
     "output_type": "display_data"
    }
   ],
   "source": [
    "# построил столбчатую диаграмму через сводную талбицу по жанру в среднем, отсортировав значения по убыыванию\n",
    "color_rectanangle = np.random.rand(7, 3)\n",
    "df_actual.pivot_table(index='genre', values='total_sales').sort_values(by='total_sales', ascending=False).plot(kind='bar', color=color_rectanangle, edgecolor='black', linewidth=2);\n",
    "plt.ylabel('продажи в среденем');\n",
    "plt.xlabel('жанр');"
   ]
  },
  {
   "cell_type": "markdown",
   "metadata": {},
   "source": [
    "По этой столбчатой диаграмме ситуация немного другая. Видно, что самым в среднем  прибыльным жанром является shooter с большим отрывом от всех остальных, а самым не прибыльным жанр adventure"
   ]
  },
  {
   "cell_type": "markdown",
   "metadata": {},
   "source": [
    "### 3.8 Вывод по блоку\n",
    "\n",
    "Была проделана большая иследовательская работа и выявлены следующие выводы:\n",
    "\n",
    "* Игры выпускались в онлайн магазине с 1985 по 2016 года, резкий подъём выхода игр начинается с 2000 годов\n",
    "* 5 самые популярные платформы за всё время: ps2, x360, ps3, wii, ds. За 5 лет появляются новые и исчезают старые платформы\n",
    "* Актуальный период выявлен с 2011 по 2016 года\n",
    "* 5 самых прибыльных платформ за актуальный период: ps3, x360, ps4, 3ds, xone\n",
    "* 5 самых популярных жанров за актуальный период: action, shooter, role-playing, sports, music\n",
    "* самым прибыльным жанром за актуальный период является shooter"
   ]
  },
  {
   "cell_type": "markdown",
   "metadata": {},
   "source": [
    "## 4. Портрет пользователя каждого региона (NA, EU, JP)"
   ]
  },
  {
   "cell_type": "markdown",
   "metadata": {},
   "source": [
    "### 4.1 Самые популярные платформы (топ-5)"
   ]
  },
  {
   "cell_type": "code",
   "execution_count": 46,
   "metadata": {},
   "outputs": [
    {
     "data": {
      "text/html": [
       "<div>\n",
       "<style scoped>\n",
       "    .dataframe tbody tr th:only-of-type {\n",
       "        vertical-align: middle;\n",
       "    }\n",
       "\n",
       "    .dataframe tbody tr th {\n",
       "        vertical-align: top;\n",
       "    }\n",
       "\n",
       "    .dataframe thead th {\n",
       "        text-align: right;\n",
       "    }\n",
       "</style>\n",
       "<table border=\"1\" class=\"dataframe\">\n",
       "  <thead>\n",
       "    <tr style=\"text-align: right;\">\n",
       "      <th></th>\n",
       "      <th>na_sales</th>\n",
       "      <th>sum_na_sales</th>\n",
       "      <th>ratio</th>\n",
       "    </tr>\n",
       "    <tr>\n",
       "      <th>platform</th>\n",
       "      <th></th>\n",
       "      <th></th>\n",
       "      <th></th>\n",
       "    </tr>\n",
       "  </thead>\n",
       "  <tbody>\n",
       "    <tr>\n",
       "      <th>x360</th>\n",
       "      <td>226.80</td>\n",
       "      <td>829.76</td>\n",
       "      <td>27</td>\n",
       "    </tr>\n",
       "    <tr>\n",
       "      <th>ps3</th>\n",
       "      <td>168.26</td>\n",
       "      <td>829.76</td>\n",
       "      <td>20</td>\n",
       "    </tr>\n",
       "    <tr>\n",
       "      <th>ps4</th>\n",
       "      <td>108.74</td>\n",
       "      <td>829.76</td>\n",
       "      <td>13</td>\n",
       "    </tr>\n",
       "    <tr>\n",
       "      <th>xone</th>\n",
       "      <td>93.12</td>\n",
       "      <td>829.76</td>\n",
       "      <td>11</td>\n",
       "    </tr>\n",
       "    <tr>\n",
       "      <th>3ds</th>\n",
       "      <td>82.65</td>\n",
       "      <td>829.76</td>\n",
       "      <td>10</td>\n",
       "    </tr>\n",
       "  </tbody>\n",
       "</table>\n",
       "</div>"
      ],
      "text/plain": [
       "          na_sales  sum_na_sales  ratio\n",
       "platform                               \n",
       "x360        226.80        829.76     27\n",
       "ps3         168.26        829.76     20\n",
       "ps4         108.74        829.76     13\n",
       "xone         93.12        829.76     11\n",
       "3ds          82.65        829.76     10"
      ]
     },
     "execution_count": 46,
     "metadata": {},
     "output_type": "execute_result"
    }
   ],
   "source": [
    "# посчитал доли продаж по топ-5 платформ в Северной Америке\n",
    "platform_na_sales = df_actual.pivot_table(index='platform', values='na_sales', aggfunc='sum').sort_values(by='na_sales', ascending=False).head()\n",
    "sum_na_sales =  df_actual.groupby('platform')['na_sales'].sum().sort_values(ascending=False)\n",
    "platform_na_sales['sum_na_sales'] = sum_na_sales.sum()\n",
    "platform_na_sales['ratio'] = platform_na_sales['na_sales'] / platform_na_sales['sum_na_sales'] * 100\n",
    "platform_na_sales['ratio'] = platform_na_sales['ratio'].round()\n",
    "platform_na_sales['ratio'] = platform_na_sales['ratio'].astype('int')\n",
    "platform_na_sales"
   ]
  },
  {
   "cell_type": "code",
   "execution_count": 47,
   "metadata": {},
   "outputs": [
    {
     "name": "stdout",
     "output_type": "stream",
     "text": [
      "Остальная доля всех платформ: 19%\n"
     ]
    }
   ],
   "source": [
    "# посчитал оствашиеся доли продаж по Северной Америке\n",
    "ratio_other = 100 - platform_na_sales['ratio'].sum() \n",
    "print(f'Остальная доля всех платформ: {ratio_other}%')"
   ]
  },
  {
   "cell_type": "code",
   "execution_count": 48,
   "metadata": {},
   "outputs": [
    {
     "data": {
      "image/png": "[encoded data removed]",
      "text/plain": [
       "<Figure size 432x288 with 1 Axes>"
      ]
     },
     "metadata": {},
     "output_type": "display_data"
    }
   ],
   "source": [
    "# построил круговую диаграмму по долям продаж топ-5 платформ Северной Америке и остальных платформ\n",
    "labels = ['x360','ps3','ps4','xone', '3ds', 'other']\n",
    "values = [27, 20, 13, 11, 10, 19]\n",
    "color_rectanangle = np.random.rand(7, 3)\n",
    "plt.pie(values, labels=labels, colors=color_rectanangle, autopct='%0.0f%%');"
   ]
  },
  {
   "cell_type": "markdown",
   "metadata": {},
   "source": [
    "По круговой диаграмме видно, что топ-5 игр Северной Америке занимают 81% от всех продаж. Всех больше покупают игры на платформе x360, а всех меньше в топ-5 на платформе 3ds"
   ]
  },
  {
   "cell_type": "code",
   "execution_count": 49,
   "metadata": {},
   "outputs": [
    {
     "data": {
      "image/png": "[encoded data removed]",
      "text/plain": [
       "<Figure size 432x288 with 1 Axes>"
      ]
     },
     "metadata": {
      "needs_background": "light"
     },
     "output_type": "display_data"
    }
   ],
   "source": [
    "# построил столбчатую диаграмму по 5 самых популярных платформ в Северной Америке\n",
    "color_rectanangle = np.random.rand(7, 3)\n",
    "df_actual.groupby('platform')['na_sales'].sum().sort_values(ascending=False).head().plot(kind='bar', color=color_rectanangle, edgecolor='black', linewidth=2);\n",
    "plt.title('Северная Америка');\n",
    "plt.ylabel('продажи');\n",
    "plt.xlabel('платформа');"
   ]
  },
  {
   "cell_type": "code",
   "execution_count": 50,
   "metadata": {},
   "outputs": [
    {
     "data": {
      "text/html": [
       "<div>\n",
       "<style scoped>\n",
       "    .dataframe tbody tr th:only-of-type {\n",
       "        vertical-align: middle;\n",
       "    }\n",
       "\n",
       "    .dataframe tbody tr th {\n",
       "        vertical-align: top;\n",
       "    }\n",
       "\n",
       "    .dataframe thead th {\n",
       "        text-align: right;\n",
       "    }\n",
       "</style>\n",
       "<table border=\"1\" class=\"dataframe\">\n",
       "  <thead>\n",
       "    <tr style=\"text-align: right;\">\n",
       "      <th></th>\n",
       "      <th>eu_sales</th>\n",
       "      <th>sum_eu_sales</th>\n",
       "      <th>ratio</th>\n",
       "    </tr>\n",
       "    <tr>\n",
       "      <th>platform</th>\n",
       "      <th></th>\n",
       "      <th></th>\n",
       "      <th></th>\n",
       "    </tr>\n",
       "  </thead>\n",
       "  <tbody>\n",
       "    <tr>\n",
       "      <th>ps3</th>\n",
       "      <td>163.10</td>\n",
       "      <td>669.79</td>\n",
       "      <td>24</td>\n",
       "    </tr>\n",
       "    <tr>\n",
       "      <th>ps4</th>\n",
       "      <td>141.09</td>\n",
       "      <td>669.79</td>\n",
       "      <td>21</td>\n",
       "    </tr>\n",
       "    <tr>\n",
       "      <th>x360</th>\n",
       "      <td>117.10</td>\n",
       "      <td>669.79</td>\n",
       "      <td>17</td>\n",
       "    </tr>\n",
       "    <tr>\n",
       "      <th>3ds</th>\n",
       "      <td>61.27</td>\n",
       "      <td>669.79</td>\n",
       "      <td>9</td>\n",
       "    </tr>\n",
       "    <tr>\n",
       "      <th>pc</th>\n",
       "      <td>56.70</td>\n",
       "      <td>669.79</td>\n",
       "      <td>8</td>\n",
       "    </tr>\n",
       "  </tbody>\n",
       "</table>\n",
       "</div>"
      ],
      "text/plain": [
       "          eu_sales  sum_eu_sales  ratio\n",
       "platform                               \n",
       "ps3         163.10        669.79     24\n",
       "ps4         141.09        669.79     21\n",
       "x360        117.10        669.79     17\n",
       "3ds          61.27        669.79      9\n",
       "pc           56.70        669.79      8"
      ]
     },
     "execution_count": 50,
     "metadata": {},
     "output_type": "execute_result"
    }
   ],
   "source": [
    "# посчитал доли продаж по топ-5 платформ в Европе\n",
    "platform_eu_sales = df_actual.pivot_table(index='platform', values='eu_sales', aggfunc='sum').sort_values(by='eu_sales', ascending=False).head()\n",
    "sum_eu_sales =  df_actual.groupby('platform')['eu_sales'].sum().sort_values(ascending=False)\n",
    "platform_eu_sales['sum_eu_sales'] = sum_eu_sales.sum()\n",
    "platform_eu_sales['ratio'] = platform_eu_sales['eu_sales'] / platform_eu_sales['sum_eu_sales'] * 100\n",
    "platform_eu_sales['ratio'] = platform_eu_sales['ratio'].round()\n",
    "platform_eu_sales['ratio'] = platform_eu_sales['ratio'].astype('int')\n",
    "platform_eu_sales"
   ]
  },
  {
   "cell_type": "code",
   "execution_count": 51,
   "metadata": {},
   "outputs": [
    {
     "name": "stdout",
     "output_type": "stream",
     "text": [
      "Остальная доля всех платформ: 21%\n"
     ]
    }
   ],
   "source": [
    "# посчитал оствашиеся доли продаж по Европе\n",
    "ratio_other = 100 - platform_eu_sales['ratio'].sum() \n",
    "print(f'Остальная доля всех платформ: {ratio_other}%')"
   ]
  },
  {
   "cell_type": "code",
   "execution_count": 52,
   "metadata": {},
   "outputs": [
    {
     "data": {
      "image/png": "[encoded data removed]",
      "text/plain": [
       "<Figure size 432x288 with 1 Axes>"
      ]
     },
     "metadata": {},
     "output_type": "display_data"
    }
   ],
   "source": [
    "# построил круговую диаграмму по долям продаж топ-5 платформ Европы и остальных платформ\n",
    "labels = ['ps3','ps4','x360','3ds', 'pc', 'other']\n",
    "values = [24, 21, 17, 9, 8, 21]\n",
    "color_rectanangle = np.random.rand(7, 3)\n",
    "plt.pie(values, labels=labels, colors=color_rectanangle, autopct='%0.0f%%');"
   ]
  },
  {
   "cell_type": "markdown",
   "metadata": {},
   "source": [
    "По круговой диаграмме видно, что топ-5 игр Европы занимают 79% от всех продаж. Всех больше покупают игры на платформе ps3, а всех меньше в топ-5 на платформе pc"
   ]
  },
  {
   "cell_type": "code",
   "execution_count": 53,
   "metadata": {},
   "outputs": [
    {
     "data": {
      "image/png": "[encoded data removed]",
      "text/plain": [
       "<Figure size 432x288 with 1 Axes>"
      ]
     },
     "metadata": {
      "needs_background": "light"
     },
     "output_type": "display_data"
    }
   ],
   "source": [
    "# построил столбчатую диаграмму по 5 самых популярных платформ в Европе\n",
    "color_rectanangle = np.random.rand(7, 3)\n",
    "df_actual.groupby('platform')['eu_sales'].sum().sort_values(ascending=False).head().plot(kind='bar', color=color_rectanangle, edgecolor='black', linewidth=2);\n",
    "plt.title('Европа');\n",
    "plt.ylabel('продажи');\n",
    "plt.xlabel('платформа');"
   ]
  },
  {
   "cell_type": "code",
   "execution_count": 54,
   "metadata": {},
   "outputs": [
    {
     "data": {
      "text/html": [
       "<div>\n",
       "<style scoped>\n",
       "    .dataframe tbody tr th:only-of-type {\n",
       "        vertical-align: middle;\n",
       "    }\n",
       "\n",
       "    .dataframe tbody tr th {\n",
       "        vertical-align: top;\n",
       "    }\n",
       "\n",
       "    .dataframe thead th {\n",
       "        text-align: right;\n",
       "    }\n",
       "</style>\n",
       "<table border=\"1\" class=\"dataframe\">\n",
       "  <thead>\n",
       "    <tr style=\"text-align: right;\">\n",
       "      <th></th>\n",
       "      <th>jp_sales</th>\n",
       "      <th>sum_jp_sales</th>\n",
       "      <th>ratio</th>\n",
       "    </tr>\n",
       "    <tr>\n",
       "      <th>platform</th>\n",
       "      <th></th>\n",
       "      <th></th>\n",
       "      <th></th>\n",
       "    </tr>\n",
       "  </thead>\n",
       "  <tbody>\n",
       "    <tr>\n",
       "      <th>3ds</th>\n",
       "      <td>100.62</td>\n",
       "      <td>245.65</td>\n",
       "      <td>41</td>\n",
       "    </tr>\n",
       "    <tr>\n",
       "      <th>ps3</th>\n",
       "      <td>49.39</td>\n",
       "      <td>245.65</td>\n",
       "      <td>20</td>\n",
       "    </tr>\n",
       "    <tr>\n",
       "      <th>psp</th>\n",
       "      <td>24.04</td>\n",
       "      <td>245.65</td>\n",
       "      <td>10</td>\n",
       "    </tr>\n",
       "    <tr>\n",
       "      <th>psv</th>\n",
       "      <td>21.84</td>\n",
       "      <td>245.65</td>\n",
       "      <td>9</td>\n",
       "    </tr>\n",
       "    <tr>\n",
       "      <th>ps4</th>\n",
       "      <td>15.96</td>\n",
       "      <td>245.65</td>\n",
       "      <td>6</td>\n",
       "    </tr>\n",
       "  </tbody>\n",
       "</table>\n",
       "</div>"
      ],
      "text/plain": [
       "          jp_sales  sum_jp_sales  ratio\n",
       "platform                               \n",
       "3ds         100.62        245.65     41\n",
       "ps3          49.39        245.65     20\n",
       "psp          24.04        245.65     10\n",
       "psv          21.84        245.65      9\n",
       "ps4          15.96        245.65      6"
      ]
     },
     "execution_count": 54,
     "metadata": {},
     "output_type": "execute_result"
    }
   ],
   "source": [
    "# посчитал доли продаж по топ-5 платформ Японии\n",
    "platform_jp_sales = df_actual.pivot_table(index='platform', values='jp_sales', aggfunc='sum').sort_values(by='jp_sales', ascending=False).head()\n",
    "sum_jp_sales =  df_actual.groupby('platform')['jp_sales'].sum().sort_values(ascending=False)\n",
    "platform_jp_sales['sum_jp_sales'] = sum_jp_sales.sum()\n",
    "platform_jp_sales['ratio'] = platform_jp_sales['jp_sales'] / platform_jp_sales['sum_jp_sales'] * 100\n",
    "platform_jp_sales['ratio'] = platform_jp_sales['ratio'].round()\n",
    "platform_jp_sales['ratio'] = platform_jp_sales['ratio'].astype('int')\n",
    "platform_jp_sales"
   ]
  },
  {
   "cell_type": "code",
   "execution_count": 55,
   "metadata": {},
   "outputs": [
    {
     "name": "stdout",
     "output_type": "stream",
     "text": [
      "Остальная доля всех платформ: 14%\n"
     ]
    }
   ],
   "source": [
    "# посчитал оствашиеся доли продаж по Японии\n",
    "ratio_other = 100 - platform_jp_sales['ratio'].sum() \n",
    "print(f'Остальная доля всех платформ: {ratio_other}%')"
   ]
  },
  {
   "cell_type": "code",
   "execution_count": 56,
   "metadata": {},
   "outputs": [
    {
     "data": {
      "image/png": "[encoded data removed]",
      "text/plain": [
       "<Figure size 432x288 with 1 Axes>"
      ]
     },
     "metadata": {},
     "output_type": "display_data"
    }
   ],
   "source": [
    "# построил круговую диаграмму по долям продаж топ-5 платформ Японии и остальных платформ\n",
    "labels = ['3ds','ps3','psp','psv', 'ps4', 'other']\n",
    "values = [41, 20, 10, 9, 6, 14]\n",
    "color_rectanangle = np.random.rand(7, 3)\n",
    "plt.pie(values, labels=labels, colors=color_rectanangle, autopct='%0.0f%%');"
   ]
  },
  {
   "cell_type": "markdown",
   "metadata": {},
   "source": [
    "По круговой диаграмме видно, что топ-5 игр Японии занимают 86% от всех продаж. Всех больше покупают игры на платформе 3ds, а всех меньше в топ-5 на платформе ps4"
   ]
  },
  {
   "cell_type": "code",
   "execution_count": 57,
   "metadata": {},
   "outputs": [
    {
     "data": {
      "image/png": "[encoded data removed]",
      "text/plain": [
       "<Figure size 432x288 with 1 Axes>"
      ]
     },
     "metadata": {
      "needs_background": "light"
     },
     "output_type": "display_data"
    }
   ],
   "source": [
    "# построил столбчатую диаграмму по 5 самых популярных платформ в Японии\n",
    "color_rectanangle = np.random.rand(7, 3)\n",
    "platform_jp_sales = df_actual.groupby('platform')['jp_sales'].sum().sort_values(ascending=False).head().plot(kind='bar', color=color_rectanangle, edgecolor='black', linewidth=2);\n",
    "plt.title('Япония');\n",
    "plt.ylabel('продажи');\n",
    "plt.xlabel('платформа');"
   ]
  },
  {
   "cell_type": "markdown",
   "metadata": {},
   "source": [
    "#### 4.1.1 Вывод\n",
    "\n",
    "В регионах Северной Америке и Европе доли от игр почти одинаковы в отличие от Японии. Там наюлюдается плафторма номер один в стране - 3ds, на ней играют более 41% пользователей. Что касается самих платформ в Северной Америке и Европе, они меняются местами в топе за исключением платформы xone в Северной Америке и pc в Европе. Япониия сильно отличается по платформам от остальных регионах"
   ]
  },
  {
   "cell_type": "markdown",
   "metadata": {},
   "source": [
    "### 4.2 Самые популярные жанры (топ-5)"
   ]
  },
  {
   "cell_type": "code",
   "execution_count": 58,
   "metadata": {},
   "outputs": [
    {
     "data": {
      "image/png": "[encoded data removed]",
      "text/plain": [
       "<Figure size 432x288 with 1 Axes>"
      ]
     },
     "metadata": {
      "needs_background": "light"
     },
     "output_type": "display_data"
    }
   ],
   "source": [
    "# построил столбчатую диаграмму по 5 самых популярных жанров в Северной Америке\n",
    "color_rectanangle = np.random.rand(7, 3)\n",
    "df_actual.groupby('genre')['na_sales'].sum().sort_values(ascending=False).head().plot(kind='bar', color=color_rectanangle, edgecolor='black', linewidth=2);\n",
    "plt.title('Северная Америка');\n",
    "plt.ylabel('продажи');\n",
    "plt.xlabel('жанр');"
   ]
  },
  {
   "cell_type": "code",
   "execution_count": 59,
   "metadata": {},
   "outputs": [
    {
     "data": {
      "image/png": "[encoded data removed]",
      "text/plain": [
       "<Figure size 432x288 with 1 Axes>"
      ]
     },
     "metadata": {
      "needs_background": "light"
     },
     "output_type": "display_data"
    }
   ],
   "source": [
    "# построил столбчатую диаграмму по 5 самых популярных жанров в Европе\n",
    "color_rectanangle = np.random.rand(7, 3)\n",
    "df_actual.groupby('genre')['eu_sales'].sum().sort_values(ascending=False).head().plot(kind='bar', color=color_rectanangle, edgecolor='black', linewidth=2);\n",
    "plt.title('Европа');\n",
    "plt.ylabel('продажи');\n",
    "plt.xlabel('жанр');"
   ]
  },
  {
   "cell_type": "code",
   "execution_count": 60,
   "metadata": {},
   "outputs": [
    {
     "data": {
      "image/png": "[encoded data removed]",
      "text/plain": [
       "<Figure size 432x288 with 1 Axes>"
      ]
     },
     "metadata": {
      "needs_background": "light"
     },
     "output_type": "display_data"
    }
   ],
   "source": [
    "# построил столбчатую диаграмму по 5 самых популярных жанров в Японии\n",
    "color_rectanangle = np.random.rand(7, 3)\n",
    "platform_jp_sales = df_actual.groupby('genre')['jp_sales'].sum().sort_values(ascending=False).head().plot(kind='bar', color=color_rectanangle, edgecolor='black', linewidth=2);\n",
    "plt.title('Япония');\n",
    "plt.ylabel('продажи');\n",
    "plt.xlabel('жанр');"
   ]
  },
  {
   "cell_type": "markdown",
   "metadata": {},
   "source": [
    "#### 4.2.1 Вывод\n",
    "\n",
    "По популярности жанры в Северной Америке и в Европе почти одинаковы. Жанр action в двух регионах преобладает, а замыкают в топ 5 разные жанры. В Северной Америке это жанр music, а в Европе racing. \n",
    "\n",
    "В Японии наюлюдается немного другая ситуация. В этом регионе преобладает жанр role playing, заметим, что этот жанр занимал 4 место по популярности в Северной Америке и Европе. Также с большим отрывом от остальных выделяется жанр action и можно сказать, что во всех трёх регионах вкусы по жанру action совпадают. В Северной Америке и Европе он занимает 1 место среди популярных жанров, а в Японии 2 место"
   ]
  },
  {
   "cell_type": "markdown",
   "metadata": {},
   "source": [
    "### 4.3 Рейтинг ERSB (топ-5)"
   ]
  },
  {
   "cell_type": "markdown",
   "metadata": {},
   "source": [
    "**Примечание**\n",
    "\n",
    "**Рейтинги**\n",
    "\n",
    "* `EC` (Early childhood) — для детей младшего возраста: игра подходит для детей от 3 лет и старше \n",
    "\n",
    "\n",
    "* `E` (Everyone) — для всех: содержание вполне подходит для возрастной категории старше 6 лет, такие игры могут понравиться и взрослым\n",
    "\n",
    "\n",
    "* `E10+` (Everyone 10 and older) — для всех старше 10 лет: возрастная категория — от 10 лет\n",
    "\n",
    "\n",
    "* `T` (Teen) — подросткам 13—19 лет: игра подходит для подростков старше 13 лет\n",
    "\n",
    "\n",
    "* `M` (Mature)  — от 17 лет: материалы игры не подходят для возрастной категории младше 17 лет\n",
    "\n",
    "\n",
    "* `AO`(Adults Only 18+) — только для взрослых: содержание игры только для взрослых\n",
    "\n",
    "\n",
    "* `RP` (Rating Pending) — рейтинг ожидается: продукт был отправлен в ESRB и ожидает присвоение рейтинга\n",
    "\n",
    "`K-A` — для детей и взрослых: игры, содержащие контент, подходящий для широкой аудитории. Этот рейтинг использовался до 1998 года, когда он был переименован в E"
   ]
  },
  {
   "cell_type": "code",
   "execution_count": 61,
   "metadata": {},
   "outputs": [
    {
     "data": {
      "image/png": "[encoded data removed]",
      "text/plain": [
       "<Figure size 432x288 with 1 Axes>"
      ]
     },
     "metadata": {
      "needs_background": "light"
     },
     "output_type": "display_data"
    }
   ],
   "source": [
    "# построил столбчатую диаграмму по рейтингу ESRB в Северной Америке по убыванию\n",
    "color_rectanangle = np.random.rand(7, 3)\n",
    "df_actual.groupby('rating')['na_sales'].sum().sort_values(ascending=False).plot(kind='bar', color=color_rectanangle, edgecolor='black', linewidth=2);\n",
    "plt.title('Северная Америка');\n",
    "plt.ylabel('продажи');\n",
    "plt.xlabel('рейтинг');"
   ]
  },
  {
   "cell_type": "code",
   "execution_count": 62,
   "metadata": {},
   "outputs": [
    {
     "data": {
      "image/png": "[encoded data removed]",
      "text/plain": [
       "<Figure size 432x288 with 1 Axes>"
      ]
     },
     "metadata": {
      "needs_background": "light"
     },
     "output_type": "display_data"
    }
   ],
   "source": [
    "# построил столбчатую диаграмму по рейтингу ESRB в Европе по убыванию\n",
    "color_rectanangle = np.random.rand(7, 3)\n",
    "df_actual.groupby('rating')['eu_sales'].sum().sort_values(ascending=False).plot(kind='bar', color=color_rectanangle, edgecolor='black', linewidth=2);\n",
    "plt.title('Европа');\n",
    "plt.ylabel('продажи');\n",
    "plt.xlabel('рейтинг');"
   ]
  },
  {
   "cell_type": "code",
   "execution_count": 63,
   "metadata": {},
   "outputs": [
    {
     "data": {
      "image/png": "[encoded data removed]",
      "text/plain": [
       "<Figure size 432x288 with 1 Axes>"
      ]
     },
     "metadata": {
      "needs_background": "light"
     },
     "output_type": "display_data"
    }
   ],
   "source": [
    "# построил столбчатую диаграмму по рейтингу ESRB в Японии по убыванию\n",
    "color_rectanangle = np.random.rand(7, 3)\n",
    "df_actual.groupby('rating')['jp_sales'].sum().sort_values(ascending=False).plot(kind='bar', color=color_rectanangle, edgecolor='black', linewidth=2);\n",
    "plt.title('Япония');\n",
    "plt.ylabel('продажи');\n",
    "plt.xlabel('рейтинг');"
   ]
  },
  {
   "cell_type": "markdown",
   "metadata": {},
   "source": [
    "#### 4.3.1 Вывод\n",
    "\n",
    "Рейтинг ESRB на продажи в Северной Америке и в Европе почти одинаковый, это доказывается из-за схожих взгядов и ценностей пользователей в этих регионах. Разница лишь в том, что рейтинг E10+ в Северной америке чуть больше, чем в Европе, а с рейтингом T всё наоборот. Наиболее популярный рейтинг по продажам, это рейтинг M. Большинство таких игр заточены под категории жанров action и shooter, в этом мы убедились ранее\n",
    "\n",
    "\n",
    "В Японии совсем другая ситуация, там преобладает рейтинг RP. То есть большинство игр в Японии не имеют рейтинга в настоящее время и находятся в ожидание его. Ещё стоит отметить малый процент продаж по рейтингу M, чем в Северной Америке и Европе. Но сказать, что не преобладают такие рода жанры как action нельзя, ведь по исследованию выше жанр action занимает 2 место по популярности среди жанров в Японии\n",
    "\n",
    "\n",
    "Рейтинг EC имеет очень маленькое количество продаж во всех регионах, в большей степени это связано с платформами. Такие рода игр дети играют на телефоне или на планшете"
   ]
  },
  {
   "cell_type": "markdown",
   "metadata": {},
   "source": [
    "## 5. Проверка гипотез"
   ]
  },
  {
   "cell_type": "markdown",
   "metadata": {},
   "source": [
    "### 5.1 Первая гипотеза"
   ]
  },
  {
   "cell_type": "markdown",
   "metadata": {},
   "source": [
    "**Средние пользовательские рейтинги платформ Xbox One и PC одинаковые**\n",
    "\n",
    "- **Нулевая гипотеза:** средние пользовательские рейтинги платформ Xbox One и PC одинаковые\n",
    "\n",
    "\n",
    "- **Альтеративная гипотеза:** средние пользовательские рейтинги платформ Xbox One и PC разные"
   ]
  },
  {
   "cell_type": "code",
   "execution_count": 64,
   "metadata": {},
   "outputs": [],
   "source": [
    "# выбраны две платформы: xone и pc\n",
    "df_xone = df_actual.query('platform == \"xone\"')\n",
    "df_pc = df_actual.query('platform == \"pc\"')"
   ]
  },
  {
   "cell_type": "markdown",
   "metadata": {},
   "source": [
    "Сделал срез по платформам Xbox One и PC"
   ]
  },
  {
   "cell_type": "code",
   "execution_count": 65,
   "metadata": {},
   "outputs": [
    {
     "name": "stdout",
     "output_type": "stream",
     "text": [
      "p-значение: 0.6130712247638477\n",
      "Не получилось отвергнуть нулевую гипотезу\n"
     ]
    }
   ],
   "source": [
    "# проверка 1 гипотезы\n",
    "df_xone_user = df_xone['user_score']\n",
    "df_pc_user = df_pc['user_score']\n",
    "\n",
    "alpha = .05\n",
    "\n",
    "results = st.ttest_ind(\n",
    "    df_xone_user,\n",
    "    df_pc_user,\n",
    "    equal_var = False,\n",
    "    nan_policy='omit')\n",
    "\n",
    "print('p-значение:', results.pvalue)\n",
    "\n",
    "if results.pvalue < alpha:\n",
    "    print(\"Отвергаем нулевую гипотезу\")\n",
    "else:\n",
    "    print(\"Не получилось отвергнуть нулевую гипотезу\")"
   ]
  },
  {
   "cell_type": "markdown",
   "metadata": {},
   "source": [
    "**Вывод**\n",
    "\n",
    "Первую гипотезу нет оснований отвергнуть, средние пользовательские рейтинги платформ Xbox One и PC одинаковые"
   ]
  },
  {
   "cell_type": "markdown",
   "metadata": {},
   "source": [
    "### 5.2 Вторая гипотеза"
   ]
  },
  {
   "cell_type": "markdown",
   "metadata": {},
   "source": [
    "**Средние пользовательские рейтинги жанров Action (англ. «действие», экшен-игры) и Sports (англ. «спортивные соревнования») разные**\n",
    "\n",
    "- **Нулевая гипотеза:** средние пользовательские рейтинги жанров Action (англ. «действие», экшен- игры) и Sports (англ. «спортивные соревнования») одинаковые\n",
    "\n",
    "\n",
    "- **Альтеративная гипотеза:** средние пользовательские рейтинги жанров Action (англ. «действие», экшен-игры) и Sports (англ. «спортивные соревнования») разные"
   ]
  },
  {
   "cell_type": "code",
   "execution_count": 66,
   "metadata": {},
   "outputs": [],
   "source": [
    "# выбраны два жанра: action и sports\n",
    "df_action = df_actual.query('genre == \"action\"')\n",
    "df_sports = df_actual.query('genre == \"sports\"')"
   ]
  },
  {
   "cell_type": "markdown",
   "metadata": {},
   "source": [
    "Сделал срез по жанрам Action и Sports"
   ]
  },
  {
   "cell_type": "code",
   "execution_count": 67,
   "metadata": {},
   "outputs": [
    {
     "name": "stdout",
     "output_type": "stream",
     "text": [
      "p-значение: 8.285648549432565e-19\n",
      "Отвергаем нулевую гипотезу\n"
     ]
    }
   ],
   "source": [
    "# проверка 2 гипотезы\n",
    "df_action_user = df_action['user_score']\n",
    "df_sports_user = df_sports['user_score']\n",
    "\n",
    "alpha = .05\n",
    "\n",
    "results = st.ttest_ind(\n",
    "    df_action_user,\n",
    "    df_sports_user,\n",
    "    equal_var = False,\n",
    "    nan_policy='omit')\n",
    "\n",
    "print('p-значение:', results.pvalue)\n",
    "\n",
    "if results.pvalue < alpha:\n",
    "    print(\"Отвергаем нулевую гипотезу\")\n",
    "else:\n",
    "    print(\"Не получилось отвергнуть нулевую гипотезу\")"
   ]
  },
  {
   "cell_type": "markdown",
   "metadata": {},
   "source": [
    "**Вывод**\n",
    "\n",
    "Вторую гипотезу нет оснований отвергнуть, средние пользовательские рейтинги жанров Action и Sports разные"
   ]
  },
  {
   "cell_type": "markdown",
   "metadata": {},
   "source": [
    "## 6. Общий вывод"
   ]
  },
  {
   "cell_type": "markdown",
   "metadata": {},
   "source": [
    "На анализе всех данных и промежуточных выводах можно сделать следующие заключения:\n",
    "\n",
    "1. Самым популярным жанром во всех регионах является action. В Северной Америке и Европе он занимает первое место, а в Японии второе. На этот жанр стоит сделать ставку на 2017 год, но стоит отметить такие жанры как shooter и role-playing. Жанр shooter является вторым по популярности в Северной Америке и Европе, а жанр role-playing первым в Японии. В итоге следует сделать общий вывод: на жанр action следует сделать ставку во всех регионах, на жанр shooter следует сделать ставку на регионы Северной Америке и Европы, а на жанр role-playing сделать ставку в Японии\n",
    "\n",
    "\n",
    "2. С платформами ситуация немного другая. В каждом регионе первые места по пользователям занимают разные платформы. В Северной Америке это платформа X360, в Европе PS3, а в Японии 3DS. Но всё же самой популярной платформой среди всех регионах является ps3, она есть в каждом регионе. На 2017 год следует сделать ставку именно на неё, но стоит ещё обратить внимание на консоль нового поколения - PS4\n",
    "\n",
    "\n",
    "3. Что касается жанров, в большей степени в Северной Америке и Европе преобладает рейтинг M, но в Японии рейтинг RP. Можно предположить, что такой рейтинг в Японии связан из-за политики страны. На 2017 год следует сделать ставку на рейтинг M\n",
    "\n",
    "**Гипотезы**\n",
    "\n",
    "* Первую гипотезу нет оснований отвергнуть: `средние пользовательские рейтинги платформ Xbox One и PC одинаковые`\n",
    "\n",
    "\n",
    "* Вторую гипотезу нет оснований отвергнуть: `средние пользовательские рейтинги жанров Action и Sports разные`"
   ]
  }
 ],
 "metadata": {
  "ExecuteTimeLog": [
   {
    "duration": 135,
    "start_time": "2022-04-03T18:51:18.847Z"
   },
   {
    "duration": 1510,
    "start_time": "2022-04-03T18:51:33.614Z"
   },
   {
    "duration": 114,
    "start_time": "2022-04-03T18:51:35.127Z"
   },
   {
    "duration": 80,
    "start_time": "2022-04-03T18:51:44.192Z"
   },
   {
    "duration": 21,
    "start_time": "2022-04-03T18:55:31.150Z"
   },
   {
    "duration": 1550,
    "start_time": "2022-04-03T18:55:59.052Z"
   },
   {
    "duration": 85,
    "start_time": "2022-04-03T18:56:00.605Z"
   },
   {
    "duration": 24,
    "start_time": "2022-04-03T18:56:00.693Z"
   },
   {
    "duration": 14,
    "start_time": "2022-04-03T18:58:35.290Z"
   },
   {
    "duration": 27,
    "start_time": "2022-04-03T18:58:43.123Z"
   },
   {
    "duration": 30,
    "start_time": "2022-04-03T18:58:52.246Z"
   },
   {
    "duration": 37,
    "start_time": "2022-04-03T18:59:03.953Z"
   },
   {
    "duration": 23,
    "start_time": "2022-04-03T18:59:27.511Z"
   },
   {
    "duration": 8,
    "start_time": "2022-04-03T18:59:37.161Z"
   },
   {
    "duration": 27,
    "start_time": "2022-04-03T19:00:28.225Z"
   },
   {
    "duration": 22,
    "start_time": "2022-04-03T19:00:44.933Z"
   },
   {
    "duration": 25,
    "start_time": "2022-04-03T19:01:23.230Z"
   },
   {
    "duration": 22,
    "start_time": "2022-04-03T19:27:52.332Z"
   },
   {
    "duration": 12,
    "start_time": "2022-04-03T19:28:03.375Z"
   },
   {
    "duration": 19,
    "start_time": "2022-04-03T19:28:42.733Z"
   },
   {
    "duration": 6,
    "start_time": "2022-04-03T19:29:02.502Z"
   },
   {
    "duration": 12,
    "start_time": "2022-04-03T19:29:09.904Z"
   },
   {
    "duration": 23,
    "start_time": "2022-04-03T19:29:17.630Z"
   },
   {
    "duration": 18,
    "start_time": "2022-04-03T19:29:47.244Z"
   },
   {
    "duration": 27,
    "start_time": "2022-04-03T19:29:55.607Z"
   },
   {
    "duration": 26,
    "start_time": "2022-04-03T19:30:02.436Z"
   },
   {
    "duration": 13,
    "start_time": "2022-04-03T19:41:48.486Z"
   },
   {
    "duration": 251,
    "start_time": "2022-04-03T19:41:55.350Z"
   },
   {
    "duration": 140,
    "start_time": "2022-04-03T19:42:04.396Z"
   },
   {
    "duration": 468,
    "start_time": "2022-04-03T19:43:30.766Z"
   },
   {
    "duration": 311,
    "start_time": "2022-04-03T19:43:48.367Z"
   },
   {
    "duration": 289,
    "start_time": "2022-04-03T19:44:37.807Z"
   },
   {
    "duration": 292,
    "start_time": "2022-04-03T19:45:08.727Z"
   },
   {
    "duration": 297,
    "start_time": "2022-04-03T19:45:36.383Z"
   },
   {
    "duration": 316,
    "start_time": "2022-04-03T19:46:45.397Z"
   },
   {
    "duration": 267,
    "start_time": "2022-04-03T19:47:09.505Z"
   },
   {
    "duration": 500,
    "start_time": "2022-04-03T19:48:06.094Z"
   },
   {
    "duration": 26,
    "start_time": "2022-04-03T19:53:03.625Z"
   },
   {
    "duration": 270,
    "start_time": "2022-04-03T19:54:22.331Z"
   },
   {
    "duration": 389,
    "start_time": "2022-04-03T19:55:53.980Z"
   },
   {
    "duration": 412,
    "start_time": "2022-04-03T19:55:59.948Z"
   },
   {
    "duration": 199,
    "start_time": "2022-04-03T19:58:23.741Z"
   },
   {
    "duration": 7,
    "start_time": "2022-04-03T19:58:40.072Z"
   },
   {
    "duration": 200,
    "start_time": "2022-04-03T19:58:50.206Z"
   },
   {
    "duration": 6,
    "start_time": "2022-04-03T19:58:56.760Z"
   },
   {
    "duration": 9,
    "start_time": "2022-04-03T19:59:40.477Z"
   },
   {
    "duration": 295,
    "start_time": "2022-04-03T19:59:47.153Z"
   },
   {
    "duration": 10,
    "start_time": "2022-04-03T20:00:07.527Z"
   },
   {
    "duration": 8,
    "start_time": "2022-04-03T20:00:24.767Z"
   },
   {
    "duration": 30,
    "start_time": "2022-04-03T20:06:11.369Z"
   },
   {
    "duration": 5,
    "start_time": "2022-04-03T20:06:19.416Z"
   },
   {
    "duration": 153,
    "start_time": "2022-04-03T20:06:25.877Z"
   },
   {
    "duration": 145,
    "start_time": "2022-04-03T20:06:31.558Z"
   },
   {
    "duration": 241,
    "start_time": "2022-04-03T20:06:34.020Z"
   },
   {
    "duration": 206,
    "start_time": "2022-04-03T20:06:41.860Z"
   },
   {
    "duration": 32,
    "start_time": "2022-04-03T20:07:02.146Z"
   },
   {
    "duration": 6,
    "start_time": "2022-04-03T20:07:09.862Z"
   },
   {
    "duration": 139,
    "start_time": "2022-04-03T20:07:17.490Z"
   },
   {
    "duration": 205,
    "start_time": "2022-04-03T20:07:35.829Z"
   },
   {
    "duration": 31,
    "start_time": "2022-04-03T20:07:44.532Z"
   },
   {
    "duration": 6,
    "start_time": "2022-04-03T20:07:58.602Z"
   },
   {
    "duration": 160,
    "start_time": "2022-04-03T20:08:04.169Z"
   },
   {
    "duration": 190,
    "start_time": "2022-04-03T20:08:11.063Z"
   },
   {
    "duration": 71,
    "start_time": "2022-04-04T06:54:42.304Z"
   },
   {
    "duration": 1763,
    "start_time": "2022-04-04T06:54:48.129Z"
   },
   {
    "duration": 90,
    "start_time": "2022-04-04T06:54:49.895Z"
   },
   {
    "duration": 21,
    "start_time": "2022-04-04T06:54:49.987Z"
   },
   {
    "duration": 33,
    "start_time": "2022-04-04T06:54:50.011Z"
   },
   {
    "duration": 31,
    "start_time": "2022-04-04T06:54:50.047Z"
   },
   {
    "duration": 23,
    "start_time": "2022-04-04T06:54:50.080Z"
   },
   {
    "duration": 65,
    "start_time": "2022-04-04T06:54:50.106Z"
   },
   {
    "duration": 21,
    "start_time": "2022-04-04T06:54:50.174Z"
   },
   {
    "duration": 8,
    "start_time": "2022-04-04T06:54:50.198Z"
   },
   {
    "duration": 866,
    "start_time": "2022-04-04T06:54:50.244Z"
   },
   {
    "duration": 0,
    "start_time": "2022-04-04T06:54:51.113Z"
   },
   {
    "duration": 0,
    "start_time": "2022-04-04T06:54:51.115Z"
   },
   {
    "duration": 0,
    "start_time": "2022-04-04T06:54:51.117Z"
   },
   {
    "duration": 0,
    "start_time": "2022-04-04T06:54:51.118Z"
   },
   {
    "duration": 0,
    "start_time": "2022-04-04T06:54:51.120Z"
   },
   {
    "duration": 0,
    "start_time": "2022-04-04T06:54:51.121Z"
   },
   {
    "duration": 0,
    "start_time": "2022-04-04T06:54:51.123Z"
   },
   {
    "duration": 0,
    "start_time": "2022-04-04T06:54:51.124Z"
   },
   {
    "duration": 0,
    "start_time": "2022-04-04T06:54:51.126Z"
   },
   {
    "duration": 0,
    "start_time": "2022-04-04T06:54:51.128Z"
   },
   {
    "duration": 0,
    "start_time": "2022-04-04T06:54:51.129Z"
   },
   {
    "duration": 0,
    "start_time": "2022-04-04T06:54:51.131Z"
   },
   {
    "duration": 0,
    "start_time": "2022-04-04T06:54:51.132Z"
   },
   {
    "duration": 0,
    "start_time": "2022-04-04T06:54:51.134Z"
   },
   {
    "duration": 0,
    "start_time": "2022-04-04T06:54:51.136Z"
   },
   {
    "duration": 0,
    "start_time": "2022-04-04T06:54:51.137Z"
   },
   {
    "duration": 0,
    "start_time": "2022-04-04T06:54:51.138Z"
   },
   {
    "duration": 0,
    "start_time": "2022-04-04T06:54:51.140Z"
   },
   {
    "duration": 0,
    "start_time": "2022-04-04T06:54:51.141Z"
   },
   {
    "duration": 0,
    "start_time": "2022-04-04T06:54:51.143Z"
   },
   {
    "duration": 0,
    "start_time": "2022-04-04T06:54:51.144Z"
   },
   {
    "duration": 0,
    "start_time": "2022-04-04T06:54:51.146Z"
   },
   {
    "duration": 0,
    "start_time": "2022-04-04T06:54:51.147Z"
   },
   {
    "duration": 0,
    "start_time": "2022-04-04T06:54:51.149Z"
   },
   {
    "duration": 0,
    "start_time": "2022-04-04T06:54:51.150Z"
   },
   {
    "duration": 0,
    "start_time": "2022-04-04T06:54:51.151Z"
   },
   {
    "duration": 0,
    "start_time": "2022-04-04T06:54:51.152Z"
   },
   {
    "duration": 0,
    "start_time": "2022-04-04T06:54:51.154Z"
   },
   {
    "duration": 0,
    "start_time": "2022-04-04T06:54:51.155Z"
   },
   {
    "duration": 0,
    "start_time": "2022-04-04T06:54:51.156Z"
   },
   {
    "duration": 1,
    "start_time": "2022-04-04T06:54:51.157Z"
   },
   {
    "duration": 0,
    "start_time": "2022-04-04T06:54:51.159Z"
   },
   {
    "duration": 0,
    "start_time": "2022-04-04T06:54:51.160Z"
   },
   {
    "duration": 0,
    "start_time": "2022-04-04T06:54:51.162Z"
   },
   {
    "duration": 0,
    "start_time": "2022-04-04T06:54:51.163Z"
   },
   {
    "duration": 0,
    "start_time": "2022-04-04T06:54:51.164Z"
   },
   {
    "duration": 0,
    "start_time": "2022-04-04T06:54:51.166Z"
   },
   {
    "duration": 0,
    "start_time": "2022-04-04T06:54:51.168Z"
   },
   {
    "duration": 0,
    "start_time": "2022-04-04T06:54:51.169Z"
   },
   {
    "duration": 0,
    "start_time": "2022-04-04T06:54:51.171Z"
   },
   {
    "duration": 0,
    "start_time": "2022-04-04T06:54:51.172Z"
   },
   {
    "duration": 0,
    "start_time": "2022-04-04T06:54:51.174Z"
   },
   {
    "duration": 27,
    "start_time": "2022-04-04T06:55:33.160Z"
   },
   {
    "duration": 1500,
    "start_time": "2022-04-04T06:55:46.514Z"
   },
   {
    "duration": 80,
    "start_time": "2022-04-04T06:55:48.017Z"
   },
   {
    "duration": 21,
    "start_time": "2022-04-04T06:55:48.099Z"
   },
   {
    "duration": 12,
    "start_time": "2022-04-04T06:55:48.143Z"
   },
   {
    "duration": 27,
    "start_time": "2022-04-04T06:55:48.158Z"
   },
   {
    "duration": 56,
    "start_time": "2022-04-04T06:55:48.187Z"
   },
   {
    "duration": 33,
    "start_time": "2022-04-04T06:55:48.245Z"
   },
   {
    "duration": 20,
    "start_time": "2022-04-04T06:55:48.280Z"
   },
   {
    "duration": 44,
    "start_time": "2022-04-04T06:55:48.302Z"
   },
   {
    "duration": 28,
    "start_time": "2022-04-04T06:55:48.348Z"
   },
   {
    "duration": 7,
    "start_time": "2022-04-04T06:55:48.378Z"
   },
   {
    "duration": 65,
    "start_time": "2022-04-04T06:55:48.387Z"
   },
   {
    "duration": 6,
    "start_time": "2022-04-04T06:55:48.454Z"
   },
   {
    "duration": 11,
    "start_time": "2022-04-04T06:55:48.465Z"
   },
   {
    "duration": 72,
    "start_time": "2022-04-04T06:55:48.478Z"
   },
   {
    "duration": 18,
    "start_time": "2022-04-04T06:55:48.552Z"
   },
   {
    "duration": 25,
    "start_time": "2022-04-04T06:55:48.572Z"
   },
   {
    "duration": 63,
    "start_time": "2022-04-04T06:55:48.599Z"
   },
   {
    "duration": 12,
    "start_time": "2022-04-04T06:55:48.664Z"
   },
   {
    "duration": 274,
    "start_time": "2022-04-04T06:55:48.679Z"
   },
   {
    "duration": 422,
    "start_time": "2022-04-04T06:55:48.955Z"
   },
   {
    "duration": 297,
    "start_time": "2022-04-04T06:55:49.380Z"
   },
   {
    "duration": 293,
    "start_time": "2022-04-04T06:55:49.679Z"
   },
   {
    "duration": 274,
    "start_time": "2022-04-04T06:55:49.974Z"
   },
   {
    "duration": 274,
    "start_time": "2022-04-04T06:55:50.251Z"
   },
   {
    "duration": 261,
    "start_time": "2022-04-04T06:55:50.527Z"
   },
   {
    "duration": 259,
    "start_time": "2022-04-04T06:55:50.791Z"
   },
   {
    "duration": 435,
    "start_time": "2022-04-04T06:55:51.052Z"
   },
   {
    "duration": 24,
    "start_time": "2022-04-04T06:55:51.489Z"
   },
   {
    "duration": 32,
    "start_time": "2022-04-04T06:55:51.515Z"
   },
   {
    "duration": 249,
    "start_time": "2022-04-04T06:55:51.549Z"
   },
   {
    "duration": 357,
    "start_time": "2022-04-04T06:55:51.800Z"
   },
   {
    "duration": 378,
    "start_time": "2022-04-04T06:55:52.160Z"
   },
   {
    "duration": 196,
    "start_time": "2022-04-04T06:55:52.543Z"
   },
   {
    "duration": 8,
    "start_time": "2022-04-04T06:55:52.743Z"
   },
   {
    "duration": 192,
    "start_time": "2022-04-04T06:55:52.753Z"
   },
   {
    "duration": 7,
    "start_time": "2022-04-04T06:55:52.947Z"
   },
   {
    "duration": 205,
    "start_time": "2022-04-04T06:55:52.956Z"
   },
   {
    "duration": 9,
    "start_time": "2022-04-04T06:55:53.163Z"
   },
   {
    "duration": 277,
    "start_time": "2022-04-04T06:55:53.174Z"
   },
   {
    "duration": 32,
    "start_time": "2022-04-04T06:55:53.457Z"
   },
   {
    "duration": 5,
    "start_time": "2022-04-04T06:55:53.491Z"
   },
   {
    "duration": 182,
    "start_time": "2022-04-04T06:55:53.499Z"
   },
   {
    "duration": 289,
    "start_time": "2022-04-04T06:55:53.683Z"
   },
   {
    "duration": 33,
    "start_time": "2022-04-04T06:55:53.975Z"
   },
   {
    "duration": 35,
    "start_time": "2022-04-04T06:55:54.010Z"
   },
   {
    "duration": 162,
    "start_time": "2022-04-04T06:55:54.048Z"
   },
   {
    "duration": 222,
    "start_time": "2022-04-04T06:55:54.213Z"
   },
   {
    "duration": 41,
    "start_time": "2022-04-04T06:55:54.443Z"
   },
   {
    "duration": 6,
    "start_time": "2022-04-04T06:55:54.487Z"
   },
   {
    "duration": 180,
    "start_time": "2022-04-04T06:55:54.496Z"
   },
   {
    "duration": 196,
    "start_time": "2022-04-04T06:55:54.679Z"
   },
   {
    "duration": 179,
    "start_time": "2022-04-04T06:57:21.391Z"
   },
   {
    "duration": 7,
    "start_time": "2022-04-04T06:58:08.466Z"
   },
   {
    "duration": 8,
    "start_time": "2022-04-04T06:58:21.042Z"
   },
   {
    "duration": 7,
    "start_time": "2022-04-04T06:58:38.847Z"
   },
   {
    "duration": 159,
    "start_time": "2022-04-04T07:13:55.733Z"
   },
   {
    "duration": 36,
    "start_time": "2022-04-04T07:14:17.166Z"
   },
   {
    "duration": 25,
    "start_time": "2022-04-04T07:16:20.662Z"
   },
   {
    "duration": 15,
    "start_time": "2022-04-04T07:16:24.098Z"
   },
   {
    "duration": 20,
    "start_time": "2022-04-04T07:16:38.734Z"
   },
   {
    "duration": 23,
    "start_time": "2022-04-04T07:16:48.987Z"
   },
   {
    "duration": 21,
    "start_time": "2022-04-04T07:18:47.314Z"
   },
   {
    "duration": 23,
    "start_time": "2022-04-04T07:18:57.814Z"
   },
   {
    "duration": 10,
    "start_time": "2022-04-04T07:18:58.719Z"
   },
   {
    "duration": 32,
    "start_time": "2022-04-04T07:18:59.619Z"
   },
   {
    "duration": 1469,
    "start_time": "2022-04-04T07:19:18.691Z"
   },
   {
    "duration": 93,
    "start_time": "2022-04-04T07:19:20.163Z"
   },
   {
    "duration": 20,
    "start_time": "2022-04-04T07:19:20.259Z"
   },
   {
    "duration": 13,
    "start_time": "2022-04-04T07:19:20.282Z"
   },
   {
    "duration": 62,
    "start_time": "2022-04-04T07:19:20.298Z"
   },
   {
    "duration": 25,
    "start_time": "2022-04-04T07:19:20.363Z"
   },
   {
    "duration": 69,
    "start_time": "2022-04-04T07:19:20.391Z"
   },
   {
    "duration": 16,
    "start_time": "2022-04-04T07:19:20.462Z"
   },
   {
    "duration": 62,
    "start_time": "2022-04-04T07:19:20.481Z"
   },
   {
    "duration": 8,
    "start_time": "2022-04-04T07:19:20.549Z"
   },
   {
    "duration": 15,
    "start_time": "2022-04-04T07:19:20.560Z"
   },
   {
    "duration": 67,
    "start_time": "2022-04-04T07:19:20.577Z"
   },
   {
    "duration": 7,
    "start_time": "2022-04-04T07:19:20.646Z"
   },
   {
    "duration": 20,
    "start_time": "2022-04-04T07:19:20.656Z"
   },
   {
    "duration": 7,
    "start_time": "2022-04-04T07:19:20.678Z"
   },
   {
    "duration": 57,
    "start_time": "2022-04-04T07:19:20.687Z"
   },
   {
    "duration": 21,
    "start_time": "2022-04-04T07:19:20.747Z"
   },
   {
    "duration": 17,
    "start_time": "2022-04-04T07:19:20.771Z"
   },
   {
    "duration": 62,
    "start_time": "2022-04-04T07:19:20.790Z"
   },
   {
    "duration": 31,
    "start_time": "2022-04-04T07:19:20.855Z"
   },
   {
    "duration": 10,
    "start_time": "2022-04-04T07:19:20.888Z"
   },
   {
    "duration": 267,
    "start_time": "2022-04-04T07:19:20.900Z"
   },
   {
    "duration": 434,
    "start_time": "2022-04-04T07:19:21.170Z"
   },
   {
    "duration": 298,
    "start_time": "2022-04-04T07:19:21.606Z"
   },
   {
    "duration": 288,
    "start_time": "2022-04-04T07:19:21.906Z"
   },
   {
    "duration": 282,
    "start_time": "2022-04-04T07:19:22.196Z"
   },
   {
    "duration": 285,
    "start_time": "2022-04-04T07:19:22.480Z"
   },
   {
    "duration": 277,
    "start_time": "2022-04-04T07:19:22.771Z"
   },
   {
    "duration": 278,
    "start_time": "2022-04-04T07:19:23.050Z"
   },
   {
    "duration": 448,
    "start_time": "2022-04-04T07:19:23.331Z"
   },
   {
    "duration": 26,
    "start_time": "2022-04-04T07:19:23.782Z"
   },
   {
    "duration": 33,
    "start_time": "2022-04-04T07:19:23.811Z"
   },
   {
    "duration": 272,
    "start_time": "2022-04-04T07:19:23.846Z"
   },
   {
    "duration": 373,
    "start_time": "2022-04-04T07:19:24.121Z"
   },
   {
    "duration": 390,
    "start_time": "2022-04-04T07:19:24.497Z"
   },
   {
    "duration": 205,
    "start_time": "2022-04-04T07:19:24.890Z"
   },
   {
    "duration": 9,
    "start_time": "2022-04-04T07:19:25.098Z"
   },
   {
    "duration": 214,
    "start_time": "2022-04-04T07:19:25.110Z"
   },
   {
    "duration": 19,
    "start_time": "2022-04-04T07:19:25.327Z"
   },
   {
    "duration": 208,
    "start_time": "2022-04-04T07:19:25.348Z"
   },
   {
    "duration": 7,
    "start_time": "2022-04-04T07:19:25.558Z"
   },
   {
    "duration": 211,
    "start_time": "2022-04-04T07:19:25.567Z"
   },
   {
    "duration": 7,
    "start_time": "2022-04-04T07:19:25.780Z"
   },
   {
    "duration": 10,
    "start_time": "2022-04-04T07:19:25.789Z"
   },
   {
    "duration": 294,
    "start_time": "2022-04-04T07:19:25.802Z"
   },
   {
    "duration": 46,
    "start_time": "2022-04-04T07:19:26.098Z"
   },
   {
    "duration": 5,
    "start_time": "2022-04-04T07:19:26.146Z"
   },
   {
    "duration": 238,
    "start_time": "2022-04-04T07:19:26.154Z"
   },
   {
    "duration": 202,
    "start_time": "2022-04-04T07:19:26.394Z"
   },
   {
    "duration": 45,
    "start_time": "2022-04-04T07:19:26.599Z"
   },
   {
    "duration": 4,
    "start_time": "2022-04-04T07:19:26.647Z"
   },
   {
    "duration": 158,
    "start_time": "2022-04-04T07:19:26.654Z"
   },
   {
    "duration": 223,
    "start_time": "2022-04-04T07:19:26.815Z"
   },
   {
    "duration": 29,
    "start_time": "2022-04-04T07:19:27.040Z"
   },
   {
    "duration": 29,
    "start_time": "2022-04-04T07:19:27.072Z"
   },
   {
    "duration": 165,
    "start_time": "2022-04-04T07:19:27.103Z"
   },
   {
    "duration": 198,
    "start_time": "2022-04-04T07:19:27.270Z"
   },
   {
    "duration": 36,
    "start_time": "2022-04-04T07:19:27.470Z"
   },
   {
    "duration": 175,
    "start_time": "2022-04-04T07:19:27.508Z"
   },
   {
    "duration": 34,
    "start_time": "2022-04-04T07:23:50.493Z"
   },
   {
    "duration": 34,
    "start_time": "2022-04-04T07:23:57.999Z"
   },
   {
    "duration": 10,
    "start_time": "2022-04-04T07:28:34.784Z"
   },
   {
    "duration": 13,
    "start_time": "2022-04-04T07:29:24.325Z"
   },
   {
    "duration": 492,
    "start_time": "2022-04-04T07:30:32.365Z"
   },
   {
    "duration": 1965,
    "start_time": "2022-04-04T07:30:38.428Z"
   },
   {
    "duration": 93,
    "start_time": "2022-04-04T07:30:40.396Z"
   },
   {
    "duration": 22,
    "start_time": "2022-04-04T07:30:40.492Z"
   },
   {
    "duration": 14,
    "start_time": "2022-04-04T07:30:40.542Z"
   },
   {
    "duration": 31,
    "start_time": "2022-04-04T07:30:40.558Z"
   },
   {
    "duration": 56,
    "start_time": "2022-04-04T07:30:40.592Z"
   },
   {
    "duration": 57,
    "start_time": "2022-04-04T07:30:40.651Z"
   },
   {
    "duration": 15,
    "start_time": "2022-04-04T07:30:40.711Z"
   },
   {
    "duration": 33,
    "start_time": "2022-04-04T07:30:40.728Z"
   },
   {
    "duration": 7,
    "start_time": "2022-04-04T07:30:40.765Z"
   },
   {
    "duration": 16,
    "start_time": "2022-04-04T07:30:40.774Z"
   },
   {
    "duration": 75,
    "start_time": "2022-04-04T07:30:40.793Z"
   },
   {
    "duration": 7,
    "start_time": "2022-04-04T07:30:40.870Z"
   },
   {
    "duration": 20,
    "start_time": "2022-04-04T07:30:40.880Z"
   },
   {
    "duration": 6,
    "start_time": "2022-04-04T07:30:40.942Z"
   },
   {
    "duration": 15,
    "start_time": "2022-04-04T07:30:40.950Z"
   },
   {
    "duration": 22,
    "start_time": "2022-04-04T07:30:40.967Z"
   },
   {
    "duration": 58,
    "start_time": "2022-04-04T07:30:40.991Z"
   },
   {
    "duration": 26,
    "start_time": "2022-04-04T07:30:41.051Z"
   },
   {
    "duration": 24,
    "start_time": "2022-04-04T07:30:41.079Z"
   },
   {
    "duration": 42,
    "start_time": "2022-04-04T07:30:41.105Z"
   },
   {
    "duration": 246,
    "start_time": "2022-04-04T07:30:41.149Z"
   },
   {
    "duration": 428,
    "start_time": "2022-04-04T07:30:41.397Z"
   },
   {
    "duration": 298,
    "start_time": "2022-04-04T07:30:41.827Z"
   },
   {
    "duration": 282,
    "start_time": "2022-04-04T07:30:42.127Z"
   },
   {
    "duration": 345,
    "start_time": "2022-04-04T07:30:42.411Z"
   },
   {
    "duration": 271,
    "start_time": "2022-04-04T07:30:42.758Z"
   },
   {
    "duration": 271,
    "start_time": "2022-04-04T07:30:43.043Z"
   },
   {
    "duration": 270,
    "start_time": "2022-04-04T07:30:43.316Z"
   },
   {
    "duration": 371,
    "start_time": "2022-04-04T07:30:43.588Z"
   },
   {
    "duration": 25,
    "start_time": "2022-04-04T07:30:43.961Z"
   },
   {
    "duration": 8,
    "start_time": "2022-04-04T07:30:43.988Z"
   },
   {
    "duration": 274,
    "start_time": "2022-04-04T07:30:43.998Z"
   },
   {
    "duration": 355,
    "start_time": "2022-04-04T07:30:44.274Z"
   },
   {
    "duration": 376,
    "start_time": "2022-04-04T07:30:44.632Z"
   },
   {
    "duration": 205,
    "start_time": "2022-04-04T07:30:45.010Z"
   },
   {
    "duration": 6,
    "start_time": "2022-04-04T07:30:45.217Z"
   },
   {
    "duration": 284,
    "start_time": "2022-04-04T07:30:45.225Z"
   },
   {
    "duration": 7,
    "start_time": "2022-04-04T07:30:45.511Z"
   },
   {
    "duration": 209,
    "start_time": "2022-04-04T07:30:45.521Z"
   },
   {
    "duration": 15,
    "start_time": "2022-04-04T07:30:45.732Z"
   },
   {
    "duration": 196,
    "start_time": "2022-04-04T07:30:45.749Z"
   },
   {
    "duration": 8,
    "start_time": "2022-04-04T07:30:45.947Z"
   },
   {
    "duration": 11,
    "start_time": "2022-04-04T07:30:45.957Z"
   },
   {
    "duration": 293,
    "start_time": "2022-04-04T07:30:45.970Z"
   },
   {
    "duration": 29,
    "start_time": "2022-04-04T07:30:46.265Z"
   },
   {
    "duration": 11,
    "start_time": "2022-04-04T07:30:46.296Z"
   },
   {
    "duration": 176,
    "start_time": "2022-04-04T07:30:46.309Z"
   },
   {
    "duration": 190,
    "start_time": "2022-04-04T07:30:46.487Z"
   },
   {
    "duration": 29,
    "start_time": "2022-04-04T07:30:46.679Z"
   },
   {
    "duration": 4,
    "start_time": "2022-04-04T07:30:46.710Z"
   },
   {
    "duration": 146,
    "start_time": "2022-04-04T07:30:46.743Z"
   },
   {
    "duration": 207,
    "start_time": "2022-04-04T07:30:46.891Z"
   },
   {
    "duration": 44,
    "start_time": "2022-04-04T07:30:47.100Z"
   },
   {
    "duration": 5,
    "start_time": "2022-04-04T07:30:47.146Z"
   },
   {
    "duration": 161,
    "start_time": "2022-04-04T07:30:47.154Z"
   },
   {
    "duration": 192,
    "start_time": "2022-04-04T07:30:47.318Z"
   },
   {
    "duration": 11,
    "start_time": "2022-04-04T07:30:47.512Z"
   },
   {
    "duration": 20,
    "start_time": "2022-04-04T07:30:47.525Z"
   },
   {
    "duration": 11,
    "start_time": "2022-04-04T07:38:55.311Z"
   },
   {
    "duration": 8,
    "start_time": "2022-04-04T07:38:55.797Z"
   },
   {
    "duration": 6,
    "start_time": "2022-04-04T07:40:00.125Z"
   },
   {
    "duration": 6371,
    "start_time": "2022-04-04T07:40:15.070Z"
   },
   {
    "duration": 6,
    "start_time": "2022-04-04T07:40:28.616Z"
   },
   {
    "duration": 6,
    "start_time": "2022-04-04T07:40:54.207Z"
   },
   {
    "duration": 6,
    "start_time": "2022-04-04T07:40:56.052Z"
   },
   {
    "duration": 7,
    "start_time": "2022-04-04T07:41:23.542Z"
   },
   {
    "duration": 6,
    "start_time": "2022-04-04T07:41:30.785Z"
   },
   {
    "duration": 7,
    "start_time": "2022-04-04T07:41:34.696Z"
   },
   {
    "duration": 6,
    "start_time": "2022-04-04T07:41:54.891Z"
   },
   {
    "duration": 35,
    "start_time": "2022-04-04T07:42:15.442Z"
   },
   {
    "duration": 33,
    "start_time": "2022-04-04T07:42:22.551Z"
   },
   {
    "duration": 48,
    "start_time": "2022-04-04T07:42:33.362Z"
   },
   {
    "duration": 7,
    "start_time": "2022-04-04T07:48:40.101Z"
   },
   {
    "duration": 7,
    "start_time": "2022-04-04T07:48:45.125Z"
   },
   {
    "duration": 7,
    "start_time": "2022-04-04T07:48:51.639Z"
   },
   {
    "duration": 173,
    "start_time": "2022-04-04T07:55:43.238Z"
   },
   {
    "duration": 8,
    "start_time": "2022-04-04T07:57:30.724Z"
   },
   {
    "duration": 10,
    "start_time": "2022-04-04T08:01:00.203Z"
   },
   {
    "duration": 8,
    "start_time": "2022-04-04T08:01:12.830Z"
   },
   {
    "duration": 9,
    "start_time": "2022-04-04T08:02:18.017Z"
   },
   {
    "duration": 12,
    "start_time": "2022-04-04T08:02:27.516Z"
   },
   {
    "duration": 12,
    "start_time": "2022-04-04T08:03:31.656Z"
   },
   {
    "duration": 9,
    "start_time": "2022-04-04T08:07:20.467Z"
   },
   {
    "duration": 7,
    "start_time": "2022-04-04T08:07:24.882Z"
   },
   {
    "duration": 6,
    "start_time": "2022-04-04T08:07:37.821Z"
   },
   {
    "duration": 2492,
    "start_time": "2022-04-04T08:07:57.315Z"
   },
   {
    "duration": 94,
    "start_time": "2022-04-04T08:07:59.811Z"
   },
   {
    "duration": 45,
    "start_time": "2022-04-04T08:07:59.908Z"
   },
   {
    "duration": 18,
    "start_time": "2022-04-04T08:07:59.956Z"
   },
   {
    "duration": 39,
    "start_time": "2022-04-04T08:07:59.977Z"
   },
   {
    "duration": 27,
    "start_time": "2022-04-04T08:08:00.048Z"
   },
   {
    "duration": 67,
    "start_time": "2022-04-04T08:08:00.078Z"
   },
   {
    "duration": 18,
    "start_time": "2022-04-04T08:08:00.148Z"
   },
   {
    "duration": 38,
    "start_time": "2022-04-04T08:08:00.169Z"
   },
   {
    "duration": 10,
    "start_time": "2022-04-04T08:08:00.245Z"
   },
   {
    "duration": 33,
    "start_time": "2022-04-04T08:08:00.258Z"
   },
   {
    "duration": 66,
    "start_time": "2022-04-04T08:08:00.294Z"
   },
   {
    "duration": 13,
    "start_time": "2022-04-04T08:08:00.363Z"
   },
   {
    "duration": 38,
    "start_time": "2022-04-04T08:08:00.379Z"
   },
   {
    "duration": 9,
    "start_time": "2022-04-04T08:08:00.444Z"
   },
   {
    "duration": 26,
    "start_time": "2022-04-04T08:08:00.455Z"
   },
   {
    "duration": 63,
    "start_time": "2022-04-04T08:08:00.484Z"
   },
   {
    "duration": 31,
    "start_time": "2022-04-04T08:08:00.551Z"
   },
   {
    "duration": 76,
    "start_time": "2022-04-04T08:08:00.585Z"
   },
   {
    "duration": 33,
    "start_time": "2022-04-04T08:08:00.665Z"
   },
   {
    "duration": 42,
    "start_time": "2022-04-04T08:08:00.701Z"
   },
   {
    "duration": 312,
    "start_time": "2022-04-04T08:08:00.746Z"
   },
   {
    "duration": 543,
    "start_time": "2022-04-04T08:08:01.061Z"
   },
   {
    "duration": 466,
    "start_time": "2022-04-04T08:08:01.606Z"
   },
   {
    "duration": 335,
    "start_time": "2022-04-04T08:08:02.075Z"
   },
   {
    "duration": 373,
    "start_time": "2022-04-04T08:08:02.413Z"
   },
   {
    "duration": 415,
    "start_time": "2022-04-04T08:08:02.789Z"
   },
   {
    "duration": 401,
    "start_time": "2022-04-04T08:08:03.213Z"
   },
   {
    "duration": 422,
    "start_time": "2022-04-04T08:08:03.617Z"
   },
   {
    "duration": 583,
    "start_time": "2022-04-04T08:08:04.044Z"
   },
   {
    "duration": 37,
    "start_time": "2022-04-04T08:08:04.629Z"
   },
   {
    "duration": 9,
    "start_time": "2022-04-04T08:08:04.669Z"
   },
   {
    "duration": 294,
    "start_time": "2022-04-04T08:08:04.680Z"
   },
   {
    "duration": 381,
    "start_time": "2022-04-04T08:08:04.977Z"
   },
   {
    "duration": 407,
    "start_time": "2022-04-04T08:08:05.361Z"
   },
   {
    "duration": 212,
    "start_time": "2022-04-04T08:08:05.771Z"
   },
   {
    "duration": 8,
    "start_time": "2022-04-04T08:08:05.985Z"
   },
   {
    "duration": 304,
    "start_time": "2022-04-04T08:08:05.995Z"
   },
   {
    "duration": 8,
    "start_time": "2022-04-04T08:08:06.301Z"
   },
   {
    "duration": 219,
    "start_time": "2022-04-04T08:08:06.311Z"
   },
   {
    "duration": 7,
    "start_time": "2022-04-04T08:08:06.543Z"
   },
   {
    "duration": 303,
    "start_time": "2022-04-04T08:08:06.553Z"
   },
   {
    "duration": 8,
    "start_time": "2022-04-04T08:08:06.859Z"
   },
   {
    "duration": 10,
    "start_time": "2022-04-04T08:08:06.870Z"
   },
   {
    "duration": 474,
    "start_time": "2022-04-04T08:08:06.883Z"
   },
   {
    "duration": 42,
    "start_time": "2022-04-04T08:08:07.360Z"
   },
   {
    "duration": 6,
    "start_time": "2022-04-04T08:08:07.405Z"
   },
   {
    "duration": 164,
    "start_time": "2022-04-04T08:08:07.444Z"
   },
   {
    "duration": 206,
    "start_time": "2022-04-04T08:08:07.611Z"
   },
   {
    "duration": 42,
    "start_time": "2022-04-04T08:08:07.820Z"
   },
   {
    "duration": 6,
    "start_time": "2022-04-04T08:08:07.865Z"
   },
   {
    "duration": 173,
    "start_time": "2022-04-04T08:08:07.874Z"
   },
   {
    "duration": 304,
    "start_time": "2022-04-04T08:08:08.050Z"
   },
   {
    "duration": 34,
    "start_time": "2022-04-04T08:08:08.357Z"
   },
   {
    "duration": 7,
    "start_time": "2022-04-04T08:08:08.394Z"
   },
   {
    "duration": 183,
    "start_time": "2022-04-04T08:08:08.404Z"
   },
   {
    "duration": 212,
    "start_time": "2022-04-04T08:08:08.589Z"
   },
   {
    "duration": 12,
    "start_time": "2022-04-04T08:08:08.804Z"
   },
   {
    "duration": 32,
    "start_time": "2022-04-04T08:08:08.818Z"
   },
   {
    "duration": 38,
    "start_time": "2022-04-04T08:08:08.852Z"
   },
   {
    "duration": 23,
    "start_time": "2022-04-04T08:08:08.892Z"
   },
   {
    "duration": 16,
    "start_time": "2022-04-04T08:08:08.918Z"
   },
   {
    "duration": 7,
    "start_time": "2022-04-04T08:08:08.943Z"
   },
   {
    "duration": 37,
    "start_time": "2022-04-04T08:08:26.405Z"
   },
   {
    "duration": 13,
    "start_time": "2022-04-04T08:09:12.163Z"
   },
   {
    "duration": 9,
    "start_time": "2022-04-04T08:09:28.968Z"
   },
   {
    "duration": 95,
    "start_time": "2022-04-04T08:09:28.979Z"
   },
   {
    "duration": 20,
    "start_time": "2022-04-04T08:09:29.076Z"
   },
   {
    "duration": 15,
    "start_time": "2022-04-04T08:09:29.097Z"
   },
   {
    "duration": 25,
    "start_time": "2022-04-04T08:09:29.143Z"
   },
   {
    "duration": 22,
    "start_time": "2022-04-04T08:09:29.170Z"
   },
   {
    "duration": 68,
    "start_time": "2022-04-04T08:09:29.194Z"
   },
   {
    "duration": 13,
    "start_time": "2022-04-04T08:09:29.265Z"
   },
   {
    "duration": 22,
    "start_time": "2022-04-04T08:09:29.280Z"
   },
   {
    "duration": 40,
    "start_time": "2022-04-04T08:09:29.304Z"
   },
   {
    "duration": 16,
    "start_time": "2022-04-04T08:09:29.347Z"
   },
   {
    "duration": 26,
    "start_time": "2022-04-04T08:09:29.365Z"
   },
   {
    "duration": 50,
    "start_time": "2022-04-04T08:09:29.393Z"
   },
   {
    "duration": 19,
    "start_time": "2022-04-04T08:09:29.445Z"
   },
   {
    "duration": 10,
    "start_time": "2022-04-04T08:09:29.467Z"
   },
   {
    "duration": 14,
    "start_time": "2022-04-04T08:09:29.479Z"
   },
   {
    "duration": 61,
    "start_time": "2022-04-04T08:09:29.496Z"
   },
   {
    "duration": 22,
    "start_time": "2022-04-04T08:09:29.560Z"
   },
   {
    "duration": 73,
    "start_time": "2022-04-04T08:09:29.585Z"
   },
   {
    "duration": 24,
    "start_time": "2022-04-04T08:09:29.667Z"
   },
   {
    "duration": 11,
    "start_time": "2022-04-04T08:09:29.693Z"
   },
   {
    "duration": 10,
    "start_time": "2022-04-04T08:09:29.743Z"
   },
   {
    "duration": 235,
    "start_time": "2022-04-04T08:09:29.755Z"
   },
   {
    "duration": 441,
    "start_time": "2022-04-04T08:09:29.993Z"
   },
   {
    "duration": 388,
    "start_time": "2022-04-04T08:09:30.437Z"
   },
   {
    "duration": 304,
    "start_time": "2022-04-04T08:09:30.827Z"
   },
   {
    "duration": 289,
    "start_time": "2022-04-04T08:09:31.133Z"
   },
   {
    "duration": 290,
    "start_time": "2022-04-04T08:09:31.425Z"
   },
   {
    "duration": 280,
    "start_time": "2022-04-04T08:09:31.718Z"
   },
   {
    "duration": 276,
    "start_time": "2022-04-04T08:09:32.000Z"
   },
   {
    "duration": 381,
    "start_time": "2022-04-04T08:09:32.278Z"
   },
   {
    "duration": 25,
    "start_time": "2022-04-04T08:09:32.661Z"
   },
   {
    "duration": 8,
    "start_time": "2022-04-04T08:09:32.688Z"
   },
   {
    "duration": 289,
    "start_time": "2022-04-04T08:09:32.698Z"
   },
   {
    "duration": 367,
    "start_time": "2022-04-04T08:09:32.989Z"
   },
   {
    "duration": 491,
    "start_time": "2022-04-04T08:09:33.358Z"
   },
   {
    "duration": 205,
    "start_time": "2022-04-04T08:09:33.851Z"
   },
   {
    "duration": 7,
    "start_time": "2022-04-04T08:09:34.058Z"
   },
   {
    "duration": 212,
    "start_time": "2022-04-04T08:09:34.067Z"
   },
   {
    "duration": 7,
    "start_time": "2022-04-04T08:09:34.281Z"
   },
   {
    "duration": 224,
    "start_time": "2022-04-04T08:09:34.290Z"
   },
   {
    "duration": 7,
    "start_time": "2022-04-04T08:09:34.516Z"
   },
   {
    "duration": 218,
    "start_time": "2022-04-04T08:09:34.525Z"
   },
   {
    "duration": 8,
    "start_time": "2022-04-04T08:09:34.744Z"
   },
   {
    "duration": 24,
    "start_time": "2022-04-04T08:09:34.754Z"
   },
   {
    "duration": 297,
    "start_time": "2022-04-04T08:09:34.780Z"
   },
   {
    "duration": 30,
    "start_time": "2022-04-04T08:09:35.079Z"
   },
   {
    "duration": 5,
    "start_time": "2022-04-04T08:09:35.142Z"
   },
   {
    "duration": 163,
    "start_time": "2022-04-04T08:09:35.150Z"
   },
   {
    "duration": 194,
    "start_time": "2022-04-04T08:09:35.315Z"
   },
   {
    "duration": 42,
    "start_time": "2022-04-04T08:09:35.512Z"
   },
   {
    "duration": 30,
    "start_time": "2022-04-04T08:09:35.556Z"
   },
   {
    "duration": 163,
    "start_time": "2022-04-04T08:09:35.588Z"
   },
   {
    "duration": 403,
    "start_time": "2022-04-04T08:09:35.753Z"
   },
   {
    "duration": 85,
    "start_time": "2022-04-04T08:09:36.158Z"
   },
   {
    "duration": 5,
    "start_time": "2022-04-04T08:09:36.246Z"
   },
   {
    "duration": 289,
    "start_time": "2022-04-04T08:09:36.254Z"
   },
   {
    "duration": 330,
    "start_time": "2022-04-04T08:09:36.545Z"
   },
   {
    "duration": 11,
    "start_time": "2022-04-04T08:09:36.877Z"
   },
   {
    "duration": 11,
    "start_time": "2022-04-04T08:09:36.943Z"
   },
   {
    "duration": 11,
    "start_time": "2022-04-04T08:09:36.957Z"
   },
   {
    "duration": 10,
    "start_time": "2022-04-04T08:09:36.970Z"
   },
   {
    "duration": 38,
    "start_time": "2022-04-04T08:09:59.704Z"
   },
   {
    "duration": 36,
    "start_time": "2022-04-04T08:10:26.403Z"
   },
   {
    "duration": 37,
    "start_time": "2022-04-04T08:12:49.084Z"
   },
   {
    "duration": 37,
    "start_time": "2022-04-04T08:12:53.918Z"
   },
   {
    "duration": 36,
    "start_time": "2022-04-04T08:13:25.723Z"
   },
   {
    "duration": 28,
    "start_time": "2022-04-04T08:13:52.923Z"
   },
   {
    "duration": 2128,
    "start_time": "2022-04-04T08:13:58.484Z"
   },
   {
    "duration": 79,
    "start_time": "2022-04-04T08:14:00.615Z"
   },
   {
    "duration": 20,
    "start_time": "2022-04-04T08:14:00.699Z"
   },
   {
    "duration": 13,
    "start_time": "2022-04-04T08:14:00.743Z"
   },
   {
    "duration": 38,
    "start_time": "2022-04-04T08:14:00.758Z"
   },
   {
    "duration": 49,
    "start_time": "2022-04-04T08:14:00.798Z"
   },
   {
    "duration": 49,
    "start_time": "2022-04-04T08:14:00.849Z"
   },
   {
    "duration": 15,
    "start_time": "2022-04-04T08:14:00.900Z"
   },
   {
    "duration": 42,
    "start_time": "2022-04-04T08:14:00.917Z"
   },
   {
    "duration": 7,
    "start_time": "2022-04-04T08:14:00.962Z"
   },
   {
    "duration": 36,
    "start_time": "2022-04-04T08:14:00.972Z"
   },
   {
    "duration": 51,
    "start_time": "2022-04-04T08:14:01.010Z"
   },
   {
    "duration": 7,
    "start_time": "2022-04-04T08:14:01.066Z"
   },
   {
    "duration": 33,
    "start_time": "2022-04-04T08:14:01.075Z"
   },
   {
    "duration": 16,
    "start_time": "2022-04-04T08:14:01.110Z"
   },
   {
    "duration": 13,
    "start_time": "2022-04-04T08:14:01.142Z"
   },
   {
    "duration": 30,
    "start_time": "2022-04-04T08:14:01.157Z"
   },
   {
    "duration": 19,
    "start_time": "2022-04-04T08:14:01.189Z"
   },
   {
    "duration": 53,
    "start_time": "2022-04-04T08:14:01.210Z"
   },
   {
    "duration": 24,
    "start_time": "2022-04-04T08:14:01.265Z"
   },
   {
    "duration": 13,
    "start_time": "2022-04-04T08:14:01.291Z"
   },
   {
    "duration": 250,
    "start_time": "2022-04-04T08:14:01.342Z"
   },
   {
    "duration": 427,
    "start_time": "2022-04-04T08:14:01.594Z"
   },
   {
    "duration": 276,
    "start_time": "2022-04-04T08:14:02.023Z"
   },
   {
    "duration": 279,
    "start_time": "2022-04-04T08:14:02.301Z"
   },
   {
    "duration": 346,
    "start_time": "2022-04-04T08:14:02.582Z"
   },
   {
    "duration": 262,
    "start_time": "2022-04-04T08:14:02.930Z"
   },
   {
    "duration": 271,
    "start_time": "2022-04-04T08:14:03.194Z"
   },
   {
    "duration": 260,
    "start_time": "2022-04-04T08:14:03.467Z"
   },
   {
    "duration": 364,
    "start_time": "2022-04-04T08:14:03.730Z"
   },
   {
    "duration": 26,
    "start_time": "2022-04-04T08:14:04.097Z"
   },
   {
    "duration": 27,
    "start_time": "2022-04-04T08:14:04.125Z"
   },
   {
    "duration": 311,
    "start_time": "2022-04-04T08:14:04.156Z"
   },
   {
    "duration": 436,
    "start_time": "2022-04-04T08:14:04.470Z"
   },
   {
    "duration": 455,
    "start_time": "2022-04-04T08:14:04.909Z"
   },
   {
    "duration": 200,
    "start_time": "2022-04-04T08:14:05.367Z"
   },
   {
    "duration": 9,
    "start_time": "2022-04-04T08:14:05.570Z"
   },
   {
    "duration": 291,
    "start_time": "2022-04-04T08:14:05.582Z"
   },
   {
    "duration": 9,
    "start_time": "2022-04-04T08:14:05.876Z"
   },
   {
    "duration": 232,
    "start_time": "2022-04-04T08:14:05.896Z"
   },
   {
    "duration": 17,
    "start_time": "2022-04-04T08:14:06.131Z"
   },
   {
    "duration": 225,
    "start_time": "2022-04-04T08:14:06.151Z"
   },
   {
    "duration": 9,
    "start_time": "2022-04-04T08:14:06.379Z"
   },
   {
    "duration": 12,
    "start_time": "2022-04-04T08:14:06.391Z"
   },
   {
    "duration": 310,
    "start_time": "2022-04-04T08:14:06.405Z"
   },
   {
    "duration": 49,
    "start_time": "2022-04-04T08:14:06.718Z"
   },
   {
    "duration": 6,
    "start_time": "2022-04-04T08:14:06.770Z"
   },
   {
    "duration": 177,
    "start_time": "2022-04-04T08:14:06.779Z"
   },
   {
    "duration": 208,
    "start_time": "2022-04-04T08:14:06.959Z"
   },
   {
    "duration": 33,
    "start_time": "2022-04-04T08:14:07.170Z"
   },
   {
    "duration": 5,
    "start_time": "2022-04-04T08:14:07.205Z"
   },
   {
    "duration": 193,
    "start_time": "2022-04-04T08:14:07.213Z"
   },
   {
    "duration": 201,
    "start_time": "2022-04-04T08:14:07.409Z"
   },
   {
    "duration": 51,
    "start_time": "2022-04-04T08:14:07.613Z"
   },
   {
    "duration": 5,
    "start_time": "2022-04-04T08:14:07.667Z"
   },
   {
    "duration": 160,
    "start_time": "2022-04-04T08:14:07.674Z"
   },
   {
    "duration": 209,
    "start_time": "2022-04-04T08:14:07.836Z"
   },
   {
    "duration": 12,
    "start_time": "2022-04-04T08:14:08.047Z"
   },
   {
    "duration": 14,
    "start_time": "2022-04-04T08:14:08.061Z"
   },
   {
    "duration": 15,
    "start_time": "2022-04-04T08:14:08.077Z"
   },
   {
    "duration": 52,
    "start_time": "2022-04-04T08:14:08.094Z"
   },
   {
    "duration": 2040,
    "start_time": "2022-04-04T08:15:20.936Z"
   },
   {
    "duration": 82,
    "start_time": "2022-04-04T08:15:22.979Z"
   },
   {
    "duration": 21,
    "start_time": "2022-04-04T08:15:23.064Z"
   },
   {
    "duration": 14,
    "start_time": "2022-04-04T08:15:23.087Z"
   },
   {
    "duration": 59,
    "start_time": "2022-04-04T08:15:23.104Z"
   },
   {
    "duration": 24,
    "start_time": "2022-04-04T08:15:23.165Z"
   },
   {
    "duration": 70,
    "start_time": "2022-04-04T08:15:23.191Z"
   },
   {
    "duration": 15,
    "start_time": "2022-04-04T08:15:23.263Z"
   },
   {
    "duration": 22,
    "start_time": "2022-04-04T08:15:23.280Z"
   },
   {
    "duration": 40,
    "start_time": "2022-04-04T08:15:23.304Z"
   },
   {
    "duration": 16,
    "start_time": "2022-04-04T08:15:23.347Z"
   },
   {
    "duration": 28,
    "start_time": "2022-04-04T08:15:23.366Z"
   },
   {
    "duration": 46,
    "start_time": "2022-04-04T08:15:23.397Z"
   },
   {
    "duration": 20,
    "start_time": "2022-04-04T08:15:23.448Z"
   },
   {
    "duration": 6,
    "start_time": "2022-04-04T08:15:23.471Z"
   },
   {
    "duration": 63,
    "start_time": "2022-04-04T08:15:23.480Z"
   },
   {
    "duration": 26,
    "start_time": "2022-04-04T08:15:23.546Z"
   },
   {
    "duration": 22,
    "start_time": "2022-04-04T08:15:23.575Z"
   },
   {
    "duration": 27,
    "start_time": "2022-04-04T08:15:23.644Z"
   },
   {
    "duration": 28,
    "start_time": "2022-04-04T08:15:23.674Z"
   },
   {
    "duration": 47,
    "start_time": "2022-04-04T08:15:23.706Z"
   },
   {
    "duration": 245,
    "start_time": "2022-04-04T08:15:23.755Z"
   },
   {
    "duration": 429,
    "start_time": "2022-04-04T08:15:24.003Z"
   },
   {
    "duration": 303,
    "start_time": "2022-04-04T08:15:24.434Z"
   },
   {
    "duration": 278,
    "start_time": "2022-04-04T08:15:24.743Z"
   },
   {
    "duration": 356,
    "start_time": "2022-04-04T08:15:25.023Z"
   },
   {
    "duration": 279,
    "start_time": "2022-04-04T08:15:25.382Z"
   },
   {
    "duration": 270,
    "start_time": "2022-04-04T08:15:25.663Z"
   },
   {
    "duration": 259,
    "start_time": "2022-04-04T08:15:25.943Z"
   },
   {
    "duration": 378,
    "start_time": "2022-04-04T08:15:26.205Z"
   },
   {
    "duration": 29,
    "start_time": "2022-04-04T08:15:26.585Z"
   },
   {
    "duration": 8,
    "start_time": "2022-04-04T08:15:26.642Z"
   },
   {
    "duration": 264,
    "start_time": "2022-04-04T08:15:26.652Z"
   },
   {
    "duration": 354,
    "start_time": "2022-04-04T08:15:26.918Z"
   },
   {
    "duration": 385,
    "start_time": "2022-04-04T08:15:27.274Z"
   },
   {
    "duration": 198,
    "start_time": "2022-04-04T08:15:27.661Z"
   },
   {
    "duration": 7,
    "start_time": "2022-04-04T08:15:27.862Z"
   },
   {
    "duration": 284,
    "start_time": "2022-04-04T08:15:27.871Z"
   },
   {
    "duration": 7,
    "start_time": "2022-04-04T08:15:28.157Z"
   },
   {
    "duration": 211,
    "start_time": "2022-04-04T08:15:28.166Z"
   },
   {
    "duration": 7,
    "start_time": "2022-04-04T08:15:28.383Z"
   },
   {
    "duration": 207,
    "start_time": "2022-04-04T08:15:28.391Z"
   },
   {
    "duration": 7,
    "start_time": "2022-04-04T08:15:28.600Z"
   },
   {
    "duration": 36,
    "start_time": "2022-04-04T08:15:28.609Z"
   },
   {
    "duration": 271,
    "start_time": "2022-04-04T08:15:28.647Z"
   },
   {
    "duration": 36,
    "start_time": "2022-04-04T08:15:28.920Z"
   },
   {
    "duration": 5,
    "start_time": "2022-04-04T08:15:28.958Z"
   },
   {
    "duration": 166,
    "start_time": "2022-04-04T08:15:28.965Z"
   },
   {
    "duration": 191,
    "start_time": "2022-04-04T08:15:29.133Z"
   },
   {
    "duration": 37,
    "start_time": "2022-04-04T08:15:29.326Z"
   },
   {
    "duration": 5,
    "start_time": "2022-04-04T08:15:29.365Z"
   },
   {
    "duration": 171,
    "start_time": "2022-04-04T08:15:29.372Z"
   },
   {
    "duration": 217,
    "start_time": "2022-04-04T08:15:29.545Z"
   },
   {
    "duration": 30,
    "start_time": "2022-04-04T08:15:29.764Z"
   },
   {
    "duration": 5,
    "start_time": "2022-04-04T08:15:29.796Z"
   },
   {
    "duration": 191,
    "start_time": "2022-04-04T08:15:29.804Z"
   },
   {
    "duration": 206,
    "start_time": "2022-04-04T08:15:29.997Z"
   },
   {
    "duration": 12,
    "start_time": "2022-04-04T08:15:30.205Z"
   },
   {
    "duration": 31,
    "start_time": "2022-04-04T08:15:30.219Z"
   },
   {
    "duration": 18,
    "start_time": "2022-04-04T08:15:30.252Z"
   },
   {
    "duration": 19,
    "start_time": "2022-04-04T08:15:30.273Z"
   },
   {
    "duration": 3355,
    "start_time": "2022-04-04T08:16:08.918Z"
   },
   {
    "duration": 81,
    "start_time": "2022-04-04T08:16:12.275Z"
   },
   {
    "duration": 21,
    "start_time": "2022-04-04T08:16:12.359Z"
   },
   {
    "duration": 26,
    "start_time": "2022-04-04T08:16:12.383Z"
   },
   {
    "duration": 50,
    "start_time": "2022-04-04T08:16:12.412Z"
   },
   {
    "duration": 24,
    "start_time": "2022-04-04T08:16:12.465Z"
   },
   {
    "duration": 69,
    "start_time": "2022-04-04T08:16:12.492Z"
   },
   {
    "duration": 16,
    "start_time": "2022-04-04T08:16:12.564Z"
   },
   {
    "duration": 26,
    "start_time": "2022-04-04T08:16:12.583Z"
   },
   {
    "duration": 9,
    "start_time": "2022-04-04T08:16:12.646Z"
   },
   {
    "duration": 20,
    "start_time": "2022-04-04T08:16:12.658Z"
   },
   {
    "duration": 74,
    "start_time": "2022-04-04T08:16:12.681Z"
   },
   {
    "duration": 9,
    "start_time": "2022-04-04T08:16:12.758Z"
   },
   {
    "duration": 24,
    "start_time": "2022-04-04T08:16:12.769Z"
   },
   {
    "duration": 53,
    "start_time": "2022-04-04T08:16:12.796Z"
   },
   {
    "duration": 18,
    "start_time": "2022-04-04T08:16:12.851Z"
   },
   {
    "duration": 24,
    "start_time": "2022-04-04T08:16:12.872Z"
   },
   {
    "duration": 60,
    "start_time": "2022-04-04T08:16:12.899Z"
   },
   {
    "duration": 25,
    "start_time": "2022-04-04T08:16:12.962Z"
   },
   {
    "duration": 60,
    "start_time": "2022-04-04T08:16:12.990Z"
   },
   {
    "duration": 11,
    "start_time": "2022-04-04T08:16:13.052Z"
   },
   {
    "duration": 346,
    "start_time": "2022-04-04T08:16:13.065Z"
   },
   {
    "duration": 412,
    "start_time": "2022-04-04T08:16:13.413Z"
   },
   {
    "duration": 296,
    "start_time": "2022-04-04T08:16:13.828Z"
   },
   {
    "duration": 280,
    "start_time": "2022-04-04T08:16:14.126Z"
   },
   {
    "duration": 354,
    "start_time": "2022-04-04T08:16:14.408Z"
   },
   {
    "duration": 376,
    "start_time": "2022-04-04T08:16:14.764Z"
   },
   {
    "duration": 277,
    "start_time": "2022-04-04T08:16:15.147Z"
   },
   {
    "duration": 264,
    "start_time": "2022-04-04T08:16:15.426Z"
   },
   {
    "duration": 366,
    "start_time": "2022-04-04T08:16:15.692Z"
   },
   {
    "duration": 27,
    "start_time": "2022-04-04T08:16:16.060Z"
   },
   {
    "duration": 9,
    "start_time": "2022-04-04T08:16:16.089Z"
   },
   {
    "duration": 320,
    "start_time": "2022-04-04T08:16:16.100Z"
   },
   {
    "duration": 424,
    "start_time": "2022-04-04T08:16:16.422Z"
   },
   {
    "duration": 458,
    "start_time": "2022-04-04T08:16:16.848Z"
   },
   {
    "duration": 202,
    "start_time": "2022-04-04T08:16:17.308Z"
   },
   {
    "duration": 7,
    "start_time": "2022-04-04T08:16:17.513Z"
   },
   {
    "duration": 289,
    "start_time": "2022-04-04T08:16:17.522Z"
   },
   {
    "duration": 8,
    "start_time": "2022-04-04T08:16:17.813Z"
   },
   {
    "duration": 202,
    "start_time": "2022-04-04T08:16:17.843Z"
   },
   {
    "duration": 7,
    "start_time": "2022-04-04T08:16:18.048Z"
   },
   {
    "duration": 219,
    "start_time": "2022-04-04T08:16:18.058Z"
   },
   {
    "duration": 7,
    "start_time": "2022-04-04T08:16:18.280Z"
   },
   {
    "duration": 11,
    "start_time": "2022-04-04T08:16:18.289Z"
   },
   {
    "duration": 297,
    "start_time": "2022-04-04T08:16:18.302Z"
   },
   {
    "duration": 54,
    "start_time": "2022-04-04T08:16:18.602Z"
   },
   {
    "duration": 6,
    "start_time": "2022-04-04T08:16:18.659Z"
   },
   {
    "duration": 175,
    "start_time": "2022-04-04T08:16:18.668Z"
   },
   {
    "duration": 199,
    "start_time": "2022-04-04T08:16:18.846Z"
   },
   {
    "duration": 33,
    "start_time": "2022-04-04T08:16:19.049Z"
   },
   {
    "duration": 5,
    "start_time": "2022-04-04T08:16:19.084Z"
   },
   {
    "duration": 171,
    "start_time": "2022-04-04T08:16:19.091Z"
   },
   {
    "duration": 199,
    "start_time": "2022-04-04T08:16:19.264Z"
   },
   {
    "duration": 29,
    "start_time": "2022-04-04T08:16:19.465Z"
   },
   {
    "duration": 6,
    "start_time": "2022-04-04T08:16:19.496Z"
   },
   {
    "duration": 170,
    "start_time": "2022-04-04T08:16:19.504Z"
   },
   {
    "duration": 203,
    "start_time": "2022-04-04T08:16:19.676Z"
   },
   {
    "duration": 12,
    "start_time": "2022-04-04T08:16:19.881Z"
   },
   {
    "duration": 10,
    "start_time": "2022-04-04T08:16:19.895Z"
   },
   {
    "duration": 41,
    "start_time": "2022-04-04T08:16:19.907Z"
   },
   {
    "duration": 10,
    "start_time": "2022-04-04T08:16:19.950Z"
   },
   {
    "duration": 2944,
    "start_time": "2022-04-04T08:16:53.148Z"
   },
   {
    "duration": 125,
    "start_time": "2022-04-04T08:16:56.144Z"
   },
   {
    "duration": 72,
    "start_time": "2022-04-04T08:16:56.274Z"
   },
   {
    "duration": 12,
    "start_time": "2022-04-04T08:16:56.348Z"
   },
   {
    "duration": 85,
    "start_time": "2022-04-04T08:16:56.362Z"
   },
   {
    "duration": 23,
    "start_time": "2022-04-04T08:16:56.449Z"
   },
   {
    "duration": 89,
    "start_time": "2022-04-04T08:16:56.474Z"
   },
   {
    "duration": 14,
    "start_time": "2022-04-04T08:16:56.565Z"
   },
   {
    "duration": 76,
    "start_time": "2022-04-04T08:16:56.583Z"
   },
   {
    "duration": 7,
    "start_time": "2022-04-04T08:16:56.661Z"
   },
   {
    "duration": 16,
    "start_time": "2022-04-04T08:16:56.670Z"
   },
   {
    "duration": 27,
    "start_time": "2022-04-04T08:16:56.743Z"
   },
   {
    "duration": 7,
    "start_time": "2022-04-04T08:16:56.772Z"
   },
   {
    "duration": 72,
    "start_time": "2022-04-04T08:16:56.781Z"
   },
   {
    "duration": 6,
    "start_time": "2022-04-04T08:16:56.855Z"
   },
   {
    "duration": 13,
    "start_time": "2022-04-04T08:16:56.863Z"
   },
   {
    "duration": 73,
    "start_time": "2022-04-04T08:16:56.878Z"
   },
   {
    "duration": 18,
    "start_time": "2022-04-04T08:16:56.953Z"
   },
   {
    "duration": 77,
    "start_time": "2022-04-04T08:16:56.974Z"
   },
   {
    "duration": 23,
    "start_time": "2022-04-04T08:16:57.053Z"
   },
   {
    "duration": 11,
    "start_time": "2022-04-04T08:16:57.078Z"
   },
   {
    "duration": 425,
    "start_time": "2022-04-04T08:16:57.143Z"
   },
   {
    "duration": 421,
    "start_time": "2022-04-04T08:16:57.571Z"
   },
   {
    "duration": 283,
    "start_time": "2022-04-04T08:16:57.995Z"
   },
   {
    "duration": 290,
    "start_time": "2022-04-04T08:16:58.280Z"
   },
   {
    "duration": 354,
    "start_time": "2022-04-04T08:16:58.572Z"
   },
   {
    "duration": 271,
    "start_time": "2022-04-04T08:16:58.932Z"
   },
   {
    "duration": 278,
    "start_time": "2022-04-04T08:16:59.205Z"
   },
   {
    "duration": 274,
    "start_time": "2022-04-04T08:16:59.485Z"
   },
   {
    "duration": 376,
    "start_time": "2022-04-04T08:16:59.761Z"
   },
   {
    "duration": 25,
    "start_time": "2022-04-04T08:17:00.142Z"
   },
   {
    "duration": 9,
    "start_time": "2022-04-04T08:17:00.169Z"
   },
   {
    "duration": 280,
    "start_time": "2022-04-04T08:17:00.180Z"
   },
   {
    "duration": 364,
    "start_time": "2022-04-04T08:17:00.463Z"
   },
   {
    "duration": 399,
    "start_time": "2022-04-04T08:17:00.830Z"
   },
   {
    "duration": 202,
    "start_time": "2022-04-04T08:17:01.231Z"
   },
   {
    "duration": 7,
    "start_time": "2022-04-04T08:17:01.442Z"
   },
   {
    "duration": 306,
    "start_time": "2022-04-04T08:17:01.451Z"
   },
   {
    "duration": 7,
    "start_time": "2022-04-04T08:17:01.760Z"
   },
   {
    "duration": 214,
    "start_time": "2022-04-04T08:17:01.769Z"
   },
   {
    "duration": 7,
    "start_time": "2022-04-04T08:17:01.985Z"
   },
   {
    "duration": 207,
    "start_time": "2022-04-04T08:17:01.994Z"
   },
   {
    "duration": 7,
    "start_time": "2022-04-04T08:17:02.203Z"
   },
   {
    "duration": 33,
    "start_time": "2022-04-04T08:17:02.212Z"
   },
   {
    "duration": 264,
    "start_time": "2022-04-04T08:17:02.248Z"
   },
   {
    "duration": 40,
    "start_time": "2022-04-04T08:17:02.514Z"
   },
   {
    "duration": 5,
    "start_time": "2022-04-04T08:17:02.556Z"
   },
   {
    "duration": 158,
    "start_time": "2022-04-04T08:17:02.563Z"
   },
   {
    "duration": 191,
    "start_time": "2022-04-04T08:17:02.723Z"
   },
   {
    "duration": 41,
    "start_time": "2022-04-04T08:17:02.916Z"
   },
   {
    "duration": 5,
    "start_time": "2022-04-04T08:17:02.959Z"
   },
   {
    "duration": 161,
    "start_time": "2022-04-04T08:17:02.966Z"
   },
   {
    "duration": 209,
    "start_time": "2022-04-04T08:17:03.129Z"
   },
   {
    "duration": 28,
    "start_time": "2022-04-04T08:17:03.340Z"
   },
   {
    "duration": 4,
    "start_time": "2022-04-04T08:17:03.371Z"
   },
   {
    "duration": 175,
    "start_time": "2022-04-04T08:17:03.377Z"
   },
   {
    "duration": 196,
    "start_time": "2022-04-04T08:17:03.554Z"
   },
   {
    "duration": 11,
    "start_time": "2022-04-04T08:17:03.752Z"
   },
   {
    "duration": 14,
    "start_time": "2022-04-04T08:17:03.765Z"
   },
   {
    "duration": 13,
    "start_time": "2022-04-04T08:17:03.781Z"
   },
   {
    "duration": 47,
    "start_time": "2022-04-04T08:17:03.796Z"
   },
   {
    "duration": 2055,
    "start_time": "2022-04-04T08:21:47.068Z"
   },
   {
    "duration": 80,
    "start_time": "2022-04-04T08:21:49.127Z"
   },
   {
    "duration": 37,
    "start_time": "2022-04-04T08:21:49.210Z"
   },
   {
    "duration": 15,
    "start_time": "2022-04-04T08:21:49.250Z"
   },
   {
    "duration": 26,
    "start_time": "2022-04-04T08:21:49.269Z"
   },
   {
    "duration": 60,
    "start_time": "2022-04-04T08:21:49.297Z"
   },
   {
    "duration": 35,
    "start_time": "2022-04-04T08:21:49.360Z"
   },
   {
    "duration": 48,
    "start_time": "2022-04-04T08:21:49.397Z"
   },
   {
    "duration": 21,
    "start_time": "2022-04-04T08:21:49.448Z"
   },
   {
    "duration": 7,
    "start_time": "2022-04-04T08:21:49.472Z"
   },
   {
    "duration": 64,
    "start_time": "2022-04-04T08:21:49.482Z"
   },
   {
    "duration": 27,
    "start_time": "2022-04-04T08:21:49.548Z"
   },
   {
    "duration": 8,
    "start_time": "2022-04-04T08:21:49.577Z"
   },
   {
    "duration": 59,
    "start_time": "2022-04-04T08:21:49.589Z"
   },
   {
    "duration": 6,
    "start_time": "2022-04-04T08:21:49.650Z"
   },
   {
    "duration": 13,
    "start_time": "2022-04-04T08:21:49.658Z"
   },
   {
    "duration": 21,
    "start_time": "2022-04-04T08:21:49.673Z"
   },
   {
    "duration": 57,
    "start_time": "2022-04-04T08:21:49.697Z"
   },
   {
    "duration": 25,
    "start_time": "2022-04-04T08:21:49.757Z"
   },
   {
    "duration": 22,
    "start_time": "2022-04-04T08:21:49.785Z"
   },
   {
    "duration": 45,
    "start_time": "2022-04-04T08:21:49.809Z"
   },
   {
    "duration": 248,
    "start_time": "2022-04-04T08:21:49.856Z"
   },
   {
    "duration": 424,
    "start_time": "2022-04-04T08:21:50.106Z"
   },
   {
    "duration": 302,
    "start_time": "2022-04-04T08:21:50.533Z"
   },
   {
    "duration": 291,
    "start_time": "2022-04-04T08:21:50.842Z"
   },
   {
    "duration": 345,
    "start_time": "2022-04-04T08:21:51.142Z"
   },
   {
    "duration": 267,
    "start_time": "2022-04-04T08:21:51.490Z"
   },
   {
    "duration": 297,
    "start_time": "2022-04-04T08:21:51.759Z"
   },
   {
    "duration": 275,
    "start_time": "2022-04-04T08:21:52.059Z"
   },
   {
    "duration": 378,
    "start_time": "2022-04-04T08:21:52.337Z"
   },
   {
    "duration": 42,
    "start_time": "2022-04-04T08:21:52.718Z"
   },
   {
    "duration": 10,
    "start_time": "2022-04-04T08:21:52.763Z"
   },
   {
    "duration": 318,
    "start_time": "2022-04-04T08:21:52.777Z"
   },
   {
    "duration": 416,
    "start_time": "2022-04-04T08:21:53.098Z"
   },
   {
    "duration": 411,
    "start_time": "2022-04-04T08:21:53.517Z"
   },
   {
    "duration": 204,
    "start_time": "2022-04-04T08:21:53.931Z"
   },
   {
    "duration": 11,
    "start_time": "2022-04-04T08:21:54.138Z"
   },
   {
    "duration": 305,
    "start_time": "2022-04-04T08:21:54.152Z"
   },
   {
    "duration": 9,
    "start_time": "2022-04-04T08:21:54.459Z"
   },
   {
    "duration": 246,
    "start_time": "2022-04-04T08:21:54.471Z"
   },
   {
    "duration": 21,
    "start_time": "2022-04-04T08:21:54.727Z"
   },
   {
    "duration": 228,
    "start_time": "2022-04-04T08:21:54.751Z"
   },
   {
    "duration": 7,
    "start_time": "2022-04-04T08:21:54.981Z"
   },
   {
    "duration": 13,
    "start_time": "2022-04-04T08:21:54.991Z"
   },
   {
    "duration": 253,
    "start_time": "2022-04-04T08:21:55.042Z"
   },
   {
    "duration": 46,
    "start_time": "2022-04-04T08:21:55.297Z"
   },
   {
    "duration": 5,
    "start_time": "2022-04-04T08:21:55.345Z"
   },
   {
    "duration": 151,
    "start_time": "2022-04-04T08:21:55.352Z"
   },
   {
    "duration": 198,
    "start_time": "2022-04-04T08:21:55.505Z"
   },
   {
    "duration": 42,
    "start_time": "2022-04-04T08:21:55.706Z"
   },
   {
    "duration": 5,
    "start_time": "2022-04-04T08:21:55.750Z"
   },
   {
    "duration": 155,
    "start_time": "2022-04-04T08:21:55.758Z"
   },
   {
    "duration": 197,
    "start_time": "2022-04-04T08:21:55.916Z"
   },
   {
    "duration": 41,
    "start_time": "2022-04-04T08:21:56.115Z"
   },
   {
    "duration": 5,
    "start_time": "2022-04-04T08:21:56.158Z"
   },
   {
    "duration": 160,
    "start_time": "2022-04-04T08:21:56.166Z"
   },
   {
    "duration": 196,
    "start_time": "2022-04-04T08:21:56.328Z"
   },
   {
    "duration": 18,
    "start_time": "2022-04-04T08:21:56.526Z"
   },
   {
    "duration": 11,
    "start_time": "2022-04-04T08:21:56.546Z"
   },
   {
    "duration": 14,
    "start_time": "2022-04-04T08:21:56.559Z"
   },
   {
    "duration": 9,
    "start_time": "2022-04-04T08:21:56.575Z"
   },
   {
    "duration": 2016,
    "start_time": "2022-04-04T08:27:10.418Z"
   },
   {
    "duration": 79,
    "start_time": "2022-04-04T08:27:12.436Z"
   },
   {
    "duration": 26,
    "start_time": "2022-04-04T08:27:12.517Z"
   },
   {
    "duration": 11,
    "start_time": "2022-04-04T08:27:12.546Z"
   },
   {
    "duration": 26,
    "start_time": "2022-04-04T08:27:12.559Z"
   },
   {
    "duration": 58,
    "start_time": "2022-04-04T08:27:12.587Z"
   },
   {
    "duration": 35,
    "start_time": "2022-04-04T08:27:12.647Z"
   },
   {
    "duration": 15,
    "start_time": "2022-04-04T08:27:12.684Z"
   },
   {
    "duration": 51,
    "start_time": "2022-04-04T08:27:12.701Z"
   },
   {
    "duration": 7,
    "start_time": "2022-04-04T08:27:12.756Z"
   },
   {
    "duration": 32,
    "start_time": "2022-04-04T08:27:12.765Z"
   },
   {
    "duration": 54,
    "start_time": "2022-04-04T08:27:12.799Z"
   },
   {
    "duration": 8,
    "start_time": "2022-04-04T08:27:12.855Z"
   },
   {
    "duration": 30,
    "start_time": "2022-04-04T08:27:12.866Z"
   },
   {
    "duration": 5,
    "start_time": "2022-04-04T08:27:12.898Z"
   },
   {
    "duration": 44,
    "start_time": "2022-04-04T08:27:12.905Z"
   },
   {
    "duration": 25,
    "start_time": "2022-04-04T08:27:12.952Z"
   },
   {
    "duration": 18,
    "start_time": "2022-04-04T08:27:12.979Z"
   },
   {
    "duration": 66,
    "start_time": "2022-04-04T08:27:12.999Z"
   },
   {
    "duration": 23,
    "start_time": "2022-04-04T08:27:13.067Z"
   },
   {
    "duration": 55,
    "start_time": "2022-04-04T08:27:13.093Z"
   },
   {
    "duration": 238,
    "start_time": "2022-04-04T08:27:13.150Z"
   },
   {
    "duration": 419,
    "start_time": "2022-04-04T08:27:13.391Z"
   },
   {
    "duration": 294,
    "start_time": "2022-04-04T08:27:13.812Z"
   },
   {
    "duration": 322,
    "start_time": "2022-04-04T08:27:14.109Z"
   },
   {
    "duration": 380,
    "start_time": "2022-04-04T08:27:14.433Z"
   },
   {
    "duration": 299,
    "start_time": "2022-04-04T08:27:14.816Z"
   },
   {
    "duration": 282,
    "start_time": "2022-04-04T08:27:15.121Z"
   },
   {
    "duration": 288,
    "start_time": "2022-04-04T08:27:15.406Z"
   },
   {
    "duration": 400,
    "start_time": "2022-04-04T08:27:15.697Z"
   },
   {
    "duration": 49,
    "start_time": "2022-04-04T08:27:16.099Z"
   },
   {
    "duration": 11,
    "start_time": "2022-04-04T08:27:16.151Z"
   },
   {
    "duration": 291,
    "start_time": "2022-04-04T08:27:16.165Z"
   },
   {
    "duration": 372,
    "start_time": "2022-04-04T08:27:16.459Z"
   },
   {
    "duration": 399,
    "start_time": "2022-04-04T08:27:16.833Z"
   },
   {
    "duration": 214,
    "start_time": "2022-04-04T08:27:17.235Z"
   },
   {
    "duration": 8,
    "start_time": "2022-04-04T08:27:17.451Z"
   },
   {
    "duration": 305,
    "start_time": "2022-04-04T08:27:17.461Z"
   },
   {
    "duration": 7,
    "start_time": "2022-04-04T08:27:17.768Z"
   },
   {
    "duration": 327,
    "start_time": "2022-04-04T08:27:17.777Z"
   },
   {
    "duration": 7,
    "start_time": "2022-04-04T08:27:18.107Z"
   },
   {
    "duration": 214,
    "start_time": "2022-04-04T08:27:18.116Z"
   },
   {
    "duration": 12,
    "start_time": "2022-04-04T08:27:18.332Z"
   },
   {
    "duration": 17,
    "start_time": "2022-04-04T08:27:18.346Z"
   },
   {
    "duration": 284,
    "start_time": "2022-04-04T08:27:18.366Z"
   },
   {
    "duration": 28,
    "start_time": "2022-04-04T08:27:18.653Z"
   },
   {
    "duration": 10,
    "start_time": "2022-04-04T08:27:18.683Z"
   },
   {
    "duration": 168,
    "start_time": "2022-04-04T08:27:18.695Z"
   },
   {
    "duration": 259,
    "start_time": "2022-04-04T08:27:18.867Z"
   },
   {
    "duration": 34,
    "start_time": "2022-04-04T08:27:19.128Z"
   },
   {
    "duration": 8,
    "start_time": "2022-04-04T08:27:19.165Z"
   },
   {
    "duration": 170,
    "start_time": "2022-04-04T08:27:19.175Z"
   },
   {
    "duration": 217,
    "start_time": "2022-04-04T08:27:19.348Z"
   },
   {
    "duration": 29,
    "start_time": "2022-04-04T08:27:19.567Z"
   },
   {
    "duration": 6,
    "start_time": "2022-04-04T08:27:19.599Z"
   },
   {
    "duration": 187,
    "start_time": "2022-04-04T08:27:19.607Z"
   },
   {
    "duration": 198,
    "start_time": "2022-04-04T08:27:19.797Z"
   },
   {
    "duration": 12,
    "start_time": "2022-04-04T08:27:19.998Z"
   },
   {
    "duration": 37,
    "start_time": "2022-04-04T08:27:20.012Z"
   },
   {
    "duration": 13,
    "start_time": "2022-04-04T08:27:20.053Z"
   },
   {
    "duration": 10,
    "start_time": "2022-04-04T08:27:20.068Z"
   },
   {
    "duration": 10,
    "start_time": "2022-04-04T08:28:03.039Z"
   },
   {
    "duration": 11,
    "start_time": "2022-04-04T08:28:08.434Z"
   },
   {
    "duration": 11,
    "start_time": "2022-04-04T08:28:25.970Z"
   },
   {
    "duration": 10,
    "start_time": "2022-04-04T08:28:29.299Z"
   },
   {
    "duration": 10,
    "start_time": "2022-04-04T08:28:32.734Z"
   },
   {
    "duration": 2569,
    "start_time": "2022-04-04T08:36:41.206Z"
   },
   {
    "duration": 93,
    "start_time": "2022-04-04T08:36:43.778Z"
   },
   {
    "duration": 21,
    "start_time": "2022-04-04T08:36:43.874Z"
   },
   {
    "duration": 12,
    "start_time": "2022-04-04T08:36:43.898Z"
   },
   {
    "duration": 56,
    "start_time": "2022-04-04T08:36:43.912Z"
   },
   {
    "duration": 22,
    "start_time": "2022-04-04T08:36:43.971Z"
   },
   {
    "duration": 73,
    "start_time": "2022-04-04T08:36:43.996Z"
   },
   {
    "duration": 15,
    "start_time": "2022-04-04T08:36:44.072Z"
   },
   {
    "duration": 53,
    "start_time": "2022-04-04T08:36:44.090Z"
   },
   {
    "duration": 8,
    "start_time": "2022-04-04T08:36:44.147Z"
   },
   {
    "duration": 24,
    "start_time": "2022-04-04T08:36:44.157Z"
   },
   {
    "duration": 59,
    "start_time": "2022-04-04T08:36:44.183Z"
   },
   {
    "duration": 9,
    "start_time": "2022-04-04T08:36:44.244Z"
   },
   {
    "duration": 28,
    "start_time": "2022-04-04T08:36:44.255Z"
   },
   {
    "duration": 7,
    "start_time": "2022-04-04T08:36:44.286Z"
   },
   {
    "duration": 54,
    "start_time": "2022-04-04T08:36:44.295Z"
   },
   {
    "duration": 25,
    "start_time": "2022-04-04T08:36:44.352Z"
   },
   {
    "duration": 63,
    "start_time": "2022-04-04T08:36:44.380Z"
   },
   {
    "duration": 28,
    "start_time": "2022-04-04T08:36:44.446Z"
   },
   {
    "duration": 24,
    "start_time": "2022-04-04T08:36:44.476Z"
   },
   {
    "duration": 42,
    "start_time": "2022-04-04T08:36:44.502Z"
   },
   {
    "duration": 253,
    "start_time": "2022-04-04T08:36:44.546Z"
   },
   {
    "duration": 535,
    "start_time": "2022-04-04T08:36:44.801Z"
   },
   {
    "duration": 316,
    "start_time": "2022-04-04T08:36:45.343Z"
   },
   {
    "duration": 313,
    "start_time": "2022-04-04T08:36:45.661Z"
   },
   {
    "duration": 372,
    "start_time": "2022-04-04T08:36:45.977Z"
   },
   {
    "duration": 298,
    "start_time": "2022-04-04T08:36:46.352Z"
   },
   {
    "duration": 274,
    "start_time": "2022-04-04T08:36:46.656Z"
   },
   {
    "duration": 284,
    "start_time": "2022-04-04T08:36:46.933Z"
   },
   {
    "duration": 413,
    "start_time": "2022-04-04T08:36:47.219Z"
   },
   {
    "duration": 26,
    "start_time": "2022-04-04T08:36:47.642Z"
   },
   {
    "duration": 9,
    "start_time": "2022-04-04T08:36:47.670Z"
   },
   {
    "duration": 423,
    "start_time": "2022-04-04T08:36:47.680Z"
   },
   {
    "duration": 457,
    "start_time": "2022-04-04T08:36:48.105Z"
   },
   {
    "duration": 588,
    "start_time": "2022-04-04T08:36:48.565Z"
   },
   {
    "duration": 212,
    "start_time": "2022-04-04T08:36:49.155Z"
   },
   {
    "duration": 7,
    "start_time": "2022-04-04T08:36:49.369Z"
   },
   {
    "duration": 306,
    "start_time": "2022-04-04T08:36:49.379Z"
   },
   {
    "duration": 8,
    "start_time": "2022-04-04T08:36:49.687Z"
   },
   {
    "duration": 238,
    "start_time": "2022-04-04T08:36:49.698Z"
   },
   {
    "duration": 9,
    "start_time": "2022-04-04T08:36:49.939Z"
   },
   {
    "duration": 240,
    "start_time": "2022-04-04T08:36:49.950Z"
   },
   {
    "duration": 8,
    "start_time": "2022-04-04T08:36:50.192Z"
   },
   {
    "duration": 10,
    "start_time": "2022-04-04T08:36:50.202Z"
   },
   {
    "duration": 289,
    "start_time": "2022-04-04T08:36:50.242Z"
   },
   {
    "duration": 34,
    "start_time": "2022-04-04T08:36:50.533Z"
   },
   {
    "duration": 5,
    "start_time": "2022-04-04T08:36:50.569Z"
   },
   {
    "duration": 183,
    "start_time": "2022-04-04T08:36:50.576Z"
   },
   {
    "duration": 207,
    "start_time": "2022-04-04T08:36:50.761Z"
   },
   {
    "duration": 32,
    "start_time": "2022-04-04T08:36:50.972Z"
   },
   {
    "duration": 5,
    "start_time": "2022-04-04T08:36:51.006Z"
   },
   {
    "duration": 205,
    "start_time": "2022-04-04T08:36:51.013Z"
   },
   {
    "duration": 207,
    "start_time": "2022-04-04T08:36:51.220Z"
   },
   {
    "duration": 39,
    "start_time": "2022-04-04T08:36:51.429Z"
   },
   {
    "duration": 4,
    "start_time": "2022-04-04T08:36:51.471Z"
   },
   {
    "duration": 180,
    "start_time": "2022-04-04T08:36:51.478Z"
   },
   {
    "duration": 219,
    "start_time": "2022-04-04T08:36:51.660Z"
   },
   {
    "duration": 11,
    "start_time": "2022-04-04T08:36:51.881Z"
   },
   {
    "duration": 11,
    "start_time": "2022-04-04T08:36:51.894Z"
   },
   {
    "duration": 41,
    "start_time": "2022-04-04T08:36:51.908Z"
   },
   {
    "duration": 9,
    "start_time": "2022-04-04T08:36:51.952Z"
   },
   {
    "duration": 3337,
    "start_time": "2022-04-04T08:40:29.041Z"
   },
   {
    "duration": 265,
    "start_time": "2022-04-04T08:40:32.382Z"
   },
   {
    "duration": 31,
    "start_time": "2022-04-04T08:40:32.650Z"
   },
   {
    "duration": 66,
    "start_time": "2022-04-04T08:40:32.683Z"
   },
   {
    "duration": 28,
    "start_time": "2022-04-04T08:40:32.752Z"
   },
   {
    "duration": 77,
    "start_time": "2022-04-04T08:40:32.782Z"
   },
   {
    "duration": 88,
    "start_time": "2022-04-04T08:40:32.862Z"
   },
   {
    "duration": 21,
    "start_time": "2022-04-04T08:40:32.953Z"
   },
   {
    "duration": 83,
    "start_time": "2022-04-04T08:40:32.976Z"
   },
   {
    "duration": 6,
    "start_time": "2022-04-04T08:40:33.061Z"
   },
   {
    "duration": 75,
    "start_time": "2022-04-04T08:40:33.069Z"
   },
   {
    "duration": 27,
    "start_time": "2022-04-04T08:40:33.146Z"
   },
   {
    "duration": 16,
    "start_time": "2022-04-04T08:40:33.175Z"
   },
   {
    "duration": 26,
    "start_time": "2022-04-04T08:40:33.244Z"
   },
   {
    "duration": 7,
    "start_time": "2022-04-04T08:40:33.272Z"
   },
   {
    "duration": 70,
    "start_time": "2022-04-04T08:40:33.282Z"
   },
   {
    "duration": 23,
    "start_time": "2022-04-04T08:40:33.355Z"
   },
   {
    "duration": 76,
    "start_time": "2022-04-04T08:40:33.380Z"
   },
   {
    "duration": 28,
    "start_time": "2022-04-04T08:40:33.459Z"
   },
   {
    "duration": 74,
    "start_time": "2022-04-04T08:40:33.489Z"
   },
   {
    "duration": 11,
    "start_time": "2022-04-04T08:40:33.565Z"
   },
   {
    "duration": 339,
    "start_time": "2022-04-04T08:40:33.578Z"
   },
   {
    "duration": 419,
    "start_time": "2022-04-04T08:40:33.919Z"
   },
   {
    "duration": 291,
    "start_time": "2022-04-04T08:40:34.343Z"
   },
   {
    "duration": 282,
    "start_time": "2022-04-04T08:40:34.637Z"
   },
   {
    "duration": 360,
    "start_time": "2022-04-04T08:40:34.921Z"
   },
   {
    "duration": 276,
    "start_time": "2022-04-04T08:40:35.283Z"
   },
   {
    "duration": 270,
    "start_time": "2022-04-04T08:40:35.561Z"
   },
   {
    "duration": 259,
    "start_time": "2022-04-04T08:40:35.834Z"
   },
   {
    "duration": 365,
    "start_time": "2022-04-04T08:40:36.096Z"
   },
   {
    "duration": 26,
    "start_time": "2022-04-04T08:40:36.464Z"
   },
   {
    "duration": 9,
    "start_time": "2022-04-04T08:40:36.492Z"
   },
   {
    "duration": 280,
    "start_time": "2022-04-04T08:40:36.503Z"
   },
   {
    "duration": 369,
    "start_time": "2022-04-04T08:40:36.785Z"
   },
   {
    "duration": 392,
    "start_time": "2022-04-04T08:40:37.157Z"
   },
   {
    "duration": 207,
    "start_time": "2022-04-04T08:40:37.552Z"
   },
   {
    "duration": 8,
    "start_time": "2022-04-04T08:40:37.761Z"
   },
   {
    "duration": 407,
    "start_time": "2022-04-04T08:40:37.771Z"
   },
   {
    "duration": 8,
    "start_time": "2022-04-04T08:40:38.180Z"
   },
   {
    "duration": 233,
    "start_time": "2022-04-04T08:40:38.191Z"
   },
   {
    "duration": 7,
    "start_time": "2022-04-04T08:40:38.442Z"
   },
   {
    "duration": 218,
    "start_time": "2022-04-04T08:40:38.452Z"
   },
   {
    "duration": 7,
    "start_time": "2022-04-04T08:40:38.672Z"
   },
   {
    "duration": 9,
    "start_time": "2022-04-04T08:40:38.681Z"
   },
   {
    "duration": 329,
    "start_time": "2022-04-04T08:40:38.692Z"
   },
   {
    "duration": 42,
    "start_time": "2022-04-04T08:40:39.024Z"
   },
   {
    "duration": 5,
    "start_time": "2022-04-04T08:40:39.068Z"
   },
   {
    "duration": 274,
    "start_time": "2022-04-04T08:40:39.075Z"
   },
   {
    "duration": 321,
    "start_time": "2022-04-04T08:40:39.351Z"
   },
   {
    "duration": 95,
    "start_time": "2022-04-04T08:40:39.675Z"
   },
   {
    "duration": 6,
    "start_time": "2022-04-04T08:40:39.773Z"
   },
   {
    "duration": 463,
    "start_time": "2022-04-04T08:40:39.784Z"
   },
   {
    "duration": 603,
    "start_time": "2022-04-04T08:40:40.250Z"
   },
   {
    "duration": 89,
    "start_time": "2022-04-04T08:40:40.856Z"
   },
   {
    "duration": 9,
    "start_time": "2022-04-04T08:40:40.948Z"
   },
   {
    "duration": 287,
    "start_time": "2022-04-04T08:40:40.959Z"
   },
   {
    "duration": 337,
    "start_time": "2022-04-04T08:40:41.249Z"
   },
   {
    "duration": 64,
    "start_time": "2022-04-04T08:40:41.588Z"
   },
   {
    "duration": 10,
    "start_time": "2022-04-04T08:40:41.654Z"
   },
   {
    "duration": 12,
    "start_time": "2022-04-04T08:40:41.666Z"
   },
   {
    "duration": 66,
    "start_time": "2022-04-04T08:40:41.681Z"
   },
   {
    "duration": 11,
    "start_time": "2022-04-04T09:28:32.004Z"
   },
   {
    "duration": 11,
    "start_time": "2022-04-04T09:28:34.914Z"
   },
   {
    "duration": 9,
    "start_time": "2022-04-04T09:35:09.464Z"
   },
   {
    "duration": 11,
    "start_time": "2022-04-04T09:36:01.392Z"
   },
   {
    "duration": 11,
    "start_time": "2022-04-04T09:36:02.377Z"
   },
   {
    "duration": 10,
    "start_time": "2022-04-04T09:43:21.287Z"
   },
   {
    "duration": 2474,
    "start_time": "2022-04-04T09:43:46.580Z"
   },
   {
    "duration": 2425,
    "start_time": "2022-04-04T09:43:49.057Z"
   },
   {
    "duration": 21,
    "start_time": "2022-04-04T09:43:51.484Z"
   },
   {
    "duration": 42,
    "start_time": "2022-04-04T09:43:51.508Z"
   },
   {
    "duration": 30,
    "start_time": "2022-04-04T09:43:51.552Z"
   },
   {
    "duration": 72,
    "start_time": "2022-04-04T09:43:51.585Z"
   },
   {
    "duration": 33,
    "start_time": "2022-04-04T09:43:51.659Z"
   },
   {
    "duration": 14,
    "start_time": "2022-04-04T09:43:51.694Z"
   },
   {
    "duration": 29,
    "start_time": "2022-04-04T09:43:51.743Z"
   },
   {
    "duration": 11,
    "start_time": "2022-04-04T09:43:51.776Z"
   },
   {
    "duration": 55,
    "start_time": "2022-04-04T09:43:51.790Z"
   },
   {
    "duration": 31,
    "start_time": "2022-04-04T09:43:51.847Z"
   },
   {
    "duration": 10,
    "start_time": "2022-04-04T09:43:51.880Z"
   },
   {
    "duration": 65,
    "start_time": "2022-04-04T09:43:51.893Z"
   },
   {
    "duration": 7,
    "start_time": "2022-04-04T09:43:51.961Z"
   },
   {
    "duration": 19,
    "start_time": "2022-04-04T09:43:51.970Z"
   },
   {
    "duration": 60,
    "start_time": "2022-04-04T09:43:51.992Z"
   },
   {
    "duration": 18,
    "start_time": "2022-04-04T09:43:52.055Z"
   },
   {
    "duration": 26,
    "start_time": "2022-04-04T09:43:52.075Z"
   },
   {
    "duration": 25,
    "start_time": "2022-04-04T09:43:52.142Z"
   },
   {
    "duration": 12,
    "start_time": "2022-04-04T09:43:52.169Z"
   },
   {
    "duration": 262,
    "start_time": "2022-04-04T09:43:52.183Z"
   },
   {
    "duration": 429,
    "start_time": "2022-04-04T09:43:52.448Z"
   },
   {
    "duration": 302,
    "start_time": "2022-04-04T09:43:52.881Z"
   },
   {
    "duration": 304,
    "start_time": "2022-04-04T09:43:53.186Z"
   },
   {
    "duration": 367,
    "start_time": "2022-04-04T09:43:53.493Z"
   },
   {
    "duration": 284,
    "start_time": "2022-04-04T09:43:53.862Z"
   },
   {
    "duration": 280,
    "start_time": "2022-04-04T09:43:54.152Z"
   },
   {
    "duration": 287,
    "start_time": "2022-04-04T09:43:54.434Z"
   },
   {
    "duration": 383,
    "start_time": "2022-04-04T09:43:54.724Z"
   },
   {
    "duration": 42,
    "start_time": "2022-04-04T09:43:55.109Z"
   },
   {
    "duration": 8,
    "start_time": "2022-04-04T09:43:55.153Z"
   },
   {
    "duration": 291,
    "start_time": "2022-04-04T09:43:55.163Z"
   },
   {
    "duration": 367,
    "start_time": "2022-04-04T09:43:55.456Z"
   },
   {
    "duration": 386,
    "start_time": "2022-04-04T09:43:55.825Z"
   },
   {
    "duration": 212,
    "start_time": "2022-04-04T09:43:56.213Z"
   },
   {
    "duration": 16,
    "start_time": "2022-04-04T09:43:56.427Z"
   },
   {
    "duration": 305,
    "start_time": "2022-04-04T09:43:56.445Z"
   },
   {
    "duration": 8,
    "start_time": "2022-04-04T09:43:56.752Z"
   },
   {
    "duration": 233,
    "start_time": "2022-04-04T09:43:56.763Z"
   },
   {
    "duration": 10,
    "start_time": "2022-04-04T09:43:56.998Z"
   },
   {
    "duration": 234,
    "start_time": "2022-04-04T09:43:57.011Z"
   },
   {
    "duration": 9,
    "start_time": "2022-04-04T09:43:57.248Z"
   },
   {
    "duration": 12,
    "start_time": "2022-04-04T09:43:57.260Z"
   },
   {
    "duration": 334,
    "start_time": "2022-04-04T09:43:57.275Z"
   },
   {
    "duration": 50,
    "start_time": "2022-04-04T09:43:57.612Z"
   },
   {
    "duration": 6,
    "start_time": "2022-04-04T09:43:57.664Z"
   },
   {
    "duration": 167,
    "start_time": "2022-04-04T09:43:57.672Z"
   },
   {
    "duration": 210,
    "start_time": "2022-04-04T09:43:57.842Z"
   },
   {
    "duration": 33,
    "start_time": "2022-04-04T09:43:58.054Z"
   },
   {
    "duration": 7,
    "start_time": "2022-04-04T09:43:58.090Z"
   },
   {
    "duration": 209,
    "start_time": "2022-04-04T09:43:58.099Z"
   },
   {
    "duration": 217,
    "start_time": "2022-04-04T09:43:58.311Z"
   },
   {
    "duration": 44,
    "start_time": "2022-04-04T09:43:58.531Z"
   },
   {
    "duration": 5,
    "start_time": "2022-04-04T09:43:58.578Z"
   },
   {
    "duration": 189,
    "start_time": "2022-04-04T09:43:58.586Z"
   },
   {
    "duration": 197,
    "start_time": "2022-04-04T09:43:58.777Z"
   },
   {
    "duration": 11,
    "start_time": "2022-04-04T09:43:58.976Z"
   },
   {
    "duration": 11,
    "start_time": "2022-04-04T09:43:58.989Z"
   },
   {
    "duration": 43,
    "start_time": "2022-04-04T09:43:59.003Z"
   },
   {
    "duration": 11,
    "start_time": "2022-04-04T09:43:59.048Z"
   },
   {
    "duration": 2183,
    "start_time": "2022-04-04T09:44:19.555Z"
   },
   {
    "duration": 78,
    "start_time": "2022-04-04T09:44:21.741Z"
   },
   {
    "duration": 28,
    "start_time": "2022-04-04T09:44:21.821Z"
   },
   {
    "duration": 12,
    "start_time": "2022-04-04T09:44:21.852Z"
   },
   {
    "duration": 29,
    "start_time": "2022-04-04T09:44:21.866Z"
   },
   {
    "duration": 63,
    "start_time": "2022-04-04T09:44:21.897Z"
   },
   {
    "duration": 31,
    "start_time": "2022-04-04T09:44:21.963Z"
   },
   {
    "duration": 52,
    "start_time": "2022-04-04T09:44:21.996Z"
   },
   {
    "duration": 23,
    "start_time": "2022-04-04T09:44:22.050Z"
   },
   {
    "duration": 7,
    "start_time": "2022-04-04T09:44:22.076Z"
   },
   {
    "duration": 61,
    "start_time": "2022-04-04T09:44:22.085Z"
   },
   {
    "duration": 26,
    "start_time": "2022-04-04T09:44:22.148Z"
   },
   {
    "duration": 9,
    "start_time": "2022-04-04T09:44:22.176Z"
   },
   {
    "duration": 61,
    "start_time": "2022-04-04T09:44:22.187Z"
   },
   {
    "duration": 6,
    "start_time": "2022-04-04T09:44:22.250Z"
   },
   {
    "duration": 16,
    "start_time": "2022-04-04T09:44:22.258Z"
   },
   {
    "duration": 76,
    "start_time": "2022-04-04T09:44:22.275Z"
   },
   {
    "duration": 19,
    "start_time": "2022-04-04T09:44:22.353Z"
   },
   {
    "duration": 69,
    "start_time": "2022-04-04T09:44:22.375Z"
   },
   {
    "duration": 24,
    "start_time": "2022-04-04T09:44:22.446Z"
   },
   {
    "duration": 10,
    "start_time": "2022-04-04T09:44:22.472Z"
   },
   {
    "duration": 366,
    "start_time": "2022-04-04T09:44:22.484Z"
   },
   {
    "duration": 710,
    "start_time": "2022-04-04T09:44:22.853Z"
   },
   {
    "duration": 297,
    "start_time": "2022-04-04T09:44:23.566Z"
   },
   {
    "duration": 295,
    "start_time": "2022-04-04T09:44:23.866Z"
   },
   {
    "duration": 380,
    "start_time": "2022-04-04T09:44:24.163Z"
   },
   {
    "duration": 291,
    "start_time": "2022-04-04T09:44:24.545Z"
   },
   {
    "duration": 268,
    "start_time": "2022-04-04T09:44:24.845Z"
   },
   {
    "duration": 275,
    "start_time": "2022-04-04T09:44:25.116Z"
   },
   {
    "duration": 372,
    "start_time": "2022-04-04T09:44:25.394Z"
   },
   {
    "duration": 26,
    "start_time": "2022-04-04T09:44:25.768Z"
   },
   {
    "duration": 9,
    "start_time": "2022-04-04T09:44:25.796Z"
   },
   {
    "duration": 261,
    "start_time": "2022-04-04T09:44:25.843Z"
   },
   {
    "duration": 472,
    "start_time": "2022-04-04T09:44:26.107Z"
   },
   {
    "duration": 398,
    "start_time": "2022-04-04T09:44:26.581Z"
   },
   {
    "duration": 215,
    "start_time": "2022-04-04T09:44:26.981Z"
   },
   {
    "duration": 7,
    "start_time": "2022-04-04T09:44:27.198Z"
   },
   {
    "duration": 299,
    "start_time": "2022-04-04T09:44:27.207Z"
   },
   {
    "duration": 7,
    "start_time": "2022-04-04T09:44:27.508Z"
   },
   {
    "duration": 218,
    "start_time": "2022-04-04T09:44:27.517Z"
   },
   {
    "duration": 8,
    "start_time": "2022-04-04T09:44:27.738Z"
   },
   {
    "duration": 212,
    "start_time": "2022-04-04T09:44:27.748Z"
   },
   {
    "duration": 7,
    "start_time": "2022-04-04T09:44:27.962Z"
   },
   {
    "duration": 13,
    "start_time": "2022-04-04T09:44:27.970Z"
   },
   {
    "duration": 558,
    "start_time": "2022-04-04T09:44:27.985Z"
   },
   {
    "duration": 30,
    "start_time": "2022-04-04T09:44:28.545Z"
   },
   {
    "duration": 70,
    "start_time": "2022-04-04T09:44:28.577Z"
   },
   {
    "duration": 302,
    "start_time": "2022-04-04T09:44:28.650Z"
   },
   {
    "duration": 338,
    "start_time": "2022-04-04T09:44:28.954Z"
   },
   {
    "duration": 74,
    "start_time": "2022-04-04T09:44:29.295Z"
   },
   {
    "duration": 11,
    "start_time": "2022-04-04T09:44:29.372Z"
   },
   {
    "duration": 182,
    "start_time": "2022-04-04T09:44:29.385Z"
   },
   {
    "duration": 217,
    "start_time": "2022-04-04T09:44:29.569Z"
   },
   {
    "duration": 60,
    "start_time": "2022-04-04T09:44:29.789Z"
   },
   {
    "duration": 5,
    "start_time": "2022-04-04T09:44:29.852Z"
   },
   {
    "duration": 299,
    "start_time": "2022-04-04T09:44:29.859Z"
   },
   {
    "duration": 208,
    "start_time": "2022-04-04T09:44:30.160Z"
   },
   {
    "duration": 13,
    "start_time": "2022-04-04T09:44:30.371Z"
   },
   {
    "duration": 18,
    "start_time": "2022-04-04T09:44:30.387Z"
   },
   {
    "duration": 57,
    "start_time": "2022-04-04T09:44:30.407Z"
   },
   {
    "duration": 21,
    "start_time": "2022-04-04T09:44:30.466Z"
   },
   {
    "duration": 8,
    "start_time": "2022-04-04T09:46:02.264Z"
   },
   {
    "duration": 11,
    "start_time": "2022-04-04T09:46:04.217Z"
   },
   {
    "duration": 8,
    "start_time": "2022-04-04T09:46:05.006Z"
   },
   {
    "duration": 245,
    "start_time": "2022-04-04T10:02:32.065Z"
   },
   {
    "duration": 163,
    "start_time": "2022-04-04T10:02:58.623Z"
   },
   {
    "duration": 191,
    "start_time": "2022-04-04T10:03:03.376Z"
   },
   {
    "duration": 261,
    "start_time": "2022-04-04T10:13:10.064Z"
   },
   {
    "duration": 201,
    "start_time": "2022-04-04T10:13:19.395Z"
   },
   {
    "duration": 200,
    "start_time": "2022-04-04T10:13:33.047Z"
   },
   {
    "duration": 192,
    "start_time": "2022-04-04T10:20:15.174Z"
   },
   {
    "duration": 179,
    "start_time": "2022-04-04T10:20:22.699Z"
   },
   {
    "duration": 195,
    "start_time": "2022-04-04T10:20:29.477Z"
   },
   {
    "duration": 192,
    "start_time": "2022-04-04T10:20:38.461Z"
   },
   {
    "duration": 68,
    "start_time": "2022-04-04T11:21:48.983Z"
   },
   {
    "duration": 2217,
    "start_time": "2022-04-04T11:21:55.886Z"
   },
   {
    "duration": 81,
    "start_time": "2022-04-04T11:21:58.106Z"
   },
   {
    "duration": 21,
    "start_time": "2022-04-04T11:21:58.189Z"
   },
   {
    "duration": 14,
    "start_time": "2022-04-04T11:21:58.214Z"
   },
   {
    "duration": 66,
    "start_time": "2022-04-04T11:21:58.230Z"
   },
   {
    "duration": 24,
    "start_time": "2022-04-04T11:21:58.299Z"
   },
   {
    "duration": 72,
    "start_time": "2022-04-04T11:21:58.325Z"
   },
   {
    "duration": 15,
    "start_time": "2022-04-04T11:21:58.400Z"
   },
   {
    "duration": 20,
    "start_time": "2022-04-04T11:21:58.417Z"
   },
   {
    "duration": 35,
    "start_time": "2022-04-04T11:21:58.440Z"
   },
   {
    "duration": 19,
    "start_time": "2022-04-04T11:21:58.477Z"
   },
   {
    "duration": 26,
    "start_time": "2022-04-04T11:21:58.499Z"
   },
   {
    "duration": 48,
    "start_time": "2022-04-04T11:21:58.527Z"
   },
   {
    "duration": 19,
    "start_time": "2022-04-04T11:21:58.577Z"
   },
   {
    "duration": 7,
    "start_time": "2022-04-04T11:21:58.599Z"
   },
   {
    "duration": 17,
    "start_time": "2022-04-04T11:21:58.609Z"
   },
   {
    "duration": 24,
    "start_time": "2022-04-04T11:21:58.675Z"
   },
   {
    "duration": 20,
    "start_time": "2022-04-04T11:21:58.702Z"
   },
   {
    "duration": 74,
    "start_time": "2022-04-04T11:21:58.725Z"
   },
   {
    "duration": 23,
    "start_time": "2022-04-04T11:21:58.802Z"
   },
   {
    "duration": 47,
    "start_time": "2022-04-04T11:21:58.828Z"
   },
   {
    "duration": 252,
    "start_time": "2022-04-04T11:21:58.878Z"
   },
   {
    "duration": 429,
    "start_time": "2022-04-04T11:21:59.132Z"
   },
   {
    "duration": 286,
    "start_time": "2022-04-04T11:21:59.563Z"
   },
   {
    "duration": 287,
    "start_time": "2022-04-04T11:21:59.851Z"
   },
   {
    "duration": 355,
    "start_time": "2022-04-04T11:22:00.141Z"
   },
   {
    "duration": 290,
    "start_time": "2022-04-04T11:22:00.498Z"
   },
   {
    "duration": 277,
    "start_time": "2022-04-04T11:22:00.794Z"
   },
   {
    "duration": 281,
    "start_time": "2022-04-04T11:22:01.074Z"
   },
   {
    "duration": 653,
    "start_time": "2022-04-04T11:22:01.358Z"
   },
   {
    "duration": 32,
    "start_time": "2022-04-04T11:22:02.014Z"
   },
   {
    "duration": 31,
    "start_time": "2022-04-04T11:22:02.048Z"
   },
   {
    "duration": 272,
    "start_time": "2022-04-04T11:22:02.082Z"
   },
   {
    "duration": 368,
    "start_time": "2022-04-04T11:22:02.356Z"
   },
   {
    "duration": 396,
    "start_time": "2022-04-04T11:22:02.726Z"
   },
   {
    "duration": 213,
    "start_time": "2022-04-04T11:22:03.124Z"
   },
   {
    "duration": 7,
    "start_time": "2022-04-04T11:22:03.339Z"
   },
   {
    "duration": 282,
    "start_time": "2022-04-04T11:22:03.348Z"
   },
   {
    "duration": 7,
    "start_time": "2022-04-04T11:22:03.633Z"
   },
   {
    "duration": 218,
    "start_time": "2022-04-04T11:22:03.642Z"
   },
   {
    "duration": 17,
    "start_time": "2022-04-04T11:22:03.862Z"
   },
   {
    "duration": 205,
    "start_time": "2022-04-04T11:22:03.881Z"
   },
   {
    "duration": 7,
    "start_time": "2022-04-04T11:22:04.088Z"
   },
   {
    "duration": 13,
    "start_time": "2022-04-04T11:22:04.097Z"
   },
   {
    "duration": 288,
    "start_time": "2022-04-04T11:22:04.112Z"
   },
   {
    "duration": 31,
    "start_time": "2022-04-04T11:22:04.403Z"
   },
   {
    "duration": 5,
    "start_time": "2022-04-04T11:22:04.436Z"
   },
   {
    "duration": 159,
    "start_time": "2022-04-04T11:22:04.475Z"
   },
   {
    "duration": 197,
    "start_time": "2022-04-04T11:22:04.636Z"
   },
   {
    "duration": 41,
    "start_time": "2022-04-04T11:22:04.835Z"
   },
   {
    "duration": 5,
    "start_time": "2022-04-04T11:22:04.879Z"
   },
   {
    "duration": 162,
    "start_time": "2022-04-04T11:22:04.886Z"
   },
   {
    "duration": 208,
    "start_time": "2022-04-04T11:22:05.050Z"
   },
   {
    "duration": 36,
    "start_time": "2022-04-04T11:22:05.260Z"
   },
   {
    "duration": 4,
    "start_time": "2022-04-04T11:22:05.299Z"
   },
   {
    "duration": 167,
    "start_time": "2022-04-04T11:22:05.306Z"
   },
   {
    "duration": 197,
    "start_time": "2022-04-04T11:22:05.476Z"
   },
   {
    "duration": 198,
    "start_time": "2022-04-04T11:22:05.676Z"
   },
   {
    "duration": 219,
    "start_time": "2022-04-04T11:22:05.876Z"
   },
   {
    "duration": 216,
    "start_time": "2022-04-04T11:22:06.097Z"
   },
   {
    "duration": 58,
    "start_time": "2022-04-04T11:22:06.315Z"
   },
   {
    "duration": 294,
    "start_time": "2022-04-04T11:22:06.376Z"
   },
   {
    "duration": 207,
    "start_time": "2022-04-04T11:22:06.672Z"
   },
   {
    "duration": 211,
    "start_time": "2022-04-04T11:22:06.881Z"
   },
   {
    "duration": 10,
    "start_time": "2022-04-04T11:22:07.094Z"
   },
   {
    "duration": 10,
    "start_time": "2022-04-04T11:22:07.107Z"
   },
   {
    "duration": 14,
    "start_time": "2022-04-04T11:22:07.120Z"
   },
   {
    "duration": 38,
    "start_time": "2022-04-04T11:22:07.136Z"
   },
   {
    "duration": 36,
    "start_time": "2022-04-04T11:22:20.511Z"
   },
   {
    "duration": 57,
    "start_time": "2022-04-04T11:22:31.013Z"
   },
   {
    "duration": 36,
    "start_time": "2022-04-04T11:22:41.762Z"
   },
   {
    "duration": 1957,
    "start_time": "2022-04-04T13:38:59.684Z"
   },
   {
    "duration": 82,
    "start_time": "2022-04-04T13:39:01.643Z"
   },
   {
    "duration": 20,
    "start_time": "2022-04-04T13:39:01.727Z"
   },
   {
    "duration": 34,
    "start_time": "2022-04-04T13:39:01.749Z"
   },
   {
    "duration": 47,
    "start_time": "2022-04-04T13:39:01.786Z"
   },
   {
    "duration": 38,
    "start_time": "2022-04-04T13:39:01.835Z"
   },
   {
    "duration": 62,
    "start_time": "2022-04-04T13:39:01.875Z"
   },
   {
    "duration": 20,
    "start_time": "2022-04-04T13:39:01.939Z"
   },
   {
    "duration": 51,
    "start_time": "2022-04-04T13:39:01.961Z"
   },
   {
    "duration": 22,
    "start_time": "2022-04-04T13:39:02.015Z"
   },
   {
    "duration": 57,
    "start_time": "2022-04-04T13:39:02.039Z"
   },
   {
    "duration": 37,
    "start_time": "2022-04-04T13:39:02.098Z"
   },
   {
    "duration": 12,
    "start_time": "2022-04-04T13:39:02.138Z"
   },
   {
    "duration": 47,
    "start_time": "2022-04-04T13:39:02.155Z"
   },
   {
    "duration": 6,
    "start_time": "2022-04-04T13:39:02.205Z"
   },
   {
    "duration": 28,
    "start_time": "2022-04-04T13:39:02.213Z"
   },
   {
    "duration": 35,
    "start_time": "2022-04-04T13:39:02.243Z"
   },
   {
    "duration": 17,
    "start_time": "2022-04-04T13:39:02.280Z"
   },
   {
    "duration": 45,
    "start_time": "2022-04-04T13:39:02.299Z"
   },
   {
    "duration": 32,
    "start_time": "2022-04-04T13:39:02.346Z"
   },
   {
    "duration": 13,
    "start_time": "2022-04-04T13:39:02.380Z"
   },
   {
    "duration": 251,
    "start_time": "2022-04-04T13:39:02.395Z"
   },
   {
    "duration": 444,
    "start_time": "2022-04-04T13:39:02.648Z"
   },
   {
    "duration": 312,
    "start_time": "2022-04-04T13:39:03.095Z"
   },
   {
    "duration": 304,
    "start_time": "2022-04-04T13:39:03.410Z"
   },
   {
    "duration": 373,
    "start_time": "2022-04-04T13:39:03.716Z"
   },
   {
    "duration": 288,
    "start_time": "2022-04-04T13:39:04.091Z"
   },
   {
    "duration": 442,
    "start_time": "2022-04-04T13:39:04.382Z"
   },
   {
    "duration": 442,
    "start_time": "2022-04-04T13:39:04.827Z"
   },
   {
    "duration": 442,
    "start_time": "2022-04-04T13:39:05.274Z"
   },
   {
    "duration": 26,
    "start_time": "2022-04-04T13:39:05.718Z"
   },
   {
    "duration": 30,
    "start_time": "2022-04-04T13:39:05.746Z"
   },
   {
    "duration": 268,
    "start_time": "2022-04-04T13:39:05.778Z"
   },
   {
    "duration": 359,
    "start_time": "2022-04-04T13:39:06.049Z"
   },
   {
    "duration": 388,
    "start_time": "2022-04-04T13:39:06.411Z"
   },
   {
    "duration": 207,
    "start_time": "2022-04-04T13:39:06.801Z"
   },
   {
    "duration": 7,
    "start_time": "2022-04-04T13:39:07.010Z"
   },
   {
    "duration": 302,
    "start_time": "2022-04-04T13:39:07.019Z"
   },
   {
    "duration": 7,
    "start_time": "2022-04-04T13:39:07.323Z"
   },
   {
    "duration": 204,
    "start_time": "2022-04-04T13:39:07.332Z"
   },
   {
    "duration": 6,
    "start_time": "2022-04-04T13:39:07.542Z"
   },
   {
    "duration": 206,
    "start_time": "2022-04-04T13:39:07.550Z"
   },
   {
    "duration": 17,
    "start_time": "2022-04-04T13:39:07.758Z"
   },
   {
    "duration": 9,
    "start_time": "2022-04-04T13:39:07.777Z"
   },
   {
    "duration": 281,
    "start_time": "2022-04-04T13:39:07.788Z"
   },
   {
    "duration": 29,
    "start_time": "2022-04-04T13:39:08.073Z"
   },
   {
    "duration": 5,
    "start_time": "2022-04-04T13:39:08.104Z"
   },
   {
    "duration": 173,
    "start_time": "2022-04-04T13:39:08.111Z"
   },
   {
    "duration": 187,
    "start_time": "2022-04-04T13:39:08.286Z"
   },
   {
    "duration": 30,
    "start_time": "2022-04-04T13:39:08.475Z"
   },
   {
    "duration": 4,
    "start_time": "2022-04-04T13:39:08.507Z"
   },
   {
    "duration": 170,
    "start_time": "2022-04-04T13:39:08.513Z"
   },
   {
    "duration": 211,
    "start_time": "2022-04-04T13:39:08.685Z"
   },
   {
    "duration": 28,
    "start_time": "2022-04-04T13:39:08.900Z"
   },
   {
    "duration": 7,
    "start_time": "2022-04-04T13:39:08.930Z"
   },
   {
    "duration": 176,
    "start_time": "2022-04-04T13:39:08.940Z"
   },
   {
    "duration": 193,
    "start_time": "2022-04-04T13:39:09.118Z"
   },
   {
    "duration": 199,
    "start_time": "2022-04-04T13:39:09.314Z"
   },
   {
    "duration": 220,
    "start_time": "2022-04-04T13:39:09.515Z"
   },
   {
    "duration": 216,
    "start_time": "2022-04-04T13:39:09.737Z"
   },
   {
    "duration": 311,
    "start_time": "2022-04-04T13:39:09.956Z"
   },
   {
    "duration": 207,
    "start_time": "2022-04-04T13:39:10.269Z"
   },
   {
    "duration": 203,
    "start_time": "2022-04-04T13:39:10.478Z"
   },
   {
    "duration": 10,
    "start_time": "2022-04-04T13:39:10.684Z"
   },
   {
    "duration": 16,
    "start_time": "2022-04-04T13:39:10.696Z"
   },
   {
    "duration": 18,
    "start_time": "2022-04-04T13:39:10.715Z"
   },
   {
    "duration": 7,
    "start_time": "2022-04-04T13:39:10.736Z"
   },
   {
    "duration": 2241,
    "start_time": "2022-04-04T13:43:10.760Z"
   },
   {
    "duration": 84,
    "start_time": "2022-04-04T13:43:13.004Z"
   },
   {
    "duration": 23,
    "start_time": "2022-04-04T13:43:13.091Z"
   },
   {
    "duration": 17,
    "start_time": "2022-04-04T13:43:13.119Z"
   },
   {
    "duration": 62,
    "start_time": "2022-04-04T13:43:13.138Z"
   },
   {
    "duration": 24,
    "start_time": "2022-04-04T13:43:13.202Z"
   },
   {
    "duration": 66,
    "start_time": "2022-04-04T13:43:13.229Z"
   },
   {
    "duration": 22,
    "start_time": "2022-04-04T13:43:13.298Z"
   },
   {
    "duration": 61,
    "start_time": "2022-04-04T13:43:13.323Z"
   },
   {
    "duration": 7,
    "start_time": "2022-04-04T13:43:13.390Z"
   },
   {
    "duration": 20,
    "start_time": "2022-04-04T13:43:13.401Z"
   },
   {
    "duration": 80,
    "start_time": "2022-04-04T13:43:13.423Z"
   },
   {
    "duration": 9,
    "start_time": "2022-04-04T13:43:13.506Z"
   },
   {
    "duration": 61,
    "start_time": "2022-04-04T13:43:13.517Z"
   },
   {
    "duration": 7,
    "start_time": "2022-04-04T13:43:13.581Z"
   },
   {
    "duration": 15,
    "start_time": "2022-04-04T13:43:13.591Z"
   },
   {
    "duration": 25,
    "start_time": "2022-04-04T13:43:13.609Z"
   },
   {
    "duration": 22,
    "start_time": "2022-04-04T13:43:13.674Z"
   },
   {
    "duration": 27,
    "start_time": "2022-04-04T13:43:13.699Z"
   },
   {
    "duration": 61,
    "start_time": "2022-04-04T13:43:13.729Z"
   },
   {
    "duration": 14,
    "start_time": "2022-04-04T13:43:13.792Z"
   },
   {
    "duration": 266,
    "start_time": "2022-04-04T13:43:13.808Z"
   },
   {
    "duration": 455,
    "start_time": "2022-04-04T13:43:14.076Z"
   },
   {
    "duration": 309,
    "start_time": "2022-04-04T13:43:14.533Z"
   },
   {
    "duration": 434,
    "start_time": "2022-04-04T13:43:14.844Z"
   },
   {
    "duration": 373,
    "start_time": "2022-04-04T13:43:15.280Z"
   },
   {
    "duration": 296,
    "start_time": "2022-04-04T13:43:15.655Z"
   },
   {
    "duration": 292,
    "start_time": "2022-04-04T13:43:15.957Z"
   },
   {
    "duration": 280,
    "start_time": "2022-04-04T13:43:16.252Z"
   },
   {
    "duration": 389,
    "start_time": "2022-04-04T13:43:16.534Z"
   },
   {
    "duration": 26,
    "start_time": "2022-04-04T13:43:16.925Z"
   },
   {
    "duration": 25,
    "start_time": "2022-04-04T13:43:16.953Z"
   },
   {
    "duration": 280,
    "start_time": "2022-04-04T13:43:16.980Z"
   },
   {
    "duration": 382,
    "start_time": "2022-04-04T13:43:17.262Z"
   },
   {
    "duration": 404,
    "start_time": "2022-04-04T13:43:17.647Z"
   },
   {
    "duration": 216,
    "start_time": "2022-04-04T13:43:18.054Z"
   },
   {
    "duration": 7,
    "start_time": "2022-04-04T13:43:18.274Z"
   },
   {
    "duration": 306,
    "start_time": "2022-04-04T13:43:18.283Z"
   },
   {
    "duration": 8,
    "start_time": "2022-04-04T13:43:18.591Z"
   },
   {
    "duration": 350,
    "start_time": "2022-04-04T13:43:18.602Z"
   },
   {
    "duration": 22,
    "start_time": "2022-04-04T13:43:18.955Z"
   },
   {
    "duration": 325,
    "start_time": "2022-04-04T13:43:18.980Z"
   },
   {
    "duration": 9,
    "start_time": "2022-04-04T13:43:19.308Z"
   },
   {
    "duration": 12,
    "start_time": "2022-04-04T13:43:19.320Z"
   },
   {
    "duration": 603,
    "start_time": "2022-04-04T13:43:19.335Z"
   },
   {
    "duration": 59,
    "start_time": "2022-04-04T13:43:19.941Z"
   },
   {
    "duration": 7,
    "start_time": "2022-04-04T13:43:20.003Z"
   },
   {
    "duration": 164,
    "start_time": "2022-04-04T13:43:20.012Z"
   },
   {
    "duration": 203,
    "start_time": "2022-04-04T13:43:20.178Z"
   },
   {
    "duration": 29,
    "start_time": "2022-04-04T13:43:20.383Z"
   },
   {
    "duration": 6,
    "start_time": "2022-04-04T13:43:20.414Z"
   },
   {
    "duration": 187,
    "start_time": "2022-04-04T13:43:20.422Z"
   },
   {
    "duration": 231,
    "start_time": "2022-04-04T13:43:20.611Z"
   },
   {
    "duration": 45,
    "start_time": "2022-04-04T13:43:20.845Z"
   },
   {
    "duration": 4,
    "start_time": "2022-04-04T13:43:20.892Z"
   },
   {
    "duration": 178,
    "start_time": "2022-04-04T13:43:20.899Z"
   },
   {
    "duration": 209,
    "start_time": "2022-04-04T13:43:21.079Z"
   },
   {
    "duration": 207,
    "start_time": "2022-04-04T13:43:21.290Z"
   },
   {
    "duration": 230,
    "start_time": "2022-04-04T13:43:21.500Z"
   },
   {
    "duration": 227,
    "start_time": "2022-04-04T13:43:21.732Z"
   },
   {
    "duration": 355,
    "start_time": "2022-04-04T13:43:21.961Z"
   },
   {
    "duration": 228,
    "start_time": "2022-04-04T13:43:22.319Z"
   },
   {
    "duration": 257,
    "start_time": "2022-04-04T13:43:22.549Z"
   },
   {
    "duration": 12,
    "start_time": "2022-04-04T13:43:22.808Z"
   },
   {
    "duration": 14,
    "start_time": "2022-04-04T13:43:22.823Z"
   },
   {
    "duration": 48,
    "start_time": "2022-04-04T13:43:22.840Z"
   },
   {
    "duration": 11,
    "start_time": "2022-04-04T13:43:22.891Z"
   },
   {
    "duration": 1765,
    "start_time": "2022-04-14T16:39:42.487Z"
   },
   {
    "duration": 57,
    "start_time": "2022-04-14T16:39:44.254Z"
   },
   {
    "duration": 13,
    "start_time": "2022-04-14T16:39:44.313Z"
   },
   {
    "duration": 19,
    "start_time": "2022-04-14T16:39:44.328Z"
   },
   {
    "duration": 18,
    "start_time": "2022-04-14T16:39:44.349Z"
   },
   {
    "duration": 15,
    "start_time": "2022-04-14T16:39:44.369Z"
   },
   {
    "duration": 22,
    "start_time": "2022-04-14T16:39:44.386Z"
   },
   {
    "duration": 40,
    "start_time": "2022-04-14T16:39:44.409Z"
   },
   {
    "duration": 14,
    "start_time": "2022-04-14T16:39:44.451Z"
   },
   {
    "duration": 5,
    "start_time": "2022-04-14T16:39:44.468Z"
   },
   {
    "duration": 13,
    "start_time": "2022-04-14T16:39:44.474Z"
   },
   {
    "duration": 17,
    "start_time": "2022-04-14T16:39:44.489Z"
   },
   {
    "duration": 5,
    "start_time": "2022-04-14T16:39:44.508Z"
   },
   {
    "duration": 44,
    "start_time": "2022-04-14T16:39:44.514Z"
   },
   {
    "duration": 5,
    "start_time": "2022-04-14T16:39:44.559Z"
   },
   {
    "duration": 11,
    "start_time": "2022-04-14T16:39:44.565Z"
   },
   {
    "duration": 14,
    "start_time": "2022-04-14T16:39:44.577Z"
   },
   {
    "duration": 12,
    "start_time": "2022-04-14T16:39:44.593Z"
   },
   {
    "duration": 47,
    "start_time": "2022-04-14T16:39:44.606Z"
   },
   {
    "duration": 14,
    "start_time": "2022-04-14T16:39:44.654Z"
   },
   {
    "duration": 9,
    "start_time": "2022-04-14T16:39:44.670Z"
   },
   {
    "duration": 144,
    "start_time": "2022-04-14T16:39:44.681Z"
   },
   {
    "duration": 240,
    "start_time": "2022-04-14T16:39:44.827Z"
   },
   {
    "duration": 160,
    "start_time": "2022-04-14T16:39:45.069Z"
   },
   {
    "duration": 167,
    "start_time": "2022-04-14T16:39:45.231Z"
   },
   {
    "duration": 227,
    "start_time": "2022-04-14T16:39:45.400Z"
   },
   {
    "duration": 154,
    "start_time": "2022-04-14T16:39:45.630Z"
   },
   {
    "duration": 156,
    "start_time": "2022-04-14T16:39:45.789Z"
   },
   {
    "duration": 151,
    "start_time": "2022-04-14T16:39:45.947Z"
   },
   {
    "duration": 215,
    "start_time": "2022-04-14T16:39:46.099Z"
   },
   {
    "duration": 16,
    "start_time": "2022-04-14T16:39:46.316Z"
   },
   {
    "duration": 20,
    "start_time": "2022-04-14T16:39:46.334Z"
   },
   {
    "duration": 153,
    "start_time": "2022-04-14T16:39:46.356Z"
   },
   {
    "duration": 241,
    "start_time": "2022-04-14T16:39:46.511Z"
   },
   {
    "duration": 215,
    "start_time": "2022-04-14T16:39:46.754Z"
   },
   {
    "duration": 107,
    "start_time": "2022-04-14T16:39:46.971Z"
   },
   {
    "duration": 5,
    "start_time": "2022-04-14T16:39:47.080Z"
   },
   {
    "duration": 206,
    "start_time": "2022-04-14T16:39:47.086Z"
   },
   {
    "duration": 5,
    "start_time": "2022-04-14T16:39:47.293Z"
   },
   {
    "duration": 188,
    "start_time": "2022-04-14T16:39:47.299Z"
   },
   {
    "duration": 5,
    "start_time": "2022-04-14T16:39:47.489Z"
   },
   {
    "duration": 126,
    "start_time": "2022-04-14T16:39:47.496Z"
   },
   {
    "duration": 6,
    "start_time": "2022-04-14T16:39:47.623Z"
   },
   {
    "duration": 21,
    "start_time": "2022-04-14T16:39:47.630Z"
   },
   {
    "duration": 160,
    "start_time": "2022-04-14T16:39:47.653Z"
   },
   {
    "duration": 20,
    "start_time": "2022-04-14T16:39:47.815Z"
   },
   {
    "duration": 4,
    "start_time": "2022-04-14T16:39:47.848Z"
   },
   {
    "duration": 77,
    "start_time": "2022-04-14T16:39:47.853Z"
   },
   {
    "duration": 104,
    "start_time": "2022-04-14T16:39:47.948Z"
   },
   {
    "duration": 19,
    "start_time": "2022-04-14T16:39:48.054Z"
   },
   {
    "duration": 3,
    "start_time": "2022-04-14T16:39:48.075Z"
   },
   {
    "duration": 92,
    "start_time": "2022-04-14T16:39:48.080Z"
   },
   {
    "duration": 124,
    "start_time": "2022-04-14T16:39:48.174Z"
   },
   {
    "duration": 17,
    "start_time": "2022-04-14T16:39:48.300Z"
   },
   {
    "duration": 3,
    "start_time": "2022-04-14T16:39:48.319Z"
   },
   {
    "duration": 95,
    "start_time": "2022-04-14T16:39:48.323Z"
   },
   {
    "duration": 104,
    "start_time": "2022-04-14T16:39:48.419Z"
   },
   {
    "duration": 110,
    "start_time": "2022-04-14T16:39:48.524Z"
   },
   {
    "duration": 119,
    "start_time": "2022-04-14T16:39:48.635Z"
   },
   {
    "duration": 119,
    "start_time": "2022-04-14T16:39:48.756Z"
   },
   {
    "duration": 192,
    "start_time": "2022-04-14T16:39:48.876Z"
   },
   {
    "duration": 110,
    "start_time": "2022-04-14T16:39:49.069Z"
   },
   {
    "duration": 119,
    "start_time": "2022-04-14T16:39:49.180Z"
   },
   {
    "duration": 7,
    "start_time": "2022-04-14T16:39:49.301Z"
   },
   {
    "duration": 7,
    "start_time": "2022-04-14T16:39:49.309Z"
   },
   {
    "duration": 9,
    "start_time": "2022-04-14T16:39:49.317Z"
   },
   {
    "duration": 21,
    "start_time": "2022-04-14T16:39:49.328Z"
   },
   {
    "duration": 1963,
    "start_time": "2022-04-14T17:16:26.699Z"
   },
   {
    "duration": 1693,
    "start_time": "2022-04-14T17:16:49.652Z"
   },
   {
    "duration": 7,
    "start_time": "2022-04-14T17:17:05.124Z"
   },
   {
    "duration": 1365,
    "start_time": "2022-04-14T17:18:20.250Z"
   },
   {
    "duration": 52,
    "start_time": "2022-04-14T17:18:21.617Z"
   },
   {
    "duration": 13,
    "start_time": "2022-04-14T17:18:21.670Z"
   },
   {
    "duration": 8,
    "start_time": "2022-04-14T17:18:21.685Z"
   },
   {
    "duration": 18,
    "start_time": "2022-04-14T17:18:21.695Z"
   },
   {
    "duration": 35,
    "start_time": "2022-04-14T17:18:21.714Z"
   },
   {
    "duration": 22,
    "start_time": "2022-04-14T17:18:21.750Z"
   },
   {
    "duration": 9,
    "start_time": "2022-04-14T17:18:21.773Z"
   },
   {
    "duration": 14,
    "start_time": "2022-04-14T17:18:21.784Z"
   },
   {
    "duration": 4,
    "start_time": "2022-04-14T17:18:21.800Z"
   },
   {
    "duration": 43,
    "start_time": "2022-04-14T17:18:21.806Z"
   },
   {
    "duration": 17,
    "start_time": "2022-04-14T17:18:21.850Z"
   },
   {
    "duration": 5,
    "start_time": "2022-04-14T17:18:21.869Z"
   },
   {
    "duration": 17,
    "start_time": "2022-04-14T17:18:21.876Z"
   },
   {
    "duration": 4,
    "start_time": "2022-04-14T17:18:21.894Z"
   },
   {
    "duration": 14,
    "start_time": "2022-04-14T17:18:21.900Z"
   },
   {
    "duration": 40,
    "start_time": "2022-04-14T17:18:21.915Z"
   },
   {
    "duration": 11,
    "start_time": "2022-04-14T17:18:21.957Z"
   },
   {
    "duration": 17,
    "start_time": "2022-04-14T17:18:21.970Z"
   },
   {
    "duration": 14,
    "start_time": "2022-04-14T17:18:21.988Z"
   },
   {
    "duration": 7,
    "start_time": "2022-04-14T17:18:22.003Z"
   },
   {
    "duration": 157,
    "start_time": "2022-04-14T17:18:22.012Z"
   },
   {
    "duration": 243,
    "start_time": "2022-04-14T17:18:22.171Z"
   },
   {
    "duration": 165,
    "start_time": "2022-04-14T17:18:22.416Z"
   },
   {
    "duration": 161,
    "start_time": "2022-04-14T17:18:22.583Z"
   },
   {
    "duration": 221,
    "start_time": "2022-04-14T17:18:22.748Z"
   },
   {
    "duration": 162,
    "start_time": "2022-04-14T17:18:22.971Z"
   },
   {
    "duration": 158,
    "start_time": "2022-04-14T17:18:23.135Z"
   },
   {
    "duration": 161,
    "start_time": "2022-04-14T17:18:23.295Z"
   },
   {
    "duration": 218,
    "start_time": "2022-04-14T17:18:23.458Z"
   },
   {
    "duration": 16,
    "start_time": "2022-04-14T17:18:23.678Z"
   },
   {
    "duration": 7,
    "start_time": "2022-04-14T17:18:23.696Z"
   },
   {
    "duration": 159,
    "start_time": "2022-04-14T17:18:23.705Z"
   },
   {
    "duration": 203,
    "start_time": "2022-04-14T17:18:23.866Z"
   },
   {
    "duration": 214,
    "start_time": "2022-04-14T17:18:24.070Z"
   },
   {
    "duration": 111,
    "start_time": "2022-04-14T17:18:24.286Z"
   },
   {
    "duration": 5,
    "start_time": "2022-04-14T17:18:24.398Z"
   },
   {
    "duration": 197,
    "start_time": "2022-04-14T17:18:24.404Z"
   },
   {
    "duration": 4,
    "start_time": "2022-04-14T17:18:24.603Z"
   },
   {
    "duration": 113,
    "start_time": "2022-04-14T17:18:24.609Z"
   },
   {
    "duration": 5,
    "start_time": "2022-04-14T17:18:24.726Z"
   },
   {
    "duration": 115,
    "start_time": "2022-04-14T17:18:24.732Z"
   },
   {
    "duration": 4,
    "start_time": "2022-04-14T17:18:24.849Z"
   },
   {
    "duration": 6,
    "start_time": "2022-04-14T17:18:24.855Z"
   },
   {
    "duration": 162,
    "start_time": "2022-04-14T17:18:24.862Z"
   },
   {
    "duration": 27,
    "start_time": "2022-04-14T17:18:25.026Z"
   },
   {
    "duration": 3,
    "start_time": "2022-04-14T17:18:25.055Z"
   },
   {
    "duration": 90,
    "start_time": "2022-04-14T17:18:25.060Z"
   },
   {
    "duration": 108,
    "start_time": "2022-04-14T17:18:25.151Z"
   },
   {
    "duration": 20,
    "start_time": "2022-04-14T17:18:25.260Z"
   },
   {
    "duration": 4,
    "start_time": "2022-04-14T17:18:25.282Z"
   },
   {
    "duration": 97,
    "start_time": "2022-04-14T17:18:25.288Z"
   },
   {
    "duration": 118,
    "start_time": "2022-04-14T17:18:25.386Z"
   },
   {
    "duration": 20,
    "start_time": "2022-04-14T17:18:25.506Z"
   },
   {
    "duration": 4,
    "start_time": "2022-04-14T17:18:25.527Z"
   },
   {
    "duration": 91,
    "start_time": "2022-04-14T17:18:25.532Z"
   },
   {
    "duration": 111,
    "start_time": "2022-04-14T17:18:25.625Z"
   },
   {
    "duration": 135,
    "start_time": "2022-04-14T17:18:25.738Z"
   },
   {
    "duration": 217,
    "start_time": "2022-04-14T17:18:25.875Z"
   },
   {
    "duration": 264,
    "start_time": "2022-04-14T17:18:26.093Z"
   },
   {
    "duration": 403,
    "start_time": "2022-04-14T17:18:26.359Z"
   },
   {
    "duration": 215,
    "start_time": "2022-04-14T17:18:26.764Z"
   },
   {
    "duration": 218,
    "start_time": "2022-04-14T17:18:26.980Z"
   },
   {
    "duration": 7,
    "start_time": "2022-04-14T17:18:27.200Z"
   },
   {
    "duration": 8,
    "start_time": "2022-04-14T17:18:27.209Z"
   },
   {
    "duration": 12,
    "start_time": "2022-04-14T17:18:27.219Z"
   },
   {
    "duration": 18,
    "start_time": "2022-04-14T17:18:27.232Z"
   },
   {
    "duration": 100,
    "start_time": "2022-04-14T17:50:07.295Z"
   },
   {
    "duration": 9,
    "start_time": "2022-04-14T17:50:16.924Z"
   },
   {
    "duration": 5,
    "start_time": "2022-04-14T17:50:36.339Z"
   },
   {
    "duration": 4,
    "start_time": "2022-04-14T17:50:42.457Z"
   },
   {
    "duration": 5,
    "start_time": "2022-04-14T17:50:45.282Z"
   },
   {
    "duration": 6,
    "start_time": "2022-04-14T17:51:02.608Z"
   },
   {
    "duration": 5,
    "start_time": "2022-04-14T17:51:25.311Z"
   },
   {
    "duration": 5,
    "start_time": "2022-04-14T17:51:27.720Z"
   },
   {
    "duration": 5,
    "start_time": "2022-04-14T17:51:30.313Z"
   },
   {
    "duration": 14,
    "start_time": "2022-04-14T17:52:17.104Z"
   },
   {
    "duration": 8,
    "start_time": "2022-04-14T17:52:23.349Z"
   },
   {
    "duration": 8,
    "start_time": "2022-04-14T17:54:10.350Z"
   },
   {
    "duration": 7,
    "start_time": "2022-04-14T17:55:10.523Z"
   },
   {
    "duration": 10,
    "start_time": "2022-04-14T17:55:15.791Z"
   },
   {
    "duration": 11,
    "start_time": "2022-04-14T17:55:36.929Z"
   },
   {
    "duration": 14,
    "start_time": "2022-04-14T17:56:36.280Z"
   },
   {
    "duration": 111,
    "start_time": "2022-04-14T17:56:48.082Z"
   },
   {
    "duration": 14,
    "start_time": "2022-04-14T17:56:53.105Z"
   },
   {
    "duration": 13,
    "start_time": "2022-04-14T17:57:17.812Z"
   },
   {
    "duration": 12,
    "start_time": "2022-04-14T17:57:33.977Z"
   },
   {
    "duration": 14,
    "start_time": "2022-04-14T17:59:22.089Z"
   },
   {
    "duration": 14,
    "start_time": "2022-04-14T17:59:37.585Z"
   },
   {
    "duration": 16,
    "start_time": "2022-04-14T18:00:52.721Z"
   },
   {
    "duration": 14,
    "start_time": "2022-04-14T18:00:58.978Z"
   },
   {
    "duration": 10,
    "start_time": "2022-04-14T18:01:22.609Z"
   },
   {
    "duration": 19,
    "start_time": "2022-04-14T18:02:10.055Z"
   },
   {
    "duration": 19,
    "start_time": "2022-04-14T18:02:27.163Z"
   },
   {
    "duration": 20,
    "start_time": "2022-04-14T18:02:33.195Z"
   },
   {
    "duration": 20,
    "start_time": "2022-04-14T18:02:55.734Z"
   },
   {
    "duration": 17,
    "start_time": "2022-04-14T18:03:25.172Z"
   },
   {
    "duration": 16,
    "start_time": "2022-04-14T18:03:47.898Z"
   },
   {
    "duration": 10,
    "start_time": "2022-04-14T18:04:57.662Z"
   },
   {
    "duration": 17,
    "start_time": "2022-04-14T18:05:01.553Z"
   },
   {
    "duration": 10,
    "start_time": "2022-04-14T18:07:10.145Z"
   },
   {
    "duration": 10,
    "start_time": "2022-04-14T18:07:19.039Z"
   },
   {
    "duration": 1414,
    "start_time": "2022-04-14T18:07:43.204Z"
   },
   {
    "duration": 52,
    "start_time": "2022-04-14T18:07:44.619Z"
   },
   {
    "duration": 13,
    "start_time": "2022-04-14T18:07:44.672Z"
   },
   {
    "duration": 9,
    "start_time": "2022-04-14T18:07:44.687Z"
   },
   {
    "duration": 19,
    "start_time": "2022-04-14T18:07:44.697Z"
   },
   {
    "duration": 40,
    "start_time": "2022-04-14T18:07:44.717Z"
   },
   {
    "duration": 21,
    "start_time": "2022-04-14T18:07:44.758Z"
   },
   {
    "duration": 9,
    "start_time": "2022-04-14T18:07:44.781Z"
   },
   {
    "duration": 15,
    "start_time": "2022-04-14T18:07:44.791Z"
   },
   {
    "duration": 5,
    "start_time": "2022-04-14T18:07:44.808Z"
   },
   {
    "duration": 42,
    "start_time": "2022-04-14T18:07:44.814Z"
   },
   {
    "duration": 22,
    "start_time": "2022-04-14T18:07:44.857Z"
   },
   {
    "duration": 4,
    "start_time": "2022-04-14T18:07:44.881Z"
   },
   {
    "duration": 13,
    "start_time": "2022-04-14T18:07:44.887Z"
   },
   {
    "duration": 4,
    "start_time": "2022-04-14T18:07:44.901Z"
   },
   {
    "duration": 9,
    "start_time": "2022-04-14T18:07:44.906Z"
   },
   {
    "duration": 14,
    "start_time": "2022-04-14T18:07:44.917Z"
   },
   {
    "duration": 20,
    "start_time": "2022-04-14T18:07:44.933Z"
   },
   {
    "duration": 17,
    "start_time": "2022-04-14T18:07:44.955Z"
   },
   {
    "duration": 16,
    "start_time": "2022-04-14T18:07:44.974Z"
   },
   {
    "duration": 7,
    "start_time": "2022-04-14T18:07:44.992Z"
   },
   {
    "duration": 142,
    "start_time": "2022-04-14T18:07:45.001Z"
   },
   {
    "duration": 237,
    "start_time": "2022-04-14T18:07:45.144Z"
   },
   {
    "duration": 156,
    "start_time": "2022-04-14T18:07:45.383Z"
   },
   {
    "duration": 228,
    "start_time": "2022-04-14T18:07:45.540Z"
   },
   {
    "duration": 482,
    "start_time": "2022-04-14T18:07:45.770Z"
   },
   {
    "duration": 308,
    "start_time": "2022-04-14T18:07:46.253Z"
   },
   {
    "duration": 405,
    "start_time": "2022-04-14T18:07:46.567Z"
   },
   {
    "duration": 315,
    "start_time": "2022-04-14T18:07:46.973Z"
   },
   {
    "duration": 273,
    "start_time": "2022-04-14T18:07:47.290Z"
   },
   {
    "duration": 24,
    "start_time": "2022-04-14T18:07:47.565Z"
   },
   {
    "duration": 8,
    "start_time": "2022-04-14T18:07:47.591Z"
   },
   {
    "duration": 184,
    "start_time": "2022-04-14T18:07:47.601Z"
   },
   {
    "duration": 222,
    "start_time": "2022-04-14T18:07:47.788Z"
   },
   {
    "duration": 222,
    "start_time": "2022-04-14T18:07:48.012Z"
   },
   {
    "duration": 135,
    "start_time": "2022-04-14T18:07:48.236Z"
   },
   {
    "duration": 6,
    "start_time": "2022-04-14T18:07:48.372Z"
   },
   {
    "duration": 205,
    "start_time": "2022-04-14T18:07:48.379Z"
   },
   {
    "duration": 5,
    "start_time": "2022-04-14T18:07:48.585Z"
   },
   {
    "duration": 127,
    "start_time": "2022-04-14T18:07:48.592Z"
   },
   {
    "duration": 5,
    "start_time": "2022-04-14T18:07:48.720Z"
   },
   {
    "duration": 120,
    "start_time": "2022-04-14T18:07:48.727Z"
   },
   {
    "duration": 5,
    "start_time": "2022-04-14T18:07:48.849Z"
   },
   {
    "duration": 5,
    "start_time": "2022-04-14T18:07:48.856Z"
   },
   {
    "duration": 6,
    "start_time": "2022-04-14T18:07:48.862Z"
   },
   {
    "duration": 185,
    "start_time": "2022-04-14T18:07:48.870Z"
   },
   {
    "duration": 24,
    "start_time": "2022-04-14T18:07:49.057Z"
   },
   {
    "duration": 11,
    "start_time": "2022-04-14T18:07:49.083Z"
   },
   {
    "duration": 23,
    "start_time": "2022-04-14T18:07:49.096Z"
   },
   {
    "duration": 3,
    "start_time": "2022-04-14T18:07:49.121Z"
   },
   {
    "duration": 86,
    "start_time": "2022-04-14T18:07:49.147Z"
   },
   {
    "duration": 123,
    "start_time": "2022-04-14T18:07:49.234Z"
   },
   {
    "duration": 19,
    "start_time": "2022-04-14T18:07:49.359Z"
   },
   {
    "duration": 3,
    "start_time": "2022-04-14T18:07:49.379Z"
   },
   {
    "duration": 92,
    "start_time": "2022-04-14T18:07:49.384Z"
   },
   {
    "duration": 124,
    "start_time": "2022-04-14T18:07:49.478Z"
   },
   {
    "duration": 19,
    "start_time": "2022-04-14T18:07:49.603Z"
   },
   {
    "duration": 3,
    "start_time": "2022-04-14T18:07:49.624Z"
   },
   {
    "duration": 97,
    "start_time": "2022-04-14T18:07:49.628Z"
   },
   {
    "duration": 116,
    "start_time": "2022-04-14T18:07:49.727Z"
   },
   {
    "duration": 112,
    "start_time": "2022-04-14T18:07:49.847Z"
   },
   {
    "duration": 129,
    "start_time": "2022-04-14T18:07:49.962Z"
   },
   {
    "duration": 127,
    "start_time": "2022-04-14T18:07:50.093Z"
   },
   {
    "duration": 204,
    "start_time": "2022-04-14T18:07:50.221Z"
   },
   {
    "duration": 164,
    "start_time": "2022-04-14T18:07:50.427Z"
   },
   {
    "duration": 133,
    "start_time": "2022-04-14T18:07:50.592Z"
   },
   {
    "duration": 8,
    "start_time": "2022-04-14T18:07:50.726Z"
   },
   {
    "duration": 12,
    "start_time": "2022-04-14T18:07:50.736Z"
   },
   {
    "duration": 8,
    "start_time": "2022-04-14T18:07:50.750Z"
   },
   {
    "duration": 14,
    "start_time": "2022-04-14T18:07:50.759Z"
   },
   {
    "duration": 110,
    "start_time": "2022-04-14T18:17:59.325Z"
   },
   {
    "duration": 1659,
    "start_time": "2022-04-15T06:04:46.835Z"
   },
   {
    "duration": 58,
    "start_time": "2022-04-15T06:04:48.496Z"
   },
   {
    "duration": 13,
    "start_time": "2022-04-15T06:04:48.556Z"
   },
   {
    "duration": 7,
    "start_time": "2022-04-15T06:04:48.572Z"
   },
   {
    "duration": 19,
    "start_time": "2022-04-15T06:04:48.581Z"
   },
   {
    "duration": 34,
    "start_time": "2022-04-15T06:04:48.602Z"
   },
   {
    "duration": 23,
    "start_time": "2022-04-15T06:04:48.638Z"
   },
   {
    "duration": 9,
    "start_time": "2022-04-15T06:04:48.663Z"
   },
   {
    "duration": 5,
    "start_time": "2022-04-15T06:04:48.674Z"
   },
   {
    "duration": 9,
    "start_time": "2022-04-15T06:04:48.681Z"
   },
   {
    "duration": 41,
    "start_time": "2022-04-15T06:04:48.691Z"
   },
   {
    "duration": 109,
    "start_time": "2022-04-15T06:04:48.733Z"
   },
   {
    "duration": 0,
    "start_time": "2022-04-15T06:04:48.845Z"
   },
   {
    "duration": 0,
    "start_time": "2022-04-15T06:04:48.846Z"
   },
   {
    "duration": 0,
    "start_time": "2022-04-15T06:04:48.847Z"
   },
   {
    "duration": 0,
    "start_time": "2022-04-15T06:04:48.849Z"
   },
   {
    "duration": 0,
    "start_time": "2022-04-15T06:04:48.850Z"
   },
   {
    "duration": 0,
    "start_time": "2022-04-15T06:04:48.851Z"
   },
   {
    "duration": 0,
    "start_time": "2022-04-15T06:04:48.852Z"
   },
   {
    "duration": 0,
    "start_time": "2022-04-15T06:04:48.853Z"
   },
   {
    "duration": 0,
    "start_time": "2022-04-15T06:04:48.854Z"
   },
   {
    "duration": 0,
    "start_time": "2022-04-15T06:04:48.855Z"
   },
   {
    "duration": 0,
    "start_time": "2022-04-15T06:04:48.856Z"
   },
   {
    "duration": 0,
    "start_time": "2022-04-15T06:04:48.857Z"
   },
   {
    "duration": 0,
    "start_time": "2022-04-15T06:04:48.859Z"
   },
   {
    "duration": 0,
    "start_time": "2022-04-15T06:04:48.859Z"
   },
   {
    "duration": 1,
    "start_time": "2022-04-15T06:04:48.860Z"
   },
   {
    "duration": 0,
    "start_time": "2022-04-15T06:04:48.862Z"
   },
   {
    "duration": 0,
    "start_time": "2022-04-15T06:04:48.863Z"
   },
   {
    "duration": 0,
    "start_time": "2022-04-15T06:04:48.864Z"
   },
   {
    "duration": 0,
    "start_time": "2022-04-15T06:04:48.865Z"
   },
   {
    "duration": 0,
    "start_time": "2022-04-15T06:04:48.866Z"
   },
   {
    "duration": 0,
    "start_time": "2022-04-15T06:04:48.867Z"
   },
   {
    "duration": 0,
    "start_time": "2022-04-15T06:04:48.868Z"
   },
   {
    "duration": 0,
    "start_time": "2022-04-15T06:04:48.869Z"
   },
   {
    "duration": 0,
    "start_time": "2022-04-15T06:04:48.870Z"
   },
   {
    "duration": 0,
    "start_time": "2022-04-15T06:04:48.872Z"
   },
   {
    "duration": 0,
    "start_time": "2022-04-15T06:04:48.873Z"
   },
   {
    "duration": 0,
    "start_time": "2022-04-15T06:04:48.874Z"
   },
   {
    "duration": 0,
    "start_time": "2022-04-15T06:04:48.924Z"
   },
   {
    "duration": 0,
    "start_time": "2022-04-15T06:04:48.925Z"
   },
   {
    "duration": 0,
    "start_time": "2022-04-15T06:04:48.926Z"
   },
   {
    "duration": 0,
    "start_time": "2022-04-15T06:04:48.927Z"
   },
   {
    "duration": 0,
    "start_time": "2022-04-15T06:04:48.928Z"
   },
   {
    "duration": 0,
    "start_time": "2022-04-15T06:04:48.929Z"
   },
   {
    "duration": 0,
    "start_time": "2022-04-15T06:04:48.930Z"
   },
   {
    "duration": 0,
    "start_time": "2022-04-15T06:04:48.932Z"
   },
   {
    "duration": 0,
    "start_time": "2022-04-15T06:04:48.933Z"
   },
   {
    "duration": 0,
    "start_time": "2022-04-15T06:04:48.934Z"
   },
   {
    "duration": 0,
    "start_time": "2022-04-15T06:04:48.934Z"
   },
   {
    "duration": 0,
    "start_time": "2022-04-15T06:04:48.936Z"
   },
   {
    "duration": 0,
    "start_time": "2022-04-15T06:04:48.937Z"
   },
   {
    "duration": 0,
    "start_time": "2022-04-15T06:04:48.938Z"
   },
   {
    "duration": 0,
    "start_time": "2022-04-15T06:04:48.939Z"
   },
   {
    "duration": 0,
    "start_time": "2022-04-15T06:04:48.940Z"
   },
   {
    "duration": 0,
    "start_time": "2022-04-15T06:04:48.941Z"
   },
   {
    "duration": 0,
    "start_time": "2022-04-15T06:04:48.942Z"
   },
   {
    "duration": 0,
    "start_time": "2022-04-15T06:04:48.942Z"
   },
   {
    "duration": 0,
    "start_time": "2022-04-15T06:04:48.944Z"
   },
   {
    "duration": 0,
    "start_time": "2022-04-15T06:04:48.945Z"
   },
   {
    "duration": 0,
    "start_time": "2022-04-15T06:04:48.946Z"
   },
   {
    "duration": 0,
    "start_time": "2022-04-15T06:04:48.947Z"
   },
   {
    "duration": 0,
    "start_time": "2022-04-15T06:04:48.948Z"
   },
   {
    "duration": 0,
    "start_time": "2022-04-15T06:04:48.949Z"
   },
   {
    "duration": 1,
    "start_time": "2022-04-15T06:04:48.949Z"
   },
   {
    "duration": 0,
    "start_time": "2022-04-15T06:04:48.951Z"
   },
   {
    "duration": 0,
    "start_time": "2022-04-15T06:04:48.951Z"
   },
   {
    "duration": 0,
    "start_time": "2022-04-15T06:04:48.952Z"
   },
   {
    "duration": 0,
    "start_time": "2022-04-15T06:04:48.953Z"
   },
   {
    "duration": 0,
    "start_time": "2022-04-15T06:04:48.955Z"
   },
   {
    "duration": 20,
    "start_time": "2022-04-15T06:07:23.047Z"
   },
   {
    "duration": 11,
    "start_time": "2022-04-15T06:08:37.752Z"
   },
   {
    "duration": 17,
    "start_time": "2022-04-15T07:34:52.717Z"
   },
   {
    "duration": 578,
    "start_time": "2022-04-15T07:35:03.174Z"
   },
   {
    "duration": 19,
    "start_time": "2022-04-15T07:39:31.427Z"
   },
   {
    "duration": 2028,
    "start_time": "2022-04-15T07:39:47.864Z"
   },
   {
    "duration": 57,
    "start_time": "2022-04-15T07:39:49.894Z"
   },
   {
    "duration": 21,
    "start_time": "2022-04-15T07:39:49.953Z"
   },
   {
    "duration": 13,
    "start_time": "2022-04-15T07:39:49.978Z"
   },
   {
    "duration": 48,
    "start_time": "2022-04-15T07:39:49.993Z"
   },
   {
    "duration": 24,
    "start_time": "2022-04-15T07:39:50.044Z"
   },
   {
    "duration": 55,
    "start_time": "2022-04-15T07:39:50.070Z"
   },
   {
    "duration": 15,
    "start_time": "2022-04-15T07:39:50.127Z"
   },
   {
    "duration": 16,
    "start_time": "2022-04-15T07:39:50.144Z"
   },
   {
    "duration": 6,
    "start_time": "2022-04-15T07:39:50.164Z"
   },
   {
    "duration": 17,
    "start_time": "2022-04-15T07:39:50.171Z"
   },
   {
    "duration": 17,
    "start_time": "2022-04-15T07:39:50.190Z"
   },
   {
    "duration": 5,
    "start_time": "2022-04-15T07:39:50.224Z"
   },
   {
    "duration": 19,
    "start_time": "2022-04-15T07:39:50.231Z"
   },
   {
    "duration": 5,
    "start_time": "2022-04-15T07:39:50.252Z"
   },
   {
    "duration": 16,
    "start_time": "2022-04-15T07:39:50.258Z"
   },
   {
    "duration": 48,
    "start_time": "2022-04-15T07:39:50.276Z"
   },
   {
    "duration": 13,
    "start_time": "2022-04-15T07:39:50.326Z"
   },
   {
    "duration": 19,
    "start_time": "2022-04-15T07:39:50.340Z"
   },
   {
    "duration": 23,
    "start_time": "2022-04-15T07:39:50.361Z"
   },
   {
    "duration": 37,
    "start_time": "2022-04-15T07:39:50.387Z"
   },
   {
    "duration": 155,
    "start_time": "2022-04-15T07:39:50.426Z"
   },
   {
    "duration": 373,
    "start_time": "2022-04-15T07:39:50.583Z"
   },
   {
    "duration": 388,
    "start_time": "2022-04-15T07:39:50.958Z"
   },
   {
    "duration": 382,
    "start_time": "2022-04-15T07:39:51.348Z"
   },
   {
    "duration": 634,
    "start_time": "2022-04-15T07:39:51.732Z"
   },
   {
    "duration": 205,
    "start_time": "2022-04-15T07:39:52.368Z"
   },
   {
    "duration": 180,
    "start_time": "2022-04-15T07:39:52.577Z"
   },
   {
    "duration": 296,
    "start_time": "2022-04-15T07:39:52.759Z"
   },
   {
    "duration": 584,
    "start_time": "2022-04-15T07:39:53.057Z"
   },
   {
    "duration": 24,
    "start_time": "2022-04-15T07:39:53.643Z"
   },
   {
    "duration": 8,
    "start_time": "2022-04-15T07:39:53.724Z"
   },
   {
    "duration": 414,
    "start_time": "2022-04-15T07:39:53.733Z"
   },
   {
    "duration": 675,
    "start_time": "2022-04-15T07:39:54.149Z"
   },
   {
    "duration": 513,
    "start_time": "2022-04-15T07:39:54.826Z"
   },
   {
    "duration": 114,
    "start_time": "2022-04-15T07:39:55.341Z"
   },
   {
    "duration": 5,
    "start_time": "2022-04-15T07:39:55.457Z"
   },
   {
    "duration": 255,
    "start_time": "2022-04-15T07:39:55.464Z"
   },
   {
    "duration": 6,
    "start_time": "2022-04-15T07:39:55.723Z"
   },
   {
    "duration": 162,
    "start_time": "2022-04-15T07:39:55.731Z"
   },
   {
    "duration": 6,
    "start_time": "2022-04-15T07:39:55.895Z"
   },
   {
    "duration": 167,
    "start_time": "2022-04-15T07:39:55.903Z"
   },
   {
    "duration": 6,
    "start_time": "2022-04-15T07:39:56.072Z"
   },
   {
    "duration": 9,
    "start_time": "2022-04-15T07:39:56.079Z"
   },
   {
    "duration": 7,
    "start_time": "2022-04-15T07:39:56.090Z"
   },
   {
    "duration": 172,
    "start_time": "2022-04-15T07:39:56.099Z"
   },
   {
    "duration": 16,
    "start_time": "2022-04-15T07:39:56.273Z"
   },
   {
    "duration": 13,
    "start_time": "2022-04-15T07:39:56.291Z"
   },
   {
    "duration": 32,
    "start_time": "2022-04-15T07:39:56.305Z"
   },
   {
    "duration": 4,
    "start_time": "2022-04-15T07:39:56.339Z"
   },
   {
    "duration": 94,
    "start_time": "2022-04-15T07:39:56.345Z"
   },
   {
    "duration": 103,
    "start_time": "2022-04-15T07:39:56.441Z"
   },
   {
    "duration": 18,
    "start_time": "2022-04-15T07:39:56.546Z"
   },
   {
    "duration": 3,
    "start_time": "2022-04-15T07:39:56.566Z"
   },
   {
    "duration": 96,
    "start_time": "2022-04-15T07:39:56.571Z"
   },
   {
    "duration": 126,
    "start_time": "2022-04-15T07:39:56.669Z"
   },
   {
    "duration": 29,
    "start_time": "2022-04-15T07:39:56.797Z"
   },
   {
    "duration": 4,
    "start_time": "2022-04-15T07:39:56.828Z"
   },
   {
    "duration": 98,
    "start_time": "2022-04-15T07:39:56.833Z"
   },
   {
    "duration": 159,
    "start_time": "2022-04-15T07:39:56.932Z"
   },
   {
    "duration": 162,
    "start_time": "2022-04-15T07:39:57.093Z"
   },
   {
    "duration": 179,
    "start_time": "2022-04-15T07:39:57.257Z"
   },
   {
    "duration": 179,
    "start_time": "2022-04-15T07:39:57.438Z"
   },
   {
    "duration": 268,
    "start_time": "2022-04-15T07:39:57.624Z"
   },
   {
    "duration": 166,
    "start_time": "2022-04-15T07:39:57.894Z"
   },
   {
    "duration": 180,
    "start_time": "2022-04-15T07:39:58.061Z"
   },
   {
    "duration": 10,
    "start_time": "2022-04-15T07:39:58.243Z"
   },
   {
    "duration": 7,
    "start_time": "2022-04-15T07:39:58.254Z"
   },
   {
    "duration": 12,
    "start_time": "2022-04-15T07:39:58.262Z"
   },
   {
    "duration": 5,
    "start_time": "2022-04-15T07:39:58.275Z"
   },
   {
    "duration": 107,
    "start_time": "2022-04-15T07:40:31.284Z"
   },
   {
    "duration": 7,
    "start_time": "2022-04-15T07:44:48.561Z"
   },
   {
    "duration": 6,
    "start_time": "2022-04-15T07:44:57.003Z"
   },
   {
    "duration": 9,
    "start_time": "2022-04-15T07:45:37.980Z"
   },
   {
    "duration": 7,
    "start_time": "2022-04-15T07:45:48.977Z"
   },
   {
    "duration": 165,
    "start_time": "2022-04-15T08:02:52.607Z"
   },
   {
    "duration": 17,
    "start_time": "2022-04-15T08:03:13.676Z"
   },
   {
    "duration": 166,
    "start_time": "2022-04-15T08:03:18.171Z"
   },
   {
    "duration": 165,
    "start_time": "2022-04-15T08:03:30.220Z"
   },
   {
    "duration": 158,
    "start_time": "2022-04-15T08:06:09.249Z"
   },
   {
    "duration": 137,
    "start_time": "2022-04-15T08:06:22.512Z"
   },
   {
    "duration": 3,
    "start_time": "2022-04-15T09:46:16.344Z"
   },
   {
    "duration": 157,
    "start_time": "2022-04-15T09:48:22.501Z"
   },
   {
    "duration": 189,
    "start_time": "2022-04-15T09:48:32.053Z"
   },
   {
    "duration": 13,
    "start_time": "2022-04-15T10:04:13.630Z"
   },
   {
    "duration": 14,
    "start_time": "2022-04-15T10:05:10.885Z"
   },
   {
    "duration": 23,
    "start_time": "2022-04-15T10:07:23.629Z"
   },
   {
    "duration": 23,
    "start_time": "2022-04-15T10:07:31.432Z"
   },
   {
    "duration": 212,
    "start_time": "2022-04-15T10:10:29.115Z"
   },
   {
    "duration": 276,
    "start_time": "2022-04-15T10:10:42.855Z"
   },
   {
    "duration": 138,
    "start_time": "2022-04-15T10:11:00.768Z"
   },
   {
    "duration": 6,
    "start_time": "2022-04-15T10:11:07.093Z"
   },
   {
    "duration": 115,
    "start_time": "2022-04-15T10:11:10.884Z"
   },
   {
    "duration": 6,
    "start_time": "2022-04-15T10:11:14.125Z"
   },
   {
    "duration": 169,
    "start_time": "2022-04-15T10:12:51.166Z"
   },
   {
    "duration": 155,
    "start_time": "2022-04-15T10:13:06.661Z"
   },
   {
    "duration": 145,
    "start_time": "2022-04-15T10:13:25.447Z"
   },
   {
    "duration": 7,
    "start_time": "2022-04-15T10:14:47.226Z"
   },
   {
    "duration": 6,
    "start_time": "2022-04-15T10:14:53.003Z"
   },
   {
    "duration": 9,
    "start_time": "2022-04-15T10:14:55.839Z"
   },
   {
    "duration": 22,
    "start_time": "2022-04-15T10:15:07.252Z"
   },
   {
    "duration": 19,
    "start_time": "2022-04-15T10:15:16.270Z"
   },
   {
    "duration": 44,
    "start_time": "2022-04-15T10:15:25.687Z"
   },
   {
    "duration": 44,
    "start_time": "2022-04-15T10:15:39.092Z"
   },
   {
    "duration": 168,
    "start_time": "2022-04-15T10:16:53.736Z"
   },
   {
    "duration": 147,
    "start_time": "2022-04-15T10:16:59.105Z"
   },
   {
    "duration": 24,
    "start_time": "2022-04-15T10:17:53.843Z"
   },
   {
    "duration": 23,
    "start_time": "2022-04-15T10:18:08.221Z"
   },
   {
    "duration": 112,
    "start_time": "2022-04-15T11:39:12.070Z"
   },
   {
    "duration": 12,
    "start_time": "2022-04-15T11:39:32.747Z"
   },
   {
    "duration": 1460,
    "start_time": "2022-04-15T11:40:25.103Z"
   },
   {
    "duration": 57,
    "start_time": "2022-04-15T11:40:26.565Z"
   },
   {
    "duration": 21,
    "start_time": "2022-04-15T11:40:26.627Z"
   },
   {
    "duration": 8,
    "start_time": "2022-04-15T11:40:26.651Z"
   },
   {
    "duration": 17,
    "start_time": "2022-04-15T11:40:26.661Z"
   },
   {
    "duration": 15,
    "start_time": "2022-04-15T11:40:26.680Z"
   },
   {
    "duration": 42,
    "start_time": "2022-04-15T11:40:26.697Z"
   },
   {
    "duration": 11,
    "start_time": "2022-04-15T11:40:26.741Z"
   },
   {
    "duration": 9,
    "start_time": "2022-04-15T11:40:26.753Z"
   },
   {
    "duration": 14,
    "start_time": "2022-04-15T11:40:26.764Z"
   },
   {
    "duration": 19,
    "start_time": "2022-04-15T11:40:26.780Z"
   },
   {
    "duration": 41,
    "start_time": "2022-04-15T11:40:26.801Z"
   },
   {
    "duration": 13,
    "start_time": "2022-04-15T11:40:26.844Z"
   },
   {
    "duration": 4,
    "start_time": "2022-04-15T11:40:26.859Z"
   },
   {
    "duration": 9,
    "start_time": "2022-04-15T11:40:26.864Z"
   },
   {
    "duration": 14,
    "start_time": "2022-04-15T11:40:26.875Z"
   },
   {
    "duration": 40,
    "start_time": "2022-04-15T11:40:26.890Z"
   },
   {
    "duration": 29,
    "start_time": "2022-04-15T11:40:26.932Z"
   },
   {
    "duration": 22,
    "start_time": "2022-04-15T11:40:26.963Z"
   },
   {
    "duration": 12,
    "start_time": "2022-04-15T11:40:26.987Z"
   },
   {
    "duration": 198,
    "start_time": "2022-04-15T11:40:27.001Z"
   },
   {
    "duration": 269,
    "start_time": "2022-04-15T11:40:27.202Z"
   },
   {
    "duration": 181,
    "start_time": "2022-04-15T11:40:27.473Z"
   },
   {
    "duration": 180,
    "start_time": "2022-04-15T11:40:27.656Z"
   },
   {
    "duration": 245,
    "start_time": "2022-04-15T11:40:27.838Z"
   },
   {
    "duration": 177,
    "start_time": "2022-04-15T11:40:28.085Z"
   },
   {
    "duration": 164,
    "start_time": "2022-04-15T11:40:28.264Z"
   },
   {
    "duration": 171,
    "start_time": "2022-04-15T11:40:28.435Z"
   },
   {
    "duration": 284,
    "start_time": "2022-04-15T11:40:28.607Z"
   },
   {
    "duration": 36,
    "start_time": "2022-04-15T11:40:28.893Z"
   },
   {
    "duration": 9,
    "start_time": "2022-04-15T11:40:28.930Z"
   },
   {
    "duration": 160,
    "start_time": "2022-04-15T11:40:28.941Z"
   },
   {
    "duration": 337,
    "start_time": "2022-04-15T11:40:29.103Z"
   },
   {
    "duration": 285,
    "start_time": "2022-04-15T11:40:29.442Z"
   },
   {
    "duration": 122,
    "start_time": "2022-04-15T11:40:29.729Z"
   },
   {
    "duration": 5,
    "start_time": "2022-04-15T11:40:29.853Z"
   },
   {
    "duration": 212,
    "start_time": "2022-04-15T11:40:29.860Z"
   },
   {
    "duration": 6,
    "start_time": "2022-04-15T11:40:30.074Z"
   },
   {
    "duration": 168,
    "start_time": "2022-04-15T11:40:30.081Z"
   },
   {
    "duration": 8,
    "start_time": "2022-04-15T11:40:30.250Z"
   },
   {
    "duration": 152,
    "start_time": "2022-04-15T11:40:30.260Z"
   },
   {
    "duration": 6,
    "start_time": "2022-04-15T11:40:30.414Z"
   },
   {
    "duration": 26,
    "start_time": "2022-04-15T11:40:30.424Z"
   },
   {
    "duration": 172,
    "start_time": "2022-04-15T11:40:30.452Z"
   },
   {
    "duration": 252,
    "start_time": "2022-04-15T11:40:30.627Z"
   },
   {
    "duration": 18,
    "start_time": "2022-04-15T11:40:30.880Z"
   },
   {
    "duration": 38,
    "start_time": "2022-04-15T11:40:30.900Z"
   },
   {
    "duration": 37,
    "start_time": "2022-04-15T11:40:30.940Z"
   },
   {
    "duration": 4,
    "start_time": "2022-04-15T11:40:30.979Z"
   },
   {
    "duration": 93,
    "start_time": "2022-04-15T11:40:30.985Z"
   },
   {
    "duration": 116,
    "start_time": "2022-04-15T11:40:31.080Z"
   },
   {
    "duration": 32,
    "start_time": "2022-04-15T11:40:31.198Z"
   },
   {
    "duration": 9,
    "start_time": "2022-04-15T11:40:31.233Z"
   },
   {
    "duration": 100,
    "start_time": "2022-04-15T11:40:31.244Z"
   },
   {
    "duration": 126,
    "start_time": "2022-04-15T11:40:31.345Z"
   },
   {
    "duration": 20,
    "start_time": "2022-04-15T11:40:31.473Z"
   },
   {
    "duration": 4,
    "start_time": "2022-04-15T11:40:31.495Z"
   },
   {
    "duration": 141,
    "start_time": "2022-04-15T11:40:31.501Z"
   },
   {
    "duration": 121,
    "start_time": "2022-04-15T11:40:31.644Z"
   },
   {
    "duration": 118,
    "start_time": "2022-04-15T11:40:31.767Z"
   },
   {
    "duration": 233,
    "start_time": "2022-04-15T11:40:31.887Z"
   },
   {
    "duration": 133,
    "start_time": "2022-04-15T11:40:32.123Z"
   },
   {
    "duration": 149,
    "start_time": "2022-04-15T11:40:32.258Z"
   },
   {
    "duration": 172,
    "start_time": "2022-04-15T11:40:32.410Z"
   },
   {
    "duration": 182,
    "start_time": "2022-04-15T11:40:32.584Z"
   },
   {
    "duration": 10,
    "start_time": "2022-04-15T11:40:32.768Z"
   },
   {
    "duration": 13,
    "start_time": "2022-04-15T11:40:32.780Z"
   },
   {
    "duration": 40,
    "start_time": "2022-04-15T11:40:32.796Z"
   },
   {
    "duration": 28,
    "start_time": "2022-04-15T11:40:32.837Z"
   },
   {
    "duration": 20,
    "start_time": "2022-04-15T11:44:32.959Z"
   },
   {
    "duration": 13,
    "start_time": "2022-04-15T11:44:36.863Z"
   },
   {
    "duration": 271,
    "start_time": "2022-04-15T11:47:37.101Z"
   },
   {
    "duration": 2339,
    "start_time": "2022-04-15T13:50:53.908Z"
   },
   {
    "duration": 82,
    "start_time": "2022-04-15T13:50:56.250Z"
   },
   {
    "duration": 21,
    "start_time": "2022-04-15T13:50:56.334Z"
   },
   {
    "duration": 12,
    "start_time": "2022-04-15T13:50:56.359Z"
   },
   {
    "duration": 30,
    "start_time": "2022-04-15T13:50:56.393Z"
   },
   {
    "duration": 74,
    "start_time": "2022-04-15T13:50:56.425Z"
   },
   {
    "duration": 42,
    "start_time": "2022-04-15T13:50:56.503Z"
   },
   {
    "duration": 15,
    "start_time": "2022-04-15T13:50:56.548Z"
   },
   {
    "duration": 29,
    "start_time": "2022-04-15T13:50:56.565Z"
   },
   {
    "duration": 21,
    "start_time": "2022-04-15T13:50:56.598Z"
   },
   {
    "duration": 29,
    "start_time": "2022-04-15T13:50:56.621Z"
   },
   {
    "duration": 18,
    "start_time": "2022-04-15T13:50:56.652Z"
   },
   {
    "duration": 39,
    "start_time": "2022-04-15T13:50:56.672Z"
   },
   {
    "duration": 9,
    "start_time": "2022-04-15T13:50:56.714Z"
   },
   {
    "duration": 28,
    "start_time": "2022-04-15T13:50:56.726Z"
   },
   {
    "duration": 47,
    "start_time": "2022-04-15T13:50:56.757Z"
   },
   {
    "duration": 19,
    "start_time": "2022-04-15T13:50:56.806Z"
   },
   {
    "duration": 46,
    "start_time": "2022-04-15T13:50:56.827Z"
   },
   {
    "duration": 41,
    "start_time": "2022-04-15T13:50:56.876Z"
   },
   {
    "duration": 11,
    "start_time": "2022-04-15T13:50:56.920Z"
   },
   {
    "duration": 266,
    "start_time": "2022-04-15T13:50:56.933Z"
   },
   {
    "duration": 431,
    "start_time": "2022-04-15T13:50:57.201Z"
   },
   {
    "duration": 306,
    "start_time": "2022-04-15T13:50:57.634Z"
   },
   {
    "duration": 336,
    "start_time": "2022-04-15T13:50:57.942Z"
   },
   {
    "duration": 386,
    "start_time": "2022-04-15T13:50:58.280Z"
   },
   {
    "duration": 298,
    "start_time": "2022-04-15T13:50:58.668Z"
   },
   {
    "duration": 271,
    "start_time": "2022-04-15T13:50:58.969Z"
   },
   {
    "duration": 283,
    "start_time": "2022-04-15T13:50:59.248Z"
   },
   {
    "duration": 383,
    "start_time": "2022-04-15T13:50:59.533Z"
   },
   {
    "duration": 27,
    "start_time": "2022-04-15T13:50:59.919Z"
   },
   {
    "duration": 9,
    "start_time": "2022-04-15T13:50:59.948Z"
   },
   {
    "duration": 294,
    "start_time": "2022-04-15T13:50:59.959Z"
   },
   {
    "duration": 383,
    "start_time": "2022-04-15T13:51:00.256Z"
   },
   {
    "duration": 391,
    "start_time": "2022-04-15T13:51:00.642Z"
   },
   {
    "duration": 202,
    "start_time": "2022-04-15T13:51:01.036Z"
   },
   {
    "duration": 8,
    "start_time": "2022-04-15T13:51:01.241Z"
   },
   {
    "duration": 317,
    "start_time": "2022-04-15T13:51:01.252Z"
   },
   {
    "duration": 8,
    "start_time": "2022-04-15T13:51:01.572Z"
   },
   {
    "duration": 303,
    "start_time": "2022-04-15T13:51:01.593Z"
   },
   {
    "duration": 11,
    "start_time": "2022-04-15T13:51:01.899Z"
   },
   {
    "duration": 228,
    "start_time": "2022-04-15T13:51:01.913Z"
   },
   {
    "duration": 8,
    "start_time": "2022-04-15T13:51:02.143Z"
   },
   {
    "duration": 38,
    "start_time": "2022-04-15T13:51:02.153Z"
   },
   {
    "duration": 265,
    "start_time": "2022-04-15T13:51:02.193Z"
   },
   {
    "duration": 293,
    "start_time": "2022-04-15T13:51:02.461Z"
   },
   {
    "duration": 41,
    "start_time": "2022-04-15T13:51:02.757Z"
   },
   {
    "duration": 21,
    "start_time": "2022-04-15T13:51:02.801Z"
   },
   {
    "duration": 31,
    "start_time": "2022-04-15T13:51:02.825Z"
   },
   {
    "duration": 35,
    "start_time": "2022-04-15T13:51:02.859Z"
   },
   {
    "duration": 153,
    "start_time": "2022-04-15T13:51:02.897Z"
   },
   {
    "duration": 196,
    "start_time": "2022-04-15T13:51:03.053Z"
   },
   {
    "duration": 52,
    "start_time": "2022-04-15T13:51:03.252Z"
   },
   {
    "duration": 6,
    "start_time": "2022-04-15T13:51:03.307Z"
   },
   {
    "duration": 161,
    "start_time": "2022-04-15T13:51:03.317Z"
   },
   {
    "duration": 223,
    "start_time": "2022-04-15T13:51:03.481Z"
   },
   {
    "duration": 31,
    "start_time": "2022-04-15T13:51:03.706Z"
   },
   {
    "duration": 5,
    "start_time": "2022-04-15T13:51:03.739Z"
   },
   {
    "duration": 278,
    "start_time": "2022-04-15T13:51:03.747Z"
   },
   {
    "duration": 194,
    "start_time": "2022-04-15T13:51:04.027Z"
   },
   {
    "duration": 198,
    "start_time": "2022-04-15T13:51:04.223Z"
   },
   {
    "duration": 311,
    "start_time": "2022-04-15T13:51:04.423Z"
   },
   {
    "duration": 244,
    "start_time": "2022-04-15T13:51:04.736Z"
   },
   {
    "duration": 218,
    "start_time": "2022-04-15T13:51:04.982Z"
   },
   {
    "duration": 210,
    "start_time": "2022-04-15T13:51:05.202Z"
   },
   {
    "duration": 214,
    "start_time": "2022-04-15T13:51:05.414Z"
   },
   {
    "duration": 10,
    "start_time": "2022-04-15T13:51:05.630Z"
   },
   {
    "duration": 13,
    "start_time": "2022-04-15T13:51:05.643Z"
   },
   {
    "duration": 35,
    "start_time": "2022-04-15T13:51:05.658Z"
   },
   {
    "duration": 11,
    "start_time": "2022-04-15T13:51:05.695Z"
   },
   {
    "duration": 2185,
    "start_time": "2022-04-15T14:37:38.121Z"
   },
   {
    "duration": 56,
    "start_time": "2022-04-15T14:37:40.309Z"
   },
   {
    "duration": 19,
    "start_time": "2022-04-15T14:37:40.368Z"
   },
   {
    "duration": 22,
    "start_time": "2022-04-15T14:37:40.389Z"
   },
   {
    "duration": 41,
    "start_time": "2022-04-15T14:37:40.414Z"
   },
   {
    "duration": 24,
    "start_time": "2022-04-15T14:37:40.457Z"
   },
   {
    "duration": 44,
    "start_time": "2022-04-15T14:37:40.484Z"
   },
   {
    "duration": 25,
    "start_time": "2022-04-15T14:37:40.530Z"
   },
   {
    "duration": 18,
    "start_time": "2022-04-15T14:37:40.558Z"
   },
   {
    "duration": 25,
    "start_time": "2022-04-15T14:37:40.578Z"
   },
   {
    "duration": 26,
    "start_time": "2022-04-15T14:37:40.605Z"
   },
   {
    "duration": 28,
    "start_time": "2022-04-15T14:37:40.634Z"
   },
   {
    "duration": 40,
    "start_time": "2022-04-15T14:37:40.664Z"
   },
   {
    "duration": 23,
    "start_time": "2022-04-15T14:37:40.709Z"
   },
   {
    "duration": 27,
    "start_time": "2022-04-15T14:37:40.734Z"
   },
   {
    "duration": 31,
    "start_time": "2022-04-15T14:37:40.762Z"
   },
   {
    "duration": 13,
    "start_time": "2022-04-15T14:37:40.795Z"
   },
   {
    "duration": 19,
    "start_time": "2022-04-15T14:37:40.810Z"
   },
   {
    "duration": 28,
    "start_time": "2022-04-15T14:37:40.830Z"
   },
   {
    "duration": 16,
    "start_time": "2022-04-15T14:37:40.860Z"
   },
   {
    "duration": 168,
    "start_time": "2022-04-15T14:37:40.878Z"
   },
   {
    "duration": 412,
    "start_time": "2022-04-15T14:37:41.048Z"
   },
   {
    "duration": 437,
    "start_time": "2022-04-15T14:37:41.463Z"
   },
   {
    "duration": 501,
    "start_time": "2022-04-15T14:37:41.955Z"
   },
   {
    "duration": 643,
    "start_time": "2022-04-15T14:37:42.459Z"
   },
   {
    "duration": 536,
    "start_time": "2022-04-15T14:37:43.105Z"
   },
   {
    "duration": 261,
    "start_time": "2022-04-15T14:37:43.643Z"
   },
   {
    "duration": 235,
    "start_time": "2022-04-15T14:37:43.906Z"
   },
   {
    "duration": 307,
    "start_time": "2022-04-15T14:37:44.142Z"
   },
   {
    "duration": 19,
    "start_time": "2022-04-15T14:37:44.455Z"
   },
   {
    "duration": 7,
    "start_time": "2022-04-15T14:37:44.476Z"
   },
   {
    "duration": 190,
    "start_time": "2022-04-15T14:37:44.485Z"
   },
   {
    "duration": 378,
    "start_time": "2022-04-15T14:37:44.677Z"
   },
   {
    "duration": 256,
    "start_time": "2022-04-15T14:37:45.057Z"
   },
   {
    "duration": 128,
    "start_time": "2022-04-15T14:37:45.315Z"
   },
   {
    "duration": 13,
    "start_time": "2022-04-15T14:37:45.445Z"
   },
   {
    "duration": 317,
    "start_time": "2022-04-15T14:37:45.460Z"
   },
   {
    "duration": 5,
    "start_time": "2022-04-15T14:37:45.780Z"
   },
   {
    "duration": 247,
    "start_time": "2022-04-15T14:37:45.787Z"
   },
   {
    "duration": 18,
    "start_time": "2022-04-15T14:37:46.036Z"
   },
   {
    "duration": 202,
    "start_time": "2022-04-15T14:37:46.062Z"
   },
   {
    "duration": 8,
    "start_time": "2022-04-15T14:37:46.267Z"
   },
   {
    "duration": 9,
    "start_time": "2022-04-15T14:37:46.278Z"
   },
   {
    "duration": 299,
    "start_time": "2022-04-15T14:37:46.289Z"
   },
   {
    "duration": 184,
    "start_time": "2022-04-15T14:37:46.590Z"
   },
   {
    "duration": 21,
    "start_time": "2022-04-15T14:37:46.776Z"
   },
   {
    "duration": 13,
    "start_time": "2022-04-15T14:37:46.799Z"
   },
   {
    "duration": 46,
    "start_time": "2022-04-15T14:37:46.814Z"
   },
   {
    "duration": 4,
    "start_time": "2022-04-15T14:37:46.862Z"
   },
   {
    "duration": 99,
    "start_time": "2022-04-15T14:37:46.869Z"
   },
   {
    "duration": 121,
    "start_time": "2022-04-15T14:37:46.970Z"
   },
   {
    "duration": 21,
    "start_time": "2022-04-15T14:37:47.093Z"
   },
   {
    "duration": 4,
    "start_time": "2022-04-15T14:37:47.116Z"
   },
   {
    "duration": 162,
    "start_time": "2022-04-15T14:37:47.122Z"
   },
   {
    "duration": 152,
    "start_time": "2022-04-15T14:37:47.286Z"
   },
   {
    "duration": 29,
    "start_time": "2022-04-15T14:37:47.440Z"
   },
   {
    "duration": 3,
    "start_time": "2022-04-15T14:37:47.471Z"
   },
   {
    "duration": 104,
    "start_time": "2022-04-15T14:37:47.477Z"
   },
   {
    "duration": 136,
    "start_time": "2022-04-15T14:37:47.582Z"
   },
   {
    "duration": 184,
    "start_time": "2022-04-15T14:37:47.720Z"
   },
   {
    "duration": 328,
    "start_time": "2022-04-15T14:37:47.906Z"
   },
   {
    "duration": 139,
    "start_time": "2022-04-15T14:37:48.236Z"
   },
   {
    "duration": 134,
    "start_time": "2022-04-15T14:37:48.377Z"
   },
   {
    "duration": 125,
    "start_time": "2022-04-15T14:37:48.513Z"
   },
   {
    "duration": 141,
    "start_time": "2022-04-15T14:37:48.640Z"
   },
   {
    "duration": 8,
    "start_time": "2022-04-15T14:37:48.782Z"
   },
   {
    "duration": 9,
    "start_time": "2022-04-15T14:37:48.792Z"
   },
   {
    "duration": 13,
    "start_time": "2022-04-15T14:37:48.803Z"
   },
   {
    "duration": 9,
    "start_time": "2022-04-15T14:37:48.818Z"
   },
   {
    "duration": 993,
    "start_time": "2022-04-15T14:41:51.536Z"
   },
   {
    "duration": 1332,
    "start_time": "2022-04-15T14:43:22.438Z"
   },
   {
    "duration": 68,
    "start_time": "2022-04-16T11:21:38.809Z"
   },
   {
    "duration": 2230,
    "start_time": "2022-04-16T11:21:49.997Z"
   },
   {
    "duration": 86,
    "start_time": "2022-04-16T11:21:52.230Z"
   },
   {
    "duration": 32,
    "start_time": "2022-04-16T11:21:52.319Z"
   },
   {
    "duration": 39,
    "start_time": "2022-04-16T11:21:52.354Z"
   },
   {
    "duration": 41,
    "start_time": "2022-04-16T11:21:52.397Z"
   },
   {
    "duration": 52,
    "start_time": "2022-04-16T11:21:52.441Z"
   },
   {
    "duration": 36,
    "start_time": "2022-04-16T11:21:52.497Z"
   },
   {
    "duration": 14,
    "start_time": "2022-04-16T11:21:52.535Z"
   },
   {
    "duration": 83,
    "start_time": "2022-04-16T11:21:52.551Z"
   },
   {
    "duration": 33,
    "start_time": "2022-04-16T11:21:52.636Z"
   },
   {
    "duration": 45,
    "start_time": "2022-04-16T11:21:52.672Z"
   },
   {
    "duration": 27,
    "start_time": "2022-04-16T11:21:52.719Z"
   },
   {
    "duration": 29,
    "start_time": "2022-04-16T11:21:52.748Z"
   },
   {
    "duration": 6,
    "start_time": "2022-04-16T11:21:52.782Z"
   },
   {
    "duration": 25,
    "start_time": "2022-04-16T11:21:52.792Z"
   },
   {
    "duration": 43,
    "start_time": "2022-04-16T11:21:52.820Z"
   },
   {
    "duration": 26,
    "start_time": "2022-04-16T11:21:52.867Z"
   },
   {
    "duration": 32,
    "start_time": "2022-04-16T11:21:52.895Z"
   },
   {
    "duration": 27,
    "start_time": "2022-04-16T11:21:52.929Z"
   },
   {
    "duration": 40,
    "start_time": "2022-04-16T11:21:52.959Z"
   },
   {
    "duration": 387,
    "start_time": "2022-04-16T11:21:53.002Z"
   },
   {
    "duration": 449,
    "start_time": "2022-04-16T11:21:53.393Z"
   },
   {
    "duration": 314,
    "start_time": "2022-04-16T11:21:53.845Z"
   },
   {
    "duration": 395,
    "start_time": "2022-04-16T11:21:54.161Z"
   },
   {
    "duration": 560,
    "start_time": "2022-04-16T11:21:54.560Z"
   },
   {
    "duration": 448,
    "start_time": "2022-04-16T11:21:55.122Z"
   },
   {
    "duration": 384,
    "start_time": "2022-04-16T11:21:55.572Z"
   },
   {
    "duration": 283,
    "start_time": "2022-04-16T11:21:55.958Z"
   },
   {
    "duration": 477,
    "start_time": "2022-04-16T11:21:56.243Z"
   },
   {
    "duration": 1705,
    "start_time": "2022-04-16T11:21:56.723Z"
   },
   {
    "duration": 28,
    "start_time": "2022-04-16T11:21:58.431Z"
   },
   {
    "duration": 8,
    "start_time": "2022-04-16T11:21:58.461Z"
   },
   {
    "duration": 285,
    "start_time": "2022-04-16T11:21:58.471Z"
   },
   {
    "duration": 441,
    "start_time": "2022-04-16T11:21:58.759Z"
   },
   {
    "duration": 381,
    "start_time": "2022-04-16T11:21:59.203Z"
   },
   {
    "duration": 194,
    "start_time": "2022-04-16T11:21:59.586Z"
   },
   {
    "duration": 14,
    "start_time": "2022-04-16T11:21:59.783Z"
   },
   {
    "duration": 198,
    "start_time": "2022-04-16T11:21:59.800Z"
   },
   {
    "duration": 7,
    "start_time": "2022-04-16T11:22:00.000Z"
   },
   {
    "duration": 256,
    "start_time": "2022-04-16T11:22:00.009Z"
   },
   {
    "duration": 21,
    "start_time": "2022-04-16T11:22:00.272Z"
   },
   {
    "duration": 315,
    "start_time": "2022-04-16T11:22:00.295Z"
   },
   {
    "duration": 8,
    "start_time": "2022-04-16T11:22:00.612Z"
   },
   {
    "duration": 28,
    "start_time": "2022-04-16T11:22:00.621Z"
   },
   {
    "duration": 289,
    "start_time": "2022-04-16T11:22:00.651Z"
   },
   {
    "duration": 285,
    "start_time": "2022-04-16T11:22:00.942Z"
   },
   {
    "duration": 26,
    "start_time": "2022-04-16T11:22:01.229Z"
   },
   {
    "duration": 46,
    "start_time": "2022-04-16T11:22:01.258Z"
   },
   {
    "duration": 35,
    "start_time": "2022-04-16T11:22:01.307Z"
   },
   {
    "duration": 6,
    "start_time": "2022-04-16T11:22:01.344Z"
   },
   {
    "duration": 158,
    "start_time": "2022-04-16T11:22:01.352Z"
   },
   {
    "duration": 191,
    "start_time": "2022-04-16T11:22:01.513Z"
   },
   {
    "duration": 31,
    "start_time": "2022-04-16T11:22:01.706Z"
   },
   {
    "duration": 15,
    "start_time": "2022-04-16T11:22:01.740Z"
   },
   {
    "duration": 163,
    "start_time": "2022-04-16T11:22:01.757Z"
   },
   {
    "duration": 309,
    "start_time": "2022-04-16T11:22:01.922Z"
   },
   {
    "duration": 31,
    "start_time": "2022-04-16T11:22:02.233Z"
   },
   {
    "duration": 7,
    "start_time": "2022-04-16T11:22:02.267Z"
   },
   {
    "duration": 155,
    "start_time": "2022-04-16T11:22:02.294Z"
   },
   {
    "duration": 190,
    "start_time": "2022-04-16T11:22:02.452Z"
   },
   {
    "duration": 194,
    "start_time": "2022-04-16T11:22:02.645Z"
   },
   {
    "duration": 209,
    "start_time": "2022-04-16T11:22:02.841Z"
   },
   {
    "duration": 215,
    "start_time": "2022-04-16T11:22:03.053Z"
   },
   {
    "duration": 218,
    "start_time": "2022-04-16T11:22:03.271Z"
   },
   {
    "duration": 206,
    "start_time": "2022-04-16T11:22:03.494Z"
   },
   {
    "duration": 220,
    "start_time": "2022-04-16T11:22:03.703Z"
   },
   {
    "duration": 10,
    "start_time": "2022-04-16T11:22:03.926Z"
   },
   {
    "duration": 11,
    "start_time": "2022-04-16T11:22:03.938Z"
   },
   {
    "duration": 12,
    "start_time": "2022-04-16T11:22:03.951Z"
   },
   {
    "duration": 33,
    "start_time": "2022-04-16T11:22:03.965Z"
   },
   {
    "duration": 185,
    "start_time": "2022-04-16T11:23:04.125Z"
   },
   {
    "duration": 186,
    "start_time": "2022-04-16T11:23:07.066Z"
   },
   {
    "duration": 75,
    "start_time": "2022-04-21T11:34:31.362Z"
   },
   {
    "duration": 1991,
    "start_time": "2022-04-21T11:34:38.708Z"
   },
   {
    "duration": 81,
    "start_time": "2022-04-21T11:34:40.703Z"
   },
   {
    "duration": 21,
    "start_time": "2022-04-21T11:34:40.786Z"
   },
   {
    "duration": 17,
    "start_time": "2022-04-21T11:34:40.809Z"
   },
   {
    "duration": 49,
    "start_time": "2022-04-21T11:34:40.830Z"
   },
   {
    "duration": 23,
    "start_time": "2022-04-21T11:34:40.881Z"
   },
   {
    "duration": 63,
    "start_time": "2022-04-21T11:34:40.906Z"
   },
   {
    "duration": 15,
    "start_time": "2022-04-21T11:34:40.971Z"
   },
   {
    "duration": 25,
    "start_time": "2022-04-21T11:34:40.988Z"
   },
   {
    "duration": 28,
    "start_time": "2022-04-21T11:34:41.015Z"
   },
   {
    "duration": 37,
    "start_time": "2022-04-21T11:34:41.045Z"
   },
   {
    "duration": 17,
    "start_time": "2022-04-21T11:34:41.084Z"
   },
   {
    "duration": 23,
    "start_time": "2022-04-21T11:34:41.103Z"
   },
   {
    "duration": 27,
    "start_time": "2022-04-21T11:34:41.130Z"
   },
   {
    "duration": 26,
    "start_time": "2022-04-21T11:34:41.159Z"
   },
   {
    "duration": 31,
    "start_time": "2022-04-21T11:34:41.188Z"
   },
   {
    "duration": 42,
    "start_time": "2022-04-21T11:34:41.222Z"
   },
   {
    "duration": 34,
    "start_time": "2022-04-21T11:34:41.267Z"
   },
   {
    "duration": 38,
    "start_time": "2022-04-21T11:34:41.304Z"
   },
   {
    "duration": 13,
    "start_time": "2022-04-21T11:34:41.352Z"
   },
   {
    "duration": 239,
    "start_time": "2022-04-21T11:34:41.368Z"
   },
   {
    "duration": 426,
    "start_time": "2022-04-21T11:34:41.610Z"
   },
   {
    "duration": 288,
    "start_time": "2022-04-21T11:34:42.038Z"
   },
   {
    "duration": 307,
    "start_time": "2022-04-21T11:34:42.329Z"
   },
   {
    "duration": 365,
    "start_time": "2022-04-21T11:34:42.638Z"
   },
   {
    "duration": 292,
    "start_time": "2022-04-21T11:34:43.006Z"
   },
   {
    "duration": 297,
    "start_time": "2022-04-21T11:34:43.300Z"
   },
   {
    "duration": 339,
    "start_time": "2022-04-21T11:34:43.601Z"
   },
   {
    "duration": 401,
    "start_time": "2022-04-21T11:34:43.943Z"
   },
   {
    "duration": 2018,
    "start_time": "2022-04-21T11:34:44.347Z"
   },
   {
    "duration": 40,
    "start_time": "2022-04-21T11:34:46.368Z"
   },
   {
    "duration": 11,
    "start_time": "2022-04-21T11:34:46.410Z"
   },
   {
    "duration": 358,
    "start_time": "2022-04-21T11:34:46.451Z"
   },
   {
    "duration": 519,
    "start_time": "2022-04-21T11:34:46.812Z"
   },
   {
    "duration": 547,
    "start_time": "2022-04-21T11:34:47.334Z"
   },
   {
    "duration": 271,
    "start_time": "2022-04-21T11:34:47.883Z"
   },
   {
    "duration": 7,
    "start_time": "2022-04-21T11:34:48.158Z"
   },
   {
    "duration": 199,
    "start_time": "2022-04-21T11:34:48.168Z"
   },
   {
    "duration": 8,
    "start_time": "2022-04-21T11:34:48.370Z"
   },
   {
    "duration": 371,
    "start_time": "2022-04-21T11:34:48.381Z"
   },
   {
    "duration": 9,
    "start_time": "2022-04-21T11:34:48.762Z"
   },
   {
    "duration": 299,
    "start_time": "2022-04-21T11:34:48.774Z"
   },
   {
    "duration": 9,
    "start_time": "2022-04-21T11:34:49.076Z"
   },
   {
    "duration": 12,
    "start_time": "2022-04-21T11:34:49.087Z"
   },
   {
    "duration": 398,
    "start_time": "2022-04-21T11:34:49.102Z"
   },
   {
    "duration": 341,
    "start_time": "2022-04-21T11:34:49.503Z"
   },
   {
    "duration": 26,
    "start_time": "2022-04-21T11:34:49.846Z"
   },
   {
    "duration": 26,
    "start_time": "2022-04-21T11:34:49.875Z"
   },
   {
    "duration": 68,
    "start_time": "2022-04-21T11:34:49.903Z"
   },
   {
    "duration": 6,
    "start_time": "2022-04-21T11:34:49.973Z"
   },
   {
    "duration": 214,
    "start_time": "2022-04-21T11:34:49.982Z"
   },
   {
    "duration": 197,
    "start_time": "2022-04-21T11:34:50.199Z"
   },
   {
    "duration": 27,
    "start_time": "2022-04-21T11:34:50.399Z"
   },
   {
    "duration": 26,
    "start_time": "2022-04-21T11:34:50.428Z"
   },
   {
    "duration": 152,
    "start_time": "2022-04-21T11:34:50.456Z"
   },
   {
    "duration": 451,
    "start_time": "2022-04-21T11:34:50.610Z"
   },
   {
    "duration": 29,
    "start_time": "2022-04-21T11:34:51.064Z"
   },
   {
    "duration": 14,
    "start_time": "2022-04-21T11:34:51.095Z"
   },
   {
    "duration": 229,
    "start_time": "2022-04-21T11:34:51.111Z"
   },
   {
    "duration": 277,
    "start_time": "2022-04-21T11:34:51.342Z"
   },
   {
    "duration": 289,
    "start_time": "2022-04-21T11:34:51.621Z"
   },
   {
    "duration": 223,
    "start_time": "2022-04-21T11:34:51.913Z"
   },
   {
    "duration": 221,
    "start_time": "2022-04-21T11:34:52.139Z"
   },
   {
    "duration": 211,
    "start_time": "2022-04-21T11:34:52.363Z"
   },
   {
    "duration": 200,
    "start_time": "2022-04-21T11:34:52.577Z"
   },
   {
    "duration": 216,
    "start_time": "2022-04-21T11:34:52.779Z"
   },
   {
    "duration": 10,
    "start_time": "2022-04-21T11:34:52.998Z"
   },
   {
    "duration": 21,
    "start_time": "2022-04-21T11:34:53.010Z"
   },
   {
    "duration": 42,
    "start_time": "2022-04-21T11:34:53.034Z"
   },
   {
    "duration": 30,
    "start_time": "2022-04-21T11:34:53.078Z"
   },
   {
    "duration": 33,
    "start_time": "2022-04-21T11:35:19.572Z"
   },
   {
    "duration": 28,
    "start_time": "2022-04-21T11:35:33.448Z"
   },
   {
    "duration": 29,
    "start_time": "2022-04-21T11:35:55.491Z"
   },
   {
    "duration": 49,
    "start_time": "2022-04-26T10:57:54.954Z"
   },
   {
    "duration": 1540,
    "start_time": "2022-04-26T10:57:59.485Z"
   },
   {
    "duration": 60,
    "start_time": "2022-04-26T10:58:01.027Z"
   },
   {
    "duration": 20,
    "start_time": "2022-04-26T10:58:01.088Z"
   },
   {
    "duration": 10,
    "start_time": "2022-04-26T10:58:01.110Z"
   },
   {
    "duration": 21,
    "start_time": "2022-04-26T10:58:01.122Z"
   },
   {
    "duration": 4,
    "start_time": "2022-04-26T10:58:01.145Z"
   },
   {
    "duration": 25,
    "start_time": "2022-04-26T10:58:01.151Z"
   },
   {
    "duration": 45,
    "start_time": "2022-04-26T10:58:01.177Z"
   },
   {
    "duration": 10,
    "start_time": "2022-04-26T10:58:01.224Z"
   },
   {
    "duration": 11,
    "start_time": "2022-04-26T10:58:01.236Z"
   },
   {
    "duration": 13,
    "start_time": "2022-04-26T10:58:01.248Z"
   },
   {
    "duration": 31,
    "start_time": "2022-04-26T10:58:01.262Z"
   },
   {
    "duration": 30,
    "start_time": "2022-04-26T10:58:01.294Z"
   },
   {
    "duration": 38,
    "start_time": "2022-04-26T10:58:01.326Z"
   },
   {
    "duration": 16,
    "start_time": "2022-04-26T10:58:01.365Z"
   },
   {
    "duration": 33,
    "start_time": "2022-04-26T10:58:01.382Z"
   },
   {
    "duration": 23,
    "start_time": "2022-04-26T10:58:01.417Z"
   },
   {
    "duration": 21,
    "start_time": "2022-04-26T10:58:01.441Z"
   },
   {
    "duration": 34,
    "start_time": "2022-04-26T10:58:01.464Z"
   },
   {
    "duration": 22,
    "start_time": "2022-04-26T10:58:01.500Z"
   },
   {
    "duration": 8,
    "start_time": "2022-04-26T10:58:01.524Z"
   },
   {
    "duration": 164,
    "start_time": "2022-04-26T10:58:01.533Z"
   },
   {
    "duration": 290,
    "start_time": "2022-04-26T10:58:01.707Z"
   },
   {
    "duration": 194,
    "start_time": "2022-04-26T10:58:01.999Z"
   },
   {
    "duration": 204,
    "start_time": "2022-04-26T10:58:02.196Z"
   },
   {
    "duration": 266,
    "start_time": "2022-04-26T10:58:02.407Z"
   },
   {
    "duration": 194,
    "start_time": "2022-04-26T10:58:02.675Z"
   },
   {
    "duration": 185,
    "start_time": "2022-04-26T10:58:02.873Z"
   },
   {
    "duration": 350,
    "start_time": "2022-04-26T10:58:03.059Z"
   },
   {
    "duration": 534,
    "start_time": "2022-04-26T10:58:03.411Z"
   },
   {
    "duration": 1502,
    "start_time": "2022-04-26T10:58:03.946Z"
   },
   {
    "duration": 19,
    "start_time": "2022-04-26T10:58:05.449Z"
   },
   {
    "duration": 6,
    "start_time": "2022-04-26T10:58:05.470Z"
   },
   {
    "duration": 196,
    "start_time": "2022-04-26T10:58:05.478Z"
   },
   {
    "duration": 346,
    "start_time": "2022-04-26T10:58:05.676Z"
   },
   {
    "duration": 265,
    "start_time": "2022-04-26T10:58:06.023Z"
   },
   {
    "duration": 136,
    "start_time": "2022-04-26T10:58:06.290Z"
   },
   {
    "duration": 5,
    "start_time": "2022-04-26T10:58:06.427Z"
   },
   {
    "duration": 136,
    "start_time": "2022-04-26T10:58:06.434Z"
   },
   {
    "duration": 5,
    "start_time": "2022-04-26T10:58:06.571Z"
   },
   {
    "duration": 177,
    "start_time": "2022-04-26T10:58:06.578Z"
   },
   {
    "duration": 7,
    "start_time": "2022-04-26T10:58:06.756Z"
   },
   {
    "duration": 152,
    "start_time": "2022-04-26T10:58:06.764Z"
   },
   {
    "duration": 6,
    "start_time": "2022-04-26T10:58:06.917Z"
   },
   {
    "duration": 7,
    "start_time": "2022-04-26T10:58:06.925Z"
   },
   {
    "duration": 203,
    "start_time": "2022-04-26T10:58:06.933Z"
   },
   {
    "duration": 204,
    "start_time": "2022-04-26T10:58:07.138Z"
   },
   {
    "duration": 18,
    "start_time": "2022-04-26T10:58:07.344Z"
   },
   {
    "duration": 13,
    "start_time": "2022-04-26T10:58:07.364Z"
   },
   {
    "duration": 44,
    "start_time": "2022-04-26T10:58:07.379Z"
   },
   {
    "duration": 3,
    "start_time": "2022-04-26T10:58:07.425Z"
   },
   {
    "duration": 111,
    "start_time": "2022-04-26T10:58:07.430Z"
   },
   {
    "duration": 130,
    "start_time": "2022-04-26T10:58:07.543Z"
   },
   {
    "duration": 31,
    "start_time": "2022-04-26T10:58:07.676Z"
   },
   {
    "duration": 4,
    "start_time": "2022-04-26T10:58:07.709Z"
   },
   {
    "duration": 111,
    "start_time": "2022-04-26T10:58:07.715Z"
   },
   {
    "duration": 226,
    "start_time": "2022-04-26T10:58:07.828Z"
   },
   {
    "duration": 21,
    "start_time": "2022-04-26T10:58:08.055Z"
   },
   {
    "duration": 4,
    "start_time": "2022-04-26T10:58:08.077Z"
   },
   {
    "duration": 109,
    "start_time": "2022-04-26T10:58:08.083Z"
   },
   {
    "duration": 128,
    "start_time": "2022-04-26T10:58:08.194Z"
   },
   {
    "duration": 137,
    "start_time": "2022-04-26T10:58:08.324Z"
   },
   {
    "duration": 146,
    "start_time": "2022-04-26T10:58:08.463Z"
   },
   {
    "duration": 146,
    "start_time": "2022-04-26T10:58:08.610Z"
   },
   {
    "duration": 138,
    "start_time": "2022-04-26T10:58:08.757Z"
   },
   {
    "duration": 141,
    "start_time": "2022-04-26T10:58:08.897Z"
   },
   {
    "duration": 147,
    "start_time": "2022-04-26T10:58:09.040Z"
   },
   {
    "duration": 8,
    "start_time": "2022-04-26T10:58:09.188Z"
   },
   {
    "duration": 11,
    "start_time": "2022-04-26T10:58:09.208Z"
   },
   {
    "duration": 12,
    "start_time": "2022-04-26T10:58:09.221Z"
   },
   {
    "duration": 8,
    "start_time": "2022-04-26T10:58:09.235Z"
   },
   {
    "duration": 5,
    "start_time": "2022-04-26T10:58:29.741Z"
   },
   {
    "duration": 2,
    "start_time": "2022-04-26T10:58:30.383Z"
   },
   {
    "duration": 21,
    "start_time": "2022-04-26T10:58:32.313Z"
   },
   {
    "duration": 10,
    "start_time": "2022-04-26T10:58:33.312Z"
   },
   {
    "duration": 5,
    "start_time": "2022-04-26T10:58:33.723Z"
   },
   {
    "duration": 1394,
    "start_time": "2022-04-26T10:58:38.442Z"
   },
   {
    "duration": 58,
    "start_time": "2022-04-26T10:58:39.838Z"
   },
   {
    "duration": 18,
    "start_time": "2022-04-26T10:58:39.898Z"
   },
   {
    "duration": 18,
    "start_time": "2022-04-26T10:58:39.918Z"
   },
   {
    "duration": 22,
    "start_time": "2022-04-26T10:58:39.938Z"
   },
   {
    "duration": 4,
    "start_time": "2022-04-26T10:58:39.962Z"
   },
   {
    "duration": 4,
    "start_time": "2022-04-26T10:58:39.968Z"
   },
   {
    "duration": 133,
    "start_time": "2022-04-26T10:58:39.974Z"
   },
   {
    "duration": 0,
    "start_time": "2022-04-26T10:58:40.112Z"
   },
   {
    "duration": 0,
    "start_time": "2022-04-26T10:58:40.113Z"
   },
   {
    "duration": 0,
    "start_time": "2022-04-26T10:58:40.114Z"
   },
   {
    "duration": 0,
    "start_time": "2022-04-26T10:58:40.115Z"
   },
   {
    "duration": 0,
    "start_time": "2022-04-26T10:58:40.116Z"
   },
   {
    "duration": 0,
    "start_time": "2022-04-26T10:58:40.117Z"
   },
   {
    "duration": 0,
    "start_time": "2022-04-26T10:58:40.118Z"
   },
   {
    "duration": 0,
    "start_time": "2022-04-26T10:58:40.120Z"
   },
   {
    "duration": 0,
    "start_time": "2022-04-26T10:58:40.120Z"
   },
   {
    "duration": 0,
    "start_time": "2022-04-26T10:58:40.121Z"
   },
   {
    "duration": 0,
    "start_time": "2022-04-26T10:58:40.122Z"
   },
   {
    "duration": 0,
    "start_time": "2022-04-26T10:58:40.123Z"
   },
   {
    "duration": 0,
    "start_time": "2022-04-26T10:58:40.124Z"
   },
   {
    "duration": 0,
    "start_time": "2022-04-26T10:58:40.125Z"
   },
   {
    "duration": 0,
    "start_time": "2022-04-26T10:58:40.126Z"
   },
   {
    "duration": 0,
    "start_time": "2022-04-26T10:58:40.127Z"
   },
   {
    "duration": 0,
    "start_time": "2022-04-26T10:58:40.128Z"
   },
   {
    "duration": 0,
    "start_time": "2022-04-26T10:58:40.129Z"
   },
   {
    "duration": 0,
    "start_time": "2022-04-26T10:58:40.130Z"
   },
   {
    "duration": 0,
    "start_time": "2022-04-26T10:58:40.131Z"
   },
   {
    "duration": 0,
    "start_time": "2022-04-26T10:58:40.133Z"
   },
   {
    "duration": 0,
    "start_time": "2022-04-26T10:58:40.134Z"
   },
   {
    "duration": 0,
    "start_time": "2022-04-26T10:58:40.135Z"
   },
   {
    "duration": 0,
    "start_time": "2022-04-26T10:58:40.136Z"
   },
   {
    "duration": 0,
    "start_time": "2022-04-26T10:58:40.137Z"
   },
   {
    "duration": 0,
    "start_time": "2022-04-26T10:58:40.138Z"
   },
   {
    "duration": 0,
    "start_time": "2022-04-26T10:58:40.139Z"
   },
   {
    "duration": 0,
    "start_time": "2022-04-26T10:58:40.140Z"
   },
   {
    "duration": 0,
    "start_time": "2022-04-26T10:58:40.141Z"
   },
   {
    "duration": 0,
    "start_time": "2022-04-26T10:58:40.142Z"
   },
   {
    "duration": 0,
    "start_time": "2022-04-26T10:58:40.142Z"
   },
   {
    "duration": 0,
    "start_time": "2022-04-26T10:58:40.144Z"
   },
   {
    "duration": 0,
    "start_time": "2022-04-26T10:58:40.145Z"
   },
   {
    "duration": 0,
    "start_time": "2022-04-26T10:58:40.146Z"
   },
   {
    "duration": 0,
    "start_time": "2022-04-26T10:58:40.147Z"
   },
   {
    "duration": 0,
    "start_time": "2022-04-26T10:58:40.148Z"
   },
   {
    "duration": 0,
    "start_time": "2022-04-26T10:58:40.149Z"
   },
   {
    "duration": 0,
    "start_time": "2022-04-26T10:58:40.208Z"
   },
   {
    "duration": 0,
    "start_time": "2022-04-26T10:58:40.209Z"
   },
   {
    "duration": 0,
    "start_time": "2022-04-26T10:58:40.210Z"
   },
   {
    "duration": 0,
    "start_time": "2022-04-26T10:58:40.211Z"
   },
   {
    "duration": 0,
    "start_time": "2022-04-26T10:58:40.212Z"
   },
   {
    "duration": 0,
    "start_time": "2022-04-26T10:58:40.213Z"
   },
   {
    "duration": 0,
    "start_time": "2022-04-26T10:58:40.214Z"
   },
   {
    "duration": 0,
    "start_time": "2022-04-26T10:58:40.214Z"
   },
   {
    "duration": 0,
    "start_time": "2022-04-26T10:58:40.215Z"
   },
   {
    "duration": 0,
    "start_time": "2022-04-26T10:58:40.216Z"
   },
   {
    "duration": 0,
    "start_time": "2022-04-26T10:58:40.217Z"
   },
   {
    "duration": 0,
    "start_time": "2022-04-26T10:58:40.218Z"
   },
   {
    "duration": 0,
    "start_time": "2022-04-26T10:58:40.219Z"
   },
   {
    "duration": 0,
    "start_time": "2022-04-26T10:58:40.220Z"
   },
   {
    "duration": 0,
    "start_time": "2022-04-26T10:58:40.221Z"
   },
   {
    "duration": 0,
    "start_time": "2022-04-26T10:58:40.222Z"
   },
   {
    "duration": 0,
    "start_time": "2022-04-26T10:58:40.223Z"
   },
   {
    "duration": 0,
    "start_time": "2022-04-26T10:58:40.224Z"
   },
   {
    "duration": 0,
    "start_time": "2022-04-26T10:58:40.225Z"
   },
   {
    "duration": 0,
    "start_time": "2022-04-26T10:58:40.226Z"
   },
   {
    "duration": 0,
    "start_time": "2022-04-26T10:58:40.227Z"
   },
   {
    "duration": 0,
    "start_time": "2022-04-26T10:58:40.228Z"
   },
   {
    "duration": 0,
    "start_time": "2022-04-26T10:58:40.229Z"
   },
   {
    "duration": 0,
    "start_time": "2022-04-26T10:58:40.230Z"
   },
   {
    "duration": 0,
    "start_time": "2022-04-26T10:58:40.231Z"
   },
   {
    "duration": 0,
    "start_time": "2022-04-26T10:58:40.232Z"
   },
   {
    "duration": 3,
    "start_time": "2022-04-26T10:58:59.102Z"
   },
   {
    "duration": 9,
    "start_time": "2022-04-26T10:59:02.209Z"
   },
   {
    "duration": 1490,
    "start_time": "2022-04-26T10:59:09.351Z"
   },
   {
    "duration": 61,
    "start_time": "2022-04-26T10:59:10.843Z"
   },
   {
    "duration": 16,
    "start_time": "2022-04-26T10:59:10.905Z"
   },
   {
    "duration": 11,
    "start_time": "2022-04-26T10:59:10.924Z"
   },
   {
    "duration": 21,
    "start_time": "2022-04-26T10:59:10.936Z"
   },
   {
    "duration": 4,
    "start_time": "2022-04-26T10:59:10.958Z"
   },
   {
    "duration": 4,
    "start_time": "2022-04-26T10:59:10.964Z"
   },
   {
    "duration": 149,
    "start_time": "2022-04-26T10:59:10.970Z"
   },
   {
    "duration": 0,
    "start_time": "2022-04-26T10:59:11.123Z"
   },
   {
    "duration": 0,
    "start_time": "2022-04-26T10:59:11.125Z"
   },
   {
    "duration": 0,
    "start_time": "2022-04-26T10:59:11.125Z"
   },
   {
    "duration": 0,
    "start_time": "2022-04-26T10:59:11.127Z"
   },
   {
    "duration": 0,
    "start_time": "2022-04-26T10:59:11.128Z"
   },
   {
    "duration": 0,
    "start_time": "2022-04-26T10:59:11.129Z"
   },
   {
    "duration": 0,
    "start_time": "2022-04-26T10:59:11.130Z"
   },
   {
    "duration": 0,
    "start_time": "2022-04-26T10:59:11.131Z"
   },
   {
    "duration": 0,
    "start_time": "2022-04-26T10:59:11.132Z"
   },
   {
    "duration": 0,
    "start_time": "2022-04-26T10:59:11.133Z"
   },
   {
    "duration": 0,
    "start_time": "2022-04-26T10:59:11.135Z"
   },
   {
    "duration": 0,
    "start_time": "2022-04-26T10:59:11.136Z"
   },
   {
    "duration": 0,
    "start_time": "2022-04-26T10:59:11.137Z"
   },
   {
    "duration": 0,
    "start_time": "2022-04-26T10:59:11.138Z"
   },
   {
    "duration": 0,
    "start_time": "2022-04-26T10:59:11.139Z"
   },
   {
    "duration": 0,
    "start_time": "2022-04-26T10:59:11.140Z"
   },
   {
    "duration": 0,
    "start_time": "2022-04-26T10:59:11.141Z"
   },
   {
    "duration": 0,
    "start_time": "2022-04-26T10:59:11.142Z"
   },
   {
    "duration": 0,
    "start_time": "2022-04-26T10:59:11.143Z"
   },
   {
    "duration": 0,
    "start_time": "2022-04-26T10:59:11.144Z"
   },
   {
    "duration": 0,
    "start_time": "2022-04-26T10:59:11.145Z"
   },
   {
    "duration": 0,
    "start_time": "2022-04-26T10:59:11.146Z"
   },
   {
    "duration": 0,
    "start_time": "2022-04-26T10:59:11.148Z"
   },
   {
    "duration": 0,
    "start_time": "2022-04-26T10:59:11.149Z"
   },
   {
    "duration": 0,
    "start_time": "2022-04-26T10:59:11.149Z"
   },
   {
    "duration": 0,
    "start_time": "2022-04-26T10:59:11.150Z"
   },
   {
    "duration": 0,
    "start_time": "2022-04-26T10:59:11.151Z"
   },
   {
    "duration": 0,
    "start_time": "2022-04-26T10:59:11.152Z"
   },
   {
    "duration": 0,
    "start_time": "2022-04-26T10:59:11.154Z"
   },
   {
    "duration": 0,
    "start_time": "2022-04-26T10:59:11.154Z"
   },
   {
    "duration": 0,
    "start_time": "2022-04-26T10:59:11.207Z"
   },
   {
    "duration": 0,
    "start_time": "2022-04-26T10:59:11.208Z"
   },
   {
    "duration": 0,
    "start_time": "2022-04-26T10:59:11.209Z"
   },
   {
    "duration": 0,
    "start_time": "2022-04-26T10:59:11.210Z"
   },
   {
    "duration": 0,
    "start_time": "2022-04-26T10:59:11.211Z"
   },
   {
    "duration": 0,
    "start_time": "2022-04-26T10:59:11.213Z"
   },
   {
    "duration": 0,
    "start_time": "2022-04-26T10:59:11.214Z"
   },
   {
    "duration": 0,
    "start_time": "2022-04-26T10:59:11.216Z"
   },
   {
    "duration": 0,
    "start_time": "2022-04-26T10:59:11.218Z"
   },
   {
    "duration": 0,
    "start_time": "2022-04-26T10:59:11.219Z"
   },
   {
    "duration": 0,
    "start_time": "2022-04-26T10:59:11.220Z"
   },
   {
    "duration": 0,
    "start_time": "2022-04-26T10:59:11.221Z"
   },
   {
    "duration": 0,
    "start_time": "2022-04-26T10:59:11.222Z"
   },
   {
    "duration": 0,
    "start_time": "2022-04-26T10:59:11.223Z"
   },
   {
    "duration": 0,
    "start_time": "2022-04-26T10:59:11.224Z"
   },
   {
    "duration": 0,
    "start_time": "2022-04-26T10:59:11.225Z"
   },
   {
    "duration": 0,
    "start_time": "2022-04-26T10:59:11.226Z"
   },
   {
    "duration": 0,
    "start_time": "2022-04-26T10:59:11.227Z"
   },
   {
    "duration": 0,
    "start_time": "2022-04-26T10:59:11.228Z"
   },
   {
    "duration": 0,
    "start_time": "2022-04-26T10:59:11.229Z"
   },
   {
    "duration": 0,
    "start_time": "2022-04-26T10:59:11.230Z"
   },
   {
    "duration": 0,
    "start_time": "2022-04-26T10:59:11.231Z"
   },
   {
    "duration": 0,
    "start_time": "2022-04-26T10:59:11.232Z"
   },
   {
    "duration": 0,
    "start_time": "2022-04-26T10:59:11.233Z"
   },
   {
    "duration": 0,
    "start_time": "2022-04-26T10:59:11.234Z"
   },
   {
    "duration": 0,
    "start_time": "2022-04-26T10:59:11.235Z"
   },
   {
    "duration": 0,
    "start_time": "2022-04-26T10:59:11.236Z"
   },
   {
    "duration": 0,
    "start_time": "2022-04-26T10:59:11.237Z"
   },
   {
    "duration": 0,
    "start_time": "2022-04-26T10:59:11.238Z"
   },
   {
    "duration": 0,
    "start_time": "2022-04-26T10:59:11.239Z"
   },
   {
    "duration": 0,
    "start_time": "2022-04-26T10:59:11.240Z"
   },
   {
    "duration": 1,
    "start_time": "2022-04-26T10:59:11.241Z"
   },
   {
    "duration": 1,
    "start_time": "2022-04-26T10:59:11.242Z"
   },
   {
    "duration": 9,
    "start_time": "2022-04-26T11:01:59.998Z"
   },
   {
    "duration": 1493,
    "start_time": "2022-04-26T11:02:06.626Z"
   },
   {
    "duration": 58,
    "start_time": "2022-04-26T11:02:08.121Z"
   },
   {
    "duration": 17,
    "start_time": "2022-04-26T11:02:08.181Z"
   },
   {
    "duration": 10,
    "start_time": "2022-04-26T11:02:08.207Z"
   },
   {
    "duration": 32,
    "start_time": "2022-04-26T11:02:08.219Z"
   },
   {
    "duration": 15,
    "start_time": "2022-04-26T11:02:08.253Z"
   },
   {
    "duration": 13,
    "start_time": "2022-04-26T11:02:08.270Z"
   },
   {
    "duration": 41,
    "start_time": "2022-04-26T11:02:08.284Z"
   },
   {
    "duration": 11,
    "start_time": "2022-04-26T11:02:08.327Z"
   },
   {
    "duration": 15,
    "start_time": "2022-04-26T11:02:08.340Z"
   },
   {
    "duration": 11,
    "start_time": "2022-04-26T11:02:08.357Z"
   },
   {
    "duration": 40,
    "start_time": "2022-04-26T11:02:08.369Z"
   },
   {
    "duration": 5,
    "start_time": "2022-04-26T11:02:08.411Z"
   },
   {
    "duration": 24,
    "start_time": "2022-04-26T11:02:08.419Z"
   },
   {
    "duration": 5,
    "start_time": "2022-04-26T11:02:08.445Z"
   },
   {
    "duration": 20,
    "start_time": "2022-04-26T11:02:08.452Z"
   },
   {
    "duration": 21,
    "start_time": "2022-04-26T11:02:08.474Z"
   },
   {
    "duration": 15,
    "start_time": "2022-04-26T11:02:08.506Z"
   },
   {
    "duration": 20,
    "start_time": "2022-04-26T11:02:08.523Z"
   },
   {
    "duration": 18,
    "start_time": "2022-04-26T11:02:08.545Z"
   },
   {
    "duration": 15,
    "start_time": "2022-04-26T11:02:08.564Z"
   },
   {
    "duration": 172,
    "start_time": "2022-04-26T11:02:08.608Z"
   },
   {
    "duration": 309,
    "start_time": "2022-04-26T11:02:08.782Z"
   },
   {
    "duration": 219,
    "start_time": "2022-04-26T11:02:09.093Z"
   },
   {
    "duration": 428,
    "start_time": "2022-04-26T11:02:09.314Z"
   },
   {
    "duration": 580,
    "start_time": "2022-04-26T11:02:09.744Z"
   },
   {
    "duration": 405,
    "start_time": "2022-04-26T11:02:10.326Z"
   },
   {
    "duration": 253,
    "start_time": "2022-04-26T11:02:10.733Z"
   },
   {
    "duration": 186,
    "start_time": "2022-04-26T11:02:10.988Z"
   },
   {
    "duration": 261,
    "start_time": "2022-04-26T11:02:11.176Z"
   },
   {
    "duration": 1107,
    "start_time": "2022-04-26T11:02:11.439Z"
   },
   {
    "duration": 19,
    "start_time": "2022-04-26T11:02:12.548Z"
   },
   {
    "duration": 7,
    "start_time": "2022-04-26T11:02:12.569Z"
   },
   {
    "duration": 195,
    "start_time": "2022-04-26T11:02:12.578Z"
   },
   {
    "duration": 354,
    "start_time": "2022-04-26T11:02:12.775Z"
   },
   {
    "duration": 276,
    "start_time": "2022-04-26T11:02:13.131Z"
   },
   {
    "duration": 139,
    "start_time": "2022-04-26T11:02:13.409Z"
   },
   {
    "duration": 6,
    "start_time": "2022-04-26T11:02:13.550Z"
   },
   {
    "duration": 139,
    "start_time": "2022-04-26T11:02:13.557Z"
   },
   {
    "duration": 10,
    "start_time": "2022-04-26T11:02:13.698Z"
   },
   {
    "duration": 175,
    "start_time": "2022-04-26T11:02:13.712Z"
   },
   {
    "duration": 7,
    "start_time": "2022-04-26T11:02:13.889Z"
   },
   {
    "duration": 151,
    "start_time": "2022-04-26T11:02:13.898Z"
   },
   {
    "duration": 6,
    "start_time": "2022-04-26T11:02:14.051Z"
   },
   {
    "duration": 10,
    "start_time": "2022-04-26T11:02:14.058Z"
   },
   {
    "duration": 207,
    "start_time": "2022-04-26T11:02:14.070Z"
   },
   {
    "duration": 201,
    "start_time": "2022-04-26T11:02:14.278Z"
   },
   {
    "duration": 27,
    "start_time": "2022-04-26T11:02:14.481Z"
   },
   {
    "duration": 12,
    "start_time": "2022-04-26T11:02:14.510Z"
   },
   {
    "duration": 22,
    "start_time": "2022-04-26T11:02:14.524Z"
   },
   {
    "duration": 4,
    "start_time": "2022-04-26T11:02:14.547Z"
   },
   {
    "duration": 127,
    "start_time": "2022-04-26T11:02:14.553Z"
   },
   {
    "duration": 136,
    "start_time": "2022-04-26T11:02:14.682Z"
   },
   {
    "duration": 22,
    "start_time": "2022-04-26T11:02:14.820Z"
   },
   {
    "duration": 4,
    "start_time": "2022-04-26T11:02:14.843Z"
   },
   {
    "duration": 119,
    "start_time": "2022-04-26T11:02:14.849Z"
   },
   {
    "duration": 244,
    "start_time": "2022-04-26T11:02:14.970Z"
   },
   {
    "duration": 21,
    "start_time": "2022-04-26T11:02:15.216Z"
   },
   {
    "duration": 4,
    "start_time": "2022-04-26T11:02:15.239Z"
   },
   {
    "duration": 117,
    "start_time": "2022-04-26T11:02:15.244Z"
   },
   {
    "duration": 140,
    "start_time": "2022-04-26T11:02:15.362Z"
   },
   {
    "duration": 136,
    "start_time": "2022-04-26T11:02:15.504Z"
   },
   {
    "duration": 155,
    "start_time": "2022-04-26T11:02:15.641Z"
   },
   {
    "duration": 149,
    "start_time": "2022-04-26T11:02:15.798Z"
   },
   {
    "duration": 148,
    "start_time": "2022-04-26T11:02:15.949Z"
   },
   {
    "duration": 138,
    "start_time": "2022-04-26T11:02:16.099Z"
   },
   {
    "duration": 150,
    "start_time": "2022-04-26T11:02:16.239Z"
   },
   {
    "duration": 18,
    "start_time": "2022-04-26T11:02:16.391Z"
   },
   {
    "duration": 9,
    "start_time": "2022-04-26T11:02:16.411Z"
   },
   {
    "duration": 11,
    "start_time": "2022-04-26T11:02:16.422Z"
   },
   {
    "duration": 7,
    "start_time": "2022-04-26T11:02:16.435Z"
   },
   {
    "duration": 1754,
    "start_time": "2022-05-08T14:47:07.968Z"
   },
   {
    "duration": 59,
    "start_time": "2022-05-08T14:47:09.725Z"
   },
   {
    "duration": 16,
    "start_time": "2022-05-08T14:47:09.785Z"
   },
   {
    "duration": 10,
    "start_time": "2022-05-08T14:47:09.804Z"
   },
   {
    "duration": 20,
    "start_time": "2022-05-08T14:47:09.816Z"
   },
   {
    "duration": 15,
    "start_time": "2022-05-08T14:47:09.838Z"
   },
   {
    "duration": 38,
    "start_time": "2022-05-08T14:47:09.855Z"
   },
   {
    "duration": 25,
    "start_time": "2022-05-08T14:47:09.895Z"
   },
   {
    "duration": 11,
    "start_time": "2022-05-08T14:47:09.923Z"
   },
   {
    "duration": 6,
    "start_time": "2022-05-08T14:47:09.937Z"
   },
   {
    "duration": 13,
    "start_time": "2022-05-08T14:47:09.945Z"
   },
   {
    "duration": 19,
    "start_time": "2022-05-08T14:47:09.993Z"
   },
   {
    "duration": 5,
    "start_time": "2022-05-08T14:47:10.014Z"
   },
   {
    "duration": 15,
    "start_time": "2022-05-08T14:47:10.021Z"
   },
   {
    "duration": 5,
    "start_time": "2022-05-08T14:47:10.038Z"
   },
   {
    "duration": 11,
    "start_time": "2022-05-08T14:47:10.045Z"
   },
   {
    "duration": 47,
    "start_time": "2022-05-08T14:47:10.058Z"
   },
   {
    "duration": 13,
    "start_time": "2022-05-08T14:47:10.107Z"
   },
   {
    "duration": 20,
    "start_time": "2022-05-08T14:47:10.122Z"
   },
   {
    "duration": 17,
    "start_time": "2022-05-08T14:47:10.143Z"
   },
   {
    "duration": 9,
    "start_time": "2022-05-08T14:47:10.193Z"
   },
   {
    "duration": 158,
    "start_time": "2022-05-08T14:47:10.204Z"
   },
   {
    "duration": 268,
    "start_time": "2022-05-08T14:47:10.363Z"
   },
   {
    "duration": 180,
    "start_time": "2022-05-08T14:47:10.632Z"
   },
   {
    "duration": 179,
    "start_time": "2022-05-08T14:47:10.813Z"
   },
   {
    "duration": 252,
    "start_time": "2022-05-08T14:47:10.994Z"
   },
   {
    "duration": 175,
    "start_time": "2022-05-08T14:47:11.248Z"
   },
   {
    "duration": 172,
    "start_time": "2022-05-08T14:47:11.427Z"
   },
   {
    "duration": 177,
    "start_time": "2022-05-08T14:47:11.602Z"
   },
   {
    "duration": 268,
    "start_time": "2022-05-08T14:47:11.781Z"
   },
   {
    "duration": 1058,
    "start_time": "2022-05-08T14:47:12.051Z"
   },
   {
    "duration": 20,
    "start_time": "2022-05-08T14:47:13.111Z"
   },
   {
    "duration": 5,
    "start_time": "2022-05-08T14:47:13.133Z"
   },
   {
    "duration": 175,
    "start_time": "2022-05-08T14:47:13.140Z"
   },
   {
    "duration": 326,
    "start_time": "2022-05-08T14:47:13.316Z"
   },
   {
    "duration": 241,
    "start_time": "2022-05-08T14:47:13.644Z"
   },
   {
    "duration": 130,
    "start_time": "2022-05-08T14:47:13.887Z"
   },
   {
    "duration": 6,
    "start_time": "2022-05-08T14:47:14.019Z"
   },
   {
    "duration": 122,
    "start_time": "2022-05-08T14:47:14.027Z"
   },
   {
    "duration": 5,
    "start_time": "2022-05-08T14:47:14.151Z"
   },
   {
    "duration": 168,
    "start_time": "2022-05-08T14:47:14.158Z"
   },
   {
    "duration": 6,
    "start_time": "2022-05-08T14:47:14.328Z"
   },
   {
    "duration": 139,
    "start_time": "2022-05-08T14:47:14.336Z"
   },
   {
    "duration": 7,
    "start_time": "2022-05-08T14:47:14.477Z"
   },
   {
    "duration": 7,
    "start_time": "2022-05-08T14:47:14.492Z"
   },
   {
    "duration": 173,
    "start_time": "2022-05-08T14:47:14.501Z"
   },
   {
    "duration": 177,
    "start_time": "2022-05-08T14:47:14.677Z"
   },
   {
    "duration": 36,
    "start_time": "2022-05-08T14:47:14.857Z"
   },
   {
    "duration": 12,
    "start_time": "2022-05-08T14:47:14.895Z"
   },
   {
    "duration": 21,
    "start_time": "2022-05-08T14:47:14.908Z"
   },
   {
    "duration": 4,
    "start_time": "2022-05-08T14:47:14.931Z"
   },
   {
    "duration": 120,
    "start_time": "2022-05-08T14:47:14.937Z"
   },
   {
    "duration": 123,
    "start_time": "2022-05-08T14:47:15.059Z"
   },
   {
    "duration": 26,
    "start_time": "2022-05-08T14:47:15.185Z"
   },
   {
    "duration": 4,
    "start_time": "2022-05-08T14:47:15.214Z"
   },
   {
    "duration": 100,
    "start_time": "2022-05-08T14:47:15.220Z"
   },
   {
    "duration": 228,
    "start_time": "2022-05-08T14:47:15.322Z"
   },
   {
    "duration": 20,
    "start_time": "2022-05-08T14:47:15.552Z"
   },
   {
    "duration": 19,
    "start_time": "2022-05-08T14:47:15.574Z"
   },
   {
    "duration": 98,
    "start_time": "2022-05-08T14:47:15.594Z"
   },
   {
    "duration": 126,
    "start_time": "2022-05-08T14:47:15.694Z"
   },
   {
    "duration": 118,
    "start_time": "2022-05-08T14:47:15.822Z"
   },
   {
    "duration": 136,
    "start_time": "2022-05-08T14:47:15.941Z"
   },
   {
    "duration": 140,
    "start_time": "2022-05-08T14:47:16.078Z"
   },
   {
    "duration": 130,
    "start_time": "2022-05-08T14:47:16.220Z"
   },
   {
    "duration": 117,
    "start_time": "2022-05-08T14:47:16.351Z"
   },
   {
    "duration": 125,
    "start_time": "2022-05-08T14:47:16.470Z"
   },
   {
    "duration": 8,
    "start_time": "2022-05-08T14:47:16.597Z"
   },
   {
    "duration": 8,
    "start_time": "2022-05-08T14:47:16.606Z"
   },
   {
    "duration": 10,
    "start_time": "2022-05-08T14:47:16.616Z"
   },
   {
    "duration": 8,
    "start_time": "2022-05-08T14:47:16.628Z"
   },
   {
    "duration": 23,
    "start_time": "2022-05-08T14:48:06.502Z"
   },
   {
    "duration": 19,
    "start_time": "2022-05-08T14:48:12.862Z"
   },
   {
    "duration": 5,
    "start_time": "2022-05-08T14:48:18.487Z"
   },
   {
    "duration": 72,
    "start_time": "2022-05-15T19:44:27.377Z"
   },
   {
    "duration": 2075,
    "start_time": "2022-05-15T19:44:35.775Z"
   },
   {
    "duration": 82,
    "start_time": "2022-05-15T19:44:37.854Z"
   },
   {
    "duration": 22,
    "start_time": "2022-05-15T19:44:37.938Z"
   },
   {
    "duration": 28,
    "start_time": "2022-05-15T19:44:37.963Z"
   },
   {
    "duration": 27,
    "start_time": "2022-05-15T19:44:37.993Z"
   },
   {
    "duration": 21,
    "start_time": "2022-05-15T19:44:38.022Z"
   },
   {
    "duration": 37,
    "start_time": "2022-05-15T19:44:38.045Z"
   },
   {
    "duration": 47,
    "start_time": "2022-05-15T19:44:38.084Z"
   },
   {
    "duration": 15,
    "start_time": "2022-05-15T19:44:38.133Z"
   },
   {
    "duration": 31,
    "start_time": "2022-05-15T19:44:38.154Z"
   },
   {
    "duration": 20,
    "start_time": "2022-05-15T19:44:38.188Z"
   },
   {
    "duration": 27,
    "start_time": "2022-05-15T19:44:38.211Z"
   },
   {
    "duration": 7,
    "start_time": "2022-05-15T19:44:38.240Z"
   },
   {
    "duration": 21,
    "start_time": "2022-05-15T19:44:38.281Z"
   },
   {
    "duration": 7,
    "start_time": "2022-05-15T19:44:38.304Z"
   },
   {
    "duration": 14,
    "start_time": "2022-05-15T19:44:38.313Z"
   },
   {
    "duration": 53,
    "start_time": "2022-05-15T19:44:38.330Z"
   },
   {
    "duration": 18,
    "start_time": "2022-05-15T19:44:38.385Z"
   },
   {
    "duration": 27,
    "start_time": "2022-05-15T19:44:38.405Z"
   },
   {
    "duration": 58,
    "start_time": "2022-05-15T19:44:38.435Z"
   },
   {
    "duration": 13,
    "start_time": "2022-05-15T19:44:38.496Z"
   },
   {
    "duration": 269,
    "start_time": "2022-05-15T19:44:38.511Z"
   },
   {
    "duration": 457,
    "start_time": "2022-05-15T19:44:38.782Z"
   },
   {
    "duration": 298,
    "start_time": "2022-05-15T19:44:39.241Z"
   },
   {
    "duration": 319,
    "start_time": "2022-05-15T19:44:39.541Z"
   },
   {
    "duration": 461,
    "start_time": "2022-05-15T19:44:39.862Z"
   },
   {
    "duration": 495,
    "start_time": "2022-05-15T19:44:40.326Z"
   },
   {
    "duration": 292,
    "start_time": "2022-05-15T19:44:40.827Z"
   },
   {
    "duration": 305,
    "start_time": "2022-05-15T19:44:41.121Z"
   },
   {
    "duration": 385,
    "start_time": "2022-05-15T19:44:41.430Z"
   },
   {
    "duration": 1668,
    "start_time": "2022-05-15T19:44:41.817Z"
   },
   {
    "duration": 27,
    "start_time": "2022-05-15T19:44:43.488Z"
   },
   {
    "duration": 9,
    "start_time": "2022-05-15T19:44:43.519Z"
   },
   {
    "duration": 293,
    "start_time": "2022-05-15T19:44:43.530Z"
   },
   {
    "duration": 493,
    "start_time": "2022-05-15T19:44:43.826Z"
   },
   {
    "duration": 433,
    "start_time": "2022-05-15T19:44:44.321Z"
   },
   {
    "duration": 228,
    "start_time": "2022-05-15T19:44:44.756Z"
   },
   {
    "duration": 7,
    "start_time": "2022-05-15T19:44:44.986Z"
   },
   {
    "duration": 213,
    "start_time": "2022-05-15T19:44:44.995Z"
   },
   {
    "duration": 8,
    "start_time": "2022-05-15T19:44:45.211Z"
   },
   {
    "duration": 258,
    "start_time": "2022-05-15T19:44:45.222Z"
   },
   {
    "duration": 11,
    "start_time": "2022-05-15T19:44:45.483Z"
   },
   {
    "duration": 323,
    "start_time": "2022-05-15T19:44:45.496Z"
   },
   {
    "duration": 9,
    "start_time": "2022-05-15T19:44:45.822Z"
   },
   {
    "duration": 11,
    "start_time": "2022-05-15T19:44:45.834Z"
   },
   {
    "duration": 457,
    "start_time": "2022-05-15T19:44:45.848Z"
   },
   {
    "duration": 445,
    "start_time": "2022-05-15T19:44:46.309Z"
   },
   {
    "duration": 47,
    "start_time": "2022-05-15T19:44:46.757Z"
   },
   {
    "duration": 19,
    "start_time": "2022-05-15T19:44:46.806Z"
   },
   {
    "duration": 60,
    "start_time": "2022-05-15T19:44:46.828Z"
   },
   {
    "duration": 6,
    "start_time": "2022-05-15T19:44:46.891Z"
   },
   {
    "duration": 250,
    "start_time": "2022-05-15T19:44:46.899Z"
   },
   {
    "duration": 281,
    "start_time": "2022-05-15T19:44:47.153Z"
   },
   {
    "duration": 45,
    "start_time": "2022-05-15T19:44:47.436Z"
   },
   {
    "duration": 5,
    "start_time": "2022-05-15T19:44:47.484Z"
   },
   {
    "duration": 157,
    "start_time": "2022-05-15T19:44:47.492Z"
   },
   {
    "duration": 316,
    "start_time": "2022-05-15T19:44:47.651Z"
   },
   {
    "duration": 39,
    "start_time": "2022-05-15T19:44:47.970Z"
   },
   {
    "duration": 6,
    "start_time": "2022-05-15T19:44:48.011Z"
   },
   {
    "duration": 175,
    "start_time": "2022-05-15T19:44:48.020Z"
   },
   {
    "duration": 205,
    "start_time": "2022-05-15T19:44:48.198Z"
   },
   {
    "duration": 216,
    "start_time": "2022-05-15T19:44:48.406Z"
   },
   {
    "duration": 225,
    "start_time": "2022-05-15T19:44:48.625Z"
   },
   {
    "duration": 232,
    "start_time": "2022-05-15T19:44:48.852Z"
   },
   {
    "duration": 227,
    "start_time": "2022-05-15T19:44:49.087Z"
   },
   {
    "duration": 298,
    "start_time": "2022-05-15T19:44:49.317Z"
   },
   {
    "duration": 317,
    "start_time": "2022-05-15T19:44:49.618Z"
   },
   {
    "duration": 14,
    "start_time": "2022-05-15T19:44:49.938Z"
   },
   {
    "duration": 33,
    "start_time": "2022-05-15T19:44:49.955Z"
   },
   {
    "duration": 19,
    "start_time": "2022-05-15T19:44:49.991Z"
   },
   {
    "duration": 12,
    "start_time": "2022-05-15T19:44:50.013Z"
   },
   {
    "duration": 27,
    "start_time": "2022-05-15T19:45:02.120Z"
   },
   {
    "duration": 24,
    "start_time": "2022-05-15T19:45:32.709Z"
   },
   {
    "duration": 26,
    "start_time": "2022-05-15T19:45:38.035Z"
   },
   {
    "duration": 1681,
    "start_time": "2022-07-25T09:39:17.742Z"
   },
   {
    "duration": 119,
    "start_time": "2022-07-25T09:39:19.425Z"
   },
   {
    "duration": 14,
    "start_time": "2022-07-25T09:39:19.546Z"
   },
   {
    "duration": 13,
    "start_time": "2022-07-25T09:39:19.561Z"
   },
   {
    "duration": 23,
    "start_time": "2022-07-25T09:39:19.577Z"
   },
   {
    "duration": 15,
    "start_time": "2022-07-25T09:39:19.601Z"
   },
   {
    "duration": 40,
    "start_time": "2022-07-25T09:39:19.618Z"
   },
   {
    "duration": 21,
    "start_time": "2022-07-25T09:39:19.660Z"
   },
   {
    "duration": 11,
    "start_time": "2022-07-25T09:39:19.683Z"
   },
   {
    "duration": 15,
    "start_time": "2022-07-25T09:39:19.696Z"
   },
   {
    "duration": 23,
    "start_time": "2022-07-25T09:39:19.713Z"
   },
   {
    "duration": 34,
    "start_time": "2022-07-25T09:39:19.738Z"
   },
   {
    "duration": 6,
    "start_time": "2022-07-25T09:39:19.774Z"
   },
   {
    "duration": 13,
    "start_time": "2022-07-25T09:39:19.785Z"
   },
   {
    "duration": 6,
    "start_time": "2022-07-25T09:39:19.800Z"
   },
   {
    "duration": 39,
    "start_time": "2022-07-25T09:39:19.807Z"
   },
   {
    "duration": 18,
    "start_time": "2022-07-25T09:39:19.848Z"
   },
   {
    "duration": 12,
    "start_time": "2022-07-25T09:39:19.868Z"
   },
   {
    "duration": 25,
    "start_time": "2022-07-25T09:39:19.882Z"
   },
   {
    "duration": 37,
    "start_time": "2022-07-25T09:39:19.909Z"
   },
   {
    "duration": 10,
    "start_time": "2022-07-25T09:39:19.948Z"
   },
   {
    "duration": 162,
    "start_time": "2022-07-25T09:39:19.960Z"
   },
   {
    "duration": 267,
    "start_time": "2022-07-25T09:39:20.123Z"
   },
   {
    "duration": 182,
    "start_time": "2022-07-25T09:39:20.391Z"
   },
   {
    "duration": 183,
    "start_time": "2022-07-25T09:39:20.575Z"
   },
   {
    "duration": 253,
    "start_time": "2022-07-25T09:39:20.760Z"
   },
   {
    "duration": 176,
    "start_time": "2022-07-25T09:39:21.015Z"
   },
   {
    "duration": 169,
    "start_time": "2022-07-25T09:39:21.193Z"
   },
   {
    "duration": 181,
    "start_time": "2022-07-25T09:39:21.364Z"
   },
   {
    "duration": 256,
    "start_time": "2022-07-25T09:39:21.547Z"
   },
   {
    "duration": 1024,
    "start_time": "2022-07-25T09:39:21.805Z"
   },
   {
    "duration": 27,
    "start_time": "2022-07-25T09:39:22.832Z"
   },
   {
    "duration": 6,
    "start_time": "2022-07-25T09:39:22.860Z"
   },
   {
    "duration": 164,
    "start_time": "2022-07-25T09:39:22.868Z"
   },
   {
    "duration": 327,
    "start_time": "2022-07-25T09:39:23.034Z"
   },
   {
    "duration": 239,
    "start_time": "2022-07-25T09:39:23.363Z"
   },
   {
    "duration": 124,
    "start_time": "2022-07-25T09:39:23.604Z"
   },
   {
    "duration": 6,
    "start_time": "2022-07-25T09:39:23.730Z"
   },
   {
    "duration": 114,
    "start_time": "2022-07-25T09:39:23.745Z"
   },
   {
    "duration": 5,
    "start_time": "2022-07-25T09:39:23.860Z"
   },
   {
    "duration": 172,
    "start_time": "2022-07-25T09:39:23.870Z"
   },
   {
    "duration": 10,
    "start_time": "2022-07-25T09:39:24.045Z"
   },
   {
    "duration": 133,
    "start_time": "2022-07-25T09:39:24.056Z"
   },
   {
    "duration": 7,
    "start_time": "2022-07-25T09:39:24.191Z"
   },
   {
    "duration": 10,
    "start_time": "2022-07-25T09:39:24.200Z"
   },
   {
    "duration": 203,
    "start_time": "2022-07-25T09:39:24.212Z"
   },
   {
    "duration": 172,
    "start_time": "2022-07-25T09:39:24.417Z"
   },
   {
    "duration": 17,
    "start_time": "2022-07-25T09:39:24.591Z"
   },
   {
    "duration": 20,
    "start_time": "2022-07-25T09:39:24.609Z"
   },
   {
    "duration": 27,
    "start_time": "2022-07-25T09:39:24.631Z"
   },
   {
    "duration": 10,
    "start_time": "2022-07-25T09:39:24.659Z"
   },
   {
    "duration": 99,
    "start_time": "2022-07-25T09:39:24.671Z"
   },
   {
    "duration": 131,
    "start_time": "2022-07-25T09:39:24.772Z"
   },
   {
    "duration": 22,
    "start_time": "2022-07-25T09:39:24.904Z"
   },
   {
    "duration": 19,
    "start_time": "2022-07-25T09:39:24.927Z"
   },
   {
    "duration": 88,
    "start_time": "2022-07-25T09:39:24.948Z"
   },
   {
    "duration": 226,
    "start_time": "2022-07-25T09:39:25.037Z"
   },
   {
    "duration": 19,
    "start_time": "2022-07-25T09:39:25.265Z"
   },
   {
    "duration": 4,
    "start_time": "2022-07-25T09:39:25.285Z"
   },
   {
    "duration": 114,
    "start_time": "2022-07-25T09:39:25.291Z"
   },
   {
    "duration": 127,
    "start_time": "2022-07-25T09:39:25.407Z"
   },
   {
    "duration": 134,
    "start_time": "2022-07-25T09:39:25.536Z"
   },
   {
    "duration": 154,
    "start_time": "2022-07-25T09:39:25.672Z"
   },
   {
    "duration": 136,
    "start_time": "2022-07-25T09:39:25.828Z"
   },
   {
    "duration": 128,
    "start_time": "2022-07-25T09:39:25.966Z"
   },
   {
    "duration": 125,
    "start_time": "2022-07-25T09:39:26.096Z"
   },
   {
    "duration": 137,
    "start_time": "2022-07-25T09:39:26.224Z"
   },
   {
    "duration": 7,
    "start_time": "2022-07-25T09:39:26.363Z"
   },
   {
    "duration": 9,
    "start_time": "2022-07-25T09:39:26.372Z"
   },
   {
    "duration": 12,
    "start_time": "2022-07-25T09:39:26.383Z"
   },
   {
    "duration": 6,
    "start_time": "2022-07-25T09:39:26.396Z"
   },
   {
    "duration": 4,
    "start_time": "2022-07-25T09:41:52.783Z"
   },
   {
    "duration": 722,
    "start_time": "2022-07-25T09:42:40.787Z"
   },
   {
    "duration": 1291,
    "start_time": "2022-07-25T10:12:19.808Z"
   },
   {
    "duration": 69,
    "start_time": "2022-07-25T10:12:21.101Z"
   },
   {
    "duration": 13,
    "start_time": "2022-07-25T10:12:21.172Z"
   },
   {
    "duration": 9,
    "start_time": "2022-07-25T10:12:21.187Z"
   },
   {
    "duration": 44,
    "start_time": "2022-07-25T10:12:21.197Z"
   },
   {
    "duration": 14,
    "start_time": "2022-07-25T10:12:21.242Z"
   },
   {
    "duration": 25,
    "start_time": "2022-07-25T10:12:21.257Z"
   },
   {
    "duration": 10,
    "start_time": "2022-07-25T10:12:21.284Z"
   },
   {
    "duration": 15,
    "start_time": "2022-07-25T10:12:21.296Z"
   },
   {
    "duration": 13,
    "start_time": "2022-07-25T10:12:21.315Z"
   },
   {
    "duration": 39,
    "start_time": "2022-07-25T10:12:21.329Z"
   },
   {
    "duration": 5,
    "start_time": "2022-07-25T10:12:21.369Z"
   },
   {
    "duration": 19,
    "start_time": "2022-07-25T10:12:21.375Z"
   },
   {
    "duration": 5,
    "start_time": "2022-07-25T10:12:21.395Z"
   },
   {
    "duration": 13,
    "start_time": "2022-07-25T10:12:21.401Z"
   },
   {
    "duration": 33,
    "start_time": "2022-07-25T10:12:21.416Z"
   },
   {
    "duration": 12,
    "start_time": "2022-07-25T10:12:21.451Z"
   },
   {
    "duration": 891,
    "start_time": "2022-07-25T10:12:21.465Z"
   },
   {
    "duration": 0,
    "start_time": "2022-07-25T10:12:22.359Z"
   },
   {
    "duration": 0,
    "start_time": "2022-07-25T10:12:22.360Z"
   },
   {
    "duration": 0,
    "start_time": "2022-07-25T10:12:22.361Z"
   },
   {
    "duration": 0,
    "start_time": "2022-07-25T10:12:22.362Z"
   },
   {
    "duration": 0,
    "start_time": "2022-07-25T10:12:22.363Z"
   },
   {
    "duration": 0,
    "start_time": "2022-07-25T10:12:22.363Z"
   },
   {
    "duration": 0,
    "start_time": "2022-07-25T10:12:22.364Z"
   },
   {
    "duration": 0,
    "start_time": "2022-07-25T10:12:22.365Z"
   },
   {
    "duration": 0,
    "start_time": "2022-07-25T10:12:22.366Z"
   },
   {
    "duration": 0,
    "start_time": "2022-07-25T10:12:22.367Z"
   },
   {
    "duration": 0,
    "start_time": "2022-07-25T10:12:22.368Z"
   },
   {
    "duration": 0,
    "start_time": "2022-07-25T10:12:22.369Z"
   },
   {
    "duration": 0,
    "start_time": "2022-07-25T10:12:22.370Z"
   },
   {
    "duration": 0,
    "start_time": "2022-07-25T10:12:22.371Z"
   },
   {
    "duration": 0,
    "start_time": "2022-07-25T10:12:22.372Z"
   },
   {
    "duration": 0,
    "start_time": "2022-07-25T10:12:22.373Z"
   },
   {
    "duration": 0,
    "start_time": "2022-07-25T10:12:22.373Z"
   },
   {
    "duration": 0,
    "start_time": "2022-07-25T10:12:22.374Z"
   },
   {
    "duration": 0,
    "start_time": "2022-07-25T10:12:22.375Z"
   },
   {
    "duration": 0,
    "start_time": "2022-07-25T10:12:22.376Z"
   },
   {
    "duration": 0,
    "start_time": "2022-07-25T10:12:22.377Z"
   },
   {
    "duration": 0,
    "start_time": "2022-07-25T10:12:22.378Z"
   },
   {
    "duration": 0,
    "start_time": "2022-07-25T10:12:22.379Z"
   },
   {
    "duration": 0,
    "start_time": "2022-07-25T10:12:22.380Z"
   },
   {
    "duration": 0,
    "start_time": "2022-07-25T10:12:22.381Z"
   },
   {
    "duration": 0,
    "start_time": "2022-07-25T10:12:22.381Z"
   },
   {
    "duration": 0,
    "start_time": "2022-07-25T10:12:22.382Z"
   },
   {
    "duration": 0,
    "start_time": "2022-07-25T10:12:22.383Z"
   },
   {
    "duration": 0,
    "start_time": "2022-07-25T10:12:22.384Z"
   },
   {
    "duration": 0,
    "start_time": "2022-07-25T10:12:22.385Z"
   },
   {
    "duration": 0,
    "start_time": "2022-07-25T10:12:22.386Z"
   },
   {
    "duration": 0,
    "start_time": "2022-07-25T10:12:22.387Z"
   },
   {
    "duration": 0,
    "start_time": "2022-07-25T10:12:22.387Z"
   },
   {
    "duration": 0,
    "start_time": "2022-07-25T10:12:22.388Z"
   },
   {
    "duration": 0,
    "start_time": "2022-07-25T10:12:22.389Z"
   },
   {
    "duration": 0,
    "start_time": "2022-07-25T10:12:22.391Z"
   },
   {
    "duration": 0,
    "start_time": "2022-07-25T10:12:22.392Z"
   },
   {
    "duration": 0,
    "start_time": "2022-07-25T10:12:22.392Z"
   },
   {
    "duration": 0,
    "start_time": "2022-07-25T10:12:22.393Z"
   },
   {
    "duration": 0,
    "start_time": "2022-07-25T10:12:22.395Z"
   },
   {
    "duration": 0,
    "start_time": "2022-07-25T10:12:22.396Z"
   },
   {
    "duration": 0,
    "start_time": "2022-07-25T10:12:22.446Z"
   },
   {
    "duration": 0,
    "start_time": "2022-07-25T10:12:22.447Z"
   },
   {
    "duration": 0,
    "start_time": "2022-07-25T10:12:22.448Z"
   },
   {
    "duration": 0,
    "start_time": "2022-07-25T10:12:22.449Z"
   },
   {
    "duration": 0,
    "start_time": "2022-07-25T10:12:22.450Z"
   },
   {
    "duration": 0,
    "start_time": "2022-07-25T10:12:22.451Z"
   },
   {
    "duration": 0,
    "start_time": "2022-07-25T10:12:22.452Z"
   },
   {
    "duration": 0,
    "start_time": "2022-07-25T10:12:22.453Z"
   },
   {
    "duration": 1288,
    "start_time": "2022-07-25T10:13:50.384Z"
   },
   {
    "duration": 68,
    "start_time": "2022-07-25T10:13:51.674Z"
   },
   {
    "duration": 13,
    "start_time": "2022-07-25T10:13:51.744Z"
   },
   {
    "duration": 19,
    "start_time": "2022-07-25T10:13:51.760Z"
   },
   {
    "duration": 29,
    "start_time": "2022-07-25T10:13:51.780Z"
   },
   {
    "duration": 14,
    "start_time": "2022-07-25T10:13:51.810Z"
   },
   {
    "duration": 36,
    "start_time": "2022-07-25T10:13:51.825Z"
   },
   {
    "duration": 18,
    "start_time": "2022-07-25T10:13:51.863Z"
   },
   {
    "duration": 25,
    "start_time": "2022-07-25T10:13:51.883Z"
   },
   {
    "duration": 17,
    "start_time": "2022-07-25T10:13:51.911Z"
   },
   {
    "duration": 19,
    "start_time": "2022-07-25T10:13:51.929Z"
   },
   {
    "duration": 4,
    "start_time": "2022-07-25T10:13:51.950Z"
   },
   {
    "duration": 22,
    "start_time": "2022-07-25T10:13:51.955Z"
   },
   {
    "duration": 11,
    "start_time": "2022-07-25T10:13:51.979Z"
   },
   {
    "duration": 26,
    "start_time": "2022-07-25T10:13:51.992Z"
   },
   {
    "duration": 23,
    "start_time": "2022-07-25T10:13:52.019Z"
   },
   {
    "duration": 17,
    "start_time": "2022-07-25T10:13:52.044Z"
   },
   {
    "duration": 850,
    "start_time": "2022-07-25T10:13:52.063Z"
   },
   {
    "duration": 0,
    "start_time": "2022-07-25T10:13:52.916Z"
   },
   {
    "duration": 0,
    "start_time": "2022-07-25T10:13:52.917Z"
   },
   {
    "duration": 0,
    "start_time": "2022-07-25T10:13:52.918Z"
   },
   {
    "duration": 0,
    "start_time": "2022-07-25T10:13:52.919Z"
   },
   {
    "duration": 0,
    "start_time": "2022-07-25T10:13:52.920Z"
   },
   {
    "duration": 0,
    "start_time": "2022-07-25T10:13:52.921Z"
   },
   {
    "duration": 0,
    "start_time": "2022-07-25T10:13:52.922Z"
   },
   {
    "duration": 0,
    "start_time": "2022-07-25T10:13:52.923Z"
   },
   {
    "duration": 0,
    "start_time": "2022-07-25T10:13:52.924Z"
   },
   {
    "duration": 0,
    "start_time": "2022-07-25T10:13:52.925Z"
   },
   {
    "duration": 0,
    "start_time": "2022-07-25T10:13:52.926Z"
   },
   {
    "duration": 0,
    "start_time": "2022-07-25T10:13:52.927Z"
   },
   {
    "duration": 0,
    "start_time": "2022-07-25T10:13:52.928Z"
   },
   {
    "duration": 0,
    "start_time": "2022-07-25T10:13:52.929Z"
   },
   {
    "duration": 0,
    "start_time": "2022-07-25T10:13:52.929Z"
   },
   {
    "duration": 0,
    "start_time": "2022-07-25T10:13:52.930Z"
   },
   {
    "duration": 0,
    "start_time": "2022-07-25T10:13:52.931Z"
   },
   {
    "duration": 0,
    "start_time": "2022-07-25T10:13:52.932Z"
   },
   {
    "duration": 0,
    "start_time": "2022-07-25T10:13:52.933Z"
   },
   {
    "duration": 0,
    "start_time": "2022-07-25T10:13:52.934Z"
   },
   {
    "duration": 0,
    "start_time": "2022-07-25T10:13:52.934Z"
   },
   {
    "duration": 0,
    "start_time": "2022-07-25T10:13:52.935Z"
   },
   {
    "duration": 0,
    "start_time": "2022-07-25T10:13:52.936Z"
   },
   {
    "duration": 0,
    "start_time": "2022-07-25T10:13:52.937Z"
   },
   {
    "duration": 0,
    "start_time": "2022-07-25T10:13:52.938Z"
   },
   {
    "duration": 0,
    "start_time": "2022-07-25T10:13:52.939Z"
   },
   {
    "duration": 0,
    "start_time": "2022-07-25T10:13:52.940Z"
   },
   {
    "duration": 0,
    "start_time": "2022-07-25T10:13:52.941Z"
   },
   {
    "duration": 0,
    "start_time": "2022-07-25T10:13:52.942Z"
   },
   {
    "duration": 0,
    "start_time": "2022-07-25T10:13:52.943Z"
   },
   {
    "duration": 0,
    "start_time": "2022-07-25T10:13:52.943Z"
   },
   {
    "duration": 0,
    "start_time": "2022-07-25T10:13:52.944Z"
   },
   {
    "duration": 0,
    "start_time": "2022-07-25T10:13:52.945Z"
   },
   {
    "duration": 0,
    "start_time": "2022-07-25T10:13:52.946Z"
   },
   {
    "duration": 0,
    "start_time": "2022-07-25T10:13:52.946Z"
   },
   {
    "duration": 0,
    "start_time": "2022-07-25T10:13:52.947Z"
   },
   {
    "duration": 0,
    "start_time": "2022-07-25T10:13:52.948Z"
   },
   {
    "duration": 0,
    "start_time": "2022-07-25T10:13:52.949Z"
   },
   {
    "duration": 0,
    "start_time": "2022-07-25T10:13:52.950Z"
   },
   {
    "duration": 0,
    "start_time": "2022-07-25T10:13:52.951Z"
   },
   {
    "duration": 0,
    "start_time": "2022-07-25T10:13:52.952Z"
   },
   {
    "duration": 0,
    "start_time": "2022-07-25T10:13:52.952Z"
   },
   {
    "duration": 0,
    "start_time": "2022-07-25T10:13:52.953Z"
   },
   {
    "duration": 0,
    "start_time": "2022-07-25T10:13:52.954Z"
   },
   {
    "duration": 0,
    "start_time": "2022-07-25T10:13:52.954Z"
   },
   {
    "duration": 0,
    "start_time": "2022-07-25T10:13:52.956Z"
   },
   {
    "duration": 0,
    "start_time": "2022-07-25T10:13:52.957Z"
   },
   {
    "duration": 0,
    "start_time": "2022-07-25T10:13:52.957Z"
   },
   {
    "duration": 0,
    "start_time": "2022-07-25T10:13:52.958Z"
   },
   {
    "duration": 2720,
    "start_time": "2022-07-25T10:15:03.313Z"
   },
   {
    "duration": 767,
    "start_time": "2022-07-25T10:15:10.483Z"
   },
   {
    "duration": 749,
    "start_time": "2022-07-25T10:15:24.962Z"
   },
   {
    "duration": 11,
    "start_time": "2022-07-25T10:15:34.349Z"
   },
   {
    "duration": 779,
    "start_time": "2022-07-25T10:15:34.756Z"
   },
   {
    "duration": 1419,
    "start_time": "2022-07-25T10:15:39.500Z"
   },
   {
    "duration": 73,
    "start_time": "2022-07-25T10:15:40.921Z"
   },
   {
    "duration": 13,
    "start_time": "2022-07-25T10:15:40.995Z"
   },
   {
    "duration": 8,
    "start_time": "2022-07-25T10:15:41.010Z"
   },
   {
    "duration": 39,
    "start_time": "2022-07-25T10:15:41.019Z"
   },
   {
    "duration": 15,
    "start_time": "2022-07-25T10:15:41.060Z"
   },
   {
    "duration": 25,
    "start_time": "2022-07-25T10:15:41.076Z"
   },
   {
    "duration": 10,
    "start_time": "2022-07-25T10:15:41.103Z"
   },
   {
    "duration": 12,
    "start_time": "2022-07-25T10:15:41.115Z"
   },
   {
    "duration": 31,
    "start_time": "2022-07-25T10:15:41.129Z"
   },
   {
    "duration": 17,
    "start_time": "2022-07-25T10:15:41.162Z"
   },
   {
    "duration": 5,
    "start_time": "2022-07-25T10:15:41.181Z"
   },
   {
    "duration": 17,
    "start_time": "2022-07-25T10:15:41.188Z"
   },
   {
    "duration": 5,
    "start_time": "2022-07-25T10:15:41.207Z"
   },
   {
    "duration": 43,
    "start_time": "2022-07-25T10:15:41.213Z"
   },
   {
    "duration": 15,
    "start_time": "2022-07-25T10:15:41.257Z"
   },
   {
    "duration": 12,
    "start_time": "2022-07-25T10:15:41.273Z"
   },
   {
    "duration": 19,
    "start_time": "2022-07-25T10:15:41.287Z"
   },
   {
    "duration": 46,
    "start_time": "2022-07-25T10:15:41.308Z"
   },
   {
    "duration": 8,
    "start_time": "2022-07-25T10:15:41.360Z"
   },
   {
    "duration": 149,
    "start_time": "2022-07-25T10:15:41.369Z"
   },
   {
    "duration": 272,
    "start_time": "2022-07-25T10:15:41.520Z"
   },
   {
    "duration": 186,
    "start_time": "2022-07-25T10:15:41.794Z"
   },
   {
    "duration": 200,
    "start_time": "2022-07-25T10:15:41.982Z"
   },
   {
    "duration": 261,
    "start_time": "2022-07-25T10:15:42.184Z"
   },
   {
    "duration": 167,
    "start_time": "2022-07-25T10:15:42.460Z"
   },
   {
    "duration": 170,
    "start_time": "2022-07-25T10:15:42.628Z"
   },
   {
    "duration": 172,
    "start_time": "2022-07-25T10:15:42.802Z"
   },
   {
    "duration": 245,
    "start_time": "2022-07-25T10:15:42.976Z"
   },
   {
    "duration": 36,
    "start_time": "2022-07-25T10:15:43.223Z"
   },
   {
    "duration": 6,
    "start_time": "2022-07-25T10:15:43.261Z"
   },
   {
    "duration": 160,
    "start_time": "2022-07-25T10:15:43.269Z"
   },
   {
    "duration": 246,
    "start_time": "2022-07-25T10:15:43.431Z"
   },
   {
    "duration": 248,
    "start_time": "2022-07-25T10:15:43.679Z"
   },
   {
    "duration": 130,
    "start_time": "2022-07-25T10:15:43.930Z"
   },
   {
    "duration": 6,
    "start_time": "2022-07-25T10:15:44.061Z"
   },
   {
    "duration": 239,
    "start_time": "2022-07-25T10:15:44.068Z"
   },
   {
    "duration": 5,
    "start_time": "2022-07-25T10:15:44.309Z"
   },
   {
    "duration": 186,
    "start_time": "2022-07-25T10:15:44.316Z"
   },
   {
    "duration": 5,
    "start_time": "2022-07-25T10:15:44.504Z"
   },
   {
    "duration": 146,
    "start_time": "2022-07-25T10:15:44.511Z"
   },
   {
    "duration": 14,
    "start_time": "2022-07-25T10:15:44.658Z"
   },
   {
    "duration": 17,
    "start_time": "2022-07-25T10:15:44.674Z"
   },
   {
    "duration": 189,
    "start_time": "2022-07-25T10:15:44.693Z"
   },
   {
    "duration": 189,
    "start_time": "2022-07-25T10:15:44.884Z"
   },
   {
    "duration": 21,
    "start_time": "2022-07-25T10:15:45.075Z"
   },
   {
    "duration": 10,
    "start_time": "2022-07-25T10:15:45.098Z"
   },
   {
    "duration": 102,
    "start_time": "2022-07-25T10:15:45.109Z"
   },
   {
    "duration": 121,
    "start_time": "2022-07-25T10:15:45.213Z"
   },
   {
    "duration": 21,
    "start_time": "2022-07-25T10:15:45.335Z"
   },
   {
    "duration": 11,
    "start_time": "2022-07-25T10:15:45.357Z"
   },
   {
    "duration": 97,
    "start_time": "2022-07-25T10:15:45.370Z"
   },
   {
    "duration": 137,
    "start_time": "2022-07-25T10:15:45.469Z"
   },
   {
    "duration": 21,
    "start_time": "2022-07-25T10:15:45.608Z"
   },
   {
    "duration": 11,
    "start_time": "2022-07-25T10:15:45.645Z"
   },
   {
    "duration": 95,
    "start_time": "2022-07-25T10:15:45.660Z"
   },
   {
    "duration": 116,
    "start_time": "2022-07-25T10:15:45.757Z"
   },
   {
    "duration": 126,
    "start_time": "2022-07-25T10:15:45.874Z"
   },
   {
    "duration": 230,
    "start_time": "2022-07-25T10:15:46.001Z"
   },
   {
    "duration": 133,
    "start_time": "2022-07-25T10:15:46.232Z"
   },
   {
    "duration": 129,
    "start_time": "2022-07-25T10:15:46.366Z"
   },
   {
    "duration": 117,
    "start_time": "2022-07-25T10:15:46.496Z"
   },
   {
    "duration": 142,
    "start_time": "2022-07-25T10:15:46.615Z"
   },
   {
    "duration": 9,
    "start_time": "2022-07-25T10:15:46.760Z"
   },
   {
    "duration": 9,
    "start_time": "2022-07-25T10:15:46.770Z"
   },
   {
    "duration": 10,
    "start_time": "2022-07-25T10:15:46.780Z"
   },
   {
    "duration": 7,
    "start_time": "2022-07-25T10:15:46.792Z"
   },
   {
    "duration": 1363,
    "start_time": "2022-07-25T10:17:19.556Z"
   },
   {
    "duration": 70,
    "start_time": "2022-07-25T10:17:20.921Z"
   },
   {
    "duration": 13,
    "start_time": "2022-07-25T10:17:20.993Z"
   },
   {
    "duration": 11,
    "start_time": "2022-07-25T10:17:21.008Z"
   },
   {
    "duration": 34,
    "start_time": "2022-07-25T10:17:21.021Z"
   },
   {
    "duration": 14,
    "start_time": "2022-07-25T10:17:21.057Z"
   },
   {
    "duration": 38,
    "start_time": "2022-07-25T10:17:21.073Z"
   },
   {
    "duration": 40,
    "start_time": "2022-07-25T10:17:21.114Z"
   },
   {
    "duration": 13,
    "start_time": "2022-07-25T10:17:21.156Z"
   },
   {
    "duration": 27,
    "start_time": "2022-07-25T10:17:21.173Z"
   },
   {
    "duration": 34,
    "start_time": "2022-07-25T10:17:21.202Z"
   },
   {
    "duration": 5,
    "start_time": "2022-07-25T10:17:21.237Z"
   },
   {
    "duration": 26,
    "start_time": "2022-07-25T10:17:21.243Z"
   },
   {
    "duration": 7,
    "start_time": "2022-07-25T10:17:21.271Z"
   },
   {
    "duration": 13,
    "start_time": "2022-07-25T10:17:21.280Z"
   },
   {
    "duration": 21,
    "start_time": "2022-07-25T10:17:21.295Z"
   },
   {
    "duration": 27,
    "start_time": "2022-07-25T10:17:21.318Z"
   },
   {
    "duration": 20,
    "start_time": "2022-07-25T10:17:21.348Z"
   },
   {
    "duration": 17,
    "start_time": "2022-07-25T10:17:21.370Z"
   },
   {
    "duration": 12,
    "start_time": "2022-07-25T10:17:21.388Z"
   },
   {
    "duration": 205,
    "start_time": "2022-07-25T10:17:21.402Z"
   },
   {
    "duration": 281,
    "start_time": "2022-07-25T10:17:21.609Z"
   },
   {
    "duration": 190,
    "start_time": "2022-07-25T10:17:21.892Z"
   },
   {
    "duration": 195,
    "start_time": "2022-07-25T10:17:22.084Z"
   },
   {
    "duration": 262,
    "start_time": "2022-07-25T10:17:22.281Z"
   },
   {
    "duration": 179,
    "start_time": "2022-07-25T10:17:22.544Z"
   },
   {
    "duration": 177,
    "start_time": "2022-07-25T10:17:22.725Z"
   },
   {
    "duration": 201,
    "start_time": "2022-07-25T10:17:22.908Z"
   },
   {
    "duration": 260,
    "start_time": "2022-07-25T10:17:23.111Z"
   },
   {
    "duration": 21,
    "start_time": "2022-07-25T10:17:23.372Z"
   },
   {
    "duration": 7,
    "start_time": "2022-07-25T10:17:23.395Z"
   },
   {
    "duration": 205,
    "start_time": "2022-07-25T10:17:23.403Z"
   },
   {
    "duration": 238,
    "start_time": "2022-07-25T10:17:23.610Z"
   },
   {
    "duration": 262,
    "start_time": "2022-07-25T10:17:23.850Z"
   },
   {
    "duration": 124,
    "start_time": "2022-07-25T10:17:24.114Z"
   },
   {
    "duration": 8,
    "start_time": "2022-07-25T10:17:24.239Z"
   },
   {
    "duration": 227,
    "start_time": "2022-07-25T10:17:24.249Z"
   },
   {
    "duration": 6,
    "start_time": "2022-07-25T10:17:24.479Z"
   },
   {
    "duration": 162,
    "start_time": "2022-07-25T10:17:24.487Z"
   },
   {
    "duration": 6,
    "start_time": "2022-07-25T10:17:24.651Z"
   },
   {
    "duration": 146,
    "start_time": "2022-07-25T10:17:24.659Z"
   },
   {
    "duration": 7,
    "start_time": "2022-07-25T10:17:24.807Z"
   },
   {
    "duration": 13,
    "start_time": "2022-07-25T10:17:24.816Z"
   },
   {
    "duration": 191,
    "start_time": "2022-07-25T10:17:24.831Z"
   },
   {
    "duration": 201,
    "start_time": "2022-07-25T10:17:25.023Z"
   },
   {
    "duration": 28,
    "start_time": "2022-07-25T10:17:25.226Z"
   },
   {
    "duration": 4,
    "start_time": "2022-07-25T10:17:25.256Z"
   },
   {
    "duration": 108,
    "start_time": "2022-07-25T10:17:25.262Z"
   },
   {
    "duration": 129,
    "start_time": "2022-07-25T10:17:25.372Z"
   },
   {
    "duration": 27,
    "start_time": "2022-07-25T10:17:25.504Z"
   },
   {
    "duration": 4,
    "start_time": "2022-07-25T10:17:25.546Z"
   },
   {
    "duration": 120,
    "start_time": "2022-07-25T10:17:25.553Z"
   },
   {
    "duration": 130,
    "start_time": "2022-07-25T10:17:25.675Z"
   },
   {
    "duration": 21,
    "start_time": "2022-07-25T10:17:25.807Z"
   },
   {
    "duration": 22,
    "start_time": "2022-07-25T10:17:25.830Z"
   },
   {
    "duration": 94,
    "start_time": "2022-07-25T10:17:25.855Z"
   },
   {
    "duration": 133,
    "start_time": "2022-07-25T10:17:25.950Z"
   },
   {
    "duration": 119,
    "start_time": "2022-07-25T10:17:26.085Z"
   },
   {
    "duration": 241,
    "start_time": "2022-07-25T10:17:26.206Z"
   },
   {
    "duration": 141,
    "start_time": "2022-07-25T10:17:26.449Z"
   },
   {
    "duration": 139,
    "start_time": "2022-07-25T10:17:26.592Z"
   },
   {
    "duration": 134,
    "start_time": "2022-07-25T10:17:26.733Z"
   },
   {
    "duration": 149,
    "start_time": "2022-07-25T10:17:26.869Z"
   },
   {
    "duration": 9,
    "start_time": "2022-07-25T10:17:27.020Z"
   },
   {
    "duration": 18,
    "start_time": "2022-07-25T10:17:27.031Z"
   },
   {
    "duration": 11,
    "start_time": "2022-07-25T10:17:27.051Z"
   },
   {
    "duration": 9,
    "start_time": "2022-07-25T10:17:27.064Z"
   }
  ],
  "kernelspec": {
   "display_name": "Python 3 (ipykernel)",
   "language": "python",
   "name": "python3"
  },
  "language_info": {
   "codemirror_mode": {
    "name": "ipython",
    "version": 3
   },
   "file_extension": ".py",
   "mimetype": "text/x-python",
   "name": "python",
   "nbconvert_exporter": "python",
   "pygments_lexer": "ipython3",
   "version": "3.9.12"
  },
  "toc": {
   "base_numbering": 1,
   "nav_menu": {},
   "number_sections": true,
   "sideBar": true,
   "skip_h1_title": true,
   "title_cell": "Table of Contents",
   "title_sidebar": "Contents",
   "toc_cell": false,
   "toc_position": {
    "height": "calc(100% - 180px)",
    "left": "10px",
    "top": "150px",
    "width": "195.038px"
   },
   "toc_section_display": true,
   "toc_window_display": true
  }
 },
 "nbformat": 4,
 "nbformat_minor": 2
}
