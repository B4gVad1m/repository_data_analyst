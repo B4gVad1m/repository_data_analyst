{
 "cells": [
  {
   "cell_type": "markdown",
   "id": "f230bd3e",
   "metadata": {},
   "source": [
    "<h1>Оглавление<span class=\"tocSkip\"></span></h1>\n",
    "<div class=\"toc\"><ul class=\"toc-item\"><li><span><a data-toc-modified-id=\"Подключение-к-базе-данных-1\"><span class=\"toc-item-num\">1&nbsp;&nbsp;</span>Подключение к базе данных</a></span></li><li><span><a data-toc-modified-id=\"Обзор-данных-2\"><span class=\"toc-item-num\">2&nbsp;&nbsp;</span>Обзор данных</a></span><ul class=\"toc-item\"><li><span><a data-toc-modified-id=\"Таблица-books-2.1\"><span class=\"toc-item-num\">2.1&nbsp;&nbsp;</span>Таблица books</a></span></li><li><span><a data-toc-modified-id=\"Таблица-authors-2.2\"><span class=\"toc-item-num\">2.2&nbsp;&nbsp;</span>Таблица authors</a></span></li><li><span><a data-toc-modified-id=\"Таблица-publishers-2.3\"><span class=\"toc-item-num\">2.3&nbsp;&nbsp;</span>Таблица publishers</a></span></li><li><span><a data-toc-modified-id=\"Таблица-ratings-2.4\"><span class=\"toc-item-num\">2.4&nbsp;&nbsp;</span>Таблица ratings</a></span></li><li><span><a data-toc-modified-id=\"Таблица-reviews-2.5\"><span class=\"toc-item-num\">2.5&nbsp;&nbsp;</span>Таблица reviews</a></span></li></ul></li><li><span><a data-toc-modified-id=\"Задание-1-3\"><span class=\"toc-item-num\">3&nbsp;&nbsp;</span>Задание 1</a></span></li><li><span><a data-toc-modified-id=\"Задание-2-4\"><span class=\"toc-item-num\">4&nbsp;&nbsp;</span>Задание 2</a></span></li><li><span><a data-toc-modified-id=\"Задание-3-5\"><span class=\"toc-item-num\">5&nbsp;&nbsp;</span>Задание 3</a></span></li><li><span><a data-toc-modified-id=\"Задание-4-6\"><span class=\"toc-item-num\">6&nbsp;&nbsp;</span>Задание 4</a></span></li><li><span><a data-toc-modified-id=\"Задача-5-7\"><span class=\"toc-item-num\">7&nbsp;&nbsp;</span>Задача 5</a></span></li><li><span><a data-toc-modified-id=\"Вывод-8\"><span class=\"toc-item-num\">8&nbsp;&nbsp;</span>Вывод</a></span></li></ul></div>"
   ]
  },
  {
   "cell_type": "markdown",
   "id": "b5221401",
   "metadata": {},
   "source": [
    "# Анализ базы данных сервиса для чтения книг по подписке"
   ]
  },
  {
   "cell_type": "markdown",
   "id": "ba0aa771",
   "metadata": {},
   "source": [
    "**Описание проекта**\n",
    "\n",
    "Коронавирус застал мир врасплох, изменив привычный порядок вещей. В свободное время жители городов больше не выходят на улицу, не посещают кафе и торговые центры. Зато стало больше времени для книг. Это заметили стартаперы — и бросились создавать приложения для тех, кто любит читать\n",
    "\n",
    "**Цель исследования**\n",
    "\n",
    "Проанализировать базу данных, в которой находится информация: о книгах, издательствах, авторах, а также пользовательские обзоры книг. Эти данные помогут сформулировать ценностное предложение для нового продукта\n",
    "\n",
    "**Описание данных:**\n",
    "\n",
    "**Таблица `books`**\n",
    "\n",
    "Содержит данные о книгах:\n",
    "\n",
    "- `book_id` — идентификатор книги;\n",
    "- `author_id` — идентификатор автора;\n",
    "- `title` — название книги;\n",
    "- `num_pages` — количество страниц;\n",
    "- `publication_date` — дата публикации книги;\n",
    "- `publisher_id` — идентификатор издателя\n",
    "\n",
    "**Таблица `authors`**\n",
    "\n",
    "Содержит данные об авторах:\n",
    "\n",
    "- `author_id` — идентификатор автора;\n",
    "- `author` — имя автора\n",
    "\n",
    "**Таблица `publishers`**\n",
    "\n",
    "Содержит данные об издательствах:\n",
    "\n",
    "- `publisher_id` — идентификатор издательства;\n",
    "- `publisher` — название издательства\n",
    "\n",
    "**Таблица `ratings`**\n",
    "\n",
    "Содержит данные о пользовательских оценках книг:\n",
    "\n",
    "- `rating_id` — идентификатор оценки;\n",
    "- `book_id` — идентификатор книги;\n",
    "- `username` — имя пользователя, оставившего оценку;\n",
    "- `rating` — оценка книги\n",
    "\n",
    "**Таблица `reviews`**\n",
    "\n",
    "Содержит данные о пользовательских обзорах на книги:\n",
    "\n",
    "- `review_id` — идентификатор обзора;\n",
    "- `book_id` — идентификатор книги;\n",
    "- `username` — имя пользователя, написавшего обзор;\n",
    "- `text` — текст обзора"
   ]
  },
  {
   "cell_type": "markdown",
   "id": "27fa0270",
   "metadata": {},
   "source": [
    "## 1. Подключение к базе данных"
   ]
  },
  {
   "cell_type": "code",
   "execution_count": 1,
   "id": "829479d0",
   "metadata": {},
   "outputs": [],
   "source": [
    "# импортируем библиотеки\n",
    "import pandas as pd\n",
    "import sqlite3\n",
    "from sqlalchemy import create_engine"
   ]
  },
  {
   "cell_type": "code",
   "execution_count": 2,
   "id": "34287f16",
   "metadata": {},
   "outputs": [],
   "source": [
    "# устанавка параметров\n",
    "db_config = {'user': 'praktikum_student', # имя пользователя\n",
    "'pwd': 'Sdf4$2;d-d30pp', # пароль\n",
    "'host': 'rc1b-wcoijxj3yxfsf3fs.mdb.yandexcloud.net',\n",
    "'port': 6432, # порт подключения\n",
    "'db': 'data-analyst-final-project-db'} # название базы данных\n",
    "connection_string = 'postgresql://{}:{}@{}:{}/{}'.format(db_config['user'],\n",
    " db_config['pwd'],\n",
    " db_config['host'],\n",
    " db_config['port'],\n",
    " db_config['db'])\n",
    "# сохранение коннектора\n",
    "engine = create_engine(connection_string, connect_args={'sslmode':'require'}) "
   ]
  },
  {
   "cell_type": "markdown",
   "id": "f621736b",
   "metadata": {},
   "source": [
    "## 2. Обзор данных"
   ]
  },
  {
   "cell_type": "markdown",
   "id": "1b856341",
   "metadata": {},
   "source": [
    "### 2.1 Таблица books"
   ]
  },
  {
   "cell_type": "code",
   "execution_count": 3,
   "id": "a6efa28b",
   "metadata": {},
   "outputs": [
    {
     "data": {
      "text/html": [
       "<div>\n",
       "<style scoped>\n",
       "    .dataframe tbody tr th:only-of-type {\n",
       "        vertical-align: middle;\n",
       "    }\n",
       "\n",
       "    .dataframe tbody tr th {\n",
       "        vertical-align: top;\n",
       "    }\n",
       "\n",
       "    .dataframe thead th {\n",
       "        text-align: right;\n",
       "    }\n",
       "</style>\n",
       "<table border=\"1\" class=\"dataframe\">\n",
       "  <thead>\n",
       "    <tr style=\"text-align: right;\">\n",
       "      <th></th>\n",
       "      <th>book_id</th>\n",
       "      <th>author_id</th>\n",
       "      <th>title</th>\n",
       "      <th>num_pages</th>\n",
       "      <th>publication_date</th>\n",
       "      <th>publisher_id</th>\n",
       "    </tr>\n",
       "  </thead>\n",
       "  <tbody>\n",
       "    <tr>\n",
       "      <th>0</th>\n",
       "      <td>1</td>\n",
       "      <td>546</td>\n",
       "      <td>'Salem's Lot</td>\n",
       "      <td>594</td>\n",
       "      <td>2005-11-01</td>\n",
       "      <td>93</td>\n",
       "    </tr>\n",
       "    <tr>\n",
       "      <th>1</th>\n",
       "      <td>2</td>\n",
       "      <td>465</td>\n",
       "      <td>1 000 Places to See Before You Die</td>\n",
       "      <td>992</td>\n",
       "      <td>2003-05-22</td>\n",
       "      <td>336</td>\n",
       "    </tr>\n",
       "    <tr>\n",
       "      <th>2</th>\n",
       "      <td>3</td>\n",
       "      <td>407</td>\n",
       "      <td>13 Little Blue Envelopes (Little Blue Envelope...</td>\n",
       "      <td>322</td>\n",
       "      <td>2010-12-21</td>\n",
       "      <td>135</td>\n",
       "    </tr>\n",
       "    <tr>\n",
       "      <th>3</th>\n",
       "      <td>4</td>\n",
       "      <td>82</td>\n",
       "      <td>1491: New Revelations of the Americas Before C...</td>\n",
       "      <td>541</td>\n",
       "      <td>2006-10-10</td>\n",
       "      <td>309</td>\n",
       "    </tr>\n",
       "    <tr>\n",
       "      <th>4</th>\n",
       "      <td>5</td>\n",
       "      <td>125</td>\n",
       "      <td>1776</td>\n",
       "      <td>386</td>\n",
       "      <td>2006-07-04</td>\n",
       "      <td>268</td>\n",
       "    </tr>\n",
       "  </tbody>\n",
       "</table>\n",
       "</div>"
      ],
      "text/plain": [
       "   book_id  author_id                                              title  \\\n",
       "0        1        546                                       'Salem's Lot   \n",
       "1        2        465                 1 000 Places to See Before You Die   \n",
       "2        3        407  13 Little Blue Envelopes (Little Blue Envelope...   \n",
       "3        4         82  1491: New Revelations of the Americas Before C...   \n",
       "4        5        125                                               1776   \n",
       "\n",
       "   num_pages publication_date  publisher_id  \n",
       "0        594       2005-11-01            93  \n",
       "1        992       2003-05-22           336  \n",
       "2        322       2010-12-21           135  \n",
       "3        541       2006-10-10           309  \n",
       "4        386       2006-07-04           268  "
      ]
     },
     "execution_count": 3,
     "metadata": {},
     "output_type": "execute_result"
    }
   ],
   "source": [
    "# импорт таблицы books\n",
    "query_books = \"\"\"\n",
    "\n",
    "    SELECT *\n",
    "    FROM books\n",
    "    \n",
    "\"\"\"\n",
    "# вывод таблицы\n",
    "books = pd.io.sql.read_sql(query_books, con = engine)\n",
    "books.head()"
   ]
  },
  {
   "cell_type": "code",
   "execution_count": 4,
   "id": "41f47292",
   "metadata": {},
   "outputs": [
    {
     "name": "stdout",
     "output_type": "stream",
     "text": [
      "<class 'pandas.core.frame.DataFrame'>\n",
      "RangeIndex: 1000 entries, 0 to 999\n",
      "Data columns (total 6 columns):\n",
      " #   Column            Non-Null Count  Dtype \n",
      "---  ------            --------------  ----- \n",
      " 0   book_id           1000 non-null   int64 \n",
      " 1   author_id         1000 non-null   int64 \n",
      " 2   title             1000 non-null   object\n",
      " 3   num_pages         1000 non-null   int64 \n",
      " 4   publication_date  1000 non-null   object\n",
      " 5   publisher_id      1000 non-null   int64 \n",
      "dtypes: int64(4), object(2)\n",
      "memory usage: 47.0+ KB\n"
     ]
    }
   ],
   "source": [
    "# обзор общей информации\n",
    "books.info()"
   ]
  },
  {
   "cell_type": "code",
   "execution_count": 5,
   "id": "8d5d7512",
   "metadata": {},
   "outputs": [
    {
     "name": "stdout",
     "output_type": "stream",
     "text": [
      "<class 'pandas.core.frame.DataFrame'>\n",
      "RangeIndex: 1000 entries, 0 to 999\n",
      "Data columns (total 6 columns):\n",
      " #   Column            Non-Null Count  Dtype         \n",
      "---  ------            --------------  -----         \n",
      " 0   book_id           1000 non-null   int64         \n",
      " 1   author_id         1000 non-null   int64         \n",
      " 2   title             1000 non-null   object        \n",
      " 3   num_pages         1000 non-null   int64         \n",
      " 4   publication_date  1000 non-null   datetime64[ns]\n",
      " 5   publisher_id      1000 non-null   int64         \n",
      "dtypes: datetime64[ns](1), int64(4), object(1)\n",
      "memory usage: 47.0+ KB\n"
     ]
    }
   ],
   "source": [
    "# приведён столбец publication_date к временному формату\n",
    "books['publication_date'] = pd.to_datetime(books['publication_date'])\n",
    "# повторный обзор общей информации\n",
    "books.info()"
   ]
  },
  {
   "cell_type": "markdown",
   "id": "b0e7d49d",
   "metadata": {},
   "source": [
    "### 2.2 Таблица authors"
   ]
  },
  {
   "cell_type": "code",
   "execution_count": 6,
   "id": "fced5e41",
   "metadata": {},
   "outputs": [
    {
     "data": {
      "text/html": [
       "<div>\n",
       "<style scoped>\n",
       "    .dataframe tbody tr th:only-of-type {\n",
       "        vertical-align: middle;\n",
       "    }\n",
       "\n",
       "    .dataframe tbody tr th {\n",
       "        vertical-align: top;\n",
       "    }\n",
       "\n",
       "    .dataframe thead th {\n",
       "        text-align: right;\n",
       "    }\n",
       "</style>\n",
       "<table border=\"1\" class=\"dataframe\">\n",
       "  <thead>\n",
       "    <tr style=\"text-align: right;\">\n",
       "      <th></th>\n",
       "      <th>author_id</th>\n",
       "      <th>author</th>\n",
       "    </tr>\n",
       "  </thead>\n",
       "  <tbody>\n",
       "    <tr>\n",
       "      <th>0</th>\n",
       "      <td>1</td>\n",
       "      <td>A.S. Byatt</td>\n",
       "    </tr>\n",
       "    <tr>\n",
       "      <th>1</th>\n",
       "      <td>2</td>\n",
       "      <td>Aesop/Laura Harris/Laura Gibbs</td>\n",
       "    </tr>\n",
       "    <tr>\n",
       "      <th>2</th>\n",
       "      <td>3</td>\n",
       "      <td>Agatha Christie</td>\n",
       "    </tr>\n",
       "    <tr>\n",
       "      <th>3</th>\n",
       "      <td>4</td>\n",
       "      <td>Alan Brennert</td>\n",
       "    </tr>\n",
       "    <tr>\n",
       "      <th>4</th>\n",
       "      <td>5</td>\n",
       "      <td>Alan Moore/David   Lloyd</td>\n",
       "    </tr>\n",
       "  </tbody>\n",
       "</table>\n",
       "</div>"
      ],
      "text/plain": [
       "   author_id                          author\n",
       "0          1                      A.S. Byatt\n",
       "1          2  Aesop/Laura Harris/Laura Gibbs\n",
       "2          3                 Agatha Christie\n",
       "3          4                   Alan Brennert\n",
       "4          5        Alan Moore/David   Lloyd"
      ]
     },
     "execution_count": 6,
     "metadata": {},
     "output_type": "execute_result"
    }
   ],
   "source": [
    "# импорт таблицы authors\n",
    "query_authors = \"\"\"\n",
    "\n",
    "    SELECT *\n",
    "    FROM authors\n",
    "    \n",
    "\"\"\"\n",
    "# вывод таблицы\n",
    "authors = pd.io.sql.read_sql(query_authors, con = engine)\n",
    "authors.head()"
   ]
  },
  {
   "cell_type": "code",
   "execution_count": 7,
   "id": "b1da2811",
   "metadata": {},
   "outputs": [
    {
     "name": "stdout",
     "output_type": "stream",
     "text": [
      "<class 'pandas.core.frame.DataFrame'>\n",
      "RangeIndex: 636 entries, 0 to 635\n",
      "Data columns (total 2 columns):\n",
      " #   Column     Non-Null Count  Dtype \n",
      "---  ------     --------------  ----- \n",
      " 0   author_id  636 non-null    int64 \n",
      " 1   author     636 non-null    object\n",
      "dtypes: int64(1), object(1)\n",
      "memory usage: 10.1+ KB\n"
     ]
    }
   ],
   "source": [
    "# обзор общей информации\n",
    "authors.info()"
   ]
  },
  {
   "cell_type": "markdown",
   "id": "0cf9b6c8",
   "metadata": {},
   "source": [
    "### 2.3 Таблица publishers"
   ]
  },
  {
   "cell_type": "code",
   "execution_count": 8,
   "id": "2e009c1e",
   "metadata": {},
   "outputs": [
    {
     "data": {
      "text/html": [
       "<div>\n",
       "<style scoped>\n",
       "    .dataframe tbody tr th:only-of-type {\n",
       "        vertical-align: middle;\n",
       "    }\n",
       "\n",
       "    .dataframe tbody tr th {\n",
       "        vertical-align: top;\n",
       "    }\n",
       "\n",
       "    .dataframe thead th {\n",
       "        text-align: right;\n",
       "    }\n",
       "</style>\n",
       "<table border=\"1\" class=\"dataframe\">\n",
       "  <thead>\n",
       "    <tr style=\"text-align: right;\">\n",
       "      <th></th>\n",
       "      <th>publisher_id</th>\n",
       "      <th>publisher</th>\n",
       "    </tr>\n",
       "  </thead>\n",
       "  <tbody>\n",
       "    <tr>\n",
       "      <th>0</th>\n",
       "      <td>1</td>\n",
       "      <td>Ace</td>\n",
       "    </tr>\n",
       "    <tr>\n",
       "      <th>1</th>\n",
       "      <td>2</td>\n",
       "      <td>Ace Book</td>\n",
       "    </tr>\n",
       "    <tr>\n",
       "      <th>2</th>\n",
       "      <td>3</td>\n",
       "      <td>Ace Books</td>\n",
       "    </tr>\n",
       "    <tr>\n",
       "      <th>3</th>\n",
       "      <td>4</td>\n",
       "      <td>Ace Hardcover</td>\n",
       "    </tr>\n",
       "    <tr>\n",
       "      <th>4</th>\n",
       "      <td>5</td>\n",
       "      <td>Addison Wesley Publishing Company</td>\n",
       "    </tr>\n",
       "  </tbody>\n",
       "</table>\n",
       "</div>"
      ],
      "text/plain": [
       "   publisher_id                          publisher\n",
       "0             1                                Ace\n",
       "1             2                           Ace Book\n",
       "2             3                          Ace Books\n",
       "3             4                      Ace Hardcover\n",
       "4             5  Addison Wesley Publishing Company"
      ]
     },
     "execution_count": 8,
     "metadata": {},
     "output_type": "execute_result"
    }
   ],
   "source": [
    "# импорт таблицы publishers\n",
    "query_publishers = \"\"\"\n",
    "\n",
    "    SELECT *\n",
    "    FROM publishers\n",
    "    \n",
    "\"\"\"\n",
    "# вывод таблицы\n",
    "publishers = pd.io.sql.read_sql(query_publishers, con = engine)\n",
    "publishers.head()"
   ]
  },
  {
   "cell_type": "code",
   "execution_count": 9,
   "id": "109814d1",
   "metadata": {},
   "outputs": [
    {
     "name": "stdout",
     "output_type": "stream",
     "text": [
      "<class 'pandas.core.frame.DataFrame'>\n",
      "RangeIndex: 340 entries, 0 to 339\n",
      "Data columns (total 2 columns):\n",
      " #   Column        Non-Null Count  Dtype \n",
      "---  ------        --------------  ----- \n",
      " 0   publisher_id  340 non-null    int64 \n",
      " 1   publisher     340 non-null    object\n",
      "dtypes: int64(1), object(1)\n",
      "memory usage: 5.4+ KB\n"
     ]
    }
   ],
   "source": [
    "# обзор общей информации\n",
    "publishers.info()"
   ]
  },
  {
   "cell_type": "markdown",
   "id": "0ae05ff9",
   "metadata": {},
   "source": [
    "### 2.4 Таблица ratings"
   ]
  },
  {
   "cell_type": "code",
   "execution_count": 10,
   "id": "50cce8d8",
   "metadata": {},
   "outputs": [
    {
     "data": {
      "text/html": [
       "<div>\n",
       "<style scoped>\n",
       "    .dataframe tbody tr th:only-of-type {\n",
       "        vertical-align: middle;\n",
       "    }\n",
       "\n",
       "    .dataframe tbody tr th {\n",
       "        vertical-align: top;\n",
       "    }\n",
       "\n",
       "    .dataframe thead th {\n",
       "        text-align: right;\n",
       "    }\n",
       "</style>\n",
       "<table border=\"1\" class=\"dataframe\">\n",
       "  <thead>\n",
       "    <tr style=\"text-align: right;\">\n",
       "      <th></th>\n",
       "      <th>rating_id</th>\n",
       "      <th>book_id</th>\n",
       "      <th>username</th>\n",
       "      <th>rating</th>\n",
       "    </tr>\n",
       "  </thead>\n",
       "  <tbody>\n",
       "    <tr>\n",
       "      <th>0</th>\n",
       "      <td>1</td>\n",
       "      <td>1</td>\n",
       "      <td>ryanfranco</td>\n",
       "      <td>4</td>\n",
       "    </tr>\n",
       "    <tr>\n",
       "      <th>1</th>\n",
       "      <td>2</td>\n",
       "      <td>1</td>\n",
       "      <td>grantpatricia</td>\n",
       "      <td>2</td>\n",
       "    </tr>\n",
       "    <tr>\n",
       "      <th>2</th>\n",
       "      <td>3</td>\n",
       "      <td>1</td>\n",
       "      <td>brandtandrea</td>\n",
       "      <td>5</td>\n",
       "    </tr>\n",
       "    <tr>\n",
       "      <th>3</th>\n",
       "      <td>4</td>\n",
       "      <td>2</td>\n",
       "      <td>lorichen</td>\n",
       "      <td>3</td>\n",
       "    </tr>\n",
       "    <tr>\n",
       "      <th>4</th>\n",
       "      <td>5</td>\n",
       "      <td>2</td>\n",
       "      <td>mariokeller</td>\n",
       "      <td>2</td>\n",
       "    </tr>\n",
       "  </tbody>\n",
       "</table>\n",
       "</div>"
      ],
      "text/plain": [
       "   rating_id  book_id       username  rating\n",
       "0          1        1     ryanfranco       4\n",
       "1          2        1  grantpatricia       2\n",
       "2          3        1   brandtandrea       5\n",
       "3          4        2       lorichen       3\n",
       "4          5        2    mariokeller       2"
      ]
     },
     "execution_count": 10,
     "metadata": {},
     "output_type": "execute_result"
    }
   ],
   "source": [
    "# импорт таблицы ratings\n",
    "query_ratings = \"\"\"\n",
    "\n",
    "    SELECT *\n",
    "    FROM ratings\n",
    "    \n",
    "\"\"\"\n",
    "# вывод таблицы\n",
    "ratings = pd.io.sql.read_sql(query_ratings, con = engine)\n",
    "ratings.head()"
   ]
  },
  {
   "cell_type": "code",
   "execution_count": 11,
   "id": "fcd90e10",
   "metadata": {},
   "outputs": [
    {
     "name": "stdout",
     "output_type": "stream",
     "text": [
      "<class 'pandas.core.frame.DataFrame'>\n",
      "RangeIndex: 6456 entries, 0 to 6455\n",
      "Data columns (total 4 columns):\n",
      " #   Column     Non-Null Count  Dtype \n",
      "---  ------     --------------  ----- \n",
      " 0   rating_id  6456 non-null   int64 \n",
      " 1   book_id    6456 non-null   int64 \n",
      " 2   username   6456 non-null   object\n",
      " 3   rating     6456 non-null   int64 \n",
      "dtypes: int64(3), object(1)\n",
      "memory usage: 201.9+ KB\n"
     ]
    }
   ],
   "source": [
    "# обзор общей информации\n",
    "ratings.info()"
   ]
  },
  {
   "cell_type": "markdown",
   "id": "7ba690b1",
   "metadata": {},
   "source": [
    "### 2.5 Таблица reviews"
   ]
  },
  {
   "cell_type": "code",
   "execution_count": 12,
   "id": "f4df1869",
   "metadata": {},
   "outputs": [
    {
     "data": {
      "text/html": [
       "<div>\n",
       "<style scoped>\n",
       "    .dataframe tbody tr th:only-of-type {\n",
       "        vertical-align: middle;\n",
       "    }\n",
       "\n",
       "    .dataframe tbody tr th {\n",
       "        vertical-align: top;\n",
       "    }\n",
       "\n",
       "    .dataframe thead th {\n",
       "        text-align: right;\n",
       "    }\n",
       "</style>\n",
       "<table border=\"1\" class=\"dataframe\">\n",
       "  <thead>\n",
       "    <tr style=\"text-align: right;\">\n",
       "      <th></th>\n",
       "      <th>review_id</th>\n",
       "      <th>book_id</th>\n",
       "      <th>username</th>\n",
       "      <th>text</th>\n",
       "    </tr>\n",
       "  </thead>\n",
       "  <tbody>\n",
       "    <tr>\n",
       "      <th>0</th>\n",
       "      <td>1</td>\n",
       "      <td>1</td>\n",
       "      <td>brandtandrea</td>\n",
       "      <td>Mention society tell send professor analysis. ...</td>\n",
       "    </tr>\n",
       "    <tr>\n",
       "      <th>1</th>\n",
       "      <td>2</td>\n",
       "      <td>1</td>\n",
       "      <td>ryanfranco</td>\n",
       "      <td>Foot glass pretty audience hit themselves. Amo...</td>\n",
       "    </tr>\n",
       "    <tr>\n",
       "      <th>2</th>\n",
       "      <td>3</td>\n",
       "      <td>2</td>\n",
       "      <td>lorichen</td>\n",
       "      <td>Listen treat keep worry. Miss husband tax but ...</td>\n",
       "    </tr>\n",
       "    <tr>\n",
       "      <th>3</th>\n",
       "      <td>4</td>\n",
       "      <td>3</td>\n",
       "      <td>johnsonamanda</td>\n",
       "      <td>Finally month interesting blue could nature cu...</td>\n",
       "    </tr>\n",
       "    <tr>\n",
       "      <th>4</th>\n",
       "      <td>5</td>\n",
       "      <td>3</td>\n",
       "      <td>scotttamara</td>\n",
       "      <td>Nation purpose heavy give wait song will. List...</td>\n",
       "    </tr>\n",
       "  </tbody>\n",
       "</table>\n",
       "</div>"
      ],
      "text/plain": [
       "   review_id  book_id       username  \\\n",
       "0          1        1   brandtandrea   \n",
       "1          2        1     ryanfranco   \n",
       "2          3        2       lorichen   \n",
       "3          4        3  johnsonamanda   \n",
       "4          5        3    scotttamara   \n",
       "\n",
       "                                                text  \n",
       "0  Mention society tell send professor analysis. ...  \n",
       "1  Foot glass pretty audience hit themselves. Amo...  \n",
       "2  Listen treat keep worry. Miss husband tax but ...  \n",
       "3  Finally month interesting blue could nature cu...  \n",
       "4  Nation purpose heavy give wait song will. List...  "
      ]
     },
     "execution_count": 12,
     "metadata": {},
     "output_type": "execute_result"
    }
   ],
   "source": [
    "# импорт таблицы reviews\n",
    "query_reviews = \"\"\"\n",
    "\n",
    "    SELECT *\n",
    "    FROM reviews\n",
    "    \n",
    "\"\"\"\n",
    "# вывод таблицы\n",
    "reviews = pd.io.sql.read_sql(query_reviews, con = engine)\n",
    "reviews.head()"
   ]
  },
  {
   "cell_type": "code",
   "execution_count": 13,
   "id": "d914995e",
   "metadata": {},
   "outputs": [
    {
     "name": "stdout",
     "output_type": "stream",
     "text": [
      "<class 'pandas.core.frame.DataFrame'>\n",
      "RangeIndex: 2793 entries, 0 to 2792\n",
      "Data columns (total 4 columns):\n",
      " #   Column     Non-Null Count  Dtype \n",
      "---  ------     --------------  ----- \n",
      " 0   review_id  2793 non-null   int64 \n",
      " 1   book_id    2793 non-null   int64 \n",
      " 2   username   2793 non-null   object\n",
      " 3   text       2793 non-null   object\n",
      "dtypes: int64(2), object(2)\n",
      "memory usage: 87.4+ KB\n"
     ]
    }
   ],
   "source": [
    "# обзор общей информации\n",
    "reviews.info()"
   ]
  },
  {
   "cell_type": "markdown",
   "id": "777c34a5",
   "metadata": {},
   "source": [
    "**Вывод**\n",
    "\n",
    "Данные никак не искажены, можно приступать к выполнению задания"
   ]
  },
  {
   "cell_type": "markdown",
   "id": "a2db5070",
   "metadata": {},
   "source": [
    "## 3. Задание 1"
   ]
  },
  {
   "cell_type": "markdown",
   "id": "f9d2e042",
   "metadata": {},
   "source": [
    "Посчитайте, сколько книг вышло после 1 января 2000 года"
   ]
  },
  {
   "cell_type": "code",
   "execution_count": 14,
   "id": "986523c2",
   "metadata": {},
   "outputs": [
    {
     "data": {
      "text/html": [
       "<div>\n",
       "<style scoped>\n",
       "    .dataframe tbody tr th:only-of-type {\n",
       "        vertical-align: middle;\n",
       "    }\n",
       "\n",
       "    .dataframe tbody tr th {\n",
       "        vertical-align: top;\n",
       "    }\n",
       "\n",
       "    .dataframe thead th {\n",
       "        text-align: right;\n",
       "    }\n",
       "</style>\n",
       "<table border=\"1\" class=\"dataframe\">\n",
       "  <thead>\n",
       "    <tr style=\"text-align: right;\">\n",
       "      <th></th>\n",
       "      <th>count</th>\n",
       "    </tr>\n",
       "  </thead>\n",
       "  <tbody>\n",
       "    <tr>\n",
       "      <th>0</th>\n",
       "      <td>819</td>\n",
       "    </tr>\n",
       "  </tbody>\n",
       "</table>\n",
       "</div>"
      ],
      "text/plain": [
       "   count\n",
       "0    819"
      ]
     },
     "execution_count": 14,
     "metadata": {},
     "output_type": "execute_result"
    }
   ],
   "source": [
    "# написание запроса\n",
    "task_1 = \"\"\"\n",
    "    \n",
    "    SELECT COUNT(DISTINCT(book_id))\n",
    "    FROM books\n",
    "    WHERE publication_date > '2000-01-01'\n",
    "    \n",
    "\"\"\"\n",
    "# вывод запроса\n",
    "pd.io.sql.read_sql(task_1, con = engine)"
   ]
  },
  {
   "cell_type": "markdown",
   "id": "3756ebc3",
   "metadata": {},
   "source": [
    "После 1 января 2000 года вышло **819** книг"
   ]
  },
  {
   "cell_type": "markdown",
   "id": "b09c43a2",
   "metadata": {},
   "source": [
    "## 4. Задание 2"
   ]
  },
  {
   "cell_type": "markdown",
   "id": "4ec8115c",
   "metadata": {},
   "source": [
    "Для каждой книги посчитайте количество обзоров и среднюю оценку"
   ]
  },
  {
   "cell_type": "code",
   "execution_count": 15,
   "id": "e3e0dbd5",
   "metadata": {
    "scrolled": false
   },
   "outputs": [
    {
     "data": {
      "text/html": [
       "<div>\n",
       "<style scoped>\n",
       "    .dataframe tbody tr th:only-of-type {\n",
       "        vertical-align: middle;\n",
       "    }\n",
       "\n",
       "    .dataframe tbody tr th {\n",
       "        vertical-align: top;\n",
       "    }\n",
       "\n",
       "    .dataframe thead th {\n",
       "        text-align: right;\n",
       "    }\n",
       "</style>\n",
       "<table border=\"1\" class=\"dataframe\">\n",
       "  <thead>\n",
       "    <tr style=\"text-align: right;\">\n",
       "      <th></th>\n",
       "      <th>book_id</th>\n",
       "      <th>title</th>\n",
       "      <th>review</th>\n",
       "      <th>rating_avg</th>\n",
       "    </tr>\n",
       "  </thead>\n",
       "  <tbody>\n",
       "    <tr>\n",
       "      <th>0</th>\n",
       "      <td>518</td>\n",
       "      <td>Pop Goes the Weasel (Alex Cross  #5)</td>\n",
       "      <td>4</td>\n",
       "      <td>5.00</td>\n",
       "    </tr>\n",
       "    <tr>\n",
       "      <th>1</th>\n",
       "      <td>732</td>\n",
       "      <td>The Ghost Map: The Story of London's Most Terr...</td>\n",
       "      <td>4</td>\n",
       "      <td>5.00</td>\n",
       "    </tr>\n",
       "    <tr>\n",
       "      <th>2</th>\n",
       "      <td>347</td>\n",
       "      <td>In the Hand of the Goddess (Song of the Liones...</td>\n",
       "      <td>6</td>\n",
       "      <td>5.00</td>\n",
       "    </tr>\n",
       "    <tr>\n",
       "      <th>3</th>\n",
       "      <td>610</td>\n",
       "      <td>Tai-Pan (Asian Saga  #2)</td>\n",
       "      <td>4</td>\n",
       "      <td>5.00</td>\n",
       "    </tr>\n",
       "    <tr>\n",
       "      <th>4</th>\n",
       "      <td>330</td>\n",
       "      <td>How to Be a Domestic Goddess: Baking and the A...</td>\n",
       "      <td>2</td>\n",
       "      <td>5.00</td>\n",
       "    </tr>\n",
       "    <tr>\n",
       "      <th>...</th>\n",
       "      <td>...</td>\n",
       "      <td>...</td>\n",
       "      <td>...</td>\n",
       "      <td>...</td>\n",
       "    </tr>\n",
       "    <tr>\n",
       "      <th>995</th>\n",
       "      <td>915</td>\n",
       "      <td>The World Is Flat: A Brief History of the Twen...</td>\n",
       "      <td>12</td>\n",
       "      <td>2.25</td>\n",
       "    </tr>\n",
       "    <tr>\n",
       "      <th>996</th>\n",
       "      <td>371</td>\n",
       "      <td>Junky</td>\n",
       "      <td>4</td>\n",
       "      <td>2.00</td>\n",
       "    </tr>\n",
       "    <tr>\n",
       "      <th>997</th>\n",
       "      <td>316</td>\n",
       "      <td>His Excellency: George Washington</td>\n",
       "      <td>4</td>\n",
       "      <td>2.00</td>\n",
       "    </tr>\n",
       "    <tr>\n",
       "      <th>998</th>\n",
       "      <td>202</td>\n",
       "      <td>Drowning Ruth</td>\n",
       "      <td>9</td>\n",
       "      <td>2.00</td>\n",
       "    </tr>\n",
       "    <tr>\n",
       "      <th>999</th>\n",
       "      <td>303</td>\n",
       "      <td>Harvesting the Heart</td>\n",
       "      <td>4</td>\n",
       "      <td>1.50</td>\n",
       "    </tr>\n",
       "  </tbody>\n",
       "</table>\n",
       "<p>1000 rows × 4 columns</p>\n",
       "</div>"
      ],
      "text/plain": [
       "     book_id                                              title  review  \\\n",
       "0        518               Pop Goes the Weasel (Alex Cross  #5)       4   \n",
       "1        732  The Ghost Map: The Story of London's Most Terr...       4   \n",
       "2        347  In the Hand of the Goddess (Song of the Liones...       6   \n",
       "3        610                           Tai-Pan (Asian Saga  #2)       4   \n",
       "4        330  How to Be a Domestic Goddess: Baking and the A...       2   \n",
       "..       ...                                                ...     ...   \n",
       "995      915  The World Is Flat: A Brief History of the Twen...      12   \n",
       "996      371                                              Junky       4   \n",
       "997      316                  His Excellency: George Washington       4   \n",
       "998      202                                      Drowning Ruth       9   \n",
       "999      303                               Harvesting the Heart       4   \n",
       "\n",
       "     rating_avg  \n",
       "0          5.00  \n",
       "1          5.00  \n",
       "2          5.00  \n",
       "3          5.00  \n",
       "4          5.00  \n",
       "..          ...  \n",
       "995        2.25  \n",
       "996        2.00  \n",
       "997        2.00  \n",
       "998        2.00  \n",
       "999        1.50  \n",
       "\n",
       "[1000 rows x 4 columns]"
      ]
     },
     "execution_count": 15,
     "metadata": {},
     "output_type": "execute_result"
    }
   ],
   "source": [
    "# написание запроса\n",
    "task_2 = \"\"\"\n",
    "    \n",
    "    SELECT b.book_id AS book_id,\n",
    "           b.title AS title,\n",
    "           COUNT(re.review_id) AS review,\n",
    "           ROUND(AVG(ra.rating), 2) AS rating_avg\n",
    "    FROM books as b\n",
    "    LEFT JOIN reviews AS re ON b.book_id = re.book_id\n",
    "    LEFT JOIN ratings AS ra ON b.book_id = ra.book_id\n",
    "    GROUP BY b.book_id\n",
    "    ORDER BY rating_avg DESC\n",
    "    \n",
    "\"\"\"\n",
    "# вывод запроса\n",
    "pd.io.sql.read_sql(task_2, con = engine)"
   ]
  },
  {
   "cell_type": "markdown",
   "id": "5b97a774",
   "metadata": {},
   "source": [
    "Всех больше обзоров приходится на книгу **Twilight**, со средней оценкой 3.66"
   ]
  },
  {
   "cell_type": "markdown",
   "id": "682f7274",
   "metadata": {},
   "source": [
    "## 5. Задание 3"
   ]
  },
  {
   "cell_type": "markdown",
   "id": "6ca9452e",
   "metadata": {},
   "source": [
    "Определите издательство, которое выпустило наибольшее число книг толще 50 страниц — так вы исключите из анализа брошюры"
   ]
  },
  {
   "cell_type": "code",
   "execution_count": 16,
   "id": "2ddf5a9b",
   "metadata": {
    "scrolled": false
   },
   "outputs": [
    {
     "data": {
      "text/html": [
       "<div>\n",
       "<style scoped>\n",
       "    .dataframe tbody tr th:only-of-type {\n",
       "        vertical-align: middle;\n",
       "    }\n",
       "\n",
       "    .dataframe tbody tr th {\n",
       "        vertical-align: top;\n",
       "    }\n",
       "\n",
       "    .dataframe thead th {\n",
       "        text-align: right;\n",
       "    }\n",
       "</style>\n",
       "<table border=\"1\" class=\"dataframe\">\n",
       "  <thead>\n",
       "    <tr style=\"text-align: right;\">\n",
       "      <th></th>\n",
       "      <th>publisher_id</th>\n",
       "      <th>publisher</th>\n",
       "      <th>book</th>\n",
       "    </tr>\n",
       "  </thead>\n",
       "  <tbody>\n",
       "    <tr>\n",
       "      <th>0</th>\n",
       "      <td>212</td>\n",
       "      <td>Penguin Books</td>\n",
       "      <td>42</td>\n",
       "    </tr>\n",
       "  </tbody>\n",
       "</table>\n",
       "</div>"
      ],
      "text/plain": [
       "   publisher_id      publisher  book\n",
       "0           212  Penguin Books    42"
      ]
     },
     "execution_count": 16,
     "metadata": {},
     "output_type": "execute_result"
    }
   ],
   "source": [
    "# написание запроса\n",
    "task_3 = \"\"\"\n",
    "    \n",
    "    SELECT p.publisher_id AS publisher_id,\n",
    "           p.publisher AS publisher,\n",
    "           COUNT(b.book_id) AS book\n",
    "    FROM books as b\n",
    "    JOIN publishers AS p ON b.publisher_id  = p.publisher_id \n",
    "    WHERE num_pages > 50\n",
    "    GROUP BY p.publisher_id\n",
    "    ORDER BY book DESC\n",
    "    LIMIT 1\n",
    "    \n",
    "\"\"\"\n",
    "# вывод запроса\n",
    "pd.io.sql.read_sql(task_3, con = engine)"
   ]
  },
  {
   "cell_type": "markdown",
   "id": "201c0258",
   "metadata": {},
   "source": [
    "Издательство, которое выпустило наибольшее число книг толще 50 страниц является **Penguin Books**"
   ]
  },
  {
   "cell_type": "markdown",
   "id": "a98e844b",
   "metadata": {},
   "source": [
    "## 6. Задание 4"
   ]
  },
  {
   "cell_type": "markdown",
   "id": "05c50be9",
   "metadata": {},
   "source": [
    "Определите автора с самой высокой средней оценкой книг — учитывайте только книги с 50 и более оценками"
   ]
  },
  {
   "cell_type": "code",
   "execution_count": 17,
   "id": "d035bd5b",
   "metadata": {},
   "outputs": [
    {
     "data": {
      "text/html": [
       "<div>\n",
       "<style scoped>\n",
       "    .dataframe tbody tr th:only-of-type {\n",
       "        vertical-align: middle;\n",
       "    }\n",
       "\n",
       "    .dataframe tbody tr th {\n",
       "        vertical-align: top;\n",
       "    }\n",
       "\n",
       "    .dataframe thead th {\n",
       "        text-align: right;\n",
       "    }\n",
       "</style>\n",
       "<table border=\"1\" class=\"dataframe\">\n",
       "  <thead>\n",
       "    <tr style=\"text-align: right;\">\n",
       "      <th></th>\n",
       "      <th>author_id</th>\n",
       "      <th>author</th>\n",
       "      <th>rating_avg</th>\n",
       "    </tr>\n",
       "  </thead>\n",
       "  <tbody>\n",
       "    <tr>\n",
       "      <th>0</th>\n",
       "      <td>236</td>\n",
       "      <td>J.K. Rowling/Mary GrandPré</td>\n",
       "      <td>4.29</td>\n",
       "    </tr>\n",
       "  </tbody>\n",
       "</table>\n",
       "</div>"
      ],
      "text/plain": [
       "   author_id                      author  rating_avg\n",
       "0        236  J.K. Rowling/Mary GrandPré        4.29"
      ]
     },
     "execution_count": 17,
     "metadata": {},
     "output_type": "execute_result"
    }
   ],
   "source": [
    "# написание запроса\n",
    "task_4 = \"\"\"\n",
    "    \n",
    "    SELECT request.author_id AS author_id,\n",
    "           request.author AS author,\n",
    "           ROUND(AVG(request.rating_avg), 2) AS rating_avg\n",
    "    FROM \n",
    "        (SELECT b.book_id AS id,\n",
    "                a.author_id AS author_id,\n",
    "                a.author AS author,\n",
    "                ROUND(AVG(r.rating), 2) AS rating_avg\n",
    "         FROM books as b\n",
    "         JOIN authors AS a ON b.author_id = a.author_id\n",
    "         JOIN ratings AS r ON b.book_id = r.book_id\n",
    "         GROUP BY b.book_id, a.author_id\n",
    "         HAVING COUNT(rating_id) >= 50) AS request\n",
    "         \n",
    "GROUP BY author_id, author\n",
    "ORDER BY rating_avg DESC  \n",
    "LIMIT 1\n",
    "\n",
    "\"\"\"\n",
    "# вывод запроса\n",
    "pd.io.sql.read_sql(task_4, con = engine)"
   ]
  },
  {
   "cell_type": "markdown",
   "id": "bda2555a",
   "metadata": {},
   "source": [
    "Автор с самой высокой оценкой, учитывая книги с 50 и более оценками является **J.K. Rowling/Mary GrandPré**"
   ]
  },
  {
   "cell_type": "markdown",
   "id": "5d1b3ed9",
   "metadata": {},
   "source": [
    "## 7. Задача 5"
   ]
  },
  {
   "cell_type": "markdown",
   "id": "ca198c6b",
   "metadata": {},
   "source": [
    "Посчитайте среднее количество обзоров от пользователей, которые поставили больше 50 оценок"
   ]
  },
  {
   "cell_type": "code",
   "execution_count": 18,
   "id": "85e698cd",
   "metadata": {},
   "outputs": [
    {
     "data": {
      "text/html": [
       "<div>\n",
       "<style scoped>\n",
       "    .dataframe tbody tr th:only-of-type {\n",
       "        vertical-align: middle;\n",
       "    }\n",
       "\n",
       "    .dataframe tbody tr th {\n",
       "        vertical-align: top;\n",
       "    }\n",
       "\n",
       "    .dataframe thead th {\n",
       "        text-align: right;\n",
       "    }\n",
       "</style>\n",
       "<table border=\"1\" class=\"dataframe\">\n",
       "  <thead>\n",
       "    <tr style=\"text-align: right;\">\n",
       "      <th></th>\n",
       "      <th>review_avg</th>\n",
       "    </tr>\n",
       "  </thead>\n",
       "  <tbody>\n",
       "    <tr>\n",
       "      <th>0</th>\n",
       "      <td>24.0</td>\n",
       "    </tr>\n",
       "  </tbody>\n",
       "</table>\n",
       "</div>"
      ],
      "text/plain": [
       "   review_avg\n",
       "0        24.0"
      ]
     },
     "execution_count": 18,
     "metadata": {},
     "output_type": "execute_result"
    }
   ],
   "source": [
    "# написание запроса\n",
    "task_5 = \"\"\"\n",
    "\n",
    "SELECT ROUND(AVG(review)) AS review_avg\n",
    "FROM\n",
    "    (SELECT COUNT(review_id) as review\n",
    "     FROM reviews\n",
    "     WHERE username IN (SELECT username\n",
    "                        FROM ratings\n",
    "                        GROUP BY username\n",
    "                        HAVING COUNT(rating_id) > 50)\n",
    "     GROUP BY username) as review_username\n",
    "\n",
    "\"\"\"\n",
    "# вывод запроса\n",
    "pd.io.sql.read_sql(task_5, con = engine)"
   ]
  },
  {
   "cell_type": "markdown",
   "id": "3eabe5c3",
   "metadata": {},
   "source": [
    "В среднем **24** обзора приходится от пользователей, которые поставили больше 50 оценок"
   ]
  },
  {
   "cell_type": "markdown",
   "id": "6ed8ff99",
   "metadata": {},
   "source": [
    "## 8. Вывод\n",
    "\n",
    "Была проделана небольшая исследовательская работа по базе данных книжного сервиса:\n",
    "\n",
    "* После 1 января 2000 года вышло **819** книг\n",
    "* Всех больше обзоров приходится на книгу **Twilight**, со средней оценкой 3.66\n",
    "* Издательство, которое выпустило наибольшее число книг толще 50 страниц является **Penguin Books**\n",
    "* Автор с самой высокой оценкой, учитывая книги с 50 и более оценками является **J.K. Rowling/Mary GrandPré**\n",
    "* В среднем **24** обзора приходится от пользователей, которые поставили больше 50 оценок"
   ]
  }
 ],
 "metadata": {
  "ExecuteTimeLog": [
   {
    "duration": 562,
    "start_time": "2022-08-20T14:26:07.203Z"
   },
   {
    "duration": 6261,
    "start_time": "2022-08-20T14:26:07.767Z"
   },
   {
    "duration": 474,
    "start_time": "2022-08-20T14:26:16.743Z"
   },
   {
    "duration": 8541,
    "start_time": "2022-08-20T14:26:17.219Z"
   },
   {
    "duration": 386,
    "start_time": "2022-08-20T14:26:25.762Z"
   },
   {
    "duration": 14,
    "start_time": "2022-08-20T14:26:26.150Z"
   },
   {
    "duration": 15,
    "start_time": "2022-08-20T14:26:26.166Z"
   },
   {
    "duration": 100,
    "start_time": "2022-08-20T14:26:26.183Z"
   },
   {
    "duration": 17,
    "start_time": "2022-08-20T14:26:26.286Z"
   },
   {
    "duration": 89,
    "start_time": "2022-08-20T14:26:26.304Z"
   },
   {
    "duration": 11,
    "start_time": "2022-08-20T14:26:26.397Z"
   },
   {
    "duration": 129,
    "start_time": "2022-08-20T14:26:26.410Z"
   },
   {
    "duration": 10,
    "start_time": "2022-08-20T14:26:26.541Z"
   },
   {
    "duration": 119,
    "start_time": "2022-08-20T14:26:26.552Z"
   },
   {
    "duration": 18,
    "start_time": "2022-08-20T14:26:26.673Z"
   },
   {
    "duration": 113,
    "start_time": "2022-08-20T14:26:26.693Z"
   },
   {
    "duration": 108,
    "start_time": "2022-08-20T14:26:26.811Z"
   },
   {
    "duration": 83,
    "start_time": "2022-08-20T14:26:26.920Z"
   },
   {
    "duration": 112,
    "start_time": "2022-08-20T14:26:27.004Z"
   },
   {
    "duration": 97,
    "start_time": "2022-08-20T14:26:27.117Z"
   },
   {
    "duration": 114,
    "start_time": "2022-08-20T14:27:31.527Z"
   },
   {
    "duration": 117,
    "start_time": "2022-08-20T14:27:39.507Z"
   },
   {
    "duration": 15,
    "start_time": "2022-08-20T14:27:52.560Z"
   },
   {
    "duration": 6,
    "start_time": "2022-08-20T14:28:41.550Z"
   },
   {
    "duration": 123,
    "start_time": "2022-08-20T14:29:12.894Z"
   },
   {
    "duration": 5,
    "start_time": "2022-08-20T14:29:57.638Z"
   },
   {
    "duration": 149,
    "start_time": "2022-08-20T14:30:07.552Z"
   },
   {
    "duration": 212,
    "start_time": "2022-08-20T14:31:46.354Z"
   },
   {
    "duration": 128,
    "start_time": "2022-08-20T14:32:06.480Z"
   },
   {
    "duration": 125,
    "start_time": "2022-08-20T14:32:10.954Z"
   },
   {
    "duration": 121,
    "start_time": "2022-08-20T14:32:51.702Z"
   },
   {
    "duration": 120,
    "start_time": "2022-08-20T14:33:00.003Z"
   },
   {
    "duration": 136,
    "start_time": "2022-08-20T14:33:23.578Z"
   },
   {
    "duration": 4,
    "start_time": "2022-08-20T14:34:25.950Z"
   },
   {
    "duration": 140,
    "start_time": "2022-08-20T14:36:46.798Z"
   },
   {
    "duration": 130,
    "start_time": "2022-08-20T14:39:22.916Z"
   },
   {
    "duration": 135,
    "start_time": "2022-08-20T14:40:35.015Z"
   },
   {
    "duration": 152,
    "start_time": "2022-08-20T14:40:41.664Z"
   },
   {
    "duration": 577,
    "start_time": "2022-08-20T14:41:07.817Z"
   },
   {
    "duration": 6065,
    "start_time": "2022-08-20T14:41:08.395Z"
   },
   {
    "duration": 341,
    "start_time": "2022-08-20T14:41:14.462Z"
   },
   {
    "duration": 11,
    "start_time": "2022-08-20T14:41:14.806Z"
   },
   {
    "duration": 20,
    "start_time": "2022-08-20T14:41:14.818Z"
   },
   {
    "duration": 93,
    "start_time": "2022-08-20T14:41:14.840Z"
   },
   {
    "duration": 12,
    "start_time": "2022-08-20T14:41:14.935Z"
   },
   {
    "duration": 86,
    "start_time": "2022-08-20T14:41:14.950Z"
   },
   {
    "duration": 11,
    "start_time": "2022-08-20T14:41:15.038Z"
   },
   {
    "duration": 124,
    "start_time": "2022-08-20T14:41:15.052Z"
   },
   {
    "duration": 12,
    "start_time": "2022-08-20T14:41:15.178Z"
   },
   {
    "duration": 117,
    "start_time": "2022-08-20T14:41:15.191Z"
   },
   {
    "duration": 10,
    "start_time": "2022-08-20T14:41:15.309Z"
   },
   {
    "duration": 84,
    "start_time": "2022-08-20T14:41:15.321Z"
   },
   {
    "duration": 95,
    "start_time": "2022-08-20T14:41:15.407Z"
   },
   {
    "duration": 215,
    "start_time": "2022-08-20T14:41:15.505Z"
   },
   {
    "duration": 0,
    "start_time": "2022-08-20T14:41:15.723Z"
   },
   {
    "duration": 0,
    "start_time": "2022-08-20T14:41:15.724Z"
   },
   {
    "duration": 0,
    "start_time": "2022-08-20T14:41:15.725Z"
   },
   {
    "duration": 0,
    "start_time": "2022-08-20T14:41:15.727Z"
   },
   {
    "duration": 117,
    "start_time": "2022-08-20T14:41:57.269Z"
   },
   {
    "duration": 132,
    "start_time": "2022-08-20T14:43:27.510Z"
   },
   {
    "duration": 506,
    "start_time": "2022-08-20T14:43:32.317Z"
   },
   {
    "duration": 7059,
    "start_time": "2022-08-20T14:43:32.825Z"
   },
   {
    "duration": 357,
    "start_time": "2022-08-20T14:43:39.886Z"
   },
   {
    "duration": 12,
    "start_time": "2022-08-20T14:43:40.245Z"
   },
   {
    "duration": 17,
    "start_time": "2022-08-20T14:43:40.259Z"
   },
   {
    "duration": 109,
    "start_time": "2022-08-20T14:43:40.278Z"
   },
   {
    "duration": 14,
    "start_time": "2022-08-20T14:43:40.388Z"
   },
   {
    "duration": 114,
    "start_time": "2022-08-20T14:43:40.410Z"
   },
   {
    "duration": 11,
    "start_time": "2022-08-20T14:43:40.525Z"
   },
   {
    "duration": 163,
    "start_time": "2022-08-20T14:43:40.538Z"
   },
   {
    "duration": 16,
    "start_time": "2022-08-20T14:43:40.704Z"
   },
   {
    "duration": 137,
    "start_time": "2022-08-20T14:43:40.722Z"
   },
   {
    "duration": 20,
    "start_time": "2022-08-20T14:43:40.884Z"
   },
   {
    "duration": 132,
    "start_time": "2022-08-20T14:43:40.907Z"
   },
   {
    "duration": 116,
    "start_time": "2022-08-20T14:43:41.040Z"
   },
   {
    "duration": 174,
    "start_time": "2022-08-20T14:43:41.157Z"
   },
   {
    "duration": 4,
    "start_time": "2022-08-20T14:43:41.333Z"
   },
   {
    "duration": 103,
    "start_time": "2022-08-20T14:43:41.339Z"
   },
   {
    "duration": 103,
    "start_time": "2022-08-20T14:43:41.443Z"
   },
   {
    "duration": 94,
    "start_time": "2022-08-20T14:43:41.549Z"
   },
   {
    "duration": 245,
    "start_time": "2022-08-20T14:44:47.853Z"
   },
   {
    "duration": 208,
    "start_time": "2022-08-20T14:45:17.718Z"
   },
   {
    "duration": 149,
    "start_time": "2022-08-20T14:45:42.778Z"
   },
   {
    "duration": 132,
    "start_time": "2022-08-20T14:46:03.323Z"
   },
   {
    "duration": 135,
    "start_time": "2022-08-20T14:46:14.245Z"
   },
   {
    "duration": 503,
    "start_time": "2022-08-20T14:46:19.745Z"
   },
   {
    "duration": 7777,
    "start_time": "2022-08-20T14:46:20.250Z"
   },
   {
    "duration": 390,
    "start_time": "2022-08-20T14:46:28.029Z"
   },
   {
    "duration": 12,
    "start_time": "2022-08-20T14:46:28.421Z"
   },
   {
    "duration": 18,
    "start_time": "2022-08-20T14:46:28.436Z"
   },
   {
    "duration": 116,
    "start_time": "2022-08-20T14:46:28.456Z"
   },
   {
    "duration": 13,
    "start_time": "2022-08-20T14:46:28.574Z"
   },
   {
    "duration": 149,
    "start_time": "2022-08-20T14:46:28.589Z"
   },
   {
    "duration": 14,
    "start_time": "2022-08-20T14:46:28.740Z"
   },
   {
    "duration": 142,
    "start_time": "2022-08-20T14:46:28.755Z"
   },
   {
    "duration": 21,
    "start_time": "2022-08-20T14:46:28.903Z"
   },
   {
    "duration": 144,
    "start_time": "2022-08-20T14:46:28.926Z"
   },
   {
    "duration": 13,
    "start_time": "2022-08-20T14:46:29.072Z"
   },
   {
    "duration": 145,
    "start_time": "2022-08-20T14:46:29.092Z"
   },
   {
    "duration": 129,
    "start_time": "2022-08-20T14:46:29.239Z"
   },
   {
    "duration": 124,
    "start_time": "2022-08-20T14:46:29.370Z"
   },
   {
    "duration": 6,
    "start_time": "2022-08-20T14:46:29.496Z"
   },
   {
    "duration": 134,
    "start_time": "2022-08-20T14:46:29.504Z"
   },
   {
    "duration": 117,
    "start_time": "2022-08-20T14:46:29.640Z"
   },
   {
    "duration": 107,
    "start_time": "2022-08-20T14:46:29.759Z"
   },
   {
    "duration": 310,
    "start_time": "2022-08-20T14:48:17.283Z"
   },
   {
    "duration": 514,
    "start_time": "2022-08-20T14:49:00.329Z"
   },
   {
    "duration": 7249,
    "start_time": "2022-08-20T14:49:00.845Z"
   },
   {
    "duration": 373,
    "start_time": "2022-08-20T14:49:08.100Z"
   },
   {
    "duration": 18,
    "start_time": "2022-08-20T14:49:08.475Z"
   },
   {
    "duration": 27,
    "start_time": "2022-08-20T14:49:08.502Z"
   },
   {
    "duration": 99,
    "start_time": "2022-08-20T14:49:08.531Z"
   },
   {
    "duration": 8,
    "start_time": "2022-08-20T14:49:08.632Z"
   },
   {
    "duration": 98,
    "start_time": "2022-08-20T14:49:08.642Z"
   },
   {
    "duration": 9,
    "start_time": "2022-08-20T14:49:08.742Z"
   },
   {
    "duration": 115,
    "start_time": "2022-08-20T14:49:08.754Z"
   },
   {
    "duration": 10,
    "start_time": "2022-08-20T14:49:08.871Z"
   },
   {
    "duration": 147,
    "start_time": "2022-08-20T14:49:08.882Z"
   },
   {
    "duration": 10,
    "start_time": "2022-08-20T14:49:09.031Z"
   },
   {
    "duration": 109,
    "start_time": "2022-08-20T14:49:09.042Z"
   },
   {
    "duration": 109,
    "start_time": "2022-08-20T14:49:09.153Z"
   },
   {
    "duration": 96,
    "start_time": "2022-08-20T14:49:09.264Z"
   },
   {
    "duration": 240,
    "start_time": "2022-08-20T14:49:09.362Z"
   },
   {
    "duration": 0,
    "start_time": "2022-08-20T14:49:09.604Z"
   },
   {
    "duration": 91,
    "start_time": "2022-08-20T14:49:18.801Z"
   },
   {
    "duration": 99,
    "start_time": "2022-08-20T14:49:38.853Z"
   },
   {
    "duration": 210,
    "start_time": "2022-08-20T14:53:51.272Z"
   },
   {
    "duration": 194,
    "start_time": "2022-08-20T14:54:28.208Z"
   },
   {
    "duration": 158,
    "start_time": "2022-08-20T14:54:40.411Z"
   },
   {
    "duration": 197,
    "start_time": "2022-08-20T14:55:57.341Z"
   },
   {
    "duration": 166,
    "start_time": "2022-08-20T14:56:42.483Z"
   },
   {
    "duration": 169,
    "start_time": "2022-08-20T14:57:40.614Z"
   },
   {
    "duration": 152,
    "start_time": "2022-08-20T14:57:58.018Z"
   },
   {
    "duration": 180,
    "start_time": "2022-08-20T15:01:25.603Z"
   },
   {
    "duration": 152,
    "start_time": "2022-08-20T15:01:42.118Z"
   },
   {
    "duration": 109,
    "start_time": "2022-08-20T15:01:52.324Z"
   },
   {
    "duration": 636,
    "start_time": "2022-08-20T15:02:23.809Z"
   },
   {
    "duration": 173,
    "start_time": "2022-08-20T15:03:20.524Z"
   },
   {
    "duration": 207,
    "start_time": "2022-08-20T15:03:45.640Z"
   },
   {
    "duration": 99,
    "start_time": "2022-08-20T15:04:02.780Z"
   },
   {
    "duration": 105,
    "start_time": "2022-08-20T15:04:44.724Z"
   },
   {
    "duration": 122,
    "start_time": "2022-08-20T15:05:32.169Z"
   },
   {
    "duration": 107,
    "start_time": "2022-08-20T15:05:37.463Z"
   },
   {
    "duration": 87,
    "start_time": "2022-08-20T15:05:40.611Z"
   },
   {
    "duration": 98,
    "start_time": "2022-08-20T15:07:22.329Z"
   },
   {
    "duration": 100,
    "start_time": "2022-08-20T15:09:06.656Z"
   },
   {
    "duration": 107,
    "start_time": "2022-08-20T15:10:21.718Z"
   },
   {
    "duration": 107,
    "start_time": "2022-08-20T15:10:37.462Z"
   },
   {
    "duration": 108,
    "start_time": "2022-08-20T15:12:16.413Z"
   },
   {
    "duration": 186,
    "start_time": "2022-08-20T15:12:34.864Z"
   },
   {
    "duration": 93,
    "start_time": "2022-08-20T15:13:13.132Z"
   },
   {
    "duration": 150,
    "start_time": "2022-08-20T15:14:54.705Z"
   },
   {
    "duration": 296,
    "start_time": "2022-08-20T15:15:09.531Z"
   },
   {
    "duration": 141,
    "start_time": "2022-08-20T15:15:27.072Z"
   },
   {
    "duration": 90,
    "start_time": "2022-08-20T15:16:18.935Z"
   },
   {
    "duration": 552,
    "start_time": "2022-08-20T15:16:26.267Z"
   },
   {
    "duration": 8100,
    "start_time": "2022-08-20T15:16:26.821Z"
   },
   {
    "duration": 305,
    "start_time": "2022-08-20T15:16:34.922Z"
   },
   {
    "duration": 11,
    "start_time": "2022-08-20T15:16:35.229Z"
   },
   {
    "duration": 12,
    "start_time": "2022-08-20T15:16:35.243Z"
   },
   {
    "duration": 81,
    "start_time": "2022-08-20T15:16:35.257Z"
   },
   {
    "duration": 9,
    "start_time": "2022-08-20T15:16:35.340Z"
   },
   {
    "duration": 85,
    "start_time": "2022-08-20T15:16:35.351Z"
   },
   {
    "duration": 12,
    "start_time": "2022-08-20T15:16:35.437Z"
   },
   {
    "duration": 114,
    "start_time": "2022-08-20T15:16:35.450Z"
   },
   {
    "duration": 10,
    "start_time": "2022-08-20T15:16:35.566Z"
   },
   {
    "duration": 103,
    "start_time": "2022-08-20T15:16:35.577Z"
   },
   {
    "duration": 18,
    "start_time": "2022-08-20T15:16:35.681Z"
   },
   {
    "duration": 81,
    "start_time": "2022-08-20T15:16:35.704Z"
   },
   {
    "duration": 104,
    "start_time": "2022-08-20T15:16:35.787Z"
   },
   {
    "duration": 80,
    "start_time": "2022-08-20T15:16:35.892Z"
   },
   {
    "duration": 88,
    "start_time": "2022-08-20T15:16:35.973Z"
   },
   {
    "duration": 89,
    "start_time": "2022-08-20T15:16:36.063Z"
   },
   {
    "duration": 87,
    "start_time": "2022-08-20T15:16:36.154Z"
   },
   {
    "duration": 86,
    "start_time": "2022-08-20T15:16:36.243Z"
   },
   {
    "duration": 95,
    "start_time": "2022-08-20T15:17:17.642Z"
   },
   {
    "duration": 117,
    "start_time": "2022-08-20T15:17:32.763Z"
   },
   {
    "duration": 86,
    "start_time": "2022-08-20T15:17:37.917Z"
   },
   {
    "duration": 93,
    "start_time": "2022-08-20T15:17:45.410Z"
   },
   {
    "duration": 92,
    "start_time": "2022-08-20T15:17:52.954Z"
   },
   {
    "duration": 88,
    "start_time": "2022-08-20T15:18:51.761Z"
   },
   {
    "duration": 89,
    "start_time": "2022-08-20T15:18:55.922Z"
   },
   {
    "duration": 91,
    "start_time": "2022-08-20T15:19:02.477Z"
   },
   {
    "duration": 87,
    "start_time": "2022-08-20T15:19:57.279Z"
   },
   {
    "duration": 80,
    "start_time": "2022-08-20T15:20:01.503Z"
   },
   {
    "duration": 630,
    "start_time": "2022-08-20T15:22:37.917Z"
   },
   {
    "duration": 7934,
    "start_time": "2022-08-20T15:22:38.549Z"
   },
   {
    "duration": 324,
    "start_time": "2022-08-20T15:22:46.485Z"
   },
   {
    "duration": 14,
    "start_time": "2022-08-20T15:22:46.811Z"
   },
   {
    "duration": 16,
    "start_time": "2022-08-20T15:22:46.827Z"
   },
   {
    "duration": 99,
    "start_time": "2022-08-20T15:22:46.845Z"
   },
   {
    "duration": 11,
    "start_time": "2022-08-20T15:22:46.946Z"
   },
   {
    "duration": 85,
    "start_time": "2022-08-20T15:22:46.959Z"
   },
   {
    "duration": 12,
    "start_time": "2022-08-20T15:22:47.047Z"
   },
   {
    "duration": 112,
    "start_time": "2022-08-20T15:22:47.061Z"
   },
   {
    "duration": 15,
    "start_time": "2022-08-20T15:22:47.175Z"
   },
   {
    "duration": 99,
    "start_time": "2022-08-20T15:22:47.192Z"
   },
   {
    "duration": 16,
    "start_time": "2022-08-20T15:22:47.295Z"
   },
   {
    "duration": 79,
    "start_time": "2022-08-20T15:22:47.314Z"
   },
   {
    "duration": 99,
    "start_time": "2022-08-20T15:22:47.396Z"
   },
   {
    "duration": 77,
    "start_time": "2022-08-20T15:22:47.497Z"
   },
   {
    "duration": 89,
    "start_time": "2022-08-20T15:22:47.576Z"
   },
   {
    "duration": 91,
    "start_time": "2022-08-20T15:22:47.667Z"
   },
   {
    "duration": 460,
    "start_time": "2022-09-02T09:14:52.888Z"
   },
   {
    "duration": 10692,
    "start_time": "2022-09-02T09:14:53.349Z"
   },
   {
    "duration": 70,
    "start_time": "2022-09-02T09:15:04.043Z"
   },
   {
    "duration": 9,
    "start_time": "2022-09-02T09:15:04.114Z"
   },
   {
    "duration": 17,
    "start_time": "2022-09-02T09:15:04.125Z"
   },
   {
    "duration": 14,
    "start_time": "2022-09-02T09:15:04.143Z"
   },
   {
    "duration": 8,
    "start_time": "2022-09-02T09:15:04.159Z"
   },
   {
    "duration": 14,
    "start_time": "2022-09-02T09:15:04.169Z"
   },
   {
    "duration": 9,
    "start_time": "2022-09-02T09:15:04.184Z"
   },
   {
    "duration": 26,
    "start_time": "2022-09-02T09:15:04.195Z"
   },
   {
    "duration": 10,
    "start_time": "2022-09-02T09:15:04.222Z"
   },
   {
    "duration": 17,
    "start_time": "2022-09-02T09:15:04.254Z"
   },
   {
    "duration": 8,
    "start_time": "2022-09-02T09:15:04.272Z"
   },
   {
    "duration": 10,
    "start_time": "2022-09-02T09:15:04.283Z"
   },
   {
    "duration": 35,
    "start_time": "2022-09-02T09:15:04.295Z"
   },
   {
    "duration": 23,
    "start_time": "2022-09-02T09:15:04.333Z"
   },
   {
    "duration": 21,
    "start_time": "2022-09-02T09:15:04.358Z"
   },
   {
    "duration": 16,
    "start_time": "2022-09-02T09:15:04.381Z"
   }
  ],
  "kernelspec": {
   "display_name": "Python 3 (ipykernel)",
   "language": "python",
   "name": "python3"
  },
  "language_info": {
   "codemirror_mode": {
    "name": "ipython",
    "version": 3
   },
   "file_extension": ".py",
   "mimetype": "text/x-python",
   "name": "python",
   "nbconvert_exporter": "python",
   "pygments_lexer": "ipython3",
   "version": "3.9.12"
  },
  "toc": {
   "base_numbering": 1,
   "nav_menu": {},
   "number_sections": true,
   "sideBar": true,
   "skip_h1_title": true,
   "title_cell": "Table of Contents",
   "title_sidebar": "Contents",
   "toc_cell": false,
   "toc_position": {
    "height": "calc(100% - 180px)",
    "left": "10px",
    "top": "150px",
    "width": "289.438px"
   },
   "toc_section_display": true,
   "toc_window_display": true
  }
 },
 "nbformat": 4,
 "nbformat_minor": 5
}
