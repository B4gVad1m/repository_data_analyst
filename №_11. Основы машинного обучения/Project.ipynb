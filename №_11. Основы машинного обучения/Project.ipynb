{
 "cells": [
  {
   "cell_type": "markdown",
   "metadata": {},
   "source": [
    "<h1>Оглавление<span class=\"tocSkip\"></span></h1>\n",
    "<div class=\"toc\"><ul class=\"toc-item\"><li><span><a data-toc-modified-id=\"Загрузка-и-обзор-данных-1\"><span class=\"toc-item-num\">1&nbsp;&nbsp;</span>Загрузка и обзор данных</a></span></li><li><span><a data-toc-modified-id=\"Предобработка-данных-2\"><span class=\"toc-item-num\">2&nbsp;&nbsp;</span>Предобработка данных</a></span></li><li><span><a data-toc-modified-id=\"Исследовательский-анализ-данных-(EDA)-3\"><span class=\"toc-item-num\">3&nbsp;&nbsp;</span>Исследовательский анализ данных (EDA)</a></span><ul class=\"toc-item\"><li><span><a data-toc-modified-id=\"Вывод-по-блоку-3.1\"><span class=\"toc-item-num\">3.1&nbsp;&nbsp;</span>Вывод по блоку</a></span></li></ul></li><li><span><a data-toc-modified-id=\"Построение-модели-прогнозирования-оттока-клиентов-4\"><span class=\"toc-item-num\">4&nbsp;&nbsp;</span>Построение модели прогнозирования оттока клиентов</a></span></li><li><span><a data-toc-modified-id=\"Создание-кластеризации-клиентов-5\"><span class=\"toc-item-num\">5&nbsp;&nbsp;</span>Создание кластеризации клиентов</a></span></li><li><span><a data-toc-modified-id=\"Вывод-и-рекомендация-6\"><span class=\"toc-item-num\">6&nbsp;&nbsp;</span>Вывод и рекомендация</a></span></li></ul></div>"
   ]
  },
  {
   "cell_type": "markdown",
   "metadata": {},
   "source": [
    "# Исследования оттока клиентов в сети фитнес-центров «Культурист-датасаентист»"
   ]
  },
  {
   "cell_type": "markdown",
   "metadata": {},
   "source": [
    "**Информация исследования**\n",
    "\n",
    "Распространённая проблема фитнес-клубов и других сервисов — отток клиентов. Чтобы бороться с оттоком, отдел по работе с клиентами «Культуриста-датасаентиста» перевёл в электронный вид множество клиентских анкет\n",
    "\n",
    "**Цель исследования**\n",
    "\n",
    "Провести анализ и подготовить план действий по удержанию клиентов\n",
    "\n",
    "**Описание данных**\n",
    "\n",
    "Данные клиента за предыдущий до проверки факта оттока месяц:\n",
    "\n",
    "* `gender` — пол;\n",
    "* `Near_Location` — проживание или работа в районе, где находится фитнес-центр;\n",
    "* `Partner` — сотрудник компании-партнёра клуба (сотрудничество с компаниями, чьи сотрудники могут получать скидки на абонемент — в таком случае фитнес-центр хранит информацию о работодателе клиента);\n",
    "* `Promo_friends` — факт первоначальной записи в рамках акции «приведи друга» (использовал промо-код от знакомого при оплате первого абонемента);\n",
    "* `Phone` — наличие контактного телефона;\n",
    "* `Age` — возраст;\n",
    "* `Lifetime` — время с момента первого обращения в фитнес-центр (в месяцах)\n",
    "\n",
    "Информация на основе журнала посещений, покупок и информация о текущем статусе абонемента клиента:\n",
    "\n",
    "* `Contract_period` — длительность текущего действующего абонемента (месяц, 6 месяцев, год);\n",
    "* `Month_to_end_contract` — срок до окончания текущего действующего абонемента (в месяцах);\n",
    "* `Group_visits` — факт посещения групповых занятий;\n",
    "* `Avg_class_frequency_total` — средняя частота посещений в неделю за все время с начала действия абонемента;\n",
    "* `Avg_class_frequency_current_month` — средняя частота посещений в неделю за предыдущий месяц;\n",
    "* `Avg_additional_charges_total` — суммарная выручка от других услуг фитнес-центра: кафе, спорттовары, косметический и массажный салон\n",
    "* `Churn` — факт оттока в текущем месяце"
   ]
  },
  {
   "cell_type": "markdown",
   "metadata": {},
   "source": [
    "## 1. Загрузка и обзор данных"
   ]
  },
  {
   "cell_type": "code",
   "execution_count": 1,
   "metadata": {},
   "outputs": [],
   "source": [
    "# имипорт библиотек\n",
    "import pandas as pd\n",
    "import seaborn as sns\n",
    "import matplotlib.pyplot as plt\n",
    "from sklearn.preprocessing import StandardScaler\n",
    "from sklearn.model_selection import train_test_split\n",
    "from sklearn.linear_model import LogisticRegression\n",
    "from sklearn.ensemble import RandomForestClassifier\n",
    "from sklearn.tree import DecisionTreeRegressor\n",
    "from sklearn.cluster import KMeans\n",
    "from sklearn.ensemble import RandomForestRegressor\n",
    "from sklearn.metrics import accuracy_score, precision_score, recall_score\n",
    "from scipy.cluster.hierarchy import dendrogram, linkage"
   ]
  },
  {
   "cell_type": "code",
   "execution_count": 2,
   "metadata": {},
   "outputs": [
    {
     "data": {
      "text/html": [
       "<div>\n",
       "<style scoped>\n",
       "    .dataframe tbody tr th:only-of-type {\n",
       "        vertical-align: middle;\n",
       "    }\n",
       "\n",
       "    .dataframe tbody tr th {\n",
       "        vertical-align: top;\n",
       "    }\n",
       "\n",
       "    .dataframe thead th {\n",
       "        text-align: right;\n",
       "    }\n",
       "</style>\n",
       "<table border=\"1\" class=\"dataframe\">\n",
       "  <thead>\n",
       "    <tr style=\"text-align: right;\">\n",
       "      <th></th>\n",
       "      <th>gender</th>\n",
       "      <th>Near_Location</th>\n",
       "      <th>Partner</th>\n",
       "      <th>Promo_friends</th>\n",
       "      <th>Phone</th>\n",
       "      <th>Contract_period</th>\n",
       "      <th>Group_visits</th>\n",
       "      <th>Age</th>\n",
       "      <th>Avg_additional_charges_total</th>\n",
       "      <th>Month_to_end_contract</th>\n",
       "      <th>Lifetime</th>\n",
       "      <th>Avg_class_frequency_total</th>\n",
       "      <th>Avg_class_frequency_current_month</th>\n",
       "      <th>Churn</th>\n",
       "    </tr>\n",
       "  </thead>\n",
       "  <tbody>\n",
       "    <tr>\n",
       "      <th>0</th>\n",
       "      <td>1</td>\n",
       "      <td>1</td>\n",
       "      <td>1</td>\n",
       "      <td>1</td>\n",
       "      <td>0</td>\n",
       "      <td>6</td>\n",
       "      <td>1</td>\n",
       "      <td>29</td>\n",
       "      <td>14.227470</td>\n",
       "      <td>5.0</td>\n",
       "      <td>3</td>\n",
       "      <td>0.020398</td>\n",
       "      <td>0.000000</td>\n",
       "      <td>0</td>\n",
       "    </tr>\n",
       "    <tr>\n",
       "      <th>1</th>\n",
       "      <td>0</td>\n",
       "      <td>1</td>\n",
       "      <td>0</td>\n",
       "      <td>0</td>\n",
       "      <td>1</td>\n",
       "      <td>12</td>\n",
       "      <td>1</td>\n",
       "      <td>31</td>\n",
       "      <td>113.202938</td>\n",
       "      <td>12.0</td>\n",
       "      <td>7</td>\n",
       "      <td>1.922936</td>\n",
       "      <td>1.910244</td>\n",
       "      <td>0</td>\n",
       "    </tr>\n",
       "    <tr>\n",
       "      <th>2</th>\n",
       "      <td>0</td>\n",
       "      <td>1</td>\n",
       "      <td>1</td>\n",
       "      <td>0</td>\n",
       "      <td>1</td>\n",
       "      <td>1</td>\n",
       "      <td>0</td>\n",
       "      <td>28</td>\n",
       "      <td>129.448479</td>\n",
       "      <td>1.0</td>\n",
       "      <td>2</td>\n",
       "      <td>1.859098</td>\n",
       "      <td>1.736502</td>\n",
       "      <td>0</td>\n",
       "    </tr>\n",
       "    <tr>\n",
       "      <th>3</th>\n",
       "      <td>0</td>\n",
       "      <td>1</td>\n",
       "      <td>1</td>\n",
       "      <td>1</td>\n",
       "      <td>1</td>\n",
       "      <td>12</td>\n",
       "      <td>1</td>\n",
       "      <td>33</td>\n",
       "      <td>62.669863</td>\n",
       "      <td>12.0</td>\n",
       "      <td>2</td>\n",
       "      <td>3.205633</td>\n",
       "      <td>3.357215</td>\n",
       "      <td>0</td>\n",
       "    </tr>\n",
       "    <tr>\n",
       "      <th>4</th>\n",
       "      <td>1</td>\n",
       "      <td>1</td>\n",
       "      <td>1</td>\n",
       "      <td>1</td>\n",
       "      <td>1</td>\n",
       "      <td>1</td>\n",
       "      <td>0</td>\n",
       "      <td>26</td>\n",
       "      <td>198.362265</td>\n",
       "      <td>1.0</td>\n",
       "      <td>3</td>\n",
       "      <td>1.113884</td>\n",
       "      <td>1.120078</td>\n",
       "      <td>0</td>\n",
       "    </tr>\n",
       "  </tbody>\n",
       "</table>\n",
       "</div>"
      ],
      "text/plain": [
       "   gender  Near_Location  Partner  Promo_friends  Phone  Contract_period  \\\n",
       "0       1              1        1              1      0                6   \n",
       "1       0              1        0              0      1               12   \n",
       "2       0              1        1              0      1                1   \n",
       "3       0              1        1              1      1               12   \n",
       "4       1              1        1              1      1                1   \n",
       "\n",
       "   Group_visits  Age  Avg_additional_charges_total  Month_to_end_contract  \\\n",
       "0             1   29                     14.227470                    5.0   \n",
       "1             1   31                    113.202938                   12.0   \n",
       "2             0   28                    129.448479                    1.0   \n",
       "3             1   33                     62.669863                   12.0   \n",
       "4             0   26                    198.362265                    1.0   \n",
       "\n",
       "   Lifetime  Avg_class_frequency_total  Avg_class_frequency_current_month  \\\n",
       "0         3                   0.020398                           0.000000   \n",
       "1         7                   1.922936                           1.910244   \n",
       "2         2                   1.859098                           1.736502   \n",
       "3         2                   3.205633                           3.357215   \n",
       "4         3                   1.113884                           1.120078   \n",
       "\n",
       "   Churn  \n",
       "0      0  \n",
       "1      0  \n",
       "2      0  \n",
       "3      0  \n",
       "4      0  "
      ]
     },
     "execution_count": 2,
     "metadata": {},
     "output_type": "execute_result"
    }
   ],
   "source": [
    "# выгрузка файла\n",
    "df = pd.read_csv('/datasets/gym_churn.csv')\n",
    "df.head()"
   ]
  },
  {
   "cell_type": "code",
   "execution_count": 3,
   "metadata": {},
   "outputs": [
    {
     "name": "stdout",
     "output_type": "stream",
     "text": [
      "<class 'pandas.core.frame.DataFrame'>\n",
      "RangeIndex: 4000 entries, 0 to 3999\n",
      "Data columns (total 14 columns):\n",
      " #   Column                             Non-Null Count  Dtype  \n",
      "---  ------                             --------------  -----  \n",
      " 0   gender                             4000 non-null   int64  \n",
      " 1   Near_Location                      4000 non-null   int64  \n",
      " 2   Partner                            4000 non-null   int64  \n",
      " 3   Promo_friends                      4000 non-null   int64  \n",
      " 4   Phone                              4000 non-null   int64  \n",
      " 5   Contract_period                    4000 non-null   int64  \n",
      " 6   Group_visits                       4000 non-null   int64  \n",
      " 7   Age                                4000 non-null   int64  \n",
      " 8   Avg_additional_charges_total       4000 non-null   float64\n",
      " 9   Month_to_end_contract              4000 non-null   float64\n",
      " 10  Lifetime                           4000 non-null   int64  \n",
      " 11  Avg_class_frequency_total          4000 non-null   float64\n",
      " 12  Avg_class_frequency_current_month  4000 non-null   float64\n",
      " 13  Churn                              4000 non-null   int64  \n",
      "dtypes: float64(4), int64(10)\n",
      "memory usage: 437.6 KB\n"
     ]
    }
   ],
   "source": [
    "# обзор общих данных\n",
    "df.info()"
   ]
  },
  {
   "cell_type": "markdown",
   "metadata": {},
   "source": [
    "Таблица имеет 4000 строк и 14 столбцов\n",
    "\n",
    "Пропущенных значений не выявлено. Так же не замечено категориальных переменных"
   ]
  },
  {
   "cell_type": "markdown",
   "metadata": {},
   "source": [
    "## 2. Предобработка данных"
   ]
  },
  {
   "cell_type": "code",
   "execution_count": 4,
   "metadata": {
    "scrolled": true
   },
   "outputs": [
    {
     "data": {
      "text/html": [
       "<div>\n",
       "<style scoped>\n",
       "    .dataframe tbody tr th:only-of-type {\n",
       "        vertical-align: middle;\n",
       "    }\n",
       "\n",
       "    .dataframe tbody tr th {\n",
       "        vertical-align: top;\n",
       "    }\n",
       "\n",
       "    .dataframe thead th {\n",
       "        text-align: right;\n",
       "    }\n",
       "</style>\n",
       "<table border=\"1\" class=\"dataframe\">\n",
       "  <thead>\n",
       "    <tr style=\"text-align: right;\">\n",
       "      <th></th>\n",
       "      <th>gender</th>\n",
       "      <th>near_location</th>\n",
       "      <th>partner</th>\n",
       "      <th>promo_friends</th>\n",
       "      <th>phone</th>\n",
       "      <th>contract_period</th>\n",
       "      <th>group_visits</th>\n",
       "      <th>age</th>\n",
       "      <th>avg_additional_charges_total</th>\n",
       "      <th>month_to_end_contract</th>\n",
       "      <th>lifetime</th>\n",
       "      <th>avg_class_frequency_total</th>\n",
       "      <th>avg_class_frequency_current_month</th>\n",
       "      <th>churn</th>\n",
       "    </tr>\n",
       "  </thead>\n",
       "  <tbody>\n",
       "    <tr>\n",
       "      <th>0</th>\n",
       "      <td>1</td>\n",
       "      <td>1</td>\n",
       "      <td>1</td>\n",
       "      <td>1</td>\n",
       "      <td>0</td>\n",
       "      <td>6</td>\n",
       "      <td>1</td>\n",
       "      <td>29</td>\n",
       "      <td>14.227470</td>\n",
       "      <td>5.0</td>\n",
       "      <td>3</td>\n",
       "      <td>0.020398</td>\n",
       "      <td>0.000000</td>\n",
       "      <td>0</td>\n",
       "    </tr>\n",
       "    <tr>\n",
       "      <th>1</th>\n",
       "      <td>0</td>\n",
       "      <td>1</td>\n",
       "      <td>0</td>\n",
       "      <td>0</td>\n",
       "      <td>1</td>\n",
       "      <td>12</td>\n",
       "      <td>1</td>\n",
       "      <td>31</td>\n",
       "      <td>113.202938</td>\n",
       "      <td>12.0</td>\n",
       "      <td>7</td>\n",
       "      <td>1.922936</td>\n",
       "      <td>1.910244</td>\n",
       "      <td>0</td>\n",
       "    </tr>\n",
       "    <tr>\n",
       "      <th>2</th>\n",
       "      <td>0</td>\n",
       "      <td>1</td>\n",
       "      <td>1</td>\n",
       "      <td>0</td>\n",
       "      <td>1</td>\n",
       "      <td>1</td>\n",
       "      <td>0</td>\n",
       "      <td>28</td>\n",
       "      <td>129.448479</td>\n",
       "      <td>1.0</td>\n",
       "      <td>2</td>\n",
       "      <td>1.859098</td>\n",
       "      <td>1.736502</td>\n",
       "      <td>0</td>\n",
       "    </tr>\n",
       "    <tr>\n",
       "      <th>3</th>\n",
       "      <td>0</td>\n",
       "      <td>1</td>\n",
       "      <td>1</td>\n",
       "      <td>1</td>\n",
       "      <td>1</td>\n",
       "      <td>12</td>\n",
       "      <td>1</td>\n",
       "      <td>33</td>\n",
       "      <td>62.669863</td>\n",
       "      <td>12.0</td>\n",
       "      <td>2</td>\n",
       "      <td>3.205633</td>\n",
       "      <td>3.357215</td>\n",
       "      <td>0</td>\n",
       "    </tr>\n",
       "    <tr>\n",
       "      <th>4</th>\n",
       "      <td>1</td>\n",
       "      <td>1</td>\n",
       "      <td>1</td>\n",
       "      <td>1</td>\n",
       "      <td>1</td>\n",
       "      <td>1</td>\n",
       "      <td>0</td>\n",
       "      <td>26</td>\n",
       "      <td>198.362265</td>\n",
       "      <td>1.0</td>\n",
       "      <td>3</td>\n",
       "      <td>1.113884</td>\n",
       "      <td>1.120078</td>\n",
       "      <td>0</td>\n",
       "    </tr>\n",
       "  </tbody>\n",
       "</table>\n",
       "</div>"
      ],
      "text/plain": [
       "   gender  near_location  partner  promo_friends  phone  contract_period  \\\n",
       "0       1              1        1              1      0                6   \n",
       "1       0              1        0              0      1               12   \n",
       "2       0              1        1              0      1                1   \n",
       "3       0              1        1              1      1               12   \n",
       "4       1              1        1              1      1                1   \n",
       "\n",
       "   group_visits  age  avg_additional_charges_total  month_to_end_contract  \\\n",
       "0             1   29                     14.227470                    5.0   \n",
       "1             1   31                    113.202938                   12.0   \n",
       "2             0   28                    129.448479                    1.0   \n",
       "3             1   33                     62.669863                   12.0   \n",
       "4             0   26                    198.362265                    1.0   \n",
       "\n",
       "   lifetime  avg_class_frequency_total  avg_class_frequency_current_month  \\\n",
       "0         3                   0.020398                           0.000000   \n",
       "1         7                   1.922936                           1.910244   \n",
       "2         2                   1.859098                           1.736502   \n",
       "3         2                   3.205633                           3.357215   \n",
       "4         3                   1.113884                           1.120078   \n",
       "\n",
       "   churn  \n",
       "0      0  \n",
       "1      0  \n",
       "2      0  \n",
       "3      0  \n",
       "4      0  "
      ]
     },
     "execution_count": 4,
     "metadata": {},
     "output_type": "execute_result"
    }
   ],
   "source": [
    "# название столбцов приведедены к нижнему регистру \n",
    "df.columns = df.columns.str.lower()\n",
    "df.head()"
   ]
  },
  {
   "cell_type": "code",
   "execution_count": 5,
   "metadata": {},
   "outputs": [
    {
     "data": {
      "text/html": [
       "<div>\n",
       "<style scoped>\n",
       "    .dataframe tbody tr th:only-of-type {\n",
       "        vertical-align: middle;\n",
       "    }\n",
       "\n",
       "    .dataframe tbody tr th {\n",
       "        vertical-align: top;\n",
       "    }\n",
       "\n",
       "    .dataframe thead th {\n",
       "        text-align: right;\n",
       "    }\n",
       "</style>\n",
       "<table border=\"1\" class=\"dataframe\">\n",
       "  <thead>\n",
       "    <tr style=\"text-align: right;\">\n",
       "      <th></th>\n",
       "      <th>gender</th>\n",
       "      <th>near_location</th>\n",
       "      <th>partner</th>\n",
       "      <th>promo_friends</th>\n",
       "      <th>phone</th>\n",
       "      <th>contract_period</th>\n",
       "      <th>group_visits</th>\n",
       "      <th>age</th>\n",
       "      <th>avg_additional_charges_total</th>\n",
       "      <th>month_to_end_contract</th>\n",
       "      <th>lifetime</th>\n",
       "      <th>avg_class_frequency_total</th>\n",
       "      <th>avg_class_frequency_current_month</th>\n",
       "      <th>churn</th>\n",
       "    </tr>\n",
       "  </thead>\n",
       "  <tbody>\n",
       "    <tr>\n",
       "      <th>0</th>\n",
       "      <td>1</td>\n",
       "      <td>1</td>\n",
       "      <td>1</td>\n",
       "      <td>1</td>\n",
       "      <td>0</td>\n",
       "      <td>6</td>\n",
       "      <td>1</td>\n",
       "      <td>29</td>\n",
       "      <td>14.23</td>\n",
       "      <td>5</td>\n",
       "      <td>3</td>\n",
       "      <td>0.02</td>\n",
       "      <td>0.00</td>\n",
       "      <td>0</td>\n",
       "    </tr>\n",
       "    <tr>\n",
       "      <th>1</th>\n",
       "      <td>0</td>\n",
       "      <td>1</td>\n",
       "      <td>0</td>\n",
       "      <td>0</td>\n",
       "      <td>1</td>\n",
       "      <td>12</td>\n",
       "      <td>1</td>\n",
       "      <td>31</td>\n",
       "      <td>113.20</td>\n",
       "      <td>12</td>\n",
       "      <td>7</td>\n",
       "      <td>1.92</td>\n",
       "      <td>1.91</td>\n",
       "      <td>0</td>\n",
       "    </tr>\n",
       "    <tr>\n",
       "      <th>2</th>\n",
       "      <td>0</td>\n",
       "      <td>1</td>\n",
       "      <td>1</td>\n",
       "      <td>0</td>\n",
       "      <td>1</td>\n",
       "      <td>1</td>\n",
       "      <td>0</td>\n",
       "      <td>28</td>\n",
       "      <td>129.45</td>\n",
       "      <td>1</td>\n",
       "      <td>2</td>\n",
       "      <td>1.86</td>\n",
       "      <td>1.74</td>\n",
       "      <td>0</td>\n",
       "    </tr>\n",
       "    <tr>\n",
       "      <th>3</th>\n",
       "      <td>0</td>\n",
       "      <td>1</td>\n",
       "      <td>1</td>\n",
       "      <td>1</td>\n",
       "      <td>1</td>\n",
       "      <td>12</td>\n",
       "      <td>1</td>\n",
       "      <td>33</td>\n",
       "      <td>62.67</td>\n",
       "      <td>12</td>\n",
       "      <td>2</td>\n",
       "      <td>3.21</td>\n",
       "      <td>3.36</td>\n",
       "      <td>0</td>\n",
       "    </tr>\n",
       "    <tr>\n",
       "      <th>4</th>\n",
       "      <td>1</td>\n",
       "      <td>1</td>\n",
       "      <td>1</td>\n",
       "      <td>1</td>\n",
       "      <td>1</td>\n",
       "      <td>1</td>\n",
       "      <td>0</td>\n",
       "      <td>26</td>\n",
       "      <td>198.36</td>\n",
       "      <td>1</td>\n",
       "      <td>3</td>\n",
       "      <td>1.11</td>\n",
       "      <td>1.12</td>\n",
       "      <td>0</td>\n",
       "    </tr>\n",
       "  </tbody>\n",
       "</table>\n",
       "</div>"
      ],
      "text/plain": [
       "   gender  near_location  partner  promo_friends  phone  contract_period  \\\n",
       "0       1              1        1              1      0                6   \n",
       "1       0              1        0              0      1               12   \n",
       "2       0              1        1              0      1                1   \n",
       "3       0              1        1              1      1               12   \n",
       "4       1              1        1              1      1                1   \n",
       "\n",
       "   group_visits  age  avg_additional_charges_total  month_to_end_contract  \\\n",
       "0             1   29                         14.23                      5   \n",
       "1             1   31                        113.20                     12   \n",
       "2             0   28                        129.45                      1   \n",
       "3             1   33                         62.67                     12   \n",
       "4             0   26                        198.36                      1   \n",
       "\n",
       "   lifetime  avg_class_frequency_total  avg_class_frequency_current_month  \\\n",
       "0         3                       0.02                               0.00   \n",
       "1         7                       1.92                               1.91   \n",
       "2         2                       1.86                               1.74   \n",
       "3         2                       3.21                               3.36   \n",
       "4         3                       1.11                               1.12   \n",
       "\n",
       "   churn  \n",
       "0      0  \n",
       "1      0  \n",
       "2      0  \n",
       "3      0  \n",
       "4      0  "
      ]
     },
     "execution_count": 5,
     "metadata": {},
     "output_type": "execute_result"
    }
   ],
   "source": [
    "# преобразованы некоторые столбцы\n",
    "df['avg_additional_charges_total'] = df['avg_additional_charges_total'].round(2)\n",
    "df['avg_class_frequency_total'] = df['avg_class_frequency_total'].round(2)\n",
    "df['avg_class_frequency_current_month'] = df['avg_class_frequency_current_month'].round(2)\n",
    "df['month_to_end_contract'] = df['month_to_end_contract'].astype('int')\n",
    "df.head()"
   ]
  },
  {
   "cell_type": "code",
   "execution_count": 6,
   "metadata": {},
   "outputs": [
    {
     "data": {
      "text/html": [
       "<div>\n",
       "<style scoped>\n",
       "    .dataframe tbody tr th:only-of-type {\n",
       "        vertical-align: middle;\n",
       "    }\n",
       "\n",
       "    .dataframe tbody tr th {\n",
       "        vertical-align: top;\n",
       "    }\n",
       "\n",
       "    .dataframe thead th {\n",
       "        text-align: right;\n",
       "    }\n",
       "</style>\n",
       "<table border=\"1\" class=\"dataframe\">\n",
       "  <thead>\n",
       "    <tr style=\"text-align: right;\">\n",
       "      <th></th>\n",
       "      <th>0</th>\n",
       "      <th>1</th>\n",
       "      <th>2</th>\n",
       "      <th>3</th>\n",
       "      <th>4</th>\n",
       "      <th>5</th>\n",
       "      <th>6</th>\n",
       "      <th>7</th>\n",
       "      <th>8</th>\n",
       "      <th>9</th>\n",
       "    </tr>\n",
       "  </thead>\n",
       "  <tbody>\n",
       "    <tr>\n",
       "      <th>gender</th>\n",
       "      <td>1.00</td>\n",
       "      <td>0.00</td>\n",
       "      <td>0.00</td>\n",
       "      <td>0.00</td>\n",
       "      <td>1.00</td>\n",
       "      <td>1.00</td>\n",
       "      <td>1.00</td>\n",
       "      <td>0.00</td>\n",
       "      <td>1.00</td>\n",
       "      <td>0.00</td>\n",
       "    </tr>\n",
       "    <tr>\n",
       "      <th>near_location</th>\n",
       "      <td>1.00</td>\n",
       "      <td>1.00</td>\n",
       "      <td>1.00</td>\n",
       "      <td>1.00</td>\n",
       "      <td>1.00</td>\n",
       "      <td>1.00</td>\n",
       "      <td>1.00</td>\n",
       "      <td>1.00</td>\n",
       "      <td>1.00</td>\n",
       "      <td>1.00</td>\n",
       "    </tr>\n",
       "    <tr>\n",
       "      <th>partner</th>\n",
       "      <td>1.00</td>\n",
       "      <td>0.00</td>\n",
       "      <td>1.00</td>\n",
       "      <td>1.00</td>\n",
       "      <td>1.00</td>\n",
       "      <td>0.00</td>\n",
       "      <td>1.00</td>\n",
       "      <td>0.00</td>\n",
       "      <td>1.00</td>\n",
       "      <td>0.00</td>\n",
       "    </tr>\n",
       "    <tr>\n",
       "      <th>promo_friends</th>\n",
       "      <td>1.00</td>\n",
       "      <td>0.00</td>\n",
       "      <td>0.00</td>\n",
       "      <td>1.00</td>\n",
       "      <td>1.00</td>\n",
       "      <td>0.00</td>\n",
       "      <td>1.00</td>\n",
       "      <td>0.00</td>\n",
       "      <td>1.00</td>\n",
       "      <td>0.00</td>\n",
       "    </tr>\n",
       "    <tr>\n",
       "      <th>phone</th>\n",
       "      <td>0.00</td>\n",
       "      <td>1.00</td>\n",
       "      <td>1.00</td>\n",
       "      <td>1.00</td>\n",
       "      <td>1.00</td>\n",
       "      <td>1.00</td>\n",
       "      <td>0.00</td>\n",
       "      <td>1.00</td>\n",
       "      <td>1.00</td>\n",
       "      <td>1.00</td>\n",
       "    </tr>\n",
       "    <tr>\n",
       "      <th>age</th>\n",
       "      <td>29.00</td>\n",
       "      <td>31.00</td>\n",
       "      <td>28.00</td>\n",
       "      <td>33.00</td>\n",
       "      <td>26.00</td>\n",
       "      <td>34.00</td>\n",
       "      <td>32.00</td>\n",
       "      <td>30.00</td>\n",
       "      <td>23.00</td>\n",
       "      <td>31.00</td>\n",
       "    </tr>\n",
       "    <tr>\n",
       "      <th>lifetime</th>\n",
       "      <td>3.00</td>\n",
       "      <td>7.00</td>\n",
       "      <td>2.00</td>\n",
       "      <td>2.00</td>\n",
       "      <td>3.00</td>\n",
       "      <td>3.00</td>\n",
       "      <td>2.00</td>\n",
       "      <td>0.00</td>\n",
       "      <td>1.00</td>\n",
       "      <td>11.00</td>\n",
       "    </tr>\n",
       "    <tr>\n",
       "      <th>contract_period</th>\n",
       "      <td>6.00</td>\n",
       "      <td>12.00</td>\n",
       "      <td>1.00</td>\n",
       "      <td>12.00</td>\n",
       "      <td>1.00</td>\n",
       "      <td>1.00</td>\n",
       "      <td>6.00</td>\n",
       "      <td>1.00</td>\n",
       "      <td>1.00</td>\n",
       "      <td>1.00</td>\n",
       "    </tr>\n",
       "    <tr>\n",
       "      <th>month_to_end_contract</th>\n",
       "      <td>5.00</td>\n",
       "      <td>12.00</td>\n",
       "      <td>1.00</td>\n",
       "      <td>12.00</td>\n",
       "      <td>1.00</td>\n",
       "      <td>1.00</td>\n",
       "      <td>6.00</td>\n",
       "      <td>1.00</td>\n",
       "      <td>1.00</td>\n",
       "      <td>1.00</td>\n",
       "    </tr>\n",
       "    <tr>\n",
       "      <th>group_visits</th>\n",
       "      <td>1.00</td>\n",
       "      <td>1.00</td>\n",
       "      <td>0.00</td>\n",
       "      <td>1.00</td>\n",
       "      <td>0.00</td>\n",
       "      <td>1.00</td>\n",
       "      <td>1.00</td>\n",
       "      <td>0.00</td>\n",
       "      <td>1.00</td>\n",
       "      <td>0.00</td>\n",
       "    </tr>\n",
       "    <tr>\n",
       "      <th>avg_class_frequency_total</th>\n",
       "      <td>0.02</td>\n",
       "      <td>1.92</td>\n",
       "      <td>1.86</td>\n",
       "      <td>3.21</td>\n",
       "      <td>1.11</td>\n",
       "      <td>2.62</td>\n",
       "      <td>1.14</td>\n",
       "      <td>1.21</td>\n",
       "      <td>1.11</td>\n",
       "      <td>1.81</td>\n",
       "    </tr>\n",
       "    <tr>\n",
       "      <th>avg_class_frequency_current_month</th>\n",
       "      <td>0.00</td>\n",
       "      <td>1.91</td>\n",
       "      <td>1.74</td>\n",
       "      <td>3.36</td>\n",
       "      <td>1.12</td>\n",
       "      <td>2.64</td>\n",
       "      <td>1.28</td>\n",
       "      <td>1.05</td>\n",
       "      <td>1.06</td>\n",
       "      <td>1.95</td>\n",
       "    </tr>\n",
       "    <tr>\n",
       "      <th>avg_additional_charges_total</th>\n",
       "      <td>14.23</td>\n",
       "      <td>113.20</td>\n",
       "      <td>129.45</td>\n",
       "      <td>62.67</td>\n",
       "      <td>198.36</td>\n",
       "      <td>450.74</td>\n",
       "      <td>94.27</td>\n",
       "      <td>217.79</td>\n",
       "      <td>45.41</td>\n",
       "      <td>65.31</td>\n",
       "    </tr>\n",
       "    <tr>\n",
       "      <th>churn</th>\n",
       "      <td>0.00</td>\n",
       "      <td>0.00</td>\n",
       "      <td>0.00</td>\n",
       "      <td>0.00</td>\n",
       "      <td>0.00</td>\n",
       "      <td>0.00</td>\n",
       "      <td>0.00</td>\n",
       "      <td>1.00</td>\n",
       "      <td>0.00</td>\n",
       "      <td>0.00</td>\n",
       "    </tr>\n",
       "  </tbody>\n",
       "</table>\n",
       "</div>"
      ],
      "text/plain": [
       "                                       0       1       2      3       4  \\\n",
       "gender                              1.00    0.00    0.00   0.00    1.00   \n",
       "near_location                       1.00    1.00    1.00   1.00    1.00   \n",
       "partner                             1.00    0.00    1.00   1.00    1.00   \n",
       "promo_friends                       1.00    0.00    0.00   1.00    1.00   \n",
       "phone                               0.00    1.00    1.00   1.00    1.00   \n",
       "age                                29.00   31.00   28.00  33.00   26.00   \n",
       "lifetime                            3.00    7.00    2.00   2.00    3.00   \n",
       "contract_period                     6.00   12.00    1.00  12.00    1.00   \n",
       "month_to_end_contract               5.00   12.00    1.00  12.00    1.00   \n",
       "group_visits                        1.00    1.00    0.00   1.00    0.00   \n",
       "avg_class_frequency_total           0.02    1.92    1.86   3.21    1.11   \n",
       "avg_class_frequency_current_month   0.00    1.91    1.74   3.36    1.12   \n",
       "avg_additional_charges_total       14.23  113.20  129.45  62.67  198.36   \n",
       "churn                               0.00    0.00    0.00   0.00    0.00   \n",
       "\n",
       "                                        5      6       7      8      9  \n",
       "gender                               1.00   1.00    0.00   1.00   0.00  \n",
       "near_location                        1.00   1.00    1.00   1.00   1.00  \n",
       "partner                              0.00   1.00    0.00   1.00   0.00  \n",
       "promo_friends                        0.00   1.00    0.00   1.00   0.00  \n",
       "phone                                1.00   0.00    1.00   1.00   1.00  \n",
       "age                                 34.00  32.00   30.00  23.00  31.00  \n",
       "lifetime                             3.00   2.00    0.00   1.00  11.00  \n",
       "contract_period                      1.00   6.00    1.00   1.00   1.00  \n",
       "month_to_end_contract                1.00   6.00    1.00   1.00   1.00  \n",
       "group_visits                         1.00   1.00    0.00   1.00   0.00  \n",
       "avg_class_frequency_total            2.62   1.14    1.21   1.11   1.81  \n",
       "avg_class_frequency_current_month    2.64   1.28    1.05   1.06   1.95  \n",
       "avg_additional_charges_total       450.74  94.27  217.79  45.41  65.31  \n",
       "churn                                0.00   0.00    1.00   0.00   0.00  "
      ]
     },
     "execution_count": 6,
     "metadata": {},
     "output_type": "execute_result"
    }
   ],
   "source": [
    "# замена мест столбцов\n",
    "df = df[[\n",
    "    'gender',\n",
    "    'near_location', \n",
    "    'partner', \n",
    "    'promo_friends', \n",
    "    'phone',\n",
    "    'age',\n",
    "    'lifetime',\n",
    "    'contract_period',\n",
    "    'month_to_end_contract',\n",
    "    'group_visits',\n",
    "    'avg_class_frequency_total',\n",
    "    'avg_class_frequency_current_month',\n",
    "    'avg_additional_charges_total',\n",
    "    'churn'\n",
    "]]\n",
    "df.head(10).T"
   ]
  },
  {
   "cell_type": "markdown",
   "metadata": {},
   "source": [
    "## 3. Исследовательский анализ данных (EDA)"
   ]
  },
  {
   "cell_type": "code",
   "execution_count": 7,
   "metadata": {},
   "outputs": [
    {
     "data": {
      "text/html": [
       "<div>\n",
       "<style scoped>\n",
       "    .dataframe tbody tr th:only-of-type {\n",
       "        vertical-align: middle;\n",
       "    }\n",
       "\n",
       "    .dataframe tbody tr th {\n",
       "        vertical-align: top;\n",
       "    }\n",
       "\n",
       "    .dataframe thead th {\n",
       "        text-align: right;\n",
       "    }\n",
       "</style>\n",
       "<table border=\"1\" class=\"dataframe\">\n",
       "  <thead>\n",
       "    <tr style=\"text-align: right;\">\n",
       "      <th></th>\n",
       "      <th>count</th>\n",
       "      <th>mean</th>\n",
       "      <th>std</th>\n",
       "      <th>min</th>\n",
       "      <th>25%</th>\n",
       "      <th>50%</th>\n",
       "      <th>75%</th>\n",
       "      <th>max</th>\n",
       "    </tr>\n",
       "  </thead>\n",
       "  <tbody>\n",
       "    <tr>\n",
       "      <th>gender</th>\n",
       "      <td>4000.0</td>\n",
       "      <td>0.51</td>\n",
       "      <td>0.50</td>\n",
       "      <td>0.00</td>\n",
       "      <td>0.00</td>\n",
       "      <td>1.00</td>\n",
       "      <td>1.00</td>\n",
       "      <td>1.00</td>\n",
       "    </tr>\n",
       "    <tr>\n",
       "      <th>near_location</th>\n",
       "      <td>4000.0</td>\n",
       "      <td>0.85</td>\n",
       "      <td>0.36</td>\n",
       "      <td>0.00</td>\n",
       "      <td>1.00</td>\n",
       "      <td>1.00</td>\n",
       "      <td>1.00</td>\n",
       "      <td>1.00</td>\n",
       "    </tr>\n",
       "    <tr>\n",
       "      <th>partner</th>\n",
       "      <td>4000.0</td>\n",
       "      <td>0.49</td>\n",
       "      <td>0.50</td>\n",
       "      <td>0.00</td>\n",
       "      <td>0.00</td>\n",
       "      <td>0.00</td>\n",
       "      <td>1.00</td>\n",
       "      <td>1.00</td>\n",
       "    </tr>\n",
       "    <tr>\n",
       "      <th>promo_friends</th>\n",
       "      <td>4000.0</td>\n",
       "      <td>0.31</td>\n",
       "      <td>0.46</td>\n",
       "      <td>0.00</td>\n",
       "      <td>0.00</td>\n",
       "      <td>0.00</td>\n",
       "      <td>1.00</td>\n",
       "      <td>1.00</td>\n",
       "    </tr>\n",
       "    <tr>\n",
       "      <th>phone</th>\n",
       "      <td>4000.0</td>\n",
       "      <td>0.90</td>\n",
       "      <td>0.30</td>\n",
       "      <td>0.00</td>\n",
       "      <td>1.00</td>\n",
       "      <td>1.00</td>\n",
       "      <td>1.00</td>\n",
       "      <td>1.00</td>\n",
       "    </tr>\n",
       "    <tr>\n",
       "      <th>age</th>\n",
       "      <td>4000.0</td>\n",
       "      <td>29.18</td>\n",
       "      <td>3.26</td>\n",
       "      <td>18.00</td>\n",
       "      <td>27.00</td>\n",
       "      <td>29.00</td>\n",
       "      <td>31.00</td>\n",
       "      <td>41.00</td>\n",
       "    </tr>\n",
       "    <tr>\n",
       "      <th>lifetime</th>\n",
       "      <td>4000.0</td>\n",
       "      <td>3.72</td>\n",
       "      <td>3.75</td>\n",
       "      <td>0.00</td>\n",
       "      <td>1.00</td>\n",
       "      <td>3.00</td>\n",
       "      <td>5.00</td>\n",
       "      <td>31.00</td>\n",
       "    </tr>\n",
       "    <tr>\n",
       "      <th>contract_period</th>\n",
       "      <td>4000.0</td>\n",
       "      <td>4.68</td>\n",
       "      <td>4.55</td>\n",
       "      <td>1.00</td>\n",
       "      <td>1.00</td>\n",
       "      <td>1.00</td>\n",
       "      <td>6.00</td>\n",
       "      <td>12.00</td>\n",
       "    </tr>\n",
       "    <tr>\n",
       "      <th>month_to_end_contract</th>\n",
       "      <td>4000.0</td>\n",
       "      <td>4.32</td>\n",
       "      <td>4.19</td>\n",
       "      <td>1.00</td>\n",
       "      <td>1.00</td>\n",
       "      <td>1.00</td>\n",
       "      <td>6.00</td>\n",
       "      <td>12.00</td>\n",
       "    </tr>\n",
       "    <tr>\n",
       "      <th>group_visits</th>\n",
       "      <td>4000.0</td>\n",
       "      <td>0.41</td>\n",
       "      <td>0.49</td>\n",
       "      <td>0.00</td>\n",
       "      <td>0.00</td>\n",
       "      <td>0.00</td>\n",
       "      <td>1.00</td>\n",
       "      <td>1.00</td>\n",
       "    </tr>\n",
       "    <tr>\n",
       "      <th>avg_class_frequency_total</th>\n",
       "      <td>4000.0</td>\n",
       "      <td>1.88</td>\n",
       "      <td>0.97</td>\n",
       "      <td>0.00</td>\n",
       "      <td>1.18</td>\n",
       "      <td>1.83</td>\n",
       "      <td>2.54</td>\n",
       "      <td>6.02</td>\n",
       "    </tr>\n",
       "    <tr>\n",
       "      <th>avg_class_frequency_current_month</th>\n",
       "      <td>4000.0</td>\n",
       "      <td>1.77</td>\n",
       "      <td>1.05</td>\n",
       "      <td>0.00</td>\n",
       "      <td>0.96</td>\n",
       "      <td>1.72</td>\n",
       "      <td>2.51</td>\n",
       "      <td>6.15</td>\n",
       "    </tr>\n",
       "    <tr>\n",
       "      <th>avg_additional_charges_total</th>\n",
       "      <td>4000.0</td>\n",
       "      <td>146.94</td>\n",
       "      <td>96.36</td>\n",
       "      <td>0.15</td>\n",
       "      <td>68.86</td>\n",
       "      <td>136.22</td>\n",
       "      <td>210.95</td>\n",
       "      <td>552.59</td>\n",
       "    </tr>\n",
       "    <tr>\n",
       "      <th>churn</th>\n",
       "      <td>4000.0</td>\n",
       "      <td>0.27</td>\n",
       "      <td>0.44</td>\n",
       "      <td>0.00</td>\n",
       "      <td>0.00</td>\n",
       "      <td>0.00</td>\n",
       "      <td>1.00</td>\n",
       "      <td>1.00</td>\n",
       "    </tr>\n",
       "  </tbody>\n",
       "</table>\n",
       "</div>"
      ],
      "text/plain": [
       "                                    count    mean    std    min    25%  \\\n",
       "gender                             4000.0    0.51   0.50   0.00   0.00   \n",
       "near_location                      4000.0    0.85   0.36   0.00   1.00   \n",
       "partner                            4000.0    0.49   0.50   0.00   0.00   \n",
       "promo_friends                      4000.0    0.31   0.46   0.00   0.00   \n",
       "phone                              4000.0    0.90   0.30   0.00   1.00   \n",
       "age                                4000.0   29.18   3.26  18.00  27.00   \n",
       "lifetime                           4000.0    3.72   3.75   0.00   1.00   \n",
       "contract_period                    4000.0    4.68   4.55   1.00   1.00   \n",
       "month_to_end_contract              4000.0    4.32   4.19   1.00   1.00   \n",
       "group_visits                       4000.0    0.41   0.49   0.00   0.00   \n",
       "avg_class_frequency_total          4000.0    1.88   0.97   0.00   1.18   \n",
       "avg_class_frequency_current_month  4000.0    1.77   1.05   0.00   0.96   \n",
       "avg_additional_charges_total       4000.0  146.94  96.36   0.15  68.86   \n",
       "churn                              4000.0    0.27   0.44   0.00   0.00   \n",
       "\n",
       "                                      50%     75%     max  \n",
       "gender                               1.00    1.00    1.00  \n",
       "near_location                        1.00    1.00    1.00  \n",
       "partner                              0.00    1.00    1.00  \n",
       "promo_friends                        0.00    1.00    1.00  \n",
       "phone                                1.00    1.00    1.00  \n",
       "age                                 29.00   31.00   41.00  \n",
       "lifetime                             3.00    5.00   31.00  \n",
       "contract_period                      1.00    6.00   12.00  \n",
       "month_to_end_contract                1.00    6.00   12.00  \n",
       "group_visits                         0.00    1.00    1.00  \n",
       "avg_class_frequency_total            1.83    2.54    6.02  \n",
       "avg_class_frequency_current_month    1.72    2.51    6.15  \n",
       "avg_additional_charges_total       136.22  210.95  552.59  \n",
       "churn                                0.00    1.00    1.00  "
      ]
     },
     "execution_count": 7,
     "metadata": {},
     "output_type": "execute_result"
    }
   ],
   "source": [
    "# обзор статистических данных\n",
    "df.describe().T.round(2)"
   ]
  },
  {
   "cell_type": "markdown",
   "metadata": {},
   "source": [
    "**Выводы**\n",
    "\n",
    "* Мужчин и женщин распределено поровну\n",
    "* В большей степени клиенты работают или проживают рядом с фитнес-центром\n",
    "* Сотрудников компании-партнёра насчитывается около 50%\n",
    "* В акции приянли участие 31%\n",
    "* Почти у всех клиентов есть наличие контактного телефона\n",
    "* Средний возраст клиентов - 29 лет\n",
    "* В среднем клиенты обращаются в течение 3.5 месяца после первого обращения\n",
    "* В среднем абонементом пользуются 4.5 месяца\n",
    "* В среднем срок окончания абонемента 4 месяца \n",
    "* Около 40% клиентов ходят на груповые занятия\n",
    "* В среднем клиенты посещают зал 2 раза в неделю\n",
    "* В среднем клиенты посещают зал 2 раза в неделю за предыдущий месяц\n",
    "* В среднем суммарная вырука за дополнительные услуги - 147 (неизвестно)\n",
    "* Клиентов ушло около 27%"
   ]
  },
  {
   "cell_type": "code",
   "execution_count": 8,
   "metadata": {},
   "outputs": [
    {
     "data": {
      "text/html": [
       "<div>\n",
       "<style scoped>\n",
       "    .dataframe tbody tr th:only-of-type {\n",
       "        vertical-align: middle;\n",
       "    }\n",
       "\n",
       "    .dataframe tbody tr th {\n",
       "        vertical-align: top;\n",
       "    }\n",
       "\n",
       "    .dataframe thead th {\n",
       "        text-align: right;\n",
       "    }\n",
       "</style>\n",
       "<table border=\"1\" class=\"dataframe\">\n",
       "  <thead>\n",
       "    <tr style=\"text-align: right;\">\n",
       "      <th></th>\n",
       "      <th>count</th>\n",
       "      <th>mean</th>\n",
       "      <th>std</th>\n",
       "      <th>min</th>\n",
       "      <th>25%</th>\n",
       "      <th>50%</th>\n",
       "      <th>75%</th>\n",
       "      <th>max</th>\n",
       "    </tr>\n",
       "  </thead>\n",
       "  <tbody>\n",
       "    <tr>\n",
       "      <th>gender</th>\n",
       "      <td>2939.0</td>\n",
       "      <td>0.51</td>\n",
       "      <td>0.50</td>\n",
       "      <td>0.00</td>\n",
       "      <td>0.00</td>\n",
       "      <td>1.00</td>\n",
       "      <td>1.00</td>\n",
       "      <td>1.00</td>\n",
       "    </tr>\n",
       "    <tr>\n",
       "      <th>near_location</th>\n",
       "      <td>2939.0</td>\n",
       "      <td>0.87</td>\n",
       "      <td>0.33</td>\n",
       "      <td>0.00</td>\n",
       "      <td>1.00</td>\n",
       "      <td>1.00</td>\n",
       "      <td>1.00</td>\n",
       "      <td>1.00</td>\n",
       "    </tr>\n",
       "    <tr>\n",
       "      <th>partner</th>\n",
       "      <td>2939.0</td>\n",
       "      <td>0.53</td>\n",
       "      <td>0.50</td>\n",
       "      <td>0.00</td>\n",
       "      <td>0.00</td>\n",
       "      <td>1.00</td>\n",
       "      <td>1.00</td>\n",
       "      <td>1.00</td>\n",
       "    </tr>\n",
       "    <tr>\n",
       "      <th>promo_friends</th>\n",
       "      <td>2939.0</td>\n",
       "      <td>0.35</td>\n",
       "      <td>0.48</td>\n",
       "      <td>0.00</td>\n",
       "      <td>0.00</td>\n",
       "      <td>0.00</td>\n",
       "      <td>1.00</td>\n",
       "      <td>1.00</td>\n",
       "    </tr>\n",
       "    <tr>\n",
       "      <th>phone</th>\n",
       "      <td>2939.0</td>\n",
       "      <td>0.90</td>\n",
       "      <td>0.30</td>\n",
       "      <td>0.00</td>\n",
       "      <td>1.00</td>\n",
       "      <td>1.00</td>\n",
       "      <td>1.00</td>\n",
       "      <td>1.00</td>\n",
       "    </tr>\n",
       "    <tr>\n",
       "      <th>age</th>\n",
       "      <td>2939.0</td>\n",
       "      <td>29.98</td>\n",
       "      <td>3.01</td>\n",
       "      <td>19.00</td>\n",
       "      <td>28.00</td>\n",
       "      <td>30.00</td>\n",
       "      <td>32.00</td>\n",
       "      <td>41.00</td>\n",
       "    </tr>\n",
       "    <tr>\n",
       "      <th>lifetime</th>\n",
       "      <td>2939.0</td>\n",
       "      <td>4.71</td>\n",
       "      <td>3.87</td>\n",
       "      <td>0.00</td>\n",
       "      <td>2.00</td>\n",
       "      <td>4.00</td>\n",
       "      <td>6.00</td>\n",
       "      <td>31.00</td>\n",
       "    </tr>\n",
       "    <tr>\n",
       "      <th>contract_period</th>\n",
       "      <td>2939.0</td>\n",
       "      <td>5.75</td>\n",
       "      <td>4.72</td>\n",
       "      <td>1.00</td>\n",
       "      <td>1.00</td>\n",
       "      <td>6.00</td>\n",
       "      <td>12.00</td>\n",
       "      <td>12.00</td>\n",
       "    </tr>\n",
       "    <tr>\n",
       "      <th>month_to_end_contract</th>\n",
       "      <td>2939.0</td>\n",
       "      <td>5.28</td>\n",
       "      <td>4.36</td>\n",
       "      <td>1.00</td>\n",
       "      <td>1.00</td>\n",
       "      <td>6.00</td>\n",
       "      <td>10.00</td>\n",
       "      <td>12.00</td>\n",
       "    </tr>\n",
       "    <tr>\n",
       "      <th>group_visits</th>\n",
       "      <td>2939.0</td>\n",
       "      <td>0.46</td>\n",
       "      <td>0.50</td>\n",
       "      <td>0.00</td>\n",
       "      <td>0.00</td>\n",
       "      <td>0.00</td>\n",
       "      <td>1.00</td>\n",
       "      <td>1.00</td>\n",
       "    </tr>\n",
       "    <tr>\n",
       "      <th>avg_class_frequency_total</th>\n",
       "      <td>2939.0</td>\n",
       "      <td>2.02</td>\n",
       "      <td>1.02</td>\n",
       "      <td>0.00</td>\n",
       "      <td>1.28</td>\n",
       "      <td>2.04</td>\n",
       "      <td>2.73</td>\n",
       "      <td>6.02</td>\n",
       "    </tr>\n",
       "    <tr>\n",
       "      <th>avg_class_frequency_current_month</th>\n",
       "      <td>2939.0</td>\n",
       "      <td>2.03</td>\n",
       "      <td>1.02</td>\n",
       "      <td>0.00</td>\n",
       "      <td>1.30</td>\n",
       "      <td>2.05</td>\n",
       "      <td>2.74</td>\n",
       "      <td>6.15</td>\n",
       "    </tr>\n",
       "    <tr>\n",
       "      <th>avg_additional_charges_total</th>\n",
       "      <td>2939.0</td>\n",
       "      <td>158.45</td>\n",
       "      <td>99.80</td>\n",
       "      <td>0.17</td>\n",
       "      <td>76.92</td>\n",
       "      <td>149.88</td>\n",
       "      <td>224.45</td>\n",
       "      <td>552.59</td>\n",
       "    </tr>\n",
       "    <tr>\n",
       "      <th>churn</th>\n",
       "      <td>2939.0</td>\n",
       "      <td>0.00</td>\n",
       "      <td>0.00</td>\n",
       "      <td>0.00</td>\n",
       "      <td>0.00</td>\n",
       "      <td>0.00</td>\n",
       "      <td>0.00</td>\n",
       "      <td>0.00</td>\n",
       "    </tr>\n",
       "  </tbody>\n",
       "</table>\n",
       "</div>"
      ],
      "text/plain": [
       "                                    count    mean    std    min    25%  \\\n",
       "gender                             2939.0    0.51   0.50   0.00   0.00   \n",
       "near_location                      2939.0    0.87   0.33   0.00   1.00   \n",
       "partner                            2939.0    0.53   0.50   0.00   0.00   \n",
       "promo_friends                      2939.0    0.35   0.48   0.00   0.00   \n",
       "phone                              2939.0    0.90   0.30   0.00   1.00   \n",
       "age                                2939.0   29.98   3.01  19.00  28.00   \n",
       "lifetime                           2939.0    4.71   3.87   0.00   2.00   \n",
       "contract_period                    2939.0    5.75   4.72   1.00   1.00   \n",
       "month_to_end_contract              2939.0    5.28   4.36   1.00   1.00   \n",
       "group_visits                       2939.0    0.46   0.50   0.00   0.00   \n",
       "avg_class_frequency_total          2939.0    2.02   1.02   0.00   1.28   \n",
       "avg_class_frequency_current_month  2939.0    2.03   1.02   0.00   1.30   \n",
       "avg_additional_charges_total       2939.0  158.45  99.80   0.17  76.92   \n",
       "churn                              2939.0    0.00   0.00   0.00   0.00   \n",
       "\n",
       "                                      50%     75%     max  \n",
       "gender                               1.00    1.00    1.00  \n",
       "near_location                        1.00    1.00    1.00  \n",
       "partner                              1.00    1.00    1.00  \n",
       "promo_friends                        0.00    1.00    1.00  \n",
       "phone                                1.00    1.00    1.00  \n",
       "age                                 30.00   32.00   41.00  \n",
       "lifetime                             4.00    6.00   31.00  \n",
       "contract_period                      6.00   12.00   12.00  \n",
       "month_to_end_contract                6.00   10.00   12.00  \n",
       "group_visits                         0.00    1.00    1.00  \n",
       "avg_class_frequency_total            2.04    2.73    6.02  \n",
       "avg_class_frequency_current_month    2.05    2.74    6.15  \n",
       "avg_additional_charges_total       149.88  224.45  552.59  \n",
       "churn                                0.00    0.00    0.00  "
      ]
     },
     "execution_count": 8,
     "metadata": {},
     "output_type": "execute_result"
    }
   ],
   "source": [
    "# обзор статистических данных на оставшийся клиентов\n",
    "df.query('churn == 0').describe().T.round(2)"
   ]
  },
  {
   "cell_type": "code",
   "execution_count": 9,
   "metadata": {},
   "outputs": [
    {
     "data": {
      "text/html": [
       "<div>\n",
       "<style scoped>\n",
       "    .dataframe tbody tr th:only-of-type {\n",
       "        vertical-align: middle;\n",
       "    }\n",
       "\n",
       "    .dataframe tbody tr th {\n",
       "        vertical-align: top;\n",
       "    }\n",
       "\n",
       "    .dataframe thead th {\n",
       "        text-align: right;\n",
       "    }\n",
       "</style>\n",
       "<table border=\"1\" class=\"dataframe\">\n",
       "  <thead>\n",
       "    <tr style=\"text-align: right;\">\n",
       "      <th></th>\n",
       "      <th>count</th>\n",
       "      <th>mean</th>\n",
       "      <th>std</th>\n",
       "      <th>min</th>\n",
       "      <th>25%</th>\n",
       "      <th>50%</th>\n",
       "      <th>75%</th>\n",
       "      <th>max</th>\n",
       "    </tr>\n",
       "  </thead>\n",
       "  <tbody>\n",
       "    <tr>\n",
       "      <th>gender</th>\n",
       "      <td>1061.0</td>\n",
       "      <td>0.51</td>\n",
       "      <td>0.50</td>\n",
       "      <td>0.00</td>\n",
       "      <td>0.00</td>\n",
       "      <td>1.00</td>\n",
       "      <td>1.00</td>\n",
       "      <td>1.00</td>\n",
       "    </tr>\n",
       "    <tr>\n",
       "      <th>near_location</th>\n",
       "      <td>1061.0</td>\n",
       "      <td>0.77</td>\n",
       "      <td>0.42</td>\n",
       "      <td>0.00</td>\n",
       "      <td>1.00</td>\n",
       "      <td>1.00</td>\n",
       "      <td>1.00</td>\n",
       "      <td>1.00</td>\n",
       "    </tr>\n",
       "    <tr>\n",
       "      <th>partner</th>\n",
       "      <td>1061.0</td>\n",
       "      <td>0.36</td>\n",
       "      <td>0.48</td>\n",
       "      <td>0.00</td>\n",
       "      <td>0.00</td>\n",
       "      <td>0.00</td>\n",
       "      <td>1.00</td>\n",
       "      <td>1.00</td>\n",
       "    </tr>\n",
       "    <tr>\n",
       "      <th>promo_friends</th>\n",
       "      <td>1061.0</td>\n",
       "      <td>0.18</td>\n",
       "      <td>0.39</td>\n",
       "      <td>0.00</td>\n",
       "      <td>0.00</td>\n",
       "      <td>0.00</td>\n",
       "      <td>0.00</td>\n",
       "      <td>1.00</td>\n",
       "    </tr>\n",
       "    <tr>\n",
       "      <th>phone</th>\n",
       "      <td>1061.0</td>\n",
       "      <td>0.90</td>\n",
       "      <td>0.30</td>\n",
       "      <td>0.00</td>\n",
       "      <td>1.00</td>\n",
       "      <td>1.00</td>\n",
       "      <td>1.00</td>\n",
       "      <td>1.00</td>\n",
       "    </tr>\n",
       "    <tr>\n",
       "      <th>age</th>\n",
       "      <td>1061.0</td>\n",
       "      <td>26.99</td>\n",
       "      <td>2.90</td>\n",
       "      <td>18.00</td>\n",
       "      <td>25.00</td>\n",
       "      <td>27.00</td>\n",
       "      <td>29.00</td>\n",
       "      <td>38.00</td>\n",
       "    </tr>\n",
       "    <tr>\n",
       "      <th>lifetime</th>\n",
       "      <td>1061.0</td>\n",
       "      <td>0.99</td>\n",
       "      <td>1.11</td>\n",
       "      <td>0.00</td>\n",
       "      <td>0.00</td>\n",
       "      <td>1.00</td>\n",
       "      <td>1.00</td>\n",
       "      <td>9.00</td>\n",
       "    </tr>\n",
       "    <tr>\n",
       "      <th>contract_period</th>\n",
       "      <td>1061.0</td>\n",
       "      <td>1.73</td>\n",
       "      <td>2.13</td>\n",
       "      <td>1.00</td>\n",
       "      <td>1.00</td>\n",
       "      <td>1.00</td>\n",
       "      <td>1.00</td>\n",
       "      <td>12.00</td>\n",
       "    </tr>\n",
       "    <tr>\n",
       "      <th>month_to_end_contract</th>\n",
       "      <td>1061.0</td>\n",
       "      <td>1.66</td>\n",
       "      <td>1.96</td>\n",
       "      <td>1.00</td>\n",
       "      <td>1.00</td>\n",
       "      <td>1.00</td>\n",
       "      <td>1.00</td>\n",
       "      <td>12.00</td>\n",
       "    </tr>\n",
       "    <tr>\n",
       "      <th>group_visits</th>\n",
       "      <td>1061.0</td>\n",
       "      <td>0.27</td>\n",
       "      <td>0.44</td>\n",
       "      <td>0.00</td>\n",
       "      <td>0.00</td>\n",
       "      <td>0.00</td>\n",
       "      <td>1.00</td>\n",
       "      <td>1.00</td>\n",
       "    </tr>\n",
       "    <tr>\n",
       "      <th>avg_class_frequency_total</th>\n",
       "      <td>1061.0</td>\n",
       "      <td>1.47</td>\n",
       "      <td>0.69</td>\n",
       "      <td>0.00</td>\n",
       "      <td>1.01</td>\n",
       "      <td>1.49</td>\n",
       "      <td>1.96</td>\n",
       "      <td>3.48</td>\n",
       "    </tr>\n",
       "    <tr>\n",
       "      <th>avg_class_frequency_current_month</th>\n",
       "      <td>1061.0</td>\n",
       "      <td>1.04</td>\n",
       "      <td>0.77</td>\n",
       "      <td>0.00</td>\n",
       "      <td>0.42</td>\n",
       "      <td>0.98</td>\n",
       "      <td>1.59</td>\n",
       "      <td>3.54</td>\n",
       "    </tr>\n",
       "    <tr>\n",
       "      <th>avg_additional_charges_total</th>\n",
       "      <td>1061.0</td>\n",
       "      <td>115.08</td>\n",
       "      <td>77.70</td>\n",
       "      <td>0.15</td>\n",
       "      <td>50.63</td>\n",
       "      <td>103.81</td>\n",
       "      <td>165.62</td>\n",
       "      <td>425.54</td>\n",
       "    </tr>\n",
       "    <tr>\n",
       "      <th>churn</th>\n",
       "      <td>1061.0</td>\n",
       "      <td>1.00</td>\n",
       "      <td>0.00</td>\n",
       "      <td>1.00</td>\n",
       "      <td>1.00</td>\n",
       "      <td>1.00</td>\n",
       "      <td>1.00</td>\n",
       "      <td>1.00</td>\n",
       "    </tr>\n",
       "  </tbody>\n",
       "</table>\n",
       "</div>"
      ],
      "text/plain": [
       "                                    count    mean    std    min    25%  \\\n",
       "gender                             1061.0    0.51   0.50   0.00   0.00   \n",
       "near_location                      1061.0    0.77   0.42   0.00   1.00   \n",
       "partner                            1061.0    0.36   0.48   0.00   0.00   \n",
       "promo_friends                      1061.0    0.18   0.39   0.00   0.00   \n",
       "phone                              1061.0    0.90   0.30   0.00   1.00   \n",
       "age                                1061.0   26.99   2.90  18.00  25.00   \n",
       "lifetime                           1061.0    0.99   1.11   0.00   0.00   \n",
       "contract_period                    1061.0    1.73   2.13   1.00   1.00   \n",
       "month_to_end_contract              1061.0    1.66   1.96   1.00   1.00   \n",
       "group_visits                       1061.0    0.27   0.44   0.00   0.00   \n",
       "avg_class_frequency_total          1061.0    1.47   0.69   0.00   1.01   \n",
       "avg_class_frequency_current_month  1061.0    1.04   0.77   0.00   0.42   \n",
       "avg_additional_charges_total       1061.0  115.08  77.70   0.15  50.63   \n",
       "churn                              1061.0    1.00   0.00   1.00   1.00   \n",
       "\n",
       "                                      50%     75%     max  \n",
       "gender                               1.00    1.00    1.00  \n",
       "near_location                        1.00    1.00    1.00  \n",
       "partner                              0.00    1.00    1.00  \n",
       "promo_friends                        0.00    0.00    1.00  \n",
       "phone                                1.00    1.00    1.00  \n",
       "age                                 27.00   29.00   38.00  \n",
       "lifetime                             1.00    1.00    9.00  \n",
       "contract_period                      1.00    1.00   12.00  \n",
       "month_to_end_contract                1.00    1.00   12.00  \n",
       "group_visits                         0.00    1.00    1.00  \n",
       "avg_class_frequency_total            1.49    1.96    3.48  \n",
       "avg_class_frequency_current_month    0.98    1.59    3.54  \n",
       "avg_additional_charges_total       103.81  165.62  425.54  \n",
       "churn                                1.00    1.00    1.00  "
      ]
     },
     "execution_count": 9,
     "metadata": {},
     "output_type": "execute_result"
    }
   ],
   "source": [
    "# обзор статистических данных на ушедших клиентов\n",
    "df.query('churn == 1').describe().T.round(2)"
   ]
  },
  {
   "cell_type": "markdown",
   "metadata": {},
   "source": [
    "**Выводы**\n",
    "\n",
    "* Распределение по полу никак не различатеся между оставшийся и ушедших клиентов\n",
    "* На 10% больше оставшийся клиентов, которые работают или проживают рядом с фитнес-центром, чем у ушедших\n",
    "* На 17% больше насчитывается сотрудников компании-партнёра у оставшийся клиентов, чем у ушедших\n",
    "* В акции почти в два раза больше приняли оставшийся клиенты, чем ушедшие\n",
    "* Наличие контактного телефона никак не различается\n",
    "* В среднем уходят клиенты 27 лет, а остаются от 30 лет\n",
    "* Ушедшие клиенты обращаются намного быстрее, чем оставшийся\n",
    "\n",
    "Все остальные показатели на основе журнала посещений намного меньше у ушедших клиентов, чем у оставшийся"
   ]
  },
  {
   "cell_type": "code",
   "execution_count": 10,
   "metadata": {
    "scrolled": false
   },
   "outputs": [
    {
     "data": {
      "image/png": "[encoded data removed]",
      "text/plain": [
       "<Figure size 720x288 with 1 Axes>"
      ]
     },
     "metadata": {
      "needs_background": "light"
     },
     "output_type": "display_data"
    },
    {
     "data": {
      "image/png": "[encoded data removed]",
      "text/plain": [
       "<Figure size 720x288 with 1 Axes>"
      ]
     },
     "metadata": {
      "needs_background": "light"
     },
     "output_type": "display_data"
    },
    {
     "data": {
      "image/png": "[encoded data removed]",
      "text/plain": [
       "<Figure size 720x288 with 1 Axes>"
      ]
     },
     "metadata": {
      "needs_background": "light"
     },
     "output_type": "display_data"
    },
    {
     "data": {
      "image/png": "[encoded data removed]",
      "text/plain": [
       "<Figure size 720x288 with 1 Axes>"
      ]
     },
     "metadata": {
      "needs_background": "light"
     },
     "output_type": "display_data"
    },
    {
     "data": {
      "image/png": "[encoded data removed]",
      "text/plain": [
       "<Figure size 720x288 with 1 Axes>"
      ]
     },
     "metadata": {
      "needs_background": "light"
     },
     "output_type": "display_data"
    },
    {
     "data": {
      "image/png": "[encoded data removed]",
      "text/plain": [
       "<Figure size 720x288 with 1 Axes>"
      ]
     },
     "metadata": {
      "needs_background": "light"
     },
     "output_type": "display_data"
    },
    {
     "data": {
      "image/png": "[encoded data removed]",
      "text/plain": [
       "<Figure size 720x288 with 1 Axes>"
      ]
     },
     "metadata": {
      "needs_background": "light"
     },
     "output_type": "display_data"
    }
   ],
   "source": [
    "# построены диаграммы для количественных перемен\n",
    "categorical = ['age', \n",
    "               'lifetime', \n",
    "               'contract_period', \n",
    "               'month_to_end_contract', \n",
    "               'avg_class_frequency_total', \n",
    "               'avg_class_frequency_current_month', \n",
    "               'avg_additional_charges_total']\n",
    "\n",
    "for column in categorical: \n",
    "    plt.figure(figsize=(10,4)) \n",
    "    sns.histplot(x=column, hue='churn', data=df, element='step', alpha=0.3, palette='rainbow', kde=True)\n",
    "    plt.legend(['Ушедшие', 'Оставшиеся'])\n",
    "    plt.show()"
   ]
  },
  {
   "cell_type": "code",
   "execution_count": 11,
   "metadata": {
    "scrolled": false
   },
   "outputs": [
    {
     "data": {
      "image/png": "[encoded data removed]",
      "text/plain": [
       "<Figure size 720x288 with 1 Axes>"
      ]
     },
     "metadata": {
      "needs_background": "light"
     },
     "output_type": "display_data"
    },
    {
     "data": {
      "image/png": "[encoded data removed]",
      "text/plain": [
       "<Figure size 720x288 with 1 Axes>"
      ]
     },
     "metadata": {
      "needs_background": "light"
     },
     "output_type": "display_data"
    },
    {
     "data": {
      "image/png": "[encoded data removed]",
      "text/plain": [
       "<Figure size 720x288 with 1 Axes>"
      ]
     },
     "metadata": {
      "needs_background": "light"
     },
     "output_type": "display_data"
    },
    {
     "data": {
      "image/png": "[encoded data removed]",
      "text/plain": [
       "<Figure size 720x288 with 1 Axes>"
      ]
     },
     "metadata": {
      "needs_background": "light"
     },
     "output_type": "display_data"
    },
    {
     "data": {
      "image/png": "[encoded data removed]",
      "text/plain": [
       "<Figure size 720x288 with 1 Axes>"
      ]
     },
     "metadata": {
      "needs_background": "light"
     },
     "output_type": "display_data"
    },
    {
     "data": {
      "image/png": "[encoded data removed]",
      "text/plain": [
       "<Figure size 720x288 with 1 Axes>"
      ]
     },
     "metadata": {
      "needs_background": "light"
     },
     "output_type": "display_data"
    },
    {
     "data": {
      "image/png": "[encoded data removed]",
      "text/plain": [
       "<Figure size 720x288 with 1 Axes>"
      ]
     },
     "metadata": {
      "needs_background": "light"
     },
     "output_type": "display_data"
    }
   ],
   "source": [
    "# построены стобчатые диаграммы для катогориальных перемен\n",
    "quantitative = ['gender', \n",
    "                'near_location', \n",
    "                'partner', \n",
    "                'promo_friends', \n",
    "                'phone', \n",
    "                'group_visits', \n",
    "                'churn']\n",
    "\n",
    "for column in quantitative: \n",
    "    plt.figure(figsize=(10,4)) \n",
    "    sns.countplot(x=column, hue='churn', data=df, alpha=0.3, palette='rainbow')\n",
    "    plt.legend(['Ушедшие', 'Оставшиеся'])\n",
    "    plt.show()"
   ]
  },
  {
   "cell_type": "code",
   "execution_count": 15,
   "metadata": {},
   "outputs": [
    {
     "data": {
      "image/png": "[encoded data removed]",
      "text/plain": [
       "<Figure size 1008x864 with 2 Axes>"
      ]
     },
     "metadata": {
      "needs_background": "light"
     },
     "output_type": "display_data"
    }
   ],
   "source": [
    "# построена матрица корреляций\n",
    "cm = df.corr()\n",
    "plt.figure(figsize=(14, 12))\n",
    "plt.title('Матрица корреляций', fontsize=18)\n",
    "sns.heatmap(cm, annot=True, square=True, fmt='.1g', cmap='Blues', linewidths=1, linecolor='black');"
   ]
  },
  {
   "cell_type": "markdown",
   "metadata": {},
   "source": [
    "**Вывод**\n",
    "\n",
    "По матрицы видно, что очень хорошо коррелируется между собой contract_period и month_to_end_contract, avg_class_frequency_total и avg_class_frequency_current_month"
   ]
  },
  {
   "cell_type": "markdown",
   "metadata": {},
   "source": [
    "### 3.1 Вывод по блоку\n",
    "\n",
    "Обзор статистических данных:\n",
    "\n",
    "* Мужчин и женщин распределено поровну\n",
    "* В большей степени клиенты работают или проживают рядом с фитнес-центром\n",
    "* Сотрудников компании-партнёра насчитывается около 50%\n",
    "* В акции приянли участие 31%\n",
    "* Почти у всех клиентов есть наличие контактного телефона\n",
    "* Средний возраст клиентов - 29 лет\n",
    "* В среднем клиенты обращаются в течение 3.5 месяца после первого обращения\n",
    "* В среднем абонементом пользуются 4.5 месяца\n",
    "* В среднем срок окончания абонемента 4 месяца \n",
    "* Около 40% клиентов ходят на груповые занятия\n",
    "* В среднем клиенты посещают зал 2 раза в неделю\n",
    "* В среднем клиенты посещают зал 2 раза в неделю за предыдущий месяц\n",
    "* В среднем суммарная вырука за дополнительные услуги - 147 (неизвестно)\n",
    "* Клиентов ушло около 27%\n",
    "\n",
    "Обзор статистических данных между оставшимися и ушедшими клентами:\n",
    "\n",
    "* Распределение по полу никак не различатеся между оставшийся и ушедших клиентов\n",
    "* На 10% больше оставшийся клиентов, которые работают или проживают рядом с фитнес-центром, чем у ушедших\n",
    "* На 17% больше насчитывается сотрудников компании-партнёра у оставшийся клиентов, чем у ушедших\n",
    "* В акции почти в два раза больше приняли оставшийся клиенты, чем ушедшие\n",
    "* Наличие контактного телефона никак не различается\n",
    "* В среднем уходят клиенты 27 лет, а остаются от 30 лет\n",
    "* Ушедшие клиенты обращаются намного быстрее, чем оставшийся\n",
    "\n",
    "Все остальные показатели на основе журнала посещений намного меньше у ушедших клиентов, чем у оставшихся"
   ]
  },
  {
   "cell_type": "markdown",
   "metadata": {},
   "source": [
    "## 4. Построение модели прогнозирования оттока клиентов"
   ]
  },
  {
   "cell_type": "code",
   "execution_count": 16,
   "metadata": {},
   "outputs": [],
   "source": [
    "# разделение данных на признаки (матрица X) и целевую переменную (y)\n",
    "X = df.drop(['churn'], axis=1)\n",
    "y = df['churn']\n",
    "\n",
    "# разделение модели на обучающую и валидационную выборку\n",
    "X_train, X_test, y_train, y_test = train_test_split(\n",
    "    X, y, test_size=0.2, random_state=0\n",
    ")\n",
    "\n",
    "# обучение StandartScaler на обучающей выборке\n",
    "scaler = StandardScaler()\n",
    "scaler.fit(X_train)\n",
    "\n",
    "# преобразование обучающих и валидационных наборов данных\n",
    "X_train_st = scaler.transform(X_train)\n",
    "X_test_st = scaler.transform(X_test)"
   ]
  },
  {
   "cell_type": "code",
   "execution_count": 17,
   "metadata": {},
   "outputs": [
    {
     "name": "stdout",
     "output_type": "stream",
     "text": [
      "Метрики для модели логистической регрессии\n",
      "Accuracy: 0.922\n",
      "Precision: 0.854\n",
      "Recall: 0.828\n",
      "\n",
      "Метрики для модели случайного леса\n",
      "Accuracy: 0.919\n",
      "Precision: 0.845\n",
      "Recall: 0.823\n"
     ]
    }
   ],
   "source": [
    "# задан алгоритм для модели логистической регрессии\n",
    "model = LogisticRegression(solver='liblinear', random_state=0)\n",
    "\n",
    "# обучение модели\n",
    "model.fit(X_train_st, y_train)\n",
    "\n",
    "# воспользуемся уже обученной моделью, чтобы сделать прогнозы\n",
    "predictions = model.predict(X_test_st)\n",
    "probabilities = model.predict_proba(X_test_st)[:, 1]\n",
    "\n",
    "# вывод метрик\n",
    "print('Метрики для модели логистической регрессии')\n",
    "print('Accuracy: {:.3f}'.format(accuracy_score(y_test, predictions)))\n",
    "print('Precision: {:.3f}'.format(precision_score(y_test, predictions)))\n",
    "print('Recall: {:.3f}'.format(recall_score(y_test, predictions)))\n",
    "\n",
    "# задан алгоритм для модели случайного леса\n",
    "rf_model = RandomForestClassifier(n_estimators=100, random_state=0)\n",
    "\n",
    "# обучение модели\n",
    "rf_model.fit(X_train, y_train)\n",
    "\n",
    "# воспользуемся уже обученной моделью, чтобы сделать прогнозы\n",
    "rf_predictions = rf_model.predict(X_test)\n",
    "rf_probabilities = rf_model.predict_proba(X_test)[:, 1]\n",
    "\n",
    "# вывод метрик\n",
    "print()\n",
    "print('Метрики для модели случайного леса')\n",
    "print('Accuracy: {:.3f}'.format(accuracy_score(y_test, rf_predictions)))\n",
    "print('Precision: {:.3f}'.format(precision_score(y_test, rf_predictions)))\n",
    "print('Recall: {:.3f}'.format(recall_score(y_test, rf_predictions)))"
   ]
  },
  {
   "cell_type": "markdown",
   "metadata": {},
   "source": [
    "Модели имееют почти одинаковые значения по метрикам, но немного лучше показала себя модель логистической регрессии"
   ]
  },
  {
   "cell_type": "markdown",
   "metadata": {},
   "source": [
    "## 5. Создание кластеризации клиентов"
   ]
  },
  {
   "cell_type": "code",
   "execution_count": 18,
   "metadata": {},
   "outputs": [
    {
     "data": {
      "image/png": "[encoded data removed]",
      "text/plain": [
       "<Figure size 1080x720 with 1 Axes>"
      ]
     },
     "metadata": {
      "needs_background": "light"
     },
     "output_type": "display_data"
    }
   ],
   "source": [
    "# обязательная стандартизация данных перед работой с алгоритмами\n",
    "sc = StandardScaler()\n",
    "X_sc = sc.fit_transform(X)\n",
    "\n",
    "linked = linkage(X_sc, method='ward')\n",
    "\n",
    "plt.figure(figsize=(15, 10))  \n",
    "dendrogram(linked, orientation='top')\n",
    "plt.title('Иерархическая кластеризация', fontsize=18)\n",
    "plt.show() "
   ]
  },
  {
   "cell_type": "markdown",
   "metadata": {},
   "source": [
    "На графике 4 цвета, значит насчитывается 4 кластера"
   ]
  },
  {
   "cell_type": "code",
   "execution_count": 19,
   "metadata": {},
   "outputs": [],
   "source": [
    "# обязательная стандартизация данных перед работой с алгоритмами\n",
    "sc = StandardScaler()\n",
    "X_sc = sc.fit_transform(X)\n",
    "# задано число кластеров (4) и фиксируем значение random_state для воспроизводимости результата\n",
    "km = KMeans(n_clusters=5, random_state=0)\n",
    "# применён алгоритм к данным\n",
    "labels = km.fit_predict(X_sc)\n",
    "df['cluster'] = labels"
   ]
  },
  {
   "cell_type": "code",
   "execution_count": 20,
   "metadata": {},
   "outputs": [
    {
     "data": {
      "text/plain": [
       "1    1259\n",
       "3    1003\n",
       "4     848\n",
       "0     505\n",
       "2     385\n",
       "Name: cluster, dtype: int64"
      ]
     },
     "execution_count": 20,
     "metadata": {},
     "output_type": "execute_result"
    }
   ],
   "source": [
    "# выведены число уникальных значений каждого кластера\n",
    "df['cluster'].value_counts()"
   ]
  },
  {
   "cell_type": "markdown",
   "metadata": {},
   "source": [
    "Всех больше клиентов насчитывается в 1 кластере"
   ]
  },
  {
   "cell_type": "code",
   "execution_count": 21,
   "metadata": {},
   "outputs": [
    {
     "data": {
      "text/html": [
       "<div>\n",
       "<style scoped>\n",
       "    .dataframe tbody tr th:only-of-type {\n",
       "        vertical-align: middle;\n",
       "    }\n",
       "\n",
       "    .dataframe tbody tr th {\n",
       "        vertical-align: top;\n",
       "    }\n",
       "\n",
       "    .dataframe thead th {\n",
       "        text-align: right;\n",
       "    }\n",
       "</style>\n",
       "<table border=\"1\" class=\"dataframe\">\n",
       "  <thead>\n",
       "    <tr style=\"text-align: right;\">\n",
       "      <th>cluster</th>\n",
       "      <th>0</th>\n",
       "      <th>1</th>\n",
       "      <th>2</th>\n",
       "      <th>3</th>\n",
       "      <th>4</th>\n",
       "    </tr>\n",
       "  </thead>\n",
       "  <tbody>\n",
       "    <tr>\n",
       "      <th>gender</th>\n",
       "      <td>0.50</td>\n",
       "      <td>0.48</td>\n",
       "      <td>0.52</td>\n",
       "      <td>0.50</td>\n",
       "      <td>0.56</td>\n",
       "    </tr>\n",
       "    <tr>\n",
       "      <th>near_location</th>\n",
       "      <td>0.00</td>\n",
       "      <td>1.00</td>\n",
       "      <td>0.86</td>\n",
       "      <td>0.96</td>\n",
       "      <td>0.98</td>\n",
       "    </tr>\n",
       "    <tr>\n",
       "      <th>partner</th>\n",
       "      <td>0.46</td>\n",
       "      <td>0.35</td>\n",
       "      <td>0.47</td>\n",
       "      <td>0.78</td>\n",
       "      <td>0.36</td>\n",
       "    </tr>\n",
       "    <tr>\n",
       "      <th>promo_friends</th>\n",
       "      <td>0.08</td>\n",
       "      <td>0.24</td>\n",
       "      <td>0.31</td>\n",
       "      <td>0.57</td>\n",
       "      <td>0.24</td>\n",
       "    </tr>\n",
       "    <tr>\n",
       "      <th>phone</th>\n",
       "      <td>1.00</td>\n",
       "      <td>1.00</td>\n",
       "      <td>0.00</td>\n",
       "      <td>1.00</td>\n",
       "      <td>1.00</td>\n",
       "    </tr>\n",
       "    <tr>\n",
       "      <th>age</th>\n",
       "      <td>28.48</td>\n",
       "      <td>28.17</td>\n",
       "      <td>29.30</td>\n",
       "      <td>29.99</td>\n",
       "      <td>30.11</td>\n",
       "    </tr>\n",
       "    <tr>\n",
       "      <th>lifetime</th>\n",
       "      <td>2.81</td>\n",
       "      <td>2.43</td>\n",
       "      <td>3.92</td>\n",
       "      <td>4.75</td>\n",
       "      <td>4.89</td>\n",
       "    </tr>\n",
       "    <tr>\n",
       "      <th>contract_period</th>\n",
       "      <td>2.35</td>\n",
       "      <td>1.95</td>\n",
       "      <td>4.79</td>\n",
       "      <td>10.92</td>\n",
       "      <td>2.69</td>\n",
       "    </tr>\n",
       "    <tr>\n",
       "      <th>month_to_end_contract</th>\n",
       "      <td>2.20</td>\n",
       "      <td>1.86</td>\n",
       "      <td>4.48</td>\n",
       "      <td>9.98</td>\n",
       "      <td>2.48</td>\n",
       "    </tr>\n",
       "    <tr>\n",
       "      <th>group_visits</th>\n",
       "      <td>0.22</td>\n",
       "      <td>0.34</td>\n",
       "      <td>0.43</td>\n",
       "      <td>0.55</td>\n",
       "      <td>0.47</td>\n",
       "    </tr>\n",
       "    <tr>\n",
       "      <th>avg_class_frequency_total</th>\n",
       "      <td>1.66</td>\n",
       "      <td>1.25</td>\n",
       "      <td>1.85</td>\n",
       "      <td>1.98</td>\n",
       "      <td>2.85</td>\n",
       "    </tr>\n",
       "    <tr>\n",
       "      <th>avg_class_frequency_current_month</th>\n",
       "      <td>1.48</td>\n",
       "      <td>1.01</td>\n",
       "      <td>1.72</td>\n",
       "      <td>1.97</td>\n",
       "      <td>2.85</td>\n",
       "    </tr>\n",
       "    <tr>\n",
       "      <th>avg_additional_charges_total</th>\n",
       "      <td>135.46</td>\n",
       "      <td>131.44</td>\n",
       "      <td>143.96</td>\n",
       "      <td>160.88</td>\n",
       "      <td>161.67</td>\n",
       "    </tr>\n",
       "    <tr>\n",
       "      <th>churn</th>\n",
       "      <td>0.44</td>\n",
       "      <td>0.52</td>\n",
       "      <td>0.27</td>\n",
       "      <td>0.03</td>\n",
       "      <td>0.07</td>\n",
       "    </tr>\n",
       "  </tbody>\n",
       "</table>\n",
       "</div>"
      ],
      "text/plain": [
       "cluster                                 0       1       2       3       4\n",
       "gender                               0.50    0.48    0.52    0.50    0.56\n",
       "near_location                        0.00    1.00    0.86    0.96    0.98\n",
       "partner                              0.46    0.35    0.47    0.78    0.36\n",
       "promo_friends                        0.08    0.24    0.31    0.57    0.24\n",
       "phone                                1.00    1.00    0.00    1.00    1.00\n",
       "age                                 28.48   28.17   29.30   29.99   30.11\n",
       "lifetime                             2.81    2.43    3.92    4.75    4.89\n",
       "contract_period                      2.35    1.95    4.79   10.92    2.69\n",
       "month_to_end_contract                2.20    1.86    4.48    9.98    2.48\n",
       "group_visits                         0.22    0.34    0.43    0.55    0.47\n",
       "avg_class_frequency_total            1.66    1.25    1.85    1.98    2.85\n",
       "avg_class_frequency_current_month    1.48    1.01    1.72    1.97    2.85\n",
       "avg_additional_charges_total       135.46  131.44  143.96  160.88  161.67\n",
       "churn                                0.44    0.52    0.27    0.03    0.07"
      ]
     },
     "execution_count": 21,
     "metadata": {},
     "output_type": "execute_result"
    }
   ],
   "source": [
    "# посчитано среднее значение по кластерам для каждого признака\n",
    "df.groupby('cluster').mean().T.round(2)"
   ]
  },
  {
   "cell_type": "markdown",
   "metadata": {},
   "source": [
    "**Выводы по кластерам**\n",
    "\n",
    "**0 кластер**\n",
    "\n",
    "* клиенты не проживают и не работают возле офиса\n",
    "* имеет самый маленький процент (8%) по проме акции\n",
    "* отток клиентов 44%\n",
    "\n",
    "**1 кластер**\n",
    "\n",
    "* в основном клиенты берут абонемент на 2 месяца\n",
    "* наименьшее кол-во посещений за последний месяц\n",
    "* самый большой отток клиентов 52%\n",
    "\n",
    "**2 кластер**\n",
    "\n",
    "* нет мобильного телефона\n",
    "* отток клиентов 27%\n",
    "\n",
    "**3 кластер**\n",
    "\n",
    "* преобладают сотрудники компаний-партнеров\n",
    "* абонементы в среднем берут на 10 месяцев\n",
    "* самый маленький отток клиентов 3%\n",
    "\n",
    "**4 кластер**\n",
    "\n",
    "* всех больше посещают занятия в неделю - 3 раза\n",
    "* отток клиентов 7%"
   ]
  },
  {
   "cell_type": "code",
   "execution_count": 22,
   "metadata": {
    "scrolled": false
   },
   "outputs": [
    {
     "data": {
      "image/png": "[encoded data removed]",
      "text/plain": [
       "<Figure size 720x288 with 1 Axes>"
      ]
     },
     "metadata": {
      "needs_background": "light"
     },
     "output_type": "display_data"
    },
    {
     "data": {
      "image/png": "[encoded data removed]",
      "text/plain": [
       "<Figure size 720x288 with 1 Axes>"
      ]
     },
     "metadata": {
      "needs_background": "light"
     },
     "output_type": "display_data"
    },
    {
     "data": {
      "image/png": "[encoded data removed]",
      "text/plain": [
       "<Figure size 720x288 with 1 Axes>"
      ]
     },
     "metadata": {
      "needs_background": "light"
     },
     "output_type": "display_data"
    },
    {
     "data": {
      "image/png": "[encoded data removed]",
      "text/plain": [
       "<Figure size 720x288 with 1 Axes>"
      ]
     },
     "metadata": {
      "needs_background": "light"
     },
     "output_type": "display_data"
    },
    {
     "data": {
      "image/png": "[encoded data removed]",
      "text/plain": [
       "<Figure size 720x288 with 1 Axes>"
      ]
     },
     "metadata": {
      "needs_background": "light"
     },
     "output_type": "display_data"
    },
    {
     "data": {
      "image/png": "[encoded data removed]",
      "text/plain": [
       "<Figure size 720x288 with 1 Axes>"
      ]
     },
     "metadata": {
      "needs_background": "light"
     },
     "output_type": "display_data"
    },
    {
     "data": {
      "image/png": "[encoded data removed]",
      "text/plain": [
       "<Figure size 720x288 with 1 Axes>"
      ]
     },
     "metadata": {
      "needs_background": "light"
     },
     "output_type": "display_data"
    }
   ],
   "source": [
    "# построены диаграммы для количественных перемен\n",
    "categorical = ['age', \n",
    "               'lifetime', \n",
    "               'contract_period', \n",
    "               'month_to_end_contract', \n",
    "               'avg_class_frequency_total', \n",
    "               'avg_class_frequency_current_month', \n",
    "               'avg_additional_charges_total']\n",
    "\n",
    "for column in categorical: \n",
    "    plt.figure(figsize=(10,4)) \n",
    "    sns.histplot(x=column, hue='cluster', data=df, element='step', alpha=0.5, palette='rainbow', kde=True)\n",
    "    plt.legend(['0 кластер', '1 кластер', '2 кластер', '3 кластер', '4 кластер'])\n",
    "    plt.show()"
   ]
  },
  {
   "cell_type": "code",
   "execution_count": 23,
   "metadata": {
    "scrolled": false
   },
   "outputs": [
    {
     "data": {
      "image/png": "[encoded data removed]",
      "text/plain": [
       "<Figure size 720x288 with 1 Axes>"
      ]
     },
     "metadata": {
      "needs_background": "light"
     },
     "output_type": "display_data"
    },
    {
     "data": {
      "image/png": "[encoded data removed]",
      "text/plain": [
       "<Figure size 720x288 with 1 Axes>"
      ]
     },
     "metadata": {
      "needs_background": "light"
     },
     "output_type": "display_data"
    },
    {
     "data": {
      "image/png": "[encoded data removed]",
      "text/plain": [
       "<Figure size 720x288 with 1 Axes>"
      ]
     },
     "metadata": {
      "needs_background": "light"
     },
     "output_type": "display_data"
    },
    {
     "data": {
      "image/png": "[encoded data removed]",
      "text/plain": [
       "<Figure size 720x288 with 1 Axes>"
      ]
     },
     "metadata": {
      "needs_background": "light"
     },
     "output_type": "display_data"
    },
    {
     "data": {
      "image/png": "[encoded data removed]",
      "text/plain": [
       "<Figure size 720x288 with 1 Axes>"
      ]
     },
     "metadata": {
      "needs_background": "light"
     },
     "output_type": "display_data"
    },
    {
     "data": {
      "image/png": "[encoded data removed]",
      "text/plain": [
       "<Figure size 720x288 with 1 Axes>"
      ]
     },
     "metadata": {
      "needs_background": "light"
     },
     "output_type": "display_data"
    },
    {
     "data": {
      "image/png": "[encoded data removed]",
      "text/plain": [
       "<Figure size 720x288 with 1 Axes>"
      ]
     },
     "metadata": {
      "needs_background": "light"
     },
     "output_type": "display_data"
    }
   ],
   "source": [
    "# построены стобчатые диаграммы для катогориальных перемен\n",
    "quantitative = ['gender', \n",
    "                'near_location', \n",
    "                'partner', \n",
    "                'promo_friends', \n",
    "                'phone', \n",
    "                'group_visits', \n",
    "                'churn']\n",
    "\n",
    "for column in quantitative: \n",
    "    plt.figure(figsize=(10,4)) \n",
    "    sns.countplot(x=column, hue='cluster', data=df, alpha=0.7, palette='rainbow')\n",
    "    plt.legend(['0 кластер', '1 кластер', '2 кластер', '3 кластер', '4 кластер'])\n",
    "    plt.show()"
   ]
  },
  {
   "cell_type": "markdown",
   "metadata": {},
   "source": [
    "## 6. Вывод и рекомендация"
   ]
  },
  {
   "cell_type": "markdown",
   "metadata": {},
   "source": [
    "Лучше всего продовать долгосрочные абонементы, т.к на них показывается самый маленький отток клиентов. За счёт этого с большей вероятностью клиенты будут пользоваться и другими услугами фитнесс-клуба. Рекомендация для удержании клиентов: следует ввести новые способы, чтобы клиенты покупали долгосрочные абонементы, а не краткосрочные "
   ]
  }
 ],
 "metadata": {
  "ExecuteTimeLog": [
   {
    "duration": 442,
    "start_time": "2022-07-13T13:41:13.091Z"
   },
   {
    "duration": 68,
    "start_time": "2022-07-13T13:41:29.161Z"
   },
   {
    "duration": 3,
    "start_time": "2022-07-13T13:41:33.162Z"
   },
   {
    "duration": 7,
    "start_time": "2022-07-13T13:41:33.518Z"
   },
   {
    "duration": 3,
    "start_time": "2022-07-13T13:41:40.248Z"
   },
   {
    "duration": 183,
    "start_time": "2022-07-13T13:41:40.645Z"
   },
   {
    "duration": 12,
    "start_time": "2022-07-13T13:44:41.686Z"
   },
   {
    "duration": 50,
    "start_time": "2022-07-13T16:47:35.929Z"
   },
   {
    "duration": 1604,
    "start_time": "2022-07-13T16:47:41.808Z"
   },
   {
    "duration": 62,
    "start_time": "2022-07-13T16:47:43.414Z"
   },
   {
    "duration": 12,
    "start_time": "2022-07-13T16:47:43.478Z"
   },
   {
    "duration": 49,
    "start_time": "2022-07-13T16:55:27.110Z"
   },
   {
    "duration": 6822,
    "start_time": "2022-07-13T17:17:54.996Z"
   },
   {
    "duration": 45,
    "start_time": "2022-07-13T17:18:07.223Z"
   },
   {
    "duration": 56,
    "start_time": "2022-07-13T17:19:49.786Z"
   },
   {
    "duration": 46,
    "start_time": "2022-07-13T17:19:57.481Z"
   },
   {
    "duration": 50,
    "start_time": "2022-07-13T17:20:51.712Z"
   },
   {
    "duration": 5,
    "start_time": "2022-07-13T18:17:12.934Z"
   },
   {
    "duration": 4,
    "start_time": "2022-07-13T18:17:32.136Z"
   },
   {
    "duration": 14,
    "start_time": "2022-07-13T18:17:43.252Z"
   },
   {
    "duration": 12,
    "start_time": "2022-07-13T18:17:58.784Z"
   },
   {
    "duration": 38,
    "start_time": "2022-07-13T18:22:46.018Z"
   },
   {
    "duration": 42,
    "start_time": "2022-07-13T18:22:57.665Z"
   },
   {
    "duration": 32,
    "start_time": "2022-07-13T18:43:40.751Z"
   },
   {
    "duration": 14,
    "start_time": "2022-07-13T18:45:16.125Z"
   },
   {
    "duration": 12,
    "start_time": "2022-07-13T18:45:39.525Z"
   },
   {
    "duration": 56,
    "start_time": "2022-07-13T18:45:53.372Z"
   },
   {
    "duration": 15,
    "start_time": "2022-07-13T18:51:11.246Z"
   },
   {
    "duration": 107,
    "start_time": "2022-07-13T18:52:41.068Z"
   },
   {
    "duration": 800,
    "start_time": "2022-07-13T18:53:17.996Z"
   },
   {
    "duration": 14,
    "start_time": "2022-07-13T18:55:20.565Z"
   },
   {
    "duration": 16,
    "start_time": "2022-07-13T18:56:11.561Z"
   },
   {
    "duration": 15,
    "start_time": "2022-07-13T18:59:18.340Z"
   },
   {
    "duration": 28,
    "start_time": "2022-07-13T18:59:31.365Z"
   },
   {
    "duration": 15,
    "start_time": "2022-07-13T18:59:46.097Z"
   },
   {
    "duration": 51,
    "start_time": "2022-07-13T19:02:56.529Z"
   },
   {
    "duration": 1410,
    "start_time": "2022-07-13T19:03:03.719Z"
   },
   {
    "duration": 34,
    "start_time": "2022-07-13T19:03:05.131Z"
   },
   {
    "duration": 13,
    "start_time": "2022-07-13T19:03:05.166Z"
   },
   {
    "duration": 17,
    "start_time": "2022-07-13T19:03:05.181Z"
   },
   {
    "duration": 17,
    "start_time": "2022-07-13T19:03:05.199Z"
   },
   {
    "duration": 50,
    "start_time": "2022-07-13T19:03:05.223Z"
   },
   {
    "duration": 56,
    "start_time": "2022-07-13T19:15:16.022Z"
   },
   {
    "duration": 1401,
    "start_time": "2022-07-13T19:15:26.422Z"
   },
   {
    "duration": 33,
    "start_time": "2022-07-13T19:15:27.825Z"
   },
   {
    "duration": 11,
    "start_time": "2022-07-13T19:15:27.860Z"
   },
   {
    "duration": 13,
    "start_time": "2022-07-13T19:15:27.873Z"
   },
   {
    "duration": 23,
    "start_time": "2022-07-13T19:15:27.888Z"
   },
   {
    "duration": 55,
    "start_time": "2022-07-13T19:15:27.912Z"
   },
   {
    "duration": 55,
    "start_time": "2022-07-13T19:15:48.179Z"
   },
   {
    "duration": 19,
    "start_time": "2022-07-13T19:15:53.412Z"
   },
   {
    "duration": 17,
    "start_time": "2022-07-13T19:30:22.396Z"
   },
   {
    "duration": 6,
    "start_time": "2022-07-13T19:31:31.904Z"
   },
   {
    "duration": 18,
    "start_time": "2022-07-13T19:31:38.409Z"
   },
   {
    "duration": 111,
    "start_time": "2022-07-13T19:32:07.428Z"
   },
   {
    "duration": 19,
    "start_time": "2022-07-13T19:32:23.147Z"
   },
   {
    "duration": 22,
    "start_time": "2022-07-13T19:38:24.698Z"
   },
   {
    "duration": 1586,
    "start_time": "2022-07-13T19:39:08.317Z"
   },
   {
    "duration": 1590,
    "start_time": "2022-07-13T19:39:21.869Z"
   },
   {
    "duration": 1584,
    "start_time": "2022-07-13T19:42:21.689Z"
   },
   {
    "duration": 1571,
    "start_time": "2022-07-13T19:44:03.274Z"
   },
   {
    "duration": 1462,
    "start_time": "2022-07-13T19:44:32.435Z"
   },
   {
    "duration": 1579,
    "start_time": "2022-07-13T19:44:42.508Z"
   },
   {
    "duration": 1559,
    "start_time": "2022-07-13T19:45:34.147Z"
   },
   {
    "duration": 1636,
    "start_time": "2022-07-13T19:45:41.673Z"
   },
   {
    "duration": 1794,
    "start_time": "2022-07-13T19:46:04.662Z"
   },
   {
    "duration": 1586,
    "start_time": "2022-07-13T19:46:19.814Z"
   },
   {
    "duration": 5,
    "start_time": "2022-07-13T19:47:52.275Z"
   },
   {
    "duration": 18,
    "start_time": "2022-07-13T19:48:15.259Z"
   },
   {
    "duration": 381,
    "start_time": "2022-07-13T19:48:38.535Z"
   },
   {
    "duration": 18,
    "start_time": "2022-07-13T19:48:43.695Z"
   },
   {
    "duration": 45,
    "start_time": "2022-07-14T08:11:47.238Z"
   },
   {
    "duration": 1687,
    "start_time": "2022-07-14T08:17:23.268Z"
   },
   {
    "duration": 59,
    "start_time": "2022-07-14T08:17:24.957Z"
   },
   {
    "duration": 13,
    "start_time": "2022-07-14T08:17:25.020Z"
   },
   {
    "duration": 18,
    "start_time": "2022-07-14T08:17:25.035Z"
   },
   {
    "duration": 18,
    "start_time": "2022-07-14T08:17:25.055Z"
   },
   {
    "duration": 48,
    "start_time": "2022-07-14T08:17:25.075Z"
   },
   {
    "duration": 16,
    "start_time": "2022-07-14T08:17:25.124Z"
   },
   {
    "duration": 1487,
    "start_time": "2022-07-14T08:17:25.141Z"
   },
   {
    "duration": 4,
    "start_time": "2022-07-14T08:24:00.145Z"
   },
   {
    "duration": 121,
    "start_time": "2022-07-14T08:24:14.144Z"
   },
   {
    "duration": 1411,
    "start_time": "2022-07-14T08:24:34.822Z"
   },
   {
    "duration": 32,
    "start_time": "2022-07-14T08:24:36.235Z"
   },
   {
    "duration": 10,
    "start_time": "2022-07-14T08:24:36.269Z"
   },
   {
    "duration": 12,
    "start_time": "2022-07-14T08:24:36.281Z"
   },
   {
    "duration": 15,
    "start_time": "2022-07-14T08:24:36.294Z"
   },
   {
    "duration": 58,
    "start_time": "2022-07-14T08:24:36.310Z"
   },
   {
    "duration": 0,
    "start_time": "2022-07-14T08:24:36.370Z"
   },
   {
    "duration": 0,
    "start_time": "2022-07-14T08:24:36.371Z"
   },
   {
    "duration": 0,
    "start_time": "2022-07-14T08:24:36.372Z"
   },
   {
    "duration": 14,
    "start_time": "2022-07-14T08:25:51.999Z"
   },
   {
    "duration": 16,
    "start_time": "2022-07-14T08:27:12.427Z"
   },
   {
    "duration": 57,
    "start_time": "2022-07-14T08:27:19.078Z"
   },
   {
    "duration": 51,
    "start_time": "2022-07-14T08:39:44.326Z"
   },
   {
    "duration": 59,
    "start_time": "2022-07-14T08:40:10.358Z"
   },
   {
    "duration": 1463,
    "start_time": "2022-07-14T08:41:02.565Z"
   },
   {
    "duration": 1563,
    "start_time": "2022-07-14T08:41:07.928Z"
   },
   {
    "duration": 117,
    "start_time": "2022-07-14T09:16:26.797Z"
   },
   {
    "duration": 1949,
    "start_time": "2022-07-14T09:16:47.147Z"
   },
   {
    "duration": 2285,
    "start_time": "2022-07-14T09:17:10.389Z"
   },
   {
    "duration": 1718,
    "start_time": "2022-07-14T09:18:55.460Z"
   },
   {
    "duration": 1920,
    "start_time": "2022-07-14T09:20:42.189Z"
   },
   {
    "duration": 1403,
    "start_time": "2022-07-14T09:20:47.315Z"
   },
   {
    "duration": 33,
    "start_time": "2022-07-14T09:20:48.720Z"
   },
   {
    "duration": 12,
    "start_time": "2022-07-14T09:20:48.755Z"
   },
   {
    "duration": 16,
    "start_time": "2022-07-14T09:20:48.769Z"
   },
   {
    "duration": 25,
    "start_time": "2022-07-14T09:20:48.787Z"
   },
   {
    "duration": 12,
    "start_time": "2022-07-14T09:20:48.814Z"
   },
   {
    "duration": 59,
    "start_time": "2022-07-14T09:20:48.827Z"
   },
   {
    "duration": 47,
    "start_time": "2022-07-14T09:20:48.887Z"
   },
   {
    "duration": 57,
    "start_time": "2022-07-14T09:20:48.935Z"
   },
   {
    "duration": 15,
    "start_time": "2022-07-14T09:20:48.994Z"
   },
   {
    "duration": 1446,
    "start_time": "2022-07-14T09:20:49.010Z"
   },
   {
    "duration": 2227,
    "start_time": "2022-07-14T09:20:50.459Z"
   },
   {
    "duration": 1765,
    "start_time": "2022-07-14T09:21:07.816Z"
   },
   {
    "duration": 123,
    "start_time": "2022-07-14T09:23:05.857Z"
   },
   {
    "duration": 20,
    "start_time": "2022-07-14T09:23:36.458Z"
   },
   {
    "duration": 1463,
    "start_time": "2022-07-14T09:23:53.856Z"
   },
   {
    "duration": 59,
    "start_time": "2022-07-14T09:23:55.322Z"
   },
   {
    "duration": 15,
    "start_time": "2022-07-14T09:23:55.383Z"
   },
   {
    "duration": 16,
    "start_time": "2022-07-14T09:23:55.401Z"
   },
   {
    "duration": 21,
    "start_time": "2022-07-14T09:23:55.419Z"
   },
   {
    "duration": 27,
    "start_time": "2022-07-14T09:23:55.441Z"
   },
   {
    "duration": 70,
    "start_time": "2022-07-14T09:23:55.469Z"
   },
   {
    "duration": 48,
    "start_time": "2022-07-14T09:23:55.541Z"
   },
   {
    "duration": 53,
    "start_time": "2022-07-14T09:23:55.590Z"
   },
   {
    "duration": 31,
    "start_time": "2022-07-14T09:23:55.645Z"
   },
   {
    "duration": 1430,
    "start_time": "2022-07-14T09:23:55.678Z"
   },
   {
    "duration": 113,
    "start_time": "2022-07-14T09:23:57.110Z"
   },
   {
    "duration": 1859,
    "start_time": "2022-07-14T09:28:38.585Z"
   },
   {
    "duration": 1811,
    "start_time": "2022-07-14T09:28:49.292Z"
   },
   {
    "duration": 1899,
    "start_time": "2022-07-14T09:29:51.690Z"
   },
   {
    "duration": 1758,
    "start_time": "2022-07-14T09:30:07.045Z"
   },
   {
    "duration": 1761,
    "start_time": "2022-07-14T09:30:14.027Z"
   },
   {
    "duration": 4807,
    "start_time": "2022-07-14T09:30:41.452Z"
   },
   {
    "duration": 4872,
    "start_time": "2022-07-14T09:31:12.284Z"
   },
   {
    "duration": 1429,
    "start_time": "2022-07-14T09:31:23.682Z"
   },
   {
    "duration": 66,
    "start_time": "2022-07-14T09:31:25.113Z"
   },
   {
    "duration": 12,
    "start_time": "2022-07-14T09:31:25.181Z"
   },
   {
    "duration": 16,
    "start_time": "2022-07-14T09:31:25.195Z"
   },
   {
    "duration": 16,
    "start_time": "2022-07-14T09:31:25.213Z"
   },
   {
    "duration": 13,
    "start_time": "2022-07-14T09:31:25.230Z"
   },
   {
    "duration": 62,
    "start_time": "2022-07-14T09:31:25.245Z"
   },
   {
    "duration": 62,
    "start_time": "2022-07-14T09:31:25.309Z"
   },
   {
    "duration": 56,
    "start_time": "2022-07-14T09:31:25.372Z"
   },
   {
    "duration": 15,
    "start_time": "2022-07-14T09:31:25.430Z"
   },
   {
    "duration": 1473,
    "start_time": "2022-07-14T09:31:25.447Z"
   },
   {
    "duration": 4865,
    "start_time": "2022-07-14T09:31:26.921Z"
   },
   {
    "duration": 2203,
    "start_time": "2022-07-14T09:33:57.698Z"
   },
   {
    "duration": 1237,
    "start_time": "2022-07-14T09:34:33.120Z"
   },
   {
    "duration": 2035,
    "start_time": "2022-07-14T09:34:53.677Z"
   },
   {
    "duration": 51,
    "start_time": "2022-07-14T09:35:16.338Z"
   },
   {
    "duration": 2900,
    "start_time": "2022-07-14T09:35:19.975Z"
   },
   {
    "duration": 166,
    "start_time": "2022-07-14T09:35:30.264Z"
   },
   {
    "duration": 2074,
    "start_time": "2022-07-14T09:35:33.557Z"
   },
   {
    "duration": 130,
    "start_time": "2022-07-14T09:38:42.472Z"
   },
   {
    "duration": 1738,
    "start_time": "2022-07-14T09:38:49.687Z"
   },
   {
    "duration": 59,
    "start_time": "2022-07-14T09:39:41.867Z"
   },
   {
    "duration": 20,
    "start_time": "2022-07-14T09:39:57.557Z"
   },
   {
    "duration": 1158,
    "start_time": "2022-07-14T09:40:24.207Z"
   },
   {
    "duration": 1275,
    "start_time": "2022-07-14T09:41:20.833Z"
   },
   {
    "duration": 1185,
    "start_time": "2022-07-14T09:41:27.527Z"
   },
   {
    "duration": 1254,
    "start_time": "2022-07-14T09:41:38.756Z"
   },
   {
    "duration": 1204,
    "start_time": "2022-07-14T09:43:49.596Z"
   },
   {
    "duration": 1322,
    "start_time": "2022-07-14T09:43:56.946Z"
   },
   {
    "duration": 1994,
    "start_time": "2022-07-14T09:47:28.848Z"
   },
   {
    "duration": 1382,
    "start_time": "2022-07-14T09:47:45.109Z"
   },
   {
    "duration": 1271,
    "start_time": "2022-07-14T09:50:51.331Z"
   },
   {
    "duration": 1369,
    "start_time": "2022-07-14T09:52:23.178Z"
   },
   {
    "duration": 1247,
    "start_time": "2022-07-14T09:52:48.217Z"
   },
   {
    "duration": 2734,
    "start_time": "2022-07-14T09:55:17.468Z"
   },
   {
    "duration": 21,
    "start_time": "2022-07-14T09:58:32.177Z"
   },
   {
    "duration": 16,
    "start_time": "2022-07-14T09:58:47.360Z"
   },
   {
    "duration": 2650,
    "start_time": "2022-07-14T09:59:36.494Z"
   },
   {
    "duration": 2399,
    "start_time": "2022-07-14T09:59:46.500Z"
   },
   {
    "duration": 1422,
    "start_time": "2022-07-14T10:01:19.847Z"
   },
   {
    "duration": 1384,
    "start_time": "2022-07-14T11:25:19.522Z"
   },
   {
    "duration": 1528,
    "start_time": "2022-07-14T11:25:40.775Z"
   },
   {
    "duration": 1518,
    "start_time": "2022-07-14T11:26:36.746Z"
   },
   {
    "duration": 1364,
    "start_time": "2022-07-14T11:26:44.126Z"
   },
   {
    "duration": 1498,
    "start_time": "2022-07-14T11:26:48.930Z"
   },
   {
    "duration": 1342,
    "start_time": "2022-07-14T11:26:58.273Z"
   },
   {
    "duration": 1377,
    "start_time": "2022-07-14T11:28:23.115Z"
   },
   {
    "duration": 1312,
    "start_time": "2022-07-14T11:28:32.780Z"
   },
   {
    "duration": 1532,
    "start_time": "2022-07-14T11:29:30.675Z"
   },
   {
    "duration": 1375,
    "start_time": "2022-07-14T11:32:46.994Z"
   },
   {
    "duration": 1326,
    "start_time": "2022-07-14T11:32:57.075Z"
   },
   {
    "duration": 1377,
    "start_time": "2022-07-14T11:33:37.372Z"
   },
   {
    "duration": 1424,
    "start_time": "2022-07-14T11:34:13.949Z"
   },
   {
    "duration": 32,
    "start_time": "2022-07-14T11:34:56.986Z"
   },
   {
    "duration": 1384,
    "start_time": "2022-07-14T11:35:17.626Z"
   },
   {
    "duration": 1426,
    "start_time": "2022-07-14T11:35:54.346Z"
   },
   {
    "duration": 1449,
    "start_time": "2022-07-14T11:36:37.086Z"
   },
   {
    "duration": 21,
    "start_time": "2022-07-14T11:36:58.936Z"
   },
   {
    "duration": 20,
    "start_time": "2022-07-14T11:37:18.799Z"
   },
   {
    "duration": 1322,
    "start_time": "2022-07-14T11:39:13.090Z"
   },
   {
    "duration": 21,
    "start_time": "2022-07-14T11:39:25.469Z"
   },
   {
    "duration": 1374,
    "start_time": "2022-07-14T11:39:55.444Z"
   },
   {
    "duration": 1456,
    "start_time": "2022-07-14T11:40:23.494Z"
   },
   {
    "duration": 1336,
    "start_time": "2022-07-14T11:41:05.577Z"
   },
   {
    "duration": 1368,
    "start_time": "2022-07-14T11:42:15.309Z"
   },
   {
    "duration": 26,
    "start_time": "2022-07-14T11:46:28.520Z"
   },
   {
    "duration": 2403,
    "start_time": "2022-07-14T11:46:43.485Z"
   },
   {
    "duration": 18,
    "start_time": "2022-07-14T11:53:30.635Z"
   },
   {
    "duration": 4,
    "start_time": "2022-07-14T11:54:09.133Z"
   },
   {
    "duration": 1604,
    "start_time": "2022-07-14T11:54:14.289Z"
   },
   {
    "duration": 46,
    "start_time": "2022-07-14T11:54:15.895Z"
   },
   {
    "duration": 12,
    "start_time": "2022-07-14T11:54:15.943Z"
   },
   {
    "duration": 21,
    "start_time": "2022-07-14T11:54:15.957Z"
   },
   {
    "duration": 15,
    "start_time": "2022-07-14T11:54:15.980Z"
   },
   {
    "duration": 15,
    "start_time": "2022-07-14T11:54:15.997Z"
   },
   {
    "duration": 71,
    "start_time": "2022-07-14T11:54:16.014Z"
   },
   {
    "duration": 46,
    "start_time": "2022-07-14T11:54:16.086Z"
   },
   {
    "duration": 64,
    "start_time": "2022-07-14T11:54:16.134Z"
   },
   {
    "duration": 2453,
    "start_time": "2022-07-14T11:54:16.201Z"
   },
   {
    "duration": 1589,
    "start_time": "2022-07-14T11:54:18.663Z"
   },
   {
    "duration": 299,
    "start_time": "2022-07-14T11:54:20.254Z"
   },
   {
    "duration": 3,
    "start_time": "2022-07-14T11:54:52.770Z"
   },
   {
    "duration": 1377,
    "start_time": "2022-07-14T11:54:59.490Z"
   },
   {
    "duration": 44,
    "start_time": "2022-07-14T11:55:00.869Z"
   },
   {
    "duration": 11,
    "start_time": "2022-07-14T11:55:00.915Z"
   },
   {
    "duration": 31,
    "start_time": "2022-07-14T11:55:00.928Z"
   },
   {
    "duration": 30,
    "start_time": "2022-07-14T11:55:00.960Z"
   },
   {
    "duration": 23,
    "start_time": "2022-07-14T11:55:00.991Z"
   },
   {
    "duration": 67,
    "start_time": "2022-07-14T11:55:01.016Z"
   },
   {
    "duration": 49,
    "start_time": "2022-07-14T11:55:01.084Z"
   },
   {
    "duration": 59,
    "start_time": "2022-07-14T11:55:01.135Z"
   },
   {
    "duration": 2576,
    "start_time": "2022-07-14T11:55:01.197Z"
   },
   {
    "duration": 1561,
    "start_time": "2022-07-14T11:55:03.775Z"
   },
   {
    "duration": 126,
    "start_time": "2022-07-14T11:55:05.338Z"
   },
   {
    "duration": 324,
    "start_time": "2022-07-14T12:03:05.142Z"
   },
   {
    "duration": 4,
    "start_time": "2022-07-14T12:03:39.339Z"
   },
   {
    "duration": 1617,
    "start_time": "2022-07-14T12:03:51.270Z"
   },
   {
    "duration": 45,
    "start_time": "2022-07-14T12:03:52.889Z"
   },
   {
    "duration": 12,
    "start_time": "2022-07-14T12:03:52.936Z"
   },
   {
    "duration": 13,
    "start_time": "2022-07-14T12:03:52.950Z"
   },
   {
    "duration": 18,
    "start_time": "2022-07-14T12:03:52.965Z"
   },
   {
    "duration": 14,
    "start_time": "2022-07-14T12:03:52.985Z"
   },
   {
    "duration": 68,
    "start_time": "2022-07-14T12:03:53.000Z"
   },
   {
    "duration": 49,
    "start_time": "2022-07-14T12:03:53.070Z"
   },
   {
    "duration": 64,
    "start_time": "2022-07-14T12:03:53.121Z"
   },
   {
    "duration": 2492,
    "start_time": "2022-07-14T12:03:53.187Z"
   },
   {
    "duration": 1503,
    "start_time": "2022-07-14T12:03:55.681Z"
   },
   {
    "duration": 191,
    "start_time": "2022-07-14T12:03:57.186Z"
   },
   {
    "duration": 315,
    "start_time": "2022-07-14T12:08:31.164Z"
   },
   {
    "duration": 3,
    "start_time": "2022-07-14T12:10:06.296Z"
   },
   {
    "duration": 1442,
    "start_time": "2022-07-14T12:10:11.946Z"
   },
   {
    "duration": 45,
    "start_time": "2022-07-14T12:10:13.390Z"
   },
   {
    "duration": 11,
    "start_time": "2022-07-14T12:10:13.436Z"
   },
   {
    "duration": 12,
    "start_time": "2022-07-14T12:10:13.449Z"
   },
   {
    "duration": 22,
    "start_time": "2022-07-14T12:10:13.462Z"
   },
   {
    "duration": 12,
    "start_time": "2022-07-14T12:10:13.486Z"
   },
   {
    "duration": 55,
    "start_time": "2022-07-14T12:10:13.499Z"
   },
   {
    "duration": 48,
    "start_time": "2022-07-14T12:10:13.556Z"
   },
   {
    "duration": 48,
    "start_time": "2022-07-14T12:10:13.605Z"
   },
   {
    "duration": 2489,
    "start_time": "2022-07-14T12:10:13.665Z"
   },
   {
    "duration": 1504,
    "start_time": "2022-07-14T12:10:16.156Z"
   },
   {
    "duration": 686,
    "start_time": "2022-07-14T12:10:17.662Z"
   },
   {
    "duration": 563,
    "start_time": "2022-07-14T12:10:35.924Z"
   },
   {
    "duration": 643,
    "start_time": "2022-07-14T12:11:46.638Z"
   },
   {
    "duration": 546,
    "start_time": "2022-07-14T12:12:01.772Z"
   },
   {
    "duration": 655,
    "start_time": "2022-07-14T12:12:29.889Z"
   },
   {
    "duration": 53,
    "start_time": "2022-07-14T17:44:08.468Z"
   },
   {
    "duration": 1624,
    "start_time": "2022-07-14T17:44:13.296Z"
   },
   {
    "duration": 145,
    "start_time": "2022-07-14T17:44:14.922Z"
   },
   {
    "duration": 12,
    "start_time": "2022-07-14T17:44:15.068Z"
   },
   {
    "duration": 15,
    "start_time": "2022-07-14T17:44:15.083Z"
   },
   {
    "duration": 25,
    "start_time": "2022-07-14T17:44:15.100Z"
   },
   {
    "duration": 14,
    "start_time": "2022-07-14T17:44:15.126Z"
   },
   {
    "duration": 50,
    "start_time": "2022-07-14T17:44:15.142Z"
   },
   {
    "duration": 64,
    "start_time": "2022-07-14T17:44:15.194Z"
   },
   {
    "duration": 69,
    "start_time": "2022-07-14T17:44:15.259Z"
   },
   {
    "duration": 2700,
    "start_time": "2022-07-14T17:44:15.331Z"
   },
   {
    "duration": 1641,
    "start_time": "2022-07-14T17:44:18.032Z"
   },
   {
    "duration": 598,
    "start_time": "2022-07-14T17:44:19.675Z"
   },
   {
    "duration": 564,
    "start_time": "2022-07-14T18:22:24.816Z"
   },
   {
    "duration": 1493,
    "start_time": "2022-07-14T18:25:11.542Z"
   },
   {
    "duration": 2599,
    "start_time": "2022-07-14T18:26:53.748Z"
   },
   {
    "duration": 2738,
    "start_time": "2022-07-14T18:27:13.439Z"
   },
   {
    "duration": 2708,
    "start_time": "2022-07-14T18:28:11.578Z"
   },
   {
    "duration": 120,
    "start_time": "2022-07-14T18:40:53.218Z"
   },
   {
    "duration": 1589,
    "start_time": "2022-07-14T18:40:59.803Z"
   },
   {
    "duration": 48,
    "start_time": "2022-07-14T18:41:01.394Z"
   },
   {
    "duration": 12,
    "start_time": "2022-07-14T18:41:01.444Z"
   },
   {
    "duration": 20,
    "start_time": "2022-07-14T18:41:01.458Z"
   },
   {
    "duration": 50,
    "start_time": "2022-07-14T18:41:01.479Z"
   },
   {
    "duration": 27,
    "start_time": "2022-07-14T18:41:01.530Z"
   },
   {
    "duration": 57,
    "start_time": "2022-07-14T18:41:01.558Z"
   },
   {
    "duration": 57,
    "start_time": "2022-07-14T18:41:01.617Z"
   },
   {
    "duration": 70,
    "start_time": "2022-07-14T18:41:01.676Z"
   },
   {
    "duration": 143,
    "start_time": "2022-07-14T18:41:01.749Z"
   },
   {
    "duration": 0,
    "start_time": "2022-07-14T18:41:01.894Z"
   },
   {
    "duration": 0,
    "start_time": "2022-07-14T18:41:01.896Z"
   },
   {
    "duration": 0,
    "start_time": "2022-07-14T18:41:01.904Z"
   },
   {
    "duration": 1572,
    "start_time": "2022-07-14T18:41:38.798Z"
   },
   {
    "duration": 54,
    "start_time": "2022-07-14T18:41:40.373Z"
   },
   {
    "duration": 15,
    "start_time": "2022-07-14T18:41:40.429Z"
   },
   {
    "duration": 16,
    "start_time": "2022-07-14T18:41:40.446Z"
   },
   {
    "duration": 20,
    "start_time": "2022-07-14T18:41:40.464Z"
   },
   {
    "duration": 23,
    "start_time": "2022-07-14T18:41:40.505Z"
   },
   {
    "duration": 64,
    "start_time": "2022-07-14T18:41:40.530Z"
   },
   {
    "duration": 66,
    "start_time": "2022-07-14T18:41:40.604Z"
   },
   {
    "duration": 91,
    "start_time": "2022-07-14T18:41:40.673Z"
   },
   {
    "duration": 2899,
    "start_time": "2022-07-14T18:41:40.766Z"
   },
   {
    "duration": 1751,
    "start_time": "2022-07-14T18:41:43.667Z"
   },
   {
    "duration": 566,
    "start_time": "2022-07-14T18:41:45.420Z"
   },
   {
    "duration": 125366,
    "start_time": "2022-07-14T18:41:45.988Z"
   },
   {
    "duration": 124830,
    "start_time": "2022-07-14T18:57:03.426Z"
   },
   {
    "duration": 1394,
    "start_time": "2022-07-14T19:05:11.531Z"
   },
   {
    "duration": 50,
    "start_time": "2022-07-14T19:05:12.928Z"
   },
   {
    "duration": 13,
    "start_time": "2022-07-14T19:05:12.980Z"
   },
   {
    "duration": 17,
    "start_time": "2022-07-14T19:05:12.995Z"
   },
   {
    "duration": 20,
    "start_time": "2022-07-14T19:05:13.015Z"
   },
   {
    "duration": 17,
    "start_time": "2022-07-14T19:05:13.037Z"
   },
   {
    "duration": 78,
    "start_time": "2022-07-14T19:05:13.056Z"
   },
   {
    "duration": 58,
    "start_time": "2022-07-14T19:05:13.136Z"
   },
   {
    "duration": 56,
    "start_time": "2022-07-14T19:05:13.205Z"
   },
   {
    "duration": 2701,
    "start_time": "2022-07-14T19:05:13.263Z"
   },
   {
    "duration": 1687,
    "start_time": "2022-07-14T19:05:15.966Z"
   },
   {
    "duration": 553,
    "start_time": "2022-07-14T19:05:17.655Z"
   },
   {
    "duration": 116236,
    "start_time": "2022-07-14T19:05:18.210Z"
   },
   {
    "duration": 1489,
    "start_time": "2022-07-14T19:07:14.450Z"
   },
   {
    "duration": 117839,
    "start_time": "2022-07-14T19:07:46.835Z"
   },
   {
    "duration": 113,
    "start_time": "2022-07-14T19:12:04.761Z"
   },
   {
    "duration": 22,
    "start_time": "2022-07-14T19:12:33.024Z"
   },
   {
    "duration": 1376,
    "start_time": "2022-07-14T19:12:38.161Z"
   },
   {
    "duration": 45,
    "start_time": "2022-07-14T19:12:39.539Z"
   },
   {
    "duration": 11,
    "start_time": "2022-07-14T19:12:39.585Z"
   },
   {
    "duration": 13,
    "start_time": "2022-07-14T19:12:39.598Z"
   },
   {
    "duration": 18,
    "start_time": "2022-07-14T19:12:39.612Z"
   },
   {
    "duration": 16,
    "start_time": "2022-07-14T19:12:39.632Z"
   },
   {
    "duration": 80,
    "start_time": "2022-07-14T19:12:39.649Z"
   },
   {
    "duration": 52,
    "start_time": "2022-07-14T19:12:39.731Z"
   },
   {
    "duration": 62,
    "start_time": "2022-07-14T19:12:39.785Z"
   },
   {
    "duration": 2699,
    "start_time": "2022-07-14T19:12:39.850Z"
   },
   {
    "duration": 1690,
    "start_time": "2022-07-14T19:12:42.551Z"
   },
   {
    "duration": 564,
    "start_time": "2022-07-14T19:12:44.243Z"
   },
   {
    "duration": 119196,
    "start_time": "2022-07-14T19:12:44.809Z"
   },
   {
    "duration": 1200,
    "start_time": "2022-07-14T19:14:45.205Z"
   },
   {
    "duration": 1067,
    "start_time": "2022-07-14T19:23:30.245Z"
   },
   {
    "duration": 995,
    "start_time": "2022-07-14T19:25:24.511Z"
   },
   {
    "duration": 113,
    "start_time": "2022-07-14T19:25:37.977Z"
   },
   {
    "duration": 1006,
    "start_time": "2022-07-14T19:25:43.004Z"
   },
   {
    "duration": 99,
    "start_time": "2022-07-14T19:25:44.012Z"
   },
   {
    "duration": 6,
    "start_time": "2022-07-14T19:25:48.893Z"
   },
   {
    "duration": 5,
    "start_time": "2022-07-14T19:26:30.311Z"
   },
   {
    "duration": 12,
    "start_time": "2022-07-14T19:27:01.417Z"
   },
   {
    "duration": 15,
    "start_time": "2022-07-14T19:27:28.533Z"
   },
   {
    "duration": 18,
    "start_time": "2022-07-14T19:27:36.034Z"
   },
   {
    "duration": 15,
    "start_time": "2022-07-14T19:27:41.504Z"
   },
   {
    "duration": 13,
    "start_time": "2022-07-14T19:28:31.891Z"
   },
   {
    "duration": 1482,
    "start_time": "2022-07-14T19:28:50.174Z"
   },
   {
    "duration": 47,
    "start_time": "2022-07-14T19:28:51.658Z"
   },
   {
    "duration": 13,
    "start_time": "2022-07-14T19:28:51.707Z"
   },
   {
    "duration": 13,
    "start_time": "2022-07-14T19:28:51.722Z"
   },
   {
    "duration": 16,
    "start_time": "2022-07-14T19:28:51.736Z"
   },
   {
    "duration": 13,
    "start_time": "2022-07-14T19:28:51.753Z"
   },
   {
    "duration": 75,
    "start_time": "2022-07-14T19:28:51.768Z"
   },
   {
    "duration": 11,
    "start_time": "2022-07-14T19:28:51.845Z"
   },
   {
    "duration": 71,
    "start_time": "2022-07-14T19:28:51.858Z"
   },
   {
    "duration": 48,
    "start_time": "2022-07-14T19:28:51.931Z"
   },
   {
    "duration": 2705,
    "start_time": "2022-07-14T19:28:51.981Z"
   },
   {
    "duration": 1669,
    "start_time": "2022-07-14T19:28:54.688Z"
   },
   {
    "duration": 594,
    "start_time": "2022-07-14T19:28:56.359Z"
   },
   {
    "duration": 119215,
    "start_time": "2022-07-14T19:28:56.955Z"
   },
   {
    "duration": 1037,
    "start_time": "2022-07-14T19:30:56.172Z"
   },
   {
    "duration": 7,
    "start_time": "2022-07-14T19:30:57.211Z"
   },
   {
    "duration": 13,
    "start_time": "2022-07-14T19:30:57.304Z"
   },
   {
    "duration": 18,
    "start_time": "2022-07-14T19:33:41.782Z"
   },
   {
    "duration": 51,
    "start_time": "2022-07-15T13:31:54.489Z"
   },
   {
    "duration": 1450,
    "start_time": "2022-07-15T13:32:02.083Z"
   },
   {
    "duration": 85,
    "start_time": "2022-07-15T13:32:03.536Z"
   },
   {
    "duration": 11,
    "start_time": "2022-07-15T13:32:03.623Z"
   },
   {
    "duration": 11,
    "start_time": "2022-07-15T13:32:03.636Z"
   },
   {
    "duration": 15,
    "start_time": "2022-07-15T13:32:03.649Z"
   },
   {
    "duration": 13,
    "start_time": "2022-07-15T13:32:03.665Z"
   },
   {
    "duration": 69,
    "start_time": "2022-07-15T13:32:03.679Z"
   },
   {
    "duration": 10,
    "start_time": "2022-07-15T13:32:03.750Z"
   },
   {
    "duration": 44,
    "start_time": "2022-07-15T13:32:03.762Z"
   },
   {
    "duration": 44,
    "start_time": "2022-07-15T13:32:03.824Z"
   },
   {
    "duration": 2348,
    "start_time": "2022-07-15T13:32:03.870Z"
   },
   {
    "duration": 1561,
    "start_time": "2022-07-15T13:32:06.220Z"
   },
   {
    "duration": 550,
    "start_time": "2022-07-15T13:32:07.782Z"
   },
   {
    "duration": 106437,
    "start_time": "2022-07-15T13:32:08.333Z"
   },
   {
    "duration": 852,
    "start_time": "2022-07-15T13:33:54.772Z"
   },
   {
    "duration": 5,
    "start_time": "2022-07-15T13:33:55.626Z"
   },
   {
    "duration": 21,
    "start_time": "2022-07-15T13:33:55.633Z"
   },
   {
    "duration": 16,
    "start_time": "2022-07-15T13:33:55.655Z"
   },
   {
    "duration": 1004,
    "start_time": "2022-07-15T13:33:55.723Z"
   },
   {
    "duration": 479,
    "start_time": "2022-07-15T13:36:25.009Z"
   },
   {
    "duration": 53,
    "start_time": "2022-07-18T08:43:38.480Z"
   },
   {
    "duration": 1657,
    "start_time": "2022-07-18T08:43:43.370Z"
   },
   {
    "duration": 143,
    "start_time": "2022-07-18T08:43:45.029Z"
   },
   {
    "duration": 13,
    "start_time": "2022-07-18T08:43:45.173Z"
   },
   {
    "duration": 17,
    "start_time": "2022-07-18T08:43:45.188Z"
   },
   {
    "duration": 18,
    "start_time": "2022-07-18T08:43:45.207Z"
   },
   {
    "duration": 15,
    "start_time": "2022-07-18T08:43:45.226Z"
   },
   {
    "duration": 75,
    "start_time": "2022-07-18T08:43:45.243Z"
   },
   {
    "duration": 16,
    "start_time": "2022-07-18T08:43:45.320Z"
   },
   {
    "duration": 71,
    "start_time": "2022-07-18T08:43:45.338Z"
   },
   {
    "duration": 52,
    "start_time": "2022-07-18T08:43:45.412Z"
   },
   {
    "duration": 2719,
    "start_time": "2022-07-18T08:43:45.466Z"
   },
   {
    "duration": 1699,
    "start_time": "2022-07-18T08:43:48.187Z"
   },
   {
    "duration": 618,
    "start_time": "2022-07-18T08:43:49.888Z"
   },
   {
    "duration": 118047,
    "start_time": "2022-07-18T08:43:50.508Z"
   },
   {
    "duration": 1049,
    "start_time": "2022-07-18T08:45:48.556Z"
   },
   {
    "duration": 8,
    "start_time": "2022-07-18T08:45:49.607Z"
   },
   {
    "duration": 100,
    "start_time": "2022-07-18T08:45:49.617Z"
   },
   {
    "duration": 2436,
    "start_time": "2022-07-18T08:45:49.719Z"
   },
   {
    "duration": 172324,
    "start_time": "2022-07-18T08:51:12.862Z"
   },
   {
    "duration": 2407,
    "start_time": "2022-07-18T08:54:05.188Z"
   },
   {
    "duration": 1421,
    "start_time": "2022-07-18T09:02:09.168Z"
   },
   {
    "duration": 694,
    "start_time": "2022-07-18T09:02:17.374Z"
   },
   {
    "duration": 1411,
    "start_time": "2022-07-18T09:11:48.537Z"
   },
   {
    "duration": 46,
    "start_time": "2022-07-18T09:11:49.950Z"
   },
   {
    "duration": 14,
    "start_time": "2022-07-18T09:11:49.998Z"
   },
   {
    "duration": 17,
    "start_time": "2022-07-18T09:11:50.013Z"
   },
   {
    "duration": 17,
    "start_time": "2022-07-18T09:11:50.033Z"
   },
   {
    "duration": 14,
    "start_time": "2022-07-18T09:11:50.052Z"
   },
   {
    "duration": 84,
    "start_time": "2022-07-18T09:11:50.067Z"
   },
   {
    "duration": 70,
    "start_time": "2022-07-18T09:11:50.153Z"
   },
   {
    "duration": 53,
    "start_time": "2022-07-18T09:11:50.225Z"
   },
   {
    "duration": 2762,
    "start_time": "2022-07-18T09:11:50.280Z"
   },
   {
    "duration": 1730,
    "start_time": "2022-07-18T09:11:53.044Z"
   },
   {
    "duration": 667,
    "start_time": "2022-07-18T09:11:54.776Z"
   },
   {
    "duration": 120242,
    "start_time": "2022-07-18T09:11:55.445Z"
   },
   {
    "duration": 1018,
    "start_time": "2022-07-18T09:13:55.689Z"
   },
   {
    "duration": 8,
    "start_time": "2022-07-18T09:13:56.710Z"
   },
   {
    "duration": 41,
    "start_time": "2022-07-18T09:13:56.719Z"
   },
   {
    "duration": 1120,
    "start_time": "2022-07-18T09:13:56.762Z"
   },
   {
    "duration": 978,
    "start_time": "2022-07-18T09:13:57.884Z"
   },
   {
    "duration": 23,
    "start_time": "2022-07-18T09:15:59.208Z"
   },
   {
    "duration": 96,
    "start_time": "2022-07-18T09:29:25.538Z"
   },
   {
    "duration": 82,
    "start_time": "2022-07-18T09:29:48.024Z"
   },
   {
    "duration": 106862,
    "start_time": "2022-07-18T09:30:28.824Z"
   },
   {
    "duration": 1474,
    "start_time": "2022-07-18T09:56:27.225Z"
   },
   {
    "duration": 2751,
    "start_time": "2022-07-18T09:56:40.033Z"
   },
   {
    "duration": 1584,
    "start_time": "2022-07-18T09:56:56.123Z"
   },
   {
    "duration": 52,
    "start_time": "2022-07-18T09:56:57.709Z"
   },
   {
    "duration": 13,
    "start_time": "2022-07-18T09:56:57.763Z"
   },
   {
    "duration": 15,
    "start_time": "2022-07-18T09:56:57.778Z"
   },
   {
    "duration": 26,
    "start_time": "2022-07-18T09:56:57.795Z"
   },
   {
    "duration": 14,
    "start_time": "2022-07-18T09:56:57.823Z"
   },
   {
    "duration": 78,
    "start_time": "2022-07-18T09:56:57.839Z"
   },
   {
    "duration": 62,
    "start_time": "2022-07-18T09:56:57.919Z"
   },
   {
    "duration": 59,
    "start_time": "2022-07-18T09:56:57.982Z"
   },
   {
    "duration": 2908,
    "start_time": "2022-07-18T09:56:58.044Z"
   },
   {
    "duration": 1833,
    "start_time": "2022-07-18T09:57:00.955Z"
   },
   {
    "duration": 630,
    "start_time": "2022-07-18T09:57:02.790Z"
   },
   {
    "duration": 122038,
    "start_time": "2022-07-18T09:57:03.423Z"
   },
   {
    "duration": 742,
    "start_time": "2022-07-18T09:59:05.462Z"
   },
   {
    "duration": 6,
    "start_time": "2022-07-18T09:59:06.206Z"
   },
   {
    "duration": 123,
    "start_time": "2022-07-18T09:59:06.213Z"
   },
   {
    "duration": 103702,
    "start_time": "2022-07-18T09:59:06.337Z"
   },
   {
    "duration": 1057,
    "start_time": "2022-07-18T10:00:50.041Z"
   },
   {
    "duration": 0,
    "start_time": "2022-07-18T10:00:51.100Z"
   },
   {
    "duration": 1606,
    "start_time": "2022-07-18T10:01:03.488Z"
   },
   {
    "duration": 54,
    "start_time": "2022-07-18T10:01:05.096Z"
   },
   {
    "duration": 12,
    "start_time": "2022-07-18T10:01:05.151Z"
   },
   {
    "duration": 13,
    "start_time": "2022-07-18T10:01:05.165Z"
   },
   {
    "duration": 15,
    "start_time": "2022-07-18T10:01:05.180Z"
   },
   {
    "duration": 23,
    "start_time": "2022-07-18T10:01:05.197Z"
   },
   {
    "duration": 49,
    "start_time": "2022-07-18T10:01:05.222Z"
   },
   {
    "duration": 67,
    "start_time": "2022-07-18T10:01:05.272Z"
   },
   {
    "duration": 78,
    "start_time": "2022-07-18T10:01:05.341Z"
   },
   {
    "duration": 2817,
    "start_time": "2022-07-18T10:01:05.422Z"
   },
   {
    "duration": 1760,
    "start_time": "2022-07-18T10:01:08.241Z"
   },
   {
    "duration": 20,
    "start_time": "2022-07-18T10:01:10.012Z"
   },
   {
    "duration": 782,
    "start_time": "2022-07-18T10:01:10.034Z"
   },
   {
    "duration": 125855,
    "start_time": "2022-07-18T10:01:10.819Z"
   },
   {
    "duration": 958,
    "start_time": "2022-07-18T10:03:16.677Z"
   },
   {
    "duration": 8,
    "start_time": "2022-07-18T10:03:17.704Z"
   },
   {
    "duration": 109,
    "start_time": "2022-07-18T10:03:17.716Z"
   },
   {
    "duration": 110350,
    "start_time": "2022-07-18T10:03:17.827Z"
   },
   {
    "duration": 988,
    "start_time": "2022-07-18T10:05:08.179Z"
   },
   {
    "duration": 20,
    "start_time": "2022-07-18T10:06:27.235Z"
   },
   {
    "duration": 1522,
    "start_time": "2022-07-18T10:21:36.140Z"
   },
   {
    "duration": 49,
    "start_time": "2022-07-18T10:21:37.664Z"
   },
   {
    "duration": 12,
    "start_time": "2022-07-18T10:21:37.716Z"
   },
   {
    "duration": 15,
    "start_time": "2022-07-18T10:21:37.730Z"
   },
   {
    "duration": 24,
    "start_time": "2022-07-18T10:21:37.748Z"
   },
   {
    "duration": 46,
    "start_time": "2022-07-18T10:21:37.775Z"
   },
   {
    "duration": 49,
    "start_time": "2022-07-18T10:21:37.822Z"
   },
   {
    "duration": 63,
    "start_time": "2022-07-18T10:21:37.873Z"
   },
   {
    "duration": 48,
    "start_time": "2022-07-18T10:21:37.938Z"
   },
   {
    "duration": 2891,
    "start_time": "2022-07-18T10:21:38.003Z"
   },
   {
    "duration": 1674,
    "start_time": "2022-07-18T10:21:40.896Z"
   },
   {
    "duration": 555,
    "start_time": "2022-07-18T10:21:42.572Z"
   },
   {
    "duration": 1536,
    "start_time": "2022-07-18T10:22:35.285Z"
   },
   {
    "duration": 48,
    "start_time": "2022-07-18T10:22:36.825Z"
   },
   {
    "duration": 13,
    "start_time": "2022-07-18T10:22:36.874Z"
   },
   {
    "duration": 13,
    "start_time": "2022-07-18T10:22:36.889Z"
   },
   {
    "duration": 26,
    "start_time": "2022-07-18T10:22:36.910Z"
   },
   {
    "duration": 13,
    "start_time": "2022-07-18T10:22:36.937Z"
   },
   {
    "duration": 57,
    "start_time": "2022-07-18T10:22:36.952Z"
   },
   {
    "duration": 63,
    "start_time": "2022-07-18T10:22:37.013Z"
   },
   {
    "duration": 63,
    "start_time": "2022-07-18T10:22:37.077Z"
   },
   {
    "duration": 2680,
    "start_time": "2022-07-18T10:22:37.143Z"
   },
   {
    "duration": 1625,
    "start_time": "2022-07-18T10:22:39.824Z"
   },
   {
    "duration": 519,
    "start_time": "2022-07-18T10:22:41.451Z"
   },
   {
    "duration": 124336,
    "start_time": "2022-07-18T10:22:41.972Z"
   },
   {
    "duration": 1390,
    "start_time": "2022-07-18T10:24:46.315Z"
   },
   {
    "duration": 10,
    "start_time": "2022-07-18T10:24:47.708Z"
   },
   {
    "duration": 25,
    "start_time": "2022-07-18T10:24:47.721Z"
   },
   {
    "duration": 1852,
    "start_time": "2022-07-18T13:28:32.643Z"
   },
   {
    "duration": 136,
    "start_time": "2022-07-18T13:28:34.497Z"
   },
   {
    "duration": 12,
    "start_time": "2022-07-18T13:28:34.634Z"
   },
   {
    "duration": 26,
    "start_time": "2022-07-18T13:28:34.648Z"
   },
   {
    "duration": 32,
    "start_time": "2022-07-18T13:28:34.676Z"
   },
   {
    "duration": 19,
    "start_time": "2022-07-18T13:28:34.710Z"
   },
   {
    "duration": 52,
    "start_time": "2022-07-18T13:28:34.731Z"
   },
   {
    "duration": 61,
    "start_time": "2022-07-18T13:28:34.785Z"
   },
   {
    "duration": 52,
    "start_time": "2022-07-18T13:28:34.848Z"
   },
   {
    "duration": 2814,
    "start_time": "2022-07-18T13:28:34.903Z"
   },
   {
    "duration": 1800,
    "start_time": "2022-07-18T13:28:37.719Z"
   },
   {
    "duration": 578,
    "start_time": "2022-07-18T13:28:39.521Z"
   },
   {
    "duration": 123608,
    "start_time": "2022-07-18T13:28:40.101Z"
   },
   {
    "duration": 1229,
    "start_time": "2022-07-18T13:30:43.711Z"
   },
   {
    "duration": 6,
    "start_time": "2022-07-18T13:30:44.942Z"
   },
   {
    "duration": 25,
    "start_time": "2022-07-18T13:30:44.949Z"
   },
   {
    "duration": 153,
    "start_time": "2022-07-18T13:38:13.998Z"
   },
   {
    "duration": 93,
    "start_time": "2022-07-18T13:38:26.022Z"
   },
   {
    "duration": 2478,
    "start_time": "2022-07-18T13:45:35.839Z"
   },
   {
    "duration": 100,
    "start_time": "2022-07-18T13:45:38.320Z"
   },
   {
    "duration": 23,
    "start_time": "2022-07-18T13:45:38.423Z"
   },
   {
    "duration": 98,
    "start_time": "2022-07-18T13:45:38.450Z"
   },
   {
    "duration": 47,
    "start_time": "2022-07-18T13:45:38.550Z"
   },
   {
    "duration": 39,
    "start_time": "2022-07-18T13:45:38.599Z"
   },
   {
    "duration": 158,
    "start_time": "2022-07-18T13:45:38.640Z"
   },
   {
    "duration": 83,
    "start_time": "2022-07-18T13:45:38.804Z"
   },
   {
    "duration": 103,
    "start_time": "2022-07-18T13:45:38.894Z"
   },
   {
    "duration": 4018,
    "start_time": "2022-07-18T13:45:39.004Z"
   },
   {
    "duration": 2409,
    "start_time": "2022-07-18T13:45:43.027Z"
   },
   {
    "duration": 796,
    "start_time": "2022-07-18T13:45:45.439Z"
   },
   {
    "duration": 148965,
    "start_time": "2022-07-18T13:45:46.237Z"
   },
   {
    "duration": 740,
    "start_time": "2022-07-18T13:48:15.204Z"
   },
   {
    "duration": 8,
    "start_time": "2022-07-18T13:48:15.946Z"
   },
   {
    "duration": 43,
    "start_time": "2022-07-18T13:48:15.956Z"
   },
   {
    "duration": 48,
    "start_time": "2022-07-18T21:09:28.994Z"
   },
   {
    "duration": 11,
    "start_time": "2022-07-18T21:09:29.984Z"
   },
   {
    "duration": 72,
    "start_time": "2022-07-19T09:12:34.498Z"
   },
   {
    "duration": 1861,
    "start_time": "2022-07-19T09:13:01.300Z"
   },
   {
    "duration": 150,
    "start_time": "2022-07-19T09:13:03.163Z"
   },
   {
    "duration": 15,
    "start_time": "2022-07-19T09:13:03.321Z"
   },
   {
    "duration": 17,
    "start_time": "2022-07-19T09:13:03.339Z"
   },
   {
    "duration": 24,
    "start_time": "2022-07-19T09:13:03.358Z"
   },
   {
    "duration": 15,
    "start_time": "2022-07-19T09:13:03.384Z"
   },
   {
    "duration": 77,
    "start_time": "2022-07-19T09:13:03.400Z"
   },
   {
    "duration": 58,
    "start_time": "2022-07-19T09:13:03.479Z"
   },
   {
    "duration": 53,
    "start_time": "2022-07-19T09:13:03.539Z"
   },
   {
    "duration": 2953,
    "start_time": "2022-07-19T09:13:03.594Z"
   },
   {
    "duration": 1776,
    "start_time": "2022-07-19T09:13:06.549Z"
   },
   {
    "duration": 13,
    "start_time": "2022-07-19T09:13:08.327Z"
   },
   {
    "duration": 652,
    "start_time": "2022-07-19T09:13:08.341Z"
   },
   {
    "duration": 132495,
    "start_time": "2022-07-19T09:13:08.995Z"
   },
   {
    "duration": 1255,
    "start_time": "2022-07-19T09:15:21.491Z"
   },
   {
    "duration": 27,
    "start_time": "2022-07-19T09:15:22.810Z"
   },
   {
    "duration": 25,
    "start_time": "2022-07-19T09:15:22.840Z"
   },
   {
    "duration": 17,
    "start_time": "2022-07-19T09:16:28.457Z"
   },
   {
    "duration": 1613,
    "start_time": "2022-07-19T09:16:39.319Z"
   },
   {
    "duration": 49,
    "start_time": "2022-07-19T09:16:40.935Z"
   },
   {
    "duration": 16,
    "start_time": "2022-07-19T09:16:40.986Z"
   },
   {
    "duration": 31,
    "start_time": "2022-07-19T09:16:41.005Z"
   },
   {
    "duration": 25,
    "start_time": "2022-07-19T09:16:41.038Z"
   },
   {
    "duration": 38,
    "start_time": "2022-07-19T09:16:41.066Z"
   },
   {
    "duration": 89,
    "start_time": "2022-07-19T09:16:41.107Z"
   },
   {
    "duration": 59,
    "start_time": "2022-07-19T09:16:41.199Z"
   },
   {
    "duration": 74,
    "start_time": "2022-07-19T09:16:41.260Z"
   },
   {
    "duration": 3162,
    "start_time": "2022-07-19T09:16:41.337Z"
   },
   {
    "duration": 1827,
    "start_time": "2022-07-19T09:16:44.501Z"
   },
   {
    "duration": 13,
    "start_time": "2022-07-19T09:16:46.330Z"
   },
   {
    "duration": 686,
    "start_time": "2022-07-19T09:16:46.345Z"
   },
   {
    "duration": 1697,
    "start_time": "2022-07-19T09:18:13.589Z"
   },
   {
    "duration": 65,
    "start_time": "2022-07-19T09:18:15.289Z"
   },
   {
    "duration": 15,
    "start_time": "2022-07-19T09:18:15.357Z"
   },
   {
    "duration": 18,
    "start_time": "2022-07-19T09:18:15.375Z"
   },
   {
    "duration": 39,
    "start_time": "2022-07-19T09:18:15.395Z"
   },
   {
    "duration": 28,
    "start_time": "2022-07-19T09:18:15.436Z"
   },
   {
    "duration": 73,
    "start_time": "2022-07-19T09:18:15.466Z"
   },
   {
    "duration": 58,
    "start_time": "2022-07-19T09:18:15.541Z"
   },
   {
    "duration": 63,
    "start_time": "2022-07-19T09:18:15.601Z"
   },
   {
    "duration": 3089,
    "start_time": "2022-07-19T09:18:15.667Z"
   },
   {
    "duration": 1827,
    "start_time": "2022-07-19T09:18:18.759Z"
   },
   {
    "duration": 13,
    "start_time": "2022-07-19T09:18:20.587Z"
   },
   {
    "duration": 627,
    "start_time": "2022-07-19T09:18:20.601Z"
   },
   {
    "duration": 135439,
    "start_time": "2022-07-19T09:18:21.229Z"
   },
   {
    "duration": 1274,
    "start_time": "2022-07-19T09:20:36.670Z"
   },
   {
    "duration": 70,
    "start_time": "2022-07-19T09:20:37.948Z"
   },
   {
    "duration": 60,
    "start_time": "2022-07-19T09:20:38.020Z"
   },
   {
    "duration": 800,
    "start_time": "2022-07-19T09:20:38.084Z"
   },
   {
    "duration": 13,
    "start_time": "2022-07-19T09:20:38.886Z"
   },
   {
    "duration": 17,
    "start_time": "2022-07-19T09:21:48.499Z"
   },
   {
    "duration": 19,
    "start_time": "2022-07-19T09:21:53.445Z"
   },
   {
    "duration": 33,
    "start_time": "2022-07-19T09:22:34.534Z"
   },
   {
    "duration": 32,
    "start_time": "2022-07-19T09:25:02.101Z"
   },
   {
    "duration": 1527,
    "start_time": "2022-07-19T09:27:14.364Z"
   },
   {
    "duration": 1568,
    "start_time": "2022-07-19T09:27:42.458Z"
   },
   {
    "duration": 100,
    "start_time": "2022-07-19T09:35:01.307Z"
   },
   {
    "duration": 2168,
    "start_time": "2022-07-19T09:35:12.503Z"
   },
   {
    "duration": 62,
    "start_time": "2022-07-19T09:35:14.673Z"
   },
   {
    "duration": 12,
    "start_time": "2022-07-19T09:35:14.737Z"
   },
   {
    "duration": 17,
    "start_time": "2022-07-19T09:35:14.751Z"
   },
   {
    "duration": 17,
    "start_time": "2022-07-19T09:35:14.770Z"
   },
   {
    "duration": 30,
    "start_time": "2022-07-19T09:35:14.788Z"
   },
   {
    "duration": 67,
    "start_time": "2022-07-19T09:35:14.823Z"
   },
   {
    "duration": 58,
    "start_time": "2022-07-19T09:35:14.891Z"
   },
   {
    "duration": 48,
    "start_time": "2022-07-19T09:35:14.951Z"
   },
   {
    "duration": 29,
    "start_time": "2022-07-19T09:35:15.001Z"
   },
   {
    "duration": 1336,
    "start_time": "2022-07-19T09:35:15.036Z"
   },
   {
    "duration": 0,
    "start_time": "2022-07-19T09:35:16.374Z"
   },
   {
    "duration": 0,
    "start_time": "2022-07-19T09:35:16.376Z"
   },
   {
    "duration": 0,
    "start_time": "2022-07-19T09:35:16.377Z"
   },
   {
    "duration": 0,
    "start_time": "2022-07-19T09:35:16.378Z"
   },
   {
    "duration": 0,
    "start_time": "2022-07-19T09:35:16.379Z"
   },
   {
    "duration": 0,
    "start_time": "2022-07-19T09:35:16.381Z"
   },
   {
    "duration": 0,
    "start_time": "2022-07-19T09:35:16.382Z"
   },
   {
    "duration": 1756,
    "start_time": "2022-07-19T09:35:51.554Z"
   },
   {
    "duration": 1641,
    "start_time": "2022-07-19T09:38:42.965Z"
   },
   {
    "duration": 1902,
    "start_time": "2022-07-19T09:40:26.456Z"
   },
   {
    "duration": 28,
    "start_time": "2022-07-19T09:40:35.556Z"
   },
   {
    "duration": 632,
    "start_time": "2022-07-19T09:40:35.777Z"
   },
   {
    "duration": 149035,
    "start_time": "2022-07-19T09:40:37.060Z"
   },
   {
    "duration": 1118,
    "start_time": "2022-07-19T09:43:06.097Z"
   },
   {
    "duration": 13,
    "start_time": "2022-07-19T09:43:07.221Z"
   },
   {
    "duration": 127,
    "start_time": "2022-07-19T09:43:07.242Z"
   },
   {
    "duration": 150,
    "start_time": "2022-07-19T09:43:07.371Z"
   },
   {
    "duration": 15,
    "start_time": "2022-07-19T09:45:24.291Z"
   },
   {
    "duration": 47,
    "start_time": "2022-07-19T09:46:08.607Z"
   },
   {
    "duration": 152,
    "start_time": "2022-07-19T09:47:53.972Z"
   },
   {
    "duration": 159,
    "start_time": "2022-07-19T09:48:42.996Z"
   },
   {
    "duration": 1170,
    "start_time": "2022-07-19T09:48:54.295Z"
   },
   {
    "duration": 1410,
    "start_time": "2022-07-19T09:52:49.455Z"
   },
   {
    "duration": 1051,
    "start_time": "2022-07-19T09:53:29.249Z"
   },
   {
    "duration": 19,
    "start_time": "2022-07-19T09:56:30.143Z"
   },
   {
    "duration": 4245,
    "start_time": "2022-07-19T09:57:13.389Z"
   },
   {
    "duration": 1573,
    "start_time": "2022-07-19T09:57:37.517Z"
   },
   {
    "duration": 1138,
    "start_time": "2022-07-19T09:58:30.421Z"
   },
   {
    "duration": 1028,
    "start_time": "2022-07-19T10:00:14.042Z"
   },
   {
    "duration": 1107,
    "start_time": "2022-07-19T10:03:40.699Z"
   },
   {
    "duration": 1610,
    "start_time": "2022-07-19T10:05:04.522Z"
   },
   {
    "duration": 1768,
    "start_time": "2022-07-19T10:05:08.902Z"
   },
   {
    "duration": 4182,
    "start_time": "2022-07-19T10:05:55.552Z"
   },
   {
    "duration": 4189,
    "start_time": "2022-07-19T10:06:00.636Z"
   },
   {
    "duration": 104,
    "start_time": "2022-07-19T10:08:40.491Z"
   },
   {
    "duration": 190,
    "start_time": "2022-07-19T10:08:48.549Z"
   },
   {
    "duration": 18,
    "start_time": "2022-07-19T10:08:59.947Z"
   },
   {
    "duration": 1685,
    "start_time": "2022-07-19T10:10:05.160Z"
   },
   {
    "duration": 1560,
    "start_time": "2022-07-19T10:11:43.356Z"
   },
   {
    "duration": 1710,
    "start_time": "2022-07-19T10:12:41.051Z"
   },
   {
    "duration": 1717,
    "start_time": "2022-07-19T10:13:08.409Z"
   },
   {
    "duration": 1734,
    "start_time": "2022-07-19T10:13:47.956Z"
   },
   {
    "duration": 1776,
    "start_time": "2022-07-19T10:14:48.670Z"
   },
   {
    "duration": 1173,
    "start_time": "2022-07-19T10:14:55.148Z"
   },
   {
    "duration": 1160,
    "start_time": "2022-07-19T10:15:49.779Z"
   },
   {
    "duration": 1564,
    "start_time": "2022-07-19T10:15:55.709Z"
   },
   {
    "duration": 1791,
    "start_time": "2022-07-19T10:16:10.650Z"
   },
   {
    "duration": 1575,
    "start_time": "2022-07-19T10:16:44.046Z"
   },
   {
    "duration": 1657,
    "start_time": "2022-07-19T10:16:52.806Z"
   },
   {
    "duration": 1071,
    "start_time": "2022-07-19T10:17:07.990Z"
   },
   {
    "duration": 1798,
    "start_time": "2022-07-19T10:17:18.169Z"
   },
   {
    "duration": 1800,
    "start_time": "2022-07-19T10:17:38.850Z"
   },
   {
    "duration": 98,
    "start_time": "2022-07-19T10:18:37.961Z"
   },
   {
    "duration": 1044,
    "start_time": "2022-07-19T10:21:10.544Z"
   },
   {
    "duration": 1740,
    "start_time": "2022-07-19T10:21:14.546Z"
   },
   {
    "duration": 1559,
    "start_time": "2022-07-19T10:21:28.639Z"
   },
   {
    "duration": 1148,
    "start_time": "2022-07-19T10:21:39.557Z"
   },
   {
    "duration": 1668,
    "start_time": "2022-07-19T10:21:51.187Z"
   },
   {
    "duration": 1661,
    "start_time": "2022-07-19T10:21:58.792Z"
   },
   {
    "duration": 1743,
    "start_time": "2022-07-19T10:22:14.864Z"
   },
   {
    "duration": 25,
    "start_time": "2022-07-19T10:23:54.512Z"
   },
   {
    "duration": 17,
    "start_time": "2022-07-19T10:24:05.645Z"
   },
   {
    "duration": 1803,
    "start_time": "2022-07-19T10:24:13.358Z"
   },
   {
    "duration": 1167,
    "start_time": "2022-07-19T10:25:00.770Z"
   },
   {
    "duration": 1259,
    "start_time": "2022-07-19T10:25:06.477Z"
   },
   {
    "duration": 1924,
    "start_time": "2022-07-19T10:26:01.762Z"
   },
   {
    "duration": 1198,
    "start_time": "2022-07-19T10:29:07.754Z"
   },
   {
    "duration": 126,
    "start_time": "2022-07-19T10:34:50.371Z"
   },
   {
    "duration": 2060,
    "start_time": "2022-07-19T11:27:06.342Z"
   },
   {
    "duration": 1264,
    "start_time": "2022-07-19T11:28:56.337Z"
   },
   {
    "duration": 1495,
    "start_time": "2022-07-19T11:29:08.474Z"
   },
   {
    "duration": 1245,
    "start_time": "2022-07-19T11:29:12.557Z"
   },
   {
    "duration": 1874,
    "start_time": "2022-07-19T11:46:40.167Z"
   },
   {
    "duration": 31,
    "start_time": "2022-07-19T11:47:25.099Z"
   },
   {
    "duration": 1407,
    "start_time": "2022-07-19T11:48:45.102Z"
   },
   {
    "duration": 1962,
    "start_time": "2022-07-19T11:49:20.335Z"
   },
   {
    "duration": 1881,
    "start_time": "2022-07-19T11:50:08.357Z"
   },
   {
    "duration": 1499,
    "start_time": "2022-07-19T11:54:35.179Z"
   },
   {
    "duration": 1548,
    "start_time": "2022-07-19T11:55:38.239Z"
   },
   {
    "duration": 2073,
    "start_time": "2022-07-19T12:01:02.373Z"
   },
   {
    "duration": 1995,
    "start_time": "2022-07-19T12:01:21.305Z"
   },
   {
    "duration": 2002,
    "start_time": "2022-07-19T15:05:04.093Z"
   },
   {
    "duration": 1507,
    "start_time": "2022-07-19T17:13:16.947Z"
   },
   {
    "duration": 48,
    "start_time": "2022-07-19T17:13:18.456Z"
   },
   {
    "duration": 13,
    "start_time": "2022-07-19T17:13:18.505Z"
   },
   {
    "duration": 15,
    "start_time": "2022-07-19T17:13:18.521Z"
   },
   {
    "duration": 18,
    "start_time": "2022-07-19T17:13:18.537Z"
   },
   {
    "duration": 23,
    "start_time": "2022-07-19T17:13:18.556Z"
   },
   {
    "duration": 73,
    "start_time": "2022-07-19T17:13:18.580Z"
   },
   {
    "duration": 60,
    "start_time": "2022-07-19T17:13:18.655Z"
   },
   {
    "duration": 48,
    "start_time": "2022-07-19T17:13:18.717Z"
   },
   {
    "duration": 1478,
    "start_time": "2022-07-19T17:13:18.767Z"
   },
   {
    "duration": 957,
    "start_time": "2022-07-19T17:13:20.247Z"
   },
   {
    "duration": 1748,
    "start_time": "2022-07-19T17:13:21.206Z"
   },
   {
    "duration": 13,
    "start_time": "2022-07-19T17:13:22.956Z"
   },
   {
    "duration": 560,
    "start_time": "2022-07-19T17:13:22.971Z"
   },
   {
    "duration": 120736,
    "start_time": "2022-07-19T17:13:23.533Z"
   },
   {
    "duration": 1545,
    "start_time": "2022-07-19T17:15:24.271Z"
   },
   {
    "duration": 6,
    "start_time": "2022-07-19T17:15:25.817Z"
   },
   {
    "duration": 31,
    "start_time": "2022-07-19T17:15:25.825Z"
   },
   {
    "duration": 1904,
    "start_time": "2022-07-19T17:15:25.858Z"
   },
   {
    "duration": 1529,
    "start_time": "2022-07-19T17:15:27.764Z"
   },
   {
    "duration": 1758,
    "start_time": "2022-07-19T19:23:56.313Z"
   },
   {
    "duration": 42,
    "start_time": "2022-07-19T19:23:58.073Z"
   },
   {
    "duration": 18,
    "start_time": "2022-07-19T19:23:58.116Z"
   },
   {
    "duration": 28,
    "start_time": "2022-07-19T19:23:58.139Z"
   },
   {
    "duration": 16,
    "start_time": "2022-07-19T19:23:58.169Z"
   },
   {
    "duration": 19,
    "start_time": "2022-07-19T19:23:58.186Z"
   },
   {
    "duration": 49,
    "start_time": "2022-07-19T19:23:58.207Z"
   },
   {
    "duration": 45,
    "start_time": "2022-07-19T19:23:58.258Z"
   },
   {
    "duration": 58,
    "start_time": "2022-07-19T19:23:58.305Z"
   },
   {
    "duration": 1494,
    "start_time": "2022-07-19T19:23:58.365Z"
   },
   {
    "duration": 996,
    "start_time": "2022-07-19T19:23:59.861Z"
   },
   {
    "duration": 322,
    "start_time": "2022-07-19T19:24:00.859Z"
   },
   {
    "duration": 1717,
    "start_time": "2022-07-19T19:24:01.183Z"
   },
   {
    "duration": 42,
    "start_time": "2022-07-19T19:24:02.903Z"
   },
   {
    "duration": 615,
    "start_time": "2022-07-19T19:24:02.951Z"
   },
   {
    "duration": 124760,
    "start_time": "2022-07-19T19:24:03.567Z"
   },
   {
    "duration": 999,
    "start_time": "2022-07-19T19:26:08.333Z"
   },
   {
    "duration": 7,
    "start_time": "2022-07-19T19:26:09.334Z"
   },
   {
    "duration": 125,
    "start_time": "2022-07-19T19:26:09.343Z"
   },
   {
    "duration": 1907,
    "start_time": "2022-07-19T19:26:09.469Z"
   },
   {
    "duration": 1230,
    "start_time": "2022-07-19T19:26:11.378Z"
   },
   {
    "duration": 44,
    "start_time": "2022-07-20T04:33:37.289Z"
   },
   {
    "duration": 1866,
    "start_time": "2022-07-20T04:33:43.410Z"
   },
   {
    "duration": 76,
    "start_time": "2022-07-20T04:33:45.278Z"
   },
   {
    "duration": 10,
    "start_time": "2022-07-20T04:33:45.356Z"
   },
   {
    "duration": 14,
    "start_time": "2022-07-20T04:33:45.367Z"
   },
   {
    "duration": 19,
    "start_time": "2022-07-20T04:33:45.383Z"
   },
   {
    "duration": 18,
    "start_time": "2022-07-20T04:33:45.404Z"
   },
   {
    "duration": 53,
    "start_time": "2022-07-20T04:33:45.423Z"
   },
   {
    "duration": 51,
    "start_time": "2022-07-20T04:33:45.477Z"
   },
   {
    "duration": 57,
    "start_time": "2022-07-20T04:33:45.529Z"
   },
   {
    "duration": 1310,
    "start_time": "2022-07-20T04:33:45.588Z"
   },
   {
    "duration": 821,
    "start_time": "2022-07-20T04:33:46.899Z"
   },
   {
    "duration": 270,
    "start_time": "2022-07-20T04:33:47.722Z"
   },
   {
    "duration": 472,
    "start_time": "2022-07-20T04:33:47.994Z"
   },
   {
    "duration": 0,
    "start_time": "2022-07-20T04:33:48.467Z"
   },
   {
    "duration": 0,
    "start_time": "2022-07-20T04:33:48.468Z"
   },
   {
    "duration": 0,
    "start_time": "2022-07-20T04:33:48.469Z"
   },
   {
    "duration": 0,
    "start_time": "2022-07-20T04:33:48.470Z"
   },
   {
    "duration": 0,
    "start_time": "2022-07-20T04:33:48.472Z"
   },
   {
    "duration": 0,
    "start_time": "2022-07-20T04:33:48.473Z"
   },
   {
    "duration": 0,
    "start_time": "2022-07-20T04:33:48.474Z"
   },
   {
    "duration": 0,
    "start_time": "2022-07-20T04:33:48.475Z"
   },
   {
    "duration": 0,
    "start_time": "2022-07-20T04:33:48.477Z"
   },
   {
    "duration": 295,
    "start_time": "2022-07-20T04:33:59.008Z"
   },
   {
    "duration": 377,
    "start_time": "2022-07-20T04:34:17.512Z"
   },
   {
    "duration": 269,
    "start_time": "2022-07-20T04:34:33.032Z"
   },
   {
    "duration": 340,
    "start_time": "2022-07-20T04:35:07.249Z"
   },
   {
    "duration": 2561,
    "start_time": "2022-07-20T04:35:59.551Z"
   },
   {
    "duration": 1567,
    "start_time": "2022-07-20T04:40:46.211Z"
   },
   {
    "duration": 44,
    "start_time": "2022-07-20T04:40:47.780Z"
   },
   {
    "duration": 10,
    "start_time": "2022-07-20T04:40:47.828Z"
   },
   {
    "duration": 18,
    "start_time": "2022-07-20T04:40:47.839Z"
   },
   {
    "duration": 16,
    "start_time": "2022-07-20T04:40:47.859Z"
   },
   {
    "duration": 19,
    "start_time": "2022-07-20T04:40:47.876Z"
   },
   {
    "duration": 50,
    "start_time": "2022-07-20T04:40:47.896Z"
   },
   {
    "duration": 44,
    "start_time": "2022-07-20T04:40:47.948Z"
   },
   {
    "duration": 58,
    "start_time": "2022-07-20T04:40:47.995Z"
   },
   {
    "duration": 1364,
    "start_time": "2022-07-20T04:40:48.054Z"
   },
   {
    "duration": 872,
    "start_time": "2022-07-20T04:40:49.420Z"
   },
   {
    "duration": 285,
    "start_time": "2022-07-20T04:40:50.293Z"
   },
   {
    "duration": 415,
    "start_time": "2022-07-20T04:40:50.579Z"
   },
   {
    "duration": 2321,
    "start_time": "2022-07-20T04:40:50.995Z"
   },
   {
    "duration": 1482,
    "start_time": "2022-07-20T04:40:53.318Z"
   },
   {
    "duration": 13,
    "start_time": "2022-07-20T04:40:54.801Z"
   },
   {
    "duration": 544,
    "start_time": "2022-07-20T04:40:54.815Z"
   },
   {
    "duration": 103393,
    "start_time": "2022-07-20T04:40:55.360Z"
   },
   {
    "duration": 1291,
    "start_time": "2022-07-20T04:42:38.755Z"
   },
   {
    "duration": 8,
    "start_time": "2022-07-20T04:42:40.048Z"
   },
   {
    "duration": 23,
    "start_time": "2022-07-20T04:42:40.059Z"
   },
   {
    "duration": 1592,
    "start_time": "2022-07-20T04:42:40.084Z"
   },
   {
    "duration": 1044,
    "start_time": "2022-07-20T04:42:41.677Z"
   }
  ],
  "kernelspec": {
   "display_name": "Python 3 (ipykernel)",
   "language": "python",
   "name": "python3"
  },
  "language_info": {
   "codemirror_mode": {
    "name": "ipython",
    "version": 3
   },
   "file_extension": ".py",
   "mimetype": "text/x-python",
   "name": "python",
   "nbconvert_exporter": "python",
   "pygments_lexer": "ipython3",
   "version": "3.9.12"
  },
  "toc": {
   "base_numbering": 1,
   "nav_menu": {},
   "number_sections": true,
   "sideBar": true,
   "skip_h1_title": true,
   "title_cell": "Table of Contents",
   "title_sidebar": "Contents",
   "toc_cell": false,
   "toc_position": {},
   "toc_section_display": true,
   "toc_window_display": false
  }
 },
 "nbformat": 4,
 "nbformat_minor": 2
}
