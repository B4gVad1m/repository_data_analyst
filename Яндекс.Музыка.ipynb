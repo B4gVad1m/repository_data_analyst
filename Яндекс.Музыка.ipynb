{
 "cells": [
  {
   "cell_type": "markdown",
   "metadata": {},
   "source": [
    "<div style=\"border:solid green 3px; padding: 20px\">\n",
    "\n",
    "<b>Привет, Вадим! :)</b>\n",
    "\n",
    "Меня зовут Сороколетов Илья и я буду проверять твой проект. \n",
    "\n",
    "Предлагаю общаться на «**ты**», но если тебе будет комфортнее общаться на «**вы**», то сообщи об этом в комментариях)\n",
    "\n",
    "\n",
    "Для твоего удобства, я буду выделять свои комментарии следующим образом:\n",
    "\n",
    "<div class=\"alert alert-danger\">\n",
    "<b>❌ Комментарий ревьюера:</b> Самые важные замечания. Они указывают на ключевые моменты, которые влияют на конечный результат проекта. </div>\n",
    "\n",
    "<div class=\"alert alert-warning\">\n",
    "<b>⚠️ Комментарий ревьюера:</b> Советы или замечания, которые помогут сделать твою работу лучше, но необязательны к выполнению.\n",
    "\n",
    "</div>\n",
    "\n",
    "<div class=\"alert alert-success\">\n",
    "<b>✔️ Комментарий ревьюера:</b> Так я выделяю все остальные комментарии.</div>\n",
    "\n",
    "Давай работать над проектом в диалоге: если ты что-то меняешь в проекте по моим рекомендациям — пиши об этом. Выбери для своих комментариев какой-то заметный цвет, так мне будет легче отследить изменения, например вот так:\n",
    "<div class=\"alert alert-info\">\n",
    "<b>Комментарий студента:</b>\n",
    "<br>\n",
    "</div>\n",
    "\n",
    "Пожалуйста, не перемещай, не изменяй и не удаляй мои комментарии. Если ты оставляешь свои комментарии, то делай это под моими, чтобы сообщения были расположены в хронологическом порядке. Всё это поможет выполнить повторную проверку твоего проекта оперативнее. \n",
    "\n",
    "Обязательно задавай вопросы если они возникнут, а я перехожу к проверке)\n",
    "\n",
    "P.S. На всякий случай, я оставлю пустой шаблон для твоих комментариев в ячейке ниже. Кликни на него два раза, скопируй код и вставляй его в пустую ячейку там, где ты хочешь оставить комментарий. Не забудь только перед этим сменить тип ячейки на Markdown. Как это сделать можно посмотреть на этом видео\n",
    "\n",
    "    https://youtu.be/s0q2GpcYxo4?t=685\n",
    "\n",
    "Также, перед отправкой работы я рекомендую нажимать Kernel -> Restart & Run All. Это перезапустит ядро и по очереди выполнит все ячейки. Так ты сможешь проверить, что всё работает корректно. Кнопка Kernel находится в панели сверху\n",
    "\n"
   ]
  },
  {
   "cell_type": "markdown",
   "metadata": {},
   "source": [
    "<div class=\"alert alert-info\">\n",
    "<b>Комментарий студента:</b>\n",
    "<br>Место для твоего комментария\n",
    "</div>"
   ]
  },
  {
   "cell_type": "markdown",
   "metadata": {
    "id": "E0vqbgi9ay0H"
   },
   "source": [
    "# Яндекс.Музыка"
   ]
  },
  {
   "cell_type": "markdown",
   "metadata": {
    "id": "VUC88oWjTJw2"
   },
   "source": [
    "Сравнение Москвы и Петербурга окружено мифами. Например:\n",
    " * Москва — мегаполис, подчинённый жёсткому ритму рабочей недели;\n",
    " * Петербург — культурная столица, со своими вкусами.\n",
    "\n",
    "На данных Яндекс.Музыки вы сравните поведение пользователей двух столиц.\n",
    "\n",
    "**Цель исследования** — проверьте три гипотезы:\n",
    "1. Активность пользователей зависит от дня недели. Причём в Москве и Петербурге это проявляется по-разному.\n",
    "2. В понедельник утром в Москве преобладают одни жанры, а в Петербурге — другие. Так же и вечером пятницы преобладают разные жанры — в зависимости от города. \n",
    "3. Москва и Петербург предпочитают разные жанры музыки. В Москве чаще слушают поп-музыку, в Петербурге — русский рэп.\n",
    "\n",
    "**Ход исследования**\n",
    "\n",
    "Данные о поведении пользователей вы получите из файла `yandex_music_project.csv`. О качестве данных ничего не известно. Поэтому перед проверкой гипотез понадобится обзор данных. \n",
    "\n",
    "Вы проверите данные на ошибки и оцените их влияние на исследование. Затем, на этапе предобработки вы поищете возможность исправить самые критичные ошибки данных.\n",
    " \n",
    "Таким образом, исследование пройдёт в три этапа:\n",
    " 1. Обзор данных.\n",
    " 2. Предобработка данных.\n",
    " 3. Проверка гипотез.\n",
    "\n"
   ]
  },
  {
   "cell_type": "markdown",
   "metadata": {
    "id": "Ml1hmfXC_Zcs"
   },
   "source": [
    "## Обзор данных\n",
    "\n",
    "Составьте первое представление о данных Яндекс.Музыки.\n",
    "\n",
    "\n"
   ]
  },
  {
   "cell_type": "markdown",
   "metadata": {
    "id": "57eAOGIz_Zcs"
   },
   "source": [
    "Основной инструмент аналитика — `pandas`. Импортируйте эту библиотеку."
   ]
  },
  {
   "cell_type": "code",
   "execution_count": 1,
   "metadata": {
    "id": "AXN7PHPN_Zcs"
   },
   "outputs": [],
   "source": [
    "import pandas as pd # импорт библиотеки pandas"
   ]
  },
  {
   "cell_type": "markdown",
   "metadata": {},
   "source": [
    "<div class=\"alert alert-success\">\n",
    "<b>✔️ Комментарий ревьюера:</b> \n",
    "<br>Очень здорово, что ты используешь сокращение pd для Pandas, это общепринятое сокращение для этой библиотеки для удобной дальнейшей работы.\n",
    "</div>"
   ]
  },
  {
   "cell_type": "markdown",
   "metadata": {
    "id": "SG23P8tt_Zcs"
   },
   "source": [
    "Прочитайте файл `yandex_music_project.csv` из папки `/datasets` и сохраните его в переменной `df`:"
   ]
  },
  {
   "cell_type": "code",
   "execution_count": 2,
   "metadata": {
    "id": "fFVu7vqh_Zct"
   },
   "outputs": [],
   "source": [
    "df = pd.read_csv('/datasets/yandex_music_project.csv') # чтение файла с данными и сохранение в df"
   ]
  },
  {
   "cell_type": "markdown",
   "metadata": {
    "id": "rDoOMd3uTqnZ"
   },
   "source": [
    "Выведите на экран первые десять строк таблицы:"
   ]
  },
  {
   "cell_type": "code",
   "execution_count": 3,
   "metadata": {
    "id": "oWTVX3gW_Zct"
   },
   "outputs": [
    {
     "data": {
      "text/html": [
       "<div>\n",
       "<style scoped>\n",
       "    .dataframe tbody tr th:only-of-type {\n",
       "        vertical-align: middle;\n",
       "    }\n",
       "\n",
       "    .dataframe tbody tr th {\n",
       "        vertical-align: top;\n",
       "    }\n",
       "\n",
       "    .dataframe thead th {\n",
       "        text-align: right;\n",
       "    }\n",
       "</style>\n",
       "<table border=\"1\" class=\"dataframe\">\n",
       "  <thead>\n",
       "    <tr style=\"text-align: right;\">\n",
       "      <th></th>\n",
       "      <th>userID</th>\n",
       "      <th>Track</th>\n",
       "      <th>artist</th>\n",
       "      <th>genre</th>\n",
       "      <th>City</th>\n",
       "      <th>time</th>\n",
       "      <th>Day</th>\n",
       "    </tr>\n",
       "  </thead>\n",
       "  <tbody>\n",
       "    <tr>\n",
       "      <td>0</td>\n",
       "      <td>FFB692EC</td>\n",
       "      <td>Kamigata To Boots</td>\n",
       "      <td>The Mass Missile</td>\n",
       "      <td>rock</td>\n",
       "      <td>Saint-Petersburg</td>\n",
       "      <td>20:28:33</td>\n",
       "      <td>Wednesday</td>\n",
       "    </tr>\n",
       "    <tr>\n",
       "      <td>1</td>\n",
       "      <td>55204538</td>\n",
       "      <td>Delayed Because of Accident</td>\n",
       "      <td>Andreas Rönnberg</td>\n",
       "      <td>rock</td>\n",
       "      <td>Moscow</td>\n",
       "      <td>14:07:09</td>\n",
       "      <td>Friday</td>\n",
       "    </tr>\n",
       "    <tr>\n",
       "      <td>2</td>\n",
       "      <td>20EC38</td>\n",
       "      <td>Funiculì funiculà</td>\n",
       "      <td>Mario Lanza</td>\n",
       "      <td>pop</td>\n",
       "      <td>Saint-Petersburg</td>\n",
       "      <td>20:58:07</td>\n",
       "      <td>Wednesday</td>\n",
       "    </tr>\n",
       "    <tr>\n",
       "      <td>3</td>\n",
       "      <td>A3DD03C9</td>\n",
       "      <td>Dragons in the Sunset</td>\n",
       "      <td>Fire + Ice</td>\n",
       "      <td>folk</td>\n",
       "      <td>Saint-Petersburg</td>\n",
       "      <td>08:37:09</td>\n",
       "      <td>Monday</td>\n",
       "    </tr>\n",
       "    <tr>\n",
       "      <td>4</td>\n",
       "      <td>E2DC1FAE</td>\n",
       "      <td>Soul People</td>\n",
       "      <td>Space Echo</td>\n",
       "      <td>dance</td>\n",
       "      <td>Moscow</td>\n",
       "      <td>08:34:34</td>\n",
       "      <td>Monday</td>\n",
       "    </tr>\n",
       "    <tr>\n",
       "      <td>5</td>\n",
       "      <td>842029A1</td>\n",
       "      <td>Преданная</td>\n",
       "      <td>IMPERVTOR</td>\n",
       "      <td>rusrap</td>\n",
       "      <td>Saint-Petersburg</td>\n",
       "      <td>13:09:41</td>\n",
       "      <td>Friday</td>\n",
       "    </tr>\n",
       "    <tr>\n",
       "      <td>6</td>\n",
       "      <td>4CB90AA5</td>\n",
       "      <td>True</td>\n",
       "      <td>Roman Messer</td>\n",
       "      <td>dance</td>\n",
       "      <td>Moscow</td>\n",
       "      <td>13:00:07</td>\n",
       "      <td>Wednesday</td>\n",
       "    </tr>\n",
       "    <tr>\n",
       "      <td>7</td>\n",
       "      <td>F03E1C1F</td>\n",
       "      <td>Feeling This Way</td>\n",
       "      <td>Polina Griffith</td>\n",
       "      <td>dance</td>\n",
       "      <td>Moscow</td>\n",
       "      <td>20:47:49</td>\n",
       "      <td>Wednesday</td>\n",
       "    </tr>\n",
       "    <tr>\n",
       "      <td>8</td>\n",
       "      <td>8FA1D3BE</td>\n",
       "      <td>И вновь продолжается бой</td>\n",
       "      <td>NaN</td>\n",
       "      <td>ruspop</td>\n",
       "      <td>Moscow</td>\n",
       "      <td>09:17:40</td>\n",
       "      <td>Friday</td>\n",
       "    </tr>\n",
       "    <tr>\n",
       "      <td>9</td>\n",
       "      <td>E772D5C0</td>\n",
       "      <td>Pessimist</td>\n",
       "      <td>NaN</td>\n",
       "      <td>dance</td>\n",
       "      <td>Saint-Petersburg</td>\n",
       "      <td>21:20:49</td>\n",
       "      <td>Wednesday</td>\n",
       "    </tr>\n",
       "  </tbody>\n",
       "</table>\n",
       "</div>"
      ],
      "text/plain": [
       "     userID                        Track            artist   genre  \\\n",
       "0  FFB692EC            Kamigata To Boots  The Mass Missile    rock   \n",
       "1  55204538  Delayed Because of Accident  Andreas Rönnberg    rock   \n",
       "2    20EC38            Funiculì funiculà       Mario Lanza     pop   \n",
       "3  A3DD03C9        Dragons in the Sunset        Fire + Ice    folk   \n",
       "4  E2DC1FAE                  Soul People        Space Echo   dance   \n",
       "5  842029A1                    Преданная         IMPERVTOR  rusrap   \n",
       "6  4CB90AA5                         True      Roman Messer   dance   \n",
       "7  F03E1C1F             Feeling This Way   Polina Griffith   dance   \n",
       "8  8FA1D3BE     И вновь продолжается бой               NaN  ruspop   \n",
       "9  E772D5C0                    Pessimist               NaN   dance   \n",
       "\n",
       "             City        time        Day  \n",
       "0  Saint-Petersburg  20:28:33  Wednesday  \n",
       "1            Moscow  14:07:09     Friday  \n",
       "2  Saint-Petersburg  20:58:07  Wednesday  \n",
       "3  Saint-Petersburg  08:37:09     Monday  \n",
       "4            Moscow  08:34:34     Monday  \n",
       "5  Saint-Petersburg  13:09:41     Friday  \n",
       "6            Moscow  13:00:07  Wednesday  \n",
       "7            Moscow  20:47:49  Wednesday  \n",
       "8            Moscow  09:17:40     Friday  \n",
       "9  Saint-Petersburg  21:20:49  Wednesday  "
      ]
     },
     "execution_count": 3,
     "metadata": {},
     "output_type": "execute_result"
    }
   ],
   "source": [
    "df.head(10) # получение первых 10 строк таблицы df"
   ]
  },
  {
   "cell_type": "markdown",
   "metadata": {},
   "source": [
    "<div class=\"alert alert-warning\">\n",
    "<b>⚠️ Комментарий ревьюера:</b> \n",
    "<br>Обрати внимание, что здесь использование функции display() ни на что не влияет, а это значит, что её можно не применять\n",
    "</div>"
   ]
  },
  {
   "cell_type": "markdown",
   "metadata": {
    "id": "EO73Kwic_Zct"
   },
   "source": [
    "Одной командой получить общую информацию о таблице:"
   ]
  },
  {
   "cell_type": "code",
   "execution_count": 4,
   "metadata": {
    "id": "DSf2kIb-_Zct"
   },
   "outputs": [
    {
     "name": "stdout",
     "output_type": "stream",
     "text": [
      "<class 'pandas.core.frame.DataFrame'>\n",
      "RangeIndex: 65079 entries, 0 to 65078\n",
      "Data columns (total 7 columns):\n",
      "  userID    65079 non-null object\n",
      "Track       63848 non-null object\n",
      "artist      57876 non-null object\n",
      "genre       63881 non-null object\n",
      "  City      65079 non-null object\n",
      "time        65079 non-null object\n",
      "Day         65079 non-null object\n",
      "dtypes: object(7)\n",
      "memory usage: 3.5+ MB\n"
     ]
    }
   ],
   "source": [
    "df.info() # получение общей информации о данных в таблице df"
   ]
  },
  {
   "cell_type": "markdown",
   "metadata": {
    "id": "TaQ2Iwbr_Zct"
   },
   "source": [
    "Итак, в таблице семь столбцов. Тип данных во всех столбцах — `object`.\n",
    "\n",
    "Согласно документации к данным:\n",
    "* `userID` — идентификатор пользователя;\n",
    "* `Track` — название трека;  \n",
    "* `artist` — имя исполнителя;\n",
    "* `genre` — название жанра;\n",
    "* `City` — город пользователя;\n",
    "* `time` — время начала прослушивания;\n",
    "* `Day` — день недели.\n",
    "\n",
    "В названиях колонок видны три нарушения стиля:\n",
    "1. Строчные буквы сочетаются с прописными.\n",
    "2. Встречаются пробелы.\n",
    "3. Не используется змеиный регистр. #Найдите ещё одну проблему в названии колонок и опишите её в этом пункте.\n",
    "\n",
    "\n",
    "\n",
    "Количество значений в столбцах различается. Значит, в данных есть пропущенные значения.\n"
   ]
  },
  {
   "cell_type": "markdown",
   "metadata": {},
   "source": [
    "<div class=\"alert alert-success\">\n",
    "<b>✔️ Комментарий ревьюера:</b> \n",
    "<br>И это правильный ответ! Отличная работа!\n",
    "</div>"
   ]
  },
  {
   "cell_type": "markdown",
   "metadata": {
    "id": "MCB6-dXG_Zct"
   },
   "source": [
    "**Выводы**\n",
    "\n",
    "В каждой строке таблицы — данные о прослушанном треке. Часть колонок описывает саму композицию: название, исполнителя и жанр. Остальные данные рассказывают о пользователе: из какого он города, когда он слушал музыку. \n",
    "\n",
    "Предварительно можно утверждать, что, данных достаточно для проверки гипотез. Но встречаются пропуски в данных, а в названиях колонок — расхождения с хорошим стилем.\n",
    "\n",
    "Чтобы двигаться дальше, нужно устранить проблемы в данных."
   ]
  },
  {
   "cell_type": "markdown",
   "metadata": {
    "id": "SjYF6Ub9_Zct"
   },
   "source": [
    "## Предобработка данных\n",
    "Исправьте стиль в заголовках столбцов, исключите пропуски. Затем проверьте данные на дубликаты."
   ]
  },
  {
   "cell_type": "markdown",
   "metadata": {
    "id": "dIaKXr29_Zct"
   },
   "source": [
    "### Стиль заголовков\n",
    "Выведите на экран названия столбцов:"
   ]
  },
  {
   "cell_type": "code",
   "execution_count": 5,
   "metadata": {
    "id": "oKOTdF_Q_Zct"
   },
   "outputs": [
    {
     "data": {
      "text/plain": [
       "Index(['  userID', 'Track', 'artist', 'genre', '  City  ', 'time', 'Day'], dtype='object')"
      ]
     },
     "execution_count": 5,
     "metadata": {},
     "output_type": "execute_result"
    }
   ],
   "source": [
    "df.columns # перечень названий столбцов таблицы df"
   ]
  },
  {
   "cell_type": "markdown",
   "metadata": {},
   "source": [
    "<div class=\"alert alert-success\">\n",
    "<b>✔️ Комментарий ревьюера:</b> \n",
    "<br>Отлично, что здесь не использована функцию print() для вывода: ведь это последняя строчка ячейки.\n",
    "</div>"
   ]
  },
  {
   "cell_type": "markdown",
   "metadata": {
    "id": "zj5534cv_Zct"
   },
   "source": [
    "Приведите названия в соответствие с хорошим стилем:\n",
    "* несколько слов в названии запишите в «змеином_регистре»,\n",
    "* все символы сделайте строчными,\n",
    "* устраните пробелы.\n",
    "\n",
    "Для этого переименуйте колонки так:\n",
    "* `'  userID'` → `'user_id'`;\n",
    "* `'Track'` → `'track'`;\n",
    "* `'  City  '` → `'city'`;\n",
    "* `'Day'` → `'day'`."
   ]
  },
  {
   "cell_type": "code",
   "execution_count": 6,
   "metadata": {
    "id": "ISlFqs5y_Zct"
   },
   "outputs": [],
   "source": [
    "df = df.rename(columns={'  userID': 'user_id', 'Track': 'track', '  City  ': 'city', 'Day': 'day'}) # переименование столбцов"
   ]
  },
  {
   "cell_type": "markdown",
   "metadata": {
    "id": "1dqbh00J_Zct"
   },
   "source": [
    "Проверьте результат. Для этого ещё раз выведите на экран названия столбцов:"
   ]
  },
  {
   "cell_type": "code",
   "execution_count": 7,
   "metadata": {
    "id": "d4NOAmTW_Zct"
   },
   "outputs": [
    {
     "data": {
      "text/plain": [
       "Index(['user_id', 'track', 'artist', 'genre', 'city', 'time', 'day'], dtype='object')"
      ]
     },
     "execution_count": 7,
     "metadata": {},
     "output_type": "execute_result"
    }
   ],
   "source": [
    "df.columns # проверка результатов - перечень названий столбцов"
   ]
  },
  {
   "cell_type": "markdown",
   "metadata": {
    "id": "5ISfbcfY_Zct"
   },
   "source": [
    "### Пропуски значений\n",
    "Сначала посчитайте, сколько в таблице пропущенных значений. Для этого достаточно двух методов `pandas`:"
   ]
  },
  {
   "cell_type": "code",
   "execution_count": 8,
   "metadata": {
    "id": "RskX29qr_Zct"
   },
   "outputs": [
    {
     "data": {
      "text/plain": [
       "user_id       0\n",
       "track      1231\n",
       "artist     7203\n",
       "genre      1198\n",
       "city          0\n",
       "time          0\n",
       "day           0\n",
       "dtype: int64"
      ]
     },
     "execution_count": 8,
     "metadata": {},
     "output_type": "execute_result"
    }
   ],
   "source": [
    "df.isna().sum() # подсчёт пропусков"
   ]
  },
  {
   "cell_type": "markdown",
   "metadata": {
    "id": "qubhgnlO_Zct"
   },
   "source": [
    "Не все пропущенные значения влияют на исследование. Так в `track` и `artist` пропуски не важны для вашей работы. Достаточно заменить их явными обозначениями.\n",
    "\n",
    "Но пропуски в `genre` могут помешать сравнению музыкальных вкусов в Москве и Санкт-Петербурге. На практике было бы правильно установить причину пропусков и восстановить данные. Такой возможности нет в учебном проекте. Придётся:\n",
    "* заполнить и эти пропуски явными обозначениями,\n",
    "* оценить, насколько они повредят расчётам. "
   ]
  },
  {
   "cell_type": "markdown",
   "metadata": {
    "id": "fSv2laPA_Zct"
   },
   "source": [
    "Замените пропущенные значения в столбцах `track`, `artist` и `genre` на строку `'unknown'`. Для этого создайте список `columns_to_replace`, переберите его элементы циклом `for` и для каждого столбца выполните замену пропущенных значений:"
   ]
  },
  {
   "cell_type": "code",
   "execution_count": 9,
   "metadata": {
    "id": "KplB5qWs_Zct"
   },
   "outputs": [],
   "source": [
    "columns_to_replace = ['track', 'artist', 'genre']\n",
    "for column in columns_to_replace:\n",
    "    df[column] = df[column].fillna('unknown') # перебор названий столбцов в цикле и замена пропущенных значений на 'unknown'"
   ]
  },
  {
   "cell_type": "markdown",
   "metadata": {
    "id": "Ilsm-MZo_Zct"
   },
   "source": [
    "Убедитесь, что в таблице не осталось пропусков. Для этого ещё раз посчитайте пропущенные значения."
   ]
  },
  {
   "cell_type": "code",
   "execution_count": 10,
   "metadata": {
    "id": "Tq4nYRX4_Zct"
   },
   "outputs": [
    {
     "data": {
      "text/plain": [
       "user_id    0\n",
       "track      0\n",
       "artist     0\n",
       "genre      0\n",
       "city       0\n",
       "time       0\n",
       "day        0\n",
       "dtype: int64"
      ]
     },
     "execution_count": 10,
     "metadata": {},
     "output_type": "execute_result"
    }
   ],
   "source": [
    "df.isna().sum() # подсчёт пропусков"
   ]
  },
  {
   "cell_type": "markdown",
   "metadata": {},
   "source": [
    "<div class=\"alert alert-success\">\n",
    "<b>✔️ Комментарий ревьюера:</b> \n",
    "<br>Пропуски заменены верно!\n",
    "</div>"
   ]
  },
  {
   "cell_type": "markdown",
   "metadata": {
    "id": "BWKRtBJ3_Zct"
   },
   "source": [
    "### Дубликаты\n",
    "Посчитайте явные дубликаты в таблице одной командой:"
   ]
  },
  {
   "cell_type": "code",
   "execution_count": 11,
   "metadata": {
    "id": "36eES_S0_Zct"
   },
   "outputs": [
    {
     "data": {
      "text/plain": [
       "3826"
      ]
     },
     "execution_count": 11,
     "metadata": {},
     "output_type": "execute_result"
    }
   ],
   "source": [
    "df.duplicated().sum() # подсчёт явных дубликатов"
   ]
  },
  {
   "cell_type": "markdown",
   "metadata": {
    "id": "Ot25h6XR_Zct"
   },
   "source": [
    "Вызовите специальный метод `pandas`, чтобы удалить явные дубликаты:"
   ]
  },
  {
   "cell_type": "code",
   "execution_count": 12,
   "metadata": {
    "id": "exFHq6tt_Zct"
   },
   "outputs": [],
   "source": [
    "df = df.drop_duplicates().reset_index(drop=True) # удаление явных дубликатов (с удалением старых индексов и формированием новых)"
   ]
  },
  {
   "cell_type": "markdown",
   "metadata": {
    "id": "Im2YwBEG_Zct"
   },
   "source": [
    "Ещё раз посчитайте явные дубликаты в таблице — убедитесь, что полностью от них избавились:"
   ]
  },
  {
   "cell_type": "code",
   "execution_count": 13,
   "metadata": {
    "id": "-8PuNWQ0_Zct"
   },
   "outputs": [
    {
     "data": {
      "text/plain": [
       "0"
      ]
     },
     "execution_count": 13,
     "metadata": {},
     "output_type": "execute_result"
    }
   ],
   "source": [
    "df.duplicated().sum() # проверка на отсутствие дубликатов"
   ]
  },
  {
   "cell_type": "markdown",
   "metadata": {
    "id": "QlFBsxAr_Zct"
   },
   "source": [
    "Теперь избавьтесь от неявных дубликатов в колонке `genre`. Например, название одного и того же жанра может быть записано немного по-разному. Такие ошибки тоже повлияют на результат исследования."
   ]
  },
  {
   "cell_type": "markdown",
   "metadata": {
    "id": "eSjWwsOh_Zct"
   },
   "source": [
    "Выведите на экран список уникальных названий жанров, отсортированный в алфавитном порядке. Для этого:\n",
    "* извлеките нужный столбец датафрейма, \n",
    "* примените к нему метод сортировки,\n",
    "* для отсортированного столбца вызовите метод, который вернёт уникальные значения из столбца."
   ]
  },
  {
   "cell_type": "code",
   "execution_count": 14,
   "metadata": {
    "id": "JIUcqzZN_Zct"
   },
   "outputs": [
    {
     "data": {
      "text/plain": [
       "array(['acid', 'acoustic', 'action', 'adult', 'africa', 'afrikaans',\n",
       "       'alternative', 'alternativepunk', 'ambient', 'americana',\n",
       "       'animated', 'anime', 'arabesk', 'arabic', 'arena',\n",
       "       'argentinetango', 'art', 'audiobook', 'author', 'avantgarde',\n",
       "       'axé', 'baile', 'balkan', 'beats', 'bigroom', 'black', 'bluegrass',\n",
       "       'blues', 'bollywood', 'bossa', 'brazilian', 'breakbeat', 'breaks',\n",
       "       'broadway', 'cantautori', 'cantopop', 'canzone', 'caribbean',\n",
       "       'caucasian', 'celtic', 'chamber', 'chanson', 'children', 'chill',\n",
       "       'chinese', 'choral', 'christian', 'christmas', 'classical',\n",
       "       'classicmetal', 'club', 'colombian', 'comedy', 'conjazz',\n",
       "       'contemporary', 'country', 'cuban', 'dance', 'dancehall',\n",
       "       'dancepop', 'dark', 'death', 'deep', 'deutschrock', 'deutschspr',\n",
       "       'dirty', 'disco', 'dnb', 'documentary', 'downbeat', 'downtempo',\n",
       "       'drum', 'dub', 'dubstep', 'eastern', 'easy', 'electronic',\n",
       "       'electropop', 'emo', 'entehno', 'epicmetal', 'estrada', 'ethnic',\n",
       "       'eurofolk', 'european', 'experimental', 'extrememetal', 'fado',\n",
       "       'fairytail', 'film', 'fitness', 'flamenco', 'folk', 'folklore',\n",
       "       'folkmetal', 'folkrock', 'folktronica', 'forró', 'frankreich',\n",
       "       'französisch', 'french', 'funk', 'future', 'gangsta', 'garage',\n",
       "       'german', 'ghazal', 'gitarre', 'glitch', 'gospel', 'gothic',\n",
       "       'grime', 'grunge', 'gypsy', 'handsup', \"hard'n'heavy\", 'hardcore',\n",
       "       'hardstyle', 'hardtechno', 'hip', 'hip-hop', 'hiphop',\n",
       "       'historisch', 'holiday', 'hop', 'horror', 'house', 'hymn', 'idm',\n",
       "       'independent', 'indian', 'indie', 'indipop', 'industrial',\n",
       "       'inspirational', 'instrumental', 'international', 'irish', 'jam',\n",
       "       'japanese', 'jazz', 'jewish', 'jpop', 'jungle', 'k-pop',\n",
       "       'karadeniz', 'karaoke', 'kayokyoku', 'korean', 'laiko', 'latin',\n",
       "       'latino', 'leftfield', 'local', 'lounge', 'loungeelectronic',\n",
       "       'lovers', 'malaysian', 'mandopop', 'marschmusik', 'meditative',\n",
       "       'mediterranean', 'melodic', 'metal', 'metalcore', 'mexican',\n",
       "       'middle', 'minimal', 'miscellaneous', 'modern', 'mood', 'mpb',\n",
       "       'muslim', 'native', 'neoklassik', 'neue', 'new', 'newage',\n",
       "       'newwave', 'nu', 'nujazz', 'numetal', 'oceania', 'old', 'opera',\n",
       "       'orchestral', 'other', 'piano', 'podcasts', 'pop', 'popdance',\n",
       "       'popelectronic', 'popeurodance', 'poprussian', 'post',\n",
       "       'posthardcore', 'postrock', 'power', 'progmetal', 'progressive',\n",
       "       'psychedelic', 'punjabi', 'punk', 'quebecois', 'ragga', 'ram',\n",
       "       'rancheras', 'rap', 'rave', 'reggae', 'reggaeton', 'regional',\n",
       "       'relax', 'religious', 'retro', 'rhythm', 'rnb', 'rnr', 'rock',\n",
       "       'rockabilly', 'rockalternative', 'rockindie', 'rockother',\n",
       "       'romance', 'roots', 'ruspop', 'rusrap', 'rusrock', 'russian',\n",
       "       'salsa', 'samba', 'scenic', 'schlager', 'self', 'sertanejo',\n",
       "       'shanson', 'shoegazing', 'showtunes', 'singer', 'ska', 'skarock',\n",
       "       'slow', 'smooth', 'soft', 'soul', 'soulful', 'sound', 'soundtrack',\n",
       "       'southern', 'specialty', 'speech', 'spiritual', 'sport',\n",
       "       'stonerrock', 'surf', 'swing', 'synthpop', 'synthrock',\n",
       "       'sängerportrait', 'tango', 'tanzorchester', 'taraftar', 'tatar',\n",
       "       'tech', 'techno', 'teen', 'thrash', 'top', 'traditional',\n",
       "       'tradjazz', 'trance', 'tribal', 'trip', 'triphop', 'tropical',\n",
       "       'türk', 'türkçe', 'ukrrock', 'unknown', 'urban', 'uzbek',\n",
       "       'variété', 'vi', 'videogame', 'vocal', 'western', 'world',\n",
       "       'worldbeat', 'ïîï', 'электроника'], dtype=object)"
      ]
     },
     "execution_count": 14,
     "metadata": {},
     "output_type": "execute_result"
    }
   ],
   "source": [
    "df['genre'].sort_values().unique() # Просмотр уникальных названий жанров"
   ]
  },
  {
   "cell_type": "markdown",
   "metadata": {
    "id": "qej-Qmuo_Zct"
   },
   "source": [
    "Просмотрите список и найдите неявные дубликаты названия `hiphop`. Это могут быть названия с ошибками или альтернативные названия того же жанра.\n",
    "\n",
    "Вы увидите следующие неявные дубликаты:\n",
    "* *hip*,\n",
    "* *hop*,\n",
    "* *hip-hop*.\n",
    "\n",
    "Чтобы очистить от них таблицу, напишите функцию `replace_wrong_genres()` с двумя параметрами: \n",
    "* `wrong_genres` — список дубликатов,\n",
    "* `correct_genre` — строка с правильным значением.\n",
    "\n",
    "Функция должна исправить колонку `genre` в таблице `df`: заменить каждое значение из списка `wrong_genres` на значение из `correct_genre`."
   ]
  },
  {
   "cell_type": "code",
   "execution_count": 15,
   "metadata": {
    "id": "ErNDkmns_Zct"
   },
   "outputs": [],
   "source": [
    "def replace_wrong_genres(wrong_genres, correct_genre): # Функция для замены неявных дубликатов\n",
    "    for wrong_genre in wrong_genres:\n",
    "        df['genre'] = df['genre'].replace(wrong_genre, correct_genre)"
   ]
  },
  {
   "cell_type": "markdown",
   "metadata": {
    "id": "aDoBJxbA_Zct"
   },
   "source": [
    "Вызовите `replace_wrong_genres()` и передайте ей такие аргументы, чтобы она устранила неявные дубликаты: вместо `hip`, `hop` и `hip-hop` в таблице должно быть значение `hiphop`:"
   ]
  },
  {
   "cell_type": "code",
   "execution_count": 16,
   "metadata": {
    "id": "YN5i2hpmSo09"
   },
   "outputs": [
    {
     "name": "stdout",
     "output_type": "stream",
     "text": [
      "        user_id                              track            artist  \\\n",
      "0      FFB692EC                  Kamigata To Boots  The Mass Missile   \n",
      "1      55204538        Delayed Because of Accident  Andreas Rönnberg   \n",
      "2        20EC38                  Funiculì funiculà       Mario Lanza   \n",
      "3      A3DD03C9              Dragons in the Sunset        Fire + Ice   \n",
      "4      E2DC1FAE                        Soul People        Space Echo   \n",
      "...         ...                                ...               ...   \n",
      "61248  729CBB09                            My Name            McLean   \n",
      "61249  D08D4A55  Maybe One Day (feat. Black Spade)       Blu & Exile   \n",
      "61250  C5E3A0D5                          Jalopiina           unknown   \n",
      "61251  321D0506                      Freight Train     Chas McDevitt   \n",
      "61252  3A64EF84          Tell Me Sweet Little Lies      Monica Lopez   \n",
      "\n",
      "            genre              city      time        day  \n",
      "0            rock  Saint-Petersburg  20:28:33  Wednesday  \n",
      "1            rock            Moscow  14:07:09     Friday  \n",
      "2             pop  Saint-Petersburg  20:58:07  Wednesday  \n",
      "3            folk  Saint-Petersburg  08:37:09     Monday  \n",
      "4           dance            Moscow  08:34:34     Monday  \n",
      "...           ...               ...       ...        ...  \n",
      "61248         rnb            Moscow  13:32:28  Wednesday  \n",
      "61249      hiphop  Saint-Petersburg  10:00:00     Monday  \n",
      "61250  industrial            Moscow  20:09:26     Friday  \n",
      "61251        rock            Moscow  21:43:59     Friday  \n",
      "61252     country            Moscow  21:59:46     Friday  \n",
      "\n",
      "[61253 rows x 7 columns]\n"
     ]
    }
   ],
   "source": [
    "duplicates = ['hip', 'hop', 'hip-hop'] # Устранение неявных дубликатов \n",
    "genre = 'hiphop'\n",
    "replace_wrong_genres(duplicates, genre)\n",
    "print(df) \n",
    "# А почему надо здесь разрывать функцию и писать с нового блока?\n",
    "# def replace_wrong_genres(wrong_genres, correct_genre):\n",
    "   # for wrong_genre in wrong_genres:\n",
    "       # df['genre'] = df['genre'].replace(wrong_genre, correct_genre)\n",
    "        \n",
    "# duplicates = ['hip', 'hop', 'hip-hop'] # Устранение неявных дубликатов \n",
    "# genre = 'hiphop'\n",
    "# replace_wrong_genres(duplicates, genre)\n",
    "# print(df)\n",
    "# И мне немного не понятно, что именно здесь вывожу"
   ]
  },
  {
   "cell_type": "markdown",
   "metadata": {},
   "source": [
    "<div class=\"alert alert-warning\">\n",
    "<b>⚠️ Комментарий ревьюера:</b> \n",
    "<br>Здесь можно заменить дубликаты не создавая дополнительные переменные:\n",
    "    \n",
    "    replace_wrong_genres(['hip', 'hop', 'hip-hop'], 'hiphop')\n",
    "</div>"
   ]
  },
  {
   "cell_type": "markdown",
   "metadata": {},
   "source": [
    "<div class=\"alert alert-warning\">\n",
    "<b>⚠️ Комментарий ревьюера:</b> \n",
    "<br>Не очень понял твой вопрос про разрыв функции. Можешь объяснить поточнее?)\n",
    "</div>"
   ]
  },
  {
   "cell_type": "markdown",
   "metadata": {},
   "source": [
    "<div class=\"alert alert-info\">\n",
    "<b>Комментарий студента:</b>\n",
    "<br>Ну я имел ввиду, почему именно здесь надо разрывать функцию. В других заданиях так не надо делать\n",
    "</div>"
   ]
  },
  {
   "cell_type": "markdown",
   "metadata": {},
   "source": [
    "<div class=\"alert alert-success\">\n",
    "<b>✔️ Комментарий ревьюера v2:</b>\n",
    "<br>Сама функция заканчивается здесь\n",
    "    \n",
    "    def replace_wrong_genres(wrong_genres, correct_genre): # Функция для замены неявных дубликатов\n",
    "    for wrong_genre in wrong_genres:\n",
    "        df['genre'] = df['genre'].replace(wrong_genre, correct_genre)\n",
    "    \n",
    "<br>Далее мы уже применяем её. Если ты хочешь, то можно и в одной ячейке все сделать, но лучше чтобы для каждого отдельного вычисления было своя ячейка, так код будет более наглядным    \n",
    "</div>"
   ]
  },
  {
   "cell_type": "markdown",
   "metadata": {
    "id": "zQKF16_RG15m"
   },
   "source": [
    "Проверьте, что заменили неправильные названия:\n",
    "\n",
    "*   hip\n",
    "*   hop\n",
    "*   hip-hop\n",
    "\n",
    "Выведите отсортированный список уникальных значений столбца `genre`:"
   ]
  },
  {
   "cell_type": "code",
   "execution_count": 17,
   "metadata": {
    "id": "wvixALnFG15m"
   },
   "outputs": [
    {
     "data": {
      "text/plain": [
       "array(['acid', 'acoustic', 'action', 'adult', 'africa', 'afrikaans',\n",
       "       'alternative', 'alternativepunk', 'ambient', 'americana',\n",
       "       'animated', 'anime', 'arabesk', 'arabic', 'arena',\n",
       "       'argentinetango', 'art', 'audiobook', 'author', 'avantgarde',\n",
       "       'axé', 'baile', 'balkan', 'beats', 'bigroom', 'black', 'bluegrass',\n",
       "       'blues', 'bollywood', 'bossa', 'brazilian', 'breakbeat', 'breaks',\n",
       "       'broadway', 'cantautori', 'cantopop', 'canzone', 'caribbean',\n",
       "       'caucasian', 'celtic', 'chamber', 'chanson', 'children', 'chill',\n",
       "       'chinese', 'choral', 'christian', 'christmas', 'classical',\n",
       "       'classicmetal', 'club', 'colombian', 'comedy', 'conjazz',\n",
       "       'contemporary', 'country', 'cuban', 'dance', 'dancehall',\n",
       "       'dancepop', 'dark', 'death', 'deep', 'deutschrock', 'deutschspr',\n",
       "       'dirty', 'disco', 'dnb', 'documentary', 'downbeat', 'downtempo',\n",
       "       'drum', 'dub', 'dubstep', 'eastern', 'easy', 'electronic',\n",
       "       'electropop', 'emo', 'entehno', 'epicmetal', 'estrada', 'ethnic',\n",
       "       'eurofolk', 'european', 'experimental', 'extrememetal', 'fado',\n",
       "       'fairytail', 'film', 'fitness', 'flamenco', 'folk', 'folklore',\n",
       "       'folkmetal', 'folkrock', 'folktronica', 'forró', 'frankreich',\n",
       "       'französisch', 'french', 'funk', 'future', 'gangsta', 'garage',\n",
       "       'german', 'ghazal', 'gitarre', 'glitch', 'gospel', 'gothic',\n",
       "       'grime', 'grunge', 'gypsy', 'handsup', \"hard'n'heavy\", 'hardcore',\n",
       "       'hardstyle', 'hardtechno', 'hiphop', 'historisch', 'holiday',\n",
       "       'horror', 'house', 'hymn', 'idm', 'independent', 'indian', 'indie',\n",
       "       'indipop', 'industrial', 'inspirational', 'instrumental',\n",
       "       'international', 'irish', 'jam', 'japanese', 'jazz', 'jewish',\n",
       "       'jpop', 'jungle', 'k-pop', 'karadeniz', 'karaoke', 'kayokyoku',\n",
       "       'korean', 'laiko', 'latin', 'latino', 'leftfield', 'local',\n",
       "       'lounge', 'loungeelectronic', 'lovers', 'malaysian', 'mandopop',\n",
       "       'marschmusik', 'meditative', 'mediterranean', 'melodic', 'metal',\n",
       "       'metalcore', 'mexican', 'middle', 'minimal', 'miscellaneous',\n",
       "       'modern', 'mood', 'mpb', 'muslim', 'native', 'neoklassik', 'neue',\n",
       "       'new', 'newage', 'newwave', 'nu', 'nujazz', 'numetal', 'oceania',\n",
       "       'old', 'opera', 'orchestral', 'other', 'piano', 'podcasts', 'pop',\n",
       "       'popdance', 'popelectronic', 'popeurodance', 'poprussian', 'post',\n",
       "       'posthardcore', 'postrock', 'power', 'progmetal', 'progressive',\n",
       "       'psychedelic', 'punjabi', 'punk', 'quebecois', 'ragga', 'ram',\n",
       "       'rancheras', 'rap', 'rave', 'reggae', 'reggaeton', 'regional',\n",
       "       'relax', 'religious', 'retro', 'rhythm', 'rnb', 'rnr', 'rock',\n",
       "       'rockabilly', 'rockalternative', 'rockindie', 'rockother',\n",
       "       'romance', 'roots', 'ruspop', 'rusrap', 'rusrock', 'russian',\n",
       "       'salsa', 'samba', 'scenic', 'schlager', 'self', 'sertanejo',\n",
       "       'shanson', 'shoegazing', 'showtunes', 'singer', 'ska', 'skarock',\n",
       "       'slow', 'smooth', 'soft', 'soul', 'soulful', 'sound', 'soundtrack',\n",
       "       'southern', 'specialty', 'speech', 'spiritual', 'sport',\n",
       "       'stonerrock', 'surf', 'swing', 'synthpop', 'synthrock',\n",
       "       'sängerportrait', 'tango', 'tanzorchester', 'taraftar', 'tatar',\n",
       "       'tech', 'techno', 'teen', 'thrash', 'top', 'traditional',\n",
       "       'tradjazz', 'trance', 'tribal', 'trip', 'triphop', 'tropical',\n",
       "       'türk', 'türkçe', 'ukrrock', 'unknown', 'urban', 'uzbek',\n",
       "       'variété', 'vi', 'videogame', 'vocal', 'western', 'world',\n",
       "       'worldbeat', 'ïîï', 'электроника'], dtype=object)"
      ]
     },
     "execution_count": 17,
     "metadata": {},
     "output_type": "execute_result"
    }
   ],
   "source": [
    "df['genre'].sort_values().unique() # Проверка на неявные дубликаты"
   ]
  },
  {
   "cell_type": "markdown",
   "metadata": {
    "id": "jz6a9-7HQUDd"
   },
   "source": [
    "**Выводы**\n",
    "\n",
    "Предобработка обнаружила три проблемы в данных:\n",
    "\n",
    "- нарушения в стиле заголовков,\n",
    "- пропущенные значения,\n",
    "- дубликаты — явные и неявные.\n",
    "\n",
    "Вы исправили заголовки, чтобы упростить работу с таблицей. Без дубликатов исследование станет более точным.\n",
    "\n",
    "Пропущенные значения вы заменили на `'unknown'`. Ещё предстоит увидеть, не повредят ли исследованию пропуски в колонке `genre`.\n",
    "\n",
    "Теперь можно перейти к проверке гипотез. "
   ]
  },
  {
   "cell_type": "markdown",
   "metadata": {},
   "source": [
    "<div class=\"alert alert-success\">\n",
    "<b>✔️ Комментарий ревьюера:</b> \n",
    "<br>Супер! От дубликатов избавились)\n",
    "</div>"
   ]
  },
  {
   "cell_type": "markdown",
   "metadata": {
    "id": "WttZHXH0SqKk"
   },
   "source": [
    "## Проверка гипотез"
   ]
  },
  {
   "cell_type": "markdown",
   "metadata": {
    "id": "Im936VVi_Zcu"
   },
   "source": [
    "### Сравнение поведения пользователей двух столиц"
   ]
  },
  {
   "cell_type": "markdown",
   "metadata": {
    "id": "nwt_MuaL_Zcu"
   },
   "source": [
    "Первая гипотеза утверждает, что пользователи по-разному слушают музыку в Москве и Санкт-Петербурге. Проверьте это предположение по данным о трёх днях недели — понедельнике, среде и пятнице. Для этого:\n",
    "\n",
    "* Разделите пользователей Москвы и Санкт-Петербурга\n",
    "* Сравните, сколько треков послушала каждая группа пользователей в понедельник, среду и пятницу.\n"
   ]
  },
  {
   "cell_type": "markdown",
   "metadata": {
    "id": "8Dw_YMmT_Zcu"
   },
   "source": [
    "Для тренировки сначала выполните каждый из расчётов по отдельности. \n",
    "\n",
    "Оцените активность пользователей в каждом городе. Сгруппируйте данные по городу и посчитайте прослушивания в каждой группе.\n",
    "\n"
   ]
  },
  {
   "cell_type": "code",
   "execution_count": 18,
   "metadata": {
    "id": "0_Qs96oh_Zcu"
   },
   "outputs": [
    {
     "data": {
      "text/plain": [
       "city\n",
       "Moscow              42741\n",
       "Saint-Petersburg    18512\n",
       "Name: city, dtype: int64"
      ]
     },
     "execution_count": 18,
     "metadata": {},
     "output_type": "execute_result"
    }
   ],
   "source": [
    "df.groupby('city')['city'].count() # Подсчёт прослушиваний в каждом городе"
   ]
  },
  {
   "cell_type": "markdown",
   "metadata": {
    "id": "dzli3w8o_Zcu"
   },
   "source": [
    "В Москве прослушиваний больше, чем в Петербурге. Из этого не следует, что московские пользователи чаще слушают музыку. Просто самих пользователей в Москве больше.\n",
    "\n",
    "Теперь сгруппируйте данные по дню недели и подсчитайте прослушивания в понедельник, среду и пятницу. Учтите, что в данных есть информация только о прослушиваниях только за эти дни.\n"
   ]
  },
  {
   "cell_type": "code",
   "execution_count": 19,
   "metadata": {
    "id": "uZMKjiJz_Zcu"
   },
   "outputs": [
    {
     "data": {
      "text/plain": [
       "day\n",
       "Friday       21840\n",
       "Monday       21354\n",
       "Wednesday    18059\n",
       "Name: day, dtype: int64"
      ]
     },
     "execution_count": 19,
     "metadata": {},
     "output_type": "execute_result"
    }
   ],
   "source": [
    "df.groupby('day')['day'].count() # Подсчёт прослушиваний в каждый из трёх дней"
   ]
  },
  {
   "cell_type": "markdown",
   "metadata": {
    "id": "cC2tNrlL_Zcu"
   },
   "source": [
    "В среднем пользователи из двух городов менее активны по средам. Но картина может измениться, если рассмотреть каждый город в отдельности."
   ]
  },
  {
   "cell_type": "markdown",
   "metadata": {
    "id": "POzs8bGa_Zcu"
   },
   "source": [
    "Вы видели, как работает группировка по городу и по дням недели. Теперь напишите функцию, которая объединит два эти расчёта.\n",
    "\n",
    "Создайте функцию `number_tracks()`, которая посчитает прослушивания для заданного дня и города. Ей понадобятся два параметра:\n",
    "* день недели,\n",
    "* название города.\n",
    "\n",
    "В функции сохраните в переменную строки исходной таблицы, у которых значение:\n",
    "  * в колонке `day` равно параметру `day`,\n",
    "  * в колонке `city` равно параметру `city`.\n",
    "\n",
    "Для этого примените последовательную фильтрацию с логической индексацией.\n",
    "\n",
    "Затем посчитайте значения в столбце `user_id` получившейся таблицы. Результат сохраните в новую переменную. Верните эту переменную из функции."
   ]
  },
  {
   "cell_type": "code",
   "execution_count": 20,
   "metadata": {
    "id": "Nz3GdQB1_Zcu"
   },
   "outputs": [],
   "source": [
    "def number_tracks(day, city): # <создание функции number_tracks(). Объявляется функция с двумя параметрами: day, city.\n",
    "    track_list = df[(df['day'] == day) & (df['city'] == city)] # В переменной track_list сохраняются те строки таблицы df, для которых значение в столбце 'day' равно параметру day и одновременно значение в столбце 'city' равно параметру city (используйте последовательную фильтрацию) с помощью логической индексаци. \n",
    "    track_list_count = track_list['user_id'].count() # В переменной track_list_count сохраняется число значений столбца 'user_id', рассчитанное методом count() для таблицы track_list.\n",
    "    return track_list_count # Функция возвращает число - значение track_list_count.\n",
    "\n",
    "# Функция для подсчёта прослушиваний для конкретного города и дня.\n",
    "# С помощью последовательной фильтрации с логической индексацией она \n",
    "# сначала получит из исходной таблицы строки с нужным днём,\n",
    "# затем из результата отфильтрует строки с нужным городом,\n",
    "# методом count() посчитает количество значений в колонке user_id. \n",
    "# Это количество функция вернёт в качестве результата"
   ]
  },
  {
   "cell_type": "markdown",
   "metadata": {
    "id": "ytf7xFrFJQ2r"
   },
   "source": [
    "Вызовите `number_tracks()` шесть раз, меняя значение параметров — так, чтобы получить данные для каждого города в каждый из трёх дней."
   ]
  },
  {
   "cell_type": "code",
   "execution_count": 21,
   "metadata": {
    "id": "rJcRATNQ_Zcu"
   },
   "outputs": [
    {
     "name": "stdout",
     "output_type": "stream",
     "text": [
      "15740\n"
     ]
    }
   ],
   "source": [
    "print(number_tracks('Monday', 'Moscow')) # количество прослушиваний в Москве по понедельникам"
   ]
  },
  {
   "cell_type": "code",
   "execution_count": 22,
   "metadata": {
    "id": "hq_ncZ5T_Zcu"
   },
   "outputs": [
    {
     "name": "stdout",
     "output_type": "stream",
     "text": [
      "5614\n"
     ]
    }
   ],
   "source": [
    "print(number_tracks('Monday', 'Saint-Petersburg')) # количество прослушиваний в Санкт-Петербурге по понедельникам"
   ]
  },
  {
   "cell_type": "code",
   "execution_count": 23,
   "metadata": {
    "id": "_NTy2VPU_Zcu"
   },
   "outputs": [
    {
     "name": "stdout",
     "output_type": "stream",
     "text": [
      "11056\n"
     ]
    }
   ],
   "source": [
    "print(number_tracks('Wednesday', 'Moscow')) # количество прослушиваний в Москве по средам"
   ]
  },
  {
   "cell_type": "code",
   "execution_count": 24,
   "metadata": {
    "id": "j2y3TAwo_Zcu"
   },
   "outputs": [
    {
     "name": "stdout",
     "output_type": "stream",
     "text": [
      "7003\n"
     ]
    }
   ],
   "source": [
    "print(number_tracks('Wednesday', 'Saint-Petersburg')) # количество прослушиваний в Санкт-Петербурге по средам"
   ]
  },
  {
   "cell_type": "code",
   "execution_count": 25,
   "metadata": {
    "id": "vYDw5u_K_Zcu"
   },
   "outputs": [
    {
     "name": "stdout",
     "output_type": "stream",
     "text": [
      "15945\n"
     ]
    }
   ],
   "source": [
    "print(number_tracks('Friday', 'Moscow')) # количество прослушиваний в Москве по пятницам"
   ]
  },
  {
   "cell_type": "code",
   "execution_count": 26,
   "metadata": {
    "id": "8_yzFtW3_Zcu"
   },
   "outputs": [
    {
     "name": "stdout",
     "output_type": "stream",
     "text": [
      "5895\n"
     ]
    }
   ],
   "source": [
    "print(number_tracks('Friday', 'Saint-Petersburg')) # количество прослушиваний в Санкт-Петербурге по пятницам"
   ]
  },
  {
   "cell_type": "markdown",
   "metadata": {
    "id": "7QXffbO-_Zcu"
   },
   "source": [
    "Создайте c помощью конструктора `pd.DataFrame` таблицу, где\n",
    "* названия колонок — `['city', 'monday', 'wednesday', 'friday']`;\n",
    "* данные — результаты, которые вы получили с помощью `number_tracks`."
   ]
  },
  {
   "cell_type": "code",
   "execution_count": 27,
   "metadata": {
    "id": "APAcLpOr_Zcu"
   },
   "outputs": [
    {
     "data": {
      "text/html": [
       "<div>\n",
       "<style scoped>\n",
       "    .dataframe tbody tr th:only-of-type {\n",
       "        vertical-align: middle;\n",
       "    }\n",
       "\n",
       "    .dataframe tbody tr th {\n",
       "        vertical-align: top;\n",
       "    }\n",
       "\n",
       "    .dataframe thead th {\n",
       "        text-align: right;\n",
       "    }\n",
       "</style>\n",
       "<table border=\"1\" class=\"dataframe\">\n",
       "  <thead>\n",
       "    <tr style=\"text-align: right;\">\n",
       "      <th></th>\n",
       "      <th>city</th>\n",
       "      <th>monday</th>\n",
       "      <th>wednesday</th>\n",
       "      <th>friday</th>\n",
       "    </tr>\n",
       "  </thead>\n",
       "  <tbody>\n",
       "    <tr>\n",
       "      <td>0</td>\n",
       "      <td>Moscow</td>\n",
       "      <td>15740</td>\n",
       "      <td>11056</td>\n",
       "      <td>15945</td>\n",
       "    </tr>\n",
       "    <tr>\n",
       "      <td>1</td>\n",
       "      <td>Saint-Petersburg</td>\n",
       "      <td>5614</td>\n",
       "      <td>7003</td>\n",
       "      <td>5895</td>\n",
       "    </tr>\n",
       "  </tbody>\n",
       "</table>\n",
       "</div>"
      ],
      "text/plain": [
       "               city  monday  wednesday  friday\n",
       "0            Moscow   15740      11056   15945\n",
       "1  Saint-Petersburg    5614       7003    5895"
      ]
     },
     "metadata": {},
     "output_type": "display_data"
    }
   ],
   "source": [
    "data = [['Moscow', 15740, 11056, 15945],\n",
    "          ['Saint-Petersburg', 5614, 7003, 5895]] # Таблица с результатами\n",
    "columns = ['city', 'monday', 'wednesday', 'friday']\n",
    "table_of_cities = pd.DataFrame(data=data, columns=columns)\n",
    "display(table_of_cities)"
   ]
  },
  {
   "cell_type": "markdown",
   "metadata": {},
   "source": [
    "<div class=\"alert alert-success\">\n",
    "<b>✔️ Комментарий ревьюера:</b> \n",
    "<br>Датафрейм построен верно. Молодец!\n",
    "</div>\n",
    "\n",
    "<div class=\"alert alert-warning\">\n",
    "<b>⚠️ Комментарий ревьюера:</b> \n",
    "<br>Альтернативное решение:\n",
    "    \n",
    "    info = pd.DataFrame(data=[['Москва', 15740, 11056, 15945], ['Санкт-Петербург', 5614, 7003, 5895]], columns=['city', 'monday', 'wednesday', 'friday'])\n",
    "</div>"
   ]
  },
  {
   "cell_type": "markdown",
   "metadata": {
    "id": "-EgPIHYu_Zcu"
   },
   "source": [
    "**Выводы**\n",
    "\n",
    "Данные показывают разницу поведения пользователей:\n",
    "\n",
    "- В Москве пик прослушиваний приходится на понедельник и пятницу, а в среду заметен спад.\n",
    "- В Петербурге, наоборот, больше слушают музыку по средам. Активность в понедельник и пятницу здесь почти в равной мере уступает среде.\n",
    "\n",
    "Значит, данные говорят в пользу первой гипотезы."
   ]
  },
  {
   "cell_type": "markdown",
   "metadata": {
    "id": "atZAxtq4_Zcu"
   },
   "source": [
    "### Музыка в начале и в конце недели"
   ]
  },
  {
   "cell_type": "markdown",
   "metadata": {
    "id": "eXrQqXFH_Zcu"
   },
   "source": [
    "Согласно второй гипотезе, утром в понедельник в Москве преобладают одни жанры, а в Петербурге — другие. Так же и вечером пятницы преобладают разные жанры — в зависимости от города."
   ]
  },
  {
   "cell_type": "markdown",
   "metadata": {
    "id": "S8UcW6Hw_Zcu"
   },
   "source": [
    "Сохраните таблицы с данными в две переменные:\n",
    "* по Москве — в `moscow_general`;\n",
    "* по Санкт-Петербургу — в `spb_general`."
   ]
  },
  {
   "cell_type": "code",
   "execution_count": 28,
   "metadata": {
    "id": "qeaFfM_P_Zcu"
   },
   "outputs": [],
   "source": [
    "moscow_general = df[df['city'] == 'Moscow'] # получение таблицы moscow_general из тех строк таблицы df, для которых значение в столбце 'city' равно 'Moscow'"
   ]
  },
  {
   "cell_type": "code",
   "execution_count": 29,
   "metadata": {
    "id": "ORaVRKto_Zcu"
   },
   "outputs": [],
   "source": [
    "spb_general = df[df['city'] == 'Saint-Petersburg'] # получение таблицы spb_general из тех строк таблицы df, для которых значение в столбце 'city' равно 'Saint-Petersburg'"
   ]
  },
  {
   "cell_type": "markdown",
   "metadata": {
    "id": "MEJV-CX2_Zcu"
   },
   "source": [
    "Создайте функцию `genre_weekday()` с четырьмя параметрами:\n",
    "* таблица (датафрейм) с данными,\n",
    "* день недели,\n",
    "* начальная временная метка в формате 'hh:mm', \n",
    "* последняя временная метка в формате 'hh:mm'.\n",
    "\n",
    "Функция должна вернуть информацию о топ-10 жанров тех треков, которые прослушивали в указанный день, в промежутке между двумя отметками времени."
   ]
  },
  {
   "cell_type": "code",
   "execution_count": 30,
   "metadata": {
    "id": "laJT9BYl_Zcu"
   },
   "outputs": [],
   "source": [
    "def genre_weekday(table, day, time1, time2): # Объявление функции genre_weekday() с параметрами table, day, time1, time2, которая возвращает информацию о самых популярных жанрах в указанный день в заданное время:\n",
    "    genre_df = table[(table['day'] == day) & (table['time'] > time1) & (table['time'] < time2)]  # 1) в переменную genre_df сохраняются те строки переданного датафрейма table, для\n",
    "    genre_df_count = genre_df.groupby('genre')['genre'].count()                                  #    которых одновременно:\n",
    "    genre_df_sorted = genre_df_count.sort_values(ascending=False)                                #    - значение в столбце day равно значению аргумента day\n",
    "    return genre_df_sorted.head(10)                                                              #    - значение в столбце time больше значения аргумента time1\n",
    "                                                                                                 #    - значение в столбце time меньше значения аргумента time2\n",
    "                                                                                                 #    Используйте последовательную фильтрацию с помощью логической индексации.\n",
    "                                                                                                 # 2) сгруппировать датафрейм genre_df по столбцу genre, взять один из его\n",
    "                                                                                                 #    столбцов и посчитать методом count() количество записей для каждого из\n",
    "                                                                                                 #    присутствующих жанров, получившийся Series записать в переменную\n",
    "                                                                                                 #    genre_df_count\n",
    "                                                                                                 # 3) отсортировать genre_df_count по убыванию встречаемости и сохранить\n",
    "                                                                                                 #    в переменную genre_df_sorted\n",
    "                                                                                                 # 4) вернуть Series из 10 первых значений genre_df_sorted, это будут топ-10\n",
    "                                                                                                 #    популярных жанров (в указанный день, в заданное время)"
   ]
  },
  {
   "cell_type": "markdown",
   "metadata": {},
   "source": [
    "<div class=\"alert alert-success\">\n",
    "<b>✔️ Комментарий ревьюера: </b> \n",
    "<br>Замечательно! Здесь тоже все верно.\n",
    "</div>\n",
    "\n",
    "<div class=\"alert alert-warning\">\n",
    "<b>⚠️ Комментарий ревьюера:</b> \n",
    "<br>Как можно это сделать другим способом:\n",
    "<br>Через метод query(): \n",
    "\n",
    "    genre_df = table.query('@day==day and @time1 < time < @time2')\n",
    "<br>Метод query вы будете изучать в следующем спринте, а пока про него можно почитать в документации pandas:\n",
    "\n",
    "\thttps://pandas.pydata.org/docs/reference/api/pandas.DataFrame.query.html\n",
    "</div>"
   ]
  },
  {
   "cell_type": "markdown",
   "metadata": {
    "id": "la2s2_PF_Zcu"
   },
   "source": [
    "Cравните результаты функции `genre_weekday()` для Москвы и Санкт-Петербурга в понедельник утром (с 7:00 до 11:00) и в пятницу вечером (с 17:00 до 23:00):"
   ]
  },
  {
   "cell_type": "code",
   "execution_count": 31,
   "metadata": {
    "id": "yz7itPUQ_Zcu"
   },
   "outputs": [
    {
     "data": {
      "text/plain": [
       "genre\n",
       "pop            781\n",
       "dance          549\n",
       "electronic     480\n",
       "rock           474\n",
       "hiphop         286\n",
       "ruspop         186\n",
       "world          181\n",
       "rusrap         175\n",
       "alternative    164\n",
       "unknown        161\n",
       "Name: genre, dtype: int64"
      ]
     },
     "execution_count": 31,
     "metadata": {},
     "output_type": "execute_result"
    }
   ],
   "source": [
    "genre_weekday(moscow_general, 'Monday', '07:00', '11:00') # вызов функции для утра понедельника в Москве (вместо df — таблица moscow_general) объекты, хранящие время, являются строками и сравниваются как строки пример вызова: genre_weekday(moscow_general, 'Monday', '07:00', '11:00')"
   ]
  },
  {
   "cell_type": "code",
   "execution_count": 32,
   "metadata": {
    "id": "kwUcHPdy_Zcu"
   },
   "outputs": [
    {
     "data": {
      "text/plain": [
       "genre\n",
       "pop            218\n",
       "dance          182\n",
       "rock           162\n",
       "electronic     147\n",
       "hiphop          80\n",
       "ruspop          64\n",
       "alternative     58\n",
       "rusrap          55\n",
       "jazz            44\n",
       "classical       40\n",
       "Name: genre, dtype: int64"
      ]
     },
     "execution_count": 32,
     "metadata": {},
     "output_type": "execute_result"
    }
   ],
   "source": [
    "genre_weekday(spb_general, 'Monday', '07:00', '11:00') # вызов функции для утра понедельника в Петербурге (вместо df — таблица spb_general)"
   ]
  },
  {
   "cell_type": "code",
   "execution_count": 33,
   "metadata": {
    "id": "EzXVRE1o_Zcu"
   },
   "outputs": [
    {
     "data": {
      "text/plain": [
       "genre\n",
       "pop            713\n",
       "rock           517\n",
       "dance          495\n",
       "electronic     482\n",
       "hiphop         273\n",
       "world          208\n",
       "ruspop         170\n",
       "alternative    163\n",
       "classical      163\n",
       "rusrap         142\n",
       "Name: genre, dtype: int64"
      ]
     },
     "execution_count": 33,
     "metadata": {},
     "output_type": "execute_result"
    }
   ],
   "source": [
    "genre_weekday(moscow_general, 'Friday', '17:00', '23:00') # вызов функции для вечера пятницы в Москве"
   ]
  },
  {
   "cell_type": "code",
   "execution_count": 34,
   "metadata": {
    "id": "JZaEKu5v_Zcu"
   },
   "outputs": [
    {
     "data": {
      "text/plain": [
       "genre\n",
       "pop            256\n",
       "rock           216\n",
       "electronic     216\n",
       "dance          210\n",
       "hiphop          97\n",
       "alternative     63\n",
       "jazz            61\n",
       "classical       60\n",
       "rusrap          59\n",
       "world           54\n",
       "Name: genre, dtype: int64"
      ]
     },
     "execution_count": 34,
     "metadata": {},
     "output_type": "execute_result"
    }
   ],
   "source": [
    "genre_weekday(spb_general, 'Friday', '17:00', '23:00') # вызов функции для вечера пятницы в Петербурге"
   ]
  },
  {
   "cell_type": "markdown",
   "metadata": {
    "id": "wrCe4MNX_Zcu"
   },
   "source": [
    "**Выводы**\n",
    "\n",
    "Если сравнить топ-10 жанров в понедельник утром, можно сделать такие выводы:\n",
    "\n",
    "1. В Москве и Петербурге слушают похожую музыку. Единственное отличие — в московский рейтинг вошёл жанр “world”, а в петербургский — джаз и классика.\n",
    "\n",
    "2. В Москве пропущенных значений оказалось так много, что значение `'unknown'` заняло десятое место среди самых популярных жанров. Значит, пропущенные значения занимают существенную долю в данных и угрожают достоверности исследования.\n",
    "\n",
    "Вечер пятницы не меняет эту картину. Некоторые жанры поднимаются немного выше, другие спускаются, но в целом топ-10 остаётся тем же самым.\n",
    "\n",
    "Таким образом, вторая гипотеза подтвердилась лишь частично:\n",
    "* Пользователи слушают похожую музыку в начале недели и в конце.\n",
    "* Разница между Москвой и Петербургом не слишком выражена. В Москве чаще слушают русскую популярную музыку, в Петербурге — джаз.\n",
    "\n",
    "Однако пропуски в данных ставят под сомнение этот результат. В Москве их так много, что рейтинг топ-10 мог бы выглядеть иначе, если бы не утерянные  данные о жанрах."
   ]
  },
  {
   "cell_type": "markdown",
   "metadata": {
    "id": "JolODAqr_Zcu"
   },
   "source": [
    "### Жанровые предпочтения в Москве и Петербурге\n",
    "\n",
    "Гипотеза: Петербург — столица рэпа, музыку этого жанра там слушают чаще, чем в Москве.  А Москва — город контрастов, в котором, тем не менее, преобладает поп-музыка."
   ]
  },
  {
   "cell_type": "markdown",
   "metadata": {
    "id": "DlegSvaT_Zcu"
   },
   "source": [
    "Сгруппируйте таблицу `moscow_general` по жанру и посчитайте прослушивания треков каждого жанра методом `count()`. Затем отсортируйте результат в порядке убывания и сохраните его в таблице `moscow_genres`."
   ]
  },
  {
   "cell_type": "code",
   "execution_count": 35,
   "metadata": {
    "id": "r19lIPke_Zcu"
   },
   "outputs": [],
   "source": [
    "moscow_genres = moscow_general.groupby('genre')['genre'].count().sort_values(ascending=False) # одной строкой: группировка таблицы moscow_general по столбцу 'genre', подсчёт числа значений 'genre' в этой группировке методом count(), сортировка получившегося Series в порядке убывания и сохранение в moscow_genres"
   ]
  },
  {
   "cell_type": "markdown",
   "metadata": {},
   "source": [
    "<div class=\"alert alert-info\">\n",
    "<b>Комментарий студента:</b>\n",
    "<br>Тут немного не понял, почему надо писать код одной строкой\n",
    "</div>"
   ]
  },
  {
   "cell_type": "markdown",
   "metadata": {},
   "source": [
    "<div class=\"alert alert-warning\">\n",
    "<b>⚠️ Комментарий ревьюера v2:</b> \n",
    "<br>Тут можно и в две всё написать) Это не будет ошибкой\n",
    "</div>"
   ]
  },
  {
   "cell_type": "markdown",
   "metadata": {
    "id": "6kMuomxTiIr8"
   },
   "source": [
    "Выведите на экран первые десять строк `moscow_genres`:"
   ]
  },
  {
   "cell_type": "code",
   "execution_count": 36,
   "metadata": {
    "id": "WhCSooF8_Zcv"
   },
   "outputs": [
    {
     "data": {
      "text/plain": [
       "genre\n",
       "pop            5892\n",
       "dance          4435\n",
       "rock           3965\n",
       "electronic     3786\n",
       "hiphop         2096\n",
       "classical      1616\n",
       "world          1432\n",
       "alternative    1379\n",
       "ruspop         1372\n",
       "rusrap         1161\n",
       "Name: genre, dtype: int64"
      ]
     },
     "execution_count": 36,
     "metadata": {},
     "output_type": "execute_result"
    }
   ],
   "source": [
    "moscow_genres.head(10) # просмотр первых 10 строк moscow_genres"
   ]
  },
  {
   "cell_type": "markdown",
   "metadata": {
    "id": "cnPG2vnN_Zcv"
   },
   "source": [
    "Теперь повторите то же и для Петербурга.\n",
    "\n",
    "Сгруппируйте таблицу `spb_general` по жанру. Посчитайте прослушивания треков каждого жанра. Результат отсортируйте в порядке убывания и сохраните в таблице `spb_genres`:\n"
   ]
  },
  {
   "cell_type": "code",
   "execution_count": 37,
   "metadata": {
    "id": "gluLIpE7_Zcv"
   },
   "outputs": [],
   "source": [
    "spb_genres = spb_general.groupby('genre')['genre'].count().sort_values(ascending=False) # одной строкой: группировка таблицы spb_general по столбцу 'genre', подсчёт числа значений 'genre' в этой группировке методом count(), сортировка получившегося Series в порядке убывания и сохранение в spb_genres"
   ]
  },
  {
   "cell_type": "markdown",
   "metadata": {
    "id": "5Doha_ODgyQ8"
   },
   "source": [
    "Выведите на экран первые десять строк `spb_genres`:"
   ]
  },
  {
   "cell_type": "code",
   "execution_count": 38,
   "metadata": {
    "id": "uaGJHjVU_Zcv"
   },
   "outputs": [
    {
     "data": {
      "text/plain": [
       "genre\n",
       "pop            2431\n",
       "dance          1932\n",
       "rock           1879\n",
       "electronic     1736\n",
       "hiphop          960\n",
       "alternative     649\n",
       "classical       646\n",
       "rusrap          564\n",
       "ruspop          538\n",
       "world           515\n",
       "Name: genre, dtype: int64"
      ]
     },
     "execution_count": 38,
     "metadata": {},
     "output_type": "execute_result"
    }
   ],
   "source": [
    "spb_genres.head(10) # просмотр первых 10 строк spb_genres"
   ]
  },
  {
   "cell_type": "markdown",
   "metadata": {
    "id": "RY51YJYu_Zcv"
   },
   "source": [
    "**Выводы**"
   ]
  },
  {
   "cell_type": "markdown",
   "metadata": {
    "id": "nVhnJEm__Zcv"
   },
   "source": [
    "Гипотеза частично подтвердилась:\n",
    "* Поп-музыка — самый популярный жанр в Москве, как и предполагала гипотеза. Более того, в топ-10 жанров встречается близкий жанр — русская популярная музыка.\n",
    "* Вопреки ожиданиям, рэп одинаково популярен в Москве и Петербурге. \n"
   ]
  },
  {
   "cell_type": "markdown",
   "metadata": {},
   "source": [
    "<div class=\"alert alert-success\">\n",
    "<b>✔️ Комментарий ревьюера:</b> \n",
    "<br>Отлично, с жанровыми предпочтениями тоже разобрались.\n",
    "</div>"
   ]
  },
  {
   "cell_type": "markdown",
   "metadata": {
    "id": "ykKQ0N65_Zcv"
   },
   "source": [
    "## Итоги исследования"
   ]
  },
  {
   "cell_type": "markdown",
   "metadata": {
    "id": "tjUwbHb3_Zcv"
   },
   "source": [
    "Вы проверили три гипотезы и установили:\n",
    "\n",
    "1. День недели по-разному влияет на активность пользователей в Москве и Петербурге. \n",
    "\n",
    "Первая гипотеза полностью подтвердилась.\n",
    "\n",
    "2. Музыкальные предпочтения не сильно меняются в течение недели — будь то Москва или Петербург. Небольшие различия заметны в начале недели, по понедельникам:\n",
    "* в Москве слушают музыку жанра “world”,\n",
    "* в Петербурге — джаз и классику.\n",
    "\n",
    "Таким образом, вторая гипотеза подтвердилась лишь отчасти. Этот результат мог оказаться иным, если бы не пропуски в данных.\n",
    "\n",
    "3. Во вкусах пользователей Москвы и Петербурга больше общего чем различий. Вопреки ожиданиям, предпочтения жанров в Петербурге напоминают московские.\n",
    "\n",
    "Третья гипотеза не подтвердилась. Если различия в предпочтениях и существуют, на основной массе пользователей они незаметны.\n",
    "\n",
    "**На практике исследования содержат проверки статистических гипотез.**\n",
    "Из данных одного сервиса не всегда можно сделать вывод о всех жителях города.\n",
    "Проверки статистических гипотез покажут, насколько они достоверны, исходя из имеющихся данных. \n",
    "С методами проверок гипотез вы ещё познакомитесь в следующих темах."
   ]
  },
  {
   "cell_type": "markdown",
   "metadata": {},
   "source": [
    "<div class=\"alert alert-success\">\n",
    "<b>✔️ Итоговый комментарий ревьюера:</b>\n",
    "<br>Я бы мог принять твою работу с первого раза, но хочу дать тебе возможность задать мне вопросы) Если вопросов нет, то я с радостью приму проект)\n",
    "</div>"
   ]
  },
  {
   "cell_type": "markdown",
   "metadata": {},
   "source": [
    "<div class=\"alert alert-success\">\n",
    "<b>✔️ Итоговый комментарий ревьюера v2:</b>\n",
    "<br>У тебя отличная работа! Все правки выполнены ✅ \n",
    "<br>Ты продемонстрировал владение базовыми методами pandas, которые очень пригодятся тебе в будущих проектах. Желаю удачи в дальнейшем обучении! 😉\n",
    "</div>"
   ]
  }
 ],
 "metadata": {
  "ExecuteTimeLog": [
   {
    "duration": 553,
    "start_time": "2022-01-21T14:18:45.913Z"
   },
   {
    "duration": 312,
    "start_time": "2022-01-21T14:20:44.516Z"
   },
   {
    "duration": 331,
    "start_time": "2022-01-21T14:20:53.202Z"
   },
   {
    "duration": 2,
    "start_time": "2022-01-21T14:21:08.248Z"
   },
   {
    "duration": 122,
    "start_time": "2022-01-21T14:21:10.743Z"
   },
   {
    "duration": 16,
    "start_time": "2022-01-21T14:21:44.761Z"
   },
   {
    "duration": 23,
    "start_time": "2022-01-21T14:22:23.507Z"
   },
   {
    "duration": 235,
    "start_time": "2022-01-21T14:27:24.924Z"
   },
   {
    "duration": 239,
    "start_time": "2022-01-21T14:27:36.775Z"
   },
   {
    "duration": 3,
    "start_time": "2022-01-21T14:27:43.866Z"
   },
   {
    "duration": 21,
    "start_time": "2022-01-21T14:31:57.991Z"
   },
   {
    "duration": 3,
    "start_time": "2022-01-21T14:32:12.438Z"
   },
   {
    "duration": 20,
    "start_time": "2022-01-21T14:32:48.544Z"
   },
   {
    "duration": 3,
    "start_time": "2022-01-21T14:32:50.416Z"
   },
   {
    "duration": 23,
    "start_time": "2022-01-21T14:33:17.493Z"
   },
   {
    "duration": 16,
    "start_time": "2022-01-21T14:35:06.961Z"
   },
   {
    "duration": 22,
    "start_time": "2022-01-21T14:35:26.475Z"
   },
   {
    "duration": 11,
    "start_time": "2022-01-21T14:37:07.337Z"
   },
   {
    "duration": 23,
    "start_time": "2022-01-21T14:37:29.686Z"
   },
   {
    "duration": 57,
    "start_time": "2022-01-21T14:38:03.225Z"
   },
   {
    "duration": 284,
    "start_time": "2022-01-21T14:45:30.887Z"
   },
   {
    "duration": 57,
    "start_time": "2022-01-21T14:47:36.533Z"
   },
   {
    "duration": 46,
    "start_time": "2022-01-21T14:47:40.458Z"
   },
   {
    "duration": 9,
    "start_time": "2022-01-21T14:49:04.698Z"
   },
   {
    "duration": 251,
    "start_time": "2022-01-21T14:55:52.291Z"
   },
   {
    "duration": 104,
    "start_time": "2022-01-21T14:56:19.795Z"
   },
   {
    "duration": 36,
    "start_time": "2022-01-21T14:57:47.058Z"
   },
   {
    "duration": 37,
    "start_time": "2022-01-21T14:57:51.507Z"
   },
   {
    "duration": 3000,
    "start_time": "2022-01-21T14:58:22.449Z"
   },
   {
    "duration": 3090,
    "start_time": "2022-01-21T14:58:25.669Z"
   },
   {
    "duration": 38,
    "start_time": "2022-01-21T14:59:01.231Z"
   },
   {
    "duration": 42,
    "start_time": "2022-01-21T15:00:16.662Z"
   },
   {
    "duration": 3,
    "start_time": "2022-01-21T15:04:11.668Z"
   },
   {
    "duration": 6,
    "start_time": "2022-01-21T15:05:56.876Z"
   },
   {
    "duration": 3221,
    "start_time": "2022-01-21T15:06:11.556Z"
   },
   {
    "duration": 3304,
    "start_time": "2022-01-21T15:06:57.091Z"
   },
   {
    "duration": 3264,
    "start_time": "2022-01-21T15:07:47.530Z"
   },
   {
    "duration": 3,
    "start_time": "2022-01-21T15:08:08.558Z"
   },
   {
    "duration": 3367,
    "start_time": "2022-01-21T15:08:39.613Z"
   },
   {
    "duration": 4336,
    "start_time": "2022-01-21T15:09:41.770Z"
   },
   {
    "duration": 3310,
    "start_time": "2022-01-21T15:11:39.793Z"
   },
   {
    "duration": 3362,
    "start_time": "2022-01-21T15:12:26.386Z"
   },
   {
    "duration": 3712,
    "start_time": "2022-01-21T15:13:23.113Z"
   },
   {
    "duration": 2,
    "start_time": "2022-01-21T15:14:25.342Z"
   },
   {
    "duration": 3535,
    "start_time": "2022-01-21T15:14:27.921Z"
   },
   {
    "duration": 3337,
    "start_time": "2022-01-21T15:14:47.193Z"
   },
   {
    "duration": 3041,
    "start_time": "2022-01-21T15:17:20.743Z"
   },
   {
    "duration": 6,
    "start_time": "2022-01-21T15:19:40.449Z"
   },
   {
    "duration": 3114,
    "start_time": "2022-01-21T15:20:06.619Z"
   },
   {
    "duration": 3225,
    "start_time": "2022-01-21T15:20:50.765Z"
   },
   {
    "duration": 3492,
    "start_time": "2022-01-21T15:21:23.295Z"
   },
   {
    "duration": 3210,
    "start_time": "2022-01-21T15:21:30.056Z"
   },
   {
    "duration": 7,
    "start_time": "2022-01-21T15:21:52.687Z"
   },
   {
    "duration": 2,
    "start_time": "2022-01-21T15:22:01.400Z"
   },
   {
    "duration": 3202,
    "start_time": "2022-01-21T15:22:06.431Z"
   },
   {
    "duration": 3245,
    "start_time": "2022-01-21T15:23:21.359Z"
   },
   {
    "duration": 3313,
    "start_time": "2022-01-21T15:23:33.684Z"
   },
   {
    "duration": 3415,
    "start_time": "2022-01-21T15:23:43.413Z"
   },
   {
    "duration": 3033,
    "start_time": "2022-01-21T15:25:00.829Z"
   },
   {
    "duration": 3175,
    "start_time": "2022-01-21T15:25:44.601Z"
   },
   {
    "duration": 237,
    "start_time": "2022-01-21T15:26:18.702Z"
   },
   {
    "duration": 218,
    "start_time": "2022-01-21T15:27:32.048Z"
   },
   {
    "duration": 3,
    "start_time": "2022-01-21T15:27:36.585Z"
   },
   {
    "duration": 228,
    "start_time": "2022-01-21T15:27:43.208Z"
   },
   {
    "duration": 219,
    "start_time": "2022-01-21T15:27:49.174Z"
   },
   {
    "duration": 3,
    "start_time": "2022-01-21T15:27:55.723Z"
   },
   {
    "duration": 132,
    "start_time": "2022-01-21T15:27:57.908Z"
   },
   {
    "duration": 10,
    "start_time": "2022-01-21T15:27:59.726Z"
   },
   {
    "duration": 23,
    "start_time": "2022-01-21T15:28:03.100Z"
   },
   {
    "duration": 4,
    "start_time": "2022-01-21T15:28:19.284Z"
   },
   {
    "duration": 16,
    "start_time": "2022-01-21T15:28:24.378Z"
   },
   {
    "duration": 6,
    "start_time": "2022-01-21T15:28:26.465Z"
   },
   {
    "duration": 23,
    "start_time": "2022-01-21T15:28:29.305Z"
   },
   {
    "duration": 18,
    "start_time": "2022-01-21T15:28:32.178Z"
   },
   {
    "duration": 25,
    "start_time": "2022-01-21T15:28:34.092Z"
   },
   {
    "duration": 52,
    "start_time": "2022-01-21T15:28:36.858Z"
   },
   {
    "duration": 61,
    "start_time": "2022-01-21T15:28:38.887Z"
   },
   {
    "duration": 47,
    "start_time": "2022-01-21T15:28:41.627Z"
   },
   {
    "duration": 45,
    "start_time": "2022-01-21T15:29:00.192Z"
   },
   {
    "duration": 3,
    "start_time": "2022-01-21T15:29:09.472Z"
   },
   {
    "duration": 3324,
    "start_time": "2022-01-21T15:29:18.196Z"
   },
   {
    "duration": 2,
    "start_time": "2022-01-21T15:29:49.053Z"
   },
   {
    "duration": 3281,
    "start_time": "2022-01-21T15:29:52.900Z"
   },
   {
    "duration": 3245,
    "start_time": "2022-01-21T15:30:05.973Z"
   },
   {
    "duration": 3,
    "start_time": "2022-01-21T15:30:41.691Z"
   },
   {
    "duration": 131,
    "start_time": "2022-01-21T15:30:47.367Z"
   },
   {
    "duration": 10,
    "start_time": "2022-01-21T15:30:49.206Z"
   },
   {
    "duration": 26,
    "start_time": "2022-01-21T15:30:52.304Z"
   },
   {
    "duration": 5,
    "start_time": "2022-01-21T15:30:55.951Z"
   },
   {
    "duration": 20,
    "start_time": "2022-01-21T15:30:58.285Z"
   },
   {
    "duration": 4,
    "start_time": "2022-01-21T15:31:00.025Z"
   },
   {
    "duration": 23,
    "start_time": "2022-01-21T15:31:02.297Z"
   },
   {
    "duration": 19,
    "start_time": "2022-01-21T15:31:05.844Z"
   },
   {
    "duration": 22,
    "start_time": "2022-01-21T15:31:07.959Z"
   },
   {
    "duration": 55,
    "start_time": "2022-01-21T15:31:10.096Z"
   },
   {
    "duration": 61,
    "start_time": "2022-01-21T15:31:13.134Z"
   },
   {
    "duration": 63,
    "start_time": "2022-01-21T15:31:15.225Z"
   },
   {
    "duration": 49,
    "start_time": "2022-01-21T15:31:18.040Z"
   },
   {
    "duration": 3,
    "start_time": "2022-01-21T15:31:27.448Z"
   },
   {
    "duration": 4309,
    "start_time": "2022-01-21T15:31:30.300Z"
   },
   {
    "duration": 240,
    "start_time": "2022-01-21T15:34:30.013Z"
   },
   {
    "duration": 87,
    "start_time": "2022-01-21T15:34:52.053Z"
   },
   {
    "duration": 3789,
    "start_time": "2022-01-21T15:35:11.620Z"
   },
   {
    "duration": 3467,
    "start_time": "2022-01-21T15:38:44.787Z"
   },
   {
    "duration": 3,
    "start_time": "2022-01-21T15:38:56.780Z"
   },
   {
    "duration": 124,
    "start_time": "2022-01-21T15:38:58.739Z"
   },
   {
    "duration": 11,
    "start_time": "2022-01-21T15:39:01.101Z"
   },
   {
    "duration": 24,
    "start_time": "2022-01-21T15:39:03.121Z"
   },
   {
    "duration": 5,
    "start_time": "2022-01-21T15:39:08.506Z"
   },
   {
    "duration": 21,
    "start_time": "2022-01-21T15:39:11.087Z"
   },
   {
    "duration": 4,
    "start_time": "2022-01-21T15:39:13.315Z"
   },
   {
    "duration": 24,
    "start_time": "2022-01-21T15:39:15.210Z"
   },
   {
    "duration": 16,
    "start_time": "2022-01-21T15:39:17.624Z"
   },
   {
    "duration": 23,
    "start_time": "2022-01-21T15:39:18.982Z"
   },
   {
    "duration": 51,
    "start_time": "2022-01-21T15:39:21.099Z"
   },
   {
    "duration": 49,
    "start_time": "2022-01-21T15:39:23.088Z"
   },
   {
    "duration": 42,
    "start_time": "2022-01-21T15:39:25.665Z"
   },
   {
    "duration": 127,
    "start_time": "2022-01-21T15:39:49.707Z"
   },
   {
    "duration": 20,
    "start_time": "2022-01-21T15:39:53.278Z"
   },
   {
    "duration": 7,
    "start_time": "2022-01-21T15:40:19.367Z"
   },
   {
    "duration": 2,
    "start_time": "2022-01-21T15:41:59.737Z"
   },
   {
    "duration": 19,
    "start_time": "2022-01-21T15:42:39.129Z"
   },
   {
    "duration": 38,
    "start_time": "2022-01-21T15:43:41.376Z"
   },
   {
    "duration": 39,
    "start_time": "2022-01-21T15:43:49.199Z"
   },
   {
    "duration": 40,
    "start_time": "2022-01-21T15:44:59.076Z"
   },
   {
    "duration": 2,
    "start_time": "2022-01-21T15:45:51.750Z"
   },
   {
    "duration": 119,
    "start_time": "2022-01-21T15:45:53.757Z"
   },
   {
    "duration": 9,
    "start_time": "2022-01-21T15:45:55.297Z"
   },
   {
    "duration": 22,
    "start_time": "2022-01-21T15:45:57.748Z"
   },
   {
    "duration": 4,
    "start_time": "2022-01-21T15:46:00.906Z"
   },
   {
    "duration": 13,
    "start_time": "2022-01-21T15:46:03.293Z"
   },
   {
    "duration": 3,
    "start_time": "2022-01-21T15:46:04.858Z"
   },
   {
    "duration": 21,
    "start_time": "2022-01-21T15:46:06.632Z"
   },
   {
    "duration": 26,
    "start_time": "2022-01-21T15:46:08.788Z"
   },
   {
    "duration": 34,
    "start_time": "2022-01-21T15:46:10.721Z"
   },
   {
    "duration": 49,
    "start_time": "2022-01-21T15:46:12.766Z"
   },
   {
    "duration": 75,
    "start_time": "2022-01-21T15:46:14.952Z"
   },
   {
    "duration": 48,
    "start_time": "2022-01-21T15:46:17.021Z"
   },
   {
    "duration": 42,
    "start_time": "2022-01-21T15:46:19.419Z"
   },
   {
    "duration": 3,
    "start_time": "2022-01-21T15:47:12.192Z"
   },
   {
    "duration": 19,
    "start_time": "2022-01-21T15:47:20.045Z"
   },
   {
    "duration": 7,
    "start_time": "2022-01-21T15:47:42.187Z"
   },
   {
    "duration": 39,
    "start_time": "2022-01-21T15:48:15.938Z"
   },
   {
    "duration": 3,
    "start_time": "2022-01-21T15:49:14.146Z"
   },
   {
    "duration": 13,
    "start_time": "2022-01-21T15:49:17.308Z"
   },
   {
    "duration": 39,
    "start_time": "2022-01-21T15:49:30.407Z"
   },
   {
    "duration": 29,
    "start_time": "2022-01-21T15:52:17.672Z"
   },
   {
    "duration": 11,
    "start_time": "2022-01-21T15:52:59.787Z"
   },
   {
    "duration": 9,
    "start_time": "2022-01-21T15:55:48.483Z"
   },
   {
    "duration": 15,
    "start_time": "2022-01-21T16:17:33.618Z"
   },
   {
    "duration": 3,
    "start_time": "2022-01-21T16:18:24.746Z"
   },
   {
    "duration": 14,
    "start_time": "2022-01-21T16:18:27.119Z"
   },
   {
    "duration": 20,
    "start_time": "2022-01-21T16:23:10.869Z"
   },
   {
    "duration": 231,
    "start_time": "2022-01-21T17:15:48.579Z"
   },
   {
    "duration": 285,
    "start_time": "2022-01-21T17:16:40.271Z"
   },
   {
    "duration": 268,
    "start_time": "2022-01-21T17:18:00.209Z"
   },
   {
    "duration": 4,
    "start_time": "2022-01-21T17:18:27.560Z"
   },
   {
    "duration": 235,
    "start_time": "2022-01-21T17:18:33.133Z"
   },
   {
    "duration": 14,
    "start_time": "2022-01-21T17:18:41.418Z"
   },
   {
    "duration": 15,
    "start_time": "2022-01-21T17:19:13.765Z"
   },
   {
    "duration": 16,
    "start_time": "2022-01-21T17:20:47.621Z"
   },
   {
    "duration": 10,
    "start_time": "2022-01-21T17:20:49.400Z"
   },
   {
    "duration": 12,
    "start_time": "2022-01-21T17:21:09.475Z"
   },
   {
    "duration": 14,
    "start_time": "2022-01-21T17:21:14.124Z"
   },
   {
    "duration": 14,
    "start_time": "2022-01-21T17:21:16.896Z"
   },
   {
    "duration": 13,
    "start_time": "2022-01-21T17:21:17.495Z"
   },
   {
    "duration": 224,
    "start_time": "2022-01-21T17:27:41.542Z"
   },
   {
    "duration": 241,
    "start_time": "2022-01-21T17:29:54.803Z"
   },
   {
    "duration": 8,
    "start_time": "2022-01-21T17:31:12.055Z"
   },
   {
    "duration": 15,
    "start_time": "2022-01-21T17:37:23.912Z"
   },
   {
    "duration": 9,
    "start_time": "2022-01-21T17:37:24.667Z"
   },
   {
    "duration": 16,
    "start_time": "2022-01-21T17:37:44.774Z"
   },
   {
    "duration": 14,
    "start_time": "2022-01-21T17:38:23.033Z"
   },
   {
    "duration": 18,
    "start_time": "2022-01-21T17:39:18.838Z"
   },
   {
    "duration": 15,
    "start_time": "2022-01-21T17:39:19.993Z"
   },
   {
    "duration": 299,
    "start_time": "2022-01-21T18:01:27.544Z"
   },
   {
    "duration": 4,
    "start_time": "2022-01-21T18:01:34.004Z"
   },
   {
    "duration": 217,
    "start_time": "2022-01-21T18:01:36.172Z"
   },
   {
    "duration": 4,
    "start_time": "2022-01-21T18:02:22.572Z"
   },
   {
    "duration": 237,
    "start_time": "2022-01-21T18:02:23.627Z"
   },
   {
    "duration": 498,
    "start_time": "2022-01-21T18:02:47.410Z"
   },
   {
    "duration": 4,
    "start_time": "2022-01-21T18:03:11.504Z"
   },
   {
    "duration": 500,
    "start_time": "2022-01-21T18:03:12.968Z"
   },
   {
    "duration": 3,
    "start_time": "2022-01-21T18:06:03.513Z"
   },
   {
    "duration": 468,
    "start_time": "2022-01-21T18:06:05.667Z"
   },
   {
    "duration": 4,
    "start_time": "2022-01-21T18:06:31.323Z"
   },
   {
    "duration": 496,
    "start_time": "2022-01-21T18:06:32.017Z"
   },
   {
    "duration": 38,
    "start_time": "2022-01-21T18:07:29.199Z"
   },
   {
    "duration": 4,
    "start_time": "2022-01-21T18:08:38.654Z"
   },
   {
    "duration": 490,
    "start_time": "2022-01-21T18:08:39.618Z"
   },
   {
    "duration": 4,
    "start_time": "2022-01-21T18:09:32.816Z"
   },
   {
    "duration": 21,
    "start_time": "2022-01-21T18:09:33.584Z"
   },
   {
    "duration": 16,
    "start_time": "2022-01-21T18:09:51.475Z"
   },
   {
    "duration": 23,
    "start_time": "2022-01-21T18:10:19.026Z"
   },
   {
    "duration": 17,
    "start_time": "2022-01-21T18:10:22.352Z"
   },
   {
    "duration": 11,
    "start_time": "2022-01-21T18:11:15.452Z"
   },
   {
    "duration": 9,
    "start_time": "2022-01-21T18:11:15.938Z"
   },
   {
    "duration": 4,
    "start_time": "2022-01-21T18:11:16.953Z"
   },
   {
    "duration": 3970,
    "start_time": "2022-01-21T18:11:18.273Z"
   },
   {
    "duration": 275,
    "start_time": "2022-01-21T18:11:21.969Z"
   },
   {
    "duration": 269,
    "start_time": "2022-01-21T18:11:21.976Z"
   },
   {
    "duration": 267,
    "start_time": "2022-01-21T18:11:21.979Z"
   },
   {
    "duration": 3165,
    "start_time": "2022-01-21T18:11:39.652Z"
   },
   {
    "duration": 298,
    "start_time": "2022-01-21T18:11:42.521Z"
   },
   {
    "duration": 10,
    "start_time": "2022-01-21T18:12:06.127Z"
   },
   {
    "duration": 10,
    "start_time": "2022-01-21T18:12:07.278Z"
   },
   {
    "duration": 3,
    "start_time": "2022-01-21T18:12:08.300Z"
   },
   {
    "duration": 21,
    "start_time": "2022-01-21T18:12:09.319Z"
   },
   {
    "duration": 4,
    "start_time": "2022-01-21T18:14:21.060Z"
   },
   {
    "duration": 465,
    "start_time": "2022-01-21T18:14:22.001Z"
   },
   {
    "duration": 4,
    "start_time": "2022-01-21T18:16:55.947Z"
   },
   {
    "duration": 485,
    "start_time": "2022-01-21T18:16:56.835Z"
   },
   {
    "duration": 6,
    "start_time": "2022-01-21T18:18:03.361Z"
   },
   {
    "duration": 18,
    "start_time": "2022-01-21T18:18:04.200Z"
   },
   {
    "duration": 4,
    "start_time": "2022-01-21T18:18:33.323Z"
   },
   {
    "duration": 450,
    "start_time": "2022-01-21T18:18:34.054Z"
   },
   {
    "duration": 3,
    "start_time": "2022-01-21T18:18:49.672Z"
   },
   {
    "duration": 20,
    "start_time": "2022-01-21T18:18:50.469Z"
   },
   {
    "duration": 14,
    "start_time": "2022-01-21T18:18:51.357Z"
   },
   {
    "duration": 19,
    "start_time": "2022-01-21T18:18:52.514Z"
   },
   {
    "duration": 14,
    "start_time": "2022-01-21T18:18:57.213Z"
   },
   {
    "duration": 17,
    "start_time": "2022-01-21T18:19:33.032Z"
   },
   {
    "duration": 9,
    "start_time": "2022-01-21T18:19:33.337Z"
   },
   {
    "duration": 4,
    "start_time": "2022-01-21T18:19:34.111Z"
   },
   {
    "duration": 3436,
    "start_time": "2022-01-21T18:19:35.065Z"
   },
   {
    "duration": 245,
    "start_time": "2022-01-21T18:19:38.258Z"
   },
   {
    "duration": 11,
    "start_time": "2022-01-21T18:19:58.412Z"
   },
   {
    "duration": 9,
    "start_time": "2022-01-21T18:19:58.855Z"
   },
   {
    "duration": 4,
    "start_time": "2022-01-21T18:19:59.654Z"
   },
   {
    "duration": 18,
    "start_time": "2022-01-21T18:20:00.902Z"
   },
   {
    "duration": 12,
    "start_time": "2022-01-21T18:20:01.490Z"
   },
   {
    "duration": 18,
    "start_time": "2022-01-21T18:20:01.861Z"
   },
   {
    "duration": 12,
    "start_time": "2022-01-21T18:20:02.449Z"
   },
   {
    "duration": 5,
    "start_time": "2022-01-21T18:20:27.203Z"
   },
   {
    "duration": 20,
    "start_time": "2022-01-21T18:20:27.961Z"
   },
   {
    "duration": 4,
    "start_time": "2022-01-21T18:22:49.825Z"
   },
   {
    "duration": 791,
    "start_time": "2022-01-21T18:22:51.425Z"
   },
   {
    "duration": 4,
    "start_time": "2022-01-21T18:25:41.889Z"
   },
   {
    "duration": 485,
    "start_time": "2022-01-21T18:25:43.554Z"
   },
   {
    "duration": 4,
    "start_time": "2022-01-21T18:26:16.477Z"
   },
   {
    "duration": 29,
    "start_time": "2022-01-21T18:26:17.310Z"
   },
   {
    "duration": 5,
    "start_time": "2022-01-21T18:26:22.916Z"
   },
   {
    "duration": 25,
    "start_time": "2022-01-21T18:26:23.663Z"
   },
   {
    "duration": 21,
    "start_time": "2022-01-21T18:26:24.215Z"
   },
   {
    "duration": 24,
    "start_time": "2022-01-21T18:26:24.629Z"
   },
   {
    "duration": 20,
    "start_time": "2022-01-21T18:26:25.115Z"
   },
   {
    "duration": 4,
    "start_time": "2022-01-21T18:30:59.788Z"
   },
   {
    "duration": 14,
    "start_time": "2022-01-21T18:31:00.530Z"
   },
   {
    "duration": 4,
    "start_time": "2022-01-21T18:34:03.526Z"
   },
   {
    "duration": 19,
    "start_time": "2022-01-21T18:34:04.251Z"
   },
   {
    "duration": 13,
    "start_time": "2022-01-21T18:34:04.791Z"
   },
   {
    "duration": 19,
    "start_time": "2022-01-21T18:34:05.211Z"
   },
   {
    "duration": 13,
    "start_time": "2022-01-21T18:34:05.641Z"
   },
   {
    "duration": 11,
    "start_time": "2022-01-21T18:34:52.938Z"
   },
   {
    "duration": 9,
    "start_time": "2022-01-21T18:34:54.354Z"
   },
   {
    "duration": 5,
    "start_time": "2022-01-21T18:34:55.344Z"
   },
   {
    "duration": 18,
    "start_time": "2022-01-21T18:34:56.257Z"
   },
   {
    "duration": 13,
    "start_time": "2022-01-21T18:34:56.917Z"
   },
   {
    "duration": 18,
    "start_time": "2022-01-21T18:34:57.228Z"
   },
   {
    "duration": 13,
    "start_time": "2022-01-21T18:34:57.534Z"
   },
   {
    "duration": 4,
    "start_time": "2022-01-21T18:35:29.917Z"
   },
   {
    "duration": 19,
    "start_time": "2022-01-21T18:35:30.700Z"
   },
   {
    "duration": 13,
    "start_time": "2022-01-21T18:35:31.534Z"
   },
   {
    "duration": 17,
    "start_time": "2022-01-21T18:35:31.822Z"
   },
   {
    "duration": 13,
    "start_time": "2022-01-21T18:35:32.153Z"
   },
   {
    "duration": 6,
    "start_time": "2022-01-21T18:37:43.318Z"
   },
   {
    "duration": 25,
    "start_time": "2022-01-21T18:37:44.001Z"
   },
   {
    "duration": 12,
    "start_time": "2022-01-21T18:37:52.483Z"
   },
   {
    "duration": 17,
    "start_time": "2022-01-21T18:37:54.536Z"
   },
   {
    "duration": 11,
    "start_time": "2022-01-21T18:37:55.058Z"
   },
   {
    "duration": 4,
    "start_time": "2022-01-21T18:38:07.132Z"
   },
   {
    "duration": 25,
    "start_time": "2022-01-21T18:38:07.886Z"
   },
   {
    "duration": 18,
    "start_time": "2022-01-21T18:38:08.498Z"
   },
   {
    "duration": 18,
    "start_time": "2022-01-21T18:38:08.815Z"
   },
   {
    "duration": 18,
    "start_time": "2022-01-21T18:38:09.145Z"
   },
   {
    "duration": 4,
    "start_time": "2022-01-21T18:38:16.598Z"
   },
   {
    "duration": 449,
    "start_time": "2022-01-21T18:38:17.348Z"
   },
   {
    "duration": 3,
    "start_time": "2022-01-21T18:38:29.523Z"
   },
   {
    "duration": 18,
    "start_time": "2022-01-21T18:38:30.206Z"
   },
   {
    "duration": 11,
    "start_time": "2022-01-21T18:38:30.568Z"
   },
   {
    "duration": 16,
    "start_time": "2022-01-21T18:38:30.903Z"
   },
   {
    "duration": 13,
    "start_time": "2022-01-21T18:38:31.267Z"
   },
   {
    "duration": 231,
    "start_time": "2022-01-21T21:33:03.085Z"
   },
   {
    "duration": 218,
    "start_time": "2022-01-21T21:33:14.491Z"
   },
   {
    "duration": 30,
    "start_time": "2022-01-21T21:34:06.652Z"
   },
   {
    "duration": 11,
    "start_time": "2022-01-21T21:34:28.897Z"
   },
   {
    "duration": 246,
    "start_time": "2022-01-21T21:36:22.276Z"
   },
   {
    "duration": 29,
    "start_time": "2022-01-21T21:36:44.261Z"
   },
   {
    "duration": 244,
    "start_time": "2022-01-21T21:37:09.804Z"
   },
   {
    "duration": 242,
    "start_time": "2022-01-21T21:37:22.480Z"
   },
   {
    "duration": 237,
    "start_time": "2022-01-21T21:41:03.969Z"
   },
   {
    "duration": 268,
    "start_time": "2022-01-21T21:41:22.041Z"
   },
   {
    "duration": 210,
    "start_time": "2022-01-21T21:43:36.756Z"
   },
   {
    "duration": 248,
    "start_time": "2022-01-21T21:43:45.330Z"
   },
   {
    "duration": 241,
    "start_time": "2022-01-21T21:45:21.567Z"
   },
   {
    "duration": 309,
    "start_time": "2022-01-21T21:45:42.730Z"
   },
   {
    "duration": 14,
    "start_time": "2022-01-21T21:45:51.202Z"
   },
   {
    "duration": 10,
    "start_time": "2022-01-21T21:45:52.384Z"
   },
   {
    "duration": 15,
    "start_time": "2022-01-21T21:46:09.543Z"
   },
   {
    "duration": 11,
    "start_time": "2022-01-21T21:46:10.688Z"
   },
   {
    "duration": 215,
    "start_time": "2022-01-21T21:47:28.969Z"
   },
   {
    "duration": 10,
    "start_time": "2022-01-21T21:48:06.001Z"
   },
   {
    "duration": 8,
    "start_time": "2022-01-21T21:48:06.973Z"
   },
   {
    "duration": 4,
    "start_time": "2022-01-21T21:48:07.965Z"
   },
   {
    "duration": 18,
    "start_time": "2022-01-21T21:48:09.300Z"
   },
   {
    "duration": 11,
    "start_time": "2022-01-21T21:48:09.917Z"
   },
   {
    "duration": 16,
    "start_time": "2022-01-21T21:48:10.225Z"
   },
   {
    "duration": 12,
    "start_time": "2022-01-21T21:48:10.549Z"
   },
   {
    "duration": 234,
    "start_time": "2022-01-21T21:48:14.948Z"
   },
   {
    "duration": 455,
    "start_time": "2022-01-21T21:49:22.608Z"
   },
   {
    "duration": 241,
    "start_time": "2022-01-21T21:50:28.057Z"
   },
   {
    "duration": 24,
    "start_time": "2022-01-21T21:51:22.043Z"
   },
   {
    "duration": 4,
    "start_time": "2022-01-21T21:51:23.513Z"
   },
   {
    "duration": 24,
    "start_time": "2022-01-21T21:51:37.198Z"
   },
   {
    "duration": 5,
    "start_time": "2022-01-21T21:51:38.013Z"
   },
   {
    "duration": 70,
    "start_time": "2022-01-21T21:53:17.770Z"
   },
   {
    "duration": 80,
    "start_time": "2022-01-21T21:53:43.959Z"
   },
   {
    "duration": 25,
    "start_time": "2022-01-21T21:53:58.305Z"
   },
   {
    "duration": 5,
    "start_time": "2022-01-21T21:53:59.463Z"
   },
   {
    "duration": 79,
    "start_time": "2022-01-21T21:54:00.809Z"
   },
   {
    "duration": 39,
    "start_time": "2022-01-21T21:55:03.378Z"
   },
   {
    "duration": 5,
    "start_time": "2022-01-21T21:55:06.985Z"
   },
   {
    "duration": 42,
    "start_time": "2022-01-21T21:55:31.602Z"
   },
   {
    "duration": 5,
    "start_time": "2022-01-21T21:55:32.568Z"
   },
   {
    "duration": 79,
    "start_time": "2022-01-21T21:55:33.557Z"
   },
   {
    "duration": 14,
    "start_time": "2022-01-21T21:56:10.282Z"
   },
   {
    "duration": 10,
    "start_time": "2022-01-21T21:56:15.698Z"
   },
   {
    "duration": 42,
    "start_time": "2022-01-21T21:56:21.376Z"
   },
   {
    "duration": 5,
    "start_time": "2022-01-21T21:56:22.463Z"
   },
   {
    "duration": 42,
    "start_time": "2022-01-21T21:57:49.865Z"
   },
   {
    "duration": 5,
    "start_time": "2022-01-21T21:57:50.860Z"
   },
   {
    "duration": 12,
    "start_time": "2022-01-21T21:57:51.695Z"
   },
   {
    "duration": 9,
    "start_time": "2022-01-21T21:57:52.553Z"
   },
   {
    "duration": 10,
    "start_time": "2022-01-21T21:58:06.983Z"
   },
   {
    "duration": 12,
    "start_time": "2022-01-21T21:58:22.380Z"
   },
   {
    "duration": 5,
    "start_time": "2022-01-21T21:58:42.791Z"
   },
   {
    "duration": 7,
    "start_time": "2022-01-21T21:59:06.119Z"
   },
   {
    "duration": 5,
    "start_time": "2022-01-21T21:59:12.902Z"
   },
   {
    "duration": 31,
    "start_time": "2022-01-21T21:59:56.887Z"
   },
   {
    "duration": 5,
    "start_time": "2022-01-21T21:59:57.768Z"
   },
   {
    "duration": 13,
    "start_time": "2022-01-21T22:00:08.899Z"
   },
   {
    "duration": 5,
    "start_time": "2022-01-21T22:00:10.200Z"
   },
   {
    "duration": 13,
    "start_time": "2022-01-21T22:01:05.273Z"
   },
   {
    "duration": 5,
    "start_time": "2022-01-21T22:01:06.150Z"
   },
   {
    "duration": 13,
    "start_time": "2022-01-21T22:01:16.828Z"
   },
   {
    "duration": 5,
    "start_time": "2022-01-21T22:01:17.680Z"
   },
   {
    "duration": 231,
    "start_time": "2022-01-21T22:02:01.876Z"
   },
   {
    "duration": 31,
    "start_time": "2022-01-21T22:03:13.803Z"
   },
   {
    "duration": 5,
    "start_time": "2022-01-21T22:03:14.644Z"
   },
   {
    "duration": 8,
    "start_time": "2022-01-21T22:03:25.494Z"
   },
   {
    "duration": 13,
    "start_time": "2022-01-21T22:03:26.679Z"
   },
   {
    "duration": 7,
    "start_time": "2022-01-21T22:04:26.385Z"
   },
   {
    "duration": 5,
    "start_time": "2022-01-21T22:04:27.601Z"
   },
   {
    "duration": 2,
    "start_time": "2022-01-21T22:05:32.112Z"
   },
   {
    "duration": 115,
    "start_time": "2022-01-21T22:05:34.141Z"
   },
   {
    "duration": 9,
    "start_time": "2022-01-21T22:05:36.197Z"
   },
   {
    "duration": 22,
    "start_time": "2022-01-21T22:05:38.520Z"
   },
   {
    "duration": 4,
    "start_time": "2022-01-21T22:05:42.534Z"
   },
   {
    "duration": 15,
    "start_time": "2022-01-21T22:05:45.284Z"
   },
   {
    "duration": 3,
    "start_time": "2022-01-21T22:05:48.149Z"
   },
   {
    "duration": 22,
    "start_time": "2022-01-21T22:05:52.892Z"
   },
   {
    "duration": 17,
    "start_time": "2022-01-21T22:05:56.371Z"
   },
   {
    "duration": 20,
    "start_time": "2022-01-21T22:05:59.307Z"
   },
   {
    "duration": 50,
    "start_time": "2022-01-21T22:06:03.016Z"
   },
   {
    "duration": 58,
    "start_time": "2022-01-21T22:06:07.337Z"
   },
   {
    "duration": 49,
    "start_time": "2022-01-21T22:06:11.027Z"
   },
   {
    "duration": 39,
    "start_time": "2022-01-21T22:06:14.358Z"
   },
   {
    "duration": 3,
    "start_time": "2022-01-21T22:06:18.820Z"
   },
   {
    "duration": 14,
    "start_time": "2022-01-21T22:06:26.462Z"
   },
   {
    "duration": 40,
    "start_time": "2022-01-21T22:06:31.053Z"
   },
   {
    "duration": 10,
    "start_time": "2022-01-21T22:06:42.889Z"
   },
   {
    "duration": 10,
    "start_time": "2022-01-21T22:06:45.179Z"
   },
   {
    "duration": 3,
    "start_time": "2022-01-21T22:06:49.371Z"
   },
   {
    "duration": 15,
    "start_time": "2022-01-21T22:06:53.193Z"
   },
   {
    "duration": 14,
    "start_time": "2022-01-21T22:06:55.813Z"
   },
   {
    "duration": 13,
    "start_time": "2022-01-21T22:06:57.196Z"
   },
   {
    "duration": 13,
    "start_time": "2022-01-21T22:06:57.864Z"
   },
   {
    "duration": 15,
    "start_time": "2022-01-21T22:06:58.468Z"
   },
   {
    "duration": 13,
    "start_time": "2022-01-21T22:06:59.000Z"
   },
   {
    "duration": 8,
    "start_time": "2022-01-21T22:07:01.794Z"
   },
   {
    "duration": 11,
    "start_time": "2022-01-21T22:07:07.130Z"
   },
   {
    "duration": 9,
    "start_time": "2022-01-21T22:07:07.715Z"
   },
   {
    "duration": 4,
    "start_time": "2022-01-21T22:07:08.797Z"
   },
   {
    "duration": 18,
    "start_time": "2022-01-21T22:07:14.220Z"
   },
   {
    "duration": 13,
    "start_time": "2022-01-21T22:07:14.884Z"
   },
   {
    "duration": 19,
    "start_time": "2022-01-21T22:07:15.520Z"
   },
   {
    "duration": 13,
    "start_time": "2022-01-21T22:07:16.131Z"
   },
   {
    "duration": 8,
    "start_time": "2022-01-21T22:07:20.155Z"
   },
   {
    "duration": 5,
    "start_time": "2022-01-21T22:07:21.355Z"
   },
   {
    "duration": 6,
    "start_time": "2022-01-21T22:07:23.397Z"
   },
   {
    "duration": 4,
    "start_time": "2022-01-21T22:07:24.642Z"
   },
   {
    "duration": 571,
    "start_time": "2022-01-27T06:51:03.765Z"
   },
   {
    "duration": 146,
    "start_time": "2022-01-27T06:51:04.338Z"
   },
   {
    "duration": 19,
    "start_time": "2022-01-27T06:51:04.489Z"
   },
   {
    "duration": 25,
    "start_time": "2022-01-27T06:51:04.510Z"
   },
   {
    "duration": 9,
    "start_time": "2022-01-27T06:51:04.537Z"
   },
   {
    "duration": 25,
    "start_time": "2022-01-27T06:51:04.548Z"
   },
   {
    "duration": 24,
    "start_time": "2022-01-27T06:51:04.576Z"
   },
   {
    "duration": 25,
    "start_time": "2022-01-27T06:51:04.602Z"
   },
   {
    "duration": 19,
    "start_time": "2022-01-27T06:51:04.629Z"
   },
   {
    "duration": 51,
    "start_time": "2022-01-27T06:51:04.650Z"
   },
   {
    "duration": 61,
    "start_time": "2022-01-27T06:51:04.703Z"
   },
   {
    "duration": 86,
    "start_time": "2022-01-27T06:51:04.766Z"
   },
   {
    "duration": 61,
    "start_time": "2022-01-27T06:51:04.854Z"
   },
   {
    "duration": 44,
    "start_time": "2022-01-27T06:51:04.916Z"
   },
   {
    "duration": 3,
    "start_time": "2022-01-27T06:51:04.962Z"
   },
   {
    "duration": 36,
    "start_time": "2022-01-27T06:51:04.966Z"
   },
   {
    "duration": 45,
    "start_time": "2022-01-27T06:51:05.004Z"
   },
   {
    "duration": 10,
    "start_time": "2022-01-27T06:51:05.051Z"
   },
   {
    "duration": 37,
    "start_time": "2022-01-27T06:51:05.063Z"
   },
   {
    "duration": 3,
    "start_time": "2022-01-27T06:51:05.102Z"
   },
   {
    "duration": 21,
    "start_time": "2022-01-27T06:51:05.107Z"
   },
   {
    "duration": 15,
    "start_time": "2022-01-27T06:51:05.131Z"
   },
   {
    "duration": 16,
    "start_time": "2022-01-27T06:51:05.148Z"
   },
   {
    "duration": 40,
    "start_time": "2022-01-27T06:51:05.165Z"
   },
   {
    "duration": 17,
    "start_time": "2022-01-27T06:51:05.207Z"
   },
   {
    "duration": 14,
    "start_time": "2022-01-27T06:51:05.226Z"
   },
   {
    "duration": 9,
    "start_time": "2022-01-27T06:51:05.241Z"
   },
   {
    "duration": 13,
    "start_time": "2022-01-27T06:51:05.252Z"
   },
   {
    "duration": 39,
    "start_time": "2022-01-27T06:51:05.267Z"
   },
   {
    "duration": 4,
    "start_time": "2022-01-27T06:51:05.308Z"
   },
   {
    "duration": 23,
    "start_time": "2022-01-27T06:51:05.314Z"
   },
   {
    "duration": 13,
    "start_time": "2022-01-27T06:51:05.339Z"
   },
   {
    "duration": 20,
    "start_time": "2022-01-27T06:51:05.353Z"
   },
   {
    "duration": 14,
    "start_time": "2022-01-27T06:51:05.399Z"
   },
   {
    "duration": 11,
    "start_time": "2022-01-27T06:51:05.415Z"
   },
   {
    "duration": 5,
    "start_time": "2022-01-27T06:51:05.428Z"
   },
   {
    "duration": 9,
    "start_time": "2022-01-27T06:51:05.434Z"
   },
   {
    "duration": 7,
    "start_time": "2022-01-27T06:51:05.445Z"
   },
   {
    "duration": 71,
    "start_time": "2022-01-27T08:59:52.786Z"
   },
   {
    "duration": 365,
    "start_time": "2022-01-27T09:00:01.264Z"
   },
   {
    "duration": 824,
    "start_time": "2022-01-27T19:09:16.082Z"
   },
   {
    "duration": 193,
    "start_time": "2022-01-27T19:09:16.909Z"
   },
   {
    "duration": 27,
    "start_time": "2022-01-27T19:09:17.106Z"
   },
   {
    "duration": 56,
    "start_time": "2022-01-27T19:09:17.137Z"
   },
   {
    "duration": 6,
    "start_time": "2022-01-27T19:09:17.196Z"
   },
   {
    "duration": 58,
    "start_time": "2022-01-27T19:09:17.204Z"
   },
   {
    "duration": 8,
    "start_time": "2022-01-27T19:09:17.267Z"
   },
   {
    "duration": 33,
    "start_time": "2022-01-27T19:09:17.278Z"
   },
   {
    "duration": 46,
    "start_time": "2022-01-27T19:09:17.315Z"
   },
   {
    "duration": 41,
    "start_time": "2022-01-27T19:09:17.364Z"
   },
   {
    "duration": 104,
    "start_time": "2022-01-27T19:09:17.407Z"
   },
   {
    "duration": 110,
    "start_time": "2022-01-27T19:09:17.513Z"
   },
   {
    "duration": 83,
    "start_time": "2022-01-27T19:09:17.625Z"
   },
   {
    "duration": 87,
    "start_time": "2022-01-27T19:09:17.711Z"
   },
   {
    "duration": 4,
    "start_time": "2022-01-27T19:09:17.800Z"
   },
   {
    "duration": 23,
    "start_time": "2022-01-27T19:09:17.807Z"
   },
   {
    "duration": 80,
    "start_time": "2022-01-27T19:09:17.860Z"
   },
   {
    "duration": 27,
    "start_time": "2022-01-27T19:09:17.942Z"
   },
   {
    "duration": 16,
    "start_time": "2022-01-27T19:09:17.971Z"
   },
   {
    "duration": 5,
    "start_time": "2022-01-27T19:09:17.990Z"
   },
   {
    "duration": 24,
    "start_time": "2022-01-27T19:09:17.997Z"
   },
   {
    "duration": 50,
    "start_time": "2022-01-27T19:09:18.024Z"
   },
   {
    "duration": 19,
    "start_time": "2022-01-27T19:09:18.081Z"
   },
   {
    "duration": 19,
    "start_time": "2022-01-27T19:09:18.103Z"
   },
   {
    "duration": 22,
    "start_time": "2022-01-27T19:09:18.160Z"
   },
   {
    "duration": 24,
    "start_time": "2022-01-27T19:09:18.185Z"
   },
   {
    "duration": 13,
    "start_time": "2022-01-27T19:09:18.211Z"
   },
   {
    "duration": 47,
    "start_time": "2022-01-27T19:09:18.227Z"
   },
   {
    "duration": 12,
    "start_time": "2022-01-27T19:09:18.277Z"
   },
   {
    "duration": 6,
    "start_time": "2022-01-27T19:09:18.291Z"
   },
   {
    "duration": 25,
    "start_time": "2022-01-27T19:09:18.300Z"
   },
   {
    "duration": 22,
    "start_time": "2022-01-27T19:09:18.360Z"
   },
   {
    "duration": 24,
    "start_time": "2022-01-27T19:09:18.385Z"
   },
   {
    "duration": 51,
    "start_time": "2022-01-27T19:09:18.411Z"
   },
   {
    "duration": 16,
    "start_time": "2022-01-27T19:09:18.465Z"
   },
   {
    "duration": 7,
    "start_time": "2022-01-27T19:09:18.484Z"
   },
   {
    "duration": 11,
    "start_time": "2022-01-27T19:09:18.494Z"
   },
   {
    "duration": 8,
    "start_time": "2022-01-27T19:09:18.507Z"
   },
   {
    "duration": 44,
    "start_time": "2022-01-28T18:53:37.271Z"
   }
  ],
  "colab": {
   "collapsed_sections": [
    "E0vqbgi9ay0H",
    "VUC88oWjTJw2"
   ],
   "name": "yandex_music_project_2021.2.ipynb",
   "provenance": []
  },
  "kernelspec": {
   "display_name": "Python 3 (ipykernel)",
   "language": "python",
   "name": "python3"
  },
  "language_info": {
   "codemirror_mode": {
    "name": "ipython",
    "version": 3
   },
   "file_extension": ".py",
   "mimetype": "text/x-python",
   "name": "python",
   "nbconvert_exporter": "python",
   "pygments_lexer": "ipython3",
   "version": "3.9.5"
  },
  "toc": {
   "base_numbering": 1,
   "nav_menu": {},
   "number_sections": true,
   "sideBar": true,
   "skip_h1_title": true,
   "title_cell": "Table of Contents",
   "title_sidebar": "Contents",
   "toc_cell": false,
   "toc_position": {
    "height": "calc(100% - 180px)",
    "left": "10px",
    "top": "150px",
    "width": "340.75px"
   },
   "toc_section_display": true,
   "toc_window_display": true
  }
 },
 "nbformat": 4,
 "nbformat_minor": 1
}
