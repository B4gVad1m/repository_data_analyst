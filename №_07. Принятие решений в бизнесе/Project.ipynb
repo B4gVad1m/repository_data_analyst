{
 "cells": [
  {
   "cell_type": "markdown",
   "metadata": {},
   "source": [
    "<h1>Оглавление<span class=\"tocSkip\"></span></h1>\n",
    "<div class=\"toc\"><ul class=\"toc-item\"><li><span><a data-toc-modified-id=\"Часть-1.-Приоритизация-гипотез-1\"><span class=\"toc-item-num\">1&nbsp;&nbsp;</span>Часть 1. Приоритизация гипотез</a></span><ul class=\"toc-item\"><li><span><a data-toc-modified-id=\"Обзор-данных-1.1\"><span class=\"toc-item-num\">1.1&nbsp;&nbsp;</span>Обзор данных</a></span></li><li><span><a data-toc-modified-id=\"Примените-фреймворк-ICE-для-приоритизации-гипотез.-Отсортируйте-их-по-убыванию-приоритета.-1.2\"><span class=\"toc-item-num\">1.2&nbsp;&nbsp;</span>Примените фреймворк ICE для приоритизации гипотез. Отсортируйте их по убыванию приоритета.</a></span></li><li><span><a data-toc-modified-id=\"Примените-фреймворк-RICE-для-приоритизации-гипотез.-Отсортируйте-их-по-убыванию-приоритета.-1.3\"><span class=\"toc-item-num\">1.3&nbsp;&nbsp;</span>Примените фреймворк RICE для приоритизации гипотез. Отсортируйте их по убыванию приоритета.</a></span></li><li><span><a data-toc-modified-id=\"Укажите,-как-изменилась-приоритизация-гипотез-при-применении-RICE-вместо-ICE.-Объясните,-почему-так-произошло.-1.4\"><span class=\"toc-item-num\">1.4&nbsp;&nbsp;</span>Укажите, как изменилась приоритизация гипотез при применении RICE вместо ICE. Объясните, почему так произошло.</a></span></li></ul></li><li><span><a data-toc-modified-id=\"Часть-2.-Анализ-A/B-теста-2\"><span class=\"toc-item-num\">2&nbsp;&nbsp;</span>Часть 2. Анализ A/B-теста</a></span><ul class=\"toc-item\"><li><span><a data-toc-modified-id=\"Обзор-данных-2.1\"><span class=\"toc-item-num\">2.1&nbsp;&nbsp;</span>Обзор данных</a></span></li><li><span><a data-toc-modified-id=\"Постройте-график-кумулятивной-выручки-по-группам.-Сделайте-выводы-и-предположения.-2.2\"><span class=\"toc-item-num\">2.2&nbsp;&nbsp;</span>Постройте график кумулятивной выручки по группам. Сделайте выводы и предположения.</a></span></li><li><span><a data-toc-modified-id=\"Постройте-график-кумулятивного-среднего-чека-по-группам.-Сделайте-выводы-и-предположения.-2.3\"><span class=\"toc-item-num\">2.3&nbsp;&nbsp;</span>Постройте график кумулятивного среднего чека по группам. Сделайте выводы и предположения.</a></span></li><li><span><a data-toc-modified-id=\"Постройте-график-относительного-изменения-кумулятивного-среднего-чека-группы-B-к-группе-A.-Сделайте-выводы-и-предположения.-2.4\"><span class=\"toc-item-num\">2.4&nbsp;&nbsp;</span>Постройте график относительного изменения кумулятивного среднего чека группы B к группе A. Сделайте выводы и предположения.</a></span></li><li><span><a data-toc-modified-id=\"Постройте-график-относительного-изменения-кумулятивной-конверсии-группы-B-к-группе-A.-Сделайте-выводы-и-предположения.-2.5\"><span class=\"toc-item-num\">2.5&nbsp;&nbsp;</span>Постройте график относительного изменения кумулятивной конверсии группы B к группе A. Сделайте выводы и предположения.</a></span></li><li><span><a data-toc-modified-id=\"Постройте-точечный-график-количества-заказов-по-пользователям.-Сделайте-выводы-и-предположения.-2.6\"><span class=\"toc-item-num\">2.6&nbsp;&nbsp;</span>Постройте точечный график количества заказов по пользователям. Сделайте выводы и предположения.</a></span></li><li><span><a data-toc-modified-id=\"Посчитайте-95-й-и-99-й-перцентили-количества-заказов-на-пользователя.-Выберите-границу-для-определения-аномальных-пользователей.-2.7\"><span class=\"toc-item-num\">2.7&nbsp;&nbsp;</span>Посчитайте 95-й и 99-й перцентили количества заказов на пользователя. Выберите границу для определения аномальных пользователей.</a></span></li><li><span><a data-toc-modified-id=\"Постройте-точечный-график-стоимостей-заказов.-Сделайте-выводы-и-предположения.-2.8\"><span class=\"toc-item-num\">2.8&nbsp;&nbsp;</span>Постройте точечный график стоимостей заказов. Сделайте выводы и предположения.</a></span></li><li><span><a data-toc-modified-id=\"Посчитайте-95-й-и-99-й-перцентили-стоимости-заказов.-Выберите-границу-для-определения-аномальных-заказов.-2.9\"><span class=\"toc-item-num\">2.9&nbsp;&nbsp;</span>Посчитайте 95-й и 99-й перцентили стоимости заказов. Выберите границу для определения аномальных заказов.</a></span></li><li><span><a data-toc-modified-id=\"Посчитайте-статистическую-значимость-различий-в-конверсии-между-группами-по-«сырым»-данным.-Сделайте-выводы-и-предположения.-2.10\"><span class=\"toc-item-num\">2.10&nbsp;&nbsp;</span>Посчитайте статистическую значимость различий в конверсии между группами по «сырым» данным. Сделайте выводы и предположения.</a></span></li><li><span><a data-toc-modified-id=\"Посчитайте-статистическую-значимость-различий-в-среднем-чеке-заказа-между-группами-по-«сырым»-данным.-Сделайте-выводы-и-предположения.-2.11\"><span class=\"toc-item-num\">2.11&nbsp;&nbsp;</span>Посчитайте статистическую значимость различий в среднем чеке заказа между группами по «сырым» данным. Сделайте выводы и предположения.</a></span></li><li><span><a data-toc-modified-id=\"Посчитайте-статистическую-значимость-различий-в-конверсии-между-группами-по-«очищенным»-данным.-Сделайте-выводы-и-предположения.-2.12\"><span class=\"toc-item-num\">2.12&nbsp;&nbsp;</span>Посчитайте статистическую значимость различий в конверсии между группами по «очищенным» данным. Сделайте выводы и предположения.</a></span></li><li><span><a data-toc-modified-id=\"Посчитайте-статистическую-значимость-различий-в-среднем-чеке-заказа-между-группами-по-«очищенным»-данным.-Сделайте-выводы-и-предположения.-2.13\"><span class=\"toc-item-num\">2.13&nbsp;&nbsp;</span>Посчитайте статистическую значимость различий в среднем чеке заказа между группами по «очищенным» данным. Сделайте выводы и предположения.</a></span></li><li><span><a data-toc-modified-id=\"Примите-решение-по-результатам-теста-и-объясните-его.-Варианты-решений:-1.-Остановить-тест,-зафиксировать-победу-одной-из-групп.-2.-Остановить-тест,-зафиксировать-отсутствие-различий-между-группами.-3.-Продолжить-тест.-2.14\"><span class=\"toc-item-num\">2.14&nbsp;&nbsp;</span>Примите решение по результатам теста и объясните его. Варианты решений: 1. Остановить тест, зафиксировать победу одной из групп. 2. Остановить тест, зафиксировать отсутствие различий между группами. 3. Продолжить тест.</a></span></li></ul></li><li><span><a data-toc-modified-id=\"Общий-вывод-3\"><span class=\"toc-item-num\">3&nbsp;&nbsp;</span>Общий вывод</a></span></li></ul></div>"
   ]
  },
  {
   "cell_type": "markdown",
   "metadata": {},
   "source": [
    "# Исследование интернет-магазина с помощью гипотез по увеличению выручки"
   ]
  },
  {
   "cell_type": "markdown",
   "metadata": {},
   "source": [
    "**Цель исследования**\n",
    "\n",
    "Нужно приоритизировать гипотезы, запустить A/B тест и проанализировать выводы\n",
    "\n",
    "**Данные для первой части**\n",
    "\n",
    "Файл `/datasets/hypothesis.csv`\n",
    "* `Hypothesis` — краткое описание гипотезы;\n",
    "* `Reach` — охват пользователей по 10-балльной шкале;\n",
    "* `Impact` — влияние на пользователей по 10-балльной шкале;\n",
    "* `Confidence` — уверенность в гипотезе по 10-балльной шкале;\n",
    "* `Efforts` — затраты ресурсов на проверку гипотезы по 10-балльной шкале. Чем больше значение Efforts, тем дороже проверка гипотезы\n",
    "\n",
    "\n",
    "**Данные для второй части**\n",
    "\n",
    "Файл `/datasets/orders.csv`\n",
    "* `transactionId` — идентификатор заказа;\n",
    "* `visitorId` — идентификатор пользователя, совершившего заказ;\n",
    "* `date` — дата, когда был совершён заказ;\n",
    "* `revenue` — выручка заказа;\n",
    "* `group` — группа A/B-теста, в которую попал заказ\n",
    "\n",
    "Файл `/datasets/visitors.csv`\n",
    "* `date` — дата;\n",
    "* `group` — группа A/B-теста;\n",
    "* `visitors` — количество пользователей в указанную дату в указанной группе A/B-теста"
   ]
  },
  {
   "cell_type": "markdown",
   "metadata": {},
   "source": [
    "## Часть 1. Приоритизация гипотез"
   ]
  },
  {
   "cell_type": "markdown",
   "metadata": {},
   "source": [
    "### 1.1 Обзор данных"
   ]
  },
  {
   "cell_type": "code",
   "execution_count": 1,
   "metadata": {},
   "outputs": [],
   "source": [
    "# импортировал библиотеки\n",
    "import pandas as pd\n",
    "import numpy as np\n",
    "import datetime as dt\n",
    "import scipy.stats as stats\n",
    "import matplotlib.pyplot as plt\n",
    "from scipy import stats as st"
   ]
  },
  {
   "cell_type": "code",
   "execution_count": 2,
   "metadata": {},
   "outputs": [
    {
     "data": {
      "text/html": [
       "<div>\n",
       "<style scoped>\n",
       "    .dataframe tbody tr th:only-of-type {\n",
       "        vertical-align: middle;\n",
       "    }\n",
       "\n",
       "    .dataframe tbody tr th {\n",
       "        vertical-align: top;\n",
       "    }\n",
       "\n",
       "    .dataframe thead th {\n",
       "        text-align: right;\n",
       "    }\n",
       "</style>\n",
       "<table border=\"1\" class=\"dataframe\">\n",
       "  <thead>\n",
       "    <tr style=\"text-align: right;\">\n",
       "      <th></th>\n",
       "      <th>Hypothesis</th>\n",
       "      <th>Reach</th>\n",
       "      <th>Impact</th>\n",
       "      <th>Confidence</th>\n",
       "      <th>Efforts</th>\n",
       "    </tr>\n",
       "  </thead>\n",
       "  <tbody>\n",
       "    <tr>\n",
       "      <th>0</th>\n",
       "      <td>Добавить два новых канала привлечения трафика,...</td>\n",
       "      <td>3</td>\n",
       "      <td>10</td>\n",
       "      <td>8</td>\n",
       "      <td>6</td>\n",
       "    </tr>\n",
       "    <tr>\n",
       "      <th>1</th>\n",
       "      <td>Запустить собственную службу доставки, что сок...</td>\n",
       "      <td>2</td>\n",
       "      <td>5</td>\n",
       "      <td>4</td>\n",
       "      <td>10</td>\n",
       "    </tr>\n",
       "    <tr>\n",
       "      <th>2</th>\n",
       "      <td>Добавить блоки рекомендаций товаров на сайт ин...</td>\n",
       "      <td>8</td>\n",
       "      <td>3</td>\n",
       "      <td>7</td>\n",
       "      <td>3</td>\n",
       "    </tr>\n",
       "    <tr>\n",
       "      <th>3</th>\n",
       "      <td>Изменить структура категорий, что увеличит кон...</td>\n",
       "      <td>8</td>\n",
       "      <td>3</td>\n",
       "      <td>3</td>\n",
       "      <td>8</td>\n",
       "    </tr>\n",
       "    <tr>\n",
       "      <th>4</th>\n",
       "      <td>Изменить цвет фона главной страницы, чтобы уве...</td>\n",
       "      <td>3</td>\n",
       "      <td>1</td>\n",
       "      <td>1</td>\n",
       "      <td>1</td>\n",
       "    </tr>\n",
       "  </tbody>\n",
       "</table>\n",
       "</div>"
      ],
      "text/plain": [
       "                                          Hypothesis  Reach  Impact  \\\n",
       "0  Добавить два новых канала привлечения трафика,...      3      10   \n",
       "1  Запустить собственную службу доставки, что сок...      2       5   \n",
       "2  Добавить блоки рекомендаций товаров на сайт ин...      8       3   \n",
       "3  Изменить структура категорий, что увеличит кон...      8       3   \n",
       "4  Изменить цвет фона главной страницы, чтобы уве...      3       1   \n",
       "\n",
       "   Confidence  Efforts  \n",
       "0           8        6  \n",
       "1           4       10  \n",
       "2           7        3  \n",
       "3           3        8  \n",
       "4           1        1  "
      ]
     },
     "execution_count": 2,
     "metadata": {},
     "output_type": "execute_result"
    }
   ],
   "source": [
    "# загрузил файлы\n",
    "hypothesis = pd.read_csv('/datasets/hypothesis.csv')\n",
    "hypothesis.head()"
   ]
  },
  {
   "cell_type": "code",
   "execution_count": 3,
   "metadata": {
    "scrolled": true
   },
   "outputs": [
    {
     "data": {
      "text/plain": [
       "0              Добавить два новых канала привлечения трафика, что позволит привлекать на 30% больше пользователей\n",
       "1                                       Запустить собственную службу доставки, что сократит срок доставки заказов\n",
       "2    Добавить блоки рекомендаций товаров на сайт интернет магазина, чтобы повысить конверсию и средний чек заказа\n",
       "3             Изменить структура категорий, что увеличит конверсию, т.к. пользователи быстрее найдут нужный товар\n",
       "4                                Изменить цвет фона главной страницы, чтобы увеличить вовлеченность пользователей\n",
       "5                        Добавить страницу отзывов клиентов о магазине, что позволит увеличить количество заказов\n",
       "6            Показать на главной странице баннеры с актуальными акциями и распродажами, чтобы увеличить конверсию\n",
       "7                Добавить форму подписки на все основные страницы, чтобы собрать базу клиентов для email-рассылок\n",
       "8                                                         Запустить акцию, дающую скидку на товар в день рождения\n",
       "Name: Hypothesis, dtype: object"
      ]
     },
     "execution_count": 3,
     "metadata": {},
     "output_type": "execute_result"
    }
   ],
   "source": [
    "# поменял длинну строк\n",
    "pd.options.display.max_colwidth = 150\n",
    "hypothesis['Hypothesis']"
   ]
  },
  {
   "cell_type": "code",
   "execution_count": 4,
   "metadata": {},
   "outputs": [
    {
     "name": "stdout",
     "output_type": "stream",
     "text": [
      "<class 'pandas.core.frame.DataFrame'>\n",
      "RangeIndex: 9 entries, 0 to 8\n",
      "Data columns (total 5 columns):\n",
      " #   Column      Non-Null Count  Dtype \n",
      "---  ------      --------------  ----- \n",
      " 0   Hypothesis  9 non-null      object\n",
      " 1   Reach       9 non-null      int64 \n",
      " 2   Impact      9 non-null      int64 \n",
      " 3   Confidence  9 non-null      int64 \n",
      " 4   Efforts     9 non-null      int64 \n",
      "dtypes: int64(4), object(1)\n",
      "memory usage: 488.0+ bytes\n"
     ]
    }
   ],
   "source": [
    "# посмторел общую информацию таблицы\n",
    "hypothesis.info()"
   ]
  },
  {
   "cell_type": "code",
   "execution_count": 5,
   "metadata": {},
   "outputs": [
    {
     "data": {
      "text/html": [
       "<div>\n",
       "<style scoped>\n",
       "    .dataframe tbody tr th:only-of-type {\n",
       "        vertical-align: middle;\n",
       "    }\n",
       "\n",
       "    .dataframe tbody tr th {\n",
       "        vertical-align: top;\n",
       "    }\n",
       "\n",
       "    .dataframe thead th {\n",
       "        text-align: right;\n",
       "    }\n",
       "</style>\n",
       "<table border=\"1\" class=\"dataframe\">\n",
       "  <thead>\n",
       "    <tr style=\"text-align: right;\">\n",
       "      <th></th>\n",
       "      <th>hypothesis</th>\n",
       "      <th>reach</th>\n",
       "      <th>impact</th>\n",
       "      <th>confidence</th>\n",
       "      <th>efforts</th>\n",
       "    </tr>\n",
       "  </thead>\n",
       "  <tbody>\n",
       "    <tr>\n",
       "      <th>0</th>\n",
       "      <td>Добавить два новых канала привлечения трафика, что позволит привлекать на 30% больше пользователей</td>\n",
       "      <td>3</td>\n",
       "      <td>10</td>\n",
       "      <td>8</td>\n",
       "      <td>6</td>\n",
       "    </tr>\n",
       "    <tr>\n",
       "      <th>1</th>\n",
       "      <td>Запустить собственную службу доставки, что сократит срок доставки заказов</td>\n",
       "      <td>2</td>\n",
       "      <td>5</td>\n",
       "      <td>4</td>\n",
       "      <td>10</td>\n",
       "    </tr>\n",
       "    <tr>\n",
       "      <th>2</th>\n",
       "      <td>Добавить блоки рекомендаций товаров на сайт интернет магазина, чтобы повысить конверсию и средний чек заказа</td>\n",
       "      <td>8</td>\n",
       "      <td>3</td>\n",
       "      <td>7</td>\n",
       "      <td>3</td>\n",
       "    </tr>\n",
       "    <tr>\n",
       "      <th>3</th>\n",
       "      <td>Изменить структура категорий, что увеличит конверсию, т.к. пользователи быстрее найдут нужный товар</td>\n",
       "      <td>8</td>\n",
       "      <td>3</td>\n",
       "      <td>3</td>\n",
       "      <td>8</td>\n",
       "    </tr>\n",
       "    <tr>\n",
       "      <th>4</th>\n",
       "      <td>Изменить цвет фона главной страницы, чтобы увеличить вовлеченность пользователей</td>\n",
       "      <td>3</td>\n",
       "      <td>1</td>\n",
       "      <td>1</td>\n",
       "      <td>1</td>\n",
       "    </tr>\n",
       "  </tbody>\n",
       "</table>\n",
       "</div>"
      ],
      "text/plain": [
       "                                                                                                     hypothesis  \\\n",
       "0            Добавить два новых канала привлечения трафика, что позволит привлекать на 30% больше пользователей   \n",
       "1                                     Запустить собственную службу доставки, что сократит срок доставки заказов   \n",
       "2  Добавить блоки рекомендаций товаров на сайт интернет магазина, чтобы повысить конверсию и средний чек заказа   \n",
       "3           Изменить структура категорий, что увеличит конверсию, т.к. пользователи быстрее найдут нужный товар   \n",
       "4                              Изменить цвет фона главной страницы, чтобы увеличить вовлеченность пользователей   \n",
       "\n",
       "   reach  impact  confidence  efforts  \n",
       "0      3      10           8        6  \n",
       "1      2       5           4       10  \n",
       "2      8       3           7        3  \n",
       "3      8       3           3        8  \n",
       "4      3       1           1        1  "
      ]
     },
     "execution_count": 5,
     "metadata": {},
     "output_type": "execute_result"
    }
   ],
   "source": [
    "# привёл столбцы к нижнему регистру\n",
    "hypothesis.columns = hypothesis.columns.str.lower()\n",
    "hypothesis.head()"
   ]
  },
  {
   "cell_type": "code",
   "execution_count": 6,
   "metadata": {},
   "outputs": [
    {
     "data": {
      "text/html": [
       "<div>\n",
       "<style scoped>\n",
       "    .dataframe tbody tr th:only-of-type {\n",
       "        vertical-align: middle;\n",
       "    }\n",
       "\n",
       "    .dataframe tbody tr th {\n",
       "        vertical-align: top;\n",
       "    }\n",
       "\n",
       "    .dataframe thead th {\n",
       "        text-align: right;\n",
       "    }\n",
       "</style>\n",
       "<table border=\"1\" class=\"dataframe\">\n",
       "  <thead>\n",
       "    <tr style=\"text-align: right;\">\n",
       "      <th></th>\n",
       "      <th>hypothesis</th>\n",
       "      <th>reach</th>\n",
       "      <th>impact</th>\n",
       "      <th>confidence</th>\n",
       "      <th>efforts</th>\n",
       "    </tr>\n",
       "  </thead>\n",
       "  <tbody>\n",
       "    <tr>\n",
       "      <th>0</th>\n",
       "      <td>hypothesis_1</td>\n",
       "      <td>3</td>\n",
       "      <td>10</td>\n",
       "      <td>8</td>\n",
       "      <td>6</td>\n",
       "    </tr>\n",
       "    <tr>\n",
       "      <th>1</th>\n",
       "      <td>hypothesis_2</td>\n",
       "      <td>2</td>\n",
       "      <td>5</td>\n",
       "      <td>4</td>\n",
       "      <td>10</td>\n",
       "    </tr>\n",
       "    <tr>\n",
       "      <th>2</th>\n",
       "      <td>hypothesis_3</td>\n",
       "      <td>8</td>\n",
       "      <td>3</td>\n",
       "      <td>7</td>\n",
       "      <td>3</td>\n",
       "    </tr>\n",
       "    <tr>\n",
       "      <th>3</th>\n",
       "      <td>hypothesis_4</td>\n",
       "      <td>8</td>\n",
       "      <td>3</td>\n",
       "      <td>3</td>\n",
       "      <td>8</td>\n",
       "    </tr>\n",
       "    <tr>\n",
       "      <th>4</th>\n",
       "      <td>hypothesis_5</td>\n",
       "      <td>3</td>\n",
       "      <td>1</td>\n",
       "      <td>1</td>\n",
       "      <td>1</td>\n",
       "    </tr>\n",
       "    <tr>\n",
       "      <th>5</th>\n",
       "      <td>hypothesis_6</td>\n",
       "      <td>3</td>\n",
       "      <td>2</td>\n",
       "      <td>2</td>\n",
       "      <td>3</td>\n",
       "    </tr>\n",
       "    <tr>\n",
       "      <th>6</th>\n",
       "      <td>hypothesis_7</td>\n",
       "      <td>5</td>\n",
       "      <td>3</td>\n",
       "      <td>8</td>\n",
       "      <td>3</td>\n",
       "    </tr>\n",
       "    <tr>\n",
       "      <th>7</th>\n",
       "      <td>hypothesis_8</td>\n",
       "      <td>10</td>\n",
       "      <td>7</td>\n",
       "      <td>8</td>\n",
       "      <td>5</td>\n",
       "    </tr>\n",
       "    <tr>\n",
       "      <th>8</th>\n",
       "      <td>hypothesis_9</td>\n",
       "      <td>1</td>\n",
       "      <td>9</td>\n",
       "      <td>9</td>\n",
       "      <td>5</td>\n",
       "    </tr>\n",
       "  </tbody>\n",
       "</table>\n",
       "</div>"
      ],
      "text/plain": [
       "     hypothesis  reach  impact  confidence  efforts\n",
       "0  hypothesis_1      3      10           8        6\n",
       "1  hypothesis_2      2       5           4       10\n",
       "2  hypothesis_3      8       3           7        3\n",
       "3  hypothesis_4      8       3           3        8\n",
       "4  hypothesis_5      3       1           1        1\n",
       "5  hypothesis_6      3       2           2        3\n",
       "6  hypothesis_7      5       3           8        3\n",
       "7  hypothesis_8     10       7           8        5\n",
       "8  hypothesis_9      1       9           9        5"
      ]
     },
     "execution_count": 6,
     "metadata": {},
     "output_type": "execute_result"
    }
   ],
   "source": [
    "# поменял название строк в столбце hypothesis\n",
    "hypothesis['hypothesis'] = hypothesis['hypothesis'].replace({\n",
    "    hypothesis['hypothesis'][0]: 'hypothesis_1',\n",
    "    hypothesis['hypothesis'][1]: 'hypothesis_2',\n",
    "    hypothesis['hypothesis'][2]: 'hypothesis_3',\n",
    "    hypothesis['hypothesis'][3]: 'hypothesis_4',\n",
    "    hypothesis['hypothesis'][4]: 'hypothesis_5',\n",
    "    hypothesis['hypothesis'][5]: 'hypothesis_6',\n",
    "    hypothesis['hypothesis'][6]: 'hypothesis_7',\n",
    "    hypothesis['hypothesis'][7]: 'hypothesis_8',\n",
    "    hypothesis['hypothesis'][8]: 'hypothesis_9'\n",
    "})\n",
    "hypothesis"
   ]
  },
  {
   "cell_type": "markdown",
   "metadata": {},
   "source": [
    "### 1.2 Примените фреймворк ICE для приоритизации гипотез. Отсортируйте их по убыванию приоритета"
   ]
  },
  {
   "cell_type": "code",
   "execution_count": 7,
   "metadata": {},
   "outputs": [
    {
     "data": {
      "text/html": [
       "<div>\n",
       "<style scoped>\n",
       "    .dataframe tbody tr th:only-of-type {\n",
       "        vertical-align: middle;\n",
       "    }\n",
       "\n",
       "    .dataframe tbody tr th {\n",
       "        vertical-align: top;\n",
       "    }\n",
       "\n",
       "    .dataframe thead th {\n",
       "        text-align: right;\n",
       "    }\n",
       "</style>\n",
       "<table border=\"1\" class=\"dataframe\">\n",
       "  <thead>\n",
       "    <tr style=\"text-align: right;\">\n",
       "      <th></th>\n",
       "      <th>hypothesis</th>\n",
       "      <th>ICE</th>\n",
       "    </tr>\n",
       "  </thead>\n",
       "  <tbody>\n",
       "    <tr>\n",
       "      <th>8</th>\n",
       "      <td>hypothesis_9</td>\n",
       "      <td>16.2</td>\n",
       "    </tr>\n",
       "    <tr>\n",
       "      <th>0</th>\n",
       "      <td>hypothesis_1</td>\n",
       "      <td>13.3</td>\n",
       "    </tr>\n",
       "    <tr>\n",
       "      <th>7</th>\n",
       "      <td>hypothesis_8</td>\n",
       "      <td>11.2</td>\n",
       "    </tr>\n",
       "    <tr>\n",
       "      <th>6</th>\n",
       "      <td>hypothesis_7</td>\n",
       "      <td>8.0</td>\n",
       "    </tr>\n",
       "    <tr>\n",
       "      <th>2</th>\n",
       "      <td>hypothesis_3</td>\n",
       "      <td>7.0</td>\n",
       "    </tr>\n",
       "    <tr>\n",
       "      <th>1</th>\n",
       "      <td>hypothesis_2</td>\n",
       "      <td>2.0</td>\n",
       "    </tr>\n",
       "    <tr>\n",
       "      <th>5</th>\n",
       "      <td>hypothesis_6</td>\n",
       "      <td>1.3</td>\n",
       "    </tr>\n",
       "    <tr>\n",
       "      <th>3</th>\n",
       "      <td>hypothesis_4</td>\n",
       "      <td>1.1</td>\n",
       "    </tr>\n",
       "    <tr>\n",
       "      <th>4</th>\n",
       "      <td>hypothesis_5</td>\n",
       "      <td>1.0</td>\n",
       "    </tr>\n",
       "  </tbody>\n",
       "</table>\n",
       "</div>"
      ],
      "text/plain": [
       "     hypothesis   ICE\n",
       "8  hypothesis_9  16.2\n",
       "0  hypothesis_1  13.3\n",
       "7  hypothesis_8  11.2\n",
       "6  hypothesis_7   8.0\n",
       "2  hypothesis_3   7.0\n",
       "1  hypothesis_2   2.0\n",
       "5  hypothesis_6   1.3\n",
       "3  hypothesis_4   1.1\n",
       "4  hypothesis_5   1.0"
      ]
     },
     "execution_count": 7,
     "metadata": {},
     "output_type": "execute_result"
    }
   ],
   "source": [
    "# посчитал ICE для приоритизации гипотез\n",
    "hypothesis['ICE'] = hypothesis['impact'] * hypothesis['confidence'] / hypothesis['efforts']\n",
    "hypothesis['ICE'] = hypothesis['ICE'].round(1)\n",
    "hypothesis[['hypothesis', 'ICE']].sort_values(by='ICE', ascending=False)"
   ]
  },
  {
   "cell_type": "code",
   "execution_count": 8,
   "metadata": {},
   "outputs": [
    {
     "data": {
      "image/png": "[encoded data removed]",
      "text/plain": [
       "<Figure size 432x288 with 1 Axes>"
      ]
     },
     "metadata": {
      "needs_background": "light"
     },
     "output_type": "display_data"
    }
   ],
   "source": [
    "# построил стобчатый график по ICE\n",
    "color_rectanangle = np.random.rand(7, 3)\n",
    "hypothesis['ICE'].sort_values(ascending=False).plot(kind='bar', color=color_rectanangle, edgecolor='black', linewidth=2)\n",
    "plt.ylabel('ICE')\n",
    "plt.xlabel('Гипотеза')\n",
    "plt.show()"
   ]
  },
  {
   "cell_type": "markdown",
   "metadata": {},
   "source": [
    "Наиболее перпективные гипотезы по ICE: 9, 1, 8"
   ]
  },
  {
   "cell_type": "markdown",
   "metadata": {},
   "source": [
    "### 1.3 Примените фреймворк RICE для приоритизации гипотез. Отсортируйте их по убыванию приоритета."
   ]
  },
  {
   "cell_type": "code",
   "execution_count": 9,
   "metadata": {},
   "outputs": [
    {
     "data": {
      "text/html": [
       "<div>\n",
       "<style scoped>\n",
       "    .dataframe tbody tr th:only-of-type {\n",
       "        vertical-align: middle;\n",
       "    }\n",
       "\n",
       "    .dataframe tbody tr th {\n",
       "        vertical-align: top;\n",
       "    }\n",
       "\n",
       "    .dataframe thead th {\n",
       "        text-align: right;\n",
       "    }\n",
       "</style>\n",
       "<table border=\"1\" class=\"dataframe\">\n",
       "  <thead>\n",
       "    <tr style=\"text-align: right;\">\n",
       "      <th></th>\n",
       "      <th>hypothesis</th>\n",
       "      <th>RICE</th>\n",
       "    </tr>\n",
       "  </thead>\n",
       "  <tbody>\n",
       "    <tr>\n",
       "      <th>7</th>\n",
       "      <td>hypothesis_8</td>\n",
       "      <td>112</td>\n",
       "    </tr>\n",
       "    <tr>\n",
       "      <th>2</th>\n",
       "      <td>hypothesis_3</td>\n",
       "      <td>56</td>\n",
       "    </tr>\n",
       "    <tr>\n",
       "      <th>0</th>\n",
       "      <td>hypothesis_1</td>\n",
       "      <td>40</td>\n",
       "    </tr>\n",
       "    <tr>\n",
       "      <th>6</th>\n",
       "      <td>hypothesis_7</td>\n",
       "      <td>40</td>\n",
       "    </tr>\n",
       "    <tr>\n",
       "      <th>8</th>\n",
       "      <td>hypothesis_9</td>\n",
       "      <td>16</td>\n",
       "    </tr>\n",
       "    <tr>\n",
       "      <th>3</th>\n",
       "      <td>hypothesis_4</td>\n",
       "      <td>9</td>\n",
       "    </tr>\n",
       "    <tr>\n",
       "      <th>1</th>\n",
       "      <td>hypothesis_2</td>\n",
       "      <td>4</td>\n",
       "    </tr>\n",
       "    <tr>\n",
       "      <th>5</th>\n",
       "      <td>hypothesis_6</td>\n",
       "      <td>4</td>\n",
       "    </tr>\n",
       "    <tr>\n",
       "      <th>4</th>\n",
       "      <td>hypothesis_5</td>\n",
       "      <td>3</td>\n",
       "    </tr>\n",
       "  </tbody>\n",
       "</table>\n",
       "</div>"
      ],
      "text/plain": [
       "     hypothesis  RICE\n",
       "7  hypothesis_8   112\n",
       "2  hypothesis_3    56\n",
       "0  hypothesis_1    40\n",
       "6  hypothesis_7    40\n",
       "8  hypothesis_9    16\n",
       "3  hypothesis_4     9\n",
       "1  hypothesis_2     4\n",
       "5  hypothesis_6     4\n",
       "4  hypothesis_5     3"
      ]
     },
     "execution_count": 9,
     "metadata": {},
     "output_type": "execute_result"
    }
   ],
   "source": [
    "# посчитал RICE для приоритизации гипотез\n",
    "hypothesis['RICE'] = hypothesis['reach'] * hypothesis['impact'] * hypothesis['confidence'] / hypothesis['efforts']\n",
    "hypothesis['RICE'] = hypothesis['RICE'].astype('int')\n",
    "hypothesis[['hypothesis', 'RICE']].sort_values(by='RICE', ascending=False)"
   ]
  },
  {
   "cell_type": "code",
   "execution_count": 10,
   "metadata": {},
   "outputs": [
    {
     "data": {
      "image/png": "[encoded data removed]",
      "text/plain": [
       "<Figure size 432x288 with 1 Axes>"
      ]
     },
     "metadata": {
      "needs_background": "light"
     },
     "output_type": "display_data"
    }
   ],
   "source": [
    "# построил стобчатый график по RICE\n",
    "color_rectanangle = np.random.rand(7, 3)\n",
    "hypothesis['RICE'].sort_values(ascending=False).plot(kind='bar', color=color_rectanangle, edgecolor='black', linewidth=2)\n",
    "plt.ylabel('RICE')\n",
    "plt.xlabel('Гипотеза')\n",
    "plt.show()"
   ]
  },
  {
   "cell_type": "markdown",
   "metadata": {},
   "source": [
    "Здесь ситуация немного другая. 9 гипотеза сместилась на пятое место, 8 гипотеза заняла первое место, а 1 гипотеза опустилось на третьем месте заместо второго. Получается наиболее перпективные гипотезы по RICE: 8, 3, 1"
   ]
  },
  {
   "cell_type": "markdown",
   "metadata": {},
   "source": [
    "### 1.4 Укажите, как изменилась приоритизация гипотез при применении RICE вместо ICE. Объясните, почему так произошло"
   ]
  },
  {
   "cell_type": "markdown",
   "metadata": {},
   "source": [
    "Приоритизация гипотез при применении RICE стало намного больше фреймворка ICE за счёт параметра Reach. В гипотезе под номером 8 показатель этого параметра равен 10"
   ]
  },
  {
   "cell_type": "markdown",
   "metadata": {},
   "source": [
    "**Вывод по блоку:**\n",
    "\n",
    "* Была проделена небольшая работа по предобработке данных\n",
    "* Выявлена самая охватываемая гипотеза - добавить форму подписки на все основные страницы, чтобы собрать базу клиентов для email-рассылок"
   ]
  },
  {
   "cell_type": "markdown",
   "metadata": {},
   "source": [
    "## Часть 2. Анализ A/B-теста"
   ]
  },
  {
   "cell_type": "markdown",
   "metadata": {},
   "source": [
    "### 2.1 Обзор данных"
   ]
  },
  {
   "cell_type": "code",
   "execution_count": 11,
   "metadata": {},
   "outputs": [
    {
     "data": {
      "text/html": [
       "<div>\n",
       "<style scoped>\n",
       "    .dataframe tbody tr th:only-of-type {\n",
       "        vertical-align: middle;\n",
       "    }\n",
       "\n",
       "    .dataframe tbody tr th {\n",
       "        vertical-align: top;\n",
       "    }\n",
       "\n",
       "    .dataframe thead th {\n",
       "        text-align: right;\n",
       "    }\n",
       "</style>\n",
       "<table border=\"1\" class=\"dataframe\">\n",
       "  <thead>\n",
       "    <tr style=\"text-align: right;\">\n",
       "      <th></th>\n",
       "      <th>transactionId</th>\n",
       "      <th>visitorId</th>\n",
       "      <th>date</th>\n",
       "      <th>revenue</th>\n",
       "      <th>group</th>\n",
       "    </tr>\n",
       "  </thead>\n",
       "  <tbody>\n",
       "    <tr>\n",
       "      <th>0</th>\n",
       "      <td>3667963787</td>\n",
       "      <td>3312258926</td>\n",
       "      <td>2019-08-15</td>\n",
       "      <td>1650</td>\n",
       "      <td>B</td>\n",
       "    </tr>\n",
       "    <tr>\n",
       "      <th>1</th>\n",
       "      <td>2804400009</td>\n",
       "      <td>3642806036</td>\n",
       "      <td>2019-08-15</td>\n",
       "      <td>730</td>\n",
       "      <td>B</td>\n",
       "    </tr>\n",
       "    <tr>\n",
       "      <th>2</th>\n",
       "      <td>2961555356</td>\n",
       "      <td>4069496402</td>\n",
       "      <td>2019-08-15</td>\n",
       "      <td>400</td>\n",
       "      <td>A</td>\n",
       "    </tr>\n",
       "    <tr>\n",
       "      <th>3</th>\n",
       "      <td>3797467345</td>\n",
       "      <td>1196621759</td>\n",
       "      <td>2019-08-15</td>\n",
       "      <td>9759</td>\n",
       "      <td>B</td>\n",
       "    </tr>\n",
       "    <tr>\n",
       "      <th>4</th>\n",
       "      <td>2282983706</td>\n",
       "      <td>2322279887</td>\n",
       "      <td>2019-08-15</td>\n",
       "      <td>2308</td>\n",
       "      <td>B</td>\n",
       "    </tr>\n",
       "  </tbody>\n",
       "</table>\n",
       "</div>"
      ],
      "text/plain": [
       "   transactionId   visitorId        date  revenue group\n",
       "0     3667963787  3312258926  2019-08-15     1650     B\n",
       "1     2804400009  3642806036  2019-08-15      730     B\n",
       "2     2961555356  4069496402  2019-08-15      400     A\n",
       "3     3797467345  1196621759  2019-08-15     9759     B\n",
       "4     2282983706  2322279887  2019-08-15     2308     B"
      ]
     },
     "execution_count": 11,
     "metadata": {},
     "output_type": "execute_result"
    }
   ],
   "source": [
    "# загрузил файлы\n",
    "orders = pd.read_csv('/datasets/orders.csv')\n",
    "orders.head()"
   ]
  },
  {
   "cell_type": "code",
   "execution_count": 12,
   "metadata": {},
   "outputs": [
    {
     "name": "stdout",
     "output_type": "stream",
     "text": [
      "<class 'pandas.core.frame.DataFrame'>\n",
      "RangeIndex: 1197 entries, 0 to 1196\n",
      "Data columns (total 5 columns):\n",
      " #   Column         Non-Null Count  Dtype \n",
      "---  ------         --------------  ----- \n",
      " 0   transactionId  1197 non-null   int64 \n",
      " 1   visitorId      1197 non-null   int64 \n",
      " 2   date           1197 non-null   object\n",
      " 3   revenue        1197 non-null   int64 \n",
      " 4   group          1197 non-null   object\n",
      "dtypes: int64(3), object(2)\n",
      "memory usage: 46.9+ KB\n"
     ]
    }
   ],
   "source": [
    "# посмторел общую информацию таблицы\n",
    "orders.info()"
   ]
  },
  {
   "cell_type": "code",
   "execution_count": 13,
   "metadata": {},
   "outputs": [],
   "source": [
    "# преобразовал к временному формату\n",
    "orders['date'] = pd.to_datetime(orders['date'])"
   ]
  },
  {
   "cell_type": "code",
   "execution_count": 14,
   "metadata": {},
   "outputs": [
    {
     "data": {
      "text/html": [
       "<div>\n",
       "<style scoped>\n",
       "    .dataframe tbody tr th:only-of-type {\n",
       "        vertical-align: middle;\n",
       "    }\n",
       "\n",
       "    .dataframe tbody tr th {\n",
       "        vertical-align: top;\n",
       "    }\n",
       "\n",
       "    .dataframe thead th {\n",
       "        text-align: right;\n",
       "    }\n",
       "</style>\n",
       "<table border=\"1\" class=\"dataframe\">\n",
       "  <thead>\n",
       "    <tr style=\"text-align: right;\">\n",
       "      <th></th>\n",
       "      <th>date</th>\n",
       "      <th>group</th>\n",
       "      <th>visitors</th>\n",
       "    </tr>\n",
       "  </thead>\n",
       "  <tbody>\n",
       "    <tr>\n",
       "      <th>0</th>\n",
       "      <td>2019-08-01</td>\n",
       "      <td>A</td>\n",
       "      <td>719</td>\n",
       "    </tr>\n",
       "    <tr>\n",
       "      <th>1</th>\n",
       "      <td>2019-08-02</td>\n",
       "      <td>A</td>\n",
       "      <td>619</td>\n",
       "    </tr>\n",
       "    <tr>\n",
       "      <th>2</th>\n",
       "      <td>2019-08-03</td>\n",
       "      <td>A</td>\n",
       "      <td>507</td>\n",
       "    </tr>\n",
       "    <tr>\n",
       "      <th>3</th>\n",
       "      <td>2019-08-04</td>\n",
       "      <td>A</td>\n",
       "      <td>717</td>\n",
       "    </tr>\n",
       "    <tr>\n",
       "      <th>4</th>\n",
       "      <td>2019-08-05</td>\n",
       "      <td>A</td>\n",
       "      <td>756</td>\n",
       "    </tr>\n",
       "  </tbody>\n",
       "</table>\n",
       "</div>"
      ],
      "text/plain": [
       "         date group  visitors\n",
       "0  2019-08-01     A       719\n",
       "1  2019-08-02     A       619\n",
       "2  2019-08-03     A       507\n",
       "3  2019-08-04     A       717\n",
       "4  2019-08-05     A       756"
      ]
     },
     "execution_count": 14,
     "metadata": {},
     "output_type": "execute_result"
    }
   ],
   "source": [
    "# загрузил файлы\n",
    "visitors = pd.read_csv('/datasets/visitors.csv')\n",
    "visitors.head()"
   ]
  },
  {
   "cell_type": "code",
   "execution_count": 15,
   "metadata": {
    "scrolled": true
   },
   "outputs": [
    {
     "name": "stdout",
     "output_type": "stream",
     "text": [
      "<class 'pandas.core.frame.DataFrame'>\n",
      "RangeIndex: 62 entries, 0 to 61\n",
      "Data columns (total 3 columns):\n",
      " #   Column    Non-Null Count  Dtype \n",
      "---  ------    --------------  ----- \n",
      " 0   date      62 non-null     object\n",
      " 1   group     62 non-null     object\n",
      " 2   visitors  62 non-null     int64 \n",
      "dtypes: int64(1), object(2)\n",
      "memory usage: 1.6+ KB\n"
     ]
    }
   ],
   "source": [
    "# посмторел общую информацию таблицы\n",
    "visitors.info()"
   ]
  },
  {
   "cell_type": "code",
   "execution_count": 16,
   "metadata": {},
   "outputs": [],
   "source": [
    "# преобразовал к временному формату\n",
    "visitors['date'] = pd.to_datetime(visitors['date'])"
   ]
  },
  {
   "cell_type": "code",
   "execution_count": 17,
   "metadata": {},
   "outputs": [
    {
     "data": {
      "text/plain": [
       "0"
      ]
     },
     "execution_count": 17,
     "metadata": {},
     "output_type": "execute_result"
    }
   ],
   "source": [
    "# посмотрел на наличие дубликатов\n",
    "orders.duplicated().sum()"
   ]
  },
  {
   "cell_type": "code",
   "execution_count": 18,
   "metadata": {},
   "outputs": [
    {
     "data": {
      "text/plain": [
       "0"
      ]
     },
     "execution_count": 18,
     "metadata": {},
     "output_type": "execute_result"
    }
   ],
   "source": [
    "# посмотрел на наличие дубликатов\n",
    "visitors.duplicated().sum()"
   ]
  },
  {
   "cell_type": "markdown",
   "metadata": {},
   "source": [
    "### 2.2 Постройте график кумулятивной выручки по группам. Сделайте выводы и предположения"
   ]
  },
  {
   "cell_type": "code",
   "execution_count": 19,
   "metadata": {},
   "outputs": [
    {
     "data": {
      "text/html": [
       "<div>\n",
       "<style scoped>\n",
       "    .dataframe tbody tr th:only-of-type {\n",
       "        vertical-align: middle;\n",
       "    }\n",
       "\n",
       "    .dataframe tbody tr th {\n",
       "        vertical-align: top;\n",
       "    }\n",
       "\n",
       "    .dataframe thead th {\n",
       "        text-align: right;\n",
       "    }\n",
       "</style>\n",
       "<table border=\"1\" class=\"dataframe\">\n",
       "  <thead>\n",
       "    <tr style=\"text-align: right;\">\n",
       "      <th></th>\n",
       "      <th>orders</th>\n",
       "      <th>byers</th>\n",
       "      <th>date</th>\n",
       "      <th>revenue</th>\n",
       "      <th>group</th>\n",
       "      <th>visitors</th>\n",
       "    </tr>\n",
       "  </thead>\n",
       "  <tbody>\n",
       "    <tr>\n",
       "      <th>0</th>\n",
       "      <td>24</td>\n",
       "      <td>20</td>\n",
       "      <td>2019-08-01</td>\n",
       "      <td>148579</td>\n",
       "      <td>A</td>\n",
       "      <td>719</td>\n",
       "    </tr>\n",
       "    <tr>\n",
       "      <th>1</th>\n",
       "      <td>21</td>\n",
       "      <td>20</td>\n",
       "      <td>2019-08-01</td>\n",
       "      <td>101217</td>\n",
       "      <td>B</td>\n",
       "      <td>713</td>\n",
       "    </tr>\n",
       "    <tr>\n",
       "      <th>2</th>\n",
       "      <td>44</td>\n",
       "      <td>38</td>\n",
       "      <td>2019-08-02</td>\n",
       "      <td>242401</td>\n",
       "      <td>A</td>\n",
       "      <td>1338</td>\n",
       "    </tr>\n",
       "    <tr>\n",
       "      <th>3</th>\n",
       "      <td>45</td>\n",
       "      <td>43</td>\n",
       "      <td>2019-08-02</td>\n",
       "      <td>266748</td>\n",
       "      <td>B</td>\n",
       "      <td>1294</td>\n",
       "    </tr>\n",
       "    <tr>\n",
       "      <th>4</th>\n",
       "      <td>68</td>\n",
       "      <td>62</td>\n",
       "      <td>2019-08-03</td>\n",
       "      <td>354874</td>\n",
       "      <td>A</td>\n",
       "      <td>1845</td>\n",
       "    </tr>\n",
       "  </tbody>\n",
       "</table>\n",
       "</div>"
      ],
      "text/plain": [
       "   orders  byers       date  revenue group  visitors\n",
       "0      24     20 2019-08-01   148579     A       719\n",
       "1      21     20 2019-08-01   101217     B       713\n",
       "2      44     38 2019-08-02   242401     A      1338\n",
       "3      45     43 2019-08-02   266748     B      1294\n",
       "4      68     62 2019-08-03   354874     A      1845"
      ]
     },
     "execution_count": 19,
     "metadata": {},
     "output_type": "execute_result"
    }
   ],
   "source": [
    "# создал массив уникальных пар значений дат и групп теста\n",
    "datesGroups = orders[['date','group']].drop_duplicates()\n",
    "\n",
    "# получил агрегированные кумулятивные данные о заказах по дням  \n",
    "ordersAggregated = datesGroups.apply(\n",
    "    lambda x: orders[np.logical_and(orders['date'] <= x['date'], orders['group'] == x['group'])]\n",
    "    .agg({'transactionId': 'nunique', 'visitorId': 'nunique', 'date': 'max', 'revenue': 'sum', 'group': 'max'}), \n",
    "    axis=1).sort_values(by=['date','group'])\n",
    "\n",
    "# получил агрегированные кумулятивные данные о пользователях интернет-магазина по дням \n",
    "visitorsAggregated = datesGroups.apply(\n",
    "    lambda x: visitors[np.logical_and(visitors['date'] <= x['date'], visitors['group'] == x['group'])]\n",
    "    .agg({'date': 'max', 'group': 'max', 'visitors': 'sum'}), \n",
    "    axis=1).sort_values(by=['date','group'])\n",
    "\n",
    "# объединил кумулятивные данные в одной таблице \n",
    "cumulativeData = ordersAggregated.merge(visitorsAggregated, left_on=['date', 'group'], right_on=['date', 'group'])\n",
    "# поменял название некоторых столбцов\n",
    "cumulativeData.columns = ['orders', 'byers', 'date', 'revenue', 'group', 'visitors']\n",
    "cumulativeData.head()"
   ]
  },
  {
   "cell_type": "code",
   "execution_count": 20,
   "metadata": {},
   "outputs": [
    {
     "data": {
      "image/png": "[encoded data removed]",
      "text/plain": [
       "<Figure size 432x288 with 1 Axes>"
      ]
     },
     "metadata": {
      "needs_background": "light"
     },
     "output_type": "display_data"
    }
   ],
   "source": [
    "# создал датафрейм с кумулятивным количеством заказов и кумулятивной выручкой по дням в группе А\n",
    "cumulativeRevenueA = cumulativeData[cumulativeData['group'] == 'A'][['date', 'revenue', 'orders']]\n",
    "# создал датафрейм с кумулятивным количеством заказов и кумулятивной выручкой по дням в группе B\n",
    "cumulativeRevenueB = cumulativeData[cumulativeData['group'] == 'B'][['date', 'revenue', 'orders']]\n",
    "\n",
    "# построил график по выручкам в группах A и B\n",
    "plt.xticks(rotation=45)\n",
    "plt.plot(cumulativeRevenueA['date'], cumulativeRevenueA['revenue'], label='A')\n",
    "plt.plot(cumulativeRevenueB['date'], cumulativeRevenueB['revenue'], label='B')\n",
    "plt.ylabel('Выручка, ₽')\n",
    "plt.xlabel('Дата привлечения')\n",
    "plt.title('Выручка в группах A и B')\n",
    "plt.legend();"
   ]
  },
  {
   "cell_type": "markdown",
   "metadata": {},
   "source": [
    "Сегмент B лидирует за весь период теста и виден резкий рост в середине теста. Что касается сегмента A, то он идёт равномерно до конца теста"
   ]
  },
  {
   "cell_type": "markdown",
   "metadata": {},
   "source": [
    "### 2.3 Постройте график кумулятивного среднего чека по группам. Сделайте выводы и предположения"
   ]
  },
  {
   "cell_type": "code",
   "execution_count": 21,
   "metadata": {
    "scrolled": false
   },
   "outputs": [
    {
     "data": {
      "image/png": "[encoded data removed]",
      "text/plain": [
       "<Figure size 432x288 with 1 Axes>"
      ]
     },
     "metadata": {
      "needs_background": "light"
     },
     "output_type": "display_data"
    }
   ],
   "source": [
    "# построил график среднего чека по группам\n",
    "plt.xticks(rotation=45)\n",
    "plt.plot(cumulativeRevenueA['date'], cumulativeRevenueA['revenue'] / cumulativeRevenueA['orders'], label='A')\n",
    "plt.plot(cumulativeRevenueB['date'], cumulativeRevenueB['revenue'] / cumulativeRevenueB['orders'], label='B')\n",
    "plt.ylabel('Средний чек, ₽')\n",
    "plt.xlabel('Дата привлечения')\n",
    "plt.title('Средний чек по группам')\n",
    "plt.legend();"
   ]
  },
  {
   "cell_type": "markdown",
   "metadata": {},
   "source": [
    "Здесь ситуация почти такая же, за исключением первой половине периода сегмента A. Он теперь также колебается как и сегмент B"
   ]
  },
  {
   "cell_type": "markdown",
   "metadata": {},
   "source": [
    "### 2.4 Постройте график относительного изменения кумулятивного среднего чека группы B к группе A. Сделайте выводы и предположения"
   ]
  },
  {
   "cell_type": "code",
   "execution_count": 22,
   "metadata": {},
   "outputs": [
    {
     "data": {
      "image/png": "[encoded data removed]",
      "text/plain": [
       "<Figure size 432x288 with 1 Axes>"
      ]
     },
     "metadata": {
      "needs_background": "light"
     },
     "output_type": "display_data"
    }
   ],
   "source": [
    "# собрал данные в одном датафрейме\n",
    "mergedCumulativeRevenue = cumulativeRevenueA.merge(\n",
    "    cumulativeRevenueB, left_on='date', right_on='date', how='left', suffixes=['A', 'B']\n",
    ")\n",
    "\n",
    "# построл график относительного изменения средних чеков по группам\n",
    "plt.xticks(rotation=45)\n",
    "plt.plot(\n",
    "    mergedCumulativeRevenue['date'],\n",
    "    (mergedCumulativeRevenue['revenueB'] / mergedCumulativeRevenue['ordersB']) /     \n",
    "    (mergedCumulativeRevenue['revenueA'] / mergedCumulativeRevenue['ordersA']) - 1\n",
    ")\n",
    "plt.ylabel('Изменения сред. чека группы B к группе A')\n",
    "plt.xlabel('Дата привлечения')\n",
    "plt.title('Относительное изменение средних чеков по группам')\n",
    "# добавил ось x\n",
    "plt.axhline(y=0, color='black', linestyle='--');"
   ]
  },
  {
   "cell_type": "markdown",
   "metadata": {},
   "source": [
    "Во многих местах график скачет за счёт выбросов. Нужно будет из проанализировать"
   ]
  },
  {
   "cell_type": "markdown",
   "metadata": {},
   "source": [
    "### 2.5 Постройте график относительного изменения кумулятивной конверсии группы B к группе A. Сделайте выводы и предположения"
   ]
  },
  {
   "cell_type": "code",
   "execution_count": 23,
   "metadata": {},
   "outputs": [
    {
     "data": {
      "image/png": "[encoded data removed]",
      "text/plain": [
       "<Figure size 432x288 with 1 Axes>"
      ]
     },
     "metadata": {
      "needs_background": "light"
     },
     "output_type": "display_data"
    }
   ],
   "source": [
    "# посчитал кумулятивную конверсию\n",
    "cumulativeData['conversion'] = cumulativeData['orders'] / cumulativeData['visitors']\n",
    "\n",
    "# создал датафрейм по группе A\n",
    "cumulativeDataA = cumulativeData[cumulativeData['group'] == 'A']\n",
    "# создал датафрейм по группе B\n",
    "cumulativeDataB = cumulativeData[cumulativeData['group'] == 'B']\n",
    "\n",
    "# построил график кумулятивной конверсии\n",
    "plt.xticks(rotation=45)\n",
    "plt.plot(cumulativeDataA['date'], cumulativeDataA['conversion'], label='A')\n",
    "plt.plot(cumulativeDataB['date'], cumulativeDataB['conversion'], label='B')\n",
    "plt.ylabel('Конверсия')\n",
    "plt.xlabel('Дата привлечения')\n",
    "plt.title('Конверсия по группам')\n",
    "plt.legend();\n",
    "\n",
    "# задаем масштаб осей\n",
    "plt.axis([dt.datetime(2019, 8, 1), dt.datetime(2019, 8, 31), 0, 0.06]);"
   ]
  },
  {
   "cell_type": "markdown",
   "metadata": {},
   "source": [
    "Конверсия группы B по началу периода была ниже группы A. Но в середине первой неделе конверсия группы B возросла вплоть до конца теста"
   ]
  },
  {
   "cell_type": "code",
   "execution_count": 24,
   "metadata": {},
   "outputs": [
    {
     "data": {
      "image/png": "[encoded data removed]",
      "text/plain": [
       "<Figure size 432x288 with 1 Axes>"
      ]
     },
     "metadata": {
      "needs_background": "light"
     },
     "output_type": "display_data"
    }
   ],
   "source": [
    "# посчитал кумулятивную конверсию\n",
    "cumulativeData['conversion'] = cumulativeData['orders'] / cumulativeData['visitors']\n",
    "\n",
    "# создал датафрейм по группе A\n",
    "cumulativeDataA = cumulativeData[cumulativeData['group'] == 'A']\n",
    "# создал датафрейм по группе B\n",
    "cumulativeDataB = cumulativeData[cumulativeData['group'] == 'B']\n",
    "# собрал данные в одном датафрейме\n",
    "mergedCumulativeConversions = cumulativeDataA[['date','conversion']].merge(\n",
    "    cumulativeDataB[['date','conversion']], left_on='date', right_on='date', how='left', suffixes=['A', 'B']\n",
    ")\n",
    "\n",
    "# построил график относительного изменения конверсии по группам\n",
    "plt.xticks(rotation=45)\n",
    "plt.plot(\n",
    "    mergedCumulativeConversions['date'], \n",
    "    mergedCumulativeConversions['conversionB'] / mergedCumulativeConversions['conversionA'] - 1\n",
    ")\n",
    "plt.ylabel('Изменения конверсии группы B к группе A')\n",
    "plt.xlabel('Дата привлечения')\n",
    "plt.title('Относительное изменение конверсии по группам')\n",
    "# добавил оси x и масштаб анализа\n",
    "plt.axhline(y=0, color='black', linestyle='--')\n",
    "#plt.axhline(y=-0.1, color='grey', linestyle='--')\n",
    "plt.axis([dt.datetime(2019, 8, 1), dt.datetime(2019, 8, 31), -0.2, 0.6]);"
   ]
  },
  {
   "cell_type": "markdown",
   "metadata": {},
   "source": [
    "Здесь замечаем такую же ситуацию"
   ]
  },
  {
   "cell_type": "markdown",
   "metadata": {},
   "source": [
    "### 2.6 Постройте точечный график количества заказов по пользователям. Сделайте выводы и предположения"
   ]
  },
  {
   "cell_type": "code",
   "execution_count": 25,
   "metadata": {},
   "outputs": [
    {
     "data": {
      "image/png": "[encoded data removed]",
      "text/plain": [
       "<Figure size 432x288 with 1 Axes>"
      ]
     },
     "metadata": {
      "needs_background": "light"
     },
     "output_type": "display_data"
    }
   ],
   "source": [
    "# посчитал количество заказов по пользователям\n",
    "ordersByUsers = (\n",
    "    orders.groupby('visitorId', as_index=False)\n",
    "    .agg({'transactionId': 'nunique'})\n",
    ")\n",
    "\n",
    "# построл точечный график по количеству заказов по пользователям\n",
    "x_values = pd.Series(range(0, len(ordersByUsers)))\n",
    "plt.scatter(x_values, ordersByUsers['transactionId'], color='gray')\n",
    "plt.ylabel('Кол. заказов')\n",
    "plt.xlabel('Поряд. № пользователя')\n",
    "plt.title('Количество заказов по пользователям');"
   ]
  },
  {
   "cell_type": "markdown",
   "metadata": {},
   "source": [
    "Видно, что пользователей, заказавших более двух заказов не так уж и много. Следует обратить на аномальные выбросы после трёх заказов"
   ]
  },
  {
   "cell_type": "markdown",
   "metadata": {},
   "source": [
    "### 2.7 Посчитайте 95-й и 99-й перцентили количества заказов на пользователя. Выберите границу для определения аномальных пользователей"
   ]
  },
  {
   "cell_type": "code",
   "execution_count": 26,
   "metadata": {},
   "outputs": [
    {
     "name": "stdout",
     "output_type": "stream",
     "text": [
      "[2. 4.]\n"
     ]
    }
   ],
   "source": [
    "# посчитал 95-й и 99-й перцентили количества заказов на одного пользователя\n",
    "print(np.percentile(ordersByUsers['transactionId'], [95, 99]))"
   ]
  },
  {
   "cell_type": "markdown",
   "metadata": {},
   "source": [
    "Не более 5% пользователей совершали больше двух заказов и не более 1% пользователей больше четырёх заказов. Границу аномальных пользователей следует определить после четырёх заказов"
   ]
  },
  {
   "cell_type": "markdown",
   "metadata": {},
   "source": [
    "### 2.8 Постройте точечный график стоимостей заказов. Сделайте выводы и предположения"
   ]
  },
  {
   "cell_type": "code",
   "execution_count": 27,
   "metadata": {},
   "outputs": [
    {
     "data": {
      "image/png": "[encoded data removed]",
      "text/plain": [
       "<Figure size 432x288 with 1 Axes>"
      ]
     },
     "metadata": {
      "needs_background": "light"
     },
     "output_type": "display_data"
    }
   ],
   "source": [
    "# построл точечный график по стоимости заказов\n",
    "x_values = pd.Series(range(0, len(orders['revenue'])))\n",
    "plt.scatter(x_values, orders['revenue'], color='grey')\n",
    "plt.ylabel('Стоимость заказов')\n",
    "plt.xlabel('Поряд. № пользователя')\n",
    "plt.title('Стоимость заказов');"
   ]
  },
  {
   "cell_type": "markdown",
   "metadata": {},
   "source": [
    "На графике замечено, что стоимость заказов базируется до 100 тыс рублей. Имеется аномальный выброс в районе 200 тыс рублей и 1.3 млн рублей"
   ]
  },
  {
   "cell_type": "code",
   "execution_count": 28,
   "metadata": {},
   "outputs": [
    {
     "data": {
      "text/html": [
       "<div>\n",
       "<style scoped>\n",
       "    .dataframe tbody tr th:only-of-type {\n",
       "        vertical-align: middle;\n",
       "    }\n",
       "\n",
       "    .dataframe tbody tr th {\n",
       "        vertical-align: top;\n",
       "    }\n",
       "\n",
       "    .dataframe thead th {\n",
       "        text-align: right;\n",
       "    }\n",
       "</style>\n",
       "<table border=\"1\" class=\"dataframe\">\n",
       "  <thead>\n",
       "    <tr style=\"text-align: right;\">\n",
       "      <th></th>\n",
       "      <th>transactionId</th>\n",
       "      <th>visitorId</th>\n",
       "      <th>date</th>\n",
       "      <th>revenue</th>\n",
       "      <th>group</th>\n",
       "    </tr>\n",
       "  </thead>\n",
       "  <tbody>\n",
       "    <tr>\n",
       "      <th>425</th>\n",
       "      <td>590470918</td>\n",
       "      <td>1920142716</td>\n",
       "      <td>2019-08-19</td>\n",
       "      <td>1294500</td>\n",
       "      <td>B</td>\n",
       "    </tr>\n",
       "    <tr>\n",
       "      <th>1196</th>\n",
       "      <td>3936777065</td>\n",
       "      <td>2108080724</td>\n",
       "      <td>2019-08-15</td>\n",
       "      <td>202740</td>\n",
       "      <td>B</td>\n",
       "    </tr>\n",
       "  </tbody>\n",
       "</table>\n",
       "</div>"
      ],
      "text/plain": [
       "      transactionId   visitorId       date  revenue group\n",
       "425       590470918  1920142716 2019-08-19  1294500     B\n",
       "1196     3936777065  2108080724 2019-08-15   202740     B"
      ]
     },
     "execution_count": 28,
     "metadata": {},
     "output_type": "execute_result"
    }
   ],
   "source": [
    "# посмотрел у какой группы аномальные заказы\n",
    "orders[orders['revenue'] > 100000]"
   ]
  },
  {
   "cell_type": "markdown",
   "metadata": {},
   "source": [
    "### 2.9 Посчитайте 95-й и 99-й перцентили стоимости заказов. Выберите границу для определения аномальных заказов"
   ]
  },
  {
   "cell_type": "code",
   "execution_count": 29,
   "metadata": {},
   "outputs": [
    {
     "name": "stdout",
     "output_type": "stream",
     "text": [
      "[28000.  58233.2]\n"
     ]
    }
   ],
   "source": [
    "# посчитал 95-й и 99-й перцентили стоимости заказов\n",
    "print(np.percentile(orders['revenue'],  [95, 99]))"
   ]
  },
  {
   "cell_type": "markdown",
   "metadata": {},
   "source": [
    "Не более 5% заказов имеют чек дороже 28000 рублей и не более 1% дороже 58234 рублей. Аномальная стоимость заказов начинаются после 30000 рублей"
   ]
  },
  {
   "cell_type": "markdown",
   "metadata": {},
   "source": [
    "### 2.10 Посчитайте статистическую значимость различий в конверсии между группами по «сырым» данным. Сделайте выводы и предположения"
   ]
  },
  {
   "cell_type": "markdown",
   "metadata": {},
   "source": [
    "Формулировка гипотез\n",
    "\n",
    "**Нулевая:** различий в конверсии между группами нет\n",
    " \n",
    "**Альтернативная:** различия в конверсии между группами есть"
   ]
  },
  {
   "cell_type": "code",
   "execution_count": 30,
   "metadata": {},
   "outputs": [
    {
     "name": "stdout",
     "output_type": "stream",
     "text": [
      "P-значение 0.017\n",
      "Отвергаем нулевую гипотезу: различия в конверсии между группами есть\n",
      "\n",
      "Относительный прирост: 0.138\n"
     ]
    }
   ],
   "source": [
    "# создал датафрейм по количеству пользователей в выбранную дату в группе A\n",
    "visitorsADaily = visitors[visitors['group'] == 'A'][['date', 'visitors']]\n",
    "visitorsADaily.columns = ['date', 'visitorsPerDateA']\n",
    "# создал датафрейм по количеству пользователей в выбранную дату в группе B\n",
    "visitorsBDaily = visitors[visitors['group'] == 'B'][['date', 'visitors']]\n",
    "visitorsBDaily.columns = ['date', 'visitorsPerDateB']\n",
    "\n",
    "# указывал число совершённых заказов для пользоватлей, которые хотя бы сделали 1 заказ по группе A\n",
    "ordersByUsersA = (\n",
    "    orders[orders['group'] == 'A']\n",
    "    .groupby('visitorId', as_index=False)\n",
    "    .agg({'transactionId': 'nunique'})\n",
    ")\n",
    "# переменовал столбцы\n",
    "ordersByUsersA.columns = ['userId', 'orders']\n",
    "# указывал число совершённых заказов для пользоватлей, которые хотя бы сделали 1 заказ по группе B\n",
    "ordersByUsersB = (\n",
    "    orders[orders['group'] == 'B']\n",
    "    .groupby('visitorId', as_index=False)\n",
    "    .agg({'transactionId': 'nunique'})\n",
    ")\n",
    "# переменовал столбцы\n",
    "ordersByUsersB.columns = ['userId', 'orders']\n",
    "\n",
    "\n",
    "sampleA = pd.concat(\n",
    "    [ordersByUsersA['orders'], \n",
    "    pd.Series(0, index=np.arange(visitorsADaily['visitorsPerDateA'].sum() - len(ordersByUsersA['orders'])), \n",
    "    name='orders')], axis=0\n",
    ")\n",
    "\n",
    "sampleB = pd.concat(\n",
    "    [ordersByUsersB['orders'], \n",
    "    pd.Series(0, index=np.arange(visitorsBDaily['visitorsPerDateB'].sum() - len(ordersByUsersB['orders'])), \n",
    "    name='orders')], axis=0\n",
    ")\n",
    "\n",
    "# посчитал статистическую значимость различия средних чеков между группами по «сырым» данным\n",
    "alpha = .05\n",
    "\n",
    "results = st.mannwhitneyu(sampleA, sampleB)\n",
    "\n",
    "print('P-значение', round(results.pvalue, 3))\n",
    "\n",
    "if results.pvalue < alpha:\n",
    "    print('Отвергаем нулевую гипотезу: различия в конверсии между группами есть')\n",
    "else:\n",
    "    print('Не получилось отвергнуть нулевую гипотезу, различия в конверсии между группами нет') \n",
    "print()\n",
    "# посчитал относительное различие в конверсии между группами\n",
    "print('Относительный прирост: {0:.3f}'.format(sampleB.mean() / sampleA.mean() - 1))"
   ]
  },
  {
   "cell_type": "markdown",
   "metadata": {},
   "source": [
    "P-value равняется 0.017 и получается меньше 0.05. Значит нулевую гипотезу следует отвергнуть - различия между группами в конверсии есть. Относительный прирост группы B к группе A равен 14%"
   ]
  },
  {
   "cell_type": "markdown",
   "metadata": {},
   "source": [
    "### 2.11 Посчитайте статистическую значимость различий в среднем чеке заказа между группами по «сырым» данным. Сделайте выводы и предположения"
   ]
  },
  {
   "cell_type": "markdown",
   "metadata": {},
   "source": [
    "Формулировка гипотез\n",
    "\n",
    "**Нулевая гипотеза:** различий в среднем чеке между группами нет\n",
    "\n",
    "**Альтернативная гипотеза:** различия в среднем чеке между группами есть"
   ]
  },
  {
   "cell_type": "code",
   "execution_count": 31,
   "metadata": {},
   "outputs": [
    {
     "name": "stdout",
     "output_type": "stream",
     "text": [
      "P-значение 0.729\n",
      "Не получилось отвергнуть нулевую гипотезу, различий в среднем чеке между группами нет\n",
      "\n",
      "Относительный прирост: 0.259\n"
     ]
    }
   ],
   "source": [
    "# посчитал статистическую значимость различия средних чеков между группами по «сырым» данным\n",
    "alpha = .05\n",
    "\n",
    "results = st.mannwhitneyu(orders[orders['group']=='A']['revenue'], orders[orders['group']=='B']['revenue'])\n",
    "\n",
    "print('P-значение', round(results.pvalue, 3))\n",
    "\n",
    "if results.pvalue < alpha:\n",
    "    print('Отвергаем нулевую гипотезу: различий в среднем чеке между группами есть')\n",
    "else:\n",
    "    print('Не получилось отвергнуть нулевую гипотезу, различий в среднем чеке между группами нет')\n",
    "print()\n",
    "# посчитал относительный прирост среднего чека группы B\n",
    "print('Относительный прирост: {0:.3f}'.format(\n",
    "    orders[orders['group']=='B']['revenue'].mean() / orders[orders['group']=='A']['revenue'].mean() - 1)\n",
    ")"
   ]
  },
  {
   "cell_type": "markdown",
   "metadata": {},
   "source": [
    "P-value значительно больше 0.05, значит отвергать нулевую гипотезу не следует - различий в среднем чеке между группами нет. Что касается относительного прироста по группам, то у группы B он на 26% больше, чем у другой группы"
   ]
  },
  {
   "cell_type": "markdown",
   "metadata": {},
   "source": [
    "### 2.12 Посчитайте статистическую значимость различий в конверсии между группами по «очищенным» данным. Сделайте выводы и предположения"
   ]
  },
  {
   "cell_type": "code",
   "execution_count": 32,
   "metadata": {},
   "outputs": [
    {
     "name": "stdout",
     "output_type": "stream",
     "text": [
      "53\n"
     ]
    }
   ],
   "source": [
    "# очистил данные от аномальных данных\n",
    "usersWithManyOrders = pd.concat(\n",
    "    [ordersByUsersA[ordersByUsersA['orders'] > 4]['userId'], ordersByUsersB[ordersByUsersB['orders'] > 4]['userId']], axis=0\n",
    ")\n",
    "usersWithExpensiveOrders = orders[orders['revenue'] > 30000]['visitorId']\n",
    "abnormalUsers = (\n",
    "    pd.concat([usersWithManyOrders, usersWithExpensiveOrders], axis=0)\n",
    "    .drop_duplicates().sort_values()\n",
    ")\n",
    "# посмотрел сколько всего аномальных пользователей\n",
    "print(abnormalUsers.shape[0]) "
   ]
  },
  {
   "cell_type": "markdown",
   "metadata": {},
   "source": [
    "Насчитывется 53 аномальных пользователей"
   ]
  },
  {
   "cell_type": "code",
   "execution_count": 33,
   "metadata": {},
   "outputs": [
    {
     "name": "stdout",
     "output_type": "stream",
     "text": [
      "P-значение 0.019\n",
      "Отвергаем нулевую гипотезу: различия в конверсии между группами есть\n",
      "\n",
      "Относительный прирост: 0.144\n"
     ]
    }
   ],
   "source": [
    "sampleAFiltered  = pd.concat(\n",
    "    [ordersByUsersA[np.logical_not(ordersByUsersA['userId'].isin(abnormalUsers))]['orders'], \n",
    "    pd.Series(0, index=np.arange(visitorsADaily['visitorsPerDateA'].sum() - len(ordersByUsersA['orders'])), \n",
    "    name='orders')], axis=0\n",
    ")\n",
    "\n",
    "sampleBFiltered  = pd.concat(\n",
    "    [ordersByUsersB[np.logical_not(ordersByUsersB['userId'].isin(abnormalUsers))]['orders'], \n",
    "    pd.Series(0, index=np.arange(visitorsBDaily['visitorsPerDateB'].sum() - len(ordersByUsersB['orders'])), \n",
    "    name='orders')],axis=0\n",
    ")\n",
    "# посчитал статистическую значимость различия конверсии между граппами по «очищенным» данным\n",
    "alpha = .05\n",
    "\n",
    "results = st.mannwhitneyu(sampleAFiltered, sampleBFiltered)\n",
    "\n",
    "print('P-значение', round(results.pvalue, 3))\n",
    "\n",
    "if results.pvalue < alpha:\n",
    "    print('Отвергаем нулевую гипотезу: различия в конверсии между группами есть')\n",
    "else:\n",
    "    print('Не получилось отвергнуть нулевую гипотезу, различия в конверсии между группами нет') \n",
    "print()\n",
    "# посчитал относительное различие в конверсии между группами\n",
    "print('Относительный прирост: {0:.3f}'.format(sampleBFiltered.mean() / sampleAFiltered.mean() - 1))"
   ]
  },
  {
   "cell_type": "markdown",
   "metadata": {},
   "source": [
    "По данным видно, результаты по конверсии практически не изменились"
   ]
  },
  {
   "cell_type": "markdown",
   "metadata": {},
   "source": [
    "### 2.13 Посчитайте статистическую значимость различий в среднем чеке заказа между группами по «очищенным» данным. Сделайте выводы и предположения"
   ]
  },
  {
   "cell_type": "code",
   "execution_count": 34,
   "metadata": {},
   "outputs": [
    {
     "name": "stdout",
     "output_type": "stream",
     "text": [
      "P-значение 0.979\n",
      "Не получилось отвергнуть нулевую гипотезу, различий в среднем чеке между группами нет\n",
      "\n",
      "Относительный прирост: -0.017\n"
     ]
    }
   ],
   "source": [
    "# посчитал статистическую значимость различия в среднем чеке между граппами по «очищенным» данным\n",
    "alpha = .05\n",
    "\n",
    "results = st.mannwhitneyu(orders[\n",
    "    np.logical_and(orders['group'] == 'A', \n",
    "    np.logical_not(orders['visitorId'].isin(abnormalUsers)),\n",
    "    )]['revenue'],orders[\n",
    "    np.logical_and(orders['group'] == 'B', \n",
    "    np.logical_not(orders['visitorId'].isin(abnormalUsers)),\n",
    "    )]['revenue']\n",
    ")\n",
    "\n",
    "print('P-значение', round(results.pvalue, 3))\n",
    "\n",
    "if results.pvalue < alpha:\n",
    "    print('Отвергаем нулевую гипотезу: различий в среднем чеке между группами есть')\n",
    "else:\n",
    "    print('Не получилось отвергнуть нулевую гипотезу, различий в среднем чеке между группами нет')\n",
    "print()\n",
    "# посчитал относительное различие в среднем чеке между группами\n",
    "print(\n",
    "    'Относительный прирост: {0:.3f}'.format(orders[\n",
    "    np.logical_and(orders['group'] == 'B',\n",
    "    np.logical_not(orders['visitorId'].isin(abnormalUsers)),\n",
    "    )]['revenue'].mean() / orders[\n",
    "    np.logical_and(orders['group'] == 'A',\n",
    "    np.logical_not(orders['visitorId'].isin(abnormalUsers)),\n",
    "    )]['revenue'].mean() - 1)\n",
    ")"
   ]
  },
  {
   "cell_type": "markdown",
   "metadata": {},
   "source": [
    "Здесь ситуация различается. P-value изменился в большую сторону за счёт «очищенных» данных, а относительное различие группы B потерпело проигрыш у группы A на 2%"
   ]
  },
  {
   "cell_type": "markdown",
   "metadata": {},
   "source": [
    "### 2.14 Примите решение по результатам теста и объясните его. Варианты решений: 1. Остановить тест, зафиксировать победу одной из групп. 2. Остановить тест, зафиксировать отсутствие различий между группами. 3. Продолжить тест"
   ]
  },
  {
   "cell_type": "markdown",
   "metadata": {},
   "source": [
    "Исходя из данных, тест следует остановить и зафиксировать победу группы B. Относительный прирост конверсии группы B выше, чем у группы A как в сырых данных, так и в очищенных. Выручка онлайн магазина соответственно тоже увеличивается."
   ]
  },
  {
   "cell_type": "markdown",
   "metadata": {},
   "source": [
    "## 3. Общий вывод\n",
    "\n",
    "* Была выявлена самая охватываемая гипотеза - добавить форму подписки на все основные страницы, чтобы собрать базу клиентов для email-рассылок\n",
    "\n",
    "\n",
    "* Также проанализирована кумулятативаная выручка и среднего чека по группам, был выявлен победитель - группа B засчёт 2 аномально больших заказов. Ещё изучена динамика относительного изменения кумулятативаной конверсии и среднего чека по группам, там же группы B стала победителем \n",
    "\n",
    "\n",
    "* Найдены аномальные пользователи по количеству и стоимости заказа\n",
    "\n",
    "\n",
    "* Посчитана статистическая значимость по конверсии и среднему чеку по группам, сначала по сырым данным, а потом по очищенным. В ходе подсчётов конверсии разницы между группами не наблюдается, имеется относительный прирост группы B к группе A. Что касается среднего чека, то статистическая значимость есть, но небольшая между группами данных. Относительный прирост по сырым данным группы B к группе A - 26%, а по очищенным данным имеет отрицательное значение: -2%"
   ]
  }
 ],
 "metadata": {
  "ExecuteTimeLog": [
   {
    "duration": 416,
    "start_time": "2022-05-11T06:12:29.812Z"
   },
   {
    "duration": 64,
    "start_time": "2022-05-11T06:12:46.272Z"
   },
   {
    "duration": 7,
    "start_time": "2022-05-11T06:12:56.305Z"
   },
   {
    "duration": 3,
    "start_time": "2022-05-11T06:12:59.871Z"
   },
   {
    "duration": 28,
    "start_time": "2022-05-11T06:13:00.152Z"
   },
   {
    "duration": 5,
    "start_time": "2022-05-11T06:13:18.950Z"
   },
   {
    "duration": 4,
    "start_time": "2022-05-11T06:15:24.372Z"
   },
   {
    "duration": 6,
    "start_time": "2022-05-11T06:15:30.171Z"
   },
   {
    "duration": 16,
    "start_time": "2022-05-11T06:15:45.224Z"
   },
   {
    "duration": 5,
    "start_time": "2022-05-11T06:15:54.511Z"
   },
   {
    "duration": 430,
    "start_time": "2022-05-11T06:16:00.830Z"
   },
   {
    "duration": 22,
    "start_time": "2022-05-11T06:16:01.262Z"
   },
   {
    "duration": 5,
    "start_time": "2022-05-11T06:16:01.285Z"
   },
   {
    "duration": 5,
    "start_time": "2022-05-11T06:16:07.235Z"
   },
   {
    "duration": 42,
    "start_time": "2022-05-11T09:08:55.707Z"
   },
   {
    "duration": 340,
    "start_time": "2022-05-11T09:09:09.751Z"
   },
   {
    "duration": 27,
    "start_time": "2022-05-11T09:09:10.093Z"
   },
   {
    "duration": 5,
    "start_time": "2022-05-11T09:09:10.124Z"
   },
   {
    "duration": 7,
    "start_time": "2022-05-11T09:09:10.130Z"
   },
   {
    "duration": 11,
    "start_time": "2022-05-11T09:09:10.138Z"
   },
   {
    "duration": 8,
    "start_time": "2022-05-11T09:10:17.039Z"
   },
   {
    "duration": 8,
    "start_time": "2022-05-11T09:10:58.841Z"
   },
   {
    "duration": 373,
    "start_time": "2022-05-11T09:11:12.617Z"
   },
   {
    "duration": 27,
    "start_time": "2022-05-11T09:11:12.992Z"
   },
   {
    "duration": 5,
    "start_time": "2022-05-11T09:11:13.020Z"
   },
   {
    "duration": 13,
    "start_time": "2022-05-11T09:11:13.027Z"
   },
   {
    "duration": 10,
    "start_time": "2022-05-11T09:11:13.041Z"
   },
   {
    "duration": 4,
    "start_time": "2022-05-11T09:15:23.540Z"
   },
   {
    "duration": 9,
    "start_time": "2022-05-11T09:15:26.397Z"
   },
   {
    "duration": 186,
    "start_time": "2022-05-11T09:16:39.864Z"
   },
   {
    "duration": 62,
    "start_time": "2022-05-11T09:16:51.281Z"
   },
   {
    "duration": 10,
    "start_time": "2022-05-11T09:21:03.954Z"
   },
   {
    "duration": 9,
    "start_time": "2022-05-11T09:21:14.850Z"
   },
   {
    "duration": 10,
    "start_time": "2022-05-11T09:21:46.869Z"
   },
   {
    "duration": 6,
    "start_time": "2022-05-11T09:21:55.217Z"
   },
   {
    "duration": 8,
    "start_time": "2022-05-11T09:22:07.452Z"
   },
   {
    "duration": 367,
    "start_time": "2022-05-11T09:22:16.339Z"
   },
   {
    "duration": 41,
    "start_time": "2022-05-11T09:22:16.708Z"
   },
   {
    "duration": 5,
    "start_time": "2022-05-11T09:22:16.752Z"
   },
   {
    "duration": 10,
    "start_time": "2022-05-11T09:22:16.759Z"
   },
   {
    "duration": 12,
    "start_time": "2022-05-11T09:22:16.771Z"
   },
   {
    "duration": 12,
    "start_time": "2022-05-11T09:22:16.785Z"
   },
   {
    "duration": 2796,
    "start_time": "2022-05-11T09:24:36.137Z"
   },
   {
    "duration": 14,
    "start_time": "2022-05-11T09:24:49.035Z"
   },
   {
    "duration": 1475,
    "start_time": "2022-05-11T17:13:18.599Z"
   },
   {
    "duration": 4,
    "start_time": "2022-05-11T17:13:38.010Z"
   },
   {
    "duration": 142,
    "start_time": "2022-05-11T17:14:04.774Z"
   },
   {
    "duration": 1080,
    "start_time": "2022-05-11T17:14:11.972Z"
   },
   {
    "duration": 69,
    "start_time": "2022-05-11T17:14:13.054Z"
   },
   {
    "duration": 8,
    "start_time": "2022-05-11T17:14:13.125Z"
   },
   {
    "duration": 15,
    "start_time": "2022-05-11T17:14:13.135Z"
   },
   {
    "duration": 41,
    "start_time": "2022-05-11T17:14:13.152Z"
   },
   {
    "duration": 17,
    "start_time": "2022-05-11T17:14:13.196Z"
   },
   {
    "duration": 16,
    "start_time": "2022-05-11T17:14:13.215Z"
   },
   {
    "duration": 16,
    "start_time": "2022-05-11T17:14:40.965Z"
   },
   {
    "duration": 18,
    "start_time": "2022-05-11T17:14:58.506Z"
   },
   {
    "duration": 16,
    "start_time": "2022-05-11T17:15:10.765Z"
   },
   {
    "duration": 15,
    "start_time": "2022-05-11T17:15:17.786Z"
   },
   {
    "duration": 16,
    "start_time": "2022-05-11T17:15:21.163Z"
   },
   {
    "duration": 865,
    "start_time": "2022-05-12T18:31:59.911Z"
   },
   {
    "duration": 27,
    "start_time": "2022-05-12T18:32:00.778Z"
   },
   {
    "duration": 5,
    "start_time": "2022-05-12T18:32:00.807Z"
   },
   {
    "duration": 102,
    "start_time": "2022-05-12T18:32:00.814Z"
   },
   {
    "duration": 0,
    "start_time": "2022-05-12T18:32:00.918Z"
   },
   {
    "duration": 0,
    "start_time": "2022-05-12T18:32:00.919Z"
   },
   {
    "duration": 0,
    "start_time": "2022-05-12T18:32:00.920Z"
   },
   {
    "duration": 3,
    "start_time": "2022-05-12T18:33:23.514Z"
   },
   {
    "duration": 8,
    "start_time": "2022-05-12T18:33:43.937Z"
   },
   {
    "duration": 28,
    "start_time": "2022-05-12T18:35:02.163Z"
   },
   {
    "duration": 15,
    "start_time": "2022-05-12T18:35:04.349Z"
   },
   {
    "duration": 12,
    "start_time": "2022-05-12T18:42:02.773Z"
   },
   {
    "duration": 11,
    "start_time": "2022-05-12T18:45:15.911Z"
   },
   {
    "duration": 43,
    "start_time": "2022-05-13T07:49:25.618Z"
   },
   {
    "duration": 825,
    "start_time": "2022-05-13T07:49:31.781Z"
   },
   {
    "duration": 43,
    "start_time": "2022-05-13T07:49:32.608Z"
   },
   {
    "duration": 5,
    "start_time": "2022-05-13T07:49:32.653Z"
   },
   {
    "duration": 9,
    "start_time": "2022-05-13T07:49:32.661Z"
   },
   {
    "duration": 10,
    "start_time": "2022-05-13T07:49:32.672Z"
   },
   {
    "duration": 20,
    "start_time": "2022-05-13T07:49:32.684Z"
   },
   {
    "duration": 10,
    "start_time": "2022-05-13T07:49:32.706Z"
   },
   {
    "duration": 40,
    "start_time": "2022-05-13T07:49:32.718Z"
   },
   {
    "duration": 9,
    "start_time": "2022-05-13T07:49:32.760Z"
   },
   {
    "duration": 6,
    "start_time": "2022-05-13T07:49:32.772Z"
   },
   {
    "duration": 11,
    "start_time": "2022-05-13T07:49:32.779Z"
   },
   {
    "duration": 21,
    "start_time": "2022-05-13T07:49:32.791Z"
   },
   {
    "duration": 78,
    "start_time": "2022-05-13T07:54:10.251Z"
   },
   {
    "duration": 822,
    "start_time": "2022-05-13T07:54:18.078Z"
   },
   {
    "duration": 25,
    "start_time": "2022-05-13T07:54:18.902Z"
   },
   {
    "duration": 5,
    "start_time": "2022-05-13T07:54:18.928Z"
   },
   {
    "duration": 8,
    "start_time": "2022-05-13T07:54:18.935Z"
   },
   {
    "duration": 11,
    "start_time": "2022-05-13T07:54:18.944Z"
   },
   {
    "duration": 87,
    "start_time": "2022-05-13T07:54:18.956Z"
   },
   {
    "duration": 0,
    "start_time": "2022-05-13T07:54:19.045Z"
   },
   {
    "duration": 0,
    "start_time": "2022-05-13T07:54:19.046Z"
   },
   {
    "duration": 0,
    "start_time": "2022-05-13T07:54:19.047Z"
   },
   {
    "duration": 0,
    "start_time": "2022-05-13T07:54:19.048Z"
   },
   {
    "duration": 0,
    "start_time": "2022-05-13T07:54:19.049Z"
   },
   {
    "duration": 0,
    "start_time": "2022-05-13T07:54:19.050Z"
   },
   {
    "duration": 13,
    "start_time": "2022-05-13T07:54:45.895Z"
   },
   {
    "duration": 10,
    "start_time": "2022-05-13T07:54:46.994Z"
   },
   {
    "duration": 41,
    "start_time": "2022-05-13T07:54:48.424Z"
   },
   {
    "duration": 10,
    "start_time": "2022-05-13T07:54:48.467Z"
   },
   {
    "duration": 9,
    "start_time": "2022-05-13T07:54:48.478Z"
   },
   {
    "duration": 19,
    "start_time": "2022-05-13T07:54:48.670Z"
   },
   {
    "duration": 9,
    "start_time": "2022-05-13T07:54:48.856Z"
   },
   {
    "duration": 5,
    "start_time": "2022-05-13T07:54:57.438Z"
   },
   {
    "duration": 3,
    "start_time": "2022-05-13T07:55:08.169Z"
   },
   {
    "duration": 9,
    "start_time": "2022-05-13T07:55:35.748Z"
   },
   {
    "duration": 10,
    "start_time": "2022-05-13T07:55:56.532Z"
   },
   {
    "duration": 800,
    "start_time": "2022-05-13T07:56:01.711Z"
   },
   {
    "duration": 26,
    "start_time": "2022-05-13T07:56:02.513Z"
   },
   {
    "duration": 4,
    "start_time": "2022-05-13T07:56:02.541Z"
   },
   {
    "duration": 14,
    "start_time": "2022-05-13T07:56:02.548Z"
   },
   {
    "duration": 3127,
    "start_time": "2022-05-13T07:56:02.564Z"
   },
   {
    "duration": 0,
    "start_time": "2022-05-13T07:56:05.693Z"
   },
   {
    "duration": 0,
    "start_time": "2022-05-13T07:56:05.694Z"
   },
   {
    "duration": 0,
    "start_time": "2022-05-13T07:56:05.695Z"
   },
   {
    "duration": 0,
    "start_time": "2022-05-13T07:56:05.696Z"
   },
   {
    "duration": 1,
    "start_time": "2022-05-13T07:56:05.696Z"
   },
   {
    "duration": 0,
    "start_time": "2022-05-13T07:56:05.698Z"
   },
   {
    "duration": 0,
    "start_time": "2022-05-13T07:56:05.698Z"
   },
   {
    "duration": 0,
    "start_time": "2022-05-13T07:56:05.699Z"
   },
   {
    "duration": 170,
    "start_time": "2022-05-13T07:58:16.071Z"
   },
   {
    "duration": 8,
    "start_time": "2022-05-13T07:58:20.767Z"
   },
   {
    "duration": 9,
    "start_time": "2022-05-13T07:58:23.805Z"
   },
   {
    "duration": 7,
    "start_time": "2022-05-13T07:58:49.335Z"
   },
   {
    "duration": 772,
    "start_time": "2022-05-13T07:58:58.033Z"
   },
   {
    "duration": 25,
    "start_time": "2022-05-13T07:58:58.807Z"
   },
   {
    "duration": 5,
    "start_time": "2022-05-13T07:58:58.833Z"
   },
   {
    "duration": 11,
    "start_time": "2022-05-13T07:58:58.840Z"
   },
   {
    "duration": 14,
    "start_time": "2022-05-13T07:58:58.853Z"
   },
   {
    "duration": 12,
    "start_time": "2022-05-13T07:58:58.869Z"
   },
   {
    "duration": 24,
    "start_time": "2022-05-13T07:58:58.883Z"
   },
   {
    "duration": 9,
    "start_time": "2022-05-13T07:58:58.909Z"
   },
   {
    "duration": 46,
    "start_time": "2022-05-13T07:58:58.920Z"
   },
   {
    "duration": 10,
    "start_time": "2022-05-13T07:58:58.968Z"
   },
   {
    "duration": 7,
    "start_time": "2022-05-13T07:58:58.979Z"
   },
   {
    "duration": 21,
    "start_time": "2022-05-13T07:58:58.988Z"
   },
   {
    "duration": 11,
    "start_time": "2022-05-13T07:58:59.010Z"
   },
   {
    "duration": 8,
    "start_time": "2022-05-13T07:58:59.022Z"
   },
   {
    "duration": 5,
    "start_time": "2022-05-13T09:04:29.480Z"
   },
   {
    "duration": 11,
    "start_time": "2022-05-13T09:04:41.292Z"
   },
   {
    "duration": 13,
    "start_time": "2022-05-13T09:05:19.124Z"
   },
   {
    "duration": 13,
    "start_time": "2022-05-13T09:05:36.726Z"
   },
   {
    "duration": 5,
    "start_time": "2022-05-13T09:08:40.402Z"
   },
   {
    "duration": 6,
    "start_time": "2022-05-13T09:09:14.364Z"
   },
   {
    "duration": 4,
    "start_time": "2022-05-13T09:09:38.516Z"
   },
   {
    "duration": 81,
    "start_time": "2022-05-13T09:10:31.644Z"
   },
   {
    "duration": 0,
    "start_time": "2022-05-13T09:10:47.179Z"
   },
   {
    "duration": 0,
    "start_time": "2022-05-13T09:10:47.181Z"
   },
   {
    "duration": 0,
    "start_time": "2022-05-13T09:10:47.182Z"
   },
   {
    "duration": 0,
    "start_time": "2022-05-13T09:10:47.183Z"
   },
   {
    "duration": 0,
    "start_time": "2022-05-13T09:10:47.200Z"
   },
   {
    "duration": 0,
    "start_time": "2022-05-13T09:10:47.201Z"
   },
   {
    "duration": 0,
    "start_time": "2022-05-13T09:10:47.202Z"
   },
   {
    "duration": 0,
    "start_time": "2022-05-13T09:10:47.203Z"
   },
   {
    "duration": 0,
    "start_time": "2022-05-13T09:10:47.204Z"
   },
   {
    "duration": 0,
    "start_time": "2022-05-13T09:10:47.205Z"
   },
   {
    "duration": 0,
    "start_time": "2022-05-13T09:10:47.205Z"
   },
   {
    "duration": 0,
    "start_time": "2022-05-13T09:10:47.206Z"
   },
   {
    "duration": 0,
    "start_time": "2022-05-13T09:10:47.207Z"
   },
   {
    "duration": 0,
    "start_time": "2022-05-13T09:10:47.208Z"
   },
   {
    "duration": 0,
    "start_time": "2022-05-13T09:10:47.209Z"
   },
   {
    "duration": 0,
    "start_time": "2022-05-13T09:10:47.210Z"
   },
   {
    "duration": 0,
    "start_time": "2022-05-13T09:10:47.211Z"
   },
   {
    "duration": 381,
    "start_time": "2022-05-13T09:11:23.553Z"
   },
   {
    "duration": 1028,
    "start_time": "2022-05-13T09:11:29.114Z"
   },
   {
    "duration": 71,
    "start_time": "2022-05-13T09:11:30.144Z"
   },
   {
    "duration": 5,
    "start_time": "2022-05-13T09:11:30.216Z"
   },
   {
    "duration": 37,
    "start_time": "2022-05-13T09:11:30.222Z"
   },
   {
    "duration": 13,
    "start_time": "2022-05-13T09:11:30.261Z"
   },
   {
    "duration": 18,
    "start_time": "2022-05-13T09:11:30.275Z"
   },
   {
    "duration": 18,
    "start_time": "2022-05-13T09:11:30.294Z"
   },
   {
    "duration": 13,
    "start_time": "2022-05-13T09:11:30.314Z"
   },
   {
    "duration": 67,
    "start_time": "2022-05-13T09:11:30.329Z"
   },
   {
    "duration": 10,
    "start_time": "2022-05-13T09:11:30.398Z"
   },
   {
    "duration": 9,
    "start_time": "2022-05-13T09:11:30.410Z"
   },
   {
    "duration": 32,
    "start_time": "2022-05-13T09:11:30.420Z"
   },
   {
    "duration": 9,
    "start_time": "2022-05-13T09:11:30.454Z"
   },
   {
    "duration": 19,
    "start_time": "2022-05-13T09:11:30.466Z"
   },
   {
    "duration": 19,
    "start_time": "2022-05-13T09:11:30.487Z"
   },
   {
    "duration": 127,
    "start_time": "2022-05-13T09:11:30.508Z"
   },
   {
    "duration": 4,
    "start_time": "2022-05-13T09:11:30.637Z"
   },
   {
    "duration": 104,
    "start_time": "2022-05-13T09:12:05.739Z"
   },
   {
    "duration": 2793,
    "start_time": "2022-05-13T09:44:53.652Z"
   },
   {
    "duration": 109,
    "start_time": "2022-05-13T09:45:16.936Z"
   },
   {
    "duration": 6,
    "start_time": "2022-05-13T09:46:13.691Z"
   },
   {
    "duration": 7,
    "start_time": "2022-05-13T09:46:36.066Z"
   },
   {
    "duration": 11,
    "start_time": "2022-05-13T09:46:39.186Z"
   },
   {
    "duration": 11,
    "start_time": "2022-05-13T09:47:12.603Z"
   },
   {
    "duration": 10,
    "start_time": "2022-05-13T09:49:30.334Z"
   },
   {
    "duration": 7,
    "start_time": "2022-05-13T09:49:47.247Z"
   },
   {
    "duration": 11,
    "start_time": "2022-05-13T09:49:55.133Z"
   },
   {
    "duration": 105,
    "start_time": "2022-05-13T09:51:03.758Z"
   },
   {
    "duration": 4,
    "start_time": "2022-05-13T09:53:45.981Z"
   },
   {
    "duration": 1138,
    "start_time": "2022-05-13T14:10:56.527Z"
   },
   {
    "duration": 108,
    "start_time": "2022-05-13T14:10:57.672Z"
   },
   {
    "duration": 6,
    "start_time": "2022-05-13T14:10:57.781Z"
   },
   {
    "duration": 11,
    "start_time": "2022-05-13T14:10:57.789Z"
   },
   {
    "duration": 10,
    "start_time": "2022-05-13T14:10:57.801Z"
   },
   {
    "duration": 12,
    "start_time": "2022-05-13T14:10:57.812Z"
   },
   {
    "duration": 12,
    "start_time": "2022-05-13T14:10:57.825Z"
   },
   {
    "duration": 37,
    "start_time": "2022-05-13T14:10:57.839Z"
   },
   {
    "duration": 54,
    "start_time": "2022-05-13T14:10:57.878Z"
   },
   {
    "duration": 10,
    "start_time": "2022-05-13T14:10:57.934Z"
   },
   {
    "duration": 8,
    "start_time": "2022-05-13T14:10:57.945Z"
   },
   {
    "duration": 25,
    "start_time": "2022-05-13T14:10:57.955Z"
   },
   {
    "duration": 10,
    "start_time": "2022-05-13T14:10:57.981Z"
   },
   {
    "duration": 8,
    "start_time": "2022-05-13T14:10:57.993Z"
   },
   {
    "duration": 15,
    "start_time": "2022-05-13T14:10:58.003Z"
   },
   {
    "duration": 116,
    "start_time": "2022-05-13T14:10:58.020Z"
   },
   {
    "duration": 5,
    "start_time": "2022-05-13T14:10:58.138Z"
   },
   {
    "duration": 129,
    "start_time": "2022-05-13T14:10:58.145Z"
   },
   {
    "duration": 11,
    "start_time": "2022-05-13T14:10:58.276Z"
   },
   {
    "duration": 6,
    "start_time": "2022-05-13T14:12:42.165Z"
   },
   {
    "duration": 156,
    "start_time": "2022-05-13T14:17:38.824Z"
   },
   {
    "duration": 271,
    "start_time": "2022-05-13T14:21:42.126Z"
   },
   {
    "duration": 246,
    "start_time": "2022-05-13T14:25:32.165Z"
   },
   {
    "duration": 260,
    "start_time": "2022-05-13T14:25:40.450Z"
   },
   {
    "duration": 329,
    "start_time": "2022-05-13T14:26:37.071Z"
   },
   {
    "duration": 342,
    "start_time": "2022-05-13T14:26:49.705Z"
   },
   {
    "duration": 534,
    "start_time": "2022-05-13T14:26:59.343Z"
   },
   {
    "duration": 832,
    "start_time": "2022-05-13T14:29:20.781Z"
   },
   {
    "duration": 258,
    "start_time": "2022-05-13T14:29:59.614Z"
   },
   {
    "duration": 244,
    "start_time": "2022-05-13T14:30:45.403Z"
   },
   {
    "duration": 244,
    "start_time": "2022-05-13T14:31:33.816Z"
   },
   {
    "duration": 481,
    "start_time": "2022-05-13T14:34:01.598Z"
   },
   {
    "duration": 262,
    "start_time": "2022-05-13T14:34:59.348Z"
   },
   {
    "duration": 170,
    "start_time": "2022-05-13T14:35:04.247Z"
   },
   {
    "duration": 134,
    "start_time": "2022-05-13T14:35:22.078Z"
   },
   {
    "duration": 193,
    "start_time": "2022-05-13T14:36:34.205Z"
   },
   {
    "duration": 202,
    "start_time": "2022-05-13T14:39:30.245Z"
   },
   {
    "duration": 469,
    "start_time": "2022-05-13T14:39:43.212Z"
   },
   {
    "duration": 293,
    "start_time": "2022-05-13T14:39:47.569Z"
   },
   {
    "duration": 269,
    "start_time": "2022-05-13T14:40:03.445Z"
   },
   {
    "duration": 194,
    "start_time": "2022-05-13T14:40:12.388Z"
   },
   {
    "duration": 293,
    "start_time": "2022-05-13T14:40:20.988Z"
   },
   {
    "duration": 194,
    "start_time": "2022-05-13T14:40:29.766Z"
   },
   {
    "duration": 268,
    "start_time": "2022-05-13T14:40:36.147Z"
   },
   {
    "duration": 324,
    "start_time": "2022-05-13T14:40:38.810Z"
   },
   {
    "duration": 89,
    "start_time": "2022-05-13T14:40:41.929Z"
   },
   {
    "duration": 298,
    "start_time": "2022-05-13T14:40:45.525Z"
   },
   {
    "duration": 163,
    "start_time": "2022-05-13T14:48:33.043Z"
   },
   {
    "duration": 171,
    "start_time": "2022-05-13T14:49:24.295Z"
   },
   {
    "duration": 396,
    "start_time": "2022-05-13T14:51:25.163Z"
   },
   {
    "duration": 242,
    "start_time": "2022-05-13T14:51:29.408Z"
   },
   {
    "duration": 245,
    "start_time": "2022-05-13T14:51:53.515Z"
   },
   {
    "duration": 4,
    "start_time": "2022-05-13T15:07:19.074Z"
   },
   {
    "duration": 4,
    "start_time": "2022-05-13T15:07:35.320Z"
   },
   {
    "duration": 4,
    "start_time": "2022-05-13T15:07:49.215Z"
   },
   {
    "duration": 5,
    "start_time": "2022-05-13T15:08:20.166Z"
   },
   {
    "duration": 39,
    "start_time": "2022-05-13T15:08:25.167Z"
   },
   {
    "duration": 46,
    "start_time": "2022-05-13T15:08:45.330Z"
   },
   {
    "duration": 23,
    "start_time": "2022-05-13T15:09:09.095Z"
   },
   {
    "duration": 11,
    "start_time": "2022-05-13T15:09:36.340Z"
   },
   {
    "duration": 15,
    "start_time": "2022-05-13T15:10:04.181Z"
   },
   {
    "duration": 306,
    "start_time": "2022-05-13T15:10:32.635Z"
   },
   {
    "duration": 272,
    "start_time": "2022-05-13T15:12:14.392Z"
   },
   {
    "duration": 308,
    "start_time": "2022-05-13T15:12:49.240Z"
   },
   {
    "duration": 94,
    "start_time": "2022-05-13T16:16:29.566Z"
   },
   {
    "duration": 6,
    "start_time": "2022-05-13T18:23:43.308Z"
   },
   {
    "duration": 103,
    "start_time": "2022-05-13T18:24:02.599Z"
   },
   {
    "duration": 14,
    "start_time": "2022-05-13T18:24:12.196Z"
   },
   {
    "duration": 4,
    "start_time": "2022-05-13T18:24:17.191Z"
   },
   {
    "duration": 4,
    "start_time": "2022-05-13T18:24:21.935Z"
   },
   {
    "duration": 157,
    "start_time": "2022-05-13T18:26:14.213Z"
   },
   {
    "duration": 81,
    "start_time": "2022-05-13T18:26:25.250Z"
   },
   {
    "duration": 243,
    "start_time": "2022-05-13T18:26:28.082Z"
   },
   {
    "duration": 156,
    "start_time": "2022-05-13T18:26:36.263Z"
   },
   {
    "duration": 291,
    "start_time": "2022-05-13T18:26:47.542Z"
   },
   {
    "duration": 259,
    "start_time": "2022-05-13T18:27:04.174Z"
   },
   {
    "duration": 361,
    "start_time": "2022-05-13T18:27:12.047Z"
   },
   {
    "duration": 46,
    "start_time": "2022-05-14T17:45:47.831Z"
   },
   {
    "duration": 1239,
    "start_time": "2022-05-14T17:46:09.294Z"
   },
   {
    "duration": 84,
    "start_time": "2022-05-14T17:46:10.536Z"
   },
   {
    "duration": 5,
    "start_time": "2022-05-14T17:46:10.621Z"
   },
   {
    "duration": 22,
    "start_time": "2022-05-14T17:46:10.628Z"
   },
   {
    "duration": 26,
    "start_time": "2022-05-14T17:46:10.651Z"
   },
   {
    "duration": 10,
    "start_time": "2022-05-14T17:46:10.678Z"
   },
   {
    "duration": 17,
    "start_time": "2022-05-14T17:46:10.690Z"
   },
   {
    "duration": 10,
    "start_time": "2022-05-14T17:46:10.709Z"
   },
   {
    "duration": 29,
    "start_time": "2022-05-14T17:46:10.721Z"
   },
   {
    "duration": 9,
    "start_time": "2022-05-14T17:46:10.753Z"
   },
   {
    "duration": 16,
    "start_time": "2022-05-14T17:46:10.764Z"
   },
   {
    "duration": 36,
    "start_time": "2022-05-14T17:46:10.782Z"
   },
   {
    "duration": 9,
    "start_time": "2022-05-14T17:46:10.821Z"
   },
   {
    "duration": 16,
    "start_time": "2022-05-14T17:46:10.831Z"
   },
   {
    "duration": 253,
    "start_time": "2022-05-14T17:46:10.849Z"
   },
   {
    "duration": 246,
    "start_time": "2022-05-14T17:46:11.104Z"
   },
   {
    "duration": 158,
    "start_time": "2022-05-14T17:46:11.352Z"
   },
   {
    "duration": 335,
    "start_time": "2022-05-14T17:46:11.512Z"
   },
   {
    "duration": 253,
    "start_time": "2022-05-14T17:46:11.849Z"
   },
   {
    "duration": 112,
    "start_time": "2022-05-14T17:46:12.104Z"
   },
   {
    "duration": 5,
    "start_time": "2022-05-14T17:46:12.218Z"
   },
   {
    "duration": 120,
    "start_time": "2022-05-14T17:46:12.224Z"
   },
   {
    "duration": 5,
    "start_time": "2022-05-14T17:46:12.346Z"
   },
   {
    "duration": 20,
    "start_time": "2022-05-14T17:46:12.352Z"
   },
   {
    "duration": 110,
    "start_time": "2022-05-14T17:46:12.374Z"
   },
   {
    "duration": 1881,
    "start_time": "2022-05-14T17:59:31.414Z"
   },
   {
    "duration": 1055,
    "start_time": "2022-05-14T18:00:06.571Z"
   },
   {
    "duration": 79,
    "start_time": "2022-05-14T18:00:07.628Z"
   },
   {
    "duration": 5,
    "start_time": "2022-05-14T18:00:07.709Z"
   },
   {
    "duration": 17,
    "start_time": "2022-05-14T18:00:07.715Z"
   },
   {
    "duration": 19,
    "start_time": "2022-05-14T18:00:07.733Z"
   },
   {
    "duration": 12,
    "start_time": "2022-05-14T18:00:07.754Z"
   },
   {
    "duration": 12,
    "start_time": "2022-05-14T18:00:07.768Z"
   },
   {
    "duration": 10,
    "start_time": "2022-05-14T18:00:07.782Z"
   },
   {
    "duration": 31,
    "start_time": "2022-05-14T18:00:07.793Z"
   },
   {
    "duration": 16,
    "start_time": "2022-05-14T18:00:07.827Z"
   },
   {
    "duration": 6,
    "start_time": "2022-05-14T18:00:07.845Z"
   },
   {
    "duration": 18,
    "start_time": "2022-05-14T18:00:07.853Z"
   },
   {
    "duration": 11,
    "start_time": "2022-05-14T18:00:07.873Z"
   },
   {
    "duration": 11,
    "start_time": "2022-05-14T18:00:07.885Z"
   },
   {
    "duration": 299,
    "start_time": "2022-05-14T18:00:07.897Z"
   },
   {
    "duration": 255,
    "start_time": "2022-05-14T18:00:08.198Z"
   },
   {
    "duration": 164,
    "start_time": "2022-05-14T18:00:08.455Z"
   },
   {
    "duration": 271,
    "start_time": "2022-05-14T18:00:08.621Z"
   },
   {
    "duration": 266,
    "start_time": "2022-05-14T18:00:08.893Z"
   },
   {
    "duration": 127,
    "start_time": "2022-05-14T18:00:09.161Z"
   },
   {
    "duration": 5,
    "start_time": "2022-05-14T18:00:09.289Z"
   },
   {
    "duration": 202,
    "start_time": "2022-05-14T18:00:09.295Z"
   },
   {
    "duration": 4,
    "start_time": "2022-05-14T18:00:09.499Z"
   },
   {
    "duration": 28,
    "start_time": "2022-05-14T18:00:09.505Z"
   },
   {
    "duration": 2057,
    "start_time": "2022-05-14T18:00:09.535Z"
   },
   {
    "duration": 1340,
    "start_time": "2022-05-14T18:01:35.682Z"
   },
   {
    "duration": 74,
    "start_time": "2022-05-14T18:01:37.024Z"
   },
   {
    "duration": 5,
    "start_time": "2022-05-14T18:01:37.100Z"
   },
   {
    "duration": 10,
    "start_time": "2022-05-14T18:01:37.108Z"
   },
   {
    "duration": 24,
    "start_time": "2022-05-14T18:01:37.120Z"
   },
   {
    "duration": 11,
    "start_time": "2022-05-14T18:01:37.145Z"
   },
   {
    "duration": 15,
    "start_time": "2022-05-14T18:01:37.158Z"
   },
   {
    "duration": 10,
    "start_time": "2022-05-14T18:01:37.175Z"
   },
   {
    "duration": 28,
    "start_time": "2022-05-14T18:01:37.187Z"
   },
   {
    "duration": 27,
    "start_time": "2022-05-14T18:01:37.218Z"
   },
   {
    "duration": 12,
    "start_time": "2022-05-14T18:01:37.247Z"
   },
   {
    "duration": 17,
    "start_time": "2022-05-14T18:01:37.261Z"
   },
   {
    "duration": 10,
    "start_time": "2022-05-14T18:01:37.279Z"
   },
   {
    "duration": 13,
    "start_time": "2022-05-14T18:01:37.291Z"
   },
   {
    "duration": 270,
    "start_time": "2022-05-14T18:01:37.305Z"
   },
   {
    "duration": 231,
    "start_time": "2022-05-14T18:01:37.577Z"
   },
   {
    "duration": 157,
    "start_time": "2022-05-14T18:01:37.810Z"
   },
   {
    "duration": 257,
    "start_time": "2022-05-14T18:01:37.969Z"
   },
   {
    "duration": 290,
    "start_time": "2022-05-14T18:01:38.228Z"
   },
   {
    "duration": 105,
    "start_time": "2022-05-14T18:01:38.520Z"
   },
   {
    "duration": 4,
    "start_time": "2022-05-14T18:01:38.626Z"
   },
   {
    "duration": 127,
    "start_time": "2022-05-14T18:01:38.632Z"
   },
   {
    "duration": 4,
    "start_time": "2022-05-14T18:01:38.761Z"
   },
   {
    "duration": 14,
    "start_time": "2022-05-14T18:01:38.766Z"
   },
   {
    "duration": 124,
    "start_time": "2022-05-14T18:01:38.782Z"
   },
   {
    "duration": 1793,
    "start_time": "2022-05-14T18:03:18.742Z"
   },
   {
    "duration": 1914,
    "start_time": "2022-05-14T18:03:55.717Z"
   },
   {
    "duration": 25,
    "start_time": "2022-05-14T18:09:31.288Z"
   },
   {
    "duration": 39,
    "start_time": "2022-05-14T18:11:02.042Z"
   },
   {
    "duration": 10,
    "start_time": "2022-05-14T18:12:43.320Z"
   },
   {
    "duration": 10,
    "start_time": "2022-05-14T18:12:55.344Z"
   },
   {
    "duration": 1932,
    "start_time": "2022-05-14T18:19:06.868Z"
   },
   {
    "duration": 11,
    "start_time": "2022-05-14T18:19:41.394Z"
   },
   {
    "duration": 9,
    "start_time": "2022-05-14T18:20:05.424Z"
   },
   {
    "duration": 9,
    "start_time": "2022-05-14T18:20:14.297Z"
   },
   {
    "duration": 5,
    "start_time": "2022-05-14T18:21:27.076Z"
   },
   {
    "duration": 25,
    "start_time": "2022-05-14T18:21:47.633Z"
   },
   {
    "duration": 26,
    "start_time": "2022-05-14T18:23:45.183Z"
   },
   {
    "duration": 1719,
    "start_time": "2022-05-14T18:26:49.800Z"
   },
   {
    "duration": 1765,
    "start_time": "2022-05-14T18:27:33.056Z"
   },
   {
    "duration": 1952,
    "start_time": "2022-05-14T18:28:06.102Z"
   },
   {
    "duration": 12,
    "start_time": "2022-05-14T18:28:25.854Z"
   },
   {
    "duration": 14,
    "start_time": "2022-05-14T18:29:04.181Z"
   },
   {
    "duration": 13,
    "start_time": "2022-05-14T18:30:31.810Z"
   },
   {
    "duration": 292,
    "start_time": "2022-05-14T19:54:16.832Z"
   },
   {
    "duration": 284,
    "start_time": "2022-05-14T19:55:01.564Z"
   },
   {
    "duration": 342,
    "start_time": "2022-05-14T19:55:08.577Z"
   },
   {
    "duration": 273,
    "start_time": "2022-05-14T19:55:24.829Z"
   },
   {
    "duration": 269,
    "start_time": "2022-05-14T19:55:46.954Z"
   },
   {
    "duration": 289,
    "start_time": "2022-05-14T19:56:24.132Z"
   },
   {
    "duration": 272,
    "start_time": "2022-05-14T19:57:38.839Z"
   },
   {
    "duration": 302,
    "start_time": "2022-05-14T19:58:13.608Z"
   },
   {
    "duration": 267,
    "start_time": "2022-05-14T19:58:24.655Z"
   },
   {
    "duration": 105,
    "start_time": "2022-05-14T19:59:37.093Z"
   },
   {
    "duration": 224,
    "start_time": "2022-05-14T19:59:40.365Z"
   },
   {
    "duration": 217,
    "start_time": "2022-05-14T20:00:02.675Z"
   },
   {
    "duration": 253,
    "start_time": "2022-05-14T20:00:14.351Z"
   },
   {
    "duration": 248,
    "start_time": "2022-05-14T20:00:33.351Z"
   },
   {
    "duration": 1079,
    "start_time": "2022-05-14T20:17:29.319Z"
   },
   {
    "duration": 85,
    "start_time": "2022-05-14T20:17:30.400Z"
   },
   {
    "duration": 5,
    "start_time": "2022-05-14T20:17:30.487Z"
   },
   {
    "duration": 16,
    "start_time": "2022-05-14T20:17:30.494Z"
   },
   {
    "duration": 17,
    "start_time": "2022-05-14T20:17:30.512Z"
   },
   {
    "duration": 13,
    "start_time": "2022-05-14T20:17:30.531Z"
   },
   {
    "duration": 20,
    "start_time": "2022-05-14T20:17:30.546Z"
   },
   {
    "duration": 22,
    "start_time": "2022-05-14T20:17:30.567Z"
   },
   {
    "duration": 40,
    "start_time": "2022-05-14T20:17:30.590Z"
   },
   {
    "duration": 10,
    "start_time": "2022-05-14T20:17:30.632Z"
   },
   {
    "duration": 15,
    "start_time": "2022-05-14T20:17:30.645Z"
   },
   {
    "duration": 31,
    "start_time": "2022-05-14T20:17:30.662Z"
   },
   {
    "duration": 9,
    "start_time": "2022-05-14T20:17:30.695Z"
   },
   {
    "duration": 10,
    "start_time": "2022-05-14T20:17:30.706Z"
   },
   {
    "duration": 258,
    "start_time": "2022-05-14T20:17:30.718Z"
   },
   {
    "duration": 246,
    "start_time": "2022-05-14T20:17:30.978Z"
   },
   {
    "duration": 170,
    "start_time": "2022-05-14T20:17:31.225Z"
   },
   {
    "duration": 259,
    "start_time": "2022-05-14T20:17:31.396Z"
   },
   {
    "duration": 249,
    "start_time": "2022-05-14T20:17:31.657Z"
   },
   {
    "duration": 109,
    "start_time": "2022-05-14T20:17:31.908Z"
   },
   {
    "duration": 5,
    "start_time": "2022-05-14T20:17:32.018Z"
   },
   {
    "duration": 128,
    "start_time": "2022-05-14T20:17:32.025Z"
   },
   {
    "duration": 4,
    "start_time": "2022-05-14T20:17:32.155Z"
   },
   {
    "duration": 43,
    "start_time": "2022-05-14T20:17:32.160Z"
   },
   {
    "duration": 11,
    "start_time": "2022-05-14T20:17:32.205Z"
   },
   {
    "duration": 32,
    "start_time": "2022-05-14T20:17:32.218Z"
   },
   {
    "duration": 36,
    "start_time": "2022-05-14T20:17:32.252Z"
   },
   {
    "duration": 14,
    "start_time": "2022-05-14T20:17:32.292Z"
   },
   {
    "duration": 36,
    "start_time": "2022-05-14T20:24:12.765Z"
   },
   {
    "duration": 1016,
    "start_time": "2022-05-14T20:27:39.071Z"
   },
   {
    "duration": 76,
    "start_time": "2022-05-14T20:27:40.089Z"
   },
   {
    "duration": 5,
    "start_time": "2022-05-14T20:27:40.167Z"
   },
   {
    "duration": 12,
    "start_time": "2022-05-14T20:27:40.173Z"
   },
   {
    "duration": 14,
    "start_time": "2022-05-14T20:27:40.187Z"
   },
   {
    "duration": 11,
    "start_time": "2022-05-14T20:27:40.203Z"
   },
   {
    "duration": 28,
    "start_time": "2022-05-14T20:27:40.215Z"
   },
   {
    "duration": 12,
    "start_time": "2022-05-14T20:27:40.245Z"
   },
   {
    "duration": 28,
    "start_time": "2022-05-14T20:27:40.259Z"
   },
   {
    "duration": 9,
    "start_time": "2022-05-14T20:27:40.289Z"
   },
   {
    "duration": 6,
    "start_time": "2022-05-14T20:27:40.300Z"
   },
   {
    "duration": 15,
    "start_time": "2022-05-14T20:27:40.308Z"
   },
   {
    "duration": 21,
    "start_time": "2022-05-14T20:27:40.325Z"
   },
   {
    "duration": 4,
    "start_time": "2022-05-14T20:27:40.350Z"
   },
   {
    "duration": 276,
    "start_time": "2022-05-14T20:27:40.355Z"
   },
   {
    "duration": 231,
    "start_time": "2022-05-14T20:27:40.632Z"
   },
   {
    "duration": 161,
    "start_time": "2022-05-14T20:27:40.864Z"
   },
   {
    "duration": 294,
    "start_time": "2022-05-14T20:27:41.027Z"
   },
   {
    "duration": 270,
    "start_time": "2022-05-14T20:27:41.322Z"
   },
   {
    "duration": 104,
    "start_time": "2022-05-14T20:27:41.594Z"
   },
   {
    "duration": 5,
    "start_time": "2022-05-14T20:27:41.700Z"
   },
   {
    "duration": 127,
    "start_time": "2022-05-14T20:27:41.707Z"
   },
   {
    "duration": 9,
    "start_time": "2022-05-14T20:27:41.836Z"
   },
   {
    "duration": 63,
    "start_time": "2022-05-14T20:27:41.847Z"
   },
   {
    "duration": 11,
    "start_time": "2022-05-14T20:27:41.912Z"
   },
   {
    "duration": 31,
    "start_time": "2022-05-14T20:27:41.925Z"
   },
   {
    "duration": 42,
    "start_time": "2022-05-14T20:27:41.958Z"
   },
   {
    "duration": 15,
    "start_time": "2022-05-14T20:27:42.002Z"
   },
   {
    "duration": 129,
    "start_time": "2022-05-15T07:54:56.175Z"
   },
   {
    "duration": 79,
    "start_time": "2022-05-15T07:55:53.277Z"
   },
   {
    "duration": 12,
    "start_time": "2022-05-15T07:56:16.308Z"
   },
   {
    "duration": 10,
    "start_time": "2022-05-15T07:56:20.901Z"
   },
   {
    "duration": 1575,
    "start_time": "2022-05-15T07:56:34.035Z"
   },
   {
    "duration": 92,
    "start_time": "2022-05-15T07:56:35.613Z"
   },
   {
    "duration": 7,
    "start_time": "2022-05-15T07:56:35.708Z"
   },
   {
    "duration": 38,
    "start_time": "2022-05-15T07:56:35.718Z"
   },
   {
    "duration": 12,
    "start_time": "2022-05-15T07:56:35.759Z"
   },
   {
    "duration": 20,
    "start_time": "2022-05-15T07:56:35.774Z"
   },
   {
    "duration": 61,
    "start_time": "2022-05-15T07:56:35.797Z"
   },
   {
    "duration": 20,
    "start_time": "2022-05-15T07:56:35.861Z"
   },
   {
    "duration": 36,
    "start_time": "2022-05-15T07:56:35.884Z"
   },
   {
    "duration": 35,
    "start_time": "2022-05-15T07:56:35.925Z"
   },
   {
    "duration": 14,
    "start_time": "2022-05-15T07:56:35.963Z"
   },
   {
    "duration": 25,
    "start_time": "2022-05-15T07:56:35.979Z"
   },
   {
    "duration": 15,
    "start_time": "2022-05-15T07:56:36.006Z"
   },
   {
    "duration": 34,
    "start_time": "2022-05-15T07:56:36.023Z"
   },
   {
    "duration": 474,
    "start_time": "2022-05-15T07:56:36.059Z"
   },
   {
    "duration": 414,
    "start_time": "2022-05-15T07:56:36.535Z"
   },
   {
    "duration": 360,
    "start_time": "2022-05-15T07:56:36.951Z"
   },
   {
    "duration": 428,
    "start_time": "2022-05-15T07:56:37.314Z"
   },
   {
    "duration": 361,
    "start_time": "2022-05-15T07:56:37.745Z"
   },
   {
    "duration": 193,
    "start_time": "2022-05-15T07:56:38.109Z"
   },
   {
    "duration": 7,
    "start_time": "2022-05-15T07:56:38.304Z"
   },
   {
    "duration": 216,
    "start_time": "2022-05-15T07:56:38.314Z"
   },
   {
    "duration": 6,
    "start_time": "2022-05-15T07:56:38.532Z"
   },
   {
    "duration": 66,
    "start_time": "2022-05-15T07:56:38.540Z"
   },
   {
    "duration": 48,
    "start_time": "2022-05-15T07:56:38.608Z"
   },
   {
    "duration": 15,
    "start_time": "2022-05-15T07:56:38.659Z"
   },
   {
    "duration": 41,
    "start_time": "2022-05-15T07:56:38.676Z"
   },
   {
    "duration": 49,
    "start_time": "2022-05-15T07:56:38.721Z"
   },
   {
    "duration": 278,
    "start_time": "2022-05-15T07:57:47.468Z"
   },
   {
    "duration": 301,
    "start_time": "2022-05-15T07:59:17.270Z"
   },
   {
    "duration": 233,
    "start_time": "2022-05-15T07:59:38.402Z"
   },
   {
    "duration": 1295,
    "start_time": "2022-05-15T07:59:48.267Z"
   },
   {
    "duration": 84,
    "start_time": "2022-05-15T07:59:49.565Z"
   },
   {
    "duration": 9,
    "start_time": "2022-05-15T07:59:49.652Z"
   },
   {
    "duration": 19,
    "start_time": "2022-05-15T07:59:49.664Z"
   },
   {
    "duration": 15,
    "start_time": "2022-05-15T07:59:49.685Z"
   },
   {
    "duration": 16,
    "start_time": "2022-05-15T07:59:49.702Z"
   },
   {
    "duration": 51,
    "start_time": "2022-05-15T07:59:49.720Z"
   },
   {
    "duration": 481,
    "start_time": "2022-05-15T07:59:49.773Z"
   },
   {
    "duration": 0,
    "start_time": "2022-05-15T07:59:50.258Z"
   },
   {
    "duration": 0,
    "start_time": "2022-05-15T07:59:50.260Z"
   },
   {
    "duration": 0,
    "start_time": "2022-05-15T07:59:50.261Z"
   },
   {
    "duration": 0,
    "start_time": "2022-05-15T07:59:50.263Z"
   },
   {
    "duration": 0,
    "start_time": "2022-05-15T07:59:50.264Z"
   },
   {
    "duration": 0,
    "start_time": "2022-05-15T07:59:50.266Z"
   },
   {
    "duration": 0,
    "start_time": "2022-05-15T07:59:50.268Z"
   },
   {
    "duration": 0,
    "start_time": "2022-05-15T07:59:50.270Z"
   },
   {
    "duration": 0,
    "start_time": "2022-05-15T07:59:50.271Z"
   },
   {
    "duration": 0,
    "start_time": "2022-05-15T07:59:50.273Z"
   },
   {
    "duration": 0,
    "start_time": "2022-05-15T07:59:50.275Z"
   },
   {
    "duration": 0,
    "start_time": "2022-05-15T07:59:50.276Z"
   },
   {
    "duration": 0,
    "start_time": "2022-05-15T07:59:50.277Z"
   },
   {
    "duration": 1,
    "start_time": "2022-05-15T07:59:50.278Z"
   },
   {
    "duration": 0,
    "start_time": "2022-05-15T07:59:50.280Z"
   },
   {
    "duration": 0,
    "start_time": "2022-05-15T07:59:50.281Z"
   },
   {
    "duration": 0,
    "start_time": "2022-05-15T07:59:50.282Z"
   },
   {
    "duration": 0,
    "start_time": "2022-05-15T07:59:50.283Z"
   },
   {
    "duration": 0,
    "start_time": "2022-05-15T07:59:50.284Z"
   },
   {
    "duration": 0,
    "start_time": "2022-05-15T07:59:50.285Z"
   },
   {
    "duration": 0,
    "start_time": "2022-05-15T07:59:50.286Z"
   },
   {
    "duration": 333,
    "start_time": "2022-05-15T08:00:07.712Z"
   },
   {
    "duration": 247,
    "start_time": "2022-05-15T08:00:45.060Z"
   },
   {
    "duration": 13,
    "start_time": "2022-05-15T08:06:01.033Z"
   },
   {
    "duration": 386,
    "start_time": "2022-05-15T08:06:16.531Z"
   },
   {
    "duration": 228,
    "start_time": "2022-05-15T08:06:29.712Z"
   },
   {
    "duration": 1325,
    "start_time": "2022-05-15T08:06:59.560Z"
   },
   {
    "duration": 82,
    "start_time": "2022-05-15T08:07:00.888Z"
   },
   {
    "duration": 7,
    "start_time": "2022-05-15T08:07:00.972Z"
   },
   {
    "duration": 41,
    "start_time": "2022-05-15T08:07:00.982Z"
   },
   {
    "duration": 75,
    "start_time": "2022-05-15T08:07:01.025Z"
   },
   {
    "duration": 34,
    "start_time": "2022-05-15T08:07:01.102Z"
   },
   {
    "duration": 37,
    "start_time": "2022-05-15T08:07:01.138Z"
   },
   {
    "duration": 274,
    "start_time": "2022-05-15T08:07:01.177Z"
   },
   {
    "duration": 16,
    "start_time": "2022-05-15T08:07:01.457Z"
   },
   {
    "duration": 34,
    "start_time": "2022-05-15T08:07:01.477Z"
   },
   {
    "duration": 15,
    "start_time": "2022-05-15T08:07:01.513Z"
   },
   {
    "duration": 41,
    "start_time": "2022-05-15T08:07:01.530Z"
   },
   {
    "duration": 27,
    "start_time": "2022-05-15T08:07:01.573Z"
   },
   {
    "duration": 14,
    "start_time": "2022-05-15T08:07:01.602Z"
   },
   {
    "duration": 37,
    "start_time": "2022-05-15T08:07:01.618Z"
   },
   {
    "duration": 462,
    "start_time": "2022-05-15T08:07:01.657Z"
   },
   {
    "duration": 408,
    "start_time": "2022-05-15T08:07:02.121Z"
   },
   {
    "duration": 274,
    "start_time": "2022-05-15T08:07:02.531Z"
   },
   {
    "duration": 385,
    "start_time": "2022-05-15T08:07:02.807Z"
   },
   {
    "duration": 390,
    "start_time": "2022-05-15T08:07:03.194Z"
   },
   {
    "duration": 183,
    "start_time": "2022-05-15T08:07:03.587Z"
   },
   {
    "duration": 5,
    "start_time": "2022-05-15T08:07:03.773Z"
   },
   {
    "duration": 202,
    "start_time": "2022-05-15T08:07:03.781Z"
   },
   {
    "duration": 6,
    "start_time": "2022-05-15T08:07:03.985Z"
   },
   {
    "duration": 77,
    "start_time": "2022-05-15T08:07:03.993Z"
   },
   {
    "duration": 15,
    "start_time": "2022-05-15T08:07:04.072Z"
   },
   {
    "duration": 11,
    "start_time": "2022-05-15T08:07:04.090Z"
   },
   {
    "duration": 68,
    "start_time": "2022-05-15T08:07:04.105Z"
   },
   {
    "duration": 21,
    "start_time": "2022-05-15T08:07:04.176Z"
   },
   {
    "duration": 20,
    "start_time": "2022-05-15T08:09:11.077Z"
   },
   {
    "duration": 36,
    "start_time": "2022-05-15T08:10:36.840Z"
   },
   {
    "duration": 12,
    "start_time": "2022-05-15T08:15:30.887Z"
   },
   {
    "duration": 11,
    "start_time": "2022-05-15T08:16:17.875Z"
   },
   {
    "duration": 14,
    "start_time": "2022-05-15T08:18:46.183Z"
   },
   {
    "duration": 54,
    "start_time": "2022-05-15T08:25:52.540Z"
   },
   {
    "duration": 13,
    "start_time": "2022-05-15T08:25:53.504Z"
   },
   {
    "duration": 217,
    "start_time": "2022-05-15T08:31:46.039Z"
   },
   {
    "duration": 160,
    "start_time": "2022-05-15T08:31:56.694Z"
   },
   {
    "duration": 210,
    "start_time": "2022-05-15T08:32:05.140Z"
   },
   {
    "duration": 282,
    "start_time": "2022-05-15T08:32:22.466Z"
   },
   {
    "duration": 15,
    "start_time": "2022-05-15T08:32:34.985Z"
   },
   {
    "duration": 13,
    "start_time": "2022-05-15T08:33:03.134Z"
   },
   {
    "duration": 219,
    "start_time": "2022-05-15T08:33:13.497Z"
   },
   {
    "duration": 228,
    "start_time": "2022-05-15T08:33:27.131Z"
   },
   {
    "duration": 178,
    "start_time": "2022-05-15T08:34:09.783Z"
   },
   {
    "duration": 175,
    "start_time": "2022-05-15T08:34:30.321Z"
   },
   {
    "duration": 165,
    "start_time": "2022-05-15T08:35:00.036Z"
   },
   {
    "duration": 188,
    "start_time": "2022-05-15T08:35:04.096Z"
   },
   {
    "duration": 157,
    "start_time": "2022-05-15T08:35:25.377Z"
   },
   {
    "duration": 270,
    "start_time": "2022-05-15T08:37:58.579Z"
   },
   {
    "duration": 262,
    "start_time": "2022-05-15T08:38:34.306Z"
   },
   {
    "duration": 74,
    "start_time": "2022-05-15T17:44:07.502Z"
   },
   {
    "duration": 2089,
    "start_time": "2022-05-15T17:44:13.661Z"
   },
   {
    "duration": 132,
    "start_time": "2022-05-15T17:44:15.754Z"
   },
   {
    "duration": 11,
    "start_time": "2022-05-15T17:44:15.891Z"
   },
   {
    "duration": 21,
    "start_time": "2022-05-15T17:44:15.906Z"
   },
   {
    "duration": 14,
    "start_time": "2022-05-15T17:44:15.929Z"
   },
   {
    "duration": 55,
    "start_time": "2022-05-15T17:44:15.945Z"
   },
   {
    "duration": 26,
    "start_time": "2022-05-15T17:44:16.004Z"
   },
   {
    "duration": 303,
    "start_time": "2022-05-15T17:44:16.032Z"
   },
   {
    "duration": 17,
    "start_time": "2022-05-15T17:44:16.337Z"
   },
   {
    "duration": 242,
    "start_time": "2022-05-15T17:44:16.358Z"
   },
   {
    "duration": 32,
    "start_time": "2022-05-15T17:44:16.603Z"
   },
   {
    "duration": 15,
    "start_time": "2022-05-15T17:44:16.638Z"
   },
   {
    "duration": 9,
    "start_time": "2022-05-15T17:44:16.655Z"
   },
   {
    "duration": 50,
    "start_time": "2022-05-15T17:44:16.666Z"
   },
   {
    "duration": 16,
    "start_time": "2022-05-15T17:44:16.718Z"
   },
   {
    "duration": 10,
    "start_time": "2022-05-15T17:44:16.736Z"
   },
   {
    "duration": 463,
    "start_time": "2022-05-15T17:44:16.749Z"
   },
   {
    "duration": 441,
    "start_time": "2022-05-15T17:44:17.214Z"
   },
   {
    "duration": 302,
    "start_time": "2022-05-15T17:44:17.657Z"
   },
   {
    "duration": 412,
    "start_time": "2022-05-15T17:44:17.962Z"
   },
   {
    "duration": 365,
    "start_time": "2022-05-15T17:44:18.381Z"
   },
   {
    "duration": 308,
    "start_time": "2022-05-15T17:44:18.749Z"
   },
   {
    "duration": 7,
    "start_time": "2022-05-15T17:44:19.060Z"
   },
   {
    "duration": 220,
    "start_time": "2022-05-15T17:44:19.093Z"
   },
   {
    "duration": 7,
    "start_time": "2022-05-15T17:44:19.316Z"
   },
   {
    "duration": 100,
    "start_time": "2022-05-15T17:44:19.326Z"
   },
   {
    "duration": 14,
    "start_time": "2022-05-15T17:44:19.428Z"
   },
   {
    "duration": 37,
    "start_time": "2022-05-15T17:44:19.446Z"
   },
   {
    "duration": 45,
    "start_time": "2022-05-15T17:44:19.488Z"
   },
   {
    "duration": 20,
    "start_time": "2022-05-15T17:44:19.535Z"
   },
   {
    "duration": 238,
    "start_time": "2022-05-15T17:45:23.333Z"
   },
   {
    "duration": 140,
    "start_time": "2022-05-15T17:45:43.372Z"
   },
   {
    "duration": 458,
    "start_time": "2022-05-15T17:45:47.433Z"
   },
   {
    "duration": 184,
    "start_time": "2022-05-15T17:46:17.565Z"
   },
   {
    "duration": 187,
    "start_time": "2022-05-15T17:46:29.074Z"
   },
   {
    "duration": 208,
    "start_time": "2022-05-15T17:46:39.002Z"
   },
   {
    "duration": 296,
    "start_time": "2022-05-15T17:47:00.157Z"
   },
   {
    "duration": 455,
    "start_time": "2022-05-15T17:47:18.914Z"
   },
   {
    "duration": 390,
    "start_time": "2022-05-15T17:48:30.531Z"
   },
   {
    "duration": 212,
    "start_time": "2022-05-15T17:49:47.075Z"
   },
   {
    "duration": 203,
    "start_time": "2022-05-15T17:50:07.432Z"
   },
   {
    "duration": 162,
    "start_time": "2022-05-15T17:50:10.245Z"
   },
   {
    "duration": 217,
    "start_time": "2022-05-15T17:50:13.252Z"
   },
   {
    "duration": 224,
    "start_time": "2022-05-15T17:51:21.029Z"
   },
   {
    "duration": 69,
    "start_time": "2022-05-15T18:00:16.559Z"
   },
   {
    "duration": 95,
    "start_time": "2022-05-15T18:00:36.312Z"
   },
   {
    "duration": 61,
    "start_time": "2022-05-15T18:00:39.760Z"
   },
   {
    "duration": 62,
    "start_time": "2022-05-15T18:00:49.300Z"
   },
   {
    "duration": 9,
    "start_time": "2022-05-15T18:03:12.243Z"
   },
   {
    "duration": 217,
    "start_time": "2022-05-15T18:03:16.300Z"
   },
   {
    "duration": 64,
    "start_time": "2022-05-15T18:03:34.300Z"
   },
   {
    "duration": 74,
    "start_time": "2022-05-15T18:04:24.470Z"
   },
   {
    "duration": 58,
    "start_time": "2022-05-15T18:05:23.599Z"
   },
   {
    "duration": 100,
    "start_time": "2022-05-15T18:05:42.865Z"
   },
   {
    "duration": 73,
    "start_time": "2022-05-15T18:05:53.467Z"
   },
   {
    "duration": 176,
    "start_time": "2022-05-15T18:07:00.822Z"
   },
   {
    "duration": 62,
    "start_time": "2022-05-15T18:07:16.226Z"
   },
   {
    "duration": 166,
    "start_time": "2022-05-15T18:08:57.721Z"
   },
   {
    "duration": 57,
    "start_time": "2022-05-15T18:09:08.409Z"
   },
   {
    "duration": 60,
    "start_time": "2022-05-15T18:10:43.012Z"
   },
   {
    "duration": 59,
    "start_time": "2022-05-15T18:14:49.704Z"
   },
   {
    "duration": 85,
    "start_time": "2022-05-15T18:15:41.650Z"
   },
   {
    "duration": 58,
    "start_time": "2022-05-15T18:16:02.502Z"
   },
   {
    "duration": 21,
    "start_time": "2022-05-15T18:33:52.710Z"
   },
   {
    "duration": 15,
    "start_time": "2022-05-15T18:34:04.319Z"
   },
   {
    "duration": 176,
    "start_time": "2022-05-15T18:34:42.179Z"
   },
   {
    "duration": 81,
    "start_time": "2022-05-15T18:34:59.699Z"
   },
   {
    "duration": 94,
    "start_time": "2022-05-15T18:35:15.211Z"
   },
   {
    "duration": 37,
    "start_time": "2022-05-15T18:54:55.700Z"
   },
   {
    "duration": 1510,
    "start_time": "2022-05-15T18:55:21.478Z"
   },
   {
    "duration": 81,
    "start_time": "2022-05-15T18:55:22.992Z"
   },
   {
    "duration": 13,
    "start_time": "2022-05-15T18:55:23.075Z"
   },
   {
    "duration": 20,
    "start_time": "2022-05-15T18:55:23.091Z"
   },
   {
    "duration": 18,
    "start_time": "2022-05-15T18:55:23.113Z"
   },
   {
    "duration": 58,
    "start_time": "2022-05-15T18:55:23.134Z"
   },
   {
    "duration": 34,
    "start_time": "2022-05-15T18:55:23.195Z"
   },
   {
    "duration": 276,
    "start_time": "2022-05-15T18:55:23.231Z"
   },
   {
    "duration": 16,
    "start_time": "2022-05-15T18:55:23.510Z"
   },
   {
    "duration": 250,
    "start_time": "2022-05-15T18:55:23.530Z"
   },
   {
    "duration": 40,
    "start_time": "2022-05-15T18:55:23.783Z"
   },
   {
    "duration": 16,
    "start_time": "2022-05-15T18:55:23.825Z"
   },
   {
    "duration": 12,
    "start_time": "2022-05-15T18:55:23.844Z"
   },
   {
    "duration": 29,
    "start_time": "2022-05-15T18:55:23.858Z"
   },
   {
    "duration": 21,
    "start_time": "2022-05-15T18:55:23.892Z"
   },
   {
    "duration": 8,
    "start_time": "2022-05-15T18:55:23.916Z"
   },
   {
    "duration": 611,
    "start_time": "2022-05-15T18:55:23.927Z"
   },
   {
    "duration": 446,
    "start_time": "2022-05-15T18:55:24.540Z"
   },
   {
    "duration": 325,
    "start_time": "2022-05-15T18:55:24.989Z"
   },
   {
    "duration": 422,
    "start_time": "2022-05-15T18:55:25.317Z"
   },
   {
    "duration": 398,
    "start_time": "2022-05-15T18:55:25.741Z"
   },
   {
    "duration": 235,
    "start_time": "2022-05-15T18:55:26.142Z"
   },
   {
    "duration": 8,
    "start_time": "2022-05-15T18:55:26.379Z"
   },
   {
    "duration": 262,
    "start_time": "2022-05-15T18:55:26.390Z"
   },
   {
    "duration": 9,
    "start_time": "2022-05-15T18:55:26.655Z"
   },
   {
    "duration": 231,
    "start_time": "2022-05-15T18:55:26.667Z"
   },
   {
    "duration": 0,
    "start_time": "2022-05-15T18:55:26.902Z"
   },
   {
    "duration": 0,
    "start_time": "2022-05-15T18:55:26.904Z"
   },
   {
    "duration": 0,
    "start_time": "2022-05-15T18:55:26.906Z"
   },
   {
    "duration": 0,
    "start_time": "2022-05-15T18:55:26.908Z"
   },
   {
    "duration": 61,
    "start_time": "2022-05-15T18:55:55.087Z"
   },
   {
    "duration": 18,
    "start_time": "2022-05-15T18:57:19.284Z"
   },
   {
    "duration": 23,
    "start_time": "2022-05-15T18:58:06.911Z"
   },
   {
    "duration": 17,
    "start_time": "2022-05-15T18:58:40.322Z"
   },
   {
    "duration": 17,
    "start_time": "2022-05-15T18:58:45.270Z"
   },
   {
    "duration": 22,
    "start_time": "2022-05-15T19:21:08.096Z"
   },
   {
    "duration": 1292,
    "start_time": "2022-05-15T19:21:19.723Z"
   },
   {
    "duration": 82,
    "start_time": "2022-05-15T19:21:21.018Z"
   },
   {
    "duration": 8,
    "start_time": "2022-05-15T19:21:21.103Z"
   },
   {
    "duration": 35,
    "start_time": "2022-05-15T19:21:21.115Z"
   },
   {
    "duration": 37,
    "start_time": "2022-05-15T19:21:21.153Z"
   },
   {
    "duration": 25,
    "start_time": "2022-05-15T19:21:21.193Z"
   },
   {
    "duration": 49,
    "start_time": "2022-05-15T19:21:21.220Z"
   },
   {
    "duration": 293,
    "start_time": "2022-05-15T19:21:21.273Z"
   },
   {
    "duration": 23,
    "start_time": "2022-05-15T19:21:21.568Z"
   },
   {
    "duration": 232,
    "start_time": "2022-05-15T19:21:21.596Z"
   },
   {
    "duration": 30,
    "start_time": "2022-05-15T19:21:21.831Z"
   },
   {
    "duration": 23,
    "start_time": "2022-05-15T19:21:21.863Z"
   },
   {
    "duration": 12,
    "start_time": "2022-05-15T19:21:21.888Z"
   },
   {
    "duration": 29,
    "start_time": "2022-05-15T19:21:21.903Z"
   },
   {
    "duration": 47,
    "start_time": "2022-05-15T19:21:21.935Z"
   },
   {
    "duration": 6,
    "start_time": "2022-05-15T19:21:21.984Z"
   },
   {
    "duration": 658,
    "start_time": "2022-05-15T19:21:21.993Z"
   },
   {
    "duration": 688,
    "start_time": "2022-05-15T19:21:22.654Z"
   },
   {
    "duration": 404,
    "start_time": "2022-05-15T19:21:23.345Z"
   },
   {
    "duration": 537,
    "start_time": "2022-05-15T19:21:23.752Z"
   },
   {
    "duration": 354,
    "start_time": "2022-05-15T19:21:24.291Z"
   },
   {
    "duration": 293,
    "start_time": "2022-05-15T19:21:24.647Z"
   },
   {
    "duration": 7,
    "start_time": "2022-05-15T19:21:24.942Z"
   },
   {
    "duration": 235,
    "start_time": "2022-05-15T19:21:24.952Z"
   },
   {
    "duration": 7,
    "start_time": "2022-05-15T19:21:25.190Z"
   },
   {
    "duration": 89,
    "start_time": "2022-05-15T19:21:25.200Z"
   },
   {
    "duration": 17,
    "start_time": "2022-05-15T19:21:25.292Z"
   },
   {
    "duration": 13,
    "start_time": "2022-05-15T19:21:25.315Z"
   },
   {
    "duration": 100,
    "start_time": "2022-05-15T19:21:25.331Z"
   },
   {
    "duration": 29,
    "start_time": "2022-05-15T19:21:25.434Z"
   },
   {
    "duration": 46,
    "start_time": "2022-05-15T19:25:58.776Z"
   },
   {
    "duration": 72,
    "start_time": "2022-05-15T19:26:29.069Z"
   },
   {
    "duration": 61,
    "start_time": "2022-05-15T19:26:51.435Z"
   },
   {
    "duration": 227,
    "start_time": "2022-05-15T19:27:13.688Z"
   },
   {
    "duration": 395,
    "start_time": "2022-05-15T19:27:24.766Z"
   },
   {
    "duration": 36,
    "start_time": "2022-05-15T19:36:05.209Z"
   },
   {
    "duration": 22,
    "start_time": "2022-05-15T19:36:25.011Z"
   },
   {
    "duration": 440,
    "start_time": "2022-05-15T20:04:03.274Z"
   },
   {
    "duration": 305,
    "start_time": "2022-05-15T20:04:19.779Z"
   },
   {
    "duration": 259,
    "start_time": "2022-05-15T20:04:55.356Z"
   },
   {
    "duration": 260,
    "start_time": "2022-05-15T20:05:08.712Z"
   },
   {
    "duration": 397,
    "start_time": "2022-05-15T20:07:45.478Z"
   },
   {
    "duration": 368,
    "start_time": "2022-05-15T20:08:10.380Z"
   },
   {
    "duration": 393,
    "start_time": "2022-05-15T20:08:40.443Z"
   },
   {
    "duration": 515,
    "start_time": "2022-05-15T20:09:10.293Z"
   },
   {
    "duration": 389,
    "start_time": "2022-05-15T20:09:23.617Z"
   },
   {
    "duration": 416,
    "start_time": "2022-05-15T20:09:32.350Z"
   },
   {
    "duration": 509,
    "start_time": "2022-05-15T20:09:36.685Z"
   },
   {
    "duration": 424,
    "start_time": "2022-05-15T20:09:40.922Z"
   },
   {
    "duration": 372,
    "start_time": "2022-05-15T20:09:47.016Z"
   },
   {
    "duration": 284,
    "start_time": "2022-05-15T20:10:09.930Z"
   },
   {
    "duration": 381,
    "start_time": "2022-05-15T20:10:14.364Z"
   },
   {
    "duration": 452,
    "start_time": "2022-05-15T20:19:46.727Z"
   },
   {
    "duration": 8,
    "start_time": "2022-05-15T20:20:55.198Z"
   },
   {
    "duration": 30,
    "start_time": "2022-05-15T20:21:10.153Z"
   },
   {
    "duration": 21,
    "start_time": "2022-05-15T20:21:18.419Z"
   },
   {
    "duration": 13,
    "start_time": "2022-05-15T20:22:11.512Z"
   },
   {
    "duration": 13,
    "start_time": "2022-05-15T20:22:46.387Z"
   },
   {
    "duration": 13,
    "start_time": "2022-05-15T20:30:50.126Z"
   },
   {
    "duration": 118,
    "start_time": "2022-05-15T20:33:26.071Z"
   },
   {
    "duration": 132,
    "start_time": "2022-05-15T20:33:37.789Z"
   },
   {
    "duration": 0,
    "start_time": "2022-05-15T20:33:37.924Z"
   },
   {
    "duration": 0,
    "start_time": "2022-05-15T20:33:37.926Z"
   },
   {
    "duration": 0,
    "start_time": "2022-05-15T20:33:37.927Z"
   },
   {
    "duration": 0,
    "start_time": "2022-05-15T20:33:37.929Z"
   },
   {
    "duration": 0,
    "start_time": "2022-05-15T20:33:37.931Z"
   },
   {
    "duration": 0,
    "start_time": "2022-05-15T20:33:37.933Z"
   },
   {
    "duration": 0,
    "start_time": "2022-05-15T20:33:37.934Z"
   },
   {
    "duration": 0,
    "start_time": "2022-05-15T20:33:37.936Z"
   },
   {
    "duration": 0,
    "start_time": "2022-05-15T20:33:37.937Z"
   },
   {
    "duration": 0,
    "start_time": "2022-05-15T20:33:37.939Z"
   },
   {
    "duration": 0,
    "start_time": "2022-05-15T20:33:37.940Z"
   },
   {
    "duration": 0,
    "start_time": "2022-05-15T20:33:37.942Z"
   },
   {
    "duration": 0,
    "start_time": "2022-05-15T20:33:37.944Z"
   },
   {
    "duration": 0,
    "start_time": "2022-05-15T20:33:37.946Z"
   },
   {
    "duration": 0,
    "start_time": "2022-05-15T20:33:37.947Z"
   },
   {
    "duration": 0,
    "start_time": "2022-05-15T20:33:37.949Z"
   },
   {
    "duration": 0,
    "start_time": "2022-05-15T20:33:37.951Z"
   },
   {
    "duration": 0,
    "start_time": "2022-05-15T20:33:37.952Z"
   },
   {
    "duration": 0,
    "start_time": "2022-05-15T20:33:37.954Z"
   },
   {
    "duration": 0,
    "start_time": "2022-05-15T20:33:37.955Z"
   },
   {
    "duration": 0,
    "start_time": "2022-05-15T20:33:37.982Z"
   },
   {
    "duration": 0,
    "start_time": "2022-05-15T20:33:37.983Z"
   },
   {
    "duration": 0,
    "start_time": "2022-05-15T20:33:37.984Z"
   },
   {
    "duration": 128,
    "start_time": "2022-05-15T20:33:37.988Z"
   },
   {
    "duration": 0,
    "start_time": "2022-05-15T20:33:38.119Z"
   },
   {
    "duration": 0,
    "start_time": "2022-05-15T20:33:38.121Z"
   },
   {
    "duration": 0,
    "start_time": "2022-05-15T20:33:38.122Z"
   },
   {
    "duration": 0,
    "start_time": "2022-05-15T20:33:38.123Z"
   },
   {
    "duration": 0,
    "start_time": "2022-05-15T20:33:38.181Z"
   },
   {
    "duration": 0,
    "start_time": "2022-05-15T20:33:38.183Z"
   },
   {
    "duration": 0,
    "start_time": "2022-05-15T20:33:38.184Z"
   },
   {
    "duration": 1396,
    "start_time": "2022-05-15T20:34:42.488Z"
   },
   {
    "duration": 94,
    "start_time": "2022-05-15T20:34:43.887Z"
   },
   {
    "duration": 7,
    "start_time": "2022-05-15T20:34:43.984Z"
   },
   {
    "duration": 22,
    "start_time": "2022-05-15T20:34:43.994Z"
   },
   {
    "duration": 16,
    "start_time": "2022-05-15T20:34:44.018Z"
   },
   {
    "duration": 58,
    "start_time": "2022-05-15T20:34:44.036Z"
   },
   {
    "duration": 24,
    "start_time": "2022-05-15T20:34:44.096Z"
   },
   {
    "duration": 379,
    "start_time": "2022-05-15T20:34:44.123Z"
   },
   {
    "duration": 23,
    "start_time": "2022-05-15T20:34:44.504Z"
   },
   {
    "duration": 334,
    "start_time": "2022-05-15T20:34:44.532Z"
   },
   {
    "duration": 36,
    "start_time": "2022-05-15T20:34:44.869Z"
   },
   {
    "duration": 14,
    "start_time": "2022-05-15T20:34:44.908Z"
   },
   {
    "duration": 11,
    "start_time": "2022-05-15T20:34:44.924Z"
   },
   {
    "duration": 50,
    "start_time": "2022-05-15T20:34:44.938Z"
   },
   {
    "duration": 17,
    "start_time": "2022-05-15T20:34:44.991Z"
   },
   {
    "duration": 11,
    "start_time": "2022-05-15T20:34:45.010Z"
   },
   {
    "duration": 495,
    "start_time": "2022-05-15T20:34:45.023Z"
   },
   {
    "duration": 460,
    "start_time": "2022-05-15T20:34:45.521Z"
   },
   {
    "duration": 322,
    "start_time": "2022-05-15T20:34:45.985Z"
   },
   {
    "duration": 432,
    "start_time": "2022-05-15T20:34:46.310Z"
   },
   {
    "duration": 292,
    "start_time": "2022-05-15T20:34:46.744Z"
   },
   {
    "duration": 403,
    "start_time": "2022-05-15T20:34:47.038Z"
   },
   {
    "duration": 299,
    "start_time": "2022-05-15T20:34:47.444Z"
   },
   {
    "duration": 7,
    "start_time": "2022-05-15T20:34:47.746Z"
   },
   {
    "duration": 346,
    "start_time": "2022-05-15T20:34:47.755Z"
   },
   {
    "duration": 18,
    "start_time": "2022-05-15T20:34:48.103Z"
   },
   {
    "duration": 6,
    "start_time": "2022-05-15T20:34:48.124Z"
   },
   {
    "duration": 223,
    "start_time": "2022-05-15T20:34:48.137Z"
   },
   {
    "duration": 37,
    "start_time": "2022-05-15T20:34:48.363Z"
   },
   {
    "duration": 16,
    "start_time": "2022-05-15T20:34:48.403Z"
   },
   {
    "duration": 100,
    "start_time": "2022-05-15T20:34:48.421Z"
   },
   {
    "duration": 29,
    "start_time": "2022-05-15T20:34:48.524Z"
   },
   {
    "duration": 29,
    "start_time": "2022-05-15T20:35:06.395Z"
   },
   {
    "duration": 44,
    "start_time": "2022-05-15T20:35:21.091Z"
   },
   {
    "duration": 19,
    "start_time": "2022-05-15T20:35:26.092Z"
   },
   {
    "duration": 56,
    "start_time": "2022-05-15T20:35:31.698Z"
   },
   {
    "duration": 311,
    "start_time": "2022-05-15T20:41:01.101Z"
   },
   {
    "duration": 2362,
    "start_time": "2022-05-15T20:41:56.886Z"
   },
   {
    "duration": 186,
    "start_time": "2022-05-15T20:42:23.673Z"
   },
   {
    "duration": 224,
    "start_time": "2022-05-15T20:42:39.274Z"
   },
   {
    "duration": 191,
    "start_time": "2022-05-15T20:42:42.721Z"
   },
   {
    "duration": 196,
    "start_time": "2022-05-15T20:43:09.140Z"
   },
   {
    "duration": 8,
    "start_time": "2022-05-15T20:43:34.707Z"
   },
   {
    "duration": 1870,
    "start_time": "2022-05-15T20:43:47.315Z"
   },
   {
    "duration": 99,
    "start_time": "2022-05-15T20:43:49.189Z"
   },
   {
    "duration": 13,
    "start_time": "2022-05-15T20:43:49.291Z"
   },
   {
    "duration": 20,
    "start_time": "2022-05-15T20:43:49.309Z"
   },
   {
    "duration": 62,
    "start_time": "2022-05-15T20:43:49.333Z"
   },
   {
    "duration": 19,
    "start_time": "2022-05-15T20:43:49.398Z"
   },
   {
    "duration": 27,
    "start_time": "2022-05-15T20:43:49.420Z"
   },
   {
    "duration": 314,
    "start_time": "2022-05-15T20:43:49.449Z"
   },
   {
    "duration": 29,
    "start_time": "2022-05-15T20:43:49.765Z"
   },
   {
    "duration": 298,
    "start_time": "2022-05-15T20:43:49.800Z"
   },
   {
    "duration": 30,
    "start_time": "2022-05-15T20:43:50.100Z"
   },
   {
    "duration": 15,
    "start_time": "2022-05-15T20:43:50.132Z"
   },
   {
    "duration": 11,
    "start_time": "2022-05-15T20:43:50.150Z"
   },
   {
    "duration": 38,
    "start_time": "2022-05-15T20:43:50.164Z"
   },
   {
    "duration": 16,
    "start_time": "2022-05-15T20:43:50.205Z"
   },
   {
    "duration": 12,
    "start_time": "2022-05-15T20:43:50.224Z"
   },
   {
    "duration": 559,
    "start_time": "2022-05-15T20:43:50.238Z"
   },
   {
    "duration": 492,
    "start_time": "2022-05-15T20:43:50.801Z"
   },
   {
    "duration": 324,
    "start_time": "2022-05-15T20:43:51.298Z"
   },
   {
    "duration": 474,
    "start_time": "2022-05-15T20:43:51.624Z"
   },
   {
    "duration": 308,
    "start_time": "2022-05-15T20:43:52.100Z"
   },
   {
    "duration": 465,
    "start_time": "2022-05-15T20:43:52.410Z"
   },
   {
    "duration": 227,
    "start_time": "2022-05-15T20:43:52.877Z"
   },
   {
    "duration": 6,
    "start_time": "2022-05-15T20:43:53.106Z"
   },
   {
    "duration": 260,
    "start_time": "2022-05-15T20:43:53.115Z"
   },
   {
    "duration": 20,
    "start_time": "2022-05-15T20:43:53.382Z"
   },
   {
    "duration": 7,
    "start_time": "2022-05-15T20:43:53.405Z"
   },
   {
    "duration": 201,
    "start_time": "2022-05-15T20:43:53.417Z"
   },
   {
    "duration": 19,
    "start_time": "2022-05-15T20:43:53.621Z"
   },
   {
    "duration": 42,
    "start_time": "2022-05-15T20:43:53.642Z"
   },
   {
    "duration": 49,
    "start_time": "2022-05-15T20:43:53.689Z"
   },
   {
    "duration": 59,
    "start_time": "2022-05-15T20:43:53.741Z"
   },
   {
    "duration": 1820,
    "start_time": "2022-05-15T20:47:42.199Z"
   },
   {
    "duration": 117,
    "start_time": "2022-05-15T20:47:44.022Z"
   },
   {
    "duration": 10,
    "start_time": "2022-05-15T20:47:44.142Z"
   },
   {
    "duration": 41,
    "start_time": "2022-05-15T20:47:44.155Z"
   },
   {
    "duration": 19,
    "start_time": "2022-05-15T20:47:44.199Z"
   },
   {
    "duration": 23,
    "start_time": "2022-05-15T20:47:44.221Z"
   },
   {
    "duration": 57,
    "start_time": "2022-05-15T20:47:44.247Z"
   },
   {
    "duration": 481,
    "start_time": "2022-05-15T20:47:44.308Z"
   },
   {
    "duration": 24,
    "start_time": "2022-05-15T20:47:44.792Z"
   },
   {
    "duration": 328,
    "start_time": "2022-05-15T20:47:44.822Z"
   },
   {
    "duration": 31,
    "start_time": "2022-05-15T20:47:45.152Z"
   },
   {
    "duration": 15,
    "start_time": "2022-05-15T20:47:45.185Z"
   },
   {
    "duration": 11,
    "start_time": "2022-05-15T20:47:45.203Z"
   },
   {
    "duration": 23,
    "start_time": "2022-05-15T20:47:45.216Z"
   },
   {
    "duration": 53,
    "start_time": "2022-05-15T20:47:45.242Z"
   },
   {
    "duration": 4,
    "start_time": "2022-05-15T20:47:45.298Z"
   },
   {
    "duration": 482,
    "start_time": "2022-05-15T20:47:45.305Z"
   },
   {
    "duration": 641,
    "start_time": "2022-05-15T20:47:45.789Z"
   },
   {
    "duration": 435,
    "start_time": "2022-05-15T20:47:46.433Z"
   },
   {
    "duration": 510,
    "start_time": "2022-05-15T20:47:46.871Z"
   },
   {
    "duration": 429,
    "start_time": "2022-05-15T20:47:47.384Z"
   },
   {
    "duration": 424,
    "start_time": "2022-05-15T20:47:47.815Z"
   },
   {
    "duration": 209,
    "start_time": "2022-05-15T20:47:48.242Z"
   },
   {
    "duration": 6,
    "start_time": "2022-05-15T20:47:48.454Z"
   },
   {
    "duration": 251,
    "start_time": "2022-05-15T20:47:48.462Z"
   },
   {
    "duration": 13,
    "start_time": "2022-05-15T20:47:48.715Z"
   },
   {
    "duration": 7,
    "start_time": "2022-05-15T20:47:48.730Z"
   },
   {
    "duration": 180,
    "start_time": "2022-05-15T20:47:48.742Z"
   },
   {
    "duration": 17,
    "start_time": "2022-05-15T20:47:48.924Z"
   },
   {
    "duration": 12,
    "start_time": "2022-05-15T20:47:48.943Z"
   },
   {
    "duration": 42,
    "start_time": "2022-05-15T20:47:48.982Z"
   },
   {
    "duration": 58,
    "start_time": "2022-05-15T20:47:49.026Z"
   },
   {
    "duration": 1246,
    "start_time": "2022-05-17T08:44:19.300Z"
   },
   {
    "duration": 104,
    "start_time": "2022-05-17T08:44:20.549Z"
   },
   {
    "duration": 6,
    "start_time": "2022-05-17T08:44:20.658Z"
   },
   {
    "duration": 16,
    "start_time": "2022-05-17T08:44:20.667Z"
   },
   {
    "duration": 12,
    "start_time": "2022-05-17T08:44:20.685Z"
   },
   {
    "duration": 18,
    "start_time": "2022-05-17T08:44:20.699Z"
   },
   {
    "duration": 30,
    "start_time": "2022-05-17T08:44:20.718Z"
   },
   {
    "duration": 155,
    "start_time": "2022-05-17T08:44:20.752Z"
   },
   {
    "duration": 12,
    "start_time": "2022-05-17T08:44:20.908Z"
   },
   {
    "duration": 149,
    "start_time": "2022-05-17T08:44:20.923Z"
   },
   {
    "duration": 26,
    "start_time": "2022-05-17T08:44:21.074Z"
   },
   {
    "duration": 10,
    "start_time": "2022-05-17T08:44:21.102Z"
   },
   {
    "duration": 16,
    "start_time": "2022-05-17T08:44:21.113Z"
   },
   {
    "duration": 21,
    "start_time": "2022-05-17T08:44:21.131Z"
   },
   {
    "duration": 11,
    "start_time": "2022-05-17T08:44:21.153Z"
   },
   {
    "duration": 11,
    "start_time": "2022-05-17T08:44:21.165Z"
   },
   {
    "duration": 296,
    "start_time": "2022-05-17T08:44:21.178Z"
   },
   {
    "duration": 252,
    "start_time": "2022-05-17T08:44:21.475Z"
   },
   {
    "duration": 174,
    "start_time": "2022-05-17T08:44:21.729Z"
   },
   {
    "duration": 339,
    "start_time": "2022-05-17T08:44:21.905Z"
   },
   {
    "duration": 175,
    "start_time": "2022-05-17T08:44:22.247Z"
   },
   {
    "duration": 297,
    "start_time": "2022-05-17T08:44:22.424Z"
   },
   {
    "duration": 126,
    "start_time": "2022-05-17T08:44:22.724Z"
   },
   {
    "duration": 7,
    "start_time": "2022-05-17T08:44:22.852Z"
   },
   {
    "duration": 134,
    "start_time": "2022-05-17T08:44:22.861Z"
   },
   {
    "duration": 9,
    "start_time": "2022-05-17T08:44:22.998Z"
   },
   {
    "duration": 26,
    "start_time": "2022-05-17T08:44:23.009Z"
   },
   {
    "duration": 153,
    "start_time": "2022-05-17T08:44:23.038Z"
   },
   {
    "duration": 15,
    "start_time": "2022-05-17T08:44:23.193Z"
   },
   {
    "duration": 11,
    "start_time": "2022-05-17T08:44:23.210Z"
   },
   {
    "duration": 31,
    "start_time": "2022-05-17T08:44:23.247Z"
   },
   {
    "duration": 15,
    "start_time": "2022-05-17T08:44:23.280Z"
   },
   {
    "duration": 60,
    "start_time": "2022-05-17T10:41:52.640Z"
   },
   {
    "duration": 1542,
    "start_time": "2022-05-17T10:41:59.052Z"
   },
   {
    "duration": 100,
    "start_time": "2022-05-17T10:42:00.597Z"
   },
   {
    "duration": 5,
    "start_time": "2022-05-17T10:42:00.699Z"
   },
   {
    "duration": 15,
    "start_time": "2022-05-17T10:42:00.706Z"
   },
   {
    "duration": 16,
    "start_time": "2022-05-17T10:42:00.723Z"
   },
   {
    "duration": 17,
    "start_time": "2022-05-17T10:42:00.740Z"
   },
   {
    "duration": 18,
    "start_time": "2022-05-17T10:42:00.771Z"
   },
   {
    "duration": 235,
    "start_time": "2022-05-17T10:42:00.791Z"
   },
   {
    "duration": 10,
    "start_time": "2022-05-17T10:42:01.027Z"
   },
   {
    "duration": 133,
    "start_time": "2022-05-17T10:42:01.040Z"
   },
   {
    "duration": 36,
    "start_time": "2022-05-17T10:42:01.176Z"
   },
   {
    "duration": 10,
    "start_time": "2022-05-17T10:42:01.214Z"
   },
   {
    "duration": 12,
    "start_time": "2022-05-17T10:42:01.225Z"
   },
   {
    "duration": 20,
    "start_time": "2022-05-17T10:42:01.239Z"
   },
   {
    "duration": 9,
    "start_time": "2022-05-17T10:42:01.261Z"
   },
   {
    "duration": 25,
    "start_time": "2022-05-17T10:42:01.272Z"
   },
   {
    "duration": 19,
    "start_time": "2022-05-17T10:42:01.299Z"
   },
   {
    "duration": 265,
    "start_time": "2022-05-17T10:42:01.320Z"
   },
   {
    "duration": 255,
    "start_time": "2022-05-17T10:42:01.587Z"
   },
   {
    "duration": 181,
    "start_time": "2022-05-17T10:42:01.843Z"
   },
   {
    "duration": 352,
    "start_time": "2022-05-17T10:42:02.026Z"
   },
   {
    "duration": 180,
    "start_time": "2022-05-17T10:42:02.380Z"
   },
   {
    "duration": 284,
    "start_time": "2022-05-17T10:42:02.561Z"
   },
   {
    "duration": 124,
    "start_time": "2022-05-17T10:42:02.847Z"
   },
   {
    "duration": 5,
    "start_time": "2022-05-17T10:42:02.972Z"
   },
   {
    "duration": 142,
    "start_time": "2022-05-17T10:42:02.979Z"
   },
   {
    "duration": 8,
    "start_time": "2022-05-17T10:42:03.123Z"
   },
   {
    "duration": 6,
    "start_time": "2022-05-17T10:42:03.134Z"
   },
   {
    "duration": 137,
    "start_time": "2022-05-17T10:42:03.142Z"
   },
   {
    "duration": 14,
    "start_time": "2022-05-17T10:42:03.281Z"
   },
   {
    "duration": 9,
    "start_time": "2022-05-17T10:42:03.297Z"
   },
   {
    "duration": 27,
    "start_time": "2022-05-17T10:42:03.308Z"
   },
   {
    "duration": 19,
    "start_time": "2022-05-17T10:42:03.373Z"
   },
   {
    "duration": 94,
    "start_time": "2022-05-17T10:42:32.716Z"
   },
   {
    "duration": 6,
    "start_time": "2022-05-17T10:44:09.758Z"
   },
   {
    "duration": 5,
    "start_time": "2022-05-17T10:44:25.845Z"
   },
   {
    "duration": 167,
    "start_time": "2022-05-17T10:45:54.243Z"
   },
   {
    "duration": 178,
    "start_time": "2022-05-17T10:46:01.287Z"
   },
   {
    "duration": 167,
    "start_time": "2022-05-17T10:47:08.884Z"
   },
   {
    "duration": 104,
    "start_time": "2022-05-17T10:54:37.852Z"
   },
   {
    "duration": 108,
    "start_time": "2022-05-17T10:55:05.199Z"
   },
   {
    "duration": 237,
    "start_time": "2022-05-17T11:03:18.605Z"
   },
   {
    "duration": 149,
    "start_time": "2022-05-17T11:03:57.249Z"
   },
   {
    "duration": 249,
    "start_time": "2022-05-17T11:04:29.624Z"
   },
   {
    "duration": 107,
    "start_time": "2022-05-17T11:05:02.319Z"
   },
   {
    "duration": 121,
    "start_time": "2022-05-17T11:05:44.981Z"
   },
   {
    "duration": 121,
    "start_time": "2022-05-17T11:06:46.165Z"
   },
   {
    "duration": 190,
    "start_time": "2022-05-17T11:06:57.662Z"
   },
   {
    "duration": 113,
    "start_time": "2022-05-17T11:07:20.598Z"
   },
   {
    "duration": 122,
    "start_time": "2022-05-17T11:07:26.337Z"
   },
   {
    "duration": 1033,
    "start_time": "2022-05-17T11:22:04.567Z"
   },
   {
    "duration": 70,
    "start_time": "2022-05-17T11:22:05.602Z"
   },
   {
    "duration": 6,
    "start_time": "2022-05-17T11:22:05.674Z"
   },
   {
    "duration": 17,
    "start_time": "2022-05-17T11:22:05.683Z"
   },
   {
    "duration": 10,
    "start_time": "2022-05-17T11:22:05.701Z"
   },
   {
    "duration": 10,
    "start_time": "2022-05-17T11:22:05.712Z"
   },
   {
    "duration": 13,
    "start_time": "2022-05-17T11:22:05.724Z"
   },
   {
    "duration": 187,
    "start_time": "2022-05-17T11:22:05.738Z"
   },
   {
    "duration": 11,
    "start_time": "2022-05-17T11:22:05.926Z"
   },
   {
    "duration": 130,
    "start_time": "2022-05-17T11:22:05.940Z"
   },
   {
    "duration": 39,
    "start_time": "2022-05-17T11:22:06.073Z"
   },
   {
    "duration": 10,
    "start_time": "2022-05-17T11:22:06.113Z"
   },
   {
    "duration": 7,
    "start_time": "2022-05-17T11:22:06.125Z"
   },
   {
    "duration": 16,
    "start_time": "2022-05-17T11:22:06.134Z"
   },
   {
    "duration": 10,
    "start_time": "2022-05-17T11:22:06.152Z"
   },
   {
    "duration": 7,
    "start_time": "2022-05-17T11:22:06.172Z"
   },
   {
    "duration": 16,
    "start_time": "2022-05-17T11:22:06.181Z"
   },
   {
    "duration": 6,
    "start_time": "2022-05-17T11:22:06.199Z"
   },
   {
    "duration": 292,
    "start_time": "2022-05-17T11:22:06.206Z"
   },
   {
    "duration": 255,
    "start_time": "2022-05-17T11:22:06.499Z"
   },
   {
    "duration": 186,
    "start_time": "2022-05-17T11:22:06.755Z"
   },
   {
    "duration": 307,
    "start_time": "2022-05-17T11:22:06.943Z"
   },
   {
    "duration": 184,
    "start_time": "2022-05-17T11:22:07.252Z"
   },
   {
    "duration": 305,
    "start_time": "2022-05-17T11:22:07.437Z"
   },
   {
    "duration": 130,
    "start_time": "2022-05-17T11:22:07.744Z"
   },
   {
    "duration": 5,
    "start_time": "2022-05-17T11:22:07.875Z"
   },
   {
    "duration": 145,
    "start_time": "2022-05-17T11:22:07.883Z"
   },
   {
    "duration": 9,
    "start_time": "2022-05-17T11:22:08.031Z"
   },
   {
    "duration": 6,
    "start_time": "2022-05-17T11:22:08.042Z"
   },
   {
    "duration": 142,
    "start_time": "2022-05-17T11:22:08.050Z"
   },
   {
    "duration": 12,
    "start_time": "2022-05-17T11:22:08.194Z"
   },
   {
    "duration": 8,
    "start_time": "2022-05-17T11:22:08.208Z"
   },
   {
    "duration": 57,
    "start_time": "2022-05-17T11:22:08.218Z"
   },
   {
    "duration": 17,
    "start_time": "2022-05-17T11:22:08.277Z"
   },
   {
    "duration": 1029,
    "start_time": "2022-05-17T11:23:00.286Z"
   },
   {
    "duration": 78,
    "start_time": "2022-05-17T11:23:01.317Z"
   },
   {
    "duration": 5,
    "start_time": "2022-05-17T11:23:01.396Z"
   },
   {
    "duration": 22,
    "start_time": "2022-05-17T11:23:01.403Z"
   },
   {
    "duration": 11,
    "start_time": "2022-05-17T11:23:01.427Z"
   },
   {
    "duration": 15,
    "start_time": "2022-05-17T11:23:01.439Z"
   },
   {
    "duration": 29,
    "start_time": "2022-05-17T11:23:01.456Z"
   },
   {
    "duration": 160,
    "start_time": "2022-05-17T11:23:01.487Z"
   },
   {
    "duration": 11,
    "start_time": "2022-05-17T11:23:01.648Z"
   },
   {
    "duration": 138,
    "start_time": "2022-05-17T11:23:01.662Z"
   },
   {
    "duration": 29,
    "start_time": "2022-05-17T11:23:01.801Z"
   },
   {
    "duration": 9,
    "start_time": "2022-05-17T11:23:01.832Z"
   },
   {
    "duration": 10,
    "start_time": "2022-05-17T11:23:01.842Z"
   },
   {
    "duration": 25,
    "start_time": "2022-05-17T11:23:01.854Z"
   },
   {
    "duration": 12,
    "start_time": "2022-05-17T11:23:01.881Z"
   },
   {
    "duration": 7,
    "start_time": "2022-05-17T11:23:01.894Z"
   },
   {
    "duration": 12,
    "start_time": "2022-05-17T11:23:01.902Z"
   },
   {
    "duration": 5,
    "start_time": "2022-05-17T11:23:01.915Z"
   },
   {
    "duration": 293,
    "start_time": "2022-05-17T11:23:01.922Z"
   },
   {
    "duration": 248,
    "start_time": "2022-05-17T11:23:02.216Z"
   },
   {
    "duration": 176,
    "start_time": "2022-05-17T11:23:02.471Z"
   },
   {
    "duration": 322,
    "start_time": "2022-05-17T11:23:02.649Z"
   },
   {
    "duration": 173,
    "start_time": "2022-05-17T11:23:02.973Z"
   },
   {
    "duration": 308,
    "start_time": "2022-05-17T11:23:03.148Z"
   },
   {
    "duration": 136,
    "start_time": "2022-05-17T11:23:03.458Z"
   },
   {
    "duration": 4,
    "start_time": "2022-05-17T11:23:03.596Z"
   },
   {
    "duration": 140,
    "start_time": "2022-05-17T11:23:03.601Z"
   },
   {
    "duration": 9,
    "start_time": "2022-05-17T11:23:03.744Z"
   },
   {
    "duration": 18,
    "start_time": "2022-05-17T11:23:03.754Z"
   },
   {
    "duration": 135,
    "start_time": "2022-05-17T11:23:03.774Z"
   },
   {
    "duration": 11,
    "start_time": "2022-05-17T11:23:03.911Z"
   },
   {
    "duration": 9,
    "start_time": "2022-05-17T11:23:03.923Z"
   },
   {
    "duration": 63,
    "start_time": "2022-05-17T11:23:03.933Z"
   },
   {
    "duration": 13,
    "start_time": "2022-05-17T11:23:03.998Z"
   },
   {
    "duration": 113,
    "start_time": "2022-05-17T11:41:42.785Z"
   },
   {
    "duration": 4,
    "start_time": "2022-05-17T11:44:57.188Z"
   },
   {
    "duration": 6,
    "start_time": "2022-05-17T11:48:49.927Z"
   },
   {
    "duration": 4,
    "start_time": "2022-05-17T11:49:32.582Z"
   },
   {
    "duration": 9,
    "start_time": "2022-05-17T12:41:34.449Z"
   },
   {
    "duration": 73,
    "start_time": "2022-05-17T16:29:18.568Z"
   },
   {
    "duration": 1691,
    "start_time": "2022-05-17T16:29:24.754Z"
   },
   {
    "duration": 91,
    "start_time": "2022-05-17T16:29:26.448Z"
   },
   {
    "duration": 19,
    "start_time": "2022-05-17T16:29:26.542Z"
   },
   {
    "duration": 17,
    "start_time": "2022-05-17T16:29:26.564Z"
   },
   {
    "duration": 14,
    "start_time": "2022-05-17T16:29:26.586Z"
   },
   {
    "duration": 59,
    "start_time": "2022-05-17T16:29:26.603Z"
   },
   {
    "duration": 28,
    "start_time": "2022-05-17T16:29:26.665Z"
   },
   {
    "duration": 262,
    "start_time": "2022-05-17T16:29:26.696Z"
   },
   {
    "duration": 17,
    "start_time": "2022-05-17T16:29:26.961Z"
   },
   {
    "duration": 249,
    "start_time": "2022-05-17T16:29:26.980Z"
   },
   {
    "duration": 36,
    "start_time": "2022-05-17T16:29:27.231Z"
   },
   {
    "duration": 15,
    "start_time": "2022-05-17T16:29:27.269Z"
   },
   {
    "duration": 10,
    "start_time": "2022-05-17T16:29:27.286Z"
   },
   {
    "duration": 27,
    "start_time": "2022-05-17T16:29:27.300Z"
   },
   {
    "duration": 45,
    "start_time": "2022-05-17T16:29:27.329Z"
   },
   {
    "duration": 11,
    "start_time": "2022-05-17T16:29:27.376Z"
   },
   {
    "duration": 12,
    "start_time": "2022-05-17T16:29:27.389Z"
   },
   {
    "duration": 9,
    "start_time": "2022-05-17T16:29:27.403Z"
   },
   {
    "duration": 473,
    "start_time": "2022-05-17T16:29:27.414Z"
   },
   {
    "duration": 425,
    "start_time": "2022-05-17T16:29:27.889Z"
   },
   {
    "duration": 305,
    "start_time": "2022-05-17T16:29:28.316Z"
   },
   {
    "duration": 516,
    "start_time": "2022-05-17T16:29:28.624Z"
   },
   {
    "duration": 326,
    "start_time": "2022-05-17T16:29:29.142Z"
   },
   {
    "duration": 375,
    "start_time": "2022-05-17T16:29:29.470Z"
   },
   {
    "duration": 207,
    "start_time": "2022-05-17T16:29:29.848Z"
   },
   {
    "duration": 7,
    "start_time": "2022-05-17T16:29:30.059Z"
   },
   {
    "duration": 313,
    "start_time": "2022-05-17T16:29:30.068Z"
   },
   {
    "duration": 14,
    "start_time": "2022-05-17T16:29:30.383Z"
   },
   {
    "duration": 28,
    "start_time": "2022-05-17T16:29:30.400Z"
   },
   {
    "duration": 150,
    "start_time": "2022-05-17T16:29:30.431Z"
   },
   {
    "duration": 16,
    "start_time": "2022-05-17T16:29:30.583Z"
   },
   {
    "duration": 61,
    "start_time": "2022-05-17T16:29:30.601Z"
   },
   {
    "duration": 59,
    "start_time": "2022-05-17T16:29:30.664Z"
   },
   {
    "duration": 25,
    "start_time": "2022-05-17T16:29:30.726Z"
   },
   {
    "duration": 5,
    "start_time": "2022-05-18T08:53:29.499Z"
   },
   {
    "duration": 66,
    "start_time": "2022-05-18T08:53:29.505Z"
   },
   {
    "duration": 6,
    "start_time": "2022-05-18T08:53:29.573Z"
   },
   {
    "duration": 13,
    "start_time": "2022-05-18T08:53:29.580Z"
   },
   {
    "duration": 10,
    "start_time": "2022-05-18T08:53:29.594Z"
   },
   {
    "duration": 11,
    "start_time": "2022-05-18T08:53:29.606Z"
   },
   {
    "duration": 35,
    "start_time": "2022-05-18T08:53:29.618Z"
   },
   {
    "duration": 178,
    "start_time": "2022-05-18T08:53:29.655Z"
   },
   {
    "duration": 12,
    "start_time": "2022-05-18T08:53:29.841Z"
   },
   {
    "duration": 164,
    "start_time": "2022-05-18T08:53:29.855Z"
   },
   {
    "duration": 43,
    "start_time": "2022-05-18T08:53:30.021Z"
   },
   {
    "duration": 11,
    "start_time": "2022-05-18T08:53:30.066Z"
   },
   {
    "duration": 12,
    "start_time": "2022-05-18T08:53:30.078Z"
   },
   {
    "duration": 42,
    "start_time": "2022-05-18T08:53:30.092Z"
   },
   {
    "duration": 12,
    "start_time": "2022-05-18T08:53:30.135Z"
   },
   {
    "duration": 19,
    "start_time": "2022-05-18T08:53:30.148Z"
   },
   {
    "duration": 25,
    "start_time": "2022-05-18T08:53:30.169Z"
   },
   {
    "duration": 17,
    "start_time": "2022-05-18T08:53:30.196Z"
   },
   {
    "duration": 289,
    "start_time": "2022-05-18T08:53:30.215Z"
   },
   {
    "duration": 224,
    "start_time": "2022-05-18T08:53:30.506Z"
   },
   {
    "duration": 308,
    "start_time": "2022-05-18T08:53:30.741Z"
   },
   {
    "duration": 312,
    "start_time": "2022-05-18T08:53:31.051Z"
   },
   {
    "duration": 215,
    "start_time": "2022-05-18T08:53:31.365Z"
   },
   {
    "duration": 306,
    "start_time": "2022-05-18T08:53:31.582Z"
   },
   {
    "duration": 163,
    "start_time": "2022-05-18T08:53:31.890Z"
   },
   {
    "duration": 5,
    "start_time": "2022-05-18T08:53:32.055Z"
   },
   {
    "duration": 163,
    "start_time": "2022-05-18T08:53:32.063Z"
   },
   {
    "duration": 20,
    "start_time": "2022-05-18T08:53:32.228Z"
   },
   {
    "duration": 7,
    "start_time": "2022-05-18T08:53:32.250Z"
   },
   {
    "duration": 45,
    "start_time": "2022-05-18T08:53:32.258Z"
   },
   {
    "duration": 38,
    "start_time": "2022-05-18T08:53:32.305Z"
   },
   {
    "duration": 11,
    "start_time": "2022-05-18T08:53:32.346Z"
   },
   {
    "duration": 36,
    "start_time": "2022-05-18T08:53:32.359Z"
   },
   {
    "duration": 49,
    "start_time": "2022-05-18T08:53:32.397Z"
   },
   {
    "duration": 65,
    "start_time": "2022-05-19T07:04:50.061Z"
   },
   {
    "duration": 48,
    "start_time": "2022-07-25T11:51:30.271Z"
   },
   {
    "duration": 1065,
    "start_time": "2022-07-25T11:51:35.160Z"
   },
   {
    "duration": 131,
    "start_time": "2022-07-25T11:51:36.228Z"
   },
   {
    "duration": 8,
    "start_time": "2022-07-25T11:51:36.361Z"
   },
   {
    "duration": 14,
    "start_time": "2022-07-25T11:51:36.371Z"
   },
   {
    "duration": 18,
    "start_time": "2022-07-25T11:51:36.386Z"
   },
   {
    "duration": 24,
    "start_time": "2022-07-25T11:51:36.406Z"
   },
   {
    "duration": 42,
    "start_time": "2022-07-25T11:51:36.432Z"
   },
   {
    "duration": 183,
    "start_time": "2022-07-25T11:51:36.476Z"
   },
   {
    "duration": 14,
    "start_time": "2022-07-25T11:51:36.661Z"
   },
   {
    "duration": 159,
    "start_time": "2022-07-25T11:51:36.677Z"
   },
   {
    "duration": 92,
    "start_time": "2022-07-25T11:51:36.837Z"
   },
   {
    "duration": 10,
    "start_time": "2022-07-25T11:51:36.931Z"
   },
   {
    "duration": 52,
    "start_time": "2022-07-25T11:51:36.942Z"
   },
   {
    "duration": 82,
    "start_time": "2022-07-25T11:51:36.996Z"
   },
   {
    "duration": 10,
    "start_time": "2022-07-25T11:51:37.080Z"
   },
   {
    "duration": 31,
    "start_time": "2022-07-25T11:51:37.092Z"
   },
   {
    "duration": 22,
    "start_time": "2022-07-25T11:51:37.125Z"
   },
   {
    "duration": 30,
    "start_time": "2022-07-25T11:51:37.149Z"
   },
   {
    "duration": 273,
    "start_time": "2022-07-25T11:51:37.180Z"
   },
   {
    "duration": 284,
    "start_time": "2022-07-25T11:51:37.454Z"
   },
   {
    "duration": 189,
    "start_time": "2022-07-25T11:51:37.740Z"
   },
   {
    "duration": 329,
    "start_time": "2022-07-25T11:51:37.931Z"
   },
   {
    "duration": 192,
    "start_time": "2022-07-25T11:51:38.263Z"
   },
   {
    "duration": 297,
    "start_time": "2022-07-25T11:51:38.457Z"
   },
   {
    "duration": 175,
    "start_time": "2022-07-25T11:51:38.756Z"
   },
   {
    "duration": 5,
    "start_time": "2022-07-25T11:51:38.934Z"
   },
   {
    "duration": 209,
    "start_time": "2022-07-25T11:51:38.959Z"
   },
   {
    "duration": 18,
    "start_time": "2022-07-25T11:51:39.174Z"
   },
   {
    "duration": 14,
    "start_time": "2022-07-25T11:51:39.194Z"
   },
   {
    "duration": 158,
    "start_time": "2022-07-25T11:51:39.209Z"
   },
   {
    "duration": 34,
    "start_time": "2022-07-25T11:51:39.372Z"
   },
   {
    "duration": 13,
    "start_time": "2022-07-25T11:51:39.408Z"
   },
   {
    "duration": 39,
    "start_time": "2022-07-25T11:51:39.423Z"
   },
   {
    "duration": 15,
    "start_time": "2022-07-25T11:51:39.464Z"
   },
   {
    "duration": 954,
    "start_time": "2022-07-25T12:00:43.402Z"
   },
   {
    "duration": 87,
    "start_time": "2022-07-25T12:00:44.359Z"
   },
   {
    "duration": 5,
    "start_time": "2022-07-25T12:00:44.447Z"
   },
   {
    "duration": 15,
    "start_time": "2022-07-25T12:00:44.453Z"
   },
   {
    "duration": 13,
    "start_time": "2022-07-25T12:00:44.469Z"
   },
   {
    "duration": 30,
    "start_time": "2022-07-25T12:00:44.483Z"
   },
   {
    "duration": 38,
    "start_time": "2022-07-25T12:00:44.514Z"
   },
   {
    "duration": 152,
    "start_time": "2022-07-25T12:00:44.553Z"
   },
   {
    "duration": 11,
    "start_time": "2022-07-25T12:00:44.707Z"
   },
   {
    "duration": 134,
    "start_time": "2022-07-25T12:00:44.720Z"
   },
   {
    "duration": 39,
    "start_time": "2022-07-25T12:00:44.856Z"
   },
   {
    "duration": 9,
    "start_time": "2022-07-25T12:00:44.896Z"
   },
   {
    "duration": 38,
    "start_time": "2022-07-25T12:00:44.906Z"
   },
   {
    "duration": 58,
    "start_time": "2022-07-25T12:00:44.945Z"
   },
   {
    "duration": 9,
    "start_time": "2022-07-25T12:00:45.005Z"
   },
   {
    "duration": 26,
    "start_time": "2022-07-25T12:00:45.016Z"
   },
   {
    "duration": 30,
    "start_time": "2022-07-25T12:00:45.044Z"
   },
   {
    "duration": 27,
    "start_time": "2022-07-25T12:00:45.076Z"
   },
   {
    "duration": 261,
    "start_time": "2022-07-25T12:00:45.105Z"
   },
   {
    "duration": 280,
    "start_time": "2022-07-25T12:00:45.368Z"
   },
   {
    "duration": 186,
    "start_time": "2022-07-25T12:00:45.650Z"
   },
   {
    "duration": 296,
    "start_time": "2022-07-25T12:00:45.838Z"
   },
   {
    "duration": 177,
    "start_time": "2022-07-25T12:00:46.146Z"
   },
   {
    "duration": 309,
    "start_time": "2022-07-25T12:00:46.324Z"
   },
   {
    "duration": 134,
    "start_time": "2022-07-25T12:00:46.635Z"
   },
   {
    "duration": 5,
    "start_time": "2022-07-25T12:00:46.770Z"
   },
   {
    "duration": 154,
    "start_time": "2022-07-25T12:00:46.776Z"
   },
   {
    "duration": 9,
    "start_time": "2022-07-25T12:00:46.933Z"
   },
   {
    "duration": 26,
    "start_time": "2022-07-25T12:00:46.946Z"
   },
   {
    "duration": 119,
    "start_time": "2022-07-25T12:00:46.973Z"
   },
   {
    "duration": 16,
    "start_time": "2022-07-25T12:00:47.093Z"
   },
   {
    "duration": 18,
    "start_time": "2022-07-25T12:00:47.110Z"
   },
   {
    "duration": 45,
    "start_time": "2022-07-25T12:00:47.129Z"
   },
   {
    "duration": 21,
    "start_time": "2022-07-25T12:00:47.176Z"
   }
  ],
  "kernelspec": {
   "display_name": "Python 3 (ipykernel)",
   "language": "python",
   "name": "python3"
  },
  "language_info": {
   "codemirror_mode": {
    "name": "ipython",
    "version": 3
   },
   "file_extension": ".py",
   "mimetype": "text/x-python",
   "name": "python",
   "nbconvert_exporter": "python",
   "pygments_lexer": "ipython3",
   "version": "3.9.12"
  },
  "toc": {
   "base_numbering": 1,
   "nav_menu": {},
   "number_sections": true,
   "sideBar": true,
   "skip_h1_title": true,
   "title_cell": "Table of Contents",
   "title_sidebar": "Contents",
   "toc_cell": false,
   "toc_position": {
    "height": "697.333px",
    "left": "68px",
    "top": "111.139px",
    "width": "310.042px"
   },
   "toc_section_display": true,
   "toc_window_display": true
  }
 },
 "nbformat": 4,
 "nbformat_minor": 2
}
